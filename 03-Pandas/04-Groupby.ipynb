{
 "metadata": {
  "language_info": {
   "codemirror_mode": {
    "name": "ipython",
    "version": 3
   },
   "file_extension": ".py",
   "mimetype": "text/x-python",
   "name": "python",
   "nbconvert_exporter": "python",
   "pygments_lexer": "ipython3",
   "version": "3.8.5-final"
  },
  "orig_nbformat": 2,
  "kernelspec": {
   "name": "Python 3.8.5 32-bit",
   "display_name": "Python 3.8.5 32-bit",
   "metadata": {
    "interpreter": {
     "hash": "1aee9c38f59a613e63b2aeb0bbf7f9192b688c9f8d1a94afbbd99ee7e18d96da"
    }
   }
  }
 },
 "nbformat": 4,
 "nbformat_minor": 2,
 "cells": [
  {
   "source": [
    "# Groupby\n",
    "\n",
    "The groupby method allows you to group rows of data together and call aggregate functions"
   ],
   "cell_type": "markdown",
   "metadata": {}
  },
  {
   "cell_type": "code",
   "execution_count": 2,
   "metadata": {},
   "outputs": [],
   "source": [
    "import pandas as pd"
   ]
  },
  {
   "cell_type": "code",
   "execution_count": 3,
   "metadata": {},
   "outputs": [],
   "source": [
    "# Create dataframe\n",
    "data = {'Company': ['GOOG', 'GOOG', 'MSFT', 'MSFT', 'FB', 'FB'],\n",
    "       'Person': ['Sam', 'Charlie', 'Amy', 'Vanessa', 'Carl', 'Sarah'],\n",
    "       'Sales': [200, 120, 340, 124, 243, 350]}\n",
    "\n",
    "df = pd.DataFrame(data)"
   ]
  },
  {
   "cell_type": "code",
   "execution_count": 3,
   "metadata": {},
   "outputs": [
    {
     "output_type": "execute_result",
     "data": {
      "text/plain": "  Company   Person  Sales\n0    GOOG      Sam    200\n1    GOOG  Charlie    120\n2    MSFT      Amy    340\n3    MSFT  Vanessa    124\n4      FB     Carl    243\n5      FB    Sarah    350",
      "text/html": "<div>\n<style scoped>\n    .dataframe tbody tr th:only-of-type {\n        vertical-align: middle;\n    }\n\n    .dataframe tbody tr th {\n        vertical-align: top;\n    }\n\n    .dataframe thead th {\n        text-align: right;\n    }\n</style>\n<table border=\"1\" class=\"dataframe\">\n  <thead>\n    <tr style=\"text-align: right;\">\n      <th></th>\n      <th>Company</th>\n      <th>Person</th>\n      <th>Sales</th>\n    </tr>\n  </thead>\n  <tbody>\n    <tr>\n      <th>0</th>\n      <td>GOOG</td>\n      <td>Sam</td>\n      <td>200</td>\n    </tr>\n    <tr>\n      <th>1</th>\n      <td>GOOG</td>\n      <td>Charlie</td>\n      <td>120</td>\n    </tr>\n    <tr>\n      <th>2</th>\n      <td>MSFT</td>\n      <td>Amy</td>\n      <td>340</td>\n    </tr>\n    <tr>\n      <th>3</th>\n      <td>MSFT</td>\n      <td>Vanessa</td>\n      <td>124</td>\n    </tr>\n    <tr>\n      <th>4</th>\n      <td>FB</td>\n      <td>Carl</td>\n      <td>243</td>\n    </tr>\n    <tr>\n      <th>5</th>\n      <td>FB</td>\n      <td>Sarah</td>\n      <td>350</td>\n    </tr>\n  </tbody>\n</table>\n</div>"
     },
     "metadata": {},
     "execution_count": 3
    }
   ],
   "source": [
    "df"
   ]
  },
  {
   "source": [
    "** Now you can use the .groupby() method to group rows together based off of a column name. For instance let's group based off of Company. This will create a DataFrameGroupBy object:**"
   ],
   "cell_type": "markdown",
   "metadata": {}
  },
  {
   "cell_type": "code",
   "execution_count": 4,
   "metadata": {},
   "outputs": [
    {
     "output_type": "execute_result",
     "data": {
      "text/plain": "&lt;pandas.core.groupby.generic.DataFrameGroupBy object at 0x0F7F0B38&gt;"
     },
     "metadata": {},
     "execution_count": 4
    }
   ],
   "source": [
    "df.groupby('Company')"
   ]
  },
  {
   "source": [
    "You can save this object as a new variable:"
   ],
   "cell_type": "markdown",
   "metadata": {}
  },
  {
   "cell_type": "code",
   "execution_count": 5,
   "metadata": {},
   "outputs": [],
   "source": [
    "by_comp = df.groupby('Company')"
   ]
  },
  {
   "source": [
    "And then call aggregate methods off the object:"
   ],
   "cell_type": "markdown",
   "metadata": {}
  },
  {
   "cell_type": "code",
   "execution_count": 6,
   "metadata": {},
   "outputs": [
    {
     "output_type": "execute_result",
     "data": {
      "text/plain": "         Sales\nCompany       \nFB       296.5\nGOOG     160.0\nMSFT     232.0",
      "text/html": "<div>\n<style scoped>\n    .dataframe tbody tr th:only-of-type {\n        vertical-align: middle;\n    }\n\n    .dataframe tbody tr th {\n        vertical-align: top;\n    }\n\n    .dataframe thead th {\n        text-align: right;\n    }\n</style>\n<table border=\"1\" class=\"dataframe\">\n  <thead>\n    <tr style=\"text-align: right;\">\n      <th></th>\n      <th>Sales</th>\n    </tr>\n    <tr>\n      <th>Company</th>\n      <th></th>\n    </tr>\n  </thead>\n  <tbody>\n    <tr>\n      <th>FB</th>\n      <td>296.5</td>\n    </tr>\n    <tr>\n      <th>GOOG</th>\n      <td>160.0</td>\n    </tr>\n    <tr>\n      <th>MSFT</th>\n      <td>232.0</td>\n    </tr>\n  </tbody>\n</table>\n</div>"
     },
     "metadata": {},
     "execution_count": 6
    }
   ],
   "source": [
    "by_comp.mean()"
   ]
  },
  {
   "source": [
    "More examples of aggregate methods:"
   ],
   "cell_type": "markdown",
   "metadata": {}
  },
  {
   "cell_type": "code",
   "execution_count": 7,
   "metadata": {},
   "outputs": [
    {
     "output_type": "execute_result",
     "data": {
      "text/plain": "              Sales\nCompany            \nFB        75.660426\nGOOG      56.568542\nMSFT     152.735065",
      "text/html": "<div>\n<style scoped>\n    .dataframe tbody tr th:only-of-type {\n        vertical-align: middle;\n    }\n\n    .dataframe tbody tr th {\n        vertical-align: top;\n    }\n\n    .dataframe thead th {\n        text-align: right;\n    }\n</style>\n<table border=\"1\" class=\"dataframe\">\n  <thead>\n    <tr style=\"text-align: right;\">\n      <th></th>\n      <th>Sales</th>\n    </tr>\n    <tr>\n      <th>Company</th>\n      <th></th>\n    </tr>\n  </thead>\n  <tbody>\n    <tr>\n      <th>FB</th>\n      <td>75.660426</td>\n    </tr>\n    <tr>\n      <th>GOOG</th>\n      <td>56.568542</td>\n    </tr>\n    <tr>\n      <th>MSFT</th>\n      <td>152.735065</td>\n    </tr>\n  </tbody>\n</table>\n</div>"
     },
     "metadata": {},
     "execution_count": 7
    }
   ],
   "source": [
    "by_comp.std()"
   ]
  },
  {
   "cell_type": "code",
   "execution_count": 8,
   "metadata": {},
   "outputs": [
    {
     "output_type": "execute_result",
     "data": {
      "text/plain": "          Person  Sales\nCompany                \nFB          Carl    243\nGOOG     Charlie    120\nMSFT         Amy    124",
      "text/html": "<div>\n<style scoped>\n    .dataframe tbody tr th:only-of-type {\n        vertical-align: middle;\n    }\n\n    .dataframe tbody tr th {\n        vertical-align: top;\n    }\n\n    .dataframe thead th {\n        text-align: right;\n    }\n</style>\n<table border=\"1\" class=\"dataframe\">\n  <thead>\n    <tr style=\"text-align: right;\">\n      <th></th>\n      <th>Person</th>\n      <th>Sales</th>\n    </tr>\n    <tr>\n      <th>Company</th>\n      <th></th>\n      <th></th>\n    </tr>\n  </thead>\n  <tbody>\n    <tr>\n      <th>FB</th>\n      <td>Carl</td>\n      <td>243</td>\n    </tr>\n    <tr>\n      <th>GOOG</th>\n      <td>Charlie</td>\n      <td>120</td>\n    </tr>\n    <tr>\n      <th>MSFT</th>\n      <td>Amy</td>\n      <td>124</td>\n    </tr>\n  </tbody>\n</table>\n</div>"
     },
     "metadata": {},
     "execution_count": 8
    }
   ],
   "source": [
    "by_comp.min()"
   ]
  },
  {
   "cell_type": "code",
   "execution_count": 9,
   "metadata": {},
   "outputs": [
    {
     "output_type": "execute_result",
     "data": {
      "text/plain": "          Person  Sales\nCompany                \nFB         Sarah    350\nGOOG         Sam    200\nMSFT     Vanessa    340",
      "text/html": "<div>\n<style scoped>\n    .dataframe tbody tr th:only-of-type {\n        vertical-align: middle;\n    }\n\n    .dataframe tbody tr th {\n        vertical-align: top;\n    }\n\n    .dataframe thead th {\n        text-align: right;\n    }\n</style>\n<table border=\"1\" class=\"dataframe\">\n  <thead>\n    <tr style=\"text-align: right;\">\n      <th></th>\n      <th>Person</th>\n      <th>Sales</th>\n    </tr>\n    <tr>\n      <th>Company</th>\n      <th></th>\n      <th></th>\n    </tr>\n  </thead>\n  <tbody>\n    <tr>\n      <th>FB</th>\n      <td>Sarah</td>\n      <td>350</td>\n    </tr>\n    <tr>\n      <th>GOOG</th>\n      <td>Sam</td>\n      <td>200</td>\n    </tr>\n    <tr>\n      <th>MSFT</th>\n      <td>Vanessa</td>\n      <td>340</td>\n    </tr>\n  </tbody>\n</table>\n</div>"
     },
     "metadata": {},
     "execution_count": 9
    }
   ],
   "source": [
    "by_comp.max()"
   ]
  },
  {
   "cell_type": "code",
   "execution_count": 10,
   "metadata": {},
   "outputs": [
    {
     "output_type": "execute_result",
     "data": {
      "text/plain": "         Person  Sales\nCompany               \nFB            2      2\nGOOG          2      2\nMSFT          2      2",
      "text/html": "<div>\n<style scoped>\n    .dataframe tbody tr th:only-of-type {\n        vertical-align: middle;\n    }\n\n    .dataframe tbody tr th {\n        vertical-align: top;\n    }\n\n    .dataframe thead th {\n        text-align: right;\n    }\n</style>\n<table border=\"1\" class=\"dataframe\">\n  <thead>\n    <tr style=\"text-align: right;\">\n      <th></th>\n      <th>Person</th>\n      <th>Sales</th>\n    </tr>\n    <tr>\n      <th>Company</th>\n      <th></th>\n      <th></th>\n    </tr>\n  </thead>\n  <tbody>\n    <tr>\n      <th>FB</th>\n      <td>2</td>\n      <td>2</td>\n    </tr>\n    <tr>\n      <th>GOOG</th>\n      <td>2</td>\n      <td>2</td>\n    </tr>\n    <tr>\n      <th>MSFT</th>\n      <td>2</td>\n      <td>2</td>\n    </tr>\n  </tbody>\n</table>\n</div>"
     },
     "metadata": {},
     "execution_count": 10
    }
   ],
   "source": [
    "by_comp.count()"
   ]
  },
  {
   "cell_type": "code",
   "execution_count": 11,
   "metadata": {},
   "outputs": [
    {
     "output_type": "execute_result",
     "data": {
      "text/plain": "        Sales                                                        \n        count   mean         std    min     25%    50%     75%    max\nCompany                                                              \nFB        2.0  296.5   75.660426  243.0  269.75  296.5  323.25  350.0\nGOOG      2.0  160.0   56.568542  120.0  140.00  160.0  180.00  200.0\nMSFT      2.0  232.0  152.735065  124.0  178.00  232.0  286.00  340.0",
      "text/html": "<div>\n<style scoped>\n    .dataframe tbody tr th:only-of-type {\n        vertical-align: middle;\n    }\n\n    .dataframe tbody tr th {\n        vertical-align: top;\n    }\n\n    .dataframe thead tr th {\n        text-align: left;\n    }\n\n    .dataframe thead tr:last-of-type th {\n        text-align: right;\n    }\n</style>\n<table border=\"1\" class=\"dataframe\">\n  <thead>\n    <tr>\n      <th></th>\n      <th colspan=\"8\" halign=\"left\">Sales</th>\n    </tr>\n    <tr>\n      <th></th>\n      <th>count</th>\n      <th>mean</th>\n      <th>std</th>\n      <th>min</th>\n      <th>25%</th>\n      <th>50%</th>\n      <th>75%</th>\n      <th>max</th>\n    </tr>\n    <tr>\n      <th>Company</th>\n      <th></th>\n      <th></th>\n      <th></th>\n      <th></th>\n      <th></th>\n      <th></th>\n      <th></th>\n      <th></th>\n    </tr>\n  </thead>\n  <tbody>\n    <tr>\n      <th>FB</th>\n      <td>2.0</td>\n      <td>296.5</td>\n      <td>75.660426</td>\n      <td>243.0</td>\n      <td>269.75</td>\n      <td>296.5</td>\n      <td>323.25</td>\n      <td>350.0</td>\n    </tr>\n    <tr>\n      <th>GOOG</th>\n      <td>2.0</td>\n      <td>160.0</td>\n      <td>56.568542</td>\n      <td>120.0</td>\n      <td>140.00</td>\n      <td>160.0</td>\n      <td>180.00</td>\n      <td>200.0</td>\n    </tr>\n    <tr>\n      <th>MSFT</th>\n      <td>2.0</td>\n      <td>232.0</td>\n      <td>152.735065</td>\n      <td>124.0</td>\n      <td>178.00</td>\n      <td>232.0</td>\n      <td>286.00</td>\n      <td>340.0</td>\n    </tr>\n  </tbody>\n</table>\n</div>"
     },
     "metadata": {},
     "execution_count": 11
    }
   ],
   "source": [
    "by_comp.describe()"
   ]
  },
  {
   "cell_type": "code",
   "execution_count": 4,
   "metadata": {},
   "outputs": [
    {
     "output_type": "execute_result",
     "data": {
      "text/plain": "Sales    593\nName: FB, dtype: int64"
     },
     "metadata": {},
     "execution_count": 4
    }
   ],
   "source": [
    "# This is how you'll eventually use groupby\n",
    "df.groupby('Company').sum().loc['FB']"
   ]
  },
  {
   "cell_type": "code",
   "execution_count": null,
   "metadata": {},
   "outputs": [],
   "source": []
  }
 ]
}
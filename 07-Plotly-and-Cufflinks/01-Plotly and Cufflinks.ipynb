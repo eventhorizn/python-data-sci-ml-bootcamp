{
 "metadata": {
  "language_info": {
   "codemirror_mode": {
    "name": "ipython",
    "version": 3
   },
   "file_extension": ".py",
   "mimetype": "text/x-python",
   "name": "python",
   "nbconvert_exporter": "python",
   "pygments_lexer": "ipython3",
   "version": "3.8.5-final"
  },
  "orig_nbformat": 2,
  "kernelspec": {
   "name": "Python 3.8.5 32-bit",
   "display_name": "Python 3.8.5 32-bit",
   "metadata": {
    "interpreter": {
     "hash": "1aee9c38f59a613e63b2aeb0bbf7f9192b688c9f8d1a94afbbd99ee7e18d96da"
    }
   }
  }
 },
 "nbformat": 4,
 "nbformat_minor": 2,
 "cells": [
  {
   "source": [
    "# Plotly and Cufflinks"
   ],
   "cell_type": "markdown",
   "metadata": {}
  },
  {
   "source": [
    "Plotly is a library that allows you to create interactive plots that you can use in dashboards or websites (you can save them as html files or static images).\n",
    "\n",
    "## Installation\n",
    "\n",
    "In order for this all to work, you'll need to install plotly and cufflinks to call plots directly off of a pandas dataframe. These libraries are not currently available through **conda** but are available through **pip**. Install the libraries at your command line/terminal using:\n",
    "\n",
    "    pip install plotly\n",
    "    pip install cufflinks\n",
    "\n",
    "Looks like plotly might be depreciated in favor of chart_studio.plotly. Maybe chart_studio bought them out?\n",
    "\n",
    "** NOTE: Make sure you only have one installation of Python on your computer when you do this, otherwise the installation may not work. **\n",
    "\n",
    "## Imports and Set-up"
   ],
   "cell_type": "markdown",
   "metadata": {}
  },
  {
   "cell_type": "code",
   "execution_count": 24,
   "metadata": {},
   "outputs": [],
   "source": [
    "import pandas as pd\n",
    "import numpy as np\n",
    "from plotly.offline import download_plotlyjs, init_notebook_mode, plot, iplot"
   ]
  },
  {
   "cell_type": "code",
   "execution_count": 25,
   "metadata": {},
   "outputs": [],
   "source": [
    "import cufflinks as cf"
   ]
  },
  {
   "cell_type": "code",
   "execution_count": 3,
   "metadata": {},
   "outputs": [
    {
     "output_type": "display_data",
     "data": {
      "text/html": "        <script type=\"text/javascript\">\n        window.PlotlyConfig = {MathJaxConfig: 'local'};\n        if (window.MathJax) {MathJax.Hub.Config({SVG: {font: \"STIX-Web\"}});}\n        if (typeof require !== 'undefined') {\n        require.undef(\"plotly\");\n        requirejs.config({\n            paths: {\n                'plotly': ['https://cdn.plot.ly/plotly-latest.min']\n            }\n        });\n        require(['plotly'], function(Plotly) {\n            window._Plotly = Plotly;\n        });\n        }\n        </script>\n        "
     },
     "metadata": {}
    }
   ],
   "source": [
    "# For Notebooks\n",
    "init_notebook_mode(connected=True)"
   ]
  },
  {
   "cell_type": "code",
   "execution_count": 26,
   "metadata": {},
   "outputs": [
    {
     "output_type": "display_data",
     "data": {
      "text/html": "        <script type=\"text/javascript\">\n        window.PlotlyConfig = {MathJaxConfig: 'local'};\n        if (window.MathJax) {MathJax.Hub.Config({SVG: {font: \"STIX-Web\"}});}\n        if (typeof require !== 'undefined') {\n        require.undef(\"plotly\");\n        requirejs.config({\n            paths: {\n                'plotly': ['https://cdn.plot.ly/plotly-latest.min']\n            }\n        });\n        require(['plotly'], function(Plotly) {\n            window._Plotly = Plotly;\n        });\n        }\n        </script>\n        "
     },
     "metadata": {}
    }
   ],
   "source": [
    "# For offline use\n",
    "cf.go_offline()"
   ]
  },
  {
   "source": [
    "## Fake Data"
   ],
   "cell_type": "markdown",
   "metadata": {}
  },
  {
   "cell_type": "code",
   "execution_count": 5,
   "metadata": {},
   "outputs": [],
   "source": [
    "df = pd.DataFrame(np.random.randn(100, 4), columns='A B C D'.split())"
   ]
  },
  {
   "cell_type": "code",
   "execution_count": 6,
   "metadata": {},
   "outputs": [
    {
     "output_type": "execute_result",
     "data": {
      "text/plain": [
       "          A         B         C         D\n",
       "0 -3.190339 -0.364350 -1.118646 -0.648973\n",
       "1  0.233960  0.026742  1.267791 -0.414696\n",
       "2  1.158966  0.358455  0.360763 -0.737182\n",
       "3 -0.483000 -0.150874 -0.594563 -0.976878\n",
       "4 -1.510334  0.769226 -0.468563 -0.227119"
      ],
      "text/html": "<div>\n<style scoped>\n    .dataframe tbody tr th:only-of-type {\n        vertical-align: middle;\n    }\n\n    .dataframe tbody tr th {\n        vertical-align: top;\n    }\n\n    .dataframe thead th {\n        text-align: right;\n    }\n</style>\n<table border=\"1\" class=\"dataframe\">\n  <thead>\n    <tr style=\"text-align: right;\">\n      <th></th>\n      <th>A</th>\n      <th>B</th>\n      <th>C</th>\n      <th>D</th>\n    </tr>\n  </thead>\n  <tbody>\n    <tr>\n      <th>0</th>\n      <td>-3.190339</td>\n      <td>-0.364350</td>\n      <td>-1.118646</td>\n      <td>-0.648973</td>\n    </tr>\n    <tr>\n      <th>1</th>\n      <td>0.233960</td>\n      <td>0.026742</td>\n      <td>1.267791</td>\n      <td>-0.414696</td>\n    </tr>\n    <tr>\n      <th>2</th>\n      <td>1.158966</td>\n      <td>0.358455</td>\n      <td>0.360763</td>\n      <td>-0.737182</td>\n    </tr>\n    <tr>\n      <th>3</th>\n      <td>-0.483000</td>\n      <td>-0.150874</td>\n      <td>-0.594563</td>\n      <td>-0.976878</td>\n    </tr>\n    <tr>\n      <th>4</th>\n      <td>-1.510334</td>\n      <td>0.769226</td>\n      <td>-0.468563</td>\n      <td>-0.227119</td>\n    </tr>\n  </tbody>\n</table>\n</div>"
     },
     "metadata": {},
     "execution_count": 6
    }
   ],
   "source": [
    "df.head()"
   ]
  },
  {
   "cell_type": "code",
   "execution_count": 7,
   "metadata": {},
   "outputs": [],
   "source": [
    "df2 = pd.DataFrame({'Category': ['A', 'B', 'C'], 'Values': [32, 43, 50]})"
   ]
  },
  {
   "cell_type": "code",
   "execution_count": 8,
   "metadata": {},
   "outputs": [
    {
     "output_type": "execute_result",
     "data": {
      "text/plain": [
       "  Category  Values\n",
       "0        A      32\n",
       "1        B      43\n",
       "2        C      50"
      ],
      "text/html": "<div>\n<style scoped>\n    .dataframe tbody tr th:only-of-type {\n        vertical-align: middle;\n    }\n\n    .dataframe tbody tr th {\n        vertical-align: top;\n    }\n\n    .dataframe thead th {\n        text-align: right;\n    }\n</style>\n<table border=\"1\" class=\"dataframe\">\n  <thead>\n    <tr style=\"text-align: right;\">\n      <th></th>\n      <th>Category</th>\n      <th>Values</th>\n    </tr>\n  </thead>\n  <tbody>\n    <tr>\n      <th>0</th>\n      <td>A</td>\n      <td>32</td>\n    </tr>\n    <tr>\n      <th>1</th>\n      <td>B</td>\n      <td>43</td>\n    </tr>\n    <tr>\n      <th>2</th>\n      <td>C</td>\n      <td>50</td>\n    </tr>\n  </tbody>\n</table>\n</div>"
     },
     "metadata": {},
     "execution_count": 8
    }
   ],
   "source": [
    "df2.head()"
   ]
  },
  {
   "source": [
    "## Using Cufflinks and iplot()\n",
    "\n",
    "* scatter\n",
    "* bar\n",
    "* box\n",
    "* spread\n",
    "* ratio\n",
    "* heatmap\n",
    "* surface\n",
    "* histogram\n",
    "* bubble"
   ],
   "cell_type": "markdown",
   "metadata": {}
  },
  {
   "cell_type": "code",
   "execution_count": 9,
   "metadata": {},
   "outputs": [
    {
     "output_type": "display_data",
     "data": {
      "application/vnd.plotly.v1+json": {
       "config": {
        "linkText": "Export to plot.ly",
        "plotlyServerURL": "https://plot.ly",
        "showLink": true
       },
       "data": [
        {
         "line": {
          "color": "rgba(255, 153, 51, 1.0)",
          "dash": "solid",
          "shape": "linear",
          "width": 1.3
         },
         "marker": {
          "size": 10,
          "symbol": "circle"
         },
         "mode": "markers",
         "name": "B",
         "text": "",
         "type": "scatter",
         "x": [
          -3.1903388189260506,
          0.23396036411163004,
          1.1589655786036386,
          -0.48300006152562525,
          -1.5103337587243804,
          -0.5044248859027471,
          1.182281645215199,
          0.42006775240638894,
          -0.8810298974091847,
          0.5039382873693414,
          -0.731266004129346,
          0.0638361921822204,
          -1.0652754263641049,
          -0.9041076466885405,
          -0.9048795324169541,
          -0.7972587761240022,
          -0.3675670471291356,
          0.28082146701438343,
          -0.08633039339250868,
          0.040217153150704704,
          -0.6690624158655928,
          1.2627520886852726,
          0.8930334427555254,
          -0.5720828983632429,
          -0.10829789239054843,
          0.40614750365984825,
          -1.103865178801149,
          -0.8121010383177608,
          0.10072184675344648,
          -0.5769169489648015,
          -1.064607754248978,
          0.2803088090050602,
          0.27784983531770807,
          -0.41074940453263725,
          0.5858394974501357,
          -1.1873780187790168,
          -1.3497579113052596,
          1.255295743570665,
          -0.6927268600950082,
          -0.36127203424382964,
          -0.34463610823926666,
          -1.2009964413381025,
          1.3923569898979733,
          0.7787889527113488,
          1.8663933162193367,
          -0.7896518608815303,
          0.8604392983684553,
          0.5735613938299836,
          -1.2802106717549009,
          0.44164511860901834,
          -1.1744289444226033,
          -0.0000060149059195747345,
          -0.6467481917357054,
          1.2327214192099953,
          -0.28623017443738186,
          -1.7412710235687312,
          -0.9758958392945769,
          1.600310178717572,
          -0.6658748622479977,
          0.36105544712213045,
          1.2539490446516994,
          1.0583809422068344,
          -0.597617455493197,
          -0.45722923476382665,
          -1.2684784915115794,
          -0.9644190323469388,
          -0.8772580574236023,
          0.085838476310741,
          0.48674958148652886,
          0.9676561629391955,
          -2.13767913287318,
          -2.955837736363831,
          -1.7764340900302908,
          1.272615789302066,
          -0.37425080144249273,
          1.026973987239565,
          2.100477946764772,
          -0.9807225547579596,
          -0.7533250886156038,
          -0.03650463249437804,
          0.3529513644456242,
          -1.3607833800573281,
          -1.7417396477441502,
          -1.2994294895974514,
          0.32077583616185623,
          -0.4244455156618559,
          0.8905320772769698,
          -1.3186547947430771,
          0.12166001368478756,
          -1.2191124444406027,
          0.24654677954656246,
          -0.2623982371892286,
          0.2624213780227509,
          0.09375602776369371,
          -0.8396352448027719,
          -0.5553431002419489,
          -0.06731001731720351,
          -0.49821737363514945,
          2.474916165429662,
          -1.6424571327832522
         ],
         "y": [
          -0.3643496606765255,
          0.026742083793018775,
          0.3584549394564874,
          -0.15087399036258875,
          0.7692264311391451,
          -0.9607394936456178,
          1.099364393084451,
          2.0413594007607077,
          -0.9589429120315346,
          -1.0151262656536937,
          -2.7705342521888636,
          0.04519916765724038,
          -1.0324039775286689,
          0.21166535206455778,
          0.9519171224472974,
          -0.8073326446901398,
          -0.11985422234986415,
          -0.1234321641152109,
          0.9187427563080505,
          -1.5763765046502152,
          0.48951503176455424,
          -0.278969609256558,
          -0.3648383818684051,
          -0.007140551384771878,
          0.824952324575092,
          1.012484922632672,
          0.5845377044183931,
          -1.2711783578576223,
          -0.36902106237264026,
          0.012682393985313328,
          0.3374744579584474,
          1.0374153302021154,
          0.8674581281533991,
          0.49520661962696927,
          -0.2181122070140142,
          -0.4198441589123327,
          -0.22085215002039907,
          -0.14099689419147918,
          -0.9772412761380672,
          -0.9091883734093862,
          -1.5686850852517986,
          0.12633424708785124,
          0.4249983112725074,
          -0.15071571160517683,
          -0.8190528021055005,
          -0.5843142509340462,
          1.009127911825222,
          -0.2532746339494671,
          0.8382486387582775,
          0.2987780822239634,
          -0.42940441705743443,
          0.12942894672747557,
          -0.3784668801032414,
          -0.36623302074540903,
          1.9636781681839237,
          -0.694293703929343,
          0.18243687176223544,
          0.44970065303344275,
          -0.5585085694844554,
          0.5781469849286903,
          -1.478679342255676,
          -2.2017812855469296,
          -0.22766449165792724,
          -0.9850956709230758,
          0.06535721379319329,
          1.6247637881367891,
          0.9388172664094236,
          0.5604816763327075,
          0.2297458405763916,
          0.5705488391936526,
          -0.5429901589467797,
          -1.4375484759630257,
          1.149625790934575,
          -1.8706089909902677,
          0.6574935076546705,
          0.3922469509849665,
          -0.3283399439671376,
          -0.7082986794613881,
          -1.3012155638305742,
          -0.47344112138941563,
          0.025524978856013302,
          -0.6078471413136215,
          0.6221060033789865,
          -0.8425812105486945,
          -1.9731018326838081,
          -2.085182182082291,
          0.7211728722787665,
          1.5764475887837608,
          0.17856892843054062,
          0.09394500672765961,
          -0.838783815812583,
          -2.0640038711962796,
          0.07541148221711562,
          0.011988483697282544,
          1.156875251344672,
          -0.32642331073805275,
          -1.0002773938460705,
          -0.409558017985458,
          -1.6432367398217418,
          -1.458768728092791
         ]
        }
       ],
       "layout": {
        "legend": {
         "bgcolor": "#F5F6F9",
         "font": {
          "color": "#4D5663"
         }
        },
        "paper_bgcolor": "#F5F6F9",
        "plot_bgcolor": "#F5F6F9",
        "template": {
         "data": {
          "bar": [
           {
            "error_x": {
             "color": "#2a3f5f"
            },
            "error_y": {
             "color": "#2a3f5f"
            },
            "marker": {
             "line": {
              "color": "#E5ECF6",
              "width": 0.5
             }
            },
            "type": "bar"
           }
          ],
          "barpolar": [
           {
            "marker": {
             "line": {
              "color": "#E5ECF6",
              "width": 0.5
             }
            },
            "type": "barpolar"
           }
          ],
          "carpet": [
           {
            "aaxis": {
             "endlinecolor": "#2a3f5f",
             "gridcolor": "white",
             "linecolor": "white",
             "minorgridcolor": "white",
             "startlinecolor": "#2a3f5f"
            },
            "baxis": {
             "endlinecolor": "#2a3f5f",
             "gridcolor": "white",
             "linecolor": "white",
             "minorgridcolor": "white",
             "startlinecolor": "#2a3f5f"
            },
            "type": "carpet"
           }
          ],
          "choropleth": [
           {
            "colorbar": {
             "outlinewidth": 0,
             "ticks": ""
            },
            "type": "choropleth"
           }
          ],
          "contour": [
           {
            "colorbar": {
             "outlinewidth": 0,
             "ticks": ""
            },
            "colorscale": [
             [
              0,
              "#0d0887"
             ],
             [
              0.1111111111111111,
              "#46039f"
             ],
             [
              0.2222222222222222,
              "#7201a8"
             ],
             [
              0.3333333333333333,
              "#9c179e"
             ],
             [
              0.4444444444444444,
              "#bd3786"
             ],
             [
              0.5555555555555556,
              "#d8576b"
             ],
             [
              0.6666666666666666,
              "#ed7953"
             ],
             [
              0.7777777777777778,
              "#fb9f3a"
             ],
             [
              0.8888888888888888,
              "#fdca26"
             ],
             [
              1,
              "#f0f921"
             ]
            ],
            "type": "contour"
           }
          ],
          "contourcarpet": [
           {
            "colorbar": {
             "outlinewidth": 0,
             "ticks": ""
            },
            "type": "contourcarpet"
           }
          ],
          "heatmap": [
           {
            "colorbar": {
             "outlinewidth": 0,
             "ticks": ""
            },
            "colorscale": [
             [
              0,
              "#0d0887"
             ],
             [
              0.1111111111111111,
              "#46039f"
             ],
             [
              0.2222222222222222,
              "#7201a8"
             ],
             [
              0.3333333333333333,
              "#9c179e"
             ],
             [
              0.4444444444444444,
              "#bd3786"
             ],
             [
              0.5555555555555556,
              "#d8576b"
             ],
             [
              0.6666666666666666,
              "#ed7953"
             ],
             [
              0.7777777777777778,
              "#fb9f3a"
             ],
             [
              0.8888888888888888,
              "#fdca26"
             ],
             [
              1,
              "#f0f921"
             ]
            ],
            "type": "heatmap"
           }
          ],
          "heatmapgl": [
           {
            "colorbar": {
             "outlinewidth": 0,
             "ticks": ""
            },
            "colorscale": [
             [
              0,
              "#0d0887"
             ],
             [
              0.1111111111111111,
              "#46039f"
             ],
             [
              0.2222222222222222,
              "#7201a8"
             ],
             [
              0.3333333333333333,
              "#9c179e"
             ],
             [
              0.4444444444444444,
              "#bd3786"
             ],
             [
              0.5555555555555556,
              "#d8576b"
             ],
             [
              0.6666666666666666,
              "#ed7953"
             ],
             [
              0.7777777777777778,
              "#fb9f3a"
             ],
             [
              0.8888888888888888,
              "#fdca26"
             ],
             [
              1,
              "#f0f921"
             ]
            ],
            "type": "heatmapgl"
           }
          ],
          "histogram": [
           {
            "marker": {
             "colorbar": {
              "outlinewidth": 0,
              "ticks": ""
             }
            },
            "type": "histogram"
           }
          ],
          "histogram2d": [
           {
            "colorbar": {
             "outlinewidth": 0,
             "ticks": ""
            },
            "colorscale": [
             [
              0,
              "#0d0887"
             ],
             [
              0.1111111111111111,
              "#46039f"
             ],
             [
              0.2222222222222222,
              "#7201a8"
             ],
             [
              0.3333333333333333,
              "#9c179e"
             ],
             [
              0.4444444444444444,
              "#bd3786"
             ],
             [
              0.5555555555555556,
              "#d8576b"
             ],
             [
              0.6666666666666666,
              "#ed7953"
             ],
             [
              0.7777777777777778,
              "#fb9f3a"
             ],
             [
              0.8888888888888888,
              "#fdca26"
             ],
             [
              1,
              "#f0f921"
             ]
            ],
            "type": "histogram2d"
           }
          ],
          "histogram2dcontour": [
           {
            "colorbar": {
             "outlinewidth": 0,
             "ticks": ""
            },
            "colorscale": [
             [
              0,
              "#0d0887"
             ],
             [
              0.1111111111111111,
              "#46039f"
             ],
             [
              0.2222222222222222,
              "#7201a8"
             ],
             [
              0.3333333333333333,
              "#9c179e"
             ],
             [
              0.4444444444444444,
              "#bd3786"
             ],
             [
              0.5555555555555556,
              "#d8576b"
             ],
             [
              0.6666666666666666,
              "#ed7953"
             ],
             [
              0.7777777777777778,
              "#fb9f3a"
             ],
             [
              0.8888888888888888,
              "#fdca26"
             ],
             [
              1,
              "#f0f921"
             ]
            ],
            "type": "histogram2dcontour"
           }
          ],
          "mesh3d": [
           {
            "colorbar": {
             "outlinewidth": 0,
             "ticks": ""
            },
            "type": "mesh3d"
           }
          ],
          "parcoords": [
           {
            "line": {
             "colorbar": {
              "outlinewidth": 0,
              "ticks": ""
             }
            },
            "type": "parcoords"
           }
          ],
          "pie": [
           {
            "automargin": true,
            "type": "pie"
           }
          ],
          "scatter": [
           {
            "marker": {
             "colorbar": {
              "outlinewidth": 0,
              "ticks": ""
             }
            },
            "type": "scatter"
           }
          ],
          "scatter3d": [
           {
            "line": {
             "colorbar": {
              "outlinewidth": 0,
              "ticks": ""
             }
            },
            "marker": {
             "colorbar": {
              "outlinewidth": 0,
              "ticks": ""
             }
            },
            "type": "scatter3d"
           }
          ],
          "scattercarpet": [
           {
            "marker": {
             "colorbar": {
              "outlinewidth": 0,
              "ticks": ""
             }
            },
            "type": "scattercarpet"
           }
          ],
          "scattergeo": [
           {
            "marker": {
             "colorbar": {
              "outlinewidth": 0,
              "ticks": ""
             }
            },
            "type": "scattergeo"
           }
          ],
          "scattergl": [
           {
            "marker": {
             "colorbar": {
              "outlinewidth": 0,
              "ticks": ""
             }
            },
            "type": "scattergl"
           }
          ],
          "scattermapbox": [
           {
            "marker": {
             "colorbar": {
              "outlinewidth": 0,
              "ticks": ""
             }
            },
            "type": "scattermapbox"
           }
          ],
          "scatterpolar": [
           {
            "marker": {
             "colorbar": {
              "outlinewidth": 0,
              "ticks": ""
             }
            },
            "type": "scatterpolar"
           }
          ],
          "scatterpolargl": [
           {
            "marker": {
             "colorbar": {
              "outlinewidth": 0,
              "ticks": ""
             }
            },
            "type": "scatterpolargl"
           }
          ],
          "scatterternary": [
           {
            "marker": {
             "colorbar": {
              "outlinewidth": 0,
              "ticks": ""
             }
            },
            "type": "scatterternary"
           }
          ],
          "surface": [
           {
            "colorbar": {
             "outlinewidth": 0,
             "ticks": ""
            },
            "colorscale": [
             [
              0,
              "#0d0887"
             ],
             [
              0.1111111111111111,
              "#46039f"
             ],
             [
              0.2222222222222222,
              "#7201a8"
             ],
             [
              0.3333333333333333,
              "#9c179e"
             ],
             [
              0.4444444444444444,
              "#bd3786"
             ],
             [
              0.5555555555555556,
              "#d8576b"
             ],
             [
              0.6666666666666666,
              "#ed7953"
             ],
             [
              0.7777777777777778,
              "#fb9f3a"
             ],
             [
              0.8888888888888888,
              "#fdca26"
             ],
             [
              1,
              "#f0f921"
             ]
            ],
            "type": "surface"
           }
          ],
          "table": [
           {
            "cells": {
             "fill": {
              "color": "#EBF0F8"
             },
             "line": {
              "color": "white"
             }
            },
            "header": {
             "fill": {
              "color": "#C8D4E3"
             },
             "line": {
              "color": "white"
             }
            },
            "type": "table"
           }
          ]
         },
         "layout": {
          "annotationdefaults": {
           "arrowcolor": "#2a3f5f",
           "arrowhead": 0,
           "arrowwidth": 1
          },
          "coloraxis": {
           "colorbar": {
            "outlinewidth": 0,
            "ticks": ""
           }
          },
          "colorscale": {
           "diverging": [
            [
             0,
             "#8e0152"
            ],
            [
             0.1,
             "#c51b7d"
            ],
            [
             0.2,
             "#de77ae"
            ],
            [
             0.3,
             "#f1b6da"
            ],
            [
             0.4,
             "#fde0ef"
            ],
            [
             0.5,
             "#f7f7f7"
            ],
            [
             0.6,
             "#e6f5d0"
            ],
            [
             0.7,
             "#b8e186"
            ],
            [
             0.8,
             "#7fbc41"
            ],
            [
             0.9,
             "#4d9221"
            ],
            [
             1,
             "#276419"
            ]
           ],
           "sequential": [
            [
             0,
             "#0d0887"
            ],
            [
             0.1111111111111111,
             "#46039f"
            ],
            [
             0.2222222222222222,
             "#7201a8"
            ],
            [
             0.3333333333333333,
             "#9c179e"
            ],
            [
             0.4444444444444444,
             "#bd3786"
            ],
            [
             0.5555555555555556,
             "#d8576b"
            ],
            [
             0.6666666666666666,
             "#ed7953"
            ],
            [
             0.7777777777777778,
             "#fb9f3a"
            ],
            [
             0.8888888888888888,
             "#fdca26"
            ],
            [
             1,
             "#f0f921"
            ]
           ],
           "sequentialminus": [
            [
             0,
             "#0d0887"
            ],
            [
             0.1111111111111111,
             "#46039f"
            ],
            [
             0.2222222222222222,
             "#7201a8"
            ],
            [
             0.3333333333333333,
             "#9c179e"
            ],
            [
             0.4444444444444444,
             "#bd3786"
            ],
            [
             0.5555555555555556,
             "#d8576b"
            ],
            [
             0.6666666666666666,
             "#ed7953"
            ],
            [
             0.7777777777777778,
             "#fb9f3a"
            ],
            [
             0.8888888888888888,
             "#fdca26"
            ],
            [
             1,
             "#f0f921"
            ]
           ]
          },
          "colorway": [
           "#636efa",
           "#EF553B",
           "#00cc96",
           "#ab63fa",
           "#FFA15A",
           "#19d3f3",
           "#FF6692",
           "#B6E880",
           "#FF97FF",
           "#FECB52"
          ],
          "font": {
           "color": "#2a3f5f"
          },
          "geo": {
           "bgcolor": "white",
           "lakecolor": "white",
           "landcolor": "#E5ECF6",
           "showlakes": true,
           "showland": true,
           "subunitcolor": "white"
          },
          "hoverlabel": {
           "align": "left"
          },
          "hovermode": "closest",
          "mapbox": {
           "style": "light"
          },
          "paper_bgcolor": "white",
          "plot_bgcolor": "#E5ECF6",
          "polar": {
           "angularaxis": {
            "gridcolor": "white",
            "linecolor": "white",
            "ticks": ""
           },
           "bgcolor": "#E5ECF6",
           "radialaxis": {
            "gridcolor": "white",
            "linecolor": "white",
            "ticks": ""
           }
          },
          "scene": {
           "xaxis": {
            "backgroundcolor": "#E5ECF6",
            "gridcolor": "white",
            "gridwidth": 2,
            "linecolor": "white",
            "showbackground": true,
            "ticks": "",
            "zerolinecolor": "white"
           },
           "yaxis": {
            "backgroundcolor": "#E5ECF6",
            "gridcolor": "white",
            "gridwidth": 2,
            "linecolor": "white",
            "showbackground": true,
            "ticks": "",
            "zerolinecolor": "white"
           },
           "zaxis": {
            "backgroundcolor": "#E5ECF6",
            "gridcolor": "white",
            "gridwidth": 2,
            "linecolor": "white",
            "showbackground": true,
            "ticks": "",
            "zerolinecolor": "white"
           }
          },
          "shapedefaults": {
           "line": {
            "color": "#2a3f5f"
           }
          },
          "ternary": {
           "aaxis": {
            "gridcolor": "white",
            "linecolor": "white",
            "ticks": ""
           },
           "baxis": {
            "gridcolor": "white",
            "linecolor": "white",
            "ticks": ""
           },
           "bgcolor": "#E5ECF6",
           "caxis": {
            "gridcolor": "white",
            "linecolor": "white",
            "ticks": ""
           }
          },
          "title": {
           "x": 0.05
          },
          "xaxis": {
           "automargin": true,
           "gridcolor": "white",
           "linecolor": "white",
           "ticks": "",
           "title": {
            "standoff": 15
           },
           "zerolinecolor": "white",
           "zerolinewidth": 2
          },
          "yaxis": {
           "automargin": true,
           "gridcolor": "white",
           "linecolor": "white",
           "ticks": "",
           "title": {
            "standoff": 15
           },
           "zerolinecolor": "white",
           "zerolinewidth": 2
          }
         }
        },
        "title": {
         "font": {
          "color": "#4D5663"
         }
        },
        "xaxis": {
         "gridcolor": "#E1E5ED",
         "showgrid": true,
         "tickfont": {
          "color": "#4D5663"
         },
         "title": {
          "font": {
           "color": "#4D5663"
          },
          "text": ""
         },
         "zerolinecolor": "#E1E5ED"
        },
        "yaxis": {
         "gridcolor": "#E1E5ED",
         "showgrid": true,
         "tickfont": {
          "color": "#4D5663"
         },
         "title": {
          "font": {
           "color": "#4D5663"
          },
          "text": ""
         },
         "zerolinecolor": "#E1E5ED"
        }
       }
      },
      "text/html": "<div>                            <div id=\"cc4dcd20-149b-4ed8-bcd6-da51c80cb1c5\" class=\"plotly-graph-div\" style=\"height:525px; width:100%;\"></div>            <script type=\"text/javascript\">                require([\"plotly\"], function(Plotly) {                    window.PLOTLYENV=window.PLOTLYENV || {};\n                    window.PLOTLYENV.BASE_URL='https://plot.ly';                                    if (document.getElementById(\"cc4dcd20-149b-4ed8-bcd6-da51c80cb1c5\")) {                    Plotly.newPlot(                        \"cc4dcd20-149b-4ed8-bcd6-da51c80cb1c5\",                        [{\"line\": {\"color\": \"rgba(255, 153, 51, 1.0)\", \"dash\": \"solid\", \"shape\": \"linear\", \"width\": 1.3}, \"marker\": {\"size\": 10, \"symbol\": \"circle\"}, \"mode\": \"markers\", \"name\": \"B\", \"text\": \"\", \"type\": \"scatter\", \"x\": [-3.1903388189260506, 0.23396036411163004, 1.1589655786036386, -0.48300006152562525, -1.5103337587243804, -0.5044248859027471, 1.182281645215199, 0.42006775240638894, -0.8810298974091847, 0.5039382873693414, -0.731266004129346, 0.0638361921822204, -1.0652754263641049, -0.9041076466885405, -0.9048795324169541, -0.7972587761240022, -0.3675670471291356, 0.28082146701438343, -0.08633039339250868, 0.040217153150704704, -0.6690624158655928, 1.2627520886852726, 0.8930334427555254, -0.5720828983632429, -0.10829789239054843, 0.40614750365984825, -1.103865178801149, -0.8121010383177608, 0.10072184675344648, -0.5769169489648015, -1.064607754248978, 0.2803088090050602, 0.27784983531770807, -0.41074940453263725, 0.5858394974501357, -1.1873780187790168, -1.3497579113052596, 1.255295743570665, -0.6927268600950082, -0.36127203424382964, -0.34463610823926666, -1.2009964413381025, 1.3923569898979733, 0.7787889527113488, 1.8663933162193367, -0.7896518608815303, 0.8604392983684553, 0.5735613938299836, -1.2802106717549009, 0.44164511860901834, -1.1744289444226033, -6.0149059195747345e-06, -0.6467481917357054, 1.2327214192099953, -0.28623017443738186, -1.7412710235687312, -0.9758958392945769, 1.600310178717572, -0.6658748622479977, 0.36105544712213045, 1.2539490446516994, 1.0583809422068344, -0.597617455493197, -0.45722923476382665, -1.2684784915115794, -0.9644190323469388, -0.8772580574236023, 0.085838476310741, 0.48674958148652886, 0.9676561629391955, -2.13767913287318, -2.955837736363831, -1.7764340900302908, 1.272615789302066, -0.37425080144249273, 1.026973987239565, 2.100477946764772, -0.9807225547579596, -0.7533250886156038, -0.03650463249437804, 0.3529513644456242, -1.3607833800573281, -1.7417396477441502, -1.2994294895974514, 0.32077583616185623, -0.4244455156618559, 0.8905320772769698, -1.3186547947430771, 0.12166001368478756, -1.2191124444406027, 0.24654677954656246, -0.2623982371892286, 0.2624213780227509, 0.09375602776369371, -0.8396352448027719, -0.5553431002419489, -0.06731001731720351, -0.49821737363514945, 2.474916165429662, -1.6424571327832522], \"y\": [-0.3643496606765255, 0.026742083793018775, 0.3584549394564874, -0.15087399036258875, 0.7692264311391451, -0.9607394936456178, 1.099364393084451, 2.0413594007607077, -0.9589429120315346, -1.0151262656536937, -2.7705342521888636, 0.04519916765724038, -1.0324039775286689, 0.21166535206455778, 0.9519171224472974, -0.8073326446901398, -0.11985422234986415, -0.1234321641152109, 0.9187427563080505, -1.5763765046502152, 0.48951503176455424, -0.278969609256558, -0.3648383818684051, -0.007140551384771878, 0.824952324575092, 1.012484922632672, 0.5845377044183931, -1.2711783578576223, -0.36902106237264026, 0.012682393985313328, 0.3374744579584474, 1.0374153302021154, 0.8674581281533991, 0.49520661962696927, -0.2181122070140142, -0.4198441589123327, -0.22085215002039907, -0.14099689419147918, -0.9772412761380672, -0.9091883734093862, -1.5686850852517986, 0.12633424708785124, 0.4249983112725074, -0.15071571160517683, -0.8190528021055005, -0.5843142509340462, 1.009127911825222, -0.2532746339494671, 0.8382486387582775, 0.2987780822239634, -0.42940441705743443, 0.12942894672747557, -0.3784668801032414, -0.36623302074540903, 1.9636781681839237, -0.694293703929343, 0.18243687176223544, 0.44970065303344275, -0.5585085694844554, 0.5781469849286903, -1.478679342255676, -2.2017812855469296, -0.22766449165792724, -0.9850956709230758, 0.06535721379319329, 1.6247637881367891, 0.9388172664094236, 0.5604816763327075, 0.2297458405763916, 0.5705488391936526, -0.5429901589467797, -1.4375484759630257, 1.149625790934575, -1.8706089909902677, 0.6574935076546705, 0.3922469509849665, -0.3283399439671376, -0.7082986794613881, -1.3012155638305742, -0.47344112138941563, 0.025524978856013302, -0.6078471413136215, 0.6221060033789865, -0.8425812105486945, -1.9731018326838081, -2.085182182082291, 0.7211728722787665, 1.5764475887837608, 0.17856892843054062, 0.09394500672765961, -0.838783815812583, -2.0640038711962796, 0.07541148221711562, 0.011988483697282544, 1.156875251344672, -0.32642331073805275, -1.0002773938460705, -0.409558017985458, -1.6432367398217418, -1.458768728092791]}],                        {\"legend\": {\"bgcolor\": \"#F5F6F9\", \"font\": {\"color\": \"#4D5663\"}}, \"paper_bgcolor\": \"#F5F6F9\", \"plot_bgcolor\": \"#F5F6F9\", \"template\": {\"data\": {\"bar\": [{\"error_x\": {\"color\": \"#2a3f5f\"}, \"error_y\": {\"color\": \"#2a3f5f\"}, \"marker\": {\"line\": {\"color\": \"#E5ECF6\", \"width\": 0.5}}, \"type\": \"bar\"}], \"barpolar\": [{\"marker\": {\"line\": {\"color\": \"#E5ECF6\", \"width\": 0.5}}, \"type\": \"barpolar\"}], \"carpet\": [{\"aaxis\": {\"endlinecolor\": \"#2a3f5f\", \"gridcolor\": \"white\", \"linecolor\": \"white\", \"minorgridcolor\": \"white\", \"startlinecolor\": \"#2a3f5f\"}, \"baxis\": {\"endlinecolor\": \"#2a3f5f\", \"gridcolor\": \"white\", \"linecolor\": \"white\", \"minorgridcolor\": \"white\", \"startlinecolor\": \"#2a3f5f\"}, \"type\": \"carpet\"}], \"choropleth\": [{\"colorbar\": {\"outlinewidth\": 0, \"ticks\": \"\"}, \"type\": \"choropleth\"}], \"contour\": [{\"colorbar\": {\"outlinewidth\": 0, \"ticks\": \"\"}, \"colorscale\": [[0.0, \"#0d0887\"], [0.1111111111111111, \"#46039f\"], [0.2222222222222222, \"#7201a8\"], [0.3333333333333333, \"#9c179e\"], [0.4444444444444444, \"#bd3786\"], [0.5555555555555556, \"#d8576b\"], [0.6666666666666666, \"#ed7953\"], [0.7777777777777778, \"#fb9f3a\"], [0.8888888888888888, \"#fdca26\"], [1.0, \"#f0f921\"]], \"type\": \"contour\"}], \"contourcarpet\": [{\"colorbar\": {\"outlinewidth\": 0, \"ticks\": \"\"}, \"type\": \"contourcarpet\"}], \"heatmap\": [{\"colorbar\": {\"outlinewidth\": 0, \"ticks\": \"\"}, \"colorscale\": [[0.0, \"#0d0887\"], [0.1111111111111111, \"#46039f\"], [0.2222222222222222, \"#7201a8\"], [0.3333333333333333, \"#9c179e\"], [0.4444444444444444, \"#bd3786\"], [0.5555555555555556, \"#d8576b\"], [0.6666666666666666, \"#ed7953\"], [0.7777777777777778, \"#fb9f3a\"], [0.8888888888888888, \"#fdca26\"], [1.0, \"#f0f921\"]], \"type\": \"heatmap\"}], \"heatmapgl\": [{\"colorbar\": {\"outlinewidth\": 0, \"ticks\": \"\"}, \"colorscale\": [[0.0, \"#0d0887\"], [0.1111111111111111, \"#46039f\"], [0.2222222222222222, \"#7201a8\"], [0.3333333333333333, \"#9c179e\"], [0.4444444444444444, \"#bd3786\"], [0.5555555555555556, \"#d8576b\"], [0.6666666666666666, \"#ed7953\"], [0.7777777777777778, \"#fb9f3a\"], [0.8888888888888888, \"#fdca26\"], [1.0, \"#f0f921\"]], \"type\": \"heatmapgl\"}], \"histogram\": [{\"marker\": {\"colorbar\": {\"outlinewidth\": 0, \"ticks\": \"\"}}, \"type\": \"histogram\"}], \"histogram2d\": [{\"colorbar\": {\"outlinewidth\": 0, \"ticks\": \"\"}, \"colorscale\": [[0.0, \"#0d0887\"], [0.1111111111111111, \"#46039f\"], [0.2222222222222222, \"#7201a8\"], [0.3333333333333333, \"#9c179e\"], [0.4444444444444444, \"#bd3786\"], [0.5555555555555556, \"#d8576b\"], [0.6666666666666666, \"#ed7953\"], [0.7777777777777778, \"#fb9f3a\"], [0.8888888888888888, \"#fdca26\"], [1.0, \"#f0f921\"]], \"type\": \"histogram2d\"}], \"histogram2dcontour\": [{\"colorbar\": {\"outlinewidth\": 0, \"ticks\": \"\"}, \"colorscale\": [[0.0, \"#0d0887\"], [0.1111111111111111, \"#46039f\"], [0.2222222222222222, \"#7201a8\"], [0.3333333333333333, \"#9c179e\"], [0.4444444444444444, \"#bd3786\"], [0.5555555555555556, \"#d8576b\"], [0.6666666666666666, \"#ed7953\"], [0.7777777777777778, \"#fb9f3a\"], [0.8888888888888888, \"#fdca26\"], [1.0, \"#f0f921\"]], \"type\": \"histogram2dcontour\"}], \"mesh3d\": [{\"colorbar\": {\"outlinewidth\": 0, \"ticks\": \"\"}, \"type\": \"mesh3d\"}], \"parcoords\": [{\"line\": {\"colorbar\": {\"outlinewidth\": 0, \"ticks\": \"\"}}, \"type\": \"parcoords\"}], \"pie\": [{\"automargin\": true, \"type\": \"pie\"}], \"scatter\": [{\"marker\": {\"colorbar\": {\"outlinewidth\": 0, \"ticks\": \"\"}}, \"type\": \"scatter\"}], \"scatter3d\": [{\"line\": {\"colorbar\": {\"outlinewidth\": 0, \"ticks\": \"\"}}, \"marker\": {\"colorbar\": {\"outlinewidth\": 0, \"ticks\": \"\"}}, \"type\": \"scatter3d\"}], \"scattercarpet\": [{\"marker\": {\"colorbar\": {\"outlinewidth\": 0, \"ticks\": \"\"}}, \"type\": \"scattercarpet\"}], \"scattergeo\": [{\"marker\": {\"colorbar\": {\"outlinewidth\": 0, \"ticks\": \"\"}}, \"type\": \"scattergeo\"}], \"scattergl\": [{\"marker\": {\"colorbar\": {\"outlinewidth\": 0, \"ticks\": \"\"}}, \"type\": \"scattergl\"}], \"scattermapbox\": [{\"marker\": {\"colorbar\": {\"outlinewidth\": 0, \"ticks\": \"\"}}, \"type\": \"scattermapbox\"}], \"scatterpolar\": [{\"marker\": {\"colorbar\": {\"outlinewidth\": 0, \"ticks\": \"\"}}, \"type\": \"scatterpolar\"}], \"scatterpolargl\": [{\"marker\": {\"colorbar\": {\"outlinewidth\": 0, \"ticks\": \"\"}}, \"type\": \"scatterpolargl\"}], \"scatterternary\": [{\"marker\": {\"colorbar\": {\"outlinewidth\": 0, \"ticks\": \"\"}}, \"type\": \"scatterternary\"}], \"surface\": [{\"colorbar\": {\"outlinewidth\": 0, \"ticks\": \"\"}, \"colorscale\": [[0.0, \"#0d0887\"], [0.1111111111111111, \"#46039f\"], [0.2222222222222222, \"#7201a8\"], [0.3333333333333333, \"#9c179e\"], [0.4444444444444444, \"#bd3786\"], [0.5555555555555556, \"#d8576b\"], [0.6666666666666666, \"#ed7953\"], [0.7777777777777778, \"#fb9f3a\"], [0.8888888888888888, \"#fdca26\"], [1.0, \"#f0f921\"]], \"type\": \"surface\"}], \"table\": [{\"cells\": {\"fill\": {\"color\": \"#EBF0F8\"}, \"line\": {\"color\": \"white\"}}, \"header\": {\"fill\": {\"color\": \"#C8D4E3\"}, \"line\": {\"color\": \"white\"}}, \"type\": \"table\"}]}, \"layout\": {\"annotationdefaults\": {\"arrowcolor\": \"#2a3f5f\", \"arrowhead\": 0, \"arrowwidth\": 1}, \"coloraxis\": {\"colorbar\": {\"outlinewidth\": 0, \"ticks\": \"\"}}, \"colorscale\": {\"diverging\": [[0, \"#8e0152\"], [0.1, \"#c51b7d\"], [0.2, \"#de77ae\"], [0.3, \"#f1b6da\"], [0.4, \"#fde0ef\"], [0.5, \"#f7f7f7\"], [0.6, \"#e6f5d0\"], [0.7, \"#b8e186\"], [0.8, \"#7fbc41\"], [0.9, \"#4d9221\"], [1, \"#276419\"]], \"sequential\": [[0.0, \"#0d0887\"], [0.1111111111111111, \"#46039f\"], [0.2222222222222222, \"#7201a8\"], [0.3333333333333333, \"#9c179e\"], [0.4444444444444444, \"#bd3786\"], [0.5555555555555556, \"#d8576b\"], [0.6666666666666666, \"#ed7953\"], [0.7777777777777778, \"#fb9f3a\"], [0.8888888888888888, \"#fdca26\"], [1.0, \"#f0f921\"]], \"sequentialminus\": [[0.0, \"#0d0887\"], [0.1111111111111111, \"#46039f\"], [0.2222222222222222, \"#7201a8\"], [0.3333333333333333, \"#9c179e\"], [0.4444444444444444, \"#bd3786\"], [0.5555555555555556, \"#d8576b\"], [0.6666666666666666, \"#ed7953\"], [0.7777777777777778, \"#fb9f3a\"], [0.8888888888888888, \"#fdca26\"], [1.0, \"#f0f921\"]]}, \"colorway\": [\"#636efa\", \"#EF553B\", \"#00cc96\", \"#ab63fa\", \"#FFA15A\", \"#19d3f3\", \"#FF6692\", \"#B6E880\", \"#FF97FF\", \"#FECB52\"], \"font\": {\"color\": \"#2a3f5f\"}, \"geo\": {\"bgcolor\": \"white\", \"lakecolor\": \"white\", \"landcolor\": \"#E5ECF6\", \"showlakes\": true, \"showland\": true, \"subunitcolor\": \"white\"}, \"hoverlabel\": {\"align\": \"left\"}, \"hovermode\": \"closest\", \"mapbox\": {\"style\": \"light\"}, \"paper_bgcolor\": \"white\", \"plot_bgcolor\": \"#E5ECF6\", \"polar\": {\"angularaxis\": {\"gridcolor\": \"white\", \"linecolor\": \"white\", \"ticks\": \"\"}, \"bgcolor\": \"#E5ECF6\", \"radialaxis\": {\"gridcolor\": \"white\", \"linecolor\": \"white\", \"ticks\": \"\"}}, \"scene\": {\"xaxis\": {\"backgroundcolor\": \"#E5ECF6\", \"gridcolor\": \"white\", \"gridwidth\": 2, \"linecolor\": \"white\", \"showbackground\": true, \"ticks\": \"\", \"zerolinecolor\": \"white\"}, \"yaxis\": {\"backgroundcolor\": \"#E5ECF6\", \"gridcolor\": \"white\", \"gridwidth\": 2, \"linecolor\": \"white\", \"showbackground\": true, \"ticks\": \"\", \"zerolinecolor\": \"white\"}, \"zaxis\": {\"backgroundcolor\": \"#E5ECF6\", \"gridcolor\": \"white\", \"gridwidth\": 2, \"linecolor\": \"white\", \"showbackground\": true, \"ticks\": \"\", \"zerolinecolor\": \"white\"}}, \"shapedefaults\": {\"line\": {\"color\": \"#2a3f5f\"}}, \"ternary\": {\"aaxis\": {\"gridcolor\": \"white\", \"linecolor\": \"white\", \"ticks\": \"\"}, \"baxis\": {\"gridcolor\": \"white\", \"linecolor\": \"white\", \"ticks\": \"\"}, \"bgcolor\": \"#E5ECF6\", \"caxis\": {\"gridcolor\": \"white\", \"linecolor\": \"white\", \"ticks\": \"\"}}, \"title\": {\"x\": 0.05}, \"xaxis\": {\"automargin\": true, \"gridcolor\": \"white\", \"linecolor\": \"white\", \"ticks\": \"\", \"title\": {\"standoff\": 15}, \"zerolinecolor\": \"white\", \"zerolinewidth\": 2}, \"yaxis\": {\"automargin\": true, \"gridcolor\": \"white\", \"linecolor\": \"white\", \"ticks\": \"\", \"title\": {\"standoff\": 15}, \"zerolinecolor\": \"white\", \"zerolinewidth\": 2}}}, \"title\": {\"font\": {\"color\": \"#4D5663\"}}, \"xaxis\": {\"gridcolor\": \"#E1E5ED\", \"showgrid\": true, \"tickfont\": {\"color\": \"#4D5663\"}, \"title\": {\"font\": {\"color\": \"#4D5663\"}, \"text\": \"\"}, \"zerolinecolor\": \"#E1E5ED\"}, \"yaxis\": {\"gridcolor\": \"#E1E5ED\", \"showgrid\": true, \"tickfont\": {\"color\": \"#4D5663\"}, \"title\": {\"font\": {\"color\": \"#4D5663\"}, \"text\": \"\"}, \"zerolinecolor\": \"#E1E5ED\"}},                        {\"showLink\": true, \"linkText\": \"Export to plot.ly\", \"plotlyServerURL\": \"https://plot.ly\", \"responsive\": true}                    ).then(function(){\n                            \nvar gd = document.getElementById('cc4dcd20-149b-4ed8-bcd6-da51c80cb1c5');\nvar x = new MutationObserver(function (mutations, observer) {{\n        var display = window.getComputedStyle(gd).display;\n        if (!display || display === 'none') {{\n            console.log([gd, 'removed!']);\n            Plotly.purge(gd);\n            observer.disconnect();\n        }}\n}});\n\n// Listen for the removal of the full notebook cells\nvar notebookContainer = gd.closest('#notebook-container');\nif (notebookContainer) {{\n    x.observe(notebookContainer, {childList: true});\n}}\n\n// Listen for the clearing of the current output cell\nvar outputEl = gd.closest('.output');\nif (outputEl) {{\n    x.observe(outputEl, {childList: true});\n}}\n\n                        })                };                });            </script>        </div>"
     },
     "metadata": {}
    }
   ],
   "source": [
    "df.iplot(kind='scatter', x='A', y='B', mode='markers', size= 10)"
   ]
  },
  {
   "source": [
    "## Bar Plots"
   ],
   "cell_type": "markdown",
   "metadata": {}
  },
  {
   "cell_type": "code",
   "execution_count": 10,
   "metadata": {},
   "outputs": [
    {
     "output_type": "display_data",
     "data": {
      "application/vnd.plotly.v1+json": {
       "config": {
        "linkText": "Export to plot.ly",
        "plotlyServerURL": "https://plot.ly",
        "showLink": true
       },
       "data": [
        {
         "marker": {
          "color": "rgba(255, 153, 51, 0.6)",
          "line": {
           "color": "rgba(255, 153, 51, 1.0)",
           "width": 1
          }
         },
         "name": "Values",
         "orientation": "v",
         "text": "",
         "type": "bar",
         "x": [
          "A",
          "B",
          "C"
         ],
         "y": [
          32,
          43,
          50
         ]
        }
       ],
       "layout": {
        "legend": {
         "bgcolor": "#F5F6F9",
         "font": {
          "color": "#4D5663"
         }
        },
        "paper_bgcolor": "#F5F6F9",
        "plot_bgcolor": "#F5F6F9",
        "template": {
         "data": {
          "bar": [
           {
            "error_x": {
             "color": "#2a3f5f"
            },
            "error_y": {
             "color": "#2a3f5f"
            },
            "marker": {
             "line": {
              "color": "#E5ECF6",
              "width": 0.5
             }
            },
            "type": "bar"
           }
          ],
          "barpolar": [
           {
            "marker": {
             "line": {
              "color": "#E5ECF6",
              "width": 0.5
             }
            },
            "type": "barpolar"
           }
          ],
          "carpet": [
           {
            "aaxis": {
             "endlinecolor": "#2a3f5f",
             "gridcolor": "white",
             "linecolor": "white",
             "minorgridcolor": "white",
             "startlinecolor": "#2a3f5f"
            },
            "baxis": {
             "endlinecolor": "#2a3f5f",
             "gridcolor": "white",
             "linecolor": "white",
             "minorgridcolor": "white",
             "startlinecolor": "#2a3f5f"
            },
            "type": "carpet"
           }
          ],
          "choropleth": [
           {
            "colorbar": {
             "outlinewidth": 0,
             "ticks": ""
            },
            "type": "choropleth"
           }
          ],
          "contour": [
           {
            "colorbar": {
             "outlinewidth": 0,
             "ticks": ""
            },
            "colorscale": [
             [
              0,
              "#0d0887"
             ],
             [
              0.1111111111111111,
              "#46039f"
             ],
             [
              0.2222222222222222,
              "#7201a8"
             ],
             [
              0.3333333333333333,
              "#9c179e"
             ],
             [
              0.4444444444444444,
              "#bd3786"
             ],
             [
              0.5555555555555556,
              "#d8576b"
             ],
             [
              0.6666666666666666,
              "#ed7953"
             ],
             [
              0.7777777777777778,
              "#fb9f3a"
             ],
             [
              0.8888888888888888,
              "#fdca26"
             ],
             [
              1,
              "#f0f921"
             ]
            ],
            "type": "contour"
           }
          ],
          "contourcarpet": [
           {
            "colorbar": {
             "outlinewidth": 0,
             "ticks": ""
            },
            "type": "contourcarpet"
           }
          ],
          "heatmap": [
           {
            "colorbar": {
             "outlinewidth": 0,
             "ticks": ""
            },
            "colorscale": [
             [
              0,
              "#0d0887"
             ],
             [
              0.1111111111111111,
              "#46039f"
             ],
             [
              0.2222222222222222,
              "#7201a8"
             ],
             [
              0.3333333333333333,
              "#9c179e"
             ],
             [
              0.4444444444444444,
              "#bd3786"
             ],
             [
              0.5555555555555556,
              "#d8576b"
             ],
             [
              0.6666666666666666,
              "#ed7953"
             ],
             [
              0.7777777777777778,
              "#fb9f3a"
             ],
             [
              0.8888888888888888,
              "#fdca26"
             ],
             [
              1,
              "#f0f921"
             ]
            ],
            "type": "heatmap"
           }
          ],
          "heatmapgl": [
           {
            "colorbar": {
             "outlinewidth": 0,
             "ticks": ""
            },
            "colorscale": [
             [
              0,
              "#0d0887"
             ],
             [
              0.1111111111111111,
              "#46039f"
             ],
             [
              0.2222222222222222,
              "#7201a8"
             ],
             [
              0.3333333333333333,
              "#9c179e"
             ],
             [
              0.4444444444444444,
              "#bd3786"
             ],
             [
              0.5555555555555556,
              "#d8576b"
             ],
             [
              0.6666666666666666,
              "#ed7953"
             ],
             [
              0.7777777777777778,
              "#fb9f3a"
             ],
             [
              0.8888888888888888,
              "#fdca26"
             ],
             [
              1,
              "#f0f921"
             ]
            ],
            "type": "heatmapgl"
           }
          ],
          "histogram": [
           {
            "marker": {
             "colorbar": {
              "outlinewidth": 0,
              "ticks": ""
             }
            },
            "type": "histogram"
           }
          ],
          "histogram2d": [
           {
            "colorbar": {
             "outlinewidth": 0,
             "ticks": ""
            },
            "colorscale": [
             [
              0,
              "#0d0887"
             ],
             [
              0.1111111111111111,
              "#46039f"
             ],
             [
              0.2222222222222222,
              "#7201a8"
             ],
             [
              0.3333333333333333,
              "#9c179e"
             ],
             [
              0.4444444444444444,
              "#bd3786"
             ],
             [
              0.5555555555555556,
              "#d8576b"
             ],
             [
              0.6666666666666666,
              "#ed7953"
             ],
             [
              0.7777777777777778,
              "#fb9f3a"
             ],
             [
              0.8888888888888888,
              "#fdca26"
             ],
             [
              1,
              "#f0f921"
             ]
            ],
            "type": "histogram2d"
           }
          ],
          "histogram2dcontour": [
           {
            "colorbar": {
             "outlinewidth": 0,
             "ticks": ""
            },
            "colorscale": [
             [
              0,
              "#0d0887"
             ],
             [
              0.1111111111111111,
              "#46039f"
             ],
             [
              0.2222222222222222,
              "#7201a8"
             ],
             [
              0.3333333333333333,
              "#9c179e"
             ],
             [
              0.4444444444444444,
              "#bd3786"
             ],
             [
              0.5555555555555556,
              "#d8576b"
             ],
             [
              0.6666666666666666,
              "#ed7953"
             ],
             [
              0.7777777777777778,
              "#fb9f3a"
             ],
             [
              0.8888888888888888,
              "#fdca26"
             ],
             [
              1,
              "#f0f921"
             ]
            ],
            "type": "histogram2dcontour"
           }
          ],
          "mesh3d": [
           {
            "colorbar": {
             "outlinewidth": 0,
             "ticks": ""
            },
            "type": "mesh3d"
           }
          ],
          "parcoords": [
           {
            "line": {
             "colorbar": {
              "outlinewidth": 0,
              "ticks": ""
             }
            },
            "type": "parcoords"
           }
          ],
          "pie": [
           {
            "automargin": true,
            "type": "pie"
           }
          ],
          "scatter": [
           {
            "marker": {
             "colorbar": {
              "outlinewidth": 0,
              "ticks": ""
             }
            },
            "type": "scatter"
           }
          ],
          "scatter3d": [
           {
            "line": {
             "colorbar": {
              "outlinewidth": 0,
              "ticks": ""
             }
            },
            "marker": {
             "colorbar": {
              "outlinewidth": 0,
              "ticks": ""
             }
            },
            "type": "scatter3d"
           }
          ],
          "scattercarpet": [
           {
            "marker": {
             "colorbar": {
              "outlinewidth": 0,
              "ticks": ""
             }
            },
            "type": "scattercarpet"
           }
          ],
          "scattergeo": [
           {
            "marker": {
             "colorbar": {
              "outlinewidth": 0,
              "ticks": ""
             }
            },
            "type": "scattergeo"
           }
          ],
          "scattergl": [
           {
            "marker": {
             "colorbar": {
              "outlinewidth": 0,
              "ticks": ""
             }
            },
            "type": "scattergl"
           }
          ],
          "scattermapbox": [
           {
            "marker": {
             "colorbar": {
              "outlinewidth": 0,
              "ticks": ""
             }
            },
            "type": "scattermapbox"
           }
          ],
          "scatterpolar": [
           {
            "marker": {
             "colorbar": {
              "outlinewidth": 0,
              "ticks": ""
             }
            },
            "type": "scatterpolar"
           }
          ],
          "scatterpolargl": [
           {
            "marker": {
             "colorbar": {
              "outlinewidth": 0,
              "ticks": ""
             }
            },
            "type": "scatterpolargl"
           }
          ],
          "scatterternary": [
           {
            "marker": {
             "colorbar": {
              "outlinewidth": 0,
              "ticks": ""
             }
            },
            "type": "scatterternary"
           }
          ],
          "surface": [
           {
            "colorbar": {
             "outlinewidth": 0,
             "ticks": ""
            },
            "colorscale": [
             [
              0,
              "#0d0887"
             ],
             [
              0.1111111111111111,
              "#46039f"
             ],
             [
              0.2222222222222222,
              "#7201a8"
             ],
             [
              0.3333333333333333,
              "#9c179e"
             ],
             [
              0.4444444444444444,
              "#bd3786"
             ],
             [
              0.5555555555555556,
              "#d8576b"
             ],
             [
              0.6666666666666666,
              "#ed7953"
             ],
             [
              0.7777777777777778,
              "#fb9f3a"
             ],
             [
              0.8888888888888888,
              "#fdca26"
             ],
             [
              1,
              "#f0f921"
             ]
            ],
            "type": "surface"
           }
          ],
          "table": [
           {
            "cells": {
             "fill": {
              "color": "#EBF0F8"
             },
             "line": {
              "color": "white"
             }
            },
            "header": {
             "fill": {
              "color": "#C8D4E3"
             },
             "line": {
              "color": "white"
             }
            },
            "type": "table"
           }
          ]
         },
         "layout": {
          "annotationdefaults": {
           "arrowcolor": "#2a3f5f",
           "arrowhead": 0,
           "arrowwidth": 1
          },
          "coloraxis": {
           "colorbar": {
            "outlinewidth": 0,
            "ticks": ""
           }
          },
          "colorscale": {
           "diverging": [
            [
             0,
             "#8e0152"
            ],
            [
             0.1,
             "#c51b7d"
            ],
            [
             0.2,
             "#de77ae"
            ],
            [
             0.3,
             "#f1b6da"
            ],
            [
             0.4,
             "#fde0ef"
            ],
            [
             0.5,
             "#f7f7f7"
            ],
            [
             0.6,
             "#e6f5d0"
            ],
            [
             0.7,
             "#b8e186"
            ],
            [
             0.8,
             "#7fbc41"
            ],
            [
             0.9,
             "#4d9221"
            ],
            [
             1,
             "#276419"
            ]
           ],
           "sequential": [
            [
             0,
             "#0d0887"
            ],
            [
             0.1111111111111111,
             "#46039f"
            ],
            [
             0.2222222222222222,
             "#7201a8"
            ],
            [
             0.3333333333333333,
             "#9c179e"
            ],
            [
             0.4444444444444444,
             "#bd3786"
            ],
            [
             0.5555555555555556,
             "#d8576b"
            ],
            [
             0.6666666666666666,
             "#ed7953"
            ],
            [
             0.7777777777777778,
             "#fb9f3a"
            ],
            [
             0.8888888888888888,
             "#fdca26"
            ],
            [
             1,
             "#f0f921"
            ]
           ],
           "sequentialminus": [
            [
             0,
             "#0d0887"
            ],
            [
             0.1111111111111111,
             "#46039f"
            ],
            [
             0.2222222222222222,
             "#7201a8"
            ],
            [
             0.3333333333333333,
             "#9c179e"
            ],
            [
             0.4444444444444444,
             "#bd3786"
            ],
            [
             0.5555555555555556,
             "#d8576b"
            ],
            [
             0.6666666666666666,
             "#ed7953"
            ],
            [
             0.7777777777777778,
             "#fb9f3a"
            ],
            [
             0.8888888888888888,
             "#fdca26"
            ],
            [
             1,
             "#f0f921"
            ]
           ]
          },
          "colorway": [
           "#636efa",
           "#EF553B",
           "#00cc96",
           "#ab63fa",
           "#FFA15A",
           "#19d3f3",
           "#FF6692",
           "#B6E880",
           "#FF97FF",
           "#FECB52"
          ],
          "font": {
           "color": "#2a3f5f"
          },
          "geo": {
           "bgcolor": "white",
           "lakecolor": "white",
           "landcolor": "#E5ECF6",
           "showlakes": true,
           "showland": true,
           "subunitcolor": "white"
          },
          "hoverlabel": {
           "align": "left"
          },
          "hovermode": "closest",
          "mapbox": {
           "style": "light"
          },
          "paper_bgcolor": "white",
          "plot_bgcolor": "#E5ECF6",
          "polar": {
           "angularaxis": {
            "gridcolor": "white",
            "linecolor": "white",
            "ticks": ""
           },
           "bgcolor": "#E5ECF6",
           "radialaxis": {
            "gridcolor": "white",
            "linecolor": "white",
            "ticks": ""
           }
          },
          "scene": {
           "xaxis": {
            "backgroundcolor": "#E5ECF6",
            "gridcolor": "white",
            "gridwidth": 2,
            "linecolor": "white",
            "showbackground": true,
            "ticks": "",
            "zerolinecolor": "white"
           },
           "yaxis": {
            "backgroundcolor": "#E5ECF6",
            "gridcolor": "white",
            "gridwidth": 2,
            "linecolor": "white",
            "showbackground": true,
            "ticks": "",
            "zerolinecolor": "white"
           },
           "zaxis": {
            "backgroundcolor": "#E5ECF6",
            "gridcolor": "white",
            "gridwidth": 2,
            "linecolor": "white",
            "showbackground": true,
            "ticks": "",
            "zerolinecolor": "white"
           }
          },
          "shapedefaults": {
           "line": {
            "color": "#2a3f5f"
           }
          },
          "ternary": {
           "aaxis": {
            "gridcolor": "white",
            "linecolor": "white",
            "ticks": ""
           },
           "baxis": {
            "gridcolor": "white",
            "linecolor": "white",
            "ticks": ""
           },
           "bgcolor": "#E5ECF6",
           "caxis": {
            "gridcolor": "white",
            "linecolor": "white",
            "ticks": ""
           }
          },
          "title": {
           "x": 0.05
          },
          "xaxis": {
           "automargin": true,
           "gridcolor": "white",
           "linecolor": "white",
           "ticks": "",
           "title": {
            "standoff": 15
           },
           "zerolinecolor": "white",
           "zerolinewidth": 2
          },
          "yaxis": {
           "automargin": true,
           "gridcolor": "white",
           "linecolor": "white",
           "ticks": "",
           "title": {
            "standoff": 15
           },
           "zerolinecolor": "white",
           "zerolinewidth": 2
          }
         }
        },
        "title": {
         "font": {
          "color": "#4D5663"
         }
        },
        "xaxis": {
         "gridcolor": "#E1E5ED",
         "showgrid": true,
         "tickfont": {
          "color": "#4D5663"
         },
         "title": {
          "font": {
           "color": "#4D5663"
          },
          "text": ""
         },
         "zerolinecolor": "#E1E5ED"
        },
        "yaxis": {
         "gridcolor": "#E1E5ED",
         "showgrid": true,
         "tickfont": {
          "color": "#4D5663"
         },
         "title": {
          "font": {
           "color": "#4D5663"
          },
          "text": ""
         },
         "zerolinecolor": "#E1E5ED"
        }
       }
      },
      "text/html": "<div>                            <div id=\"715c0a30-ccd2-48ac-b4dd-4b498f645c6d\" class=\"plotly-graph-div\" style=\"height:525px; width:100%;\"></div>            <script type=\"text/javascript\">                require([\"plotly\"], function(Plotly) {                    window.PLOTLYENV=window.PLOTLYENV || {};\n                    window.PLOTLYENV.BASE_URL='https://plot.ly';                                    if (document.getElementById(\"715c0a30-ccd2-48ac-b4dd-4b498f645c6d\")) {                    Plotly.newPlot(                        \"715c0a30-ccd2-48ac-b4dd-4b498f645c6d\",                        [{\"marker\": {\"color\": \"rgba(255, 153, 51, 0.6)\", \"line\": {\"color\": \"rgba(255, 153, 51, 1.0)\", \"width\": 1}}, \"name\": \"Values\", \"orientation\": \"v\", \"text\": \"\", \"type\": \"bar\", \"x\": [\"A\", \"B\", \"C\"], \"y\": [32, 43, 50]}],                        {\"legend\": {\"bgcolor\": \"#F5F6F9\", \"font\": {\"color\": \"#4D5663\"}}, \"paper_bgcolor\": \"#F5F6F9\", \"plot_bgcolor\": \"#F5F6F9\", \"template\": {\"data\": {\"bar\": [{\"error_x\": {\"color\": \"#2a3f5f\"}, \"error_y\": {\"color\": \"#2a3f5f\"}, \"marker\": {\"line\": {\"color\": \"#E5ECF6\", \"width\": 0.5}}, \"type\": \"bar\"}], \"barpolar\": [{\"marker\": {\"line\": {\"color\": \"#E5ECF6\", \"width\": 0.5}}, \"type\": \"barpolar\"}], \"carpet\": [{\"aaxis\": {\"endlinecolor\": \"#2a3f5f\", \"gridcolor\": \"white\", \"linecolor\": \"white\", \"minorgridcolor\": \"white\", \"startlinecolor\": \"#2a3f5f\"}, \"baxis\": {\"endlinecolor\": \"#2a3f5f\", \"gridcolor\": \"white\", \"linecolor\": \"white\", \"minorgridcolor\": \"white\", \"startlinecolor\": \"#2a3f5f\"}, \"type\": \"carpet\"}], \"choropleth\": [{\"colorbar\": {\"outlinewidth\": 0, \"ticks\": \"\"}, \"type\": \"choropleth\"}], \"contour\": [{\"colorbar\": {\"outlinewidth\": 0, \"ticks\": \"\"}, \"colorscale\": [[0.0, \"#0d0887\"], [0.1111111111111111, \"#46039f\"], [0.2222222222222222, \"#7201a8\"], [0.3333333333333333, \"#9c179e\"], [0.4444444444444444, \"#bd3786\"], [0.5555555555555556, \"#d8576b\"], [0.6666666666666666, \"#ed7953\"], [0.7777777777777778, \"#fb9f3a\"], [0.8888888888888888, \"#fdca26\"], [1.0, \"#f0f921\"]], \"type\": \"contour\"}], \"contourcarpet\": [{\"colorbar\": {\"outlinewidth\": 0, \"ticks\": \"\"}, \"type\": \"contourcarpet\"}], \"heatmap\": [{\"colorbar\": {\"outlinewidth\": 0, \"ticks\": \"\"}, \"colorscale\": [[0.0, \"#0d0887\"], [0.1111111111111111, \"#46039f\"], [0.2222222222222222, \"#7201a8\"], [0.3333333333333333, \"#9c179e\"], [0.4444444444444444, \"#bd3786\"], [0.5555555555555556, \"#d8576b\"], [0.6666666666666666, \"#ed7953\"], [0.7777777777777778, \"#fb9f3a\"], [0.8888888888888888, \"#fdca26\"], [1.0, \"#f0f921\"]], \"type\": \"heatmap\"}], \"heatmapgl\": [{\"colorbar\": {\"outlinewidth\": 0, \"ticks\": \"\"}, \"colorscale\": [[0.0, \"#0d0887\"], [0.1111111111111111, \"#46039f\"], [0.2222222222222222, \"#7201a8\"], [0.3333333333333333, \"#9c179e\"], [0.4444444444444444, \"#bd3786\"], [0.5555555555555556, \"#d8576b\"], [0.6666666666666666, \"#ed7953\"], [0.7777777777777778, \"#fb9f3a\"], [0.8888888888888888, \"#fdca26\"], [1.0, \"#f0f921\"]], \"type\": \"heatmapgl\"}], \"histogram\": [{\"marker\": {\"colorbar\": {\"outlinewidth\": 0, \"ticks\": \"\"}}, \"type\": \"histogram\"}], \"histogram2d\": [{\"colorbar\": {\"outlinewidth\": 0, \"ticks\": \"\"}, \"colorscale\": [[0.0, \"#0d0887\"], [0.1111111111111111, \"#46039f\"], [0.2222222222222222, \"#7201a8\"], [0.3333333333333333, \"#9c179e\"], [0.4444444444444444, \"#bd3786\"], [0.5555555555555556, \"#d8576b\"], [0.6666666666666666, \"#ed7953\"], [0.7777777777777778, \"#fb9f3a\"], [0.8888888888888888, \"#fdca26\"], [1.0, \"#f0f921\"]], \"type\": \"histogram2d\"}], \"histogram2dcontour\": [{\"colorbar\": {\"outlinewidth\": 0, \"ticks\": \"\"}, \"colorscale\": [[0.0, \"#0d0887\"], [0.1111111111111111, \"#46039f\"], [0.2222222222222222, \"#7201a8\"], [0.3333333333333333, \"#9c179e\"], [0.4444444444444444, \"#bd3786\"], [0.5555555555555556, \"#d8576b\"], [0.6666666666666666, \"#ed7953\"], [0.7777777777777778, \"#fb9f3a\"], [0.8888888888888888, \"#fdca26\"], [1.0, \"#f0f921\"]], \"type\": \"histogram2dcontour\"}], \"mesh3d\": [{\"colorbar\": {\"outlinewidth\": 0, \"ticks\": \"\"}, \"type\": \"mesh3d\"}], \"parcoords\": [{\"line\": {\"colorbar\": {\"outlinewidth\": 0, \"ticks\": \"\"}}, \"type\": \"parcoords\"}], \"pie\": [{\"automargin\": true, \"type\": \"pie\"}], \"scatter\": [{\"marker\": {\"colorbar\": {\"outlinewidth\": 0, \"ticks\": \"\"}}, \"type\": \"scatter\"}], \"scatter3d\": [{\"line\": {\"colorbar\": {\"outlinewidth\": 0, \"ticks\": \"\"}}, \"marker\": {\"colorbar\": {\"outlinewidth\": 0, \"ticks\": \"\"}}, \"type\": \"scatter3d\"}], \"scattercarpet\": [{\"marker\": {\"colorbar\": {\"outlinewidth\": 0, \"ticks\": \"\"}}, \"type\": \"scattercarpet\"}], \"scattergeo\": [{\"marker\": {\"colorbar\": {\"outlinewidth\": 0, \"ticks\": \"\"}}, \"type\": \"scattergeo\"}], \"scattergl\": [{\"marker\": {\"colorbar\": {\"outlinewidth\": 0, \"ticks\": \"\"}}, \"type\": \"scattergl\"}], \"scattermapbox\": [{\"marker\": {\"colorbar\": {\"outlinewidth\": 0, \"ticks\": \"\"}}, \"type\": \"scattermapbox\"}], \"scatterpolar\": [{\"marker\": {\"colorbar\": {\"outlinewidth\": 0, \"ticks\": \"\"}}, \"type\": \"scatterpolar\"}], \"scatterpolargl\": [{\"marker\": {\"colorbar\": {\"outlinewidth\": 0, \"ticks\": \"\"}}, \"type\": \"scatterpolargl\"}], \"scatterternary\": [{\"marker\": {\"colorbar\": {\"outlinewidth\": 0, \"ticks\": \"\"}}, \"type\": \"scatterternary\"}], \"surface\": [{\"colorbar\": {\"outlinewidth\": 0, \"ticks\": \"\"}, \"colorscale\": [[0.0, \"#0d0887\"], [0.1111111111111111, \"#46039f\"], [0.2222222222222222, \"#7201a8\"], [0.3333333333333333, \"#9c179e\"], [0.4444444444444444, \"#bd3786\"], [0.5555555555555556, \"#d8576b\"], [0.6666666666666666, \"#ed7953\"], [0.7777777777777778, \"#fb9f3a\"], [0.8888888888888888, \"#fdca26\"], [1.0, \"#f0f921\"]], \"type\": \"surface\"}], \"table\": [{\"cells\": {\"fill\": {\"color\": \"#EBF0F8\"}, \"line\": {\"color\": \"white\"}}, \"header\": {\"fill\": {\"color\": \"#C8D4E3\"}, \"line\": {\"color\": \"white\"}}, \"type\": \"table\"}]}, \"layout\": {\"annotationdefaults\": {\"arrowcolor\": \"#2a3f5f\", \"arrowhead\": 0, \"arrowwidth\": 1}, \"coloraxis\": {\"colorbar\": {\"outlinewidth\": 0, \"ticks\": \"\"}}, \"colorscale\": {\"diverging\": [[0, \"#8e0152\"], [0.1, \"#c51b7d\"], [0.2, \"#de77ae\"], [0.3, \"#f1b6da\"], [0.4, \"#fde0ef\"], [0.5, \"#f7f7f7\"], [0.6, \"#e6f5d0\"], [0.7, \"#b8e186\"], [0.8, \"#7fbc41\"], [0.9, \"#4d9221\"], [1, \"#276419\"]], \"sequential\": [[0.0, \"#0d0887\"], [0.1111111111111111, \"#46039f\"], [0.2222222222222222, \"#7201a8\"], [0.3333333333333333, \"#9c179e\"], [0.4444444444444444, \"#bd3786\"], [0.5555555555555556, \"#d8576b\"], [0.6666666666666666, \"#ed7953\"], [0.7777777777777778, \"#fb9f3a\"], [0.8888888888888888, \"#fdca26\"], [1.0, \"#f0f921\"]], \"sequentialminus\": [[0.0, \"#0d0887\"], [0.1111111111111111, \"#46039f\"], [0.2222222222222222, \"#7201a8\"], [0.3333333333333333, \"#9c179e\"], [0.4444444444444444, \"#bd3786\"], [0.5555555555555556, \"#d8576b\"], [0.6666666666666666, \"#ed7953\"], [0.7777777777777778, \"#fb9f3a\"], [0.8888888888888888, \"#fdca26\"], [1.0, \"#f0f921\"]]}, \"colorway\": [\"#636efa\", \"#EF553B\", \"#00cc96\", \"#ab63fa\", \"#FFA15A\", \"#19d3f3\", \"#FF6692\", \"#B6E880\", \"#FF97FF\", \"#FECB52\"], \"font\": {\"color\": \"#2a3f5f\"}, \"geo\": {\"bgcolor\": \"white\", \"lakecolor\": \"white\", \"landcolor\": \"#E5ECF6\", \"showlakes\": true, \"showland\": true, \"subunitcolor\": \"white\"}, \"hoverlabel\": {\"align\": \"left\"}, \"hovermode\": \"closest\", \"mapbox\": {\"style\": \"light\"}, \"paper_bgcolor\": \"white\", \"plot_bgcolor\": \"#E5ECF6\", \"polar\": {\"angularaxis\": {\"gridcolor\": \"white\", \"linecolor\": \"white\", \"ticks\": \"\"}, \"bgcolor\": \"#E5ECF6\", \"radialaxis\": {\"gridcolor\": \"white\", \"linecolor\": \"white\", \"ticks\": \"\"}}, \"scene\": {\"xaxis\": {\"backgroundcolor\": \"#E5ECF6\", \"gridcolor\": \"white\", \"gridwidth\": 2, \"linecolor\": \"white\", \"showbackground\": true, \"ticks\": \"\", \"zerolinecolor\": \"white\"}, \"yaxis\": {\"backgroundcolor\": \"#E5ECF6\", \"gridcolor\": \"white\", \"gridwidth\": 2, \"linecolor\": \"white\", \"showbackground\": true, \"ticks\": \"\", \"zerolinecolor\": \"white\"}, \"zaxis\": {\"backgroundcolor\": \"#E5ECF6\", \"gridcolor\": \"white\", \"gridwidth\": 2, \"linecolor\": \"white\", \"showbackground\": true, \"ticks\": \"\", \"zerolinecolor\": \"white\"}}, \"shapedefaults\": {\"line\": {\"color\": \"#2a3f5f\"}}, \"ternary\": {\"aaxis\": {\"gridcolor\": \"white\", \"linecolor\": \"white\", \"ticks\": \"\"}, \"baxis\": {\"gridcolor\": \"white\", \"linecolor\": \"white\", \"ticks\": \"\"}, \"bgcolor\": \"#E5ECF6\", \"caxis\": {\"gridcolor\": \"white\", \"linecolor\": \"white\", \"ticks\": \"\"}}, \"title\": {\"x\": 0.05}, \"xaxis\": {\"automargin\": true, \"gridcolor\": \"white\", \"linecolor\": \"white\", \"ticks\": \"\", \"title\": {\"standoff\": 15}, \"zerolinecolor\": \"white\", \"zerolinewidth\": 2}, \"yaxis\": {\"automargin\": true, \"gridcolor\": \"white\", \"linecolor\": \"white\", \"ticks\": \"\", \"title\": {\"standoff\": 15}, \"zerolinecolor\": \"white\", \"zerolinewidth\": 2}}}, \"title\": {\"font\": {\"color\": \"#4D5663\"}}, \"xaxis\": {\"gridcolor\": \"#E1E5ED\", \"showgrid\": true, \"tickfont\": {\"color\": \"#4D5663\"}, \"title\": {\"font\": {\"color\": \"#4D5663\"}, \"text\": \"\"}, \"zerolinecolor\": \"#E1E5ED\"}, \"yaxis\": {\"gridcolor\": \"#E1E5ED\", \"showgrid\": true, \"tickfont\": {\"color\": \"#4D5663\"}, \"title\": {\"font\": {\"color\": \"#4D5663\"}, \"text\": \"\"}, \"zerolinecolor\": \"#E1E5ED\"}},                        {\"showLink\": true, \"linkText\": \"Export to plot.ly\", \"plotlyServerURL\": \"https://plot.ly\", \"responsive\": true}                    ).then(function(){\n                            \nvar gd = document.getElementById('715c0a30-ccd2-48ac-b4dd-4b498f645c6d');\nvar x = new MutationObserver(function (mutations, observer) {{\n        var display = window.getComputedStyle(gd).display;\n        if (!display || display === 'none') {{\n            console.log([gd, 'removed!']);\n            Plotly.purge(gd);\n            observer.disconnect();\n        }}\n}});\n\n// Listen for the removal of the full notebook cells\nvar notebookContainer = gd.closest('#notebook-container');\nif (notebookContainer) {{\n    x.observe(notebookContainer, {childList: true});\n}}\n\n// Listen for the clearing of the current output cell\nvar outputEl = gd.closest('.output');\nif (outputEl) {{\n    x.observe(outputEl, {childList: true});\n}}\n\n                        })                };                });            </script>        </div>"
     },
     "metadata": {}
    }
   ],
   "source": [
    "df2.iplot(kind='bar', x='Category', y='Values')"
   ]
  },
  {
   "cell_type": "code",
   "execution_count": 11,
   "metadata": {},
   "outputs": [
    {
     "output_type": "display_data",
     "data": {
      "application/vnd.plotly.v1+json": {
       "config": {
        "linkText": "Export to plot.ly",
        "plotlyServerURL": "https://plot.ly",
        "showLink": true
       },
       "data": [
        {
         "marker": {
          "color": "rgba(255, 153, 51, 0.6)",
          "line": {
           "color": "rgba(255, 153, 51, 1.0)",
           "width": 1
          }
         },
         "name": "None",
         "orientation": "v",
         "text": "",
         "type": "bar",
         "x": [
          "A",
          "B",
          "C",
          "D"
         ],
         "y": [
          100,
          100,
          100,
          100
         ]
        }
       ],
       "layout": {
        "legend": {
         "bgcolor": "#F5F6F9",
         "font": {
          "color": "#4D5663"
         }
        },
        "paper_bgcolor": "#F5F6F9",
        "plot_bgcolor": "#F5F6F9",
        "template": {
         "data": {
          "bar": [
           {
            "error_x": {
             "color": "#2a3f5f"
            },
            "error_y": {
             "color": "#2a3f5f"
            },
            "marker": {
             "line": {
              "color": "#E5ECF6",
              "width": 0.5
             }
            },
            "type": "bar"
           }
          ],
          "barpolar": [
           {
            "marker": {
             "line": {
              "color": "#E5ECF6",
              "width": 0.5
             }
            },
            "type": "barpolar"
           }
          ],
          "carpet": [
           {
            "aaxis": {
             "endlinecolor": "#2a3f5f",
             "gridcolor": "white",
             "linecolor": "white",
             "minorgridcolor": "white",
             "startlinecolor": "#2a3f5f"
            },
            "baxis": {
             "endlinecolor": "#2a3f5f",
             "gridcolor": "white",
             "linecolor": "white",
             "minorgridcolor": "white",
             "startlinecolor": "#2a3f5f"
            },
            "type": "carpet"
           }
          ],
          "choropleth": [
           {
            "colorbar": {
             "outlinewidth": 0,
             "ticks": ""
            },
            "type": "choropleth"
           }
          ],
          "contour": [
           {
            "colorbar": {
             "outlinewidth": 0,
             "ticks": ""
            },
            "colorscale": [
             [
              0,
              "#0d0887"
             ],
             [
              0.1111111111111111,
              "#46039f"
             ],
             [
              0.2222222222222222,
              "#7201a8"
             ],
             [
              0.3333333333333333,
              "#9c179e"
             ],
             [
              0.4444444444444444,
              "#bd3786"
             ],
             [
              0.5555555555555556,
              "#d8576b"
             ],
             [
              0.6666666666666666,
              "#ed7953"
             ],
             [
              0.7777777777777778,
              "#fb9f3a"
             ],
             [
              0.8888888888888888,
              "#fdca26"
             ],
             [
              1,
              "#f0f921"
             ]
            ],
            "type": "contour"
           }
          ],
          "contourcarpet": [
           {
            "colorbar": {
             "outlinewidth": 0,
             "ticks": ""
            },
            "type": "contourcarpet"
           }
          ],
          "heatmap": [
           {
            "colorbar": {
             "outlinewidth": 0,
             "ticks": ""
            },
            "colorscale": [
             [
              0,
              "#0d0887"
             ],
             [
              0.1111111111111111,
              "#46039f"
             ],
             [
              0.2222222222222222,
              "#7201a8"
             ],
             [
              0.3333333333333333,
              "#9c179e"
             ],
             [
              0.4444444444444444,
              "#bd3786"
             ],
             [
              0.5555555555555556,
              "#d8576b"
             ],
             [
              0.6666666666666666,
              "#ed7953"
             ],
             [
              0.7777777777777778,
              "#fb9f3a"
             ],
             [
              0.8888888888888888,
              "#fdca26"
             ],
             [
              1,
              "#f0f921"
             ]
            ],
            "type": "heatmap"
           }
          ],
          "heatmapgl": [
           {
            "colorbar": {
             "outlinewidth": 0,
             "ticks": ""
            },
            "colorscale": [
             [
              0,
              "#0d0887"
             ],
             [
              0.1111111111111111,
              "#46039f"
             ],
             [
              0.2222222222222222,
              "#7201a8"
             ],
             [
              0.3333333333333333,
              "#9c179e"
             ],
             [
              0.4444444444444444,
              "#bd3786"
             ],
             [
              0.5555555555555556,
              "#d8576b"
             ],
             [
              0.6666666666666666,
              "#ed7953"
             ],
             [
              0.7777777777777778,
              "#fb9f3a"
             ],
             [
              0.8888888888888888,
              "#fdca26"
             ],
             [
              1,
              "#f0f921"
             ]
            ],
            "type": "heatmapgl"
           }
          ],
          "histogram": [
           {
            "marker": {
             "colorbar": {
              "outlinewidth": 0,
              "ticks": ""
             }
            },
            "type": "histogram"
           }
          ],
          "histogram2d": [
           {
            "colorbar": {
             "outlinewidth": 0,
             "ticks": ""
            },
            "colorscale": [
             [
              0,
              "#0d0887"
             ],
             [
              0.1111111111111111,
              "#46039f"
             ],
             [
              0.2222222222222222,
              "#7201a8"
             ],
             [
              0.3333333333333333,
              "#9c179e"
             ],
             [
              0.4444444444444444,
              "#bd3786"
             ],
             [
              0.5555555555555556,
              "#d8576b"
             ],
             [
              0.6666666666666666,
              "#ed7953"
             ],
             [
              0.7777777777777778,
              "#fb9f3a"
             ],
             [
              0.8888888888888888,
              "#fdca26"
             ],
             [
              1,
              "#f0f921"
             ]
            ],
            "type": "histogram2d"
           }
          ],
          "histogram2dcontour": [
           {
            "colorbar": {
             "outlinewidth": 0,
             "ticks": ""
            },
            "colorscale": [
             [
              0,
              "#0d0887"
             ],
             [
              0.1111111111111111,
              "#46039f"
             ],
             [
              0.2222222222222222,
              "#7201a8"
             ],
             [
              0.3333333333333333,
              "#9c179e"
             ],
             [
              0.4444444444444444,
              "#bd3786"
             ],
             [
              0.5555555555555556,
              "#d8576b"
             ],
             [
              0.6666666666666666,
              "#ed7953"
             ],
             [
              0.7777777777777778,
              "#fb9f3a"
             ],
             [
              0.8888888888888888,
              "#fdca26"
             ],
             [
              1,
              "#f0f921"
             ]
            ],
            "type": "histogram2dcontour"
           }
          ],
          "mesh3d": [
           {
            "colorbar": {
             "outlinewidth": 0,
             "ticks": ""
            },
            "type": "mesh3d"
           }
          ],
          "parcoords": [
           {
            "line": {
             "colorbar": {
              "outlinewidth": 0,
              "ticks": ""
             }
            },
            "type": "parcoords"
           }
          ],
          "pie": [
           {
            "automargin": true,
            "type": "pie"
           }
          ],
          "scatter": [
           {
            "marker": {
             "colorbar": {
              "outlinewidth": 0,
              "ticks": ""
             }
            },
            "type": "scatter"
           }
          ],
          "scatter3d": [
           {
            "line": {
             "colorbar": {
              "outlinewidth": 0,
              "ticks": ""
             }
            },
            "marker": {
             "colorbar": {
              "outlinewidth": 0,
              "ticks": ""
             }
            },
            "type": "scatter3d"
           }
          ],
          "scattercarpet": [
           {
            "marker": {
             "colorbar": {
              "outlinewidth": 0,
              "ticks": ""
             }
            },
            "type": "scattercarpet"
           }
          ],
          "scattergeo": [
           {
            "marker": {
             "colorbar": {
              "outlinewidth": 0,
              "ticks": ""
             }
            },
            "type": "scattergeo"
           }
          ],
          "scattergl": [
           {
            "marker": {
             "colorbar": {
              "outlinewidth": 0,
              "ticks": ""
             }
            },
            "type": "scattergl"
           }
          ],
          "scattermapbox": [
           {
            "marker": {
             "colorbar": {
              "outlinewidth": 0,
              "ticks": ""
             }
            },
            "type": "scattermapbox"
           }
          ],
          "scatterpolar": [
           {
            "marker": {
             "colorbar": {
              "outlinewidth": 0,
              "ticks": ""
             }
            },
            "type": "scatterpolar"
           }
          ],
          "scatterpolargl": [
           {
            "marker": {
             "colorbar": {
              "outlinewidth": 0,
              "ticks": ""
             }
            },
            "type": "scatterpolargl"
           }
          ],
          "scatterternary": [
           {
            "marker": {
             "colorbar": {
              "outlinewidth": 0,
              "ticks": ""
             }
            },
            "type": "scatterternary"
           }
          ],
          "surface": [
           {
            "colorbar": {
             "outlinewidth": 0,
             "ticks": ""
            },
            "colorscale": [
             [
              0,
              "#0d0887"
             ],
             [
              0.1111111111111111,
              "#46039f"
             ],
             [
              0.2222222222222222,
              "#7201a8"
             ],
             [
              0.3333333333333333,
              "#9c179e"
             ],
             [
              0.4444444444444444,
              "#bd3786"
             ],
             [
              0.5555555555555556,
              "#d8576b"
             ],
             [
              0.6666666666666666,
              "#ed7953"
             ],
             [
              0.7777777777777778,
              "#fb9f3a"
             ],
             [
              0.8888888888888888,
              "#fdca26"
             ],
             [
              1,
              "#f0f921"
             ]
            ],
            "type": "surface"
           }
          ],
          "table": [
           {
            "cells": {
             "fill": {
              "color": "#EBF0F8"
             },
             "line": {
              "color": "white"
             }
            },
            "header": {
             "fill": {
              "color": "#C8D4E3"
             },
             "line": {
              "color": "white"
             }
            },
            "type": "table"
           }
          ]
         },
         "layout": {
          "annotationdefaults": {
           "arrowcolor": "#2a3f5f",
           "arrowhead": 0,
           "arrowwidth": 1
          },
          "coloraxis": {
           "colorbar": {
            "outlinewidth": 0,
            "ticks": ""
           }
          },
          "colorscale": {
           "diverging": [
            [
             0,
             "#8e0152"
            ],
            [
             0.1,
             "#c51b7d"
            ],
            [
             0.2,
             "#de77ae"
            ],
            [
             0.3,
             "#f1b6da"
            ],
            [
             0.4,
             "#fde0ef"
            ],
            [
             0.5,
             "#f7f7f7"
            ],
            [
             0.6,
             "#e6f5d0"
            ],
            [
             0.7,
             "#b8e186"
            ],
            [
             0.8,
             "#7fbc41"
            ],
            [
             0.9,
             "#4d9221"
            ],
            [
             1,
             "#276419"
            ]
           ],
           "sequential": [
            [
             0,
             "#0d0887"
            ],
            [
             0.1111111111111111,
             "#46039f"
            ],
            [
             0.2222222222222222,
             "#7201a8"
            ],
            [
             0.3333333333333333,
             "#9c179e"
            ],
            [
             0.4444444444444444,
             "#bd3786"
            ],
            [
             0.5555555555555556,
             "#d8576b"
            ],
            [
             0.6666666666666666,
             "#ed7953"
            ],
            [
             0.7777777777777778,
             "#fb9f3a"
            ],
            [
             0.8888888888888888,
             "#fdca26"
            ],
            [
             1,
             "#f0f921"
            ]
           ],
           "sequentialminus": [
            [
             0,
             "#0d0887"
            ],
            [
             0.1111111111111111,
             "#46039f"
            ],
            [
             0.2222222222222222,
             "#7201a8"
            ],
            [
             0.3333333333333333,
             "#9c179e"
            ],
            [
             0.4444444444444444,
             "#bd3786"
            ],
            [
             0.5555555555555556,
             "#d8576b"
            ],
            [
             0.6666666666666666,
             "#ed7953"
            ],
            [
             0.7777777777777778,
             "#fb9f3a"
            ],
            [
             0.8888888888888888,
             "#fdca26"
            ],
            [
             1,
             "#f0f921"
            ]
           ]
          },
          "colorway": [
           "#636efa",
           "#EF553B",
           "#00cc96",
           "#ab63fa",
           "#FFA15A",
           "#19d3f3",
           "#FF6692",
           "#B6E880",
           "#FF97FF",
           "#FECB52"
          ],
          "font": {
           "color": "#2a3f5f"
          },
          "geo": {
           "bgcolor": "white",
           "lakecolor": "white",
           "landcolor": "#E5ECF6",
           "showlakes": true,
           "showland": true,
           "subunitcolor": "white"
          },
          "hoverlabel": {
           "align": "left"
          },
          "hovermode": "closest",
          "mapbox": {
           "style": "light"
          },
          "paper_bgcolor": "white",
          "plot_bgcolor": "#E5ECF6",
          "polar": {
           "angularaxis": {
            "gridcolor": "white",
            "linecolor": "white",
            "ticks": ""
           },
           "bgcolor": "#E5ECF6",
           "radialaxis": {
            "gridcolor": "white",
            "linecolor": "white",
            "ticks": ""
           }
          },
          "scene": {
           "xaxis": {
            "backgroundcolor": "#E5ECF6",
            "gridcolor": "white",
            "gridwidth": 2,
            "linecolor": "white",
            "showbackground": true,
            "ticks": "",
            "zerolinecolor": "white"
           },
           "yaxis": {
            "backgroundcolor": "#E5ECF6",
            "gridcolor": "white",
            "gridwidth": 2,
            "linecolor": "white",
            "showbackground": true,
            "ticks": "",
            "zerolinecolor": "white"
           },
           "zaxis": {
            "backgroundcolor": "#E5ECF6",
            "gridcolor": "white",
            "gridwidth": 2,
            "linecolor": "white",
            "showbackground": true,
            "ticks": "",
            "zerolinecolor": "white"
           }
          },
          "shapedefaults": {
           "line": {
            "color": "#2a3f5f"
           }
          },
          "ternary": {
           "aaxis": {
            "gridcolor": "white",
            "linecolor": "white",
            "ticks": ""
           },
           "baxis": {
            "gridcolor": "white",
            "linecolor": "white",
            "ticks": ""
           },
           "bgcolor": "#E5ECF6",
           "caxis": {
            "gridcolor": "white",
            "linecolor": "white",
            "ticks": ""
           }
          },
          "title": {
           "x": 0.05
          },
          "xaxis": {
           "automargin": true,
           "gridcolor": "white",
           "linecolor": "white",
           "ticks": "",
           "title": {
            "standoff": 15
           },
           "zerolinecolor": "white",
           "zerolinewidth": 2
          },
          "yaxis": {
           "automargin": true,
           "gridcolor": "white",
           "linecolor": "white",
           "ticks": "",
           "title": {
            "standoff": 15
           },
           "zerolinecolor": "white",
           "zerolinewidth": 2
          }
         }
        },
        "title": {
         "font": {
          "color": "#4D5663"
         }
        },
        "xaxis": {
         "gridcolor": "#E1E5ED",
         "showgrid": true,
         "tickfont": {
          "color": "#4D5663"
         },
         "title": {
          "font": {
           "color": "#4D5663"
          },
          "text": ""
         },
         "zerolinecolor": "#E1E5ED"
        },
        "yaxis": {
         "gridcolor": "#E1E5ED",
         "showgrid": true,
         "tickfont": {
          "color": "#4D5663"
         },
         "title": {
          "font": {
           "color": "#4D5663"
          },
          "text": ""
         },
         "zerolinecolor": "#E1E5ED"
        }
       }
      },
      "text/html": "<div>                            <div id=\"9fd7b6c1-8851-480c-af73-adf84e121db1\" class=\"plotly-graph-div\" style=\"height:525px; width:100%;\"></div>            <script type=\"text/javascript\">                require([\"plotly\"], function(Plotly) {                    window.PLOTLYENV=window.PLOTLYENV || {};\n                    window.PLOTLYENV.BASE_URL='https://plot.ly';                                    if (document.getElementById(\"9fd7b6c1-8851-480c-af73-adf84e121db1\")) {                    Plotly.newPlot(                        \"9fd7b6c1-8851-480c-af73-adf84e121db1\",                        [{\"marker\": {\"color\": \"rgba(255, 153, 51, 0.6)\", \"line\": {\"color\": \"rgba(255, 153, 51, 1.0)\", \"width\": 1}}, \"name\": \"None\", \"orientation\": \"v\", \"text\": \"\", \"type\": \"bar\", \"x\": [\"A\", \"B\", \"C\", \"D\"], \"y\": [100, 100, 100, 100]}],                        {\"legend\": {\"bgcolor\": \"#F5F6F9\", \"font\": {\"color\": \"#4D5663\"}}, \"paper_bgcolor\": \"#F5F6F9\", \"plot_bgcolor\": \"#F5F6F9\", \"template\": {\"data\": {\"bar\": [{\"error_x\": {\"color\": \"#2a3f5f\"}, \"error_y\": {\"color\": \"#2a3f5f\"}, \"marker\": {\"line\": {\"color\": \"#E5ECF6\", \"width\": 0.5}}, \"type\": \"bar\"}], \"barpolar\": [{\"marker\": {\"line\": {\"color\": \"#E5ECF6\", \"width\": 0.5}}, \"type\": \"barpolar\"}], \"carpet\": [{\"aaxis\": {\"endlinecolor\": \"#2a3f5f\", \"gridcolor\": \"white\", \"linecolor\": \"white\", \"minorgridcolor\": \"white\", \"startlinecolor\": \"#2a3f5f\"}, \"baxis\": {\"endlinecolor\": \"#2a3f5f\", \"gridcolor\": \"white\", \"linecolor\": \"white\", \"minorgridcolor\": \"white\", \"startlinecolor\": \"#2a3f5f\"}, \"type\": \"carpet\"}], \"choropleth\": [{\"colorbar\": {\"outlinewidth\": 0, \"ticks\": \"\"}, \"type\": \"choropleth\"}], \"contour\": [{\"colorbar\": {\"outlinewidth\": 0, \"ticks\": \"\"}, \"colorscale\": [[0.0, \"#0d0887\"], [0.1111111111111111, \"#46039f\"], [0.2222222222222222, \"#7201a8\"], [0.3333333333333333, \"#9c179e\"], [0.4444444444444444, \"#bd3786\"], [0.5555555555555556, \"#d8576b\"], [0.6666666666666666, \"#ed7953\"], [0.7777777777777778, \"#fb9f3a\"], [0.8888888888888888, \"#fdca26\"], [1.0, \"#f0f921\"]], \"type\": \"contour\"}], \"contourcarpet\": [{\"colorbar\": {\"outlinewidth\": 0, \"ticks\": \"\"}, \"type\": \"contourcarpet\"}], \"heatmap\": [{\"colorbar\": {\"outlinewidth\": 0, \"ticks\": \"\"}, \"colorscale\": [[0.0, \"#0d0887\"], [0.1111111111111111, \"#46039f\"], [0.2222222222222222, \"#7201a8\"], [0.3333333333333333, \"#9c179e\"], [0.4444444444444444, \"#bd3786\"], [0.5555555555555556, \"#d8576b\"], [0.6666666666666666, \"#ed7953\"], [0.7777777777777778, \"#fb9f3a\"], [0.8888888888888888, \"#fdca26\"], [1.0, \"#f0f921\"]], \"type\": \"heatmap\"}], \"heatmapgl\": [{\"colorbar\": {\"outlinewidth\": 0, \"ticks\": \"\"}, \"colorscale\": [[0.0, \"#0d0887\"], [0.1111111111111111, \"#46039f\"], [0.2222222222222222, \"#7201a8\"], [0.3333333333333333, \"#9c179e\"], [0.4444444444444444, \"#bd3786\"], [0.5555555555555556, \"#d8576b\"], [0.6666666666666666, \"#ed7953\"], [0.7777777777777778, \"#fb9f3a\"], [0.8888888888888888, \"#fdca26\"], [1.0, \"#f0f921\"]], \"type\": \"heatmapgl\"}], \"histogram\": [{\"marker\": {\"colorbar\": {\"outlinewidth\": 0, \"ticks\": \"\"}}, \"type\": \"histogram\"}], \"histogram2d\": [{\"colorbar\": {\"outlinewidth\": 0, \"ticks\": \"\"}, \"colorscale\": [[0.0, \"#0d0887\"], [0.1111111111111111, \"#46039f\"], [0.2222222222222222, \"#7201a8\"], [0.3333333333333333, \"#9c179e\"], [0.4444444444444444, \"#bd3786\"], [0.5555555555555556, \"#d8576b\"], [0.6666666666666666, \"#ed7953\"], [0.7777777777777778, \"#fb9f3a\"], [0.8888888888888888, \"#fdca26\"], [1.0, \"#f0f921\"]], \"type\": \"histogram2d\"}], \"histogram2dcontour\": [{\"colorbar\": {\"outlinewidth\": 0, \"ticks\": \"\"}, \"colorscale\": [[0.0, \"#0d0887\"], [0.1111111111111111, \"#46039f\"], [0.2222222222222222, \"#7201a8\"], [0.3333333333333333, \"#9c179e\"], [0.4444444444444444, \"#bd3786\"], [0.5555555555555556, \"#d8576b\"], [0.6666666666666666, \"#ed7953\"], [0.7777777777777778, \"#fb9f3a\"], [0.8888888888888888, \"#fdca26\"], [1.0, \"#f0f921\"]], \"type\": \"histogram2dcontour\"}], \"mesh3d\": [{\"colorbar\": {\"outlinewidth\": 0, \"ticks\": \"\"}, \"type\": \"mesh3d\"}], \"parcoords\": [{\"line\": {\"colorbar\": {\"outlinewidth\": 0, \"ticks\": \"\"}}, \"type\": \"parcoords\"}], \"pie\": [{\"automargin\": true, \"type\": \"pie\"}], \"scatter\": [{\"marker\": {\"colorbar\": {\"outlinewidth\": 0, \"ticks\": \"\"}}, \"type\": \"scatter\"}], \"scatter3d\": [{\"line\": {\"colorbar\": {\"outlinewidth\": 0, \"ticks\": \"\"}}, \"marker\": {\"colorbar\": {\"outlinewidth\": 0, \"ticks\": \"\"}}, \"type\": \"scatter3d\"}], \"scattercarpet\": [{\"marker\": {\"colorbar\": {\"outlinewidth\": 0, \"ticks\": \"\"}}, \"type\": \"scattercarpet\"}], \"scattergeo\": [{\"marker\": {\"colorbar\": {\"outlinewidth\": 0, \"ticks\": \"\"}}, \"type\": \"scattergeo\"}], \"scattergl\": [{\"marker\": {\"colorbar\": {\"outlinewidth\": 0, \"ticks\": \"\"}}, \"type\": \"scattergl\"}], \"scattermapbox\": [{\"marker\": {\"colorbar\": {\"outlinewidth\": 0, \"ticks\": \"\"}}, \"type\": \"scattermapbox\"}], \"scatterpolar\": [{\"marker\": {\"colorbar\": {\"outlinewidth\": 0, \"ticks\": \"\"}}, \"type\": \"scatterpolar\"}], \"scatterpolargl\": [{\"marker\": {\"colorbar\": {\"outlinewidth\": 0, \"ticks\": \"\"}}, \"type\": \"scatterpolargl\"}], \"scatterternary\": [{\"marker\": {\"colorbar\": {\"outlinewidth\": 0, \"ticks\": \"\"}}, \"type\": \"scatterternary\"}], \"surface\": [{\"colorbar\": {\"outlinewidth\": 0, \"ticks\": \"\"}, \"colorscale\": [[0.0, \"#0d0887\"], [0.1111111111111111, \"#46039f\"], [0.2222222222222222, \"#7201a8\"], [0.3333333333333333, \"#9c179e\"], [0.4444444444444444, \"#bd3786\"], [0.5555555555555556, \"#d8576b\"], [0.6666666666666666, \"#ed7953\"], [0.7777777777777778, \"#fb9f3a\"], [0.8888888888888888, \"#fdca26\"], [1.0, \"#f0f921\"]], \"type\": \"surface\"}], \"table\": [{\"cells\": {\"fill\": {\"color\": \"#EBF0F8\"}, \"line\": {\"color\": \"white\"}}, \"header\": {\"fill\": {\"color\": \"#C8D4E3\"}, \"line\": {\"color\": \"white\"}}, \"type\": \"table\"}]}, \"layout\": {\"annotationdefaults\": {\"arrowcolor\": \"#2a3f5f\", \"arrowhead\": 0, \"arrowwidth\": 1}, \"coloraxis\": {\"colorbar\": {\"outlinewidth\": 0, \"ticks\": \"\"}}, \"colorscale\": {\"diverging\": [[0, \"#8e0152\"], [0.1, \"#c51b7d\"], [0.2, \"#de77ae\"], [0.3, \"#f1b6da\"], [0.4, \"#fde0ef\"], [0.5, \"#f7f7f7\"], [0.6, \"#e6f5d0\"], [0.7, \"#b8e186\"], [0.8, \"#7fbc41\"], [0.9, \"#4d9221\"], [1, \"#276419\"]], \"sequential\": [[0.0, \"#0d0887\"], [0.1111111111111111, \"#46039f\"], [0.2222222222222222, \"#7201a8\"], [0.3333333333333333, \"#9c179e\"], [0.4444444444444444, \"#bd3786\"], [0.5555555555555556, \"#d8576b\"], [0.6666666666666666, \"#ed7953\"], [0.7777777777777778, \"#fb9f3a\"], [0.8888888888888888, \"#fdca26\"], [1.0, \"#f0f921\"]], \"sequentialminus\": [[0.0, \"#0d0887\"], [0.1111111111111111, \"#46039f\"], [0.2222222222222222, \"#7201a8\"], [0.3333333333333333, \"#9c179e\"], [0.4444444444444444, \"#bd3786\"], [0.5555555555555556, \"#d8576b\"], [0.6666666666666666, \"#ed7953\"], [0.7777777777777778, \"#fb9f3a\"], [0.8888888888888888, \"#fdca26\"], [1.0, \"#f0f921\"]]}, \"colorway\": [\"#636efa\", \"#EF553B\", \"#00cc96\", \"#ab63fa\", \"#FFA15A\", \"#19d3f3\", \"#FF6692\", \"#B6E880\", \"#FF97FF\", \"#FECB52\"], \"font\": {\"color\": \"#2a3f5f\"}, \"geo\": {\"bgcolor\": \"white\", \"lakecolor\": \"white\", \"landcolor\": \"#E5ECF6\", \"showlakes\": true, \"showland\": true, \"subunitcolor\": \"white\"}, \"hoverlabel\": {\"align\": \"left\"}, \"hovermode\": \"closest\", \"mapbox\": {\"style\": \"light\"}, \"paper_bgcolor\": \"white\", \"plot_bgcolor\": \"#E5ECF6\", \"polar\": {\"angularaxis\": {\"gridcolor\": \"white\", \"linecolor\": \"white\", \"ticks\": \"\"}, \"bgcolor\": \"#E5ECF6\", \"radialaxis\": {\"gridcolor\": \"white\", \"linecolor\": \"white\", \"ticks\": \"\"}}, \"scene\": {\"xaxis\": {\"backgroundcolor\": \"#E5ECF6\", \"gridcolor\": \"white\", \"gridwidth\": 2, \"linecolor\": \"white\", \"showbackground\": true, \"ticks\": \"\", \"zerolinecolor\": \"white\"}, \"yaxis\": {\"backgroundcolor\": \"#E5ECF6\", \"gridcolor\": \"white\", \"gridwidth\": 2, \"linecolor\": \"white\", \"showbackground\": true, \"ticks\": \"\", \"zerolinecolor\": \"white\"}, \"zaxis\": {\"backgroundcolor\": \"#E5ECF6\", \"gridcolor\": \"white\", \"gridwidth\": 2, \"linecolor\": \"white\", \"showbackground\": true, \"ticks\": \"\", \"zerolinecolor\": \"white\"}}, \"shapedefaults\": {\"line\": {\"color\": \"#2a3f5f\"}}, \"ternary\": {\"aaxis\": {\"gridcolor\": \"white\", \"linecolor\": \"white\", \"ticks\": \"\"}, \"baxis\": {\"gridcolor\": \"white\", \"linecolor\": \"white\", \"ticks\": \"\"}, \"bgcolor\": \"#E5ECF6\", \"caxis\": {\"gridcolor\": \"white\", \"linecolor\": \"white\", \"ticks\": \"\"}}, \"title\": {\"x\": 0.05}, \"xaxis\": {\"automargin\": true, \"gridcolor\": \"white\", \"linecolor\": \"white\", \"ticks\": \"\", \"title\": {\"standoff\": 15}, \"zerolinecolor\": \"white\", \"zerolinewidth\": 2}, \"yaxis\": {\"automargin\": true, \"gridcolor\": \"white\", \"linecolor\": \"white\", \"ticks\": \"\", \"title\": {\"standoff\": 15}, \"zerolinecolor\": \"white\", \"zerolinewidth\": 2}}}, \"title\": {\"font\": {\"color\": \"#4D5663\"}}, \"xaxis\": {\"gridcolor\": \"#E1E5ED\", \"showgrid\": true, \"tickfont\": {\"color\": \"#4D5663\"}, \"title\": {\"font\": {\"color\": \"#4D5663\"}, \"text\": \"\"}, \"zerolinecolor\": \"#E1E5ED\"}, \"yaxis\": {\"gridcolor\": \"#E1E5ED\", \"showgrid\": true, \"tickfont\": {\"color\": \"#4D5663\"}, \"title\": {\"font\": {\"color\": \"#4D5663\"}, \"text\": \"\"}, \"zerolinecolor\": \"#E1E5ED\"}},                        {\"showLink\": true, \"linkText\": \"Export to plot.ly\", \"plotlyServerURL\": \"https://plot.ly\", \"responsive\": true}                    ).then(function(){\n                            \nvar gd = document.getElementById('9fd7b6c1-8851-480c-af73-adf84e121db1');\nvar x = new MutationObserver(function (mutations, observer) {{\n        var display = window.getComputedStyle(gd).display;\n        if (!display || display === 'none') {{\n            console.log([gd, 'removed!']);\n            Plotly.purge(gd);\n            observer.disconnect();\n        }}\n}});\n\n// Listen for the removal of the full notebook cells\nvar notebookContainer = gd.closest('#notebook-container');\nif (notebookContainer) {{\n    x.observe(notebookContainer, {childList: true});\n}}\n\n// Listen for the clearing of the current output cell\nvar outputEl = gd.closest('.output');\nif (outputEl) {{\n    x.observe(outputEl, {childList: true});\n}}\n\n                        })                };                });            </script>        </div>"
     },
     "metadata": {}
    }
   ],
   "source": [
    "df.count().iplot(kind='bar')"
   ]
  },
  {
   "source": [
    "## Boxplots"
   ],
   "cell_type": "markdown",
   "metadata": {}
  },
  {
   "cell_type": "code",
   "execution_count": 12,
   "metadata": {},
   "outputs": [
    {
     "output_type": "display_data",
     "data": {
      "application/vnd.plotly.v1+json": {
       "config": {
        "linkText": "Export to plot.ly",
        "plotlyServerURL": "https://plot.ly",
        "showLink": true
       },
       "data": [
        {
         "boxpoints": false,
         "line": {
          "width": 1.3
         },
         "marker": {
          "color": "rgba(255, 153, 51, 1.0)"
         },
         "name": "A",
         "orientation": "v",
         "type": "box",
         "y": [
          -3.1903388189260506,
          0.23396036411163004,
          1.1589655786036386,
          -0.48300006152562525,
          -1.5103337587243804,
          -0.5044248859027471,
          1.182281645215199,
          0.42006775240638894,
          -0.8810298974091847,
          0.5039382873693414,
          -0.731266004129346,
          0.0638361921822204,
          -1.0652754263641049,
          -0.9041076466885405,
          -0.9048795324169541,
          -0.7972587761240022,
          -0.3675670471291356,
          0.28082146701438343,
          -0.08633039339250868,
          0.040217153150704704,
          -0.6690624158655928,
          1.2627520886852726,
          0.8930334427555254,
          -0.5720828983632429,
          -0.10829789239054843,
          0.40614750365984825,
          -1.103865178801149,
          -0.8121010383177608,
          0.10072184675344648,
          -0.5769169489648015,
          -1.064607754248978,
          0.2803088090050602,
          0.27784983531770807,
          -0.41074940453263725,
          0.5858394974501357,
          -1.1873780187790168,
          -1.3497579113052596,
          1.255295743570665,
          -0.6927268600950082,
          -0.36127203424382964,
          -0.34463610823926666,
          -1.2009964413381025,
          1.3923569898979733,
          0.7787889527113488,
          1.8663933162193367,
          -0.7896518608815303,
          0.8604392983684553,
          0.5735613938299836,
          -1.2802106717549009,
          0.44164511860901834,
          -1.1744289444226033,
          -0.0000060149059195747345,
          -0.6467481917357054,
          1.2327214192099953,
          -0.28623017443738186,
          -1.7412710235687312,
          -0.9758958392945769,
          1.600310178717572,
          -0.6658748622479977,
          0.36105544712213045,
          1.2539490446516994,
          1.0583809422068344,
          -0.597617455493197,
          -0.45722923476382665,
          -1.2684784915115794,
          -0.9644190323469388,
          -0.8772580574236023,
          0.085838476310741,
          0.48674958148652886,
          0.9676561629391955,
          -2.13767913287318,
          -2.955837736363831,
          -1.7764340900302908,
          1.272615789302066,
          -0.37425080144249273,
          1.026973987239565,
          2.100477946764772,
          -0.9807225547579596,
          -0.7533250886156038,
          -0.03650463249437804,
          0.3529513644456242,
          -1.3607833800573281,
          -1.7417396477441502,
          -1.2994294895974514,
          0.32077583616185623,
          -0.4244455156618559,
          0.8905320772769698,
          -1.3186547947430771,
          0.12166001368478756,
          -1.2191124444406027,
          0.24654677954656246,
          -0.2623982371892286,
          0.2624213780227509,
          0.09375602776369371,
          -0.8396352448027719,
          -0.5553431002419489,
          -0.06731001731720351,
          -0.49821737363514945,
          2.474916165429662,
          -1.6424571327832522
         ]
        },
        {
         "boxpoints": false,
         "line": {
          "width": 1.3
         },
         "marker": {
          "color": "rgba(55, 128, 191, 1.0)"
         },
         "name": "B",
         "orientation": "v",
         "type": "box",
         "y": [
          -0.3643496606765255,
          0.026742083793018775,
          0.3584549394564874,
          -0.15087399036258875,
          0.7692264311391451,
          -0.9607394936456178,
          1.099364393084451,
          2.0413594007607077,
          -0.9589429120315346,
          -1.0151262656536937,
          -2.7705342521888636,
          0.04519916765724038,
          -1.0324039775286689,
          0.21166535206455778,
          0.9519171224472974,
          -0.8073326446901398,
          -0.11985422234986415,
          -0.1234321641152109,
          0.9187427563080505,
          -1.5763765046502152,
          0.48951503176455424,
          -0.278969609256558,
          -0.3648383818684051,
          -0.007140551384771878,
          0.824952324575092,
          1.012484922632672,
          0.5845377044183931,
          -1.2711783578576223,
          -0.36902106237264026,
          0.012682393985313328,
          0.3374744579584474,
          1.0374153302021154,
          0.8674581281533991,
          0.49520661962696927,
          -0.2181122070140142,
          -0.4198441589123327,
          -0.22085215002039907,
          -0.14099689419147918,
          -0.9772412761380672,
          -0.9091883734093862,
          -1.5686850852517986,
          0.12633424708785124,
          0.4249983112725074,
          -0.15071571160517683,
          -0.8190528021055005,
          -0.5843142509340462,
          1.009127911825222,
          -0.2532746339494671,
          0.8382486387582775,
          0.2987780822239634,
          -0.42940441705743443,
          0.12942894672747557,
          -0.3784668801032414,
          -0.36623302074540903,
          1.9636781681839237,
          -0.694293703929343,
          0.18243687176223544,
          0.44970065303344275,
          -0.5585085694844554,
          0.5781469849286903,
          -1.478679342255676,
          -2.2017812855469296,
          -0.22766449165792724,
          -0.9850956709230758,
          0.06535721379319329,
          1.6247637881367891,
          0.9388172664094236,
          0.5604816763327075,
          0.2297458405763916,
          0.5705488391936526,
          -0.5429901589467797,
          -1.4375484759630257,
          1.149625790934575,
          -1.8706089909902677,
          0.6574935076546705,
          0.3922469509849665,
          -0.3283399439671376,
          -0.7082986794613881,
          -1.3012155638305742,
          -0.47344112138941563,
          0.025524978856013302,
          -0.6078471413136215,
          0.6221060033789865,
          -0.8425812105486945,
          -1.9731018326838081,
          -2.085182182082291,
          0.7211728722787665,
          1.5764475887837608,
          0.17856892843054062,
          0.09394500672765961,
          -0.838783815812583,
          -2.0640038711962796,
          0.07541148221711562,
          0.011988483697282544,
          1.156875251344672,
          -0.32642331073805275,
          -1.0002773938460705,
          -0.409558017985458,
          -1.6432367398217418,
          -1.458768728092791
         ]
        },
        {
         "boxpoints": false,
         "line": {
          "width": 1.3
         },
         "marker": {
          "color": "rgba(50, 171, 96, 1.0)"
         },
         "name": "C",
         "orientation": "v",
         "type": "box",
         "y": [
          -1.1186463499542998,
          1.2677912975381758,
          0.36076316284766746,
          -0.594562609277583,
          -0.4685633922208175,
          -0.7414270275053735,
          -1.2620028022058527,
          -0.2633575322313773,
          -0.13705740516672574,
          -0.6779505642675806,
          -0.2026716055278497,
          1.6258578058108586,
          0.24708350229743825,
          0.6924231043760657,
          -1.5136756150318582,
          0.18387379001212456,
          -1.0758932407544046,
          -1.1277833413495375,
          -0.09007994172368866,
          1.7438241639662895,
          0.17877381008658313,
          0.21997679671829612,
          0.43375237351717855,
          -0.57839905502642,
          0.34209577444414135,
          -0.26366532914873114,
          1.0700940451035175,
          -0.9512143375191747,
          -0.6850989671874386,
          0.21183117412430214,
          -0.4104742967296816,
          -1.0890895555885556,
          0.36987011373475775,
          -1.0232701308222056,
          0.044981104707034446,
          -0.0824754843912133,
          2.092860328910299,
          2.8344786758836196,
          0.260552308604172,
          -0.2458360898438423,
          -1.2257665509409992,
          -1.1316510511315512,
          0.32548178557719026,
          0.6763374540496877,
          0.6183684289996768,
          0.22458715291167278,
          -0.10773707471439793,
          0.14631716285290056,
          -0.25856157950527603,
          0.3949298005054963,
          0.014701924255192494,
          0.04254310141261005,
          -0.3038555542985175,
          1.3746376476163982,
          -1.0525689185942786,
          1.8677556254708725,
          -0.9544443715719576,
          0.6250657420707972,
          -0.6597264515616512,
          1.2000128640230874,
          -1.921474505487477,
          0.10359809264203092,
          0.14030400767650186,
          -0.24415105688321234,
          0.09908985392907203,
          0.11762629422038864,
          -0.40161956844729146,
          -0.32560451956022274,
          -0.2742954646454567,
          0.7033588244428957,
          1.044708085637379,
          1.3432802304882736,
          -0.48809055516302796,
          -0.40759577124501833,
          -0.23367711063773317,
          1.0357161154696715,
          -2.035454205328424,
          -0.3275881726844608,
          -0.5365535854449085,
          0.5715003149914503,
          0.7005392956847408,
          -0.6098133766978422,
          0.13932592576040911,
          -0.7696519088160988,
          -0.756068093698991,
          -2.6222547596454278,
          -0.47657293861878464,
          1.1639948628729075,
          -1.4642275879391387,
          -0.38596602153173,
          -0.5421683648952816,
          0.10309907483896115,
          0.2639944083236471,
          0.09410435510004495,
          -0.6567099939622915,
          -0.2203570095662532,
          -1.881779224440967,
          0.41613232309439224,
          0.7655415853330867,
          -1.4245542342590862
         ]
        },
        {
         "boxpoints": false,
         "line": {
          "width": 1.3
         },
         "marker": {
          "color": "rgba(128, 0, 128, 1.0)"
         },
         "name": "D",
         "orientation": "v",
         "type": "box",
         "y": [
          -0.6489732176465235,
          -0.41469620685869946,
          -0.7371821797185605,
          -0.9768777099594689,
          -0.22711856500745847,
          2.54026166785655,
          0.15537859565815373,
          -0.9775530087225272,
          2.1618950609150063,
          -1.62519664198678,
          0.21236468315567575,
          1.3459918522282894,
          0.08370362006998518,
          0.7394987862241378,
          0.6539134662590035,
          -0.7086034819362234,
          1.6417074272652397,
          0.8369405076533828,
          -0.1704799982098994,
          -0.6549938398194295,
          -0.5483941513527122,
          -1.0447976323516879,
          -0.8018209373504784,
          0.9465864367131726,
          0.6825721074052299,
          0.7887445296778326,
          -0.07546641130273239,
          0.9536526696779729,
          0.4438010796827428,
          -2.2370489036955785,
          -0.6698273819555984,
          0.20635471129522778,
          2.6020926738257306,
          1.0709247935134785,
          0.32384649714279573,
          0.09885999146630725,
          -2.619846279753586,
          -0.46368625253882917,
          1.8712323092911936,
          0.05486969328773147,
          -1.1935146053370786,
          -0.16610251307721524,
          0.6384990529938278,
          1.4038901310185594,
          -0.27245345648714625,
          0.6216184998596498,
          -1.2889792680352745,
          0.3087510888991206,
          0.7360554150652998,
          -0.5165922648054353,
          1.3395981597477955,
          -0.5252602248023504,
          0.6099177946814479,
          -1.0996073656442549,
          2.8542098952108206,
          -0.8285294637490741,
          -0.11911381103015203,
          -1.2557955685428008,
          0.20494733090020398,
          1.447145307689846,
          -0.10189582644921229,
          -2.340645851858345,
          0.905048221674501,
          -3.2847949833595678,
          1.1954851366552612,
          -0.5849358200331003,
          0.30759900650876176,
          -1.4237600566252469,
          1.156013455755697,
          -1.4013371187352321,
          -1.1940724679311008,
          0.6717037121348988,
          0.29877179423852096,
          0.0735572848097489,
          -0.9995298211801902,
          -0.7382077941967837,
          -0.8081365209550897,
          0.2597666777870895,
          0.7055084707601808,
          -2.0317763614359197,
          1.0858361132082317,
          0.2245567699104668,
          0.19531027958986188,
          1.7143659929154766,
          -0.07210747828589123,
          0.6727003522455439,
          -0.10537352910610093,
          1.4134671690171892,
          0.6044508884083378,
          1.0463998481695964,
          0.04921068006225297,
          -0.5367797534585702,
          -0.4983033200797242,
          1.6722949355998922,
          0.5433310212695938,
          -0.31371004745330844,
          0.6080594834764896,
          0.05958357598335059,
          -0.9994953363575223,
          0.3057815249245013
         ]
        }
       ],
       "layout": {
        "legend": {
         "bgcolor": "#F5F6F9",
         "font": {
          "color": "#4D5663"
         }
        },
        "paper_bgcolor": "#F5F6F9",
        "plot_bgcolor": "#F5F6F9",
        "template": {
         "data": {
          "bar": [
           {
            "error_x": {
             "color": "#2a3f5f"
            },
            "error_y": {
             "color": "#2a3f5f"
            },
            "marker": {
             "line": {
              "color": "#E5ECF6",
              "width": 0.5
             }
            },
            "type": "bar"
           }
          ],
          "barpolar": [
           {
            "marker": {
             "line": {
              "color": "#E5ECF6",
              "width": 0.5
             }
            },
            "type": "barpolar"
           }
          ],
          "carpet": [
           {
            "aaxis": {
             "endlinecolor": "#2a3f5f",
             "gridcolor": "white",
             "linecolor": "white",
             "minorgridcolor": "white",
             "startlinecolor": "#2a3f5f"
            },
            "baxis": {
             "endlinecolor": "#2a3f5f",
             "gridcolor": "white",
             "linecolor": "white",
             "minorgridcolor": "white",
             "startlinecolor": "#2a3f5f"
            },
            "type": "carpet"
           }
          ],
          "choropleth": [
           {
            "colorbar": {
             "outlinewidth": 0,
             "ticks": ""
            },
            "type": "choropleth"
           }
          ],
          "contour": [
           {
            "colorbar": {
             "outlinewidth": 0,
             "ticks": ""
            },
            "colorscale": [
             [
              0,
              "#0d0887"
             ],
             [
              0.1111111111111111,
              "#46039f"
             ],
             [
              0.2222222222222222,
              "#7201a8"
             ],
             [
              0.3333333333333333,
              "#9c179e"
             ],
             [
              0.4444444444444444,
              "#bd3786"
             ],
             [
              0.5555555555555556,
              "#d8576b"
             ],
             [
              0.6666666666666666,
              "#ed7953"
             ],
             [
              0.7777777777777778,
              "#fb9f3a"
             ],
             [
              0.8888888888888888,
              "#fdca26"
             ],
             [
              1,
              "#f0f921"
             ]
            ],
            "type": "contour"
           }
          ],
          "contourcarpet": [
           {
            "colorbar": {
             "outlinewidth": 0,
             "ticks": ""
            },
            "type": "contourcarpet"
           }
          ],
          "heatmap": [
           {
            "colorbar": {
             "outlinewidth": 0,
             "ticks": ""
            },
            "colorscale": [
             [
              0,
              "#0d0887"
             ],
             [
              0.1111111111111111,
              "#46039f"
             ],
             [
              0.2222222222222222,
              "#7201a8"
             ],
             [
              0.3333333333333333,
              "#9c179e"
             ],
             [
              0.4444444444444444,
              "#bd3786"
             ],
             [
              0.5555555555555556,
              "#d8576b"
             ],
             [
              0.6666666666666666,
              "#ed7953"
             ],
             [
              0.7777777777777778,
              "#fb9f3a"
             ],
             [
              0.8888888888888888,
              "#fdca26"
             ],
             [
              1,
              "#f0f921"
             ]
            ],
            "type": "heatmap"
           }
          ],
          "heatmapgl": [
           {
            "colorbar": {
             "outlinewidth": 0,
             "ticks": ""
            },
            "colorscale": [
             [
              0,
              "#0d0887"
             ],
             [
              0.1111111111111111,
              "#46039f"
             ],
             [
              0.2222222222222222,
              "#7201a8"
             ],
             [
              0.3333333333333333,
              "#9c179e"
             ],
             [
              0.4444444444444444,
              "#bd3786"
             ],
             [
              0.5555555555555556,
              "#d8576b"
             ],
             [
              0.6666666666666666,
              "#ed7953"
             ],
             [
              0.7777777777777778,
              "#fb9f3a"
             ],
             [
              0.8888888888888888,
              "#fdca26"
             ],
             [
              1,
              "#f0f921"
             ]
            ],
            "type": "heatmapgl"
           }
          ],
          "histogram": [
           {
            "marker": {
             "colorbar": {
              "outlinewidth": 0,
              "ticks": ""
             }
            },
            "type": "histogram"
           }
          ],
          "histogram2d": [
           {
            "colorbar": {
             "outlinewidth": 0,
             "ticks": ""
            },
            "colorscale": [
             [
              0,
              "#0d0887"
             ],
             [
              0.1111111111111111,
              "#46039f"
             ],
             [
              0.2222222222222222,
              "#7201a8"
             ],
             [
              0.3333333333333333,
              "#9c179e"
             ],
             [
              0.4444444444444444,
              "#bd3786"
             ],
             [
              0.5555555555555556,
              "#d8576b"
             ],
             [
              0.6666666666666666,
              "#ed7953"
             ],
             [
              0.7777777777777778,
              "#fb9f3a"
             ],
             [
              0.8888888888888888,
              "#fdca26"
             ],
             [
              1,
              "#f0f921"
             ]
            ],
            "type": "histogram2d"
           }
          ],
          "histogram2dcontour": [
           {
            "colorbar": {
             "outlinewidth": 0,
             "ticks": ""
            },
            "colorscale": [
             [
              0,
              "#0d0887"
             ],
             [
              0.1111111111111111,
              "#46039f"
             ],
             [
              0.2222222222222222,
              "#7201a8"
             ],
             [
              0.3333333333333333,
              "#9c179e"
             ],
             [
              0.4444444444444444,
              "#bd3786"
             ],
             [
              0.5555555555555556,
              "#d8576b"
             ],
             [
              0.6666666666666666,
              "#ed7953"
             ],
             [
              0.7777777777777778,
              "#fb9f3a"
             ],
             [
              0.8888888888888888,
              "#fdca26"
             ],
             [
              1,
              "#f0f921"
             ]
            ],
            "type": "histogram2dcontour"
           }
          ],
          "mesh3d": [
           {
            "colorbar": {
             "outlinewidth": 0,
             "ticks": ""
            },
            "type": "mesh3d"
           }
          ],
          "parcoords": [
           {
            "line": {
             "colorbar": {
              "outlinewidth": 0,
              "ticks": ""
             }
            },
            "type": "parcoords"
           }
          ],
          "pie": [
           {
            "automargin": true,
            "type": "pie"
           }
          ],
          "scatter": [
           {
            "marker": {
             "colorbar": {
              "outlinewidth": 0,
              "ticks": ""
             }
            },
            "type": "scatter"
           }
          ],
          "scatter3d": [
           {
            "line": {
             "colorbar": {
              "outlinewidth": 0,
              "ticks": ""
             }
            },
            "marker": {
             "colorbar": {
              "outlinewidth": 0,
              "ticks": ""
             }
            },
            "type": "scatter3d"
           }
          ],
          "scattercarpet": [
           {
            "marker": {
             "colorbar": {
              "outlinewidth": 0,
              "ticks": ""
             }
            },
            "type": "scattercarpet"
           }
          ],
          "scattergeo": [
           {
            "marker": {
             "colorbar": {
              "outlinewidth": 0,
              "ticks": ""
             }
            },
            "type": "scattergeo"
           }
          ],
          "scattergl": [
           {
            "marker": {
             "colorbar": {
              "outlinewidth": 0,
              "ticks": ""
             }
            },
            "type": "scattergl"
           }
          ],
          "scattermapbox": [
           {
            "marker": {
             "colorbar": {
              "outlinewidth": 0,
              "ticks": ""
             }
            },
            "type": "scattermapbox"
           }
          ],
          "scatterpolar": [
           {
            "marker": {
             "colorbar": {
              "outlinewidth": 0,
              "ticks": ""
             }
            },
            "type": "scatterpolar"
           }
          ],
          "scatterpolargl": [
           {
            "marker": {
             "colorbar": {
              "outlinewidth": 0,
              "ticks": ""
             }
            },
            "type": "scatterpolargl"
           }
          ],
          "scatterternary": [
           {
            "marker": {
             "colorbar": {
              "outlinewidth": 0,
              "ticks": ""
             }
            },
            "type": "scatterternary"
           }
          ],
          "surface": [
           {
            "colorbar": {
             "outlinewidth": 0,
             "ticks": ""
            },
            "colorscale": [
             [
              0,
              "#0d0887"
             ],
             [
              0.1111111111111111,
              "#46039f"
             ],
             [
              0.2222222222222222,
              "#7201a8"
             ],
             [
              0.3333333333333333,
              "#9c179e"
             ],
             [
              0.4444444444444444,
              "#bd3786"
             ],
             [
              0.5555555555555556,
              "#d8576b"
             ],
             [
              0.6666666666666666,
              "#ed7953"
             ],
             [
              0.7777777777777778,
              "#fb9f3a"
             ],
             [
              0.8888888888888888,
              "#fdca26"
             ],
             [
              1,
              "#f0f921"
             ]
            ],
            "type": "surface"
           }
          ],
          "table": [
           {
            "cells": {
             "fill": {
              "color": "#EBF0F8"
             },
             "line": {
              "color": "white"
             }
            },
            "header": {
             "fill": {
              "color": "#C8D4E3"
             },
             "line": {
              "color": "white"
             }
            },
            "type": "table"
           }
          ]
         },
         "layout": {
          "annotationdefaults": {
           "arrowcolor": "#2a3f5f",
           "arrowhead": 0,
           "arrowwidth": 1
          },
          "coloraxis": {
           "colorbar": {
            "outlinewidth": 0,
            "ticks": ""
           }
          },
          "colorscale": {
           "diverging": [
            [
             0,
             "#8e0152"
            ],
            [
             0.1,
             "#c51b7d"
            ],
            [
             0.2,
             "#de77ae"
            ],
            [
             0.3,
             "#f1b6da"
            ],
            [
             0.4,
             "#fde0ef"
            ],
            [
             0.5,
             "#f7f7f7"
            ],
            [
             0.6,
             "#e6f5d0"
            ],
            [
             0.7,
             "#b8e186"
            ],
            [
             0.8,
             "#7fbc41"
            ],
            [
             0.9,
             "#4d9221"
            ],
            [
             1,
             "#276419"
            ]
           ],
           "sequential": [
            [
             0,
             "#0d0887"
            ],
            [
             0.1111111111111111,
             "#46039f"
            ],
            [
             0.2222222222222222,
             "#7201a8"
            ],
            [
             0.3333333333333333,
             "#9c179e"
            ],
            [
             0.4444444444444444,
             "#bd3786"
            ],
            [
             0.5555555555555556,
             "#d8576b"
            ],
            [
             0.6666666666666666,
             "#ed7953"
            ],
            [
             0.7777777777777778,
             "#fb9f3a"
            ],
            [
             0.8888888888888888,
             "#fdca26"
            ],
            [
             1,
             "#f0f921"
            ]
           ],
           "sequentialminus": [
            [
             0,
             "#0d0887"
            ],
            [
             0.1111111111111111,
             "#46039f"
            ],
            [
             0.2222222222222222,
             "#7201a8"
            ],
            [
             0.3333333333333333,
             "#9c179e"
            ],
            [
             0.4444444444444444,
             "#bd3786"
            ],
            [
             0.5555555555555556,
             "#d8576b"
            ],
            [
             0.6666666666666666,
             "#ed7953"
            ],
            [
             0.7777777777777778,
             "#fb9f3a"
            ],
            [
             0.8888888888888888,
             "#fdca26"
            ],
            [
             1,
             "#f0f921"
            ]
           ]
          },
          "colorway": [
           "#636efa",
           "#EF553B",
           "#00cc96",
           "#ab63fa",
           "#FFA15A",
           "#19d3f3",
           "#FF6692",
           "#B6E880",
           "#FF97FF",
           "#FECB52"
          ],
          "font": {
           "color": "#2a3f5f"
          },
          "geo": {
           "bgcolor": "white",
           "lakecolor": "white",
           "landcolor": "#E5ECF6",
           "showlakes": true,
           "showland": true,
           "subunitcolor": "white"
          },
          "hoverlabel": {
           "align": "left"
          },
          "hovermode": "closest",
          "mapbox": {
           "style": "light"
          },
          "paper_bgcolor": "white",
          "plot_bgcolor": "#E5ECF6",
          "polar": {
           "angularaxis": {
            "gridcolor": "white",
            "linecolor": "white",
            "ticks": ""
           },
           "bgcolor": "#E5ECF6",
           "radialaxis": {
            "gridcolor": "white",
            "linecolor": "white",
            "ticks": ""
           }
          },
          "scene": {
           "xaxis": {
            "backgroundcolor": "#E5ECF6",
            "gridcolor": "white",
            "gridwidth": 2,
            "linecolor": "white",
            "showbackground": true,
            "ticks": "",
            "zerolinecolor": "white"
           },
           "yaxis": {
            "backgroundcolor": "#E5ECF6",
            "gridcolor": "white",
            "gridwidth": 2,
            "linecolor": "white",
            "showbackground": true,
            "ticks": "",
            "zerolinecolor": "white"
           },
           "zaxis": {
            "backgroundcolor": "#E5ECF6",
            "gridcolor": "white",
            "gridwidth": 2,
            "linecolor": "white",
            "showbackground": true,
            "ticks": "",
            "zerolinecolor": "white"
           }
          },
          "shapedefaults": {
           "line": {
            "color": "#2a3f5f"
           }
          },
          "ternary": {
           "aaxis": {
            "gridcolor": "white",
            "linecolor": "white",
            "ticks": ""
           },
           "baxis": {
            "gridcolor": "white",
            "linecolor": "white",
            "ticks": ""
           },
           "bgcolor": "#E5ECF6",
           "caxis": {
            "gridcolor": "white",
            "linecolor": "white",
            "ticks": ""
           }
          },
          "title": {
           "x": 0.05
          },
          "xaxis": {
           "automargin": true,
           "gridcolor": "white",
           "linecolor": "white",
           "ticks": "",
           "title": {
            "standoff": 15
           },
           "zerolinecolor": "white",
           "zerolinewidth": 2
          },
          "yaxis": {
           "automargin": true,
           "gridcolor": "white",
           "linecolor": "white",
           "ticks": "",
           "title": {
            "standoff": 15
           },
           "zerolinecolor": "white",
           "zerolinewidth": 2
          }
         }
        },
        "title": {
         "font": {
          "color": "#4D5663"
         }
        },
        "xaxis": {
         "gridcolor": "#E1E5ED",
         "showgrid": true,
         "tickfont": {
          "color": "#4D5663"
         },
         "title": {
          "font": {
           "color": "#4D5663"
          },
          "text": ""
         },
         "zerolinecolor": "#E1E5ED"
        },
        "yaxis": {
         "gridcolor": "#E1E5ED",
         "showgrid": true,
         "tickfont": {
          "color": "#4D5663"
         },
         "title": {
          "font": {
           "color": "#4D5663"
          },
          "text": ""
         },
         "zerolinecolor": "#E1E5ED"
        }
       }
      },
      "text/html": "<div>                            <div id=\"28cf1d14-7c63-4254-90f2-21b70fad893f\" class=\"plotly-graph-div\" style=\"height:525px; width:100%;\"></div>            <script type=\"text/javascript\">                require([\"plotly\"], function(Plotly) {                    window.PLOTLYENV=window.PLOTLYENV || {};\n                    window.PLOTLYENV.BASE_URL='https://plot.ly';                                    if (document.getElementById(\"28cf1d14-7c63-4254-90f2-21b70fad893f\")) {                    Plotly.newPlot(                        \"28cf1d14-7c63-4254-90f2-21b70fad893f\",                        [{\"boxpoints\": false, \"line\": {\"width\": 1.3}, \"marker\": {\"color\": \"rgba(255, 153, 51, 1.0)\"}, \"name\": \"A\", \"orientation\": \"v\", \"type\": \"box\", \"y\": [-3.1903388189260506, 0.23396036411163004, 1.1589655786036386, -0.48300006152562525, -1.5103337587243804, -0.5044248859027471, 1.182281645215199, 0.42006775240638894, -0.8810298974091847, 0.5039382873693414, -0.731266004129346, 0.0638361921822204, -1.0652754263641049, -0.9041076466885405, -0.9048795324169541, -0.7972587761240022, -0.3675670471291356, 0.28082146701438343, -0.08633039339250868, 0.040217153150704704, -0.6690624158655928, 1.2627520886852726, 0.8930334427555254, -0.5720828983632429, -0.10829789239054843, 0.40614750365984825, -1.103865178801149, -0.8121010383177608, 0.10072184675344648, -0.5769169489648015, -1.064607754248978, 0.2803088090050602, 0.27784983531770807, -0.41074940453263725, 0.5858394974501357, -1.1873780187790168, -1.3497579113052596, 1.255295743570665, -0.6927268600950082, -0.36127203424382964, -0.34463610823926666, -1.2009964413381025, 1.3923569898979733, 0.7787889527113488, 1.8663933162193367, -0.7896518608815303, 0.8604392983684553, 0.5735613938299836, -1.2802106717549009, 0.44164511860901834, -1.1744289444226033, -6.0149059195747345e-06, -0.6467481917357054, 1.2327214192099953, -0.28623017443738186, -1.7412710235687312, -0.9758958392945769, 1.600310178717572, -0.6658748622479977, 0.36105544712213045, 1.2539490446516994, 1.0583809422068344, -0.597617455493197, -0.45722923476382665, -1.2684784915115794, -0.9644190323469388, -0.8772580574236023, 0.085838476310741, 0.48674958148652886, 0.9676561629391955, -2.13767913287318, -2.955837736363831, -1.7764340900302908, 1.272615789302066, -0.37425080144249273, 1.026973987239565, 2.100477946764772, -0.9807225547579596, -0.7533250886156038, -0.03650463249437804, 0.3529513644456242, -1.3607833800573281, -1.7417396477441502, -1.2994294895974514, 0.32077583616185623, -0.4244455156618559, 0.8905320772769698, -1.3186547947430771, 0.12166001368478756, -1.2191124444406027, 0.24654677954656246, -0.2623982371892286, 0.2624213780227509, 0.09375602776369371, -0.8396352448027719, -0.5553431002419489, -0.06731001731720351, -0.49821737363514945, 2.474916165429662, -1.6424571327832522]}, {\"boxpoints\": false, \"line\": {\"width\": 1.3}, \"marker\": {\"color\": \"rgba(55, 128, 191, 1.0)\"}, \"name\": \"B\", \"orientation\": \"v\", \"type\": \"box\", \"y\": [-0.3643496606765255, 0.026742083793018775, 0.3584549394564874, -0.15087399036258875, 0.7692264311391451, -0.9607394936456178, 1.099364393084451, 2.0413594007607077, -0.9589429120315346, -1.0151262656536937, -2.7705342521888636, 0.04519916765724038, -1.0324039775286689, 0.21166535206455778, 0.9519171224472974, -0.8073326446901398, -0.11985422234986415, -0.1234321641152109, 0.9187427563080505, -1.5763765046502152, 0.48951503176455424, -0.278969609256558, -0.3648383818684051, -0.007140551384771878, 0.824952324575092, 1.012484922632672, 0.5845377044183931, -1.2711783578576223, -0.36902106237264026, 0.012682393985313328, 0.3374744579584474, 1.0374153302021154, 0.8674581281533991, 0.49520661962696927, -0.2181122070140142, -0.4198441589123327, -0.22085215002039907, -0.14099689419147918, -0.9772412761380672, -0.9091883734093862, -1.5686850852517986, 0.12633424708785124, 0.4249983112725074, -0.15071571160517683, -0.8190528021055005, -0.5843142509340462, 1.009127911825222, -0.2532746339494671, 0.8382486387582775, 0.2987780822239634, -0.42940441705743443, 0.12942894672747557, -0.3784668801032414, -0.36623302074540903, 1.9636781681839237, -0.694293703929343, 0.18243687176223544, 0.44970065303344275, -0.5585085694844554, 0.5781469849286903, -1.478679342255676, -2.2017812855469296, -0.22766449165792724, -0.9850956709230758, 0.06535721379319329, 1.6247637881367891, 0.9388172664094236, 0.5604816763327075, 0.2297458405763916, 0.5705488391936526, -0.5429901589467797, -1.4375484759630257, 1.149625790934575, -1.8706089909902677, 0.6574935076546705, 0.3922469509849665, -0.3283399439671376, -0.7082986794613881, -1.3012155638305742, -0.47344112138941563, 0.025524978856013302, -0.6078471413136215, 0.6221060033789865, -0.8425812105486945, -1.9731018326838081, -2.085182182082291, 0.7211728722787665, 1.5764475887837608, 0.17856892843054062, 0.09394500672765961, -0.838783815812583, -2.0640038711962796, 0.07541148221711562, 0.011988483697282544, 1.156875251344672, -0.32642331073805275, -1.0002773938460705, -0.409558017985458, -1.6432367398217418, -1.458768728092791]}, {\"boxpoints\": false, \"line\": {\"width\": 1.3}, \"marker\": {\"color\": \"rgba(50, 171, 96, 1.0)\"}, \"name\": \"C\", \"orientation\": \"v\", \"type\": \"box\", \"y\": [-1.1186463499542998, 1.2677912975381758, 0.36076316284766746, -0.594562609277583, -0.4685633922208175, -0.7414270275053735, -1.2620028022058527, -0.2633575322313773, -0.13705740516672574, -0.6779505642675806, -0.2026716055278497, 1.6258578058108586, 0.24708350229743825, 0.6924231043760657, -1.5136756150318582, 0.18387379001212456, -1.0758932407544046, -1.1277833413495375, -0.09007994172368866, 1.7438241639662895, 0.17877381008658313, 0.21997679671829612, 0.43375237351717855, -0.57839905502642, 0.34209577444414135, -0.26366532914873114, 1.0700940451035175, -0.9512143375191747, -0.6850989671874386, 0.21183117412430214, -0.4104742967296816, -1.0890895555885556, 0.36987011373475775, -1.0232701308222056, 0.044981104707034446, -0.0824754843912133, 2.092860328910299, 2.8344786758836196, 0.260552308604172, -0.2458360898438423, -1.2257665509409992, -1.1316510511315512, 0.32548178557719026, 0.6763374540496877, 0.6183684289996768, 0.22458715291167278, -0.10773707471439793, 0.14631716285290056, -0.25856157950527603, 0.3949298005054963, 0.014701924255192494, 0.04254310141261005, -0.3038555542985175, 1.3746376476163982, -1.0525689185942786, 1.8677556254708725, -0.9544443715719576, 0.6250657420707972, -0.6597264515616512, 1.2000128640230874, -1.921474505487477, 0.10359809264203092, 0.14030400767650186, -0.24415105688321234, 0.09908985392907203, 0.11762629422038864, -0.40161956844729146, -0.32560451956022274, -0.2742954646454567, 0.7033588244428957, 1.044708085637379, 1.3432802304882736, -0.48809055516302796, -0.40759577124501833, -0.23367711063773317, 1.0357161154696715, -2.035454205328424, -0.3275881726844608, -0.5365535854449085, 0.5715003149914503, 0.7005392956847408, -0.6098133766978422, 0.13932592576040911, -0.7696519088160988, -0.756068093698991, -2.6222547596454278, -0.47657293861878464, 1.1639948628729075, -1.4642275879391387, -0.38596602153173, -0.5421683648952816, 0.10309907483896115, 0.2639944083236471, 0.09410435510004495, -0.6567099939622915, -0.2203570095662532, -1.881779224440967, 0.41613232309439224, 0.7655415853330867, -1.4245542342590862]}, {\"boxpoints\": false, \"line\": {\"width\": 1.3}, \"marker\": {\"color\": \"rgba(128, 0, 128, 1.0)\"}, \"name\": \"D\", \"orientation\": \"v\", \"type\": \"box\", \"y\": [-0.6489732176465235, -0.41469620685869946, -0.7371821797185605, -0.9768777099594689, -0.22711856500745847, 2.54026166785655, 0.15537859565815373, -0.9775530087225272, 2.1618950609150063, -1.62519664198678, 0.21236468315567575, 1.3459918522282894, 0.08370362006998518, 0.7394987862241378, 0.6539134662590035, -0.7086034819362234, 1.6417074272652397, 0.8369405076533828, -0.1704799982098994, -0.6549938398194295, -0.5483941513527122, -1.0447976323516879, -0.8018209373504784, 0.9465864367131726, 0.6825721074052299, 0.7887445296778326, -0.07546641130273239, 0.9536526696779729, 0.4438010796827428, -2.2370489036955785, -0.6698273819555984, 0.20635471129522778, 2.6020926738257306, 1.0709247935134785, 0.32384649714279573, 0.09885999146630725, -2.619846279753586, -0.46368625253882917, 1.8712323092911936, 0.05486969328773147, -1.1935146053370786, -0.16610251307721524, 0.6384990529938278, 1.4038901310185594, -0.27245345648714625, 0.6216184998596498, -1.2889792680352745, 0.3087510888991206, 0.7360554150652998, -0.5165922648054353, 1.3395981597477955, -0.5252602248023504, 0.6099177946814479, -1.0996073656442549, 2.8542098952108206, -0.8285294637490741, -0.11911381103015203, -1.2557955685428008, 0.20494733090020398, 1.447145307689846, -0.10189582644921229, -2.340645851858345, 0.905048221674501, -3.2847949833595678, 1.1954851366552612, -0.5849358200331003, 0.30759900650876176, -1.4237600566252469, 1.156013455755697, -1.4013371187352321, -1.1940724679311008, 0.6717037121348988, 0.29877179423852096, 0.0735572848097489, -0.9995298211801902, -0.7382077941967837, -0.8081365209550897, 0.2597666777870895, 0.7055084707601808, -2.0317763614359197, 1.0858361132082317, 0.2245567699104668, 0.19531027958986188, 1.7143659929154766, -0.07210747828589123, 0.6727003522455439, -0.10537352910610093, 1.4134671690171892, 0.6044508884083378, 1.0463998481695964, 0.04921068006225297, -0.5367797534585702, -0.4983033200797242, 1.6722949355998922, 0.5433310212695938, -0.31371004745330844, 0.6080594834764896, 0.05958357598335059, -0.9994953363575223, 0.3057815249245013]}],                        {\"legend\": {\"bgcolor\": \"#F5F6F9\", \"font\": {\"color\": \"#4D5663\"}}, \"paper_bgcolor\": \"#F5F6F9\", \"plot_bgcolor\": \"#F5F6F9\", \"template\": {\"data\": {\"bar\": [{\"error_x\": {\"color\": \"#2a3f5f\"}, \"error_y\": {\"color\": \"#2a3f5f\"}, \"marker\": {\"line\": {\"color\": \"#E5ECF6\", \"width\": 0.5}}, \"type\": \"bar\"}], \"barpolar\": [{\"marker\": {\"line\": {\"color\": \"#E5ECF6\", \"width\": 0.5}}, \"type\": \"barpolar\"}], \"carpet\": [{\"aaxis\": {\"endlinecolor\": \"#2a3f5f\", \"gridcolor\": \"white\", \"linecolor\": \"white\", \"minorgridcolor\": \"white\", \"startlinecolor\": \"#2a3f5f\"}, \"baxis\": {\"endlinecolor\": \"#2a3f5f\", \"gridcolor\": \"white\", \"linecolor\": \"white\", \"minorgridcolor\": \"white\", \"startlinecolor\": \"#2a3f5f\"}, \"type\": \"carpet\"}], \"choropleth\": [{\"colorbar\": {\"outlinewidth\": 0, \"ticks\": \"\"}, \"type\": \"choropleth\"}], \"contour\": [{\"colorbar\": {\"outlinewidth\": 0, \"ticks\": \"\"}, \"colorscale\": [[0.0, \"#0d0887\"], [0.1111111111111111, \"#46039f\"], [0.2222222222222222, \"#7201a8\"], [0.3333333333333333, \"#9c179e\"], [0.4444444444444444, \"#bd3786\"], [0.5555555555555556, \"#d8576b\"], [0.6666666666666666, \"#ed7953\"], [0.7777777777777778, \"#fb9f3a\"], [0.8888888888888888, \"#fdca26\"], [1.0, \"#f0f921\"]], \"type\": \"contour\"}], \"contourcarpet\": [{\"colorbar\": {\"outlinewidth\": 0, \"ticks\": \"\"}, \"type\": \"contourcarpet\"}], \"heatmap\": [{\"colorbar\": {\"outlinewidth\": 0, \"ticks\": \"\"}, \"colorscale\": [[0.0, \"#0d0887\"], [0.1111111111111111, \"#46039f\"], [0.2222222222222222, \"#7201a8\"], [0.3333333333333333, \"#9c179e\"], [0.4444444444444444, \"#bd3786\"], [0.5555555555555556, \"#d8576b\"], [0.6666666666666666, \"#ed7953\"], [0.7777777777777778, \"#fb9f3a\"], [0.8888888888888888, \"#fdca26\"], [1.0, \"#f0f921\"]], \"type\": \"heatmap\"}], \"heatmapgl\": [{\"colorbar\": {\"outlinewidth\": 0, \"ticks\": \"\"}, \"colorscale\": [[0.0, \"#0d0887\"], [0.1111111111111111, \"#46039f\"], [0.2222222222222222, \"#7201a8\"], [0.3333333333333333, \"#9c179e\"], [0.4444444444444444, \"#bd3786\"], [0.5555555555555556, \"#d8576b\"], [0.6666666666666666, \"#ed7953\"], [0.7777777777777778, \"#fb9f3a\"], [0.8888888888888888, \"#fdca26\"], [1.0, \"#f0f921\"]], \"type\": \"heatmapgl\"}], \"histogram\": [{\"marker\": {\"colorbar\": {\"outlinewidth\": 0, \"ticks\": \"\"}}, \"type\": \"histogram\"}], \"histogram2d\": [{\"colorbar\": {\"outlinewidth\": 0, \"ticks\": \"\"}, \"colorscale\": [[0.0, \"#0d0887\"], [0.1111111111111111, \"#46039f\"], [0.2222222222222222, \"#7201a8\"], [0.3333333333333333, \"#9c179e\"], [0.4444444444444444, \"#bd3786\"], [0.5555555555555556, \"#d8576b\"], [0.6666666666666666, \"#ed7953\"], [0.7777777777777778, \"#fb9f3a\"], [0.8888888888888888, \"#fdca26\"], [1.0, \"#f0f921\"]], \"type\": \"histogram2d\"}], \"histogram2dcontour\": [{\"colorbar\": {\"outlinewidth\": 0, \"ticks\": \"\"}, \"colorscale\": [[0.0, \"#0d0887\"], [0.1111111111111111, \"#46039f\"], [0.2222222222222222, \"#7201a8\"], [0.3333333333333333, \"#9c179e\"], [0.4444444444444444, \"#bd3786\"], [0.5555555555555556, \"#d8576b\"], [0.6666666666666666, \"#ed7953\"], [0.7777777777777778, \"#fb9f3a\"], [0.8888888888888888, \"#fdca26\"], [1.0, \"#f0f921\"]], \"type\": \"histogram2dcontour\"}], \"mesh3d\": [{\"colorbar\": {\"outlinewidth\": 0, \"ticks\": \"\"}, \"type\": \"mesh3d\"}], \"parcoords\": [{\"line\": {\"colorbar\": {\"outlinewidth\": 0, \"ticks\": \"\"}}, \"type\": \"parcoords\"}], \"pie\": [{\"automargin\": true, \"type\": \"pie\"}], \"scatter\": [{\"marker\": {\"colorbar\": {\"outlinewidth\": 0, \"ticks\": \"\"}}, \"type\": \"scatter\"}], \"scatter3d\": [{\"line\": {\"colorbar\": {\"outlinewidth\": 0, \"ticks\": \"\"}}, \"marker\": {\"colorbar\": {\"outlinewidth\": 0, \"ticks\": \"\"}}, \"type\": \"scatter3d\"}], \"scattercarpet\": [{\"marker\": {\"colorbar\": {\"outlinewidth\": 0, \"ticks\": \"\"}}, \"type\": \"scattercarpet\"}], \"scattergeo\": [{\"marker\": {\"colorbar\": {\"outlinewidth\": 0, \"ticks\": \"\"}}, \"type\": \"scattergeo\"}], \"scattergl\": [{\"marker\": {\"colorbar\": {\"outlinewidth\": 0, \"ticks\": \"\"}}, \"type\": \"scattergl\"}], \"scattermapbox\": [{\"marker\": {\"colorbar\": {\"outlinewidth\": 0, \"ticks\": \"\"}}, \"type\": \"scattermapbox\"}], \"scatterpolar\": [{\"marker\": {\"colorbar\": {\"outlinewidth\": 0, \"ticks\": \"\"}}, \"type\": \"scatterpolar\"}], \"scatterpolargl\": [{\"marker\": {\"colorbar\": {\"outlinewidth\": 0, \"ticks\": \"\"}}, \"type\": \"scatterpolargl\"}], \"scatterternary\": [{\"marker\": {\"colorbar\": {\"outlinewidth\": 0, \"ticks\": \"\"}}, \"type\": \"scatterternary\"}], \"surface\": [{\"colorbar\": {\"outlinewidth\": 0, \"ticks\": \"\"}, \"colorscale\": [[0.0, \"#0d0887\"], [0.1111111111111111, \"#46039f\"], [0.2222222222222222, \"#7201a8\"], [0.3333333333333333, \"#9c179e\"], [0.4444444444444444, \"#bd3786\"], [0.5555555555555556, \"#d8576b\"], [0.6666666666666666, \"#ed7953\"], [0.7777777777777778, \"#fb9f3a\"], [0.8888888888888888, \"#fdca26\"], [1.0, \"#f0f921\"]], \"type\": \"surface\"}], \"table\": [{\"cells\": {\"fill\": {\"color\": \"#EBF0F8\"}, \"line\": {\"color\": \"white\"}}, \"header\": {\"fill\": {\"color\": \"#C8D4E3\"}, \"line\": {\"color\": \"white\"}}, \"type\": \"table\"}]}, \"layout\": {\"annotationdefaults\": {\"arrowcolor\": \"#2a3f5f\", \"arrowhead\": 0, \"arrowwidth\": 1}, \"coloraxis\": {\"colorbar\": {\"outlinewidth\": 0, \"ticks\": \"\"}}, \"colorscale\": {\"diverging\": [[0, \"#8e0152\"], [0.1, \"#c51b7d\"], [0.2, \"#de77ae\"], [0.3, \"#f1b6da\"], [0.4, \"#fde0ef\"], [0.5, \"#f7f7f7\"], [0.6, \"#e6f5d0\"], [0.7, \"#b8e186\"], [0.8, \"#7fbc41\"], [0.9, \"#4d9221\"], [1, \"#276419\"]], \"sequential\": [[0.0, \"#0d0887\"], [0.1111111111111111, \"#46039f\"], [0.2222222222222222, \"#7201a8\"], [0.3333333333333333, \"#9c179e\"], [0.4444444444444444, \"#bd3786\"], [0.5555555555555556, \"#d8576b\"], [0.6666666666666666, \"#ed7953\"], [0.7777777777777778, \"#fb9f3a\"], [0.8888888888888888, \"#fdca26\"], [1.0, \"#f0f921\"]], \"sequentialminus\": [[0.0, \"#0d0887\"], [0.1111111111111111, \"#46039f\"], [0.2222222222222222, \"#7201a8\"], [0.3333333333333333, \"#9c179e\"], [0.4444444444444444, \"#bd3786\"], [0.5555555555555556, \"#d8576b\"], [0.6666666666666666, \"#ed7953\"], [0.7777777777777778, \"#fb9f3a\"], [0.8888888888888888, \"#fdca26\"], [1.0, \"#f0f921\"]]}, \"colorway\": [\"#636efa\", \"#EF553B\", \"#00cc96\", \"#ab63fa\", \"#FFA15A\", \"#19d3f3\", \"#FF6692\", \"#B6E880\", \"#FF97FF\", \"#FECB52\"], \"font\": {\"color\": \"#2a3f5f\"}, \"geo\": {\"bgcolor\": \"white\", \"lakecolor\": \"white\", \"landcolor\": \"#E5ECF6\", \"showlakes\": true, \"showland\": true, \"subunitcolor\": \"white\"}, \"hoverlabel\": {\"align\": \"left\"}, \"hovermode\": \"closest\", \"mapbox\": {\"style\": \"light\"}, \"paper_bgcolor\": \"white\", \"plot_bgcolor\": \"#E5ECF6\", \"polar\": {\"angularaxis\": {\"gridcolor\": \"white\", \"linecolor\": \"white\", \"ticks\": \"\"}, \"bgcolor\": \"#E5ECF6\", \"radialaxis\": {\"gridcolor\": \"white\", \"linecolor\": \"white\", \"ticks\": \"\"}}, \"scene\": {\"xaxis\": {\"backgroundcolor\": \"#E5ECF6\", \"gridcolor\": \"white\", \"gridwidth\": 2, \"linecolor\": \"white\", \"showbackground\": true, \"ticks\": \"\", \"zerolinecolor\": \"white\"}, \"yaxis\": {\"backgroundcolor\": \"#E5ECF6\", \"gridcolor\": \"white\", \"gridwidth\": 2, \"linecolor\": \"white\", \"showbackground\": true, \"ticks\": \"\", \"zerolinecolor\": \"white\"}, \"zaxis\": {\"backgroundcolor\": \"#E5ECF6\", \"gridcolor\": \"white\", \"gridwidth\": 2, \"linecolor\": \"white\", \"showbackground\": true, \"ticks\": \"\", \"zerolinecolor\": \"white\"}}, \"shapedefaults\": {\"line\": {\"color\": \"#2a3f5f\"}}, \"ternary\": {\"aaxis\": {\"gridcolor\": \"white\", \"linecolor\": \"white\", \"ticks\": \"\"}, \"baxis\": {\"gridcolor\": \"white\", \"linecolor\": \"white\", \"ticks\": \"\"}, \"bgcolor\": \"#E5ECF6\", \"caxis\": {\"gridcolor\": \"white\", \"linecolor\": \"white\", \"ticks\": \"\"}}, \"title\": {\"x\": 0.05}, \"xaxis\": {\"automargin\": true, \"gridcolor\": \"white\", \"linecolor\": \"white\", \"ticks\": \"\", \"title\": {\"standoff\": 15}, \"zerolinecolor\": \"white\", \"zerolinewidth\": 2}, \"yaxis\": {\"automargin\": true, \"gridcolor\": \"white\", \"linecolor\": \"white\", \"ticks\": \"\", \"title\": {\"standoff\": 15}, \"zerolinecolor\": \"white\", \"zerolinewidth\": 2}}}, \"title\": {\"font\": {\"color\": \"#4D5663\"}}, \"xaxis\": {\"gridcolor\": \"#E1E5ED\", \"showgrid\": true, \"tickfont\": {\"color\": \"#4D5663\"}, \"title\": {\"font\": {\"color\": \"#4D5663\"}, \"text\": \"\"}, \"zerolinecolor\": \"#E1E5ED\"}, \"yaxis\": {\"gridcolor\": \"#E1E5ED\", \"showgrid\": true, \"tickfont\": {\"color\": \"#4D5663\"}, \"title\": {\"font\": {\"color\": \"#4D5663\"}, \"text\": \"\"}, \"zerolinecolor\": \"#E1E5ED\"}},                        {\"showLink\": true, \"linkText\": \"Export to plot.ly\", \"plotlyServerURL\": \"https://plot.ly\", \"responsive\": true}                    ).then(function(){\n                            \nvar gd = document.getElementById('28cf1d14-7c63-4254-90f2-21b70fad893f');\nvar x = new MutationObserver(function (mutations, observer) {{\n        var display = window.getComputedStyle(gd).display;\n        if (!display || display === 'none') {{\n            console.log([gd, 'removed!']);\n            Plotly.purge(gd);\n            observer.disconnect();\n        }}\n}});\n\n// Listen for the removal of the full notebook cells\nvar notebookContainer = gd.closest('#notebook-container');\nif (notebookContainer) {{\n    x.observe(notebookContainer, {childList: true});\n}}\n\n// Listen for the clearing of the current output cell\nvar outputEl = gd.closest('.output');\nif (outputEl) {{\n    x.observe(outputEl, {childList: true});\n}}\n\n                        })                };                });            </script>        </div>"
     },
     "metadata": {}
    }
   ],
   "source": [
    "df.iplot(kind='box')"
   ]
  },
  {
   "source": [
    "## 3d Surface"
   ],
   "cell_type": "markdown",
   "metadata": {}
  },
  {
   "cell_type": "code",
   "execution_count": 13,
   "metadata": {},
   "outputs": [],
   "source": [
    "df3 = pd.DataFrame({'x':[1,2,3,4,5],'y':[10,20,30,20,10],'z':[5,4,3,2,1]})"
   ]
  },
  {
   "cell_type": "code",
   "execution_count": 14,
   "metadata": {},
   "outputs": [
    {
     "output_type": "display_data",
     "data": {
      "application/vnd.plotly.v1+json": {
       "config": {
        "linkText": "Export to plot.ly",
        "plotlyServerURL": "https://plot.ly",
        "showLink": true
       },
       "data": [
        {
         "colorscale": [
          [
           0,
           "rgb(165,0,38)"
          ],
          [
           0.1,
           "rgb(215,48,39)"
          ],
          [
           0.2,
           "rgb(244,109,67)"
          ],
          [
           0.3,
           "rgb(253,174,97)"
          ],
          [
           0.4,
           "rgb(254,224,144)"
          ],
          [
           0.5,
           "rgb(255,255,191)"
          ],
          [
           0.6,
           "rgb(224,243,248)"
          ],
          [
           0.7,
           "rgb(171,217,233)"
          ],
          [
           0.8,
           "rgb(116,173,209)"
          ],
          [
           0.9,
           "rgb(69,117,180)"
          ],
          [
           1,
           "rgb(49,54,149)"
          ]
         ],
         "type": "surface",
         "x": [
          0,
          1,
          2,
          3,
          4
         ],
         "y": [
          "x",
          "y",
          "z"
         ],
         "z": [
          [
           1,
           2,
           3,
           4,
           5
          ],
          [
           10,
           20,
           30,
           20,
           10
          ],
          [
           5,
           4,
           3,
           2,
           1
          ]
         ]
        }
       ],
       "layout": {
        "legend": {
         "bgcolor": "#F5F6F9",
         "font": {
          "color": "#4D5663"
         }
        },
        "paper_bgcolor": "#F5F6F9",
        "plot_bgcolor": "#F5F6F9",
        "template": {
         "data": {
          "bar": [
           {
            "error_x": {
             "color": "#2a3f5f"
            },
            "error_y": {
             "color": "#2a3f5f"
            },
            "marker": {
             "line": {
              "color": "#E5ECF6",
              "width": 0.5
             }
            },
            "type": "bar"
           }
          ],
          "barpolar": [
           {
            "marker": {
             "line": {
              "color": "#E5ECF6",
              "width": 0.5
             }
            },
            "type": "barpolar"
           }
          ],
          "carpet": [
           {
            "aaxis": {
             "endlinecolor": "#2a3f5f",
             "gridcolor": "white",
             "linecolor": "white",
             "minorgridcolor": "white",
             "startlinecolor": "#2a3f5f"
            },
            "baxis": {
             "endlinecolor": "#2a3f5f",
             "gridcolor": "white",
             "linecolor": "white",
             "minorgridcolor": "white",
             "startlinecolor": "#2a3f5f"
            },
            "type": "carpet"
           }
          ],
          "choropleth": [
           {
            "colorbar": {
             "outlinewidth": 0,
             "ticks": ""
            },
            "type": "choropleth"
           }
          ],
          "contour": [
           {
            "colorbar": {
             "outlinewidth": 0,
             "ticks": ""
            },
            "colorscale": [
             [
              0,
              "#0d0887"
             ],
             [
              0.1111111111111111,
              "#46039f"
             ],
             [
              0.2222222222222222,
              "#7201a8"
             ],
             [
              0.3333333333333333,
              "#9c179e"
             ],
             [
              0.4444444444444444,
              "#bd3786"
             ],
             [
              0.5555555555555556,
              "#d8576b"
             ],
             [
              0.6666666666666666,
              "#ed7953"
             ],
             [
              0.7777777777777778,
              "#fb9f3a"
             ],
             [
              0.8888888888888888,
              "#fdca26"
             ],
             [
              1,
              "#f0f921"
             ]
            ],
            "type": "contour"
           }
          ],
          "contourcarpet": [
           {
            "colorbar": {
             "outlinewidth": 0,
             "ticks": ""
            },
            "type": "contourcarpet"
           }
          ],
          "heatmap": [
           {
            "colorbar": {
             "outlinewidth": 0,
             "ticks": ""
            },
            "colorscale": [
             [
              0,
              "#0d0887"
             ],
             [
              0.1111111111111111,
              "#46039f"
             ],
             [
              0.2222222222222222,
              "#7201a8"
             ],
             [
              0.3333333333333333,
              "#9c179e"
             ],
             [
              0.4444444444444444,
              "#bd3786"
             ],
             [
              0.5555555555555556,
              "#d8576b"
             ],
             [
              0.6666666666666666,
              "#ed7953"
             ],
             [
              0.7777777777777778,
              "#fb9f3a"
             ],
             [
              0.8888888888888888,
              "#fdca26"
             ],
             [
              1,
              "#f0f921"
             ]
            ],
            "type": "heatmap"
           }
          ],
          "heatmapgl": [
           {
            "colorbar": {
             "outlinewidth": 0,
             "ticks": ""
            },
            "colorscale": [
             [
              0,
              "#0d0887"
             ],
             [
              0.1111111111111111,
              "#46039f"
             ],
             [
              0.2222222222222222,
              "#7201a8"
             ],
             [
              0.3333333333333333,
              "#9c179e"
             ],
             [
              0.4444444444444444,
              "#bd3786"
             ],
             [
              0.5555555555555556,
              "#d8576b"
             ],
             [
              0.6666666666666666,
              "#ed7953"
             ],
             [
              0.7777777777777778,
              "#fb9f3a"
             ],
             [
              0.8888888888888888,
              "#fdca26"
             ],
             [
              1,
              "#f0f921"
             ]
            ],
            "type": "heatmapgl"
           }
          ],
          "histogram": [
           {
            "marker": {
             "colorbar": {
              "outlinewidth": 0,
              "ticks": ""
             }
            },
            "type": "histogram"
           }
          ],
          "histogram2d": [
           {
            "colorbar": {
             "outlinewidth": 0,
             "ticks": ""
            },
            "colorscale": [
             [
              0,
              "#0d0887"
             ],
             [
              0.1111111111111111,
              "#46039f"
             ],
             [
              0.2222222222222222,
              "#7201a8"
             ],
             [
              0.3333333333333333,
              "#9c179e"
             ],
             [
              0.4444444444444444,
              "#bd3786"
             ],
             [
              0.5555555555555556,
              "#d8576b"
             ],
             [
              0.6666666666666666,
              "#ed7953"
             ],
             [
              0.7777777777777778,
              "#fb9f3a"
             ],
             [
              0.8888888888888888,
              "#fdca26"
             ],
             [
              1,
              "#f0f921"
             ]
            ],
            "type": "histogram2d"
           }
          ],
          "histogram2dcontour": [
           {
            "colorbar": {
             "outlinewidth": 0,
             "ticks": ""
            },
            "colorscale": [
             [
              0,
              "#0d0887"
             ],
             [
              0.1111111111111111,
              "#46039f"
             ],
             [
              0.2222222222222222,
              "#7201a8"
             ],
             [
              0.3333333333333333,
              "#9c179e"
             ],
             [
              0.4444444444444444,
              "#bd3786"
             ],
             [
              0.5555555555555556,
              "#d8576b"
             ],
             [
              0.6666666666666666,
              "#ed7953"
             ],
             [
              0.7777777777777778,
              "#fb9f3a"
             ],
             [
              0.8888888888888888,
              "#fdca26"
             ],
             [
              1,
              "#f0f921"
             ]
            ],
            "type": "histogram2dcontour"
           }
          ],
          "mesh3d": [
           {
            "colorbar": {
             "outlinewidth": 0,
             "ticks": ""
            },
            "type": "mesh3d"
           }
          ],
          "parcoords": [
           {
            "line": {
             "colorbar": {
              "outlinewidth": 0,
              "ticks": ""
             }
            },
            "type": "parcoords"
           }
          ],
          "pie": [
           {
            "automargin": true,
            "type": "pie"
           }
          ],
          "scatter": [
           {
            "marker": {
             "colorbar": {
              "outlinewidth": 0,
              "ticks": ""
             }
            },
            "type": "scatter"
           }
          ],
          "scatter3d": [
           {
            "line": {
             "colorbar": {
              "outlinewidth": 0,
              "ticks": ""
             }
            },
            "marker": {
             "colorbar": {
              "outlinewidth": 0,
              "ticks": ""
             }
            },
            "type": "scatter3d"
           }
          ],
          "scattercarpet": [
           {
            "marker": {
             "colorbar": {
              "outlinewidth": 0,
              "ticks": ""
             }
            },
            "type": "scattercarpet"
           }
          ],
          "scattergeo": [
           {
            "marker": {
             "colorbar": {
              "outlinewidth": 0,
              "ticks": ""
             }
            },
            "type": "scattergeo"
           }
          ],
          "scattergl": [
           {
            "marker": {
             "colorbar": {
              "outlinewidth": 0,
              "ticks": ""
             }
            },
            "type": "scattergl"
           }
          ],
          "scattermapbox": [
           {
            "marker": {
             "colorbar": {
              "outlinewidth": 0,
              "ticks": ""
             }
            },
            "type": "scattermapbox"
           }
          ],
          "scatterpolar": [
           {
            "marker": {
             "colorbar": {
              "outlinewidth": 0,
              "ticks": ""
             }
            },
            "type": "scatterpolar"
           }
          ],
          "scatterpolargl": [
           {
            "marker": {
             "colorbar": {
              "outlinewidth": 0,
              "ticks": ""
             }
            },
            "type": "scatterpolargl"
           }
          ],
          "scatterternary": [
           {
            "marker": {
             "colorbar": {
              "outlinewidth": 0,
              "ticks": ""
             }
            },
            "type": "scatterternary"
           }
          ],
          "surface": [
           {
            "colorbar": {
             "outlinewidth": 0,
             "ticks": ""
            },
            "colorscale": [
             [
              0,
              "#0d0887"
             ],
             [
              0.1111111111111111,
              "#46039f"
             ],
             [
              0.2222222222222222,
              "#7201a8"
             ],
             [
              0.3333333333333333,
              "#9c179e"
             ],
             [
              0.4444444444444444,
              "#bd3786"
             ],
             [
              0.5555555555555556,
              "#d8576b"
             ],
             [
              0.6666666666666666,
              "#ed7953"
             ],
             [
              0.7777777777777778,
              "#fb9f3a"
             ],
             [
              0.8888888888888888,
              "#fdca26"
             ],
             [
              1,
              "#f0f921"
             ]
            ],
            "type": "surface"
           }
          ],
          "table": [
           {
            "cells": {
             "fill": {
              "color": "#EBF0F8"
             },
             "line": {
              "color": "white"
             }
            },
            "header": {
             "fill": {
              "color": "#C8D4E3"
             },
             "line": {
              "color": "white"
             }
            },
            "type": "table"
           }
          ]
         },
         "layout": {
          "annotationdefaults": {
           "arrowcolor": "#2a3f5f",
           "arrowhead": 0,
           "arrowwidth": 1
          },
          "coloraxis": {
           "colorbar": {
            "outlinewidth": 0,
            "ticks": ""
           }
          },
          "colorscale": {
           "diverging": [
            [
             0,
             "#8e0152"
            ],
            [
             0.1,
             "#c51b7d"
            ],
            [
             0.2,
             "#de77ae"
            ],
            [
             0.3,
             "#f1b6da"
            ],
            [
             0.4,
             "#fde0ef"
            ],
            [
             0.5,
             "#f7f7f7"
            ],
            [
             0.6,
             "#e6f5d0"
            ],
            [
             0.7,
             "#b8e186"
            ],
            [
             0.8,
             "#7fbc41"
            ],
            [
             0.9,
             "#4d9221"
            ],
            [
             1,
             "#276419"
            ]
           ],
           "sequential": [
            [
             0,
             "#0d0887"
            ],
            [
             0.1111111111111111,
             "#46039f"
            ],
            [
             0.2222222222222222,
             "#7201a8"
            ],
            [
             0.3333333333333333,
             "#9c179e"
            ],
            [
             0.4444444444444444,
             "#bd3786"
            ],
            [
             0.5555555555555556,
             "#d8576b"
            ],
            [
             0.6666666666666666,
             "#ed7953"
            ],
            [
             0.7777777777777778,
             "#fb9f3a"
            ],
            [
             0.8888888888888888,
             "#fdca26"
            ],
            [
             1,
             "#f0f921"
            ]
           ],
           "sequentialminus": [
            [
             0,
             "#0d0887"
            ],
            [
             0.1111111111111111,
             "#46039f"
            ],
            [
             0.2222222222222222,
             "#7201a8"
            ],
            [
             0.3333333333333333,
             "#9c179e"
            ],
            [
             0.4444444444444444,
             "#bd3786"
            ],
            [
             0.5555555555555556,
             "#d8576b"
            ],
            [
             0.6666666666666666,
             "#ed7953"
            ],
            [
             0.7777777777777778,
             "#fb9f3a"
            ],
            [
             0.8888888888888888,
             "#fdca26"
            ],
            [
             1,
             "#f0f921"
            ]
           ]
          },
          "colorway": [
           "#636efa",
           "#EF553B",
           "#00cc96",
           "#ab63fa",
           "#FFA15A",
           "#19d3f3",
           "#FF6692",
           "#B6E880",
           "#FF97FF",
           "#FECB52"
          ],
          "font": {
           "color": "#2a3f5f"
          },
          "geo": {
           "bgcolor": "white",
           "lakecolor": "white",
           "landcolor": "#E5ECF6",
           "showlakes": true,
           "showland": true,
           "subunitcolor": "white"
          },
          "hoverlabel": {
           "align": "left"
          },
          "hovermode": "closest",
          "mapbox": {
           "style": "light"
          },
          "paper_bgcolor": "white",
          "plot_bgcolor": "#E5ECF6",
          "polar": {
           "angularaxis": {
            "gridcolor": "white",
            "linecolor": "white",
            "ticks": ""
           },
           "bgcolor": "#E5ECF6",
           "radialaxis": {
            "gridcolor": "white",
            "linecolor": "white",
            "ticks": ""
           }
          },
          "scene": {
           "xaxis": {
            "backgroundcolor": "#E5ECF6",
            "gridcolor": "white",
            "gridwidth": 2,
            "linecolor": "white",
            "showbackground": true,
            "ticks": "",
            "zerolinecolor": "white"
           },
           "yaxis": {
            "backgroundcolor": "#E5ECF6",
            "gridcolor": "white",
            "gridwidth": 2,
            "linecolor": "white",
            "showbackground": true,
            "ticks": "",
            "zerolinecolor": "white"
           },
           "zaxis": {
            "backgroundcolor": "#E5ECF6",
            "gridcolor": "white",
            "gridwidth": 2,
            "linecolor": "white",
            "showbackground": true,
            "ticks": "",
            "zerolinecolor": "white"
           }
          },
          "shapedefaults": {
           "line": {
            "color": "#2a3f5f"
           }
          },
          "ternary": {
           "aaxis": {
            "gridcolor": "white",
            "linecolor": "white",
            "ticks": ""
           },
           "baxis": {
            "gridcolor": "white",
            "linecolor": "white",
            "ticks": ""
           },
           "bgcolor": "#E5ECF6",
           "caxis": {
            "gridcolor": "white",
            "linecolor": "white",
            "ticks": ""
           }
          },
          "title": {
           "x": 0.05
          },
          "xaxis": {
           "automargin": true,
           "gridcolor": "white",
           "linecolor": "white",
           "ticks": "",
           "title": {
            "standoff": 15
           },
           "zerolinecolor": "white",
           "zerolinewidth": 2
          },
          "yaxis": {
           "automargin": true,
           "gridcolor": "white",
           "linecolor": "white",
           "ticks": "",
           "title": {
            "standoff": 15
           },
           "zerolinecolor": "white",
           "zerolinewidth": 2
          }
         }
        },
        "title": {
         "font": {
          "color": "#4D5663"
         }
        },
        "xaxis": {
         "gridcolor": "#E1E5ED",
         "showgrid": true,
         "tickfont": {
          "color": "#4D5663"
         },
         "title": {
          "font": {
           "color": "#4D5663"
          },
          "text": ""
         },
         "zerolinecolor": "#E1E5ED"
        },
        "yaxis": {
         "gridcolor": "#E1E5ED",
         "showgrid": true,
         "tickfont": {
          "color": "#4D5663"
         },
         "title": {
          "font": {
           "color": "#4D5663"
          },
          "text": ""
         },
         "zerolinecolor": "#E1E5ED"
        }
       }
      },
      "text/html": "<div>                            <div id=\"76b89ae4-5852-408a-9986-96447f9af8f9\" class=\"plotly-graph-div\" style=\"height:525px; width:100%;\"></div>            <script type=\"text/javascript\">                require([\"plotly\"], function(Plotly) {                    window.PLOTLYENV=window.PLOTLYENV || {};\n                    window.PLOTLYENV.BASE_URL='https://plot.ly';                                    if (document.getElementById(\"76b89ae4-5852-408a-9986-96447f9af8f9\")) {                    Plotly.newPlot(                        \"76b89ae4-5852-408a-9986-96447f9af8f9\",                        [{\"colorscale\": [[0.0, \"rgb(165,0,38)\"], [0.1, \"rgb(215,48,39)\"], [0.2, \"rgb(244,109,67)\"], [0.3, \"rgb(253,174,97)\"], [0.4, \"rgb(254,224,144)\"], [0.5, \"rgb(255,255,191)\"], [0.6, \"rgb(224,243,248)\"], [0.7, \"rgb(171,217,233)\"], [0.8, \"rgb(116,173,209)\"], [0.9, \"rgb(69,117,180)\"], [1.0, \"rgb(49,54,149)\"]], \"type\": \"surface\", \"x\": [0, 1, 2, 3, 4], \"y\": [\"x\", \"y\", \"z\"], \"z\": [[1, 2, 3, 4, 5], [10, 20, 30, 20, 10], [5, 4, 3, 2, 1]]}],                        {\"legend\": {\"bgcolor\": \"#F5F6F9\", \"font\": {\"color\": \"#4D5663\"}}, \"paper_bgcolor\": \"#F5F6F9\", \"plot_bgcolor\": \"#F5F6F9\", \"template\": {\"data\": {\"bar\": [{\"error_x\": {\"color\": \"#2a3f5f\"}, \"error_y\": {\"color\": \"#2a3f5f\"}, \"marker\": {\"line\": {\"color\": \"#E5ECF6\", \"width\": 0.5}}, \"type\": \"bar\"}], \"barpolar\": [{\"marker\": {\"line\": {\"color\": \"#E5ECF6\", \"width\": 0.5}}, \"type\": \"barpolar\"}], \"carpet\": [{\"aaxis\": {\"endlinecolor\": \"#2a3f5f\", \"gridcolor\": \"white\", \"linecolor\": \"white\", \"minorgridcolor\": \"white\", \"startlinecolor\": \"#2a3f5f\"}, \"baxis\": {\"endlinecolor\": \"#2a3f5f\", \"gridcolor\": \"white\", \"linecolor\": \"white\", \"minorgridcolor\": \"white\", \"startlinecolor\": \"#2a3f5f\"}, \"type\": \"carpet\"}], \"choropleth\": [{\"colorbar\": {\"outlinewidth\": 0, \"ticks\": \"\"}, \"type\": \"choropleth\"}], \"contour\": [{\"colorbar\": {\"outlinewidth\": 0, \"ticks\": \"\"}, \"colorscale\": [[0.0, \"#0d0887\"], [0.1111111111111111, \"#46039f\"], [0.2222222222222222, \"#7201a8\"], [0.3333333333333333, \"#9c179e\"], [0.4444444444444444, \"#bd3786\"], [0.5555555555555556, \"#d8576b\"], [0.6666666666666666, \"#ed7953\"], [0.7777777777777778, \"#fb9f3a\"], [0.8888888888888888, \"#fdca26\"], [1.0, \"#f0f921\"]], \"type\": \"contour\"}], \"contourcarpet\": [{\"colorbar\": {\"outlinewidth\": 0, \"ticks\": \"\"}, \"type\": \"contourcarpet\"}], \"heatmap\": [{\"colorbar\": {\"outlinewidth\": 0, \"ticks\": \"\"}, \"colorscale\": [[0.0, \"#0d0887\"], [0.1111111111111111, \"#46039f\"], [0.2222222222222222, \"#7201a8\"], [0.3333333333333333, \"#9c179e\"], [0.4444444444444444, \"#bd3786\"], [0.5555555555555556, \"#d8576b\"], [0.6666666666666666, \"#ed7953\"], [0.7777777777777778, \"#fb9f3a\"], [0.8888888888888888, \"#fdca26\"], [1.0, \"#f0f921\"]], \"type\": \"heatmap\"}], \"heatmapgl\": [{\"colorbar\": {\"outlinewidth\": 0, \"ticks\": \"\"}, \"colorscale\": [[0.0, \"#0d0887\"], [0.1111111111111111, \"#46039f\"], [0.2222222222222222, \"#7201a8\"], [0.3333333333333333, \"#9c179e\"], [0.4444444444444444, \"#bd3786\"], [0.5555555555555556, \"#d8576b\"], [0.6666666666666666, \"#ed7953\"], [0.7777777777777778, \"#fb9f3a\"], [0.8888888888888888, \"#fdca26\"], [1.0, \"#f0f921\"]], \"type\": \"heatmapgl\"}], \"histogram\": [{\"marker\": {\"colorbar\": {\"outlinewidth\": 0, \"ticks\": \"\"}}, \"type\": \"histogram\"}], \"histogram2d\": [{\"colorbar\": {\"outlinewidth\": 0, \"ticks\": \"\"}, \"colorscale\": [[0.0, \"#0d0887\"], [0.1111111111111111, \"#46039f\"], [0.2222222222222222, \"#7201a8\"], [0.3333333333333333, \"#9c179e\"], [0.4444444444444444, \"#bd3786\"], [0.5555555555555556, \"#d8576b\"], [0.6666666666666666, \"#ed7953\"], [0.7777777777777778, \"#fb9f3a\"], [0.8888888888888888, \"#fdca26\"], [1.0, \"#f0f921\"]], \"type\": \"histogram2d\"}], \"histogram2dcontour\": [{\"colorbar\": {\"outlinewidth\": 0, \"ticks\": \"\"}, \"colorscale\": [[0.0, \"#0d0887\"], [0.1111111111111111, \"#46039f\"], [0.2222222222222222, \"#7201a8\"], [0.3333333333333333, \"#9c179e\"], [0.4444444444444444, \"#bd3786\"], [0.5555555555555556, \"#d8576b\"], [0.6666666666666666, \"#ed7953\"], [0.7777777777777778, \"#fb9f3a\"], [0.8888888888888888, \"#fdca26\"], [1.0, \"#f0f921\"]], \"type\": \"histogram2dcontour\"}], \"mesh3d\": [{\"colorbar\": {\"outlinewidth\": 0, \"ticks\": \"\"}, \"type\": \"mesh3d\"}], \"parcoords\": [{\"line\": {\"colorbar\": {\"outlinewidth\": 0, \"ticks\": \"\"}}, \"type\": \"parcoords\"}], \"pie\": [{\"automargin\": true, \"type\": \"pie\"}], \"scatter\": [{\"marker\": {\"colorbar\": {\"outlinewidth\": 0, \"ticks\": \"\"}}, \"type\": \"scatter\"}], \"scatter3d\": [{\"line\": {\"colorbar\": {\"outlinewidth\": 0, \"ticks\": \"\"}}, \"marker\": {\"colorbar\": {\"outlinewidth\": 0, \"ticks\": \"\"}}, \"type\": \"scatter3d\"}], \"scattercarpet\": [{\"marker\": {\"colorbar\": {\"outlinewidth\": 0, \"ticks\": \"\"}}, \"type\": \"scattercarpet\"}], \"scattergeo\": [{\"marker\": {\"colorbar\": {\"outlinewidth\": 0, \"ticks\": \"\"}}, \"type\": \"scattergeo\"}], \"scattergl\": [{\"marker\": {\"colorbar\": {\"outlinewidth\": 0, \"ticks\": \"\"}}, \"type\": \"scattergl\"}], \"scattermapbox\": [{\"marker\": {\"colorbar\": {\"outlinewidth\": 0, \"ticks\": \"\"}}, \"type\": \"scattermapbox\"}], \"scatterpolar\": [{\"marker\": {\"colorbar\": {\"outlinewidth\": 0, \"ticks\": \"\"}}, \"type\": \"scatterpolar\"}], \"scatterpolargl\": [{\"marker\": {\"colorbar\": {\"outlinewidth\": 0, \"ticks\": \"\"}}, \"type\": \"scatterpolargl\"}], \"scatterternary\": [{\"marker\": {\"colorbar\": {\"outlinewidth\": 0, \"ticks\": \"\"}}, \"type\": \"scatterternary\"}], \"surface\": [{\"colorbar\": {\"outlinewidth\": 0, \"ticks\": \"\"}, \"colorscale\": [[0.0, \"#0d0887\"], [0.1111111111111111, \"#46039f\"], [0.2222222222222222, \"#7201a8\"], [0.3333333333333333, \"#9c179e\"], [0.4444444444444444, \"#bd3786\"], [0.5555555555555556, \"#d8576b\"], [0.6666666666666666, \"#ed7953\"], [0.7777777777777778, \"#fb9f3a\"], [0.8888888888888888, \"#fdca26\"], [1.0, \"#f0f921\"]], \"type\": \"surface\"}], \"table\": [{\"cells\": {\"fill\": {\"color\": \"#EBF0F8\"}, \"line\": {\"color\": \"white\"}}, \"header\": {\"fill\": {\"color\": \"#C8D4E3\"}, \"line\": {\"color\": \"white\"}}, \"type\": \"table\"}]}, \"layout\": {\"annotationdefaults\": {\"arrowcolor\": \"#2a3f5f\", \"arrowhead\": 0, \"arrowwidth\": 1}, \"coloraxis\": {\"colorbar\": {\"outlinewidth\": 0, \"ticks\": \"\"}}, \"colorscale\": {\"diverging\": [[0, \"#8e0152\"], [0.1, \"#c51b7d\"], [0.2, \"#de77ae\"], [0.3, \"#f1b6da\"], [0.4, \"#fde0ef\"], [0.5, \"#f7f7f7\"], [0.6, \"#e6f5d0\"], [0.7, \"#b8e186\"], [0.8, \"#7fbc41\"], [0.9, \"#4d9221\"], [1, \"#276419\"]], \"sequential\": [[0.0, \"#0d0887\"], [0.1111111111111111, \"#46039f\"], [0.2222222222222222, \"#7201a8\"], [0.3333333333333333, \"#9c179e\"], [0.4444444444444444, \"#bd3786\"], [0.5555555555555556, \"#d8576b\"], [0.6666666666666666, \"#ed7953\"], [0.7777777777777778, \"#fb9f3a\"], [0.8888888888888888, \"#fdca26\"], [1.0, \"#f0f921\"]], \"sequentialminus\": [[0.0, \"#0d0887\"], [0.1111111111111111, \"#46039f\"], [0.2222222222222222, \"#7201a8\"], [0.3333333333333333, \"#9c179e\"], [0.4444444444444444, \"#bd3786\"], [0.5555555555555556, \"#d8576b\"], [0.6666666666666666, \"#ed7953\"], [0.7777777777777778, \"#fb9f3a\"], [0.8888888888888888, \"#fdca26\"], [1.0, \"#f0f921\"]]}, \"colorway\": [\"#636efa\", \"#EF553B\", \"#00cc96\", \"#ab63fa\", \"#FFA15A\", \"#19d3f3\", \"#FF6692\", \"#B6E880\", \"#FF97FF\", \"#FECB52\"], \"font\": {\"color\": \"#2a3f5f\"}, \"geo\": {\"bgcolor\": \"white\", \"lakecolor\": \"white\", \"landcolor\": \"#E5ECF6\", \"showlakes\": true, \"showland\": true, \"subunitcolor\": \"white\"}, \"hoverlabel\": {\"align\": \"left\"}, \"hovermode\": \"closest\", \"mapbox\": {\"style\": \"light\"}, \"paper_bgcolor\": \"white\", \"plot_bgcolor\": \"#E5ECF6\", \"polar\": {\"angularaxis\": {\"gridcolor\": \"white\", \"linecolor\": \"white\", \"ticks\": \"\"}, \"bgcolor\": \"#E5ECF6\", \"radialaxis\": {\"gridcolor\": \"white\", \"linecolor\": \"white\", \"ticks\": \"\"}}, \"scene\": {\"xaxis\": {\"backgroundcolor\": \"#E5ECF6\", \"gridcolor\": \"white\", \"gridwidth\": 2, \"linecolor\": \"white\", \"showbackground\": true, \"ticks\": \"\", \"zerolinecolor\": \"white\"}, \"yaxis\": {\"backgroundcolor\": \"#E5ECF6\", \"gridcolor\": \"white\", \"gridwidth\": 2, \"linecolor\": \"white\", \"showbackground\": true, \"ticks\": \"\", \"zerolinecolor\": \"white\"}, \"zaxis\": {\"backgroundcolor\": \"#E5ECF6\", \"gridcolor\": \"white\", \"gridwidth\": 2, \"linecolor\": \"white\", \"showbackground\": true, \"ticks\": \"\", \"zerolinecolor\": \"white\"}}, \"shapedefaults\": {\"line\": {\"color\": \"#2a3f5f\"}}, \"ternary\": {\"aaxis\": {\"gridcolor\": \"white\", \"linecolor\": \"white\", \"ticks\": \"\"}, \"baxis\": {\"gridcolor\": \"white\", \"linecolor\": \"white\", \"ticks\": \"\"}, \"bgcolor\": \"#E5ECF6\", \"caxis\": {\"gridcolor\": \"white\", \"linecolor\": \"white\", \"ticks\": \"\"}}, \"title\": {\"x\": 0.05}, \"xaxis\": {\"automargin\": true, \"gridcolor\": \"white\", \"linecolor\": \"white\", \"ticks\": \"\", \"title\": {\"standoff\": 15}, \"zerolinecolor\": \"white\", \"zerolinewidth\": 2}, \"yaxis\": {\"automargin\": true, \"gridcolor\": \"white\", \"linecolor\": \"white\", \"ticks\": \"\", \"title\": {\"standoff\": 15}, \"zerolinecolor\": \"white\", \"zerolinewidth\": 2}}}, \"title\": {\"font\": {\"color\": \"#4D5663\"}}, \"xaxis\": {\"gridcolor\": \"#E1E5ED\", \"showgrid\": true, \"tickfont\": {\"color\": \"#4D5663\"}, \"title\": {\"font\": {\"color\": \"#4D5663\"}, \"text\": \"\"}, \"zerolinecolor\": \"#E1E5ED\"}, \"yaxis\": {\"gridcolor\": \"#E1E5ED\", \"showgrid\": true, \"tickfont\": {\"color\": \"#4D5663\"}, \"title\": {\"font\": {\"color\": \"#4D5663\"}, \"text\": \"\"}, \"zerolinecolor\": \"#E1E5ED\"}},                        {\"showLink\": true, \"linkText\": \"Export to plot.ly\", \"plotlyServerURL\": \"https://plot.ly\", \"responsive\": true}                    ).then(function(){\n                            \nvar gd = document.getElementById('76b89ae4-5852-408a-9986-96447f9af8f9');\nvar x = new MutationObserver(function (mutations, observer) {{\n        var display = window.getComputedStyle(gd).display;\n        if (!display || display === 'none') {{\n            console.log([gd, 'removed!']);\n            Plotly.purge(gd);\n            observer.disconnect();\n        }}\n}});\n\n// Listen for the removal of the full notebook cells\nvar notebookContainer = gd.closest('#notebook-container');\nif (notebookContainer) {{\n    x.observe(notebookContainer, {childList: true});\n}}\n\n// Listen for the clearing of the current output cell\nvar outputEl = gd.closest('.output');\nif (outputEl) {{\n    x.observe(outputEl, {childList: true});\n}}\n\n                        })                };                });            </script>        </div>"
     },
     "metadata": {}
    }
   ],
   "source": [
    "df3.iplot(kind='surface', colorscale='rdylbu')"
   ]
  },
  {
   "source": [
    "## Spread"
   ],
   "cell_type": "markdown",
   "metadata": {}
  },
  {
   "cell_type": "code",
   "execution_count": 15,
   "metadata": {},
   "outputs": [
    {
     "output_type": "display_data",
     "data": {
      "application/vnd.plotly.v1+json": {
       "config": {
        "linkText": "Export to plot.ly",
        "plotlyServerURL": "https://plot.ly",
        "showLink": true
       },
       "data": [
        {
         "line": {
          "color": "rgba(255, 153, 51, 1.0)",
          "dash": "solid",
          "shape": "linear",
          "width": 1.3
         },
         "mode": "lines",
         "name": "A",
         "text": "",
         "type": "scatter",
         "x": [
          0,
          1,
          2,
          3,
          4,
          5,
          6,
          7,
          8,
          9,
          10,
          11,
          12,
          13,
          14,
          15,
          16,
          17,
          18,
          19,
          20,
          21,
          22,
          23,
          24,
          25,
          26,
          27,
          28,
          29,
          30,
          31,
          32,
          33,
          34,
          35,
          36,
          37,
          38,
          39,
          40,
          41,
          42,
          43,
          44,
          45,
          46,
          47,
          48,
          49,
          50,
          51,
          52,
          53,
          54,
          55,
          56,
          57,
          58,
          59,
          60,
          61,
          62,
          63,
          64,
          65,
          66,
          67,
          68,
          69,
          70,
          71,
          72,
          73,
          74,
          75,
          76,
          77,
          78,
          79,
          80,
          81,
          82,
          83,
          84,
          85,
          86,
          87,
          88,
          89,
          90,
          91,
          92,
          93,
          94,
          95,
          96,
          97,
          98,
          99
         ],
         "y": [
          -3.1903388189260506,
          0.23396036411163004,
          1.1589655786036386,
          -0.48300006152562525,
          -1.5103337587243804,
          -0.5044248859027471,
          1.182281645215199,
          0.42006775240638894,
          -0.8810298974091847,
          0.5039382873693414,
          -0.731266004129346,
          0.0638361921822204,
          -1.0652754263641049,
          -0.9041076466885405,
          -0.9048795324169541,
          -0.7972587761240022,
          -0.3675670471291356,
          0.28082146701438343,
          -0.08633039339250868,
          0.040217153150704704,
          -0.6690624158655928,
          1.2627520886852726,
          0.8930334427555254,
          -0.5720828983632429,
          -0.10829789239054843,
          0.40614750365984825,
          -1.103865178801149,
          -0.8121010383177608,
          0.10072184675344648,
          -0.5769169489648015,
          -1.064607754248978,
          0.2803088090050602,
          0.27784983531770807,
          -0.41074940453263725,
          0.5858394974501357,
          -1.1873780187790168,
          -1.3497579113052596,
          1.255295743570665,
          -0.6927268600950082,
          -0.36127203424382964,
          -0.34463610823926666,
          -1.2009964413381025,
          1.3923569898979733,
          0.7787889527113488,
          1.8663933162193367,
          -0.7896518608815303,
          0.8604392983684553,
          0.5735613938299836,
          -1.2802106717549009,
          0.44164511860901834,
          -1.1744289444226033,
          -0.0000060149059195747345,
          -0.6467481917357054,
          1.2327214192099953,
          -0.28623017443738186,
          -1.7412710235687312,
          -0.9758958392945769,
          1.600310178717572,
          -0.6658748622479977,
          0.36105544712213045,
          1.2539490446516994,
          1.0583809422068344,
          -0.597617455493197,
          -0.45722923476382665,
          -1.2684784915115794,
          -0.9644190323469388,
          -0.8772580574236023,
          0.085838476310741,
          0.48674958148652886,
          0.9676561629391955,
          -2.13767913287318,
          -2.955837736363831,
          -1.7764340900302908,
          1.272615789302066,
          -0.37425080144249273,
          1.026973987239565,
          2.100477946764772,
          -0.9807225547579596,
          -0.7533250886156038,
          -0.03650463249437804,
          0.3529513644456242,
          -1.3607833800573281,
          -1.7417396477441502,
          -1.2994294895974514,
          0.32077583616185623,
          -0.4244455156618559,
          0.8905320772769698,
          -1.3186547947430771,
          0.12166001368478756,
          -1.2191124444406027,
          0.24654677954656246,
          -0.2623982371892286,
          0.2624213780227509,
          0.09375602776369371,
          -0.8396352448027719,
          -0.5553431002419489,
          -0.06731001731720351,
          -0.49821737363514945,
          2.474916165429662,
          -1.6424571327832522
         ]
        },
        {
         "line": {
          "color": "rgba(55, 128, 191, 1.0)",
          "dash": "solid",
          "shape": "linear",
          "width": 1.3
         },
         "mode": "lines",
         "name": "B",
         "text": "",
         "type": "scatter",
         "x": [
          0,
          1,
          2,
          3,
          4,
          5,
          6,
          7,
          8,
          9,
          10,
          11,
          12,
          13,
          14,
          15,
          16,
          17,
          18,
          19,
          20,
          21,
          22,
          23,
          24,
          25,
          26,
          27,
          28,
          29,
          30,
          31,
          32,
          33,
          34,
          35,
          36,
          37,
          38,
          39,
          40,
          41,
          42,
          43,
          44,
          45,
          46,
          47,
          48,
          49,
          50,
          51,
          52,
          53,
          54,
          55,
          56,
          57,
          58,
          59,
          60,
          61,
          62,
          63,
          64,
          65,
          66,
          67,
          68,
          69,
          70,
          71,
          72,
          73,
          74,
          75,
          76,
          77,
          78,
          79,
          80,
          81,
          82,
          83,
          84,
          85,
          86,
          87,
          88,
          89,
          90,
          91,
          92,
          93,
          94,
          95,
          96,
          97,
          98,
          99
         ],
         "y": [
          -0.3643496606765255,
          0.026742083793018775,
          0.3584549394564874,
          -0.15087399036258875,
          0.7692264311391451,
          -0.9607394936456178,
          1.099364393084451,
          2.0413594007607077,
          -0.9589429120315346,
          -1.0151262656536937,
          -2.7705342521888636,
          0.04519916765724038,
          -1.0324039775286689,
          0.21166535206455778,
          0.9519171224472974,
          -0.8073326446901398,
          -0.11985422234986415,
          -0.1234321641152109,
          0.9187427563080505,
          -1.5763765046502152,
          0.48951503176455424,
          -0.278969609256558,
          -0.3648383818684051,
          -0.007140551384771878,
          0.824952324575092,
          1.012484922632672,
          0.5845377044183931,
          -1.2711783578576223,
          -0.36902106237264026,
          0.012682393985313328,
          0.3374744579584474,
          1.0374153302021154,
          0.8674581281533991,
          0.49520661962696927,
          -0.2181122070140142,
          -0.4198441589123327,
          -0.22085215002039907,
          -0.14099689419147918,
          -0.9772412761380672,
          -0.9091883734093862,
          -1.5686850852517986,
          0.12633424708785124,
          0.4249983112725074,
          -0.15071571160517683,
          -0.8190528021055005,
          -0.5843142509340462,
          1.009127911825222,
          -0.2532746339494671,
          0.8382486387582775,
          0.2987780822239634,
          -0.42940441705743443,
          0.12942894672747557,
          -0.3784668801032414,
          -0.36623302074540903,
          1.9636781681839237,
          -0.694293703929343,
          0.18243687176223544,
          0.44970065303344275,
          -0.5585085694844554,
          0.5781469849286903,
          -1.478679342255676,
          -2.2017812855469296,
          -0.22766449165792724,
          -0.9850956709230758,
          0.06535721379319329,
          1.6247637881367891,
          0.9388172664094236,
          0.5604816763327075,
          0.2297458405763916,
          0.5705488391936526,
          -0.5429901589467797,
          -1.4375484759630257,
          1.149625790934575,
          -1.8706089909902677,
          0.6574935076546705,
          0.3922469509849665,
          -0.3283399439671376,
          -0.7082986794613881,
          -1.3012155638305742,
          -0.47344112138941563,
          0.025524978856013302,
          -0.6078471413136215,
          0.6221060033789865,
          -0.8425812105486945,
          -1.9731018326838081,
          -2.085182182082291,
          0.7211728722787665,
          1.5764475887837608,
          0.17856892843054062,
          0.09394500672765961,
          -0.838783815812583,
          -2.0640038711962796,
          0.07541148221711562,
          0.011988483697282544,
          1.156875251344672,
          -0.32642331073805275,
          -1.0002773938460705,
          -0.409558017985458,
          -1.6432367398217418,
          -1.458768728092791
         ]
        },
        {
         "connectgaps": false,
         "fill": "tozeroy",
         "line": {
          "color": "green",
          "dash": "solid",
          "shape": "linear",
          "width": 0.5
         },
         "mode": "lines",
         "name": "Spread",
         "showlegend": false,
         "type": "scatter",
         "x": [
          0,
          1,
          2,
          3,
          4,
          5,
          6,
          7,
          8,
          9,
          10,
          11,
          12,
          13,
          14,
          15,
          16,
          17,
          18,
          19,
          20,
          21,
          22,
          23,
          24,
          25,
          26,
          27,
          28,
          29,
          30,
          31,
          32,
          33,
          34,
          35,
          36,
          37,
          38,
          39,
          40,
          41,
          42,
          43,
          44,
          45,
          46,
          47,
          48,
          49,
          50,
          51,
          52,
          53,
          54,
          55,
          56,
          57,
          58,
          59,
          60,
          61,
          62,
          63,
          64,
          65,
          66,
          67,
          68,
          69,
          70,
          71,
          72,
          73,
          74,
          75,
          76,
          77,
          78,
          79,
          80,
          81,
          82,
          83,
          84,
          85,
          86,
          87,
          88,
          89,
          90,
          91,
          92,
          93,
          94,
          95,
          96,
          97,
          98,
          99
         ],
         "xaxis": "x2",
         "y": [
          "",
          0.20721828031861128,
          0.8005106391471513,
          "",
          "",
          0.4563146077428707,
          0.08291725213074796,
          "",
          0.0779130146223499,
          1.5190645530230351,
          2.0392682480595177,
          0.018637024524980027,
          "",
          "",
          "",
          0.010073868566137567,
          "",
          0.40425363112959434,
          "",
          1.61659365780092,
          "",
          1.5417216979418304,
          1.2578718246239307,
          "",
          "",
          "",
          "",
          0.45907731953986153,
          0.46974290912608674,
          "",
          "",
          "",
          "",
          "",
          0.80395170446415,
          "",
          "",
          1.3962926377621443,
          0.28451441604305905,
          0.5479163391655566,
          1.224048977012532,
          "",
          0.9673586786254659,
          0.9295046643165257,
          2.6854461183248373,
          "",
          "",
          0.8268360277794506,
          "",
          0.14286703638505494,
          "",
          "",
          "",
          1.5989544399554043,
          "",
          "",
          "",
          1.1506095256841293,
          "",
          "",
          2.7326283869073755,
          3.260162227753764,
          "",
          0.5278664361592491,
          "",
          "",
          "",
          "",
          0.2570037409101372,
          0.3971073237455429,
          "",
          "",
          "",
          3.143224780292334,
          "",
          0.6347270362545985,
          2.4288178907319096,
          "",
          0.5478904752149705,
          0.4369364888950376,
          0.3274263855896109,
          "",
          "",
          "",
          2.2938776688456644,
          1.6607366664204353,
          0.16935920499820334,
          "",
          "",
          "",
          1.0853305953591454,
          1.801605634007051,
          0.18700989580563526,
          0.08176754406641117,
          "",
          "",
          0.932967376528867,
          "",
          4.118152905251404,
          ""
         ],
         "yaxis": "y2"
        },
        {
         "connectgaps": false,
         "fill": "tozeroy",
         "line": {
          "color": "red",
          "dash": "solid",
          "shape": "linear",
          "width": 0.5
         },
         "mode": "lines",
         "name": "Spread",
         "showlegend": false,
         "type": "scatter",
         "x": [
          0,
          1,
          2,
          3,
          4,
          5,
          6,
          7,
          8,
          9,
          10,
          11,
          12,
          13,
          14,
          15,
          16,
          17,
          18,
          19,
          20,
          21,
          22,
          23,
          24,
          25,
          26,
          27,
          28,
          29,
          30,
          31,
          32,
          33,
          34,
          35,
          36,
          37,
          38,
          39,
          40,
          41,
          42,
          43,
          44,
          45,
          46,
          47,
          48,
          49,
          50,
          51,
          52,
          53,
          54,
          55,
          56,
          57,
          58,
          59,
          60,
          61,
          62,
          63,
          64,
          65,
          66,
          67,
          68,
          69,
          70,
          71,
          72,
          73,
          74,
          75,
          76,
          77,
          78,
          79,
          80,
          81,
          82,
          83,
          84,
          85,
          86,
          87,
          88,
          89,
          90,
          91,
          92,
          93,
          94,
          95,
          96,
          97,
          98,
          99
         ],
         "xaxis": "x2",
         "y": [
          -2.8259891582495253,
          "",
          "",
          -0.3321260711630365,
          -2.2795601898635254,
          "",
          "",
          -1.6212916483543187,
          "",
          "",
          "",
          "",
          -0.032871448835436023,
          -1.1157729987530982,
          -1.8567966548642514,
          "",
          -0.24771282477927148,
          "",
          -1.0050731497005592,
          "",
          -1.158577447630147,
          "",
          "",
          -0.564942346978471,
          -0.9332502169656405,
          -0.6063374189728237,
          -1.6884028832195423,
          "",
          "",
          -0.5895993429501148,
          -1.4020822122074255,
          -0.7571065211970551,
          -0.5896082928356909,
          -0.9059560241596065,
          "",
          -0.7675338598666841,
          -1.1289057612848605,
          "",
          "",
          "",
          "",
          -1.3273306884259537,
          "",
          "",
          "",
          -0.20533760994748407,
          -0.14868861345676676,
          "",
          -2.1184593105131784,
          "",
          -0.7450245273651688,
          -0.12943496163339516,
          -0.268281311632464,
          "",
          -2.2499083426213056,
          -1.0469773196393883,
          -1.1583327110568122,
          "",
          -0.10736629276354237,
          -0.21709153780655988,
          "",
          "",
          -0.36995296383526977,
          "",
          -1.3338357053047727,
          -2.589182820483728,
          -1.8160753238330258,
          -0.4746432000219665,
          "",
          "",
          -1.5946889739264,
          -1.5182892604008054,
          -2.926059880964866,
          "",
          -1.0317443090971632,
          "",
          "",
          -0.2724238752965714,
          "",
          "",
          "",
          -0.7529362387437066,
          -2.3638456511231367,
          -0.4568482790487569,
          "",
          "",
          "",
          -2.895102383526838,
          -0.05690891474575306,
          -1.3130574511682624,
          "",
          "",
          "",
          "",
          -1.9965104961474438,
          -0.22891978950389613,
          "",
          -0.08865935564969146,
          "",
          -0.18368840469046122
         ],
         "yaxis": "y2"
        }
       ],
       "layout": {
        "hovermode": "x",
        "legend": {
         "bgcolor": "#F5F6F9",
         "font": {
          "color": "#4D5663"
         }
        },
        "paper_bgcolor": "#F5F6F9",
        "plot_bgcolor": "#F5F6F9",
        "template": {
         "data": {
          "bar": [
           {
            "error_x": {
             "color": "#2a3f5f"
            },
            "error_y": {
             "color": "#2a3f5f"
            },
            "marker": {
             "line": {
              "color": "#E5ECF6",
              "width": 0.5
             }
            },
            "type": "bar"
           }
          ],
          "barpolar": [
           {
            "marker": {
             "line": {
              "color": "#E5ECF6",
              "width": 0.5
             }
            },
            "type": "barpolar"
           }
          ],
          "carpet": [
           {
            "aaxis": {
             "endlinecolor": "#2a3f5f",
             "gridcolor": "white",
             "linecolor": "white",
             "minorgridcolor": "white",
             "startlinecolor": "#2a3f5f"
            },
            "baxis": {
             "endlinecolor": "#2a3f5f",
             "gridcolor": "white",
             "linecolor": "white",
             "minorgridcolor": "white",
             "startlinecolor": "#2a3f5f"
            },
            "type": "carpet"
           }
          ],
          "choropleth": [
           {
            "colorbar": {
             "outlinewidth": 0,
             "ticks": ""
            },
            "type": "choropleth"
           }
          ],
          "contour": [
           {
            "colorbar": {
             "outlinewidth": 0,
             "ticks": ""
            },
            "colorscale": [
             [
              0,
              "#0d0887"
             ],
             [
              0.1111111111111111,
              "#46039f"
             ],
             [
              0.2222222222222222,
              "#7201a8"
             ],
             [
              0.3333333333333333,
              "#9c179e"
             ],
             [
              0.4444444444444444,
              "#bd3786"
             ],
             [
              0.5555555555555556,
              "#d8576b"
             ],
             [
              0.6666666666666666,
              "#ed7953"
             ],
             [
              0.7777777777777778,
              "#fb9f3a"
             ],
             [
              0.8888888888888888,
              "#fdca26"
             ],
             [
              1,
              "#f0f921"
             ]
            ],
            "type": "contour"
           }
          ],
          "contourcarpet": [
           {
            "colorbar": {
             "outlinewidth": 0,
             "ticks": ""
            },
            "type": "contourcarpet"
           }
          ],
          "heatmap": [
           {
            "colorbar": {
             "outlinewidth": 0,
             "ticks": ""
            },
            "colorscale": [
             [
              0,
              "#0d0887"
             ],
             [
              0.1111111111111111,
              "#46039f"
             ],
             [
              0.2222222222222222,
              "#7201a8"
             ],
             [
              0.3333333333333333,
              "#9c179e"
             ],
             [
              0.4444444444444444,
              "#bd3786"
             ],
             [
              0.5555555555555556,
              "#d8576b"
             ],
             [
              0.6666666666666666,
              "#ed7953"
             ],
             [
              0.7777777777777778,
              "#fb9f3a"
             ],
             [
              0.8888888888888888,
              "#fdca26"
             ],
             [
              1,
              "#f0f921"
             ]
            ],
            "type": "heatmap"
           }
          ],
          "heatmapgl": [
           {
            "colorbar": {
             "outlinewidth": 0,
             "ticks": ""
            },
            "colorscale": [
             [
              0,
              "#0d0887"
             ],
             [
              0.1111111111111111,
              "#46039f"
             ],
             [
              0.2222222222222222,
              "#7201a8"
             ],
             [
              0.3333333333333333,
              "#9c179e"
             ],
             [
              0.4444444444444444,
              "#bd3786"
             ],
             [
              0.5555555555555556,
              "#d8576b"
             ],
             [
              0.6666666666666666,
              "#ed7953"
             ],
             [
              0.7777777777777778,
              "#fb9f3a"
             ],
             [
              0.8888888888888888,
              "#fdca26"
             ],
             [
              1,
              "#f0f921"
             ]
            ],
            "type": "heatmapgl"
           }
          ],
          "histogram": [
           {
            "marker": {
             "colorbar": {
              "outlinewidth": 0,
              "ticks": ""
             }
            },
            "type": "histogram"
           }
          ],
          "histogram2d": [
           {
            "colorbar": {
             "outlinewidth": 0,
             "ticks": ""
            },
            "colorscale": [
             [
              0,
              "#0d0887"
             ],
             [
              0.1111111111111111,
              "#46039f"
             ],
             [
              0.2222222222222222,
              "#7201a8"
             ],
             [
              0.3333333333333333,
              "#9c179e"
             ],
             [
              0.4444444444444444,
              "#bd3786"
             ],
             [
              0.5555555555555556,
              "#d8576b"
             ],
             [
              0.6666666666666666,
              "#ed7953"
             ],
             [
              0.7777777777777778,
              "#fb9f3a"
             ],
             [
              0.8888888888888888,
              "#fdca26"
             ],
             [
              1,
              "#f0f921"
             ]
            ],
            "type": "histogram2d"
           }
          ],
          "histogram2dcontour": [
           {
            "colorbar": {
             "outlinewidth": 0,
             "ticks": ""
            },
            "colorscale": [
             [
              0,
              "#0d0887"
             ],
             [
              0.1111111111111111,
              "#46039f"
             ],
             [
              0.2222222222222222,
              "#7201a8"
             ],
             [
              0.3333333333333333,
              "#9c179e"
             ],
             [
              0.4444444444444444,
              "#bd3786"
             ],
             [
              0.5555555555555556,
              "#d8576b"
             ],
             [
              0.6666666666666666,
              "#ed7953"
             ],
             [
              0.7777777777777778,
              "#fb9f3a"
             ],
             [
              0.8888888888888888,
              "#fdca26"
             ],
             [
              1,
              "#f0f921"
             ]
            ],
            "type": "histogram2dcontour"
           }
          ],
          "mesh3d": [
           {
            "colorbar": {
             "outlinewidth": 0,
             "ticks": ""
            },
            "type": "mesh3d"
           }
          ],
          "parcoords": [
           {
            "line": {
             "colorbar": {
              "outlinewidth": 0,
              "ticks": ""
             }
            },
            "type": "parcoords"
           }
          ],
          "pie": [
           {
            "automargin": true,
            "type": "pie"
           }
          ],
          "scatter": [
           {
            "marker": {
             "colorbar": {
              "outlinewidth": 0,
              "ticks": ""
             }
            },
            "type": "scatter"
           }
          ],
          "scatter3d": [
           {
            "line": {
             "colorbar": {
              "outlinewidth": 0,
              "ticks": ""
             }
            },
            "marker": {
             "colorbar": {
              "outlinewidth": 0,
              "ticks": ""
             }
            },
            "type": "scatter3d"
           }
          ],
          "scattercarpet": [
           {
            "marker": {
             "colorbar": {
              "outlinewidth": 0,
              "ticks": ""
             }
            },
            "type": "scattercarpet"
           }
          ],
          "scattergeo": [
           {
            "marker": {
             "colorbar": {
              "outlinewidth": 0,
              "ticks": ""
             }
            },
            "type": "scattergeo"
           }
          ],
          "scattergl": [
           {
            "marker": {
             "colorbar": {
              "outlinewidth": 0,
              "ticks": ""
             }
            },
            "type": "scattergl"
           }
          ],
          "scattermapbox": [
           {
            "marker": {
             "colorbar": {
              "outlinewidth": 0,
              "ticks": ""
             }
            },
            "type": "scattermapbox"
           }
          ],
          "scatterpolar": [
           {
            "marker": {
             "colorbar": {
              "outlinewidth": 0,
              "ticks": ""
             }
            },
            "type": "scatterpolar"
           }
          ],
          "scatterpolargl": [
           {
            "marker": {
             "colorbar": {
              "outlinewidth": 0,
              "ticks": ""
             }
            },
            "type": "scatterpolargl"
           }
          ],
          "scatterternary": [
           {
            "marker": {
             "colorbar": {
              "outlinewidth": 0,
              "ticks": ""
             }
            },
            "type": "scatterternary"
           }
          ],
          "surface": [
           {
            "colorbar": {
             "outlinewidth": 0,
             "ticks": ""
            },
            "colorscale": [
             [
              0,
              "#0d0887"
             ],
             [
              0.1111111111111111,
              "#46039f"
             ],
             [
              0.2222222222222222,
              "#7201a8"
             ],
             [
              0.3333333333333333,
              "#9c179e"
             ],
             [
              0.4444444444444444,
              "#bd3786"
             ],
             [
              0.5555555555555556,
              "#d8576b"
             ],
             [
              0.6666666666666666,
              "#ed7953"
             ],
             [
              0.7777777777777778,
              "#fb9f3a"
             ],
             [
              0.8888888888888888,
              "#fdca26"
             ],
             [
              1,
              "#f0f921"
             ]
            ],
            "type": "surface"
           }
          ],
          "table": [
           {
            "cells": {
             "fill": {
              "color": "#EBF0F8"
             },
             "line": {
              "color": "white"
             }
            },
            "header": {
             "fill": {
              "color": "#C8D4E3"
             },
             "line": {
              "color": "white"
             }
            },
            "type": "table"
           }
          ]
         },
         "layout": {
          "annotationdefaults": {
           "arrowcolor": "#2a3f5f",
           "arrowhead": 0,
           "arrowwidth": 1
          },
          "coloraxis": {
           "colorbar": {
            "outlinewidth": 0,
            "ticks": ""
           }
          },
          "colorscale": {
           "diverging": [
            [
             0,
             "#8e0152"
            ],
            [
             0.1,
             "#c51b7d"
            ],
            [
             0.2,
             "#de77ae"
            ],
            [
             0.3,
             "#f1b6da"
            ],
            [
             0.4,
             "#fde0ef"
            ],
            [
             0.5,
             "#f7f7f7"
            ],
            [
             0.6,
             "#e6f5d0"
            ],
            [
             0.7,
             "#b8e186"
            ],
            [
             0.8,
             "#7fbc41"
            ],
            [
             0.9,
             "#4d9221"
            ],
            [
             1,
             "#276419"
            ]
           ],
           "sequential": [
            [
             0,
             "#0d0887"
            ],
            [
             0.1111111111111111,
             "#46039f"
            ],
            [
             0.2222222222222222,
             "#7201a8"
            ],
            [
             0.3333333333333333,
             "#9c179e"
            ],
            [
             0.4444444444444444,
             "#bd3786"
            ],
            [
             0.5555555555555556,
             "#d8576b"
            ],
            [
             0.6666666666666666,
             "#ed7953"
            ],
            [
             0.7777777777777778,
             "#fb9f3a"
            ],
            [
             0.8888888888888888,
             "#fdca26"
            ],
            [
             1,
             "#f0f921"
            ]
           ],
           "sequentialminus": [
            [
             0,
             "#0d0887"
            ],
            [
             0.1111111111111111,
             "#46039f"
            ],
            [
             0.2222222222222222,
             "#7201a8"
            ],
            [
             0.3333333333333333,
             "#9c179e"
            ],
            [
             0.4444444444444444,
             "#bd3786"
            ],
            [
             0.5555555555555556,
             "#d8576b"
            ],
            [
             0.6666666666666666,
             "#ed7953"
            ],
            [
             0.7777777777777778,
             "#fb9f3a"
            ],
            [
             0.8888888888888888,
             "#fdca26"
            ],
            [
             1,
             "#f0f921"
            ]
           ]
          },
          "colorway": [
           "#636efa",
           "#EF553B",
           "#00cc96",
           "#ab63fa",
           "#FFA15A",
           "#19d3f3",
           "#FF6692",
           "#B6E880",
           "#FF97FF",
           "#FECB52"
          ],
          "font": {
           "color": "#2a3f5f"
          },
          "geo": {
           "bgcolor": "white",
           "lakecolor": "white",
           "landcolor": "#E5ECF6",
           "showlakes": true,
           "showland": true,
           "subunitcolor": "white"
          },
          "hoverlabel": {
           "align": "left"
          },
          "hovermode": "closest",
          "mapbox": {
           "style": "light"
          },
          "paper_bgcolor": "white",
          "plot_bgcolor": "#E5ECF6",
          "polar": {
           "angularaxis": {
            "gridcolor": "white",
            "linecolor": "white",
            "ticks": ""
           },
           "bgcolor": "#E5ECF6",
           "radialaxis": {
            "gridcolor": "white",
            "linecolor": "white",
            "ticks": ""
           }
          },
          "scene": {
           "xaxis": {
            "backgroundcolor": "#E5ECF6",
            "gridcolor": "white",
            "gridwidth": 2,
            "linecolor": "white",
            "showbackground": true,
            "ticks": "",
            "zerolinecolor": "white"
           },
           "yaxis": {
            "backgroundcolor": "#E5ECF6",
            "gridcolor": "white",
            "gridwidth": 2,
            "linecolor": "white",
            "showbackground": true,
            "ticks": "",
            "zerolinecolor": "white"
           },
           "zaxis": {
            "backgroundcolor": "#E5ECF6",
            "gridcolor": "white",
            "gridwidth": 2,
            "linecolor": "white",
            "showbackground": true,
            "ticks": "",
            "zerolinecolor": "white"
           }
          },
          "shapedefaults": {
           "line": {
            "color": "#2a3f5f"
           }
          },
          "ternary": {
           "aaxis": {
            "gridcolor": "white",
            "linecolor": "white",
            "ticks": ""
           },
           "baxis": {
            "gridcolor": "white",
            "linecolor": "white",
            "ticks": ""
           },
           "bgcolor": "#E5ECF6",
           "caxis": {
            "gridcolor": "white",
            "linecolor": "white",
            "ticks": ""
           }
          },
          "title": {
           "x": 0.05
          },
          "xaxis": {
           "automargin": true,
           "gridcolor": "white",
           "linecolor": "white",
           "ticks": "",
           "title": {
            "standoff": 15
           },
           "zerolinecolor": "white",
           "zerolinewidth": 2
          },
          "yaxis": {
           "automargin": true,
           "gridcolor": "white",
           "linecolor": "white",
           "ticks": "",
           "title": {
            "standoff": 15
           },
           "zerolinecolor": "white",
           "zerolinewidth": 2
          }
         }
        },
        "title": {
         "font": {
          "color": "#4D5663"
         }
        },
        "xaxis": {
         "gridcolor": "#E1E5ED",
         "showgrid": true,
         "tickfont": {
          "color": "#4D5663"
         },
         "title": {
          "font": {
           "color": "#4D5663"
          },
          "text": ""
         },
         "zerolinecolor": "#E1E5ED"
        },
        "xaxis2": {
         "anchor": "y2",
         "gridcolor": "#E1E5ED",
         "showgrid": true,
         "showticklabels": false,
         "tickfont": {
          "color": "#4D5663"
         },
         "title": {
          "font": {
           "color": "#4D5663"
          },
          "text": ""
         },
         "zerolinecolor": "#E1E5ED"
        },
        "yaxis": {
         "domain": [
          0.3,
          1
         ],
         "gridcolor": "#E1E5ED",
         "showgrid": true,
         "tickfont": {
          "color": "#4D5663"
         },
         "title": {
          "font": {
           "color": "#4D5663"
          },
          "text": ""
         },
         "zerolinecolor": "#E1E5ED"
        },
        "yaxis2": {
         "domain": [
          0,
          0.25
         ],
         "gridcolor": "#E1E5ED",
         "showgrid": true,
         "tickfont": {
          "color": "#4D5663"
         },
         "title": {
          "font": {
           "color": "#4D5663"
          },
          "text": "Spread"
         },
         "zerolinecolor": "#E1E5ED"
        }
       }
      },
      "text/html": "<div>                            <div id=\"c5aa7a68-6d2f-4f39-b1fc-eb6f81ccce4c\" class=\"plotly-graph-div\" style=\"height:525px; width:100%;\"></div>            <script type=\"text/javascript\">                require([\"plotly\"], function(Plotly) {                    window.PLOTLYENV=window.PLOTLYENV || {};\n                    window.PLOTLYENV.BASE_URL='https://plot.ly';                                    if (document.getElementById(\"c5aa7a68-6d2f-4f39-b1fc-eb6f81ccce4c\")) {                    Plotly.newPlot(                        \"c5aa7a68-6d2f-4f39-b1fc-eb6f81ccce4c\",                        [{\"line\": {\"color\": \"rgba(255, 153, 51, 1.0)\", \"dash\": \"solid\", \"shape\": \"linear\", \"width\": 1.3}, \"mode\": \"lines\", \"name\": \"A\", \"text\": \"\", \"type\": \"scatter\", \"x\": [0, 1, 2, 3, 4, 5, 6, 7, 8, 9, 10, 11, 12, 13, 14, 15, 16, 17, 18, 19, 20, 21, 22, 23, 24, 25, 26, 27, 28, 29, 30, 31, 32, 33, 34, 35, 36, 37, 38, 39, 40, 41, 42, 43, 44, 45, 46, 47, 48, 49, 50, 51, 52, 53, 54, 55, 56, 57, 58, 59, 60, 61, 62, 63, 64, 65, 66, 67, 68, 69, 70, 71, 72, 73, 74, 75, 76, 77, 78, 79, 80, 81, 82, 83, 84, 85, 86, 87, 88, 89, 90, 91, 92, 93, 94, 95, 96, 97, 98, 99], \"y\": [-3.1903388189260506, 0.23396036411163004, 1.1589655786036386, -0.48300006152562525, -1.5103337587243804, -0.5044248859027471, 1.182281645215199, 0.42006775240638894, -0.8810298974091847, 0.5039382873693414, -0.731266004129346, 0.0638361921822204, -1.0652754263641049, -0.9041076466885405, -0.9048795324169541, -0.7972587761240022, -0.3675670471291356, 0.28082146701438343, -0.08633039339250868, 0.040217153150704704, -0.6690624158655928, 1.2627520886852726, 0.8930334427555254, -0.5720828983632429, -0.10829789239054843, 0.40614750365984825, -1.103865178801149, -0.8121010383177608, 0.10072184675344648, -0.5769169489648015, -1.064607754248978, 0.2803088090050602, 0.27784983531770807, -0.41074940453263725, 0.5858394974501357, -1.1873780187790168, -1.3497579113052596, 1.255295743570665, -0.6927268600950082, -0.36127203424382964, -0.34463610823926666, -1.2009964413381025, 1.3923569898979733, 0.7787889527113488, 1.8663933162193367, -0.7896518608815303, 0.8604392983684553, 0.5735613938299836, -1.2802106717549009, 0.44164511860901834, -1.1744289444226033, -6.0149059195747345e-06, -0.6467481917357054, 1.2327214192099953, -0.28623017443738186, -1.7412710235687312, -0.9758958392945769, 1.600310178717572, -0.6658748622479977, 0.36105544712213045, 1.2539490446516994, 1.0583809422068344, -0.597617455493197, -0.45722923476382665, -1.2684784915115794, -0.9644190323469388, -0.8772580574236023, 0.085838476310741, 0.48674958148652886, 0.9676561629391955, -2.13767913287318, -2.955837736363831, -1.7764340900302908, 1.272615789302066, -0.37425080144249273, 1.026973987239565, 2.100477946764772, -0.9807225547579596, -0.7533250886156038, -0.03650463249437804, 0.3529513644456242, -1.3607833800573281, -1.7417396477441502, -1.2994294895974514, 0.32077583616185623, -0.4244455156618559, 0.8905320772769698, -1.3186547947430771, 0.12166001368478756, -1.2191124444406027, 0.24654677954656246, -0.2623982371892286, 0.2624213780227509, 0.09375602776369371, -0.8396352448027719, -0.5553431002419489, -0.06731001731720351, -0.49821737363514945, 2.474916165429662, -1.6424571327832522]}, {\"line\": {\"color\": \"rgba(55, 128, 191, 1.0)\", \"dash\": \"solid\", \"shape\": \"linear\", \"width\": 1.3}, \"mode\": \"lines\", \"name\": \"B\", \"text\": \"\", \"type\": \"scatter\", \"x\": [0, 1, 2, 3, 4, 5, 6, 7, 8, 9, 10, 11, 12, 13, 14, 15, 16, 17, 18, 19, 20, 21, 22, 23, 24, 25, 26, 27, 28, 29, 30, 31, 32, 33, 34, 35, 36, 37, 38, 39, 40, 41, 42, 43, 44, 45, 46, 47, 48, 49, 50, 51, 52, 53, 54, 55, 56, 57, 58, 59, 60, 61, 62, 63, 64, 65, 66, 67, 68, 69, 70, 71, 72, 73, 74, 75, 76, 77, 78, 79, 80, 81, 82, 83, 84, 85, 86, 87, 88, 89, 90, 91, 92, 93, 94, 95, 96, 97, 98, 99], \"y\": [-0.3643496606765255, 0.026742083793018775, 0.3584549394564874, -0.15087399036258875, 0.7692264311391451, -0.9607394936456178, 1.099364393084451, 2.0413594007607077, -0.9589429120315346, -1.0151262656536937, -2.7705342521888636, 0.04519916765724038, -1.0324039775286689, 0.21166535206455778, 0.9519171224472974, -0.8073326446901398, -0.11985422234986415, -0.1234321641152109, 0.9187427563080505, -1.5763765046502152, 0.48951503176455424, -0.278969609256558, -0.3648383818684051, -0.007140551384771878, 0.824952324575092, 1.012484922632672, 0.5845377044183931, -1.2711783578576223, -0.36902106237264026, 0.012682393985313328, 0.3374744579584474, 1.0374153302021154, 0.8674581281533991, 0.49520661962696927, -0.2181122070140142, -0.4198441589123327, -0.22085215002039907, -0.14099689419147918, -0.9772412761380672, -0.9091883734093862, -1.5686850852517986, 0.12633424708785124, 0.4249983112725074, -0.15071571160517683, -0.8190528021055005, -0.5843142509340462, 1.009127911825222, -0.2532746339494671, 0.8382486387582775, 0.2987780822239634, -0.42940441705743443, 0.12942894672747557, -0.3784668801032414, -0.36623302074540903, 1.9636781681839237, -0.694293703929343, 0.18243687176223544, 0.44970065303344275, -0.5585085694844554, 0.5781469849286903, -1.478679342255676, -2.2017812855469296, -0.22766449165792724, -0.9850956709230758, 0.06535721379319329, 1.6247637881367891, 0.9388172664094236, 0.5604816763327075, 0.2297458405763916, 0.5705488391936526, -0.5429901589467797, -1.4375484759630257, 1.149625790934575, -1.8706089909902677, 0.6574935076546705, 0.3922469509849665, -0.3283399439671376, -0.7082986794613881, -1.3012155638305742, -0.47344112138941563, 0.025524978856013302, -0.6078471413136215, 0.6221060033789865, -0.8425812105486945, -1.9731018326838081, -2.085182182082291, 0.7211728722787665, 1.5764475887837608, 0.17856892843054062, 0.09394500672765961, -0.838783815812583, -2.0640038711962796, 0.07541148221711562, 0.011988483697282544, 1.156875251344672, -0.32642331073805275, -1.0002773938460705, -0.409558017985458, -1.6432367398217418, -1.458768728092791]}, {\"connectgaps\": false, \"fill\": \"tozeroy\", \"line\": {\"color\": \"green\", \"dash\": \"solid\", \"shape\": \"linear\", \"width\": 0.5}, \"mode\": \"lines\", \"name\": \"Spread\", \"showlegend\": false, \"type\": \"scatter\", \"x\": [0, 1, 2, 3, 4, 5, 6, 7, 8, 9, 10, 11, 12, 13, 14, 15, 16, 17, 18, 19, 20, 21, 22, 23, 24, 25, 26, 27, 28, 29, 30, 31, 32, 33, 34, 35, 36, 37, 38, 39, 40, 41, 42, 43, 44, 45, 46, 47, 48, 49, 50, 51, 52, 53, 54, 55, 56, 57, 58, 59, 60, 61, 62, 63, 64, 65, 66, 67, 68, 69, 70, 71, 72, 73, 74, 75, 76, 77, 78, 79, 80, 81, 82, 83, 84, 85, 86, 87, 88, 89, 90, 91, 92, 93, 94, 95, 96, 97, 98, 99], \"xaxis\": \"x2\", \"y\": [\"\", 0.20721828031861128, 0.8005106391471513, \"\", \"\", 0.4563146077428707, 0.08291725213074796, \"\", 0.0779130146223499, 1.5190645530230351, 2.0392682480595177, 0.018637024524980027, \"\", \"\", \"\", 0.010073868566137567, \"\", 0.40425363112959434, \"\", 1.61659365780092, \"\", 1.5417216979418304, 1.2578718246239307, \"\", \"\", \"\", \"\", 0.45907731953986153, 0.46974290912608674, \"\", \"\", \"\", \"\", \"\", 0.80395170446415, \"\", \"\", 1.3962926377621443, 0.28451441604305905, 0.5479163391655566, 1.224048977012532, \"\", 0.9673586786254659, 0.9295046643165257, 2.6854461183248373, \"\", \"\", 0.8268360277794506, \"\", 0.14286703638505494, \"\", \"\", \"\", 1.5989544399554043, \"\", \"\", \"\", 1.1506095256841293, \"\", \"\", 2.7326283869073755, 3.260162227753764, \"\", 0.5278664361592491, \"\", \"\", \"\", \"\", 0.2570037409101372, 0.3971073237455429, \"\", \"\", \"\", 3.143224780292334, \"\", 0.6347270362545985, 2.4288178907319096, \"\", 0.5478904752149705, 0.4369364888950376, 0.3274263855896109, \"\", \"\", \"\", 2.2938776688456644, 1.6607366664204353, 0.16935920499820334, \"\", \"\", \"\", 1.0853305953591454, 1.801605634007051, 0.18700989580563526, 0.08176754406641117, \"\", \"\", 0.932967376528867, \"\", 4.118152905251404, \"\"], \"yaxis\": \"y2\"}, {\"connectgaps\": false, \"fill\": \"tozeroy\", \"line\": {\"color\": \"red\", \"dash\": \"solid\", \"shape\": \"linear\", \"width\": 0.5}, \"mode\": \"lines\", \"name\": \"Spread\", \"showlegend\": false, \"type\": \"scatter\", \"x\": [0, 1, 2, 3, 4, 5, 6, 7, 8, 9, 10, 11, 12, 13, 14, 15, 16, 17, 18, 19, 20, 21, 22, 23, 24, 25, 26, 27, 28, 29, 30, 31, 32, 33, 34, 35, 36, 37, 38, 39, 40, 41, 42, 43, 44, 45, 46, 47, 48, 49, 50, 51, 52, 53, 54, 55, 56, 57, 58, 59, 60, 61, 62, 63, 64, 65, 66, 67, 68, 69, 70, 71, 72, 73, 74, 75, 76, 77, 78, 79, 80, 81, 82, 83, 84, 85, 86, 87, 88, 89, 90, 91, 92, 93, 94, 95, 96, 97, 98, 99], \"xaxis\": \"x2\", \"y\": [-2.8259891582495253, \"\", \"\", -0.3321260711630365, -2.2795601898635254, \"\", \"\", -1.6212916483543187, \"\", \"\", \"\", \"\", -0.032871448835436023, -1.1157729987530982, -1.8567966548642514, \"\", -0.24771282477927148, \"\", -1.0050731497005592, \"\", -1.158577447630147, \"\", \"\", -0.564942346978471, -0.9332502169656405, -0.6063374189728237, -1.6884028832195423, \"\", \"\", -0.5895993429501148, -1.4020822122074255, -0.7571065211970551, -0.5896082928356909, -0.9059560241596065, \"\", -0.7675338598666841, -1.1289057612848605, \"\", \"\", \"\", \"\", -1.3273306884259537, \"\", \"\", \"\", -0.20533760994748407, -0.14868861345676676, \"\", -2.1184593105131784, \"\", -0.7450245273651688, -0.12943496163339516, -0.268281311632464, \"\", -2.2499083426213056, -1.0469773196393883, -1.1583327110568122, \"\", -0.10736629276354237, -0.21709153780655988, \"\", \"\", -0.36995296383526977, \"\", -1.3338357053047727, -2.589182820483728, -1.8160753238330258, -0.4746432000219665, \"\", \"\", -1.5946889739264, -1.5182892604008054, -2.926059880964866, \"\", -1.0317443090971632, \"\", \"\", -0.2724238752965714, \"\", \"\", \"\", -0.7529362387437066, -2.3638456511231367, -0.4568482790487569, \"\", \"\", \"\", -2.895102383526838, -0.05690891474575306, -1.3130574511682624, \"\", \"\", \"\", \"\", -1.9965104961474438, -0.22891978950389613, \"\", -0.08865935564969146, \"\", -0.18368840469046122], \"yaxis\": \"y2\"}],                        {\"hovermode\": \"x\", \"legend\": {\"bgcolor\": \"#F5F6F9\", \"font\": {\"color\": \"#4D5663\"}}, \"paper_bgcolor\": \"#F5F6F9\", \"plot_bgcolor\": \"#F5F6F9\", \"template\": {\"data\": {\"bar\": [{\"error_x\": {\"color\": \"#2a3f5f\"}, \"error_y\": {\"color\": \"#2a3f5f\"}, \"marker\": {\"line\": {\"color\": \"#E5ECF6\", \"width\": 0.5}}, \"type\": \"bar\"}], \"barpolar\": [{\"marker\": {\"line\": {\"color\": \"#E5ECF6\", \"width\": 0.5}}, \"type\": \"barpolar\"}], \"carpet\": [{\"aaxis\": {\"endlinecolor\": \"#2a3f5f\", \"gridcolor\": \"white\", \"linecolor\": \"white\", \"minorgridcolor\": \"white\", \"startlinecolor\": \"#2a3f5f\"}, \"baxis\": {\"endlinecolor\": \"#2a3f5f\", \"gridcolor\": \"white\", \"linecolor\": \"white\", \"minorgridcolor\": \"white\", \"startlinecolor\": \"#2a3f5f\"}, \"type\": \"carpet\"}], \"choropleth\": [{\"colorbar\": {\"outlinewidth\": 0, \"ticks\": \"\"}, \"type\": \"choropleth\"}], \"contour\": [{\"colorbar\": {\"outlinewidth\": 0, \"ticks\": \"\"}, \"colorscale\": [[0.0, \"#0d0887\"], [0.1111111111111111, \"#46039f\"], [0.2222222222222222, \"#7201a8\"], [0.3333333333333333, \"#9c179e\"], [0.4444444444444444, \"#bd3786\"], [0.5555555555555556, \"#d8576b\"], [0.6666666666666666, \"#ed7953\"], [0.7777777777777778, \"#fb9f3a\"], [0.8888888888888888, \"#fdca26\"], [1.0, \"#f0f921\"]], \"type\": \"contour\"}], \"contourcarpet\": [{\"colorbar\": {\"outlinewidth\": 0, \"ticks\": \"\"}, \"type\": \"contourcarpet\"}], \"heatmap\": [{\"colorbar\": {\"outlinewidth\": 0, \"ticks\": \"\"}, \"colorscale\": [[0.0, \"#0d0887\"], [0.1111111111111111, \"#46039f\"], [0.2222222222222222, \"#7201a8\"], [0.3333333333333333, \"#9c179e\"], [0.4444444444444444, \"#bd3786\"], [0.5555555555555556, \"#d8576b\"], [0.6666666666666666, \"#ed7953\"], [0.7777777777777778, \"#fb9f3a\"], [0.8888888888888888, \"#fdca26\"], [1.0, \"#f0f921\"]], \"type\": \"heatmap\"}], \"heatmapgl\": [{\"colorbar\": {\"outlinewidth\": 0, \"ticks\": \"\"}, \"colorscale\": [[0.0, \"#0d0887\"], [0.1111111111111111, \"#46039f\"], [0.2222222222222222, \"#7201a8\"], [0.3333333333333333, \"#9c179e\"], [0.4444444444444444, \"#bd3786\"], [0.5555555555555556, \"#d8576b\"], [0.6666666666666666, \"#ed7953\"], [0.7777777777777778, \"#fb9f3a\"], [0.8888888888888888, \"#fdca26\"], [1.0, \"#f0f921\"]], \"type\": \"heatmapgl\"}], \"histogram\": [{\"marker\": {\"colorbar\": {\"outlinewidth\": 0, \"ticks\": \"\"}}, \"type\": \"histogram\"}], \"histogram2d\": [{\"colorbar\": {\"outlinewidth\": 0, \"ticks\": \"\"}, \"colorscale\": [[0.0, \"#0d0887\"], [0.1111111111111111, \"#46039f\"], [0.2222222222222222, \"#7201a8\"], [0.3333333333333333, \"#9c179e\"], [0.4444444444444444, \"#bd3786\"], [0.5555555555555556, \"#d8576b\"], [0.6666666666666666, \"#ed7953\"], [0.7777777777777778, \"#fb9f3a\"], [0.8888888888888888, \"#fdca26\"], [1.0, \"#f0f921\"]], \"type\": \"histogram2d\"}], \"histogram2dcontour\": [{\"colorbar\": {\"outlinewidth\": 0, \"ticks\": \"\"}, \"colorscale\": [[0.0, \"#0d0887\"], [0.1111111111111111, \"#46039f\"], [0.2222222222222222, \"#7201a8\"], [0.3333333333333333, \"#9c179e\"], [0.4444444444444444, \"#bd3786\"], [0.5555555555555556, \"#d8576b\"], [0.6666666666666666, \"#ed7953\"], [0.7777777777777778, \"#fb9f3a\"], [0.8888888888888888, \"#fdca26\"], [1.0, \"#f0f921\"]], \"type\": \"histogram2dcontour\"}], \"mesh3d\": [{\"colorbar\": {\"outlinewidth\": 0, \"ticks\": \"\"}, \"type\": \"mesh3d\"}], \"parcoords\": [{\"line\": {\"colorbar\": {\"outlinewidth\": 0, \"ticks\": \"\"}}, \"type\": \"parcoords\"}], \"pie\": [{\"automargin\": true, \"type\": \"pie\"}], \"scatter\": [{\"marker\": {\"colorbar\": {\"outlinewidth\": 0, \"ticks\": \"\"}}, \"type\": \"scatter\"}], \"scatter3d\": [{\"line\": {\"colorbar\": {\"outlinewidth\": 0, \"ticks\": \"\"}}, \"marker\": {\"colorbar\": {\"outlinewidth\": 0, \"ticks\": \"\"}}, \"type\": \"scatter3d\"}], \"scattercarpet\": [{\"marker\": {\"colorbar\": {\"outlinewidth\": 0, \"ticks\": \"\"}}, \"type\": \"scattercarpet\"}], \"scattergeo\": [{\"marker\": {\"colorbar\": {\"outlinewidth\": 0, \"ticks\": \"\"}}, \"type\": \"scattergeo\"}], \"scattergl\": [{\"marker\": {\"colorbar\": {\"outlinewidth\": 0, \"ticks\": \"\"}}, \"type\": \"scattergl\"}], \"scattermapbox\": [{\"marker\": {\"colorbar\": {\"outlinewidth\": 0, \"ticks\": \"\"}}, \"type\": \"scattermapbox\"}], \"scatterpolar\": [{\"marker\": {\"colorbar\": {\"outlinewidth\": 0, \"ticks\": \"\"}}, \"type\": \"scatterpolar\"}], \"scatterpolargl\": [{\"marker\": {\"colorbar\": {\"outlinewidth\": 0, \"ticks\": \"\"}}, \"type\": \"scatterpolargl\"}], \"scatterternary\": [{\"marker\": {\"colorbar\": {\"outlinewidth\": 0, \"ticks\": \"\"}}, \"type\": \"scatterternary\"}], \"surface\": [{\"colorbar\": {\"outlinewidth\": 0, \"ticks\": \"\"}, \"colorscale\": [[0.0, \"#0d0887\"], [0.1111111111111111, \"#46039f\"], [0.2222222222222222, \"#7201a8\"], [0.3333333333333333, \"#9c179e\"], [0.4444444444444444, \"#bd3786\"], [0.5555555555555556, \"#d8576b\"], [0.6666666666666666, \"#ed7953\"], [0.7777777777777778, \"#fb9f3a\"], [0.8888888888888888, \"#fdca26\"], [1.0, \"#f0f921\"]], \"type\": \"surface\"}], \"table\": [{\"cells\": {\"fill\": {\"color\": \"#EBF0F8\"}, \"line\": {\"color\": \"white\"}}, \"header\": {\"fill\": {\"color\": \"#C8D4E3\"}, \"line\": {\"color\": \"white\"}}, \"type\": \"table\"}]}, \"layout\": {\"annotationdefaults\": {\"arrowcolor\": \"#2a3f5f\", \"arrowhead\": 0, \"arrowwidth\": 1}, \"coloraxis\": {\"colorbar\": {\"outlinewidth\": 0, \"ticks\": \"\"}}, \"colorscale\": {\"diverging\": [[0, \"#8e0152\"], [0.1, \"#c51b7d\"], [0.2, \"#de77ae\"], [0.3, \"#f1b6da\"], [0.4, \"#fde0ef\"], [0.5, \"#f7f7f7\"], [0.6, \"#e6f5d0\"], [0.7, \"#b8e186\"], [0.8, \"#7fbc41\"], [0.9, \"#4d9221\"], [1, \"#276419\"]], \"sequential\": [[0.0, \"#0d0887\"], [0.1111111111111111, \"#46039f\"], [0.2222222222222222, \"#7201a8\"], [0.3333333333333333, \"#9c179e\"], [0.4444444444444444, \"#bd3786\"], [0.5555555555555556, \"#d8576b\"], [0.6666666666666666, \"#ed7953\"], [0.7777777777777778, \"#fb9f3a\"], [0.8888888888888888, \"#fdca26\"], [1.0, \"#f0f921\"]], \"sequentialminus\": [[0.0, \"#0d0887\"], [0.1111111111111111, \"#46039f\"], [0.2222222222222222, \"#7201a8\"], [0.3333333333333333, \"#9c179e\"], [0.4444444444444444, \"#bd3786\"], [0.5555555555555556, \"#d8576b\"], [0.6666666666666666, \"#ed7953\"], [0.7777777777777778, \"#fb9f3a\"], [0.8888888888888888, \"#fdca26\"], [1.0, \"#f0f921\"]]}, \"colorway\": [\"#636efa\", \"#EF553B\", \"#00cc96\", \"#ab63fa\", \"#FFA15A\", \"#19d3f3\", \"#FF6692\", \"#B6E880\", \"#FF97FF\", \"#FECB52\"], \"font\": {\"color\": \"#2a3f5f\"}, \"geo\": {\"bgcolor\": \"white\", \"lakecolor\": \"white\", \"landcolor\": \"#E5ECF6\", \"showlakes\": true, \"showland\": true, \"subunitcolor\": \"white\"}, \"hoverlabel\": {\"align\": \"left\"}, \"hovermode\": \"closest\", \"mapbox\": {\"style\": \"light\"}, \"paper_bgcolor\": \"white\", \"plot_bgcolor\": \"#E5ECF6\", \"polar\": {\"angularaxis\": {\"gridcolor\": \"white\", \"linecolor\": \"white\", \"ticks\": \"\"}, \"bgcolor\": \"#E5ECF6\", \"radialaxis\": {\"gridcolor\": \"white\", \"linecolor\": \"white\", \"ticks\": \"\"}}, \"scene\": {\"xaxis\": {\"backgroundcolor\": \"#E5ECF6\", \"gridcolor\": \"white\", \"gridwidth\": 2, \"linecolor\": \"white\", \"showbackground\": true, \"ticks\": \"\", \"zerolinecolor\": \"white\"}, \"yaxis\": {\"backgroundcolor\": \"#E5ECF6\", \"gridcolor\": \"white\", \"gridwidth\": 2, \"linecolor\": \"white\", \"showbackground\": true, \"ticks\": \"\", \"zerolinecolor\": \"white\"}, \"zaxis\": {\"backgroundcolor\": \"#E5ECF6\", \"gridcolor\": \"white\", \"gridwidth\": 2, \"linecolor\": \"white\", \"showbackground\": true, \"ticks\": \"\", \"zerolinecolor\": \"white\"}}, \"shapedefaults\": {\"line\": {\"color\": \"#2a3f5f\"}}, \"ternary\": {\"aaxis\": {\"gridcolor\": \"white\", \"linecolor\": \"white\", \"ticks\": \"\"}, \"baxis\": {\"gridcolor\": \"white\", \"linecolor\": \"white\", \"ticks\": \"\"}, \"bgcolor\": \"#E5ECF6\", \"caxis\": {\"gridcolor\": \"white\", \"linecolor\": \"white\", \"ticks\": \"\"}}, \"title\": {\"x\": 0.05}, \"xaxis\": {\"automargin\": true, \"gridcolor\": \"white\", \"linecolor\": \"white\", \"ticks\": \"\", \"title\": {\"standoff\": 15}, \"zerolinecolor\": \"white\", \"zerolinewidth\": 2}, \"yaxis\": {\"automargin\": true, \"gridcolor\": \"white\", \"linecolor\": \"white\", \"ticks\": \"\", \"title\": {\"standoff\": 15}, \"zerolinecolor\": \"white\", \"zerolinewidth\": 2}}}, \"title\": {\"font\": {\"color\": \"#4D5663\"}}, \"xaxis\": {\"gridcolor\": \"#E1E5ED\", \"showgrid\": true, \"tickfont\": {\"color\": \"#4D5663\"}, \"title\": {\"font\": {\"color\": \"#4D5663\"}, \"text\": \"\"}, \"zerolinecolor\": \"#E1E5ED\"}, \"xaxis2\": {\"anchor\": \"y2\", \"gridcolor\": \"#E1E5ED\", \"showgrid\": true, \"showticklabels\": false, \"tickfont\": {\"color\": \"#4D5663\"}, \"title\": {\"font\": {\"color\": \"#4D5663\"}, \"text\": \"\"}, \"zerolinecolor\": \"#E1E5ED\"}, \"yaxis\": {\"domain\": [0.3, 1], \"gridcolor\": \"#E1E5ED\", \"showgrid\": true, \"tickfont\": {\"color\": \"#4D5663\"}, \"title\": {\"font\": {\"color\": \"#4D5663\"}, \"text\": \"\"}, \"zerolinecolor\": \"#E1E5ED\"}, \"yaxis2\": {\"domain\": [0, 0.25], \"gridcolor\": \"#E1E5ED\", \"showgrid\": true, \"tickfont\": {\"color\": \"#4D5663\"}, \"title\": {\"font\": {\"color\": \"#4D5663\"}, \"text\": \"Spread\"}, \"zerolinecolor\": \"#E1E5ED\"}},                        {\"showLink\": true, \"linkText\": \"Export to plot.ly\", \"plotlyServerURL\": \"https://plot.ly\", \"responsive\": true}                    ).then(function(){\n                            \nvar gd = document.getElementById('c5aa7a68-6d2f-4f39-b1fc-eb6f81ccce4c');\nvar x = new MutationObserver(function (mutations, observer) {{\n        var display = window.getComputedStyle(gd).display;\n        if (!display || display === 'none') {{\n            console.log([gd, 'removed!']);\n            Plotly.purge(gd);\n            observer.disconnect();\n        }}\n}});\n\n// Listen for the removal of the full notebook cells\nvar notebookContainer = gd.closest('#notebook-container');\nif (notebookContainer) {{\n    x.observe(notebookContainer, {childList: true});\n}}\n\n// Listen for the clearing of the current output cell\nvar outputEl = gd.closest('.output');\nif (outputEl) {{\n    x.observe(outputEl, {childList: true});\n}}\n\n                        })                };                });            </script>        </div>"
     },
     "metadata": {}
    }
   ],
   "source": [
    "df[['A', 'B']].iplot(kind='spread')"
   ]
  },
  {
   "source": [
    "## histogram"
   ],
   "cell_type": "markdown",
   "metadata": {}
  },
  {
   "cell_type": "code",
   "execution_count": 16,
   "metadata": {},
   "outputs": [
    {
     "output_type": "display_data",
     "data": {
      "application/vnd.plotly.v1+json": {
       "config": {
        "linkText": "Export to plot.ly",
        "plotlyServerURL": "https://plot.ly",
        "showLink": true
       },
       "data": [
        {
         "histfunc": "count",
         "histnorm": "",
         "marker": {
          "color": "rgba(255, 153, 51, 1.0)",
          "line": {
           "color": "#4D5663",
           "width": 1.3
          }
         },
         "name": "A",
         "nbinsx": 25,
         "opacity": 0.8,
         "orientation": "v",
         "type": "histogram",
         "x": [
          -3.1903388189260506,
          0.23396036411163004,
          1.1589655786036386,
          -0.48300006152562525,
          -1.5103337587243804,
          -0.5044248859027471,
          1.182281645215199,
          0.42006775240638894,
          -0.8810298974091847,
          0.5039382873693414,
          -0.731266004129346,
          0.0638361921822204,
          -1.0652754263641049,
          -0.9041076466885405,
          -0.9048795324169541,
          -0.7972587761240022,
          -0.3675670471291356,
          0.28082146701438343,
          -0.08633039339250868,
          0.040217153150704704,
          -0.6690624158655928,
          1.2627520886852726,
          0.8930334427555254,
          -0.5720828983632429,
          -0.10829789239054843,
          0.40614750365984825,
          -1.103865178801149,
          -0.8121010383177608,
          0.10072184675344648,
          -0.5769169489648015,
          -1.064607754248978,
          0.2803088090050602,
          0.27784983531770807,
          -0.41074940453263725,
          0.5858394974501357,
          -1.1873780187790168,
          -1.3497579113052596,
          1.255295743570665,
          -0.6927268600950082,
          -0.36127203424382964,
          -0.34463610823926666,
          -1.2009964413381025,
          1.3923569898979733,
          0.7787889527113488,
          1.8663933162193367,
          -0.7896518608815303,
          0.8604392983684553,
          0.5735613938299836,
          -1.2802106717549009,
          0.44164511860901834,
          -1.1744289444226033,
          -0.0000060149059195747345,
          -0.6467481917357054,
          1.2327214192099953,
          -0.28623017443738186,
          -1.7412710235687312,
          -0.9758958392945769,
          1.600310178717572,
          -0.6658748622479977,
          0.36105544712213045,
          1.2539490446516994,
          1.0583809422068344,
          -0.597617455493197,
          -0.45722923476382665,
          -1.2684784915115794,
          -0.9644190323469388,
          -0.8772580574236023,
          0.085838476310741,
          0.48674958148652886,
          0.9676561629391955,
          -2.13767913287318,
          -2.955837736363831,
          -1.7764340900302908,
          1.272615789302066,
          -0.37425080144249273,
          1.026973987239565,
          2.100477946764772,
          -0.9807225547579596,
          -0.7533250886156038,
          -0.03650463249437804,
          0.3529513644456242,
          -1.3607833800573281,
          -1.7417396477441502,
          -1.2994294895974514,
          0.32077583616185623,
          -0.4244455156618559,
          0.8905320772769698,
          -1.3186547947430771,
          0.12166001368478756,
          -1.2191124444406027,
          0.24654677954656246,
          -0.2623982371892286,
          0.2624213780227509,
          0.09375602776369371,
          -0.8396352448027719,
          -0.5553431002419489,
          -0.06731001731720351,
          -0.49821737363514945,
          2.474916165429662,
          -1.6424571327832522
         ]
        }
       ],
       "layout": {
        "barmode": "overlay",
        "legend": {
         "bgcolor": "#F5F6F9",
         "font": {
          "color": "#4D5663"
         }
        },
        "paper_bgcolor": "#F5F6F9",
        "plot_bgcolor": "#F5F6F9",
        "template": {
         "data": {
          "bar": [
           {
            "error_x": {
             "color": "#2a3f5f"
            },
            "error_y": {
             "color": "#2a3f5f"
            },
            "marker": {
             "line": {
              "color": "#E5ECF6",
              "width": 0.5
             }
            },
            "type": "bar"
           }
          ],
          "barpolar": [
           {
            "marker": {
             "line": {
              "color": "#E5ECF6",
              "width": 0.5
             }
            },
            "type": "barpolar"
           }
          ],
          "carpet": [
           {
            "aaxis": {
             "endlinecolor": "#2a3f5f",
             "gridcolor": "white",
             "linecolor": "white",
             "minorgridcolor": "white",
             "startlinecolor": "#2a3f5f"
            },
            "baxis": {
             "endlinecolor": "#2a3f5f",
             "gridcolor": "white",
             "linecolor": "white",
             "minorgridcolor": "white",
             "startlinecolor": "#2a3f5f"
            },
            "type": "carpet"
           }
          ],
          "choropleth": [
           {
            "colorbar": {
             "outlinewidth": 0,
             "ticks": ""
            },
            "type": "choropleth"
           }
          ],
          "contour": [
           {
            "colorbar": {
             "outlinewidth": 0,
             "ticks": ""
            },
            "colorscale": [
             [
              0,
              "#0d0887"
             ],
             [
              0.1111111111111111,
              "#46039f"
             ],
             [
              0.2222222222222222,
              "#7201a8"
             ],
             [
              0.3333333333333333,
              "#9c179e"
             ],
             [
              0.4444444444444444,
              "#bd3786"
             ],
             [
              0.5555555555555556,
              "#d8576b"
             ],
             [
              0.6666666666666666,
              "#ed7953"
             ],
             [
              0.7777777777777778,
              "#fb9f3a"
             ],
             [
              0.8888888888888888,
              "#fdca26"
             ],
             [
              1,
              "#f0f921"
             ]
            ],
            "type": "contour"
           }
          ],
          "contourcarpet": [
           {
            "colorbar": {
             "outlinewidth": 0,
             "ticks": ""
            },
            "type": "contourcarpet"
           }
          ],
          "heatmap": [
           {
            "colorbar": {
             "outlinewidth": 0,
             "ticks": ""
            },
            "colorscale": [
             [
              0,
              "#0d0887"
             ],
             [
              0.1111111111111111,
              "#46039f"
             ],
             [
              0.2222222222222222,
              "#7201a8"
             ],
             [
              0.3333333333333333,
              "#9c179e"
             ],
             [
              0.4444444444444444,
              "#bd3786"
             ],
             [
              0.5555555555555556,
              "#d8576b"
             ],
             [
              0.6666666666666666,
              "#ed7953"
             ],
             [
              0.7777777777777778,
              "#fb9f3a"
             ],
             [
              0.8888888888888888,
              "#fdca26"
             ],
             [
              1,
              "#f0f921"
             ]
            ],
            "type": "heatmap"
           }
          ],
          "heatmapgl": [
           {
            "colorbar": {
             "outlinewidth": 0,
             "ticks": ""
            },
            "colorscale": [
             [
              0,
              "#0d0887"
             ],
             [
              0.1111111111111111,
              "#46039f"
             ],
             [
              0.2222222222222222,
              "#7201a8"
             ],
             [
              0.3333333333333333,
              "#9c179e"
             ],
             [
              0.4444444444444444,
              "#bd3786"
             ],
             [
              0.5555555555555556,
              "#d8576b"
             ],
             [
              0.6666666666666666,
              "#ed7953"
             ],
             [
              0.7777777777777778,
              "#fb9f3a"
             ],
             [
              0.8888888888888888,
              "#fdca26"
             ],
             [
              1,
              "#f0f921"
             ]
            ],
            "type": "heatmapgl"
           }
          ],
          "histogram": [
           {
            "marker": {
             "colorbar": {
              "outlinewidth": 0,
              "ticks": ""
             }
            },
            "type": "histogram"
           }
          ],
          "histogram2d": [
           {
            "colorbar": {
             "outlinewidth": 0,
             "ticks": ""
            },
            "colorscale": [
             [
              0,
              "#0d0887"
             ],
             [
              0.1111111111111111,
              "#46039f"
             ],
             [
              0.2222222222222222,
              "#7201a8"
             ],
             [
              0.3333333333333333,
              "#9c179e"
             ],
             [
              0.4444444444444444,
              "#bd3786"
             ],
             [
              0.5555555555555556,
              "#d8576b"
             ],
             [
              0.6666666666666666,
              "#ed7953"
             ],
             [
              0.7777777777777778,
              "#fb9f3a"
             ],
             [
              0.8888888888888888,
              "#fdca26"
             ],
             [
              1,
              "#f0f921"
             ]
            ],
            "type": "histogram2d"
           }
          ],
          "histogram2dcontour": [
           {
            "colorbar": {
             "outlinewidth": 0,
             "ticks": ""
            },
            "colorscale": [
             [
              0,
              "#0d0887"
             ],
             [
              0.1111111111111111,
              "#46039f"
             ],
             [
              0.2222222222222222,
              "#7201a8"
             ],
             [
              0.3333333333333333,
              "#9c179e"
             ],
             [
              0.4444444444444444,
              "#bd3786"
             ],
             [
              0.5555555555555556,
              "#d8576b"
             ],
             [
              0.6666666666666666,
              "#ed7953"
             ],
             [
              0.7777777777777778,
              "#fb9f3a"
             ],
             [
              0.8888888888888888,
              "#fdca26"
             ],
             [
              1,
              "#f0f921"
             ]
            ],
            "type": "histogram2dcontour"
           }
          ],
          "mesh3d": [
           {
            "colorbar": {
             "outlinewidth": 0,
             "ticks": ""
            },
            "type": "mesh3d"
           }
          ],
          "parcoords": [
           {
            "line": {
             "colorbar": {
              "outlinewidth": 0,
              "ticks": ""
             }
            },
            "type": "parcoords"
           }
          ],
          "pie": [
           {
            "automargin": true,
            "type": "pie"
           }
          ],
          "scatter": [
           {
            "marker": {
             "colorbar": {
              "outlinewidth": 0,
              "ticks": ""
             }
            },
            "type": "scatter"
           }
          ],
          "scatter3d": [
           {
            "line": {
             "colorbar": {
              "outlinewidth": 0,
              "ticks": ""
             }
            },
            "marker": {
             "colorbar": {
              "outlinewidth": 0,
              "ticks": ""
             }
            },
            "type": "scatter3d"
           }
          ],
          "scattercarpet": [
           {
            "marker": {
             "colorbar": {
              "outlinewidth": 0,
              "ticks": ""
             }
            },
            "type": "scattercarpet"
           }
          ],
          "scattergeo": [
           {
            "marker": {
             "colorbar": {
              "outlinewidth": 0,
              "ticks": ""
             }
            },
            "type": "scattergeo"
           }
          ],
          "scattergl": [
           {
            "marker": {
             "colorbar": {
              "outlinewidth": 0,
              "ticks": ""
             }
            },
            "type": "scattergl"
           }
          ],
          "scattermapbox": [
           {
            "marker": {
             "colorbar": {
              "outlinewidth": 0,
              "ticks": ""
             }
            },
            "type": "scattermapbox"
           }
          ],
          "scatterpolar": [
           {
            "marker": {
             "colorbar": {
              "outlinewidth": 0,
              "ticks": ""
             }
            },
            "type": "scatterpolar"
           }
          ],
          "scatterpolargl": [
           {
            "marker": {
             "colorbar": {
              "outlinewidth": 0,
              "ticks": ""
             }
            },
            "type": "scatterpolargl"
           }
          ],
          "scatterternary": [
           {
            "marker": {
             "colorbar": {
              "outlinewidth": 0,
              "ticks": ""
             }
            },
            "type": "scatterternary"
           }
          ],
          "surface": [
           {
            "colorbar": {
             "outlinewidth": 0,
             "ticks": ""
            },
            "colorscale": [
             [
              0,
              "#0d0887"
             ],
             [
              0.1111111111111111,
              "#46039f"
             ],
             [
              0.2222222222222222,
              "#7201a8"
             ],
             [
              0.3333333333333333,
              "#9c179e"
             ],
             [
              0.4444444444444444,
              "#bd3786"
             ],
             [
              0.5555555555555556,
              "#d8576b"
             ],
             [
              0.6666666666666666,
              "#ed7953"
             ],
             [
              0.7777777777777778,
              "#fb9f3a"
             ],
             [
              0.8888888888888888,
              "#fdca26"
             ],
             [
              1,
              "#f0f921"
             ]
            ],
            "type": "surface"
           }
          ],
          "table": [
           {
            "cells": {
             "fill": {
              "color": "#EBF0F8"
             },
             "line": {
              "color": "white"
             }
            },
            "header": {
             "fill": {
              "color": "#C8D4E3"
             },
             "line": {
              "color": "white"
             }
            },
            "type": "table"
           }
          ]
         },
         "layout": {
          "annotationdefaults": {
           "arrowcolor": "#2a3f5f",
           "arrowhead": 0,
           "arrowwidth": 1
          },
          "coloraxis": {
           "colorbar": {
            "outlinewidth": 0,
            "ticks": ""
           }
          },
          "colorscale": {
           "diverging": [
            [
             0,
             "#8e0152"
            ],
            [
             0.1,
             "#c51b7d"
            ],
            [
             0.2,
             "#de77ae"
            ],
            [
             0.3,
             "#f1b6da"
            ],
            [
             0.4,
             "#fde0ef"
            ],
            [
             0.5,
             "#f7f7f7"
            ],
            [
             0.6,
             "#e6f5d0"
            ],
            [
             0.7,
             "#b8e186"
            ],
            [
             0.8,
             "#7fbc41"
            ],
            [
             0.9,
             "#4d9221"
            ],
            [
             1,
             "#276419"
            ]
           ],
           "sequential": [
            [
             0,
             "#0d0887"
            ],
            [
             0.1111111111111111,
             "#46039f"
            ],
            [
             0.2222222222222222,
             "#7201a8"
            ],
            [
             0.3333333333333333,
             "#9c179e"
            ],
            [
             0.4444444444444444,
             "#bd3786"
            ],
            [
             0.5555555555555556,
             "#d8576b"
            ],
            [
             0.6666666666666666,
             "#ed7953"
            ],
            [
             0.7777777777777778,
             "#fb9f3a"
            ],
            [
             0.8888888888888888,
             "#fdca26"
            ],
            [
             1,
             "#f0f921"
            ]
           ],
           "sequentialminus": [
            [
             0,
             "#0d0887"
            ],
            [
             0.1111111111111111,
             "#46039f"
            ],
            [
             0.2222222222222222,
             "#7201a8"
            ],
            [
             0.3333333333333333,
             "#9c179e"
            ],
            [
             0.4444444444444444,
             "#bd3786"
            ],
            [
             0.5555555555555556,
             "#d8576b"
            ],
            [
             0.6666666666666666,
             "#ed7953"
            ],
            [
             0.7777777777777778,
             "#fb9f3a"
            ],
            [
             0.8888888888888888,
             "#fdca26"
            ],
            [
             1,
             "#f0f921"
            ]
           ]
          },
          "colorway": [
           "#636efa",
           "#EF553B",
           "#00cc96",
           "#ab63fa",
           "#FFA15A",
           "#19d3f3",
           "#FF6692",
           "#B6E880",
           "#FF97FF",
           "#FECB52"
          ],
          "font": {
           "color": "#2a3f5f"
          },
          "geo": {
           "bgcolor": "white",
           "lakecolor": "white",
           "landcolor": "#E5ECF6",
           "showlakes": true,
           "showland": true,
           "subunitcolor": "white"
          },
          "hoverlabel": {
           "align": "left"
          },
          "hovermode": "closest",
          "mapbox": {
           "style": "light"
          },
          "paper_bgcolor": "white",
          "plot_bgcolor": "#E5ECF6",
          "polar": {
           "angularaxis": {
            "gridcolor": "white",
            "linecolor": "white",
            "ticks": ""
           },
           "bgcolor": "#E5ECF6",
           "radialaxis": {
            "gridcolor": "white",
            "linecolor": "white",
            "ticks": ""
           }
          },
          "scene": {
           "xaxis": {
            "backgroundcolor": "#E5ECF6",
            "gridcolor": "white",
            "gridwidth": 2,
            "linecolor": "white",
            "showbackground": true,
            "ticks": "",
            "zerolinecolor": "white"
           },
           "yaxis": {
            "backgroundcolor": "#E5ECF6",
            "gridcolor": "white",
            "gridwidth": 2,
            "linecolor": "white",
            "showbackground": true,
            "ticks": "",
            "zerolinecolor": "white"
           },
           "zaxis": {
            "backgroundcolor": "#E5ECF6",
            "gridcolor": "white",
            "gridwidth": 2,
            "linecolor": "white",
            "showbackground": true,
            "ticks": "",
            "zerolinecolor": "white"
           }
          },
          "shapedefaults": {
           "line": {
            "color": "#2a3f5f"
           }
          },
          "ternary": {
           "aaxis": {
            "gridcolor": "white",
            "linecolor": "white",
            "ticks": ""
           },
           "baxis": {
            "gridcolor": "white",
            "linecolor": "white",
            "ticks": ""
           },
           "bgcolor": "#E5ECF6",
           "caxis": {
            "gridcolor": "white",
            "linecolor": "white",
            "ticks": ""
           }
          },
          "title": {
           "x": 0.05
          },
          "xaxis": {
           "automargin": true,
           "gridcolor": "white",
           "linecolor": "white",
           "ticks": "",
           "title": {
            "standoff": 15
           },
           "zerolinecolor": "white",
           "zerolinewidth": 2
          },
          "yaxis": {
           "automargin": true,
           "gridcolor": "white",
           "linecolor": "white",
           "ticks": "",
           "title": {
            "standoff": 15
           },
           "zerolinecolor": "white",
           "zerolinewidth": 2
          }
         }
        },
        "title": {
         "font": {
          "color": "#4D5663"
         }
        },
        "xaxis": {
         "gridcolor": "#E1E5ED",
         "showgrid": true,
         "tickfont": {
          "color": "#4D5663"
         },
         "title": {
          "font": {
           "color": "#4D5663"
          },
          "text": ""
         },
         "zerolinecolor": "#E1E5ED"
        },
        "yaxis": {
         "gridcolor": "#E1E5ED",
         "showgrid": true,
         "tickfont": {
          "color": "#4D5663"
         },
         "title": {
          "font": {
           "color": "#4D5663"
          },
          "text": ""
         },
         "zerolinecolor": "#E1E5ED"
        }
       }
      },
      "text/html": "<div>                            <div id=\"e701644d-997c-45ee-95e2-39e8ec45e299\" class=\"plotly-graph-div\" style=\"height:525px; width:100%;\"></div>            <script type=\"text/javascript\">                require([\"plotly\"], function(Plotly) {                    window.PLOTLYENV=window.PLOTLYENV || {};\n                    window.PLOTLYENV.BASE_URL='https://plot.ly';                                    if (document.getElementById(\"e701644d-997c-45ee-95e2-39e8ec45e299\")) {                    Plotly.newPlot(                        \"e701644d-997c-45ee-95e2-39e8ec45e299\",                        [{\"histfunc\": \"count\", \"histnorm\": \"\", \"marker\": {\"color\": \"rgba(255, 153, 51, 1.0)\", \"line\": {\"color\": \"#4D5663\", \"width\": 1.3}}, \"name\": \"A\", \"nbinsx\": 25, \"opacity\": 0.8, \"orientation\": \"v\", \"type\": \"histogram\", \"x\": [-3.1903388189260506, 0.23396036411163004, 1.1589655786036386, -0.48300006152562525, -1.5103337587243804, -0.5044248859027471, 1.182281645215199, 0.42006775240638894, -0.8810298974091847, 0.5039382873693414, -0.731266004129346, 0.0638361921822204, -1.0652754263641049, -0.9041076466885405, -0.9048795324169541, -0.7972587761240022, -0.3675670471291356, 0.28082146701438343, -0.08633039339250868, 0.040217153150704704, -0.6690624158655928, 1.2627520886852726, 0.8930334427555254, -0.5720828983632429, -0.10829789239054843, 0.40614750365984825, -1.103865178801149, -0.8121010383177608, 0.10072184675344648, -0.5769169489648015, -1.064607754248978, 0.2803088090050602, 0.27784983531770807, -0.41074940453263725, 0.5858394974501357, -1.1873780187790168, -1.3497579113052596, 1.255295743570665, -0.6927268600950082, -0.36127203424382964, -0.34463610823926666, -1.2009964413381025, 1.3923569898979733, 0.7787889527113488, 1.8663933162193367, -0.7896518608815303, 0.8604392983684553, 0.5735613938299836, -1.2802106717549009, 0.44164511860901834, -1.1744289444226033, -6.0149059195747345e-06, -0.6467481917357054, 1.2327214192099953, -0.28623017443738186, -1.7412710235687312, -0.9758958392945769, 1.600310178717572, -0.6658748622479977, 0.36105544712213045, 1.2539490446516994, 1.0583809422068344, -0.597617455493197, -0.45722923476382665, -1.2684784915115794, -0.9644190323469388, -0.8772580574236023, 0.085838476310741, 0.48674958148652886, 0.9676561629391955, -2.13767913287318, -2.955837736363831, -1.7764340900302908, 1.272615789302066, -0.37425080144249273, 1.026973987239565, 2.100477946764772, -0.9807225547579596, -0.7533250886156038, -0.03650463249437804, 0.3529513644456242, -1.3607833800573281, -1.7417396477441502, -1.2994294895974514, 0.32077583616185623, -0.4244455156618559, 0.8905320772769698, -1.3186547947430771, 0.12166001368478756, -1.2191124444406027, 0.24654677954656246, -0.2623982371892286, 0.2624213780227509, 0.09375602776369371, -0.8396352448027719, -0.5553431002419489, -0.06731001731720351, -0.49821737363514945, 2.474916165429662, -1.6424571327832522]}],                        {\"barmode\": \"overlay\", \"legend\": {\"bgcolor\": \"#F5F6F9\", \"font\": {\"color\": \"#4D5663\"}}, \"paper_bgcolor\": \"#F5F6F9\", \"plot_bgcolor\": \"#F5F6F9\", \"template\": {\"data\": {\"bar\": [{\"error_x\": {\"color\": \"#2a3f5f\"}, \"error_y\": {\"color\": \"#2a3f5f\"}, \"marker\": {\"line\": {\"color\": \"#E5ECF6\", \"width\": 0.5}}, \"type\": \"bar\"}], \"barpolar\": [{\"marker\": {\"line\": {\"color\": \"#E5ECF6\", \"width\": 0.5}}, \"type\": \"barpolar\"}], \"carpet\": [{\"aaxis\": {\"endlinecolor\": \"#2a3f5f\", \"gridcolor\": \"white\", \"linecolor\": \"white\", \"minorgridcolor\": \"white\", \"startlinecolor\": \"#2a3f5f\"}, \"baxis\": {\"endlinecolor\": \"#2a3f5f\", \"gridcolor\": \"white\", \"linecolor\": \"white\", \"minorgridcolor\": \"white\", \"startlinecolor\": \"#2a3f5f\"}, \"type\": \"carpet\"}], \"choropleth\": [{\"colorbar\": {\"outlinewidth\": 0, \"ticks\": \"\"}, \"type\": \"choropleth\"}], \"contour\": [{\"colorbar\": {\"outlinewidth\": 0, \"ticks\": \"\"}, \"colorscale\": [[0.0, \"#0d0887\"], [0.1111111111111111, \"#46039f\"], [0.2222222222222222, \"#7201a8\"], [0.3333333333333333, \"#9c179e\"], [0.4444444444444444, \"#bd3786\"], [0.5555555555555556, \"#d8576b\"], [0.6666666666666666, \"#ed7953\"], [0.7777777777777778, \"#fb9f3a\"], [0.8888888888888888, \"#fdca26\"], [1.0, \"#f0f921\"]], \"type\": \"contour\"}], \"contourcarpet\": [{\"colorbar\": {\"outlinewidth\": 0, \"ticks\": \"\"}, \"type\": \"contourcarpet\"}], \"heatmap\": [{\"colorbar\": {\"outlinewidth\": 0, \"ticks\": \"\"}, \"colorscale\": [[0.0, \"#0d0887\"], [0.1111111111111111, \"#46039f\"], [0.2222222222222222, \"#7201a8\"], [0.3333333333333333, \"#9c179e\"], [0.4444444444444444, \"#bd3786\"], [0.5555555555555556, \"#d8576b\"], [0.6666666666666666, \"#ed7953\"], [0.7777777777777778, \"#fb9f3a\"], [0.8888888888888888, \"#fdca26\"], [1.0, \"#f0f921\"]], \"type\": \"heatmap\"}], \"heatmapgl\": [{\"colorbar\": {\"outlinewidth\": 0, \"ticks\": \"\"}, \"colorscale\": [[0.0, \"#0d0887\"], [0.1111111111111111, \"#46039f\"], [0.2222222222222222, \"#7201a8\"], [0.3333333333333333, \"#9c179e\"], [0.4444444444444444, \"#bd3786\"], [0.5555555555555556, \"#d8576b\"], [0.6666666666666666, \"#ed7953\"], [0.7777777777777778, \"#fb9f3a\"], [0.8888888888888888, \"#fdca26\"], [1.0, \"#f0f921\"]], \"type\": \"heatmapgl\"}], \"histogram\": [{\"marker\": {\"colorbar\": {\"outlinewidth\": 0, \"ticks\": \"\"}}, \"type\": \"histogram\"}], \"histogram2d\": [{\"colorbar\": {\"outlinewidth\": 0, \"ticks\": \"\"}, \"colorscale\": [[0.0, \"#0d0887\"], [0.1111111111111111, \"#46039f\"], [0.2222222222222222, \"#7201a8\"], [0.3333333333333333, \"#9c179e\"], [0.4444444444444444, \"#bd3786\"], [0.5555555555555556, \"#d8576b\"], [0.6666666666666666, \"#ed7953\"], [0.7777777777777778, \"#fb9f3a\"], [0.8888888888888888, \"#fdca26\"], [1.0, \"#f0f921\"]], \"type\": \"histogram2d\"}], \"histogram2dcontour\": [{\"colorbar\": {\"outlinewidth\": 0, \"ticks\": \"\"}, \"colorscale\": [[0.0, \"#0d0887\"], [0.1111111111111111, \"#46039f\"], [0.2222222222222222, \"#7201a8\"], [0.3333333333333333, \"#9c179e\"], [0.4444444444444444, \"#bd3786\"], [0.5555555555555556, \"#d8576b\"], [0.6666666666666666, \"#ed7953\"], [0.7777777777777778, \"#fb9f3a\"], [0.8888888888888888, \"#fdca26\"], [1.0, \"#f0f921\"]], \"type\": \"histogram2dcontour\"}], \"mesh3d\": [{\"colorbar\": {\"outlinewidth\": 0, \"ticks\": \"\"}, \"type\": \"mesh3d\"}], \"parcoords\": [{\"line\": {\"colorbar\": {\"outlinewidth\": 0, \"ticks\": \"\"}}, \"type\": \"parcoords\"}], \"pie\": [{\"automargin\": true, \"type\": \"pie\"}], \"scatter\": [{\"marker\": {\"colorbar\": {\"outlinewidth\": 0, \"ticks\": \"\"}}, \"type\": \"scatter\"}], \"scatter3d\": [{\"line\": {\"colorbar\": {\"outlinewidth\": 0, \"ticks\": \"\"}}, \"marker\": {\"colorbar\": {\"outlinewidth\": 0, \"ticks\": \"\"}}, \"type\": \"scatter3d\"}], \"scattercarpet\": [{\"marker\": {\"colorbar\": {\"outlinewidth\": 0, \"ticks\": \"\"}}, \"type\": \"scattercarpet\"}], \"scattergeo\": [{\"marker\": {\"colorbar\": {\"outlinewidth\": 0, \"ticks\": \"\"}}, \"type\": \"scattergeo\"}], \"scattergl\": [{\"marker\": {\"colorbar\": {\"outlinewidth\": 0, \"ticks\": \"\"}}, \"type\": \"scattergl\"}], \"scattermapbox\": [{\"marker\": {\"colorbar\": {\"outlinewidth\": 0, \"ticks\": \"\"}}, \"type\": \"scattermapbox\"}], \"scatterpolar\": [{\"marker\": {\"colorbar\": {\"outlinewidth\": 0, \"ticks\": \"\"}}, \"type\": \"scatterpolar\"}], \"scatterpolargl\": [{\"marker\": {\"colorbar\": {\"outlinewidth\": 0, \"ticks\": \"\"}}, \"type\": \"scatterpolargl\"}], \"scatterternary\": [{\"marker\": {\"colorbar\": {\"outlinewidth\": 0, \"ticks\": \"\"}}, \"type\": \"scatterternary\"}], \"surface\": [{\"colorbar\": {\"outlinewidth\": 0, \"ticks\": \"\"}, \"colorscale\": [[0.0, \"#0d0887\"], [0.1111111111111111, \"#46039f\"], [0.2222222222222222, \"#7201a8\"], [0.3333333333333333, \"#9c179e\"], [0.4444444444444444, \"#bd3786\"], [0.5555555555555556, \"#d8576b\"], [0.6666666666666666, \"#ed7953\"], [0.7777777777777778, \"#fb9f3a\"], [0.8888888888888888, \"#fdca26\"], [1.0, \"#f0f921\"]], \"type\": \"surface\"}], \"table\": [{\"cells\": {\"fill\": {\"color\": \"#EBF0F8\"}, \"line\": {\"color\": \"white\"}}, \"header\": {\"fill\": {\"color\": \"#C8D4E3\"}, \"line\": {\"color\": \"white\"}}, \"type\": \"table\"}]}, \"layout\": {\"annotationdefaults\": {\"arrowcolor\": \"#2a3f5f\", \"arrowhead\": 0, \"arrowwidth\": 1}, \"coloraxis\": {\"colorbar\": {\"outlinewidth\": 0, \"ticks\": \"\"}}, \"colorscale\": {\"diverging\": [[0, \"#8e0152\"], [0.1, \"#c51b7d\"], [0.2, \"#de77ae\"], [0.3, \"#f1b6da\"], [0.4, \"#fde0ef\"], [0.5, \"#f7f7f7\"], [0.6, \"#e6f5d0\"], [0.7, \"#b8e186\"], [0.8, \"#7fbc41\"], [0.9, \"#4d9221\"], [1, \"#276419\"]], \"sequential\": [[0.0, \"#0d0887\"], [0.1111111111111111, \"#46039f\"], [0.2222222222222222, \"#7201a8\"], [0.3333333333333333, \"#9c179e\"], [0.4444444444444444, \"#bd3786\"], [0.5555555555555556, \"#d8576b\"], [0.6666666666666666, \"#ed7953\"], [0.7777777777777778, \"#fb9f3a\"], [0.8888888888888888, \"#fdca26\"], [1.0, \"#f0f921\"]], \"sequentialminus\": [[0.0, \"#0d0887\"], [0.1111111111111111, \"#46039f\"], [0.2222222222222222, \"#7201a8\"], [0.3333333333333333, \"#9c179e\"], [0.4444444444444444, \"#bd3786\"], [0.5555555555555556, \"#d8576b\"], [0.6666666666666666, \"#ed7953\"], [0.7777777777777778, \"#fb9f3a\"], [0.8888888888888888, \"#fdca26\"], [1.0, \"#f0f921\"]]}, \"colorway\": [\"#636efa\", \"#EF553B\", \"#00cc96\", \"#ab63fa\", \"#FFA15A\", \"#19d3f3\", \"#FF6692\", \"#B6E880\", \"#FF97FF\", \"#FECB52\"], \"font\": {\"color\": \"#2a3f5f\"}, \"geo\": {\"bgcolor\": \"white\", \"lakecolor\": \"white\", \"landcolor\": \"#E5ECF6\", \"showlakes\": true, \"showland\": true, \"subunitcolor\": \"white\"}, \"hoverlabel\": {\"align\": \"left\"}, \"hovermode\": \"closest\", \"mapbox\": {\"style\": \"light\"}, \"paper_bgcolor\": \"white\", \"plot_bgcolor\": \"#E5ECF6\", \"polar\": {\"angularaxis\": {\"gridcolor\": \"white\", \"linecolor\": \"white\", \"ticks\": \"\"}, \"bgcolor\": \"#E5ECF6\", \"radialaxis\": {\"gridcolor\": \"white\", \"linecolor\": \"white\", \"ticks\": \"\"}}, \"scene\": {\"xaxis\": {\"backgroundcolor\": \"#E5ECF6\", \"gridcolor\": \"white\", \"gridwidth\": 2, \"linecolor\": \"white\", \"showbackground\": true, \"ticks\": \"\", \"zerolinecolor\": \"white\"}, \"yaxis\": {\"backgroundcolor\": \"#E5ECF6\", \"gridcolor\": \"white\", \"gridwidth\": 2, \"linecolor\": \"white\", \"showbackground\": true, \"ticks\": \"\", \"zerolinecolor\": \"white\"}, \"zaxis\": {\"backgroundcolor\": \"#E5ECF6\", \"gridcolor\": \"white\", \"gridwidth\": 2, \"linecolor\": \"white\", \"showbackground\": true, \"ticks\": \"\", \"zerolinecolor\": \"white\"}}, \"shapedefaults\": {\"line\": {\"color\": \"#2a3f5f\"}}, \"ternary\": {\"aaxis\": {\"gridcolor\": \"white\", \"linecolor\": \"white\", \"ticks\": \"\"}, \"baxis\": {\"gridcolor\": \"white\", \"linecolor\": \"white\", \"ticks\": \"\"}, \"bgcolor\": \"#E5ECF6\", \"caxis\": {\"gridcolor\": \"white\", \"linecolor\": \"white\", \"ticks\": \"\"}}, \"title\": {\"x\": 0.05}, \"xaxis\": {\"automargin\": true, \"gridcolor\": \"white\", \"linecolor\": \"white\", \"ticks\": \"\", \"title\": {\"standoff\": 15}, \"zerolinecolor\": \"white\", \"zerolinewidth\": 2}, \"yaxis\": {\"automargin\": true, \"gridcolor\": \"white\", \"linecolor\": \"white\", \"ticks\": \"\", \"title\": {\"standoff\": 15}, \"zerolinecolor\": \"white\", \"zerolinewidth\": 2}}}, \"title\": {\"font\": {\"color\": \"#4D5663\"}}, \"xaxis\": {\"gridcolor\": \"#E1E5ED\", \"showgrid\": true, \"tickfont\": {\"color\": \"#4D5663\"}, \"title\": {\"font\": {\"color\": \"#4D5663\"}, \"text\": \"\"}, \"zerolinecolor\": \"#E1E5ED\"}, \"yaxis\": {\"gridcolor\": \"#E1E5ED\", \"showgrid\": true, \"tickfont\": {\"color\": \"#4D5663\"}, \"title\": {\"font\": {\"color\": \"#4D5663\"}, \"text\": \"\"}, \"zerolinecolor\": \"#E1E5ED\"}},                        {\"showLink\": true, \"linkText\": \"Export to plot.ly\", \"plotlyServerURL\": \"https://plot.ly\", \"responsive\": true}                    ).then(function(){\n                            \nvar gd = document.getElementById('e701644d-997c-45ee-95e2-39e8ec45e299');\nvar x = new MutationObserver(function (mutations, observer) {{\n        var display = window.getComputedStyle(gd).display;\n        if (!display || display === 'none') {{\n            console.log([gd, 'removed!']);\n            Plotly.purge(gd);\n            observer.disconnect();\n        }}\n}});\n\n// Listen for the removal of the full notebook cells\nvar notebookContainer = gd.closest('#notebook-container');\nif (notebookContainer) {{\n    x.observe(notebookContainer, {childList: true});\n}}\n\n// Listen for the clearing of the current output cell\nvar outputEl = gd.closest('.output');\nif (outputEl) {{\n    x.observe(outputEl, {childList: true});\n}}\n\n                        })                };                });            </script>        </div>"
     },
     "metadata": {}
    }
   ],
   "source": [
    "df['A'].iplot(kind='hist', bins=25)"
   ]
  },
  {
   "source": [
    "## bubble"
   ],
   "cell_type": "markdown",
   "metadata": {}
  },
  {
   "cell_type": "code",
   "execution_count": 17,
   "metadata": {},
   "outputs": [
    {
     "output_type": "display_data",
     "data": {
      "application/vnd.plotly.v1+json": {
       "config": {
        "linkText": "Export to plot.ly",
        "plotlyServerURL": "https://plot.ly",
        "showLink": true
       },
       "data": [
        {
         "marker": {
          "color": [
           "rgb(255, 153, 51)",
           "rgb(55, 128, 191)",
           "rgb(50, 171, 96)",
           "rgb(128, 0, 128)",
           "rgb(219, 64, 82)",
           "rgb(0, 128, 128)",
           "rgb(255, 255, 51)",
           "rgb(128, 128, 0)",
           "rgb(251, 128, 114)",
           "rgb(128, 177, 211)"
          ],
          "line": {
           "width": 1.3
          },
          "size": [
           39,
           83,
           66,
           49,
           51,
           46,
           36,
           55,
           57,
           47,
           56,
           89,
           64,
           72,
           32,
           63,
           40,
           39,
           58,
           92,
           63,
           64,
           68,
           49,
           66,
           55,
           79,
           42,
           47,
           63,
           52,
           40,
           66,
           41,
           60,
           58,
           98,
           112,
           64,
           55,
           37,
           39,
           66,
           72,
           71,
           64,
           58,
           62,
           55,
           67,
           60,
           60,
           54,
           85,
           40,
           94,
           42,
           71,
           47,
           82,
           24,
           61,
           62,
           55,
           61,
           62,
           52,
           54,
           55,
           72,
           79,
           84,
           51,
           52,
           55,
           79,
           22,
           54,
           50,
           70,
           72,
           48,
           62,
           45,
           46,
           12,
           51,
           81,
           33,
           52,
           50,
           61,
           64,
           61,
           48,
           56,
           25,
           67,
           74,
           33
          ],
          "symbol": "circle"
         },
         "mode": "markers",
         "text": "",
         "type": "scatter",
         "x": [
          -3.1903388189260506,
          0.23396036411163004,
          1.1589655786036386,
          -0.48300006152562525,
          -1.5103337587243804,
          -0.5044248859027471,
          1.182281645215199,
          0.42006775240638894,
          -0.8810298974091847,
          0.5039382873693414,
          -0.731266004129346,
          0.0638361921822204,
          -1.0652754263641049,
          -0.9041076466885405,
          -0.9048795324169541,
          -0.7972587761240022,
          -0.3675670471291356,
          0.28082146701438343,
          -0.08633039339250868,
          0.040217153150704704,
          -0.6690624158655928,
          1.2627520886852726,
          0.8930334427555254,
          -0.5720828983632429,
          -0.10829789239054843,
          0.40614750365984825,
          -1.103865178801149,
          -0.8121010383177608,
          0.10072184675344648,
          -0.5769169489648015,
          -1.064607754248978,
          0.2803088090050602,
          0.27784983531770807,
          -0.41074940453263725,
          0.5858394974501357,
          -1.1873780187790168,
          -1.3497579113052596,
          1.255295743570665,
          -0.6927268600950082,
          -0.36127203424382964,
          -0.34463610823926666,
          -1.2009964413381025,
          1.3923569898979733,
          0.7787889527113488,
          1.8663933162193367,
          -0.7896518608815303,
          0.8604392983684553,
          0.5735613938299836,
          -1.2802106717549009,
          0.44164511860901834,
          -1.1744289444226033,
          -0.0000060149059195747345,
          -0.6467481917357054,
          1.2327214192099953,
          -0.28623017443738186,
          -1.7412710235687312,
          -0.9758958392945769,
          1.600310178717572,
          -0.6658748622479977,
          0.36105544712213045,
          1.2539490446516994,
          1.0583809422068344,
          -0.597617455493197,
          -0.45722923476382665,
          -1.2684784915115794,
          -0.9644190323469388,
          -0.8772580574236023,
          0.085838476310741,
          0.48674958148652886,
          0.9676561629391955,
          -2.13767913287318,
          -2.955837736363831,
          -1.7764340900302908,
          1.272615789302066,
          -0.37425080144249273,
          1.026973987239565,
          2.100477946764772,
          -0.9807225547579596,
          -0.7533250886156038,
          -0.03650463249437804,
          0.3529513644456242,
          -1.3607833800573281,
          -1.7417396477441502,
          -1.2994294895974514,
          0.32077583616185623,
          -0.4244455156618559,
          0.8905320772769698,
          -1.3186547947430771,
          0.12166001368478756,
          -1.2191124444406027,
          0.24654677954656246,
          -0.2623982371892286,
          0.2624213780227509,
          0.09375602776369371,
          -0.8396352448027719,
          -0.5553431002419489,
          -0.06731001731720351,
          -0.49821737363514945,
          2.474916165429662,
          -1.6424571327832522
         ],
         "y": [
          -0.3643496606765255,
          0.026742083793018775,
          0.3584549394564874,
          -0.15087399036258875,
          0.7692264311391451,
          -0.9607394936456178,
          1.099364393084451,
          2.0413594007607077,
          -0.9589429120315346,
          -1.0151262656536937,
          -2.7705342521888636,
          0.04519916765724038,
          -1.0324039775286689,
          0.21166535206455778,
          0.9519171224472974,
          -0.8073326446901398,
          -0.11985422234986415,
          -0.1234321641152109,
          0.9187427563080505,
          -1.5763765046502152,
          0.48951503176455424,
          -0.278969609256558,
          -0.3648383818684051,
          -0.007140551384771878,
          0.824952324575092,
          1.012484922632672,
          0.5845377044183931,
          -1.2711783578576223,
          -0.36902106237264026,
          0.012682393985313328,
          0.3374744579584474,
          1.0374153302021154,
          0.8674581281533991,
          0.49520661962696927,
          -0.2181122070140142,
          -0.4198441589123327,
          -0.22085215002039907,
          -0.14099689419147918,
          -0.9772412761380672,
          -0.9091883734093862,
          -1.5686850852517986,
          0.12633424708785124,
          0.4249983112725074,
          -0.15071571160517683,
          -0.8190528021055005,
          -0.5843142509340462,
          1.009127911825222,
          -0.2532746339494671,
          0.8382486387582775,
          0.2987780822239634,
          -0.42940441705743443,
          0.12942894672747557,
          -0.3784668801032414,
          -0.36623302074540903,
          1.9636781681839237,
          -0.694293703929343,
          0.18243687176223544,
          0.44970065303344275,
          -0.5585085694844554,
          0.5781469849286903,
          -1.478679342255676,
          -2.2017812855469296,
          -0.22766449165792724,
          -0.9850956709230758,
          0.06535721379319329,
          1.6247637881367891,
          0.9388172664094236,
          0.5604816763327075,
          0.2297458405763916,
          0.5705488391936526,
          -0.5429901589467797,
          -1.4375484759630257,
          1.149625790934575,
          -1.8706089909902677,
          0.6574935076546705,
          0.3922469509849665,
          -0.3283399439671376,
          -0.7082986794613881,
          -1.3012155638305742,
          -0.47344112138941563,
          0.025524978856013302,
          -0.6078471413136215,
          0.6221060033789865,
          -0.8425812105486945,
          -1.9731018326838081,
          -2.085182182082291,
          0.7211728722787665,
          1.5764475887837608,
          0.17856892843054062,
          0.09394500672765961,
          -0.838783815812583,
          -2.0640038711962796,
          0.07541148221711562,
          0.011988483697282544,
          1.156875251344672,
          -0.32642331073805275,
          -1.0002773938460705,
          -0.409558017985458,
          -1.6432367398217418,
          -1.458768728092791
         ]
        }
       ],
       "layout": {
        "legend": {
         "bgcolor": "#F5F6F9",
         "font": {
          "color": "#4D5663"
         }
        },
        "paper_bgcolor": "#F5F6F9",
        "plot_bgcolor": "#F5F6F9",
        "template": {
         "data": {
          "bar": [
           {
            "error_x": {
             "color": "#2a3f5f"
            },
            "error_y": {
             "color": "#2a3f5f"
            },
            "marker": {
             "line": {
              "color": "#E5ECF6",
              "width": 0.5
             }
            },
            "type": "bar"
           }
          ],
          "barpolar": [
           {
            "marker": {
             "line": {
              "color": "#E5ECF6",
              "width": 0.5
             }
            },
            "type": "barpolar"
           }
          ],
          "carpet": [
           {
            "aaxis": {
             "endlinecolor": "#2a3f5f",
             "gridcolor": "white",
             "linecolor": "white",
             "minorgridcolor": "white",
             "startlinecolor": "#2a3f5f"
            },
            "baxis": {
             "endlinecolor": "#2a3f5f",
             "gridcolor": "white",
             "linecolor": "white",
             "minorgridcolor": "white",
             "startlinecolor": "#2a3f5f"
            },
            "type": "carpet"
           }
          ],
          "choropleth": [
           {
            "colorbar": {
             "outlinewidth": 0,
             "ticks": ""
            },
            "type": "choropleth"
           }
          ],
          "contour": [
           {
            "colorbar": {
             "outlinewidth": 0,
             "ticks": ""
            },
            "colorscale": [
             [
              0,
              "#0d0887"
             ],
             [
              0.1111111111111111,
              "#46039f"
             ],
             [
              0.2222222222222222,
              "#7201a8"
             ],
             [
              0.3333333333333333,
              "#9c179e"
             ],
             [
              0.4444444444444444,
              "#bd3786"
             ],
             [
              0.5555555555555556,
              "#d8576b"
             ],
             [
              0.6666666666666666,
              "#ed7953"
             ],
             [
              0.7777777777777778,
              "#fb9f3a"
             ],
             [
              0.8888888888888888,
              "#fdca26"
             ],
             [
              1,
              "#f0f921"
             ]
            ],
            "type": "contour"
           }
          ],
          "contourcarpet": [
           {
            "colorbar": {
             "outlinewidth": 0,
             "ticks": ""
            },
            "type": "contourcarpet"
           }
          ],
          "heatmap": [
           {
            "colorbar": {
             "outlinewidth": 0,
             "ticks": ""
            },
            "colorscale": [
             [
              0,
              "#0d0887"
             ],
             [
              0.1111111111111111,
              "#46039f"
             ],
             [
              0.2222222222222222,
              "#7201a8"
             ],
             [
              0.3333333333333333,
              "#9c179e"
             ],
             [
              0.4444444444444444,
              "#bd3786"
             ],
             [
              0.5555555555555556,
              "#d8576b"
             ],
             [
              0.6666666666666666,
              "#ed7953"
             ],
             [
              0.7777777777777778,
              "#fb9f3a"
             ],
             [
              0.8888888888888888,
              "#fdca26"
             ],
             [
              1,
              "#f0f921"
             ]
            ],
            "type": "heatmap"
           }
          ],
          "heatmapgl": [
           {
            "colorbar": {
             "outlinewidth": 0,
             "ticks": ""
            },
            "colorscale": [
             [
              0,
              "#0d0887"
             ],
             [
              0.1111111111111111,
              "#46039f"
             ],
             [
              0.2222222222222222,
              "#7201a8"
             ],
             [
              0.3333333333333333,
              "#9c179e"
             ],
             [
              0.4444444444444444,
              "#bd3786"
             ],
             [
              0.5555555555555556,
              "#d8576b"
             ],
             [
              0.6666666666666666,
              "#ed7953"
             ],
             [
              0.7777777777777778,
              "#fb9f3a"
             ],
             [
              0.8888888888888888,
              "#fdca26"
             ],
             [
              1,
              "#f0f921"
             ]
            ],
            "type": "heatmapgl"
           }
          ],
          "histogram": [
           {
            "marker": {
             "colorbar": {
              "outlinewidth": 0,
              "ticks": ""
             }
            },
            "type": "histogram"
           }
          ],
          "histogram2d": [
           {
            "colorbar": {
             "outlinewidth": 0,
             "ticks": ""
            },
            "colorscale": [
             [
              0,
              "#0d0887"
             ],
             [
              0.1111111111111111,
              "#46039f"
             ],
             [
              0.2222222222222222,
              "#7201a8"
             ],
             [
              0.3333333333333333,
              "#9c179e"
             ],
             [
              0.4444444444444444,
              "#bd3786"
             ],
             [
              0.5555555555555556,
              "#d8576b"
             ],
             [
              0.6666666666666666,
              "#ed7953"
             ],
             [
              0.7777777777777778,
              "#fb9f3a"
             ],
             [
              0.8888888888888888,
              "#fdca26"
             ],
             [
              1,
              "#f0f921"
             ]
            ],
            "type": "histogram2d"
           }
          ],
          "histogram2dcontour": [
           {
            "colorbar": {
             "outlinewidth": 0,
             "ticks": ""
            },
            "colorscale": [
             [
              0,
              "#0d0887"
             ],
             [
              0.1111111111111111,
              "#46039f"
             ],
             [
              0.2222222222222222,
              "#7201a8"
             ],
             [
              0.3333333333333333,
              "#9c179e"
             ],
             [
              0.4444444444444444,
              "#bd3786"
             ],
             [
              0.5555555555555556,
              "#d8576b"
             ],
             [
              0.6666666666666666,
              "#ed7953"
             ],
             [
              0.7777777777777778,
              "#fb9f3a"
             ],
             [
              0.8888888888888888,
              "#fdca26"
             ],
             [
              1,
              "#f0f921"
             ]
            ],
            "type": "histogram2dcontour"
           }
          ],
          "mesh3d": [
           {
            "colorbar": {
             "outlinewidth": 0,
             "ticks": ""
            },
            "type": "mesh3d"
           }
          ],
          "parcoords": [
           {
            "line": {
             "colorbar": {
              "outlinewidth": 0,
              "ticks": ""
             }
            },
            "type": "parcoords"
           }
          ],
          "pie": [
           {
            "automargin": true,
            "type": "pie"
           }
          ],
          "scatter": [
           {
            "marker": {
             "colorbar": {
              "outlinewidth": 0,
              "ticks": ""
             }
            },
            "type": "scatter"
           }
          ],
          "scatter3d": [
           {
            "line": {
             "colorbar": {
              "outlinewidth": 0,
              "ticks": ""
             }
            },
            "marker": {
             "colorbar": {
              "outlinewidth": 0,
              "ticks": ""
             }
            },
            "type": "scatter3d"
           }
          ],
          "scattercarpet": [
           {
            "marker": {
             "colorbar": {
              "outlinewidth": 0,
              "ticks": ""
             }
            },
            "type": "scattercarpet"
           }
          ],
          "scattergeo": [
           {
            "marker": {
             "colorbar": {
              "outlinewidth": 0,
              "ticks": ""
             }
            },
            "type": "scattergeo"
           }
          ],
          "scattergl": [
           {
            "marker": {
             "colorbar": {
              "outlinewidth": 0,
              "ticks": ""
             }
            },
            "type": "scattergl"
           }
          ],
          "scattermapbox": [
           {
            "marker": {
             "colorbar": {
              "outlinewidth": 0,
              "ticks": ""
             }
            },
            "type": "scattermapbox"
           }
          ],
          "scatterpolar": [
           {
            "marker": {
             "colorbar": {
              "outlinewidth": 0,
              "ticks": ""
             }
            },
            "type": "scatterpolar"
           }
          ],
          "scatterpolargl": [
           {
            "marker": {
             "colorbar": {
              "outlinewidth": 0,
              "ticks": ""
             }
            },
            "type": "scatterpolargl"
           }
          ],
          "scatterternary": [
           {
            "marker": {
             "colorbar": {
              "outlinewidth": 0,
              "ticks": ""
             }
            },
            "type": "scatterternary"
           }
          ],
          "surface": [
           {
            "colorbar": {
             "outlinewidth": 0,
             "ticks": ""
            },
            "colorscale": [
             [
              0,
              "#0d0887"
             ],
             [
              0.1111111111111111,
              "#46039f"
             ],
             [
              0.2222222222222222,
              "#7201a8"
             ],
             [
              0.3333333333333333,
              "#9c179e"
             ],
             [
              0.4444444444444444,
              "#bd3786"
             ],
             [
              0.5555555555555556,
              "#d8576b"
             ],
             [
              0.6666666666666666,
              "#ed7953"
             ],
             [
              0.7777777777777778,
              "#fb9f3a"
             ],
             [
              0.8888888888888888,
              "#fdca26"
             ],
             [
              1,
              "#f0f921"
             ]
            ],
            "type": "surface"
           }
          ],
          "table": [
           {
            "cells": {
             "fill": {
              "color": "#EBF0F8"
             },
             "line": {
              "color": "white"
             }
            },
            "header": {
             "fill": {
              "color": "#C8D4E3"
             },
             "line": {
              "color": "white"
             }
            },
            "type": "table"
           }
          ]
         },
         "layout": {
          "annotationdefaults": {
           "arrowcolor": "#2a3f5f",
           "arrowhead": 0,
           "arrowwidth": 1
          },
          "coloraxis": {
           "colorbar": {
            "outlinewidth": 0,
            "ticks": ""
           }
          },
          "colorscale": {
           "diverging": [
            [
             0,
             "#8e0152"
            ],
            [
             0.1,
             "#c51b7d"
            ],
            [
             0.2,
             "#de77ae"
            ],
            [
             0.3,
             "#f1b6da"
            ],
            [
             0.4,
             "#fde0ef"
            ],
            [
             0.5,
             "#f7f7f7"
            ],
            [
             0.6,
             "#e6f5d0"
            ],
            [
             0.7,
             "#b8e186"
            ],
            [
             0.8,
             "#7fbc41"
            ],
            [
             0.9,
             "#4d9221"
            ],
            [
             1,
             "#276419"
            ]
           ],
           "sequential": [
            [
             0,
             "#0d0887"
            ],
            [
             0.1111111111111111,
             "#46039f"
            ],
            [
             0.2222222222222222,
             "#7201a8"
            ],
            [
             0.3333333333333333,
             "#9c179e"
            ],
            [
             0.4444444444444444,
             "#bd3786"
            ],
            [
             0.5555555555555556,
             "#d8576b"
            ],
            [
             0.6666666666666666,
             "#ed7953"
            ],
            [
             0.7777777777777778,
             "#fb9f3a"
            ],
            [
             0.8888888888888888,
             "#fdca26"
            ],
            [
             1,
             "#f0f921"
            ]
           ],
           "sequentialminus": [
            [
             0,
             "#0d0887"
            ],
            [
             0.1111111111111111,
             "#46039f"
            ],
            [
             0.2222222222222222,
             "#7201a8"
            ],
            [
             0.3333333333333333,
             "#9c179e"
            ],
            [
             0.4444444444444444,
             "#bd3786"
            ],
            [
             0.5555555555555556,
             "#d8576b"
            ],
            [
             0.6666666666666666,
             "#ed7953"
            ],
            [
             0.7777777777777778,
             "#fb9f3a"
            ],
            [
             0.8888888888888888,
             "#fdca26"
            ],
            [
             1,
             "#f0f921"
            ]
           ]
          },
          "colorway": [
           "#636efa",
           "#EF553B",
           "#00cc96",
           "#ab63fa",
           "#FFA15A",
           "#19d3f3",
           "#FF6692",
           "#B6E880",
           "#FF97FF",
           "#FECB52"
          ],
          "font": {
           "color": "#2a3f5f"
          },
          "geo": {
           "bgcolor": "white",
           "lakecolor": "white",
           "landcolor": "#E5ECF6",
           "showlakes": true,
           "showland": true,
           "subunitcolor": "white"
          },
          "hoverlabel": {
           "align": "left"
          },
          "hovermode": "closest",
          "mapbox": {
           "style": "light"
          },
          "paper_bgcolor": "white",
          "plot_bgcolor": "#E5ECF6",
          "polar": {
           "angularaxis": {
            "gridcolor": "white",
            "linecolor": "white",
            "ticks": ""
           },
           "bgcolor": "#E5ECF6",
           "radialaxis": {
            "gridcolor": "white",
            "linecolor": "white",
            "ticks": ""
           }
          },
          "scene": {
           "xaxis": {
            "backgroundcolor": "#E5ECF6",
            "gridcolor": "white",
            "gridwidth": 2,
            "linecolor": "white",
            "showbackground": true,
            "ticks": "",
            "zerolinecolor": "white"
           },
           "yaxis": {
            "backgroundcolor": "#E5ECF6",
            "gridcolor": "white",
            "gridwidth": 2,
            "linecolor": "white",
            "showbackground": true,
            "ticks": "",
            "zerolinecolor": "white"
           },
           "zaxis": {
            "backgroundcolor": "#E5ECF6",
            "gridcolor": "white",
            "gridwidth": 2,
            "linecolor": "white",
            "showbackground": true,
            "ticks": "",
            "zerolinecolor": "white"
           }
          },
          "shapedefaults": {
           "line": {
            "color": "#2a3f5f"
           }
          },
          "ternary": {
           "aaxis": {
            "gridcolor": "white",
            "linecolor": "white",
            "ticks": ""
           },
           "baxis": {
            "gridcolor": "white",
            "linecolor": "white",
            "ticks": ""
           },
           "bgcolor": "#E5ECF6",
           "caxis": {
            "gridcolor": "white",
            "linecolor": "white",
            "ticks": ""
           }
          },
          "title": {
           "x": 0.05
          },
          "xaxis": {
           "automargin": true,
           "gridcolor": "white",
           "linecolor": "white",
           "ticks": "",
           "title": {
            "standoff": 15
           },
           "zerolinecolor": "white",
           "zerolinewidth": 2
          },
          "yaxis": {
           "automargin": true,
           "gridcolor": "white",
           "linecolor": "white",
           "ticks": "",
           "title": {
            "standoff": 15
           },
           "zerolinecolor": "white",
           "zerolinewidth": 2
          }
         }
        },
        "title": {
         "font": {
          "color": "#4D5663"
         }
        },
        "xaxis": {
         "gridcolor": "#E1E5ED",
         "showgrid": true,
         "tickfont": {
          "color": "#4D5663"
         },
         "title": {
          "font": {
           "color": "#4D5663"
          },
          "text": ""
         },
         "zerolinecolor": "#E1E5ED"
        },
        "yaxis": {
         "gridcolor": "#E1E5ED",
         "showgrid": true,
         "tickfont": {
          "color": "#4D5663"
         },
         "title": {
          "font": {
           "color": "#4D5663"
          },
          "text": ""
         },
         "zerolinecolor": "#E1E5ED"
        }
       }
      },
      "text/html": "<div>                            <div id=\"2779c100-b34b-444a-a6e2-7f8ab2d046fa\" class=\"plotly-graph-div\" style=\"height:525px; width:100%;\"></div>            <script type=\"text/javascript\">                require([\"plotly\"], function(Plotly) {                    window.PLOTLYENV=window.PLOTLYENV || {};\n                    window.PLOTLYENV.BASE_URL='https://plot.ly';                                    if (document.getElementById(\"2779c100-b34b-444a-a6e2-7f8ab2d046fa\")) {                    Plotly.newPlot(                        \"2779c100-b34b-444a-a6e2-7f8ab2d046fa\",                        [{\"marker\": {\"color\": [\"rgb(255, 153, 51)\", \"rgb(55, 128, 191)\", \"rgb(50, 171, 96)\", \"rgb(128, 0, 128)\", \"rgb(219, 64, 82)\", \"rgb(0, 128, 128)\", \"rgb(255, 255, 51)\", \"rgb(128, 128, 0)\", \"rgb(251, 128, 114)\", \"rgb(128, 177, 211)\"], \"line\": {\"width\": 1.3}, \"size\": [39, 83, 66, 49, 51, 46, 36, 55, 57, 47, 56, 89, 64, 72, 32, 63, 40, 39, 58, 92, 63, 64, 68, 49, 66, 55, 79, 42, 47, 63, 52, 40, 66, 41, 60, 58, 98, 112, 64, 55, 37, 39, 66, 72, 71, 64, 58, 62, 55, 67, 60, 60, 54, 85, 40, 94, 42, 71, 47, 82, 24, 61, 62, 55, 61, 62, 52, 54, 55, 72, 79, 84, 51, 52, 55, 79, 22, 54, 50, 70, 72, 48, 62, 45, 46, 12, 51, 81, 33, 52, 50, 61, 64, 61, 48, 56, 25, 67, 74, 33], \"symbol\": \"circle\"}, \"mode\": \"markers\", \"text\": \"\", \"type\": \"scatter\", \"x\": [-3.1903388189260506, 0.23396036411163004, 1.1589655786036386, -0.48300006152562525, -1.5103337587243804, -0.5044248859027471, 1.182281645215199, 0.42006775240638894, -0.8810298974091847, 0.5039382873693414, -0.731266004129346, 0.0638361921822204, -1.0652754263641049, -0.9041076466885405, -0.9048795324169541, -0.7972587761240022, -0.3675670471291356, 0.28082146701438343, -0.08633039339250868, 0.040217153150704704, -0.6690624158655928, 1.2627520886852726, 0.8930334427555254, -0.5720828983632429, -0.10829789239054843, 0.40614750365984825, -1.103865178801149, -0.8121010383177608, 0.10072184675344648, -0.5769169489648015, -1.064607754248978, 0.2803088090050602, 0.27784983531770807, -0.41074940453263725, 0.5858394974501357, -1.1873780187790168, -1.3497579113052596, 1.255295743570665, -0.6927268600950082, -0.36127203424382964, -0.34463610823926666, -1.2009964413381025, 1.3923569898979733, 0.7787889527113488, 1.8663933162193367, -0.7896518608815303, 0.8604392983684553, 0.5735613938299836, -1.2802106717549009, 0.44164511860901834, -1.1744289444226033, -6.0149059195747345e-06, -0.6467481917357054, 1.2327214192099953, -0.28623017443738186, -1.7412710235687312, -0.9758958392945769, 1.600310178717572, -0.6658748622479977, 0.36105544712213045, 1.2539490446516994, 1.0583809422068344, -0.597617455493197, -0.45722923476382665, -1.2684784915115794, -0.9644190323469388, -0.8772580574236023, 0.085838476310741, 0.48674958148652886, 0.9676561629391955, -2.13767913287318, -2.955837736363831, -1.7764340900302908, 1.272615789302066, -0.37425080144249273, 1.026973987239565, 2.100477946764772, -0.9807225547579596, -0.7533250886156038, -0.03650463249437804, 0.3529513644456242, -1.3607833800573281, -1.7417396477441502, -1.2994294895974514, 0.32077583616185623, -0.4244455156618559, 0.8905320772769698, -1.3186547947430771, 0.12166001368478756, -1.2191124444406027, 0.24654677954656246, -0.2623982371892286, 0.2624213780227509, 0.09375602776369371, -0.8396352448027719, -0.5553431002419489, -0.06731001731720351, -0.49821737363514945, 2.474916165429662, -1.6424571327832522], \"y\": [-0.3643496606765255, 0.026742083793018775, 0.3584549394564874, -0.15087399036258875, 0.7692264311391451, -0.9607394936456178, 1.099364393084451, 2.0413594007607077, -0.9589429120315346, -1.0151262656536937, -2.7705342521888636, 0.04519916765724038, -1.0324039775286689, 0.21166535206455778, 0.9519171224472974, -0.8073326446901398, -0.11985422234986415, -0.1234321641152109, 0.9187427563080505, -1.5763765046502152, 0.48951503176455424, -0.278969609256558, -0.3648383818684051, -0.007140551384771878, 0.824952324575092, 1.012484922632672, 0.5845377044183931, -1.2711783578576223, -0.36902106237264026, 0.012682393985313328, 0.3374744579584474, 1.0374153302021154, 0.8674581281533991, 0.49520661962696927, -0.2181122070140142, -0.4198441589123327, -0.22085215002039907, -0.14099689419147918, -0.9772412761380672, -0.9091883734093862, -1.5686850852517986, 0.12633424708785124, 0.4249983112725074, -0.15071571160517683, -0.8190528021055005, -0.5843142509340462, 1.009127911825222, -0.2532746339494671, 0.8382486387582775, 0.2987780822239634, -0.42940441705743443, 0.12942894672747557, -0.3784668801032414, -0.36623302074540903, 1.9636781681839237, -0.694293703929343, 0.18243687176223544, 0.44970065303344275, -0.5585085694844554, 0.5781469849286903, -1.478679342255676, -2.2017812855469296, -0.22766449165792724, -0.9850956709230758, 0.06535721379319329, 1.6247637881367891, 0.9388172664094236, 0.5604816763327075, 0.2297458405763916, 0.5705488391936526, -0.5429901589467797, -1.4375484759630257, 1.149625790934575, -1.8706089909902677, 0.6574935076546705, 0.3922469509849665, -0.3283399439671376, -0.7082986794613881, -1.3012155638305742, -0.47344112138941563, 0.025524978856013302, -0.6078471413136215, 0.6221060033789865, -0.8425812105486945, -1.9731018326838081, -2.085182182082291, 0.7211728722787665, 1.5764475887837608, 0.17856892843054062, 0.09394500672765961, -0.838783815812583, -2.0640038711962796, 0.07541148221711562, 0.011988483697282544, 1.156875251344672, -0.32642331073805275, -1.0002773938460705, -0.409558017985458, -1.6432367398217418, -1.458768728092791]}],                        {\"legend\": {\"bgcolor\": \"#F5F6F9\", \"font\": {\"color\": \"#4D5663\"}}, \"paper_bgcolor\": \"#F5F6F9\", \"plot_bgcolor\": \"#F5F6F9\", \"template\": {\"data\": {\"bar\": [{\"error_x\": {\"color\": \"#2a3f5f\"}, \"error_y\": {\"color\": \"#2a3f5f\"}, \"marker\": {\"line\": {\"color\": \"#E5ECF6\", \"width\": 0.5}}, \"type\": \"bar\"}], \"barpolar\": [{\"marker\": {\"line\": {\"color\": \"#E5ECF6\", \"width\": 0.5}}, \"type\": \"barpolar\"}], \"carpet\": [{\"aaxis\": {\"endlinecolor\": \"#2a3f5f\", \"gridcolor\": \"white\", \"linecolor\": \"white\", \"minorgridcolor\": \"white\", \"startlinecolor\": \"#2a3f5f\"}, \"baxis\": {\"endlinecolor\": \"#2a3f5f\", \"gridcolor\": \"white\", \"linecolor\": \"white\", \"minorgridcolor\": \"white\", \"startlinecolor\": \"#2a3f5f\"}, \"type\": \"carpet\"}], \"choropleth\": [{\"colorbar\": {\"outlinewidth\": 0, \"ticks\": \"\"}, \"type\": \"choropleth\"}], \"contour\": [{\"colorbar\": {\"outlinewidth\": 0, \"ticks\": \"\"}, \"colorscale\": [[0.0, \"#0d0887\"], [0.1111111111111111, \"#46039f\"], [0.2222222222222222, \"#7201a8\"], [0.3333333333333333, \"#9c179e\"], [0.4444444444444444, \"#bd3786\"], [0.5555555555555556, \"#d8576b\"], [0.6666666666666666, \"#ed7953\"], [0.7777777777777778, \"#fb9f3a\"], [0.8888888888888888, \"#fdca26\"], [1.0, \"#f0f921\"]], \"type\": \"contour\"}], \"contourcarpet\": [{\"colorbar\": {\"outlinewidth\": 0, \"ticks\": \"\"}, \"type\": \"contourcarpet\"}], \"heatmap\": [{\"colorbar\": {\"outlinewidth\": 0, \"ticks\": \"\"}, \"colorscale\": [[0.0, \"#0d0887\"], [0.1111111111111111, \"#46039f\"], [0.2222222222222222, \"#7201a8\"], [0.3333333333333333, \"#9c179e\"], [0.4444444444444444, \"#bd3786\"], [0.5555555555555556, \"#d8576b\"], [0.6666666666666666, \"#ed7953\"], [0.7777777777777778, \"#fb9f3a\"], [0.8888888888888888, \"#fdca26\"], [1.0, \"#f0f921\"]], \"type\": \"heatmap\"}], \"heatmapgl\": [{\"colorbar\": {\"outlinewidth\": 0, \"ticks\": \"\"}, \"colorscale\": [[0.0, \"#0d0887\"], [0.1111111111111111, \"#46039f\"], [0.2222222222222222, \"#7201a8\"], [0.3333333333333333, \"#9c179e\"], [0.4444444444444444, \"#bd3786\"], [0.5555555555555556, \"#d8576b\"], [0.6666666666666666, \"#ed7953\"], [0.7777777777777778, \"#fb9f3a\"], [0.8888888888888888, \"#fdca26\"], [1.0, \"#f0f921\"]], \"type\": \"heatmapgl\"}], \"histogram\": [{\"marker\": {\"colorbar\": {\"outlinewidth\": 0, \"ticks\": \"\"}}, \"type\": \"histogram\"}], \"histogram2d\": [{\"colorbar\": {\"outlinewidth\": 0, \"ticks\": \"\"}, \"colorscale\": [[0.0, \"#0d0887\"], [0.1111111111111111, \"#46039f\"], [0.2222222222222222, \"#7201a8\"], [0.3333333333333333, \"#9c179e\"], [0.4444444444444444, \"#bd3786\"], [0.5555555555555556, \"#d8576b\"], [0.6666666666666666, \"#ed7953\"], [0.7777777777777778, \"#fb9f3a\"], [0.8888888888888888, \"#fdca26\"], [1.0, \"#f0f921\"]], \"type\": \"histogram2d\"}], \"histogram2dcontour\": [{\"colorbar\": {\"outlinewidth\": 0, \"ticks\": \"\"}, \"colorscale\": [[0.0, \"#0d0887\"], [0.1111111111111111, \"#46039f\"], [0.2222222222222222, \"#7201a8\"], [0.3333333333333333, \"#9c179e\"], [0.4444444444444444, \"#bd3786\"], [0.5555555555555556, \"#d8576b\"], [0.6666666666666666, \"#ed7953\"], [0.7777777777777778, \"#fb9f3a\"], [0.8888888888888888, \"#fdca26\"], [1.0, \"#f0f921\"]], \"type\": \"histogram2dcontour\"}], \"mesh3d\": [{\"colorbar\": {\"outlinewidth\": 0, \"ticks\": \"\"}, \"type\": \"mesh3d\"}], \"parcoords\": [{\"line\": {\"colorbar\": {\"outlinewidth\": 0, \"ticks\": \"\"}}, \"type\": \"parcoords\"}], \"pie\": [{\"automargin\": true, \"type\": \"pie\"}], \"scatter\": [{\"marker\": {\"colorbar\": {\"outlinewidth\": 0, \"ticks\": \"\"}}, \"type\": \"scatter\"}], \"scatter3d\": [{\"line\": {\"colorbar\": {\"outlinewidth\": 0, \"ticks\": \"\"}}, \"marker\": {\"colorbar\": {\"outlinewidth\": 0, \"ticks\": \"\"}}, \"type\": \"scatter3d\"}], \"scattercarpet\": [{\"marker\": {\"colorbar\": {\"outlinewidth\": 0, \"ticks\": \"\"}}, \"type\": \"scattercarpet\"}], \"scattergeo\": [{\"marker\": {\"colorbar\": {\"outlinewidth\": 0, \"ticks\": \"\"}}, \"type\": \"scattergeo\"}], \"scattergl\": [{\"marker\": {\"colorbar\": {\"outlinewidth\": 0, \"ticks\": \"\"}}, \"type\": \"scattergl\"}], \"scattermapbox\": [{\"marker\": {\"colorbar\": {\"outlinewidth\": 0, \"ticks\": \"\"}}, \"type\": \"scattermapbox\"}], \"scatterpolar\": [{\"marker\": {\"colorbar\": {\"outlinewidth\": 0, \"ticks\": \"\"}}, \"type\": \"scatterpolar\"}], \"scatterpolargl\": [{\"marker\": {\"colorbar\": {\"outlinewidth\": 0, \"ticks\": \"\"}}, \"type\": \"scatterpolargl\"}], \"scatterternary\": [{\"marker\": {\"colorbar\": {\"outlinewidth\": 0, \"ticks\": \"\"}}, \"type\": \"scatterternary\"}], \"surface\": [{\"colorbar\": {\"outlinewidth\": 0, \"ticks\": \"\"}, \"colorscale\": [[0.0, \"#0d0887\"], [0.1111111111111111, \"#46039f\"], [0.2222222222222222, \"#7201a8\"], [0.3333333333333333, \"#9c179e\"], [0.4444444444444444, \"#bd3786\"], [0.5555555555555556, \"#d8576b\"], [0.6666666666666666, \"#ed7953\"], [0.7777777777777778, \"#fb9f3a\"], [0.8888888888888888, \"#fdca26\"], [1.0, \"#f0f921\"]], \"type\": \"surface\"}], \"table\": [{\"cells\": {\"fill\": {\"color\": \"#EBF0F8\"}, \"line\": {\"color\": \"white\"}}, \"header\": {\"fill\": {\"color\": \"#C8D4E3\"}, \"line\": {\"color\": \"white\"}}, \"type\": \"table\"}]}, \"layout\": {\"annotationdefaults\": {\"arrowcolor\": \"#2a3f5f\", \"arrowhead\": 0, \"arrowwidth\": 1}, \"coloraxis\": {\"colorbar\": {\"outlinewidth\": 0, \"ticks\": \"\"}}, \"colorscale\": {\"diverging\": [[0, \"#8e0152\"], [0.1, \"#c51b7d\"], [0.2, \"#de77ae\"], [0.3, \"#f1b6da\"], [0.4, \"#fde0ef\"], [0.5, \"#f7f7f7\"], [0.6, \"#e6f5d0\"], [0.7, \"#b8e186\"], [0.8, \"#7fbc41\"], [0.9, \"#4d9221\"], [1, \"#276419\"]], \"sequential\": [[0.0, \"#0d0887\"], [0.1111111111111111, \"#46039f\"], [0.2222222222222222, \"#7201a8\"], [0.3333333333333333, \"#9c179e\"], [0.4444444444444444, \"#bd3786\"], [0.5555555555555556, \"#d8576b\"], [0.6666666666666666, \"#ed7953\"], [0.7777777777777778, \"#fb9f3a\"], [0.8888888888888888, \"#fdca26\"], [1.0, \"#f0f921\"]], \"sequentialminus\": [[0.0, \"#0d0887\"], [0.1111111111111111, \"#46039f\"], [0.2222222222222222, \"#7201a8\"], [0.3333333333333333, \"#9c179e\"], [0.4444444444444444, \"#bd3786\"], [0.5555555555555556, \"#d8576b\"], [0.6666666666666666, \"#ed7953\"], [0.7777777777777778, \"#fb9f3a\"], [0.8888888888888888, \"#fdca26\"], [1.0, \"#f0f921\"]]}, \"colorway\": [\"#636efa\", \"#EF553B\", \"#00cc96\", \"#ab63fa\", \"#FFA15A\", \"#19d3f3\", \"#FF6692\", \"#B6E880\", \"#FF97FF\", \"#FECB52\"], \"font\": {\"color\": \"#2a3f5f\"}, \"geo\": {\"bgcolor\": \"white\", \"lakecolor\": \"white\", \"landcolor\": \"#E5ECF6\", \"showlakes\": true, \"showland\": true, \"subunitcolor\": \"white\"}, \"hoverlabel\": {\"align\": \"left\"}, \"hovermode\": \"closest\", \"mapbox\": {\"style\": \"light\"}, \"paper_bgcolor\": \"white\", \"plot_bgcolor\": \"#E5ECF6\", \"polar\": {\"angularaxis\": {\"gridcolor\": \"white\", \"linecolor\": \"white\", \"ticks\": \"\"}, \"bgcolor\": \"#E5ECF6\", \"radialaxis\": {\"gridcolor\": \"white\", \"linecolor\": \"white\", \"ticks\": \"\"}}, \"scene\": {\"xaxis\": {\"backgroundcolor\": \"#E5ECF6\", \"gridcolor\": \"white\", \"gridwidth\": 2, \"linecolor\": \"white\", \"showbackground\": true, \"ticks\": \"\", \"zerolinecolor\": \"white\"}, \"yaxis\": {\"backgroundcolor\": \"#E5ECF6\", \"gridcolor\": \"white\", \"gridwidth\": 2, \"linecolor\": \"white\", \"showbackground\": true, \"ticks\": \"\", \"zerolinecolor\": \"white\"}, \"zaxis\": {\"backgroundcolor\": \"#E5ECF6\", \"gridcolor\": \"white\", \"gridwidth\": 2, \"linecolor\": \"white\", \"showbackground\": true, \"ticks\": \"\", \"zerolinecolor\": \"white\"}}, \"shapedefaults\": {\"line\": {\"color\": \"#2a3f5f\"}}, \"ternary\": {\"aaxis\": {\"gridcolor\": \"white\", \"linecolor\": \"white\", \"ticks\": \"\"}, \"baxis\": {\"gridcolor\": \"white\", \"linecolor\": \"white\", \"ticks\": \"\"}, \"bgcolor\": \"#E5ECF6\", \"caxis\": {\"gridcolor\": \"white\", \"linecolor\": \"white\", \"ticks\": \"\"}}, \"title\": {\"x\": 0.05}, \"xaxis\": {\"automargin\": true, \"gridcolor\": \"white\", \"linecolor\": \"white\", \"ticks\": \"\", \"title\": {\"standoff\": 15}, \"zerolinecolor\": \"white\", \"zerolinewidth\": 2}, \"yaxis\": {\"automargin\": true, \"gridcolor\": \"white\", \"linecolor\": \"white\", \"ticks\": \"\", \"title\": {\"standoff\": 15}, \"zerolinecolor\": \"white\", \"zerolinewidth\": 2}}}, \"title\": {\"font\": {\"color\": \"#4D5663\"}}, \"xaxis\": {\"gridcolor\": \"#E1E5ED\", \"showgrid\": true, \"tickfont\": {\"color\": \"#4D5663\"}, \"title\": {\"font\": {\"color\": \"#4D5663\"}, \"text\": \"\"}, \"zerolinecolor\": \"#E1E5ED\"}, \"yaxis\": {\"gridcolor\": \"#E1E5ED\", \"showgrid\": true, \"tickfont\": {\"color\": \"#4D5663\"}, \"title\": {\"font\": {\"color\": \"#4D5663\"}, \"text\": \"\"}, \"zerolinecolor\": \"#E1E5ED\"}},                        {\"showLink\": true, \"linkText\": \"Export to plot.ly\", \"plotlyServerURL\": \"https://plot.ly\", \"responsive\": true}                    ).then(function(){\n                            \nvar gd = document.getElementById('2779c100-b34b-444a-a6e2-7f8ab2d046fa');\nvar x = new MutationObserver(function (mutations, observer) {{\n        var display = window.getComputedStyle(gd).display;\n        if (!display || display === 'none') {{\n            console.log([gd, 'removed!']);\n            Plotly.purge(gd);\n            observer.disconnect();\n        }}\n}});\n\n// Listen for the removal of the full notebook cells\nvar notebookContainer = gd.closest('#notebook-container');\nif (notebookContainer) {{\n    x.observe(notebookContainer, {childList: true});\n}}\n\n// Listen for the clearing of the current output cell\nvar outputEl = gd.closest('.output');\nif (outputEl) {{\n    x.observe(outputEl, {childList: true});\n}}\n\n                        })                };                });            </script>        </div>"
     },
     "metadata": {}
    }
   ],
   "source": [
    "df.iplot(kind='bubble', x='A', y='B', size='C')"
   ]
  },
  {
   "source": [
    "## scatter_matrix()\n",
    "\n",
    "Similar to sns.pairplot()"
   ],
   "cell_type": "markdown",
   "metadata": {}
  },
  {
   "cell_type": "code",
   "execution_count": 18,
   "metadata": {},
   "outputs": [
    {
     "output_type": "display_data",
     "data": {
      "application/vnd.plotly.v1+json": {
       "config": {
        "linkText": "Export to plot.ly",
        "plotlyServerURL": "https://plot.ly",
        "showLink": true
       },
       "data": [
        {
         "histfunc": "count",
         "histnorm": "",
         "marker": {
          "color": "rgba(255, 153, 51, 1.0)",
          "line": {
           "color": "#4D5663",
           "width": 1.3
          }
         },
         "name": "A",
         "nbinsx": 10,
         "opacity": 0.8,
         "orientation": "v",
         "type": "histogram",
         "x": [
          -3.1903388189260506,
          0.23396036411163004,
          1.1589655786036386,
          -0.48300006152562525,
          -1.5103337587243804,
          -0.5044248859027471,
          1.182281645215199,
          0.42006775240638894,
          -0.8810298974091847,
          0.5039382873693414,
          -0.731266004129346,
          0.0638361921822204,
          -1.0652754263641049,
          -0.9041076466885405,
          -0.9048795324169541,
          -0.7972587761240022,
          -0.3675670471291356,
          0.28082146701438343,
          -0.08633039339250868,
          0.040217153150704704,
          -0.6690624158655928,
          1.2627520886852726,
          0.8930334427555254,
          -0.5720828983632429,
          -0.10829789239054843,
          0.40614750365984825,
          -1.103865178801149,
          -0.8121010383177608,
          0.10072184675344648,
          -0.5769169489648015,
          -1.064607754248978,
          0.2803088090050602,
          0.27784983531770807,
          -0.41074940453263725,
          0.5858394974501357,
          -1.1873780187790168,
          -1.3497579113052596,
          1.255295743570665,
          -0.6927268600950082,
          -0.36127203424382964,
          -0.34463610823926666,
          -1.2009964413381025,
          1.3923569898979733,
          0.7787889527113488,
          1.8663933162193367,
          -0.7896518608815303,
          0.8604392983684553,
          0.5735613938299836,
          -1.2802106717549009,
          0.44164511860901834,
          -1.1744289444226033,
          -0.0000060149059195747345,
          -0.6467481917357054,
          1.2327214192099953,
          -0.28623017443738186,
          -1.7412710235687312,
          -0.9758958392945769,
          1.600310178717572,
          -0.6658748622479977,
          0.36105544712213045,
          1.2539490446516994,
          1.0583809422068344,
          -0.597617455493197,
          -0.45722923476382665,
          -1.2684784915115794,
          -0.9644190323469388,
          -0.8772580574236023,
          0.085838476310741,
          0.48674958148652886,
          0.9676561629391955,
          -2.13767913287318,
          -2.955837736363831,
          -1.7764340900302908,
          1.272615789302066,
          -0.37425080144249273,
          1.026973987239565,
          2.100477946764772,
          -0.9807225547579596,
          -0.7533250886156038,
          -0.03650463249437804,
          0.3529513644456242,
          -1.3607833800573281,
          -1.7417396477441502,
          -1.2994294895974514,
          0.32077583616185623,
          -0.4244455156618559,
          0.8905320772769698,
          -1.3186547947430771,
          0.12166001368478756,
          -1.2191124444406027,
          0.24654677954656246,
          -0.2623982371892286,
          0.2624213780227509,
          0.09375602776369371,
          -0.8396352448027719,
          -0.5553431002419489,
          -0.06731001731720351,
          -0.49821737363514945,
          2.474916165429662,
          -1.6424571327832522
         ],
         "xaxis": "x",
         "yaxis": "y"
        },
        {
         "line": {
          "color": "rgba(128, 128, 128, 1.0)",
          "dash": "solid",
          "shape": "linear",
          "width": 1.3
         },
         "marker": {
          "size": 2,
          "symbol": "circle"
         },
         "mode": "markers",
         "name": "A",
         "text": "",
         "type": "scatter",
         "x": [
          -0.3643496606765255,
          0.026742083793018775,
          0.3584549394564874,
          -0.15087399036258875,
          0.7692264311391451,
          -0.9607394936456178,
          1.099364393084451,
          2.0413594007607077,
          -0.9589429120315346,
          -1.0151262656536937,
          -2.7705342521888636,
          0.04519916765724038,
          -1.0324039775286689,
          0.21166535206455778,
          0.9519171224472974,
          -0.8073326446901398,
          -0.11985422234986415,
          -0.1234321641152109,
          0.9187427563080505,
          -1.5763765046502152,
          0.48951503176455424,
          -0.278969609256558,
          -0.3648383818684051,
          -0.007140551384771878,
          0.824952324575092,
          1.012484922632672,
          0.5845377044183931,
          -1.2711783578576223,
          -0.36902106237264026,
          0.012682393985313328,
          0.3374744579584474,
          1.0374153302021154,
          0.8674581281533991,
          0.49520661962696927,
          -0.2181122070140142,
          -0.4198441589123327,
          -0.22085215002039907,
          -0.14099689419147918,
          -0.9772412761380672,
          -0.9091883734093862,
          -1.5686850852517986,
          0.12633424708785124,
          0.4249983112725074,
          -0.15071571160517683,
          -0.8190528021055005,
          -0.5843142509340462,
          1.009127911825222,
          -0.2532746339494671,
          0.8382486387582775,
          0.2987780822239634,
          -0.42940441705743443,
          0.12942894672747557,
          -0.3784668801032414,
          -0.36623302074540903,
          1.9636781681839237,
          -0.694293703929343,
          0.18243687176223544,
          0.44970065303344275,
          -0.5585085694844554,
          0.5781469849286903,
          -1.478679342255676,
          -2.2017812855469296,
          -0.22766449165792724,
          -0.9850956709230758,
          0.06535721379319329,
          1.6247637881367891,
          0.9388172664094236,
          0.5604816763327075,
          0.2297458405763916,
          0.5705488391936526,
          -0.5429901589467797,
          -1.4375484759630257,
          1.149625790934575,
          -1.8706089909902677,
          0.6574935076546705,
          0.3922469509849665,
          -0.3283399439671376,
          -0.7082986794613881,
          -1.3012155638305742,
          -0.47344112138941563,
          0.025524978856013302,
          -0.6078471413136215,
          0.6221060033789865,
          -0.8425812105486945,
          -1.9731018326838081,
          -2.085182182082291,
          0.7211728722787665,
          1.5764475887837608,
          0.17856892843054062,
          0.09394500672765961,
          -0.838783815812583,
          -2.0640038711962796,
          0.07541148221711562,
          0.011988483697282544,
          1.156875251344672,
          -0.32642331073805275,
          -1.0002773938460705,
          -0.409558017985458,
          -1.6432367398217418,
          -1.458768728092791
         ],
         "xaxis": "x2",
         "y": [
          -3.1903388189260506,
          0.23396036411163004,
          1.1589655786036386,
          -0.48300006152562525,
          -1.5103337587243804,
          -0.5044248859027471,
          1.182281645215199,
          0.42006775240638894,
          -0.8810298974091847,
          0.5039382873693414,
          -0.731266004129346,
          0.0638361921822204,
          -1.0652754263641049,
          -0.9041076466885405,
          -0.9048795324169541,
          -0.7972587761240022,
          -0.3675670471291356,
          0.28082146701438343,
          -0.08633039339250868,
          0.040217153150704704,
          -0.6690624158655928,
          1.2627520886852726,
          0.8930334427555254,
          -0.5720828983632429,
          -0.10829789239054843,
          0.40614750365984825,
          -1.103865178801149,
          -0.8121010383177608,
          0.10072184675344648,
          -0.5769169489648015,
          -1.064607754248978,
          0.2803088090050602,
          0.27784983531770807,
          -0.41074940453263725,
          0.5858394974501357,
          -1.1873780187790168,
          -1.3497579113052596,
          1.255295743570665,
          -0.6927268600950082,
          -0.36127203424382964,
          -0.34463610823926666,
          -1.2009964413381025,
          1.3923569898979733,
          0.7787889527113488,
          1.8663933162193367,
          -0.7896518608815303,
          0.8604392983684553,
          0.5735613938299836,
          -1.2802106717549009,
          0.44164511860901834,
          -1.1744289444226033,
          -0.0000060149059195747345,
          -0.6467481917357054,
          1.2327214192099953,
          -0.28623017443738186,
          -1.7412710235687312,
          -0.9758958392945769,
          1.600310178717572,
          -0.6658748622479977,
          0.36105544712213045,
          1.2539490446516994,
          1.0583809422068344,
          -0.597617455493197,
          -0.45722923476382665,
          -1.2684784915115794,
          -0.9644190323469388,
          -0.8772580574236023,
          0.085838476310741,
          0.48674958148652886,
          0.9676561629391955,
          -2.13767913287318,
          -2.955837736363831,
          -1.7764340900302908,
          1.272615789302066,
          -0.37425080144249273,
          1.026973987239565,
          2.100477946764772,
          -0.9807225547579596,
          -0.7533250886156038,
          -0.03650463249437804,
          0.3529513644456242,
          -1.3607833800573281,
          -1.7417396477441502,
          -1.2994294895974514,
          0.32077583616185623,
          -0.4244455156618559,
          0.8905320772769698,
          -1.3186547947430771,
          0.12166001368478756,
          -1.2191124444406027,
          0.24654677954656246,
          -0.2623982371892286,
          0.2624213780227509,
          0.09375602776369371,
          -0.8396352448027719,
          -0.5553431002419489,
          -0.06731001731720351,
          -0.49821737363514945,
          2.474916165429662,
          -1.6424571327832522
         ],
         "yaxis": "y2"
        },
        {
         "line": {
          "color": "rgba(128, 128, 128, 1.0)",
          "dash": "solid",
          "shape": "linear",
          "width": 1.3
         },
         "marker": {
          "size": 2,
          "symbol": "circle"
         },
         "mode": "markers",
         "name": "A",
         "text": "",
         "type": "scatter",
         "x": [
          -1.1186463499542998,
          1.2677912975381758,
          0.36076316284766746,
          -0.594562609277583,
          -0.4685633922208175,
          -0.7414270275053735,
          -1.2620028022058527,
          -0.2633575322313773,
          -0.13705740516672574,
          -0.6779505642675806,
          -0.2026716055278497,
          1.6258578058108586,
          0.24708350229743825,
          0.6924231043760657,
          -1.5136756150318582,
          0.18387379001212456,
          -1.0758932407544046,
          -1.1277833413495375,
          -0.09007994172368866,
          1.7438241639662895,
          0.17877381008658313,
          0.21997679671829612,
          0.43375237351717855,
          -0.57839905502642,
          0.34209577444414135,
          -0.26366532914873114,
          1.0700940451035175,
          -0.9512143375191747,
          -0.6850989671874386,
          0.21183117412430214,
          -0.4104742967296816,
          -1.0890895555885556,
          0.36987011373475775,
          -1.0232701308222056,
          0.044981104707034446,
          -0.0824754843912133,
          2.092860328910299,
          2.8344786758836196,
          0.260552308604172,
          -0.2458360898438423,
          -1.2257665509409992,
          -1.1316510511315512,
          0.32548178557719026,
          0.6763374540496877,
          0.6183684289996768,
          0.22458715291167278,
          -0.10773707471439793,
          0.14631716285290056,
          -0.25856157950527603,
          0.3949298005054963,
          0.014701924255192494,
          0.04254310141261005,
          -0.3038555542985175,
          1.3746376476163982,
          -1.0525689185942786,
          1.8677556254708725,
          -0.9544443715719576,
          0.6250657420707972,
          -0.6597264515616512,
          1.2000128640230874,
          -1.921474505487477,
          0.10359809264203092,
          0.14030400767650186,
          -0.24415105688321234,
          0.09908985392907203,
          0.11762629422038864,
          -0.40161956844729146,
          -0.32560451956022274,
          -0.2742954646454567,
          0.7033588244428957,
          1.044708085637379,
          1.3432802304882736,
          -0.48809055516302796,
          -0.40759577124501833,
          -0.23367711063773317,
          1.0357161154696715,
          -2.035454205328424,
          -0.3275881726844608,
          -0.5365535854449085,
          0.5715003149914503,
          0.7005392956847408,
          -0.6098133766978422,
          0.13932592576040911,
          -0.7696519088160988,
          -0.756068093698991,
          -2.6222547596454278,
          -0.47657293861878464,
          1.1639948628729075,
          -1.4642275879391387,
          -0.38596602153173,
          -0.5421683648952816,
          0.10309907483896115,
          0.2639944083236471,
          0.09410435510004495,
          -0.6567099939622915,
          -0.2203570095662532,
          -1.881779224440967,
          0.41613232309439224,
          0.7655415853330867,
          -1.4245542342590862
         ],
         "xaxis": "x3",
         "y": [
          -3.1903388189260506,
          0.23396036411163004,
          1.1589655786036386,
          -0.48300006152562525,
          -1.5103337587243804,
          -0.5044248859027471,
          1.182281645215199,
          0.42006775240638894,
          -0.8810298974091847,
          0.5039382873693414,
          -0.731266004129346,
          0.0638361921822204,
          -1.0652754263641049,
          -0.9041076466885405,
          -0.9048795324169541,
          -0.7972587761240022,
          -0.3675670471291356,
          0.28082146701438343,
          -0.08633039339250868,
          0.040217153150704704,
          -0.6690624158655928,
          1.2627520886852726,
          0.8930334427555254,
          -0.5720828983632429,
          -0.10829789239054843,
          0.40614750365984825,
          -1.103865178801149,
          -0.8121010383177608,
          0.10072184675344648,
          -0.5769169489648015,
          -1.064607754248978,
          0.2803088090050602,
          0.27784983531770807,
          -0.41074940453263725,
          0.5858394974501357,
          -1.1873780187790168,
          -1.3497579113052596,
          1.255295743570665,
          -0.6927268600950082,
          -0.36127203424382964,
          -0.34463610823926666,
          -1.2009964413381025,
          1.3923569898979733,
          0.7787889527113488,
          1.8663933162193367,
          -0.7896518608815303,
          0.8604392983684553,
          0.5735613938299836,
          -1.2802106717549009,
          0.44164511860901834,
          -1.1744289444226033,
          -0.0000060149059195747345,
          -0.6467481917357054,
          1.2327214192099953,
          -0.28623017443738186,
          -1.7412710235687312,
          -0.9758958392945769,
          1.600310178717572,
          -0.6658748622479977,
          0.36105544712213045,
          1.2539490446516994,
          1.0583809422068344,
          -0.597617455493197,
          -0.45722923476382665,
          -1.2684784915115794,
          -0.9644190323469388,
          -0.8772580574236023,
          0.085838476310741,
          0.48674958148652886,
          0.9676561629391955,
          -2.13767913287318,
          -2.955837736363831,
          -1.7764340900302908,
          1.272615789302066,
          -0.37425080144249273,
          1.026973987239565,
          2.100477946764772,
          -0.9807225547579596,
          -0.7533250886156038,
          -0.03650463249437804,
          0.3529513644456242,
          -1.3607833800573281,
          -1.7417396477441502,
          -1.2994294895974514,
          0.32077583616185623,
          -0.4244455156618559,
          0.8905320772769698,
          -1.3186547947430771,
          0.12166001368478756,
          -1.2191124444406027,
          0.24654677954656246,
          -0.2623982371892286,
          0.2624213780227509,
          0.09375602776369371,
          -0.8396352448027719,
          -0.5553431002419489,
          -0.06731001731720351,
          -0.49821737363514945,
          2.474916165429662,
          -1.6424571327832522
         ],
         "yaxis": "y3"
        },
        {
         "line": {
          "color": "rgba(128, 128, 128, 1.0)",
          "dash": "solid",
          "shape": "linear",
          "width": 1.3
         },
         "marker": {
          "size": 2,
          "symbol": "circle"
         },
         "mode": "markers",
         "name": "A",
         "text": "",
         "type": "scatter",
         "x": [
          -0.6489732176465235,
          -0.41469620685869946,
          -0.7371821797185605,
          -0.9768777099594689,
          -0.22711856500745847,
          2.54026166785655,
          0.15537859565815373,
          -0.9775530087225272,
          2.1618950609150063,
          -1.62519664198678,
          0.21236468315567575,
          1.3459918522282894,
          0.08370362006998518,
          0.7394987862241378,
          0.6539134662590035,
          -0.7086034819362234,
          1.6417074272652397,
          0.8369405076533828,
          -0.1704799982098994,
          -0.6549938398194295,
          -0.5483941513527122,
          -1.0447976323516879,
          -0.8018209373504784,
          0.9465864367131726,
          0.6825721074052299,
          0.7887445296778326,
          -0.07546641130273239,
          0.9536526696779729,
          0.4438010796827428,
          -2.2370489036955785,
          -0.6698273819555984,
          0.20635471129522778,
          2.6020926738257306,
          1.0709247935134785,
          0.32384649714279573,
          0.09885999146630725,
          -2.619846279753586,
          -0.46368625253882917,
          1.8712323092911936,
          0.05486969328773147,
          -1.1935146053370786,
          -0.16610251307721524,
          0.6384990529938278,
          1.4038901310185594,
          -0.27245345648714625,
          0.6216184998596498,
          -1.2889792680352745,
          0.3087510888991206,
          0.7360554150652998,
          -0.5165922648054353,
          1.3395981597477955,
          -0.5252602248023504,
          0.6099177946814479,
          -1.0996073656442549,
          2.8542098952108206,
          -0.8285294637490741,
          -0.11911381103015203,
          -1.2557955685428008,
          0.20494733090020398,
          1.447145307689846,
          -0.10189582644921229,
          -2.340645851858345,
          0.905048221674501,
          -3.2847949833595678,
          1.1954851366552612,
          -0.5849358200331003,
          0.30759900650876176,
          -1.4237600566252469,
          1.156013455755697,
          -1.4013371187352321,
          -1.1940724679311008,
          0.6717037121348988,
          0.29877179423852096,
          0.0735572848097489,
          -0.9995298211801902,
          -0.7382077941967837,
          -0.8081365209550897,
          0.2597666777870895,
          0.7055084707601808,
          -2.0317763614359197,
          1.0858361132082317,
          0.2245567699104668,
          0.19531027958986188,
          1.7143659929154766,
          -0.07210747828589123,
          0.6727003522455439,
          -0.10537352910610093,
          1.4134671690171892,
          0.6044508884083378,
          1.0463998481695964,
          0.04921068006225297,
          -0.5367797534585702,
          -0.4983033200797242,
          1.6722949355998922,
          0.5433310212695938,
          -0.31371004745330844,
          0.6080594834764896,
          0.05958357598335059,
          -0.9994953363575223,
          0.3057815249245013
         ],
         "xaxis": "x4",
         "y": [
          -3.1903388189260506,
          0.23396036411163004,
          1.1589655786036386,
          -0.48300006152562525,
          -1.5103337587243804,
          -0.5044248859027471,
          1.182281645215199,
          0.42006775240638894,
          -0.8810298974091847,
          0.5039382873693414,
          -0.731266004129346,
          0.0638361921822204,
          -1.0652754263641049,
          -0.9041076466885405,
          -0.9048795324169541,
          -0.7972587761240022,
          -0.3675670471291356,
          0.28082146701438343,
          -0.08633039339250868,
          0.040217153150704704,
          -0.6690624158655928,
          1.2627520886852726,
          0.8930334427555254,
          -0.5720828983632429,
          -0.10829789239054843,
          0.40614750365984825,
          -1.103865178801149,
          -0.8121010383177608,
          0.10072184675344648,
          -0.5769169489648015,
          -1.064607754248978,
          0.2803088090050602,
          0.27784983531770807,
          -0.41074940453263725,
          0.5858394974501357,
          -1.1873780187790168,
          -1.3497579113052596,
          1.255295743570665,
          -0.6927268600950082,
          -0.36127203424382964,
          -0.34463610823926666,
          -1.2009964413381025,
          1.3923569898979733,
          0.7787889527113488,
          1.8663933162193367,
          -0.7896518608815303,
          0.8604392983684553,
          0.5735613938299836,
          -1.2802106717549009,
          0.44164511860901834,
          -1.1744289444226033,
          -0.0000060149059195747345,
          -0.6467481917357054,
          1.2327214192099953,
          -0.28623017443738186,
          -1.7412710235687312,
          -0.9758958392945769,
          1.600310178717572,
          -0.6658748622479977,
          0.36105544712213045,
          1.2539490446516994,
          1.0583809422068344,
          -0.597617455493197,
          -0.45722923476382665,
          -1.2684784915115794,
          -0.9644190323469388,
          -0.8772580574236023,
          0.085838476310741,
          0.48674958148652886,
          0.9676561629391955,
          -2.13767913287318,
          -2.955837736363831,
          -1.7764340900302908,
          1.272615789302066,
          -0.37425080144249273,
          1.026973987239565,
          2.100477946764772,
          -0.9807225547579596,
          -0.7533250886156038,
          -0.03650463249437804,
          0.3529513644456242,
          -1.3607833800573281,
          -1.7417396477441502,
          -1.2994294895974514,
          0.32077583616185623,
          -0.4244455156618559,
          0.8905320772769698,
          -1.3186547947430771,
          0.12166001368478756,
          -1.2191124444406027,
          0.24654677954656246,
          -0.2623982371892286,
          0.2624213780227509,
          0.09375602776369371,
          -0.8396352448027719,
          -0.5553431002419489,
          -0.06731001731720351,
          -0.49821737363514945,
          2.474916165429662,
          -1.6424571327832522
         ],
         "yaxis": "y4"
        },
        {
         "line": {
          "color": "rgba(128, 128, 128, 1.0)",
          "dash": "solid",
          "shape": "linear",
          "width": 1.3
         },
         "marker": {
          "size": 2,
          "symbol": "circle"
         },
         "mode": "markers",
         "name": "B",
         "text": "",
         "type": "scatter",
         "x": [
          -3.1903388189260506,
          0.23396036411163004,
          1.1589655786036386,
          -0.48300006152562525,
          -1.5103337587243804,
          -0.5044248859027471,
          1.182281645215199,
          0.42006775240638894,
          -0.8810298974091847,
          0.5039382873693414,
          -0.731266004129346,
          0.0638361921822204,
          -1.0652754263641049,
          -0.9041076466885405,
          -0.9048795324169541,
          -0.7972587761240022,
          -0.3675670471291356,
          0.28082146701438343,
          -0.08633039339250868,
          0.040217153150704704,
          -0.6690624158655928,
          1.2627520886852726,
          0.8930334427555254,
          -0.5720828983632429,
          -0.10829789239054843,
          0.40614750365984825,
          -1.103865178801149,
          -0.8121010383177608,
          0.10072184675344648,
          -0.5769169489648015,
          -1.064607754248978,
          0.2803088090050602,
          0.27784983531770807,
          -0.41074940453263725,
          0.5858394974501357,
          -1.1873780187790168,
          -1.3497579113052596,
          1.255295743570665,
          -0.6927268600950082,
          -0.36127203424382964,
          -0.34463610823926666,
          -1.2009964413381025,
          1.3923569898979733,
          0.7787889527113488,
          1.8663933162193367,
          -0.7896518608815303,
          0.8604392983684553,
          0.5735613938299836,
          -1.2802106717549009,
          0.44164511860901834,
          -1.1744289444226033,
          -0.0000060149059195747345,
          -0.6467481917357054,
          1.2327214192099953,
          -0.28623017443738186,
          -1.7412710235687312,
          -0.9758958392945769,
          1.600310178717572,
          -0.6658748622479977,
          0.36105544712213045,
          1.2539490446516994,
          1.0583809422068344,
          -0.597617455493197,
          -0.45722923476382665,
          -1.2684784915115794,
          -0.9644190323469388,
          -0.8772580574236023,
          0.085838476310741,
          0.48674958148652886,
          0.9676561629391955,
          -2.13767913287318,
          -2.955837736363831,
          -1.7764340900302908,
          1.272615789302066,
          -0.37425080144249273,
          1.026973987239565,
          2.100477946764772,
          -0.9807225547579596,
          -0.7533250886156038,
          -0.03650463249437804,
          0.3529513644456242,
          -1.3607833800573281,
          -1.7417396477441502,
          -1.2994294895974514,
          0.32077583616185623,
          -0.4244455156618559,
          0.8905320772769698,
          -1.3186547947430771,
          0.12166001368478756,
          -1.2191124444406027,
          0.24654677954656246,
          -0.2623982371892286,
          0.2624213780227509,
          0.09375602776369371,
          -0.8396352448027719,
          -0.5553431002419489,
          -0.06731001731720351,
          -0.49821737363514945,
          2.474916165429662,
          -1.6424571327832522
         ],
         "xaxis": "x5",
         "y": [
          -0.3643496606765255,
          0.026742083793018775,
          0.3584549394564874,
          -0.15087399036258875,
          0.7692264311391451,
          -0.9607394936456178,
          1.099364393084451,
          2.0413594007607077,
          -0.9589429120315346,
          -1.0151262656536937,
          -2.7705342521888636,
          0.04519916765724038,
          -1.0324039775286689,
          0.21166535206455778,
          0.9519171224472974,
          -0.8073326446901398,
          -0.11985422234986415,
          -0.1234321641152109,
          0.9187427563080505,
          -1.5763765046502152,
          0.48951503176455424,
          -0.278969609256558,
          -0.3648383818684051,
          -0.007140551384771878,
          0.824952324575092,
          1.012484922632672,
          0.5845377044183931,
          -1.2711783578576223,
          -0.36902106237264026,
          0.012682393985313328,
          0.3374744579584474,
          1.0374153302021154,
          0.8674581281533991,
          0.49520661962696927,
          -0.2181122070140142,
          -0.4198441589123327,
          -0.22085215002039907,
          -0.14099689419147918,
          -0.9772412761380672,
          -0.9091883734093862,
          -1.5686850852517986,
          0.12633424708785124,
          0.4249983112725074,
          -0.15071571160517683,
          -0.8190528021055005,
          -0.5843142509340462,
          1.009127911825222,
          -0.2532746339494671,
          0.8382486387582775,
          0.2987780822239634,
          -0.42940441705743443,
          0.12942894672747557,
          -0.3784668801032414,
          -0.36623302074540903,
          1.9636781681839237,
          -0.694293703929343,
          0.18243687176223544,
          0.44970065303344275,
          -0.5585085694844554,
          0.5781469849286903,
          -1.478679342255676,
          -2.2017812855469296,
          -0.22766449165792724,
          -0.9850956709230758,
          0.06535721379319329,
          1.6247637881367891,
          0.9388172664094236,
          0.5604816763327075,
          0.2297458405763916,
          0.5705488391936526,
          -0.5429901589467797,
          -1.4375484759630257,
          1.149625790934575,
          -1.8706089909902677,
          0.6574935076546705,
          0.3922469509849665,
          -0.3283399439671376,
          -0.7082986794613881,
          -1.3012155638305742,
          -0.47344112138941563,
          0.025524978856013302,
          -0.6078471413136215,
          0.6221060033789865,
          -0.8425812105486945,
          -1.9731018326838081,
          -2.085182182082291,
          0.7211728722787665,
          1.5764475887837608,
          0.17856892843054062,
          0.09394500672765961,
          -0.838783815812583,
          -2.0640038711962796,
          0.07541148221711562,
          0.011988483697282544,
          1.156875251344672,
          -0.32642331073805275,
          -1.0002773938460705,
          -0.409558017985458,
          -1.6432367398217418,
          -1.458768728092791
         ],
         "yaxis": "y5"
        },
        {
         "histfunc": "count",
         "histnorm": "",
         "marker": {
          "color": "rgba(55, 128, 191, 1.0)",
          "line": {
           "color": "#4D5663",
           "width": 1.3
          }
         },
         "name": "B",
         "nbinsx": 10,
         "opacity": 0.8,
         "orientation": "v",
         "type": "histogram",
         "x": [
          -0.3643496606765255,
          0.026742083793018775,
          0.3584549394564874,
          -0.15087399036258875,
          0.7692264311391451,
          -0.9607394936456178,
          1.099364393084451,
          2.0413594007607077,
          -0.9589429120315346,
          -1.0151262656536937,
          -2.7705342521888636,
          0.04519916765724038,
          -1.0324039775286689,
          0.21166535206455778,
          0.9519171224472974,
          -0.8073326446901398,
          -0.11985422234986415,
          -0.1234321641152109,
          0.9187427563080505,
          -1.5763765046502152,
          0.48951503176455424,
          -0.278969609256558,
          -0.3648383818684051,
          -0.007140551384771878,
          0.824952324575092,
          1.012484922632672,
          0.5845377044183931,
          -1.2711783578576223,
          -0.36902106237264026,
          0.012682393985313328,
          0.3374744579584474,
          1.0374153302021154,
          0.8674581281533991,
          0.49520661962696927,
          -0.2181122070140142,
          -0.4198441589123327,
          -0.22085215002039907,
          -0.14099689419147918,
          -0.9772412761380672,
          -0.9091883734093862,
          -1.5686850852517986,
          0.12633424708785124,
          0.4249983112725074,
          -0.15071571160517683,
          -0.8190528021055005,
          -0.5843142509340462,
          1.009127911825222,
          -0.2532746339494671,
          0.8382486387582775,
          0.2987780822239634,
          -0.42940441705743443,
          0.12942894672747557,
          -0.3784668801032414,
          -0.36623302074540903,
          1.9636781681839237,
          -0.694293703929343,
          0.18243687176223544,
          0.44970065303344275,
          -0.5585085694844554,
          0.5781469849286903,
          -1.478679342255676,
          -2.2017812855469296,
          -0.22766449165792724,
          -0.9850956709230758,
          0.06535721379319329,
          1.6247637881367891,
          0.9388172664094236,
          0.5604816763327075,
          0.2297458405763916,
          0.5705488391936526,
          -0.5429901589467797,
          -1.4375484759630257,
          1.149625790934575,
          -1.8706089909902677,
          0.6574935076546705,
          0.3922469509849665,
          -0.3283399439671376,
          -0.7082986794613881,
          -1.3012155638305742,
          -0.47344112138941563,
          0.025524978856013302,
          -0.6078471413136215,
          0.6221060033789865,
          -0.8425812105486945,
          -1.9731018326838081,
          -2.085182182082291,
          0.7211728722787665,
          1.5764475887837608,
          0.17856892843054062,
          0.09394500672765961,
          -0.838783815812583,
          -2.0640038711962796,
          0.07541148221711562,
          0.011988483697282544,
          1.156875251344672,
          -0.32642331073805275,
          -1.0002773938460705,
          -0.409558017985458,
          -1.6432367398217418,
          -1.458768728092791
         ],
         "xaxis": "x6",
         "yaxis": "y6"
        },
        {
         "line": {
          "color": "rgba(128, 128, 128, 1.0)",
          "dash": "solid",
          "shape": "linear",
          "width": 1.3
         },
         "marker": {
          "size": 2,
          "symbol": "circle"
         },
         "mode": "markers",
         "name": "B",
         "text": "",
         "type": "scatter",
         "x": [
          -1.1186463499542998,
          1.2677912975381758,
          0.36076316284766746,
          -0.594562609277583,
          -0.4685633922208175,
          -0.7414270275053735,
          -1.2620028022058527,
          -0.2633575322313773,
          -0.13705740516672574,
          -0.6779505642675806,
          -0.2026716055278497,
          1.6258578058108586,
          0.24708350229743825,
          0.6924231043760657,
          -1.5136756150318582,
          0.18387379001212456,
          -1.0758932407544046,
          -1.1277833413495375,
          -0.09007994172368866,
          1.7438241639662895,
          0.17877381008658313,
          0.21997679671829612,
          0.43375237351717855,
          -0.57839905502642,
          0.34209577444414135,
          -0.26366532914873114,
          1.0700940451035175,
          -0.9512143375191747,
          -0.6850989671874386,
          0.21183117412430214,
          -0.4104742967296816,
          -1.0890895555885556,
          0.36987011373475775,
          -1.0232701308222056,
          0.044981104707034446,
          -0.0824754843912133,
          2.092860328910299,
          2.8344786758836196,
          0.260552308604172,
          -0.2458360898438423,
          -1.2257665509409992,
          -1.1316510511315512,
          0.32548178557719026,
          0.6763374540496877,
          0.6183684289996768,
          0.22458715291167278,
          -0.10773707471439793,
          0.14631716285290056,
          -0.25856157950527603,
          0.3949298005054963,
          0.014701924255192494,
          0.04254310141261005,
          -0.3038555542985175,
          1.3746376476163982,
          -1.0525689185942786,
          1.8677556254708725,
          -0.9544443715719576,
          0.6250657420707972,
          -0.6597264515616512,
          1.2000128640230874,
          -1.921474505487477,
          0.10359809264203092,
          0.14030400767650186,
          -0.24415105688321234,
          0.09908985392907203,
          0.11762629422038864,
          -0.40161956844729146,
          -0.32560451956022274,
          -0.2742954646454567,
          0.7033588244428957,
          1.044708085637379,
          1.3432802304882736,
          -0.48809055516302796,
          -0.40759577124501833,
          -0.23367711063773317,
          1.0357161154696715,
          -2.035454205328424,
          -0.3275881726844608,
          -0.5365535854449085,
          0.5715003149914503,
          0.7005392956847408,
          -0.6098133766978422,
          0.13932592576040911,
          -0.7696519088160988,
          -0.756068093698991,
          -2.6222547596454278,
          -0.47657293861878464,
          1.1639948628729075,
          -1.4642275879391387,
          -0.38596602153173,
          -0.5421683648952816,
          0.10309907483896115,
          0.2639944083236471,
          0.09410435510004495,
          -0.6567099939622915,
          -0.2203570095662532,
          -1.881779224440967,
          0.41613232309439224,
          0.7655415853330867,
          -1.4245542342590862
         ],
         "xaxis": "x7",
         "y": [
          -0.3643496606765255,
          0.026742083793018775,
          0.3584549394564874,
          -0.15087399036258875,
          0.7692264311391451,
          -0.9607394936456178,
          1.099364393084451,
          2.0413594007607077,
          -0.9589429120315346,
          -1.0151262656536937,
          -2.7705342521888636,
          0.04519916765724038,
          -1.0324039775286689,
          0.21166535206455778,
          0.9519171224472974,
          -0.8073326446901398,
          -0.11985422234986415,
          -0.1234321641152109,
          0.9187427563080505,
          -1.5763765046502152,
          0.48951503176455424,
          -0.278969609256558,
          -0.3648383818684051,
          -0.007140551384771878,
          0.824952324575092,
          1.012484922632672,
          0.5845377044183931,
          -1.2711783578576223,
          -0.36902106237264026,
          0.012682393985313328,
          0.3374744579584474,
          1.0374153302021154,
          0.8674581281533991,
          0.49520661962696927,
          -0.2181122070140142,
          -0.4198441589123327,
          -0.22085215002039907,
          -0.14099689419147918,
          -0.9772412761380672,
          -0.9091883734093862,
          -1.5686850852517986,
          0.12633424708785124,
          0.4249983112725074,
          -0.15071571160517683,
          -0.8190528021055005,
          -0.5843142509340462,
          1.009127911825222,
          -0.2532746339494671,
          0.8382486387582775,
          0.2987780822239634,
          -0.42940441705743443,
          0.12942894672747557,
          -0.3784668801032414,
          -0.36623302074540903,
          1.9636781681839237,
          -0.694293703929343,
          0.18243687176223544,
          0.44970065303344275,
          -0.5585085694844554,
          0.5781469849286903,
          -1.478679342255676,
          -2.2017812855469296,
          -0.22766449165792724,
          -0.9850956709230758,
          0.06535721379319329,
          1.6247637881367891,
          0.9388172664094236,
          0.5604816763327075,
          0.2297458405763916,
          0.5705488391936526,
          -0.5429901589467797,
          -1.4375484759630257,
          1.149625790934575,
          -1.8706089909902677,
          0.6574935076546705,
          0.3922469509849665,
          -0.3283399439671376,
          -0.7082986794613881,
          -1.3012155638305742,
          -0.47344112138941563,
          0.025524978856013302,
          -0.6078471413136215,
          0.6221060033789865,
          -0.8425812105486945,
          -1.9731018326838081,
          -2.085182182082291,
          0.7211728722787665,
          1.5764475887837608,
          0.17856892843054062,
          0.09394500672765961,
          -0.838783815812583,
          -2.0640038711962796,
          0.07541148221711562,
          0.011988483697282544,
          1.156875251344672,
          -0.32642331073805275,
          -1.0002773938460705,
          -0.409558017985458,
          -1.6432367398217418,
          -1.458768728092791
         ],
         "yaxis": "y7"
        },
        {
         "line": {
          "color": "rgba(128, 128, 128, 1.0)",
          "dash": "solid",
          "shape": "linear",
          "width": 1.3
         },
         "marker": {
          "size": 2,
          "symbol": "circle"
         },
         "mode": "markers",
         "name": "B",
         "text": "",
         "type": "scatter",
         "x": [
          -0.6489732176465235,
          -0.41469620685869946,
          -0.7371821797185605,
          -0.9768777099594689,
          -0.22711856500745847,
          2.54026166785655,
          0.15537859565815373,
          -0.9775530087225272,
          2.1618950609150063,
          -1.62519664198678,
          0.21236468315567575,
          1.3459918522282894,
          0.08370362006998518,
          0.7394987862241378,
          0.6539134662590035,
          -0.7086034819362234,
          1.6417074272652397,
          0.8369405076533828,
          -0.1704799982098994,
          -0.6549938398194295,
          -0.5483941513527122,
          -1.0447976323516879,
          -0.8018209373504784,
          0.9465864367131726,
          0.6825721074052299,
          0.7887445296778326,
          -0.07546641130273239,
          0.9536526696779729,
          0.4438010796827428,
          -2.2370489036955785,
          -0.6698273819555984,
          0.20635471129522778,
          2.6020926738257306,
          1.0709247935134785,
          0.32384649714279573,
          0.09885999146630725,
          -2.619846279753586,
          -0.46368625253882917,
          1.8712323092911936,
          0.05486969328773147,
          -1.1935146053370786,
          -0.16610251307721524,
          0.6384990529938278,
          1.4038901310185594,
          -0.27245345648714625,
          0.6216184998596498,
          -1.2889792680352745,
          0.3087510888991206,
          0.7360554150652998,
          -0.5165922648054353,
          1.3395981597477955,
          -0.5252602248023504,
          0.6099177946814479,
          -1.0996073656442549,
          2.8542098952108206,
          -0.8285294637490741,
          -0.11911381103015203,
          -1.2557955685428008,
          0.20494733090020398,
          1.447145307689846,
          -0.10189582644921229,
          -2.340645851858345,
          0.905048221674501,
          -3.2847949833595678,
          1.1954851366552612,
          -0.5849358200331003,
          0.30759900650876176,
          -1.4237600566252469,
          1.156013455755697,
          -1.4013371187352321,
          -1.1940724679311008,
          0.6717037121348988,
          0.29877179423852096,
          0.0735572848097489,
          -0.9995298211801902,
          -0.7382077941967837,
          -0.8081365209550897,
          0.2597666777870895,
          0.7055084707601808,
          -2.0317763614359197,
          1.0858361132082317,
          0.2245567699104668,
          0.19531027958986188,
          1.7143659929154766,
          -0.07210747828589123,
          0.6727003522455439,
          -0.10537352910610093,
          1.4134671690171892,
          0.6044508884083378,
          1.0463998481695964,
          0.04921068006225297,
          -0.5367797534585702,
          -0.4983033200797242,
          1.6722949355998922,
          0.5433310212695938,
          -0.31371004745330844,
          0.6080594834764896,
          0.05958357598335059,
          -0.9994953363575223,
          0.3057815249245013
         ],
         "xaxis": "x8",
         "y": [
          -0.3643496606765255,
          0.026742083793018775,
          0.3584549394564874,
          -0.15087399036258875,
          0.7692264311391451,
          -0.9607394936456178,
          1.099364393084451,
          2.0413594007607077,
          -0.9589429120315346,
          -1.0151262656536937,
          -2.7705342521888636,
          0.04519916765724038,
          -1.0324039775286689,
          0.21166535206455778,
          0.9519171224472974,
          -0.8073326446901398,
          -0.11985422234986415,
          -0.1234321641152109,
          0.9187427563080505,
          -1.5763765046502152,
          0.48951503176455424,
          -0.278969609256558,
          -0.3648383818684051,
          -0.007140551384771878,
          0.824952324575092,
          1.012484922632672,
          0.5845377044183931,
          -1.2711783578576223,
          -0.36902106237264026,
          0.012682393985313328,
          0.3374744579584474,
          1.0374153302021154,
          0.8674581281533991,
          0.49520661962696927,
          -0.2181122070140142,
          -0.4198441589123327,
          -0.22085215002039907,
          -0.14099689419147918,
          -0.9772412761380672,
          -0.9091883734093862,
          -1.5686850852517986,
          0.12633424708785124,
          0.4249983112725074,
          -0.15071571160517683,
          -0.8190528021055005,
          -0.5843142509340462,
          1.009127911825222,
          -0.2532746339494671,
          0.8382486387582775,
          0.2987780822239634,
          -0.42940441705743443,
          0.12942894672747557,
          -0.3784668801032414,
          -0.36623302074540903,
          1.9636781681839237,
          -0.694293703929343,
          0.18243687176223544,
          0.44970065303344275,
          -0.5585085694844554,
          0.5781469849286903,
          -1.478679342255676,
          -2.2017812855469296,
          -0.22766449165792724,
          -0.9850956709230758,
          0.06535721379319329,
          1.6247637881367891,
          0.9388172664094236,
          0.5604816763327075,
          0.2297458405763916,
          0.5705488391936526,
          -0.5429901589467797,
          -1.4375484759630257,
          1.149625790934575,
          -1.8706089909902677,
          0.6574935076546705,
          0.3922469509849665,
          -0.3283399439671376,
          -0.7082986794613881,
          -1.3012155638305742,
          -0.47344112138941563,
          0.025524978856013302,
          -0.6078471413136215,
          0.6221060033789865,
          -0.8425812105486945,
          -1.9731018326838081,
          -2.085182182082291,
          0.7211728722787665,
          1.5764475887837608,
          0.17856892843054062,
          0.09394500672765961,
          -0.838783815812583,
          -2.0640038711962796,
          0.07541148221711562,
          0.011988483697282544,
          1.156875251344672,
          -0.32642331073805275,
          -1.0002773938460705,
          -0.409558017985458,
          -1.6432367398217418,
          -1.458768728092791
         ],
         "yaxis": "y8"
        },
        {
         "line": {
          "color": "rgba(128, 128, 128, 1.0)",
          "dash": "solid",
          "shape": "linear",
          "width": 1.3
         },
         "marker": {
          "size": 2,
          "symbol": "circle"
         },
         "mode": "markers",
         "name": "C",
         "text": "",
         "type": "scatter",
         "x": [
          -3.1903388189260506,
          0.23396036411163004,
          1.1589655786036386,
          -0.48300006152562525,
          -1.5103337587243804,
          -0.5044248859027471,
          1.182281645215199,
          0.42006775240638894,
          -0.8810298974091847,
          0.5039382873693414,
          -0.731266004129346,
          0.0638361921822204,
          -1.0652754263641049,
          -0.9041076466885405,
          -0.9048795324169541,
          -0.7972587761240022,
          -0.3675670471291356,
          0.28082146701438343,
          -0.08633039339250868,
          0.040217153150704704,
          -0.6690624158655928,
          1.2627520886852726,
          0.8930334427555254,
          -0.5720828983632429,
          -0.10829789239054843,
          0.40614750365984825,
          -1.103865178801149,
          -0.8121010383177608,
          0.10072184675344648,
          -0.5769169489648015,
          -1.064607754248978,
          0.2803088090050602,
          0.27784983531770807,
          -0.41074940453263725,
          0.5858394974501357,
          -1.1873780187790168,
          -1.3497579113052596,
          1.255295743570665,
          -0.6927268600950082,
          -0.36127203424382964,
          -0.34463610823926666,
          -1.2009964413381025,
          1.3923569898979733,
          0.7787889527113488,
          1.8663933162193367,
          -0.7896518608815303,
          0.8604392983684553,
          0.5735613938299836,
          -1.2802106717549009,
          0.44164511860901834,
          -1.1744289444226033,
          -0.0000060149059195747345,
          -0.6467481917357054,
          1.2327214192099953,
          -0.28623017443738186,
          -1.7412710235687312,
          -0.9758958392945769,
          1.600310178717572,
          -0.6658748622479977,
          0.36105544712213045,
          1.2539490446516994,
          1.0583809422068344,
          -0.597617455493197,
          -0.45722923476382665,
          -1.2684784915115794,
          -0.9644190323469388,
          -0.8772580574236023,
          0.085838476310741,
          0.48674958148652886,
          0.9676561629391955,
          -2.13767913287318,
          -2.955837736363831,
          -1.7764340900302908,
          1.272615789302066,
          -0.37425080144249273,
          1.026973987239565,
          2.100477946764772,
          -0.9807225547579596,
          -0.7533250886156038,
          -0.03650463249437804,
          0.3529513644456242,
          -1.3607833800573281,
          -1.7417396477441502,
          -1.2994294895974514,
          0.32077583616185623,
          -0.4244455156618559,
          0.8905320772769698,
          -1.3186547947430771,
          0.12166001368478756,
          -1.2191124444406027,
          0.24654677954656246,
          -0.2623982371892286,
          0.2624213780227509,
          0.09375602776369371,
          -0.8396352448027719,
          -0.5553431002419489,
          -0.06731001731720351,
          -0.49821737363514945,
          2.474916165429662,
          -1.6424571327832522
         ],
         "xaxis": "x9",
         "y": [
          -1.1186463499542998,
          1.2677912975381758,
          0.36076316284766746,
          -0.594562609277583,
          -0.4685633922208175,
          -0.7414270275053735,
          -1.2620028022058527,
          -0.2633575322313773,
          -0.13705740516672574,
          -0.6779505642675806,
          -0.2026716055278497,
          1.6258578058108586,
          0.24708350229743825,
          0.6924231043760657,
          -1.5136756150318582,
          0.18387379001212456,
          -1.0758932407544046,
          -1.1277833413495375,
          -0.09007994172368866,
          1.7438241639662895,
          0.17877381008658313,
          0.21997679671829612,
          0.43375237351717855,
          -0.57839905502642,
          0.34209577444414135,
          -0.26366532914873114,
          1.0700940451035175,
          -0.9512143375191747,
          -0.6850989671874386,
          0.21183117412430214,
          -0.4104742967296816,
          -1.0890895555885556,
          0.36987011373475775,
          -1.0232701308222056,
          0.044981104707034446,
          -0.0824754843912133,
          2.092860328910299,
          2.8344786758836196,
          0.260552308604172,
          -0.2458360898438423,
          -1.2257665509409992,
          -1.1316510511315512,
          0.32548178557719026,
          0.6763374540496877,
          0.6183684289996768,
          0.22458715291167278,
          -0.10773707471439793,
          0.14631716285290056,
          -0.25856157950527603,
          0.3949298005054963,
          0.014701924255192494,
          0.04254310141261005,
          -0.3038555542985175,
          1.3746376476163982,
          -1.0525689185942786,
          1.8677556254708725,
          -0.9544443715719576,
          0.6250657420707972,
          -0.6597264515616512,
          1.2000128640230874,
          -1.921474505487477,
          0.10359809264203092,
          0.14030400767650186,
          -0.24415105688321234,
          0.09908985392907203,
          0.11762629422038864,
          -0.40161956844729146,
          -0.32560451956022274,
          -0.2742954646454567,
          0.7033588244428957,
          1.044708085637379,
          1.3432802304882736,
          -0.48809055516302796,
          -0.40759577124501833,
          -0.23367711063773317,
          1.0357161154696715,
          -2.035454205328424,
          -0.3275881726844608,
          -0.5365535854449085,
          0.5715003149914503,
          0.7005392956847408,
          -0.6098133766978422,
          0.13932592576040911,
          -0.7696519088160988,
          -0.756068093698991,
          -2.6222547596454278,
          -0.47657293861878464,
          1.1639948628729075,
          -1.4642275879391387,
          -0.38596602153173,
          -0.5421683648952816,
          0.10309907483896115,
          0.2639944083236471,
          0.09410435510004495,
          -0.6567099939622915,
          -0.2203570095662532,
          -1.881779224440967,
          0.41613232309439224,
          0.7655415853330867,
          -1.4245542342590862
         ],
         "yaxis": "y9"
        },
        {
         "line": {
          "color": "rgba(128, 128, 128, 1.0)",
          "dash": "solid",
          "shape": "linear",
          "width": 1.3
         },
         "marker": {
          "size": 2,
          "symbol": "circle"
         },
         "mode": "markers",
         "name": "C",
         "text": "",
         "type": "scatter",
         "x": [
          -0.3643496606765255,
          0.026742083793018775,
          0.3584549394564874,
          -0.15087399036258875,
          0.7692264311391451,
          -0.9607394936456178,
          1.099364393084451,
          2.0413594007607077,
          -0.9589429120315346,
          -1.0151262656536937,
          -2.7705342521888636,
          0.04519916765724038,
          -1.0324039775286689,
          0.21166535206455778,
          0.9519171224472974,
          -0.8073326446901398,
          -0.11985422234986415,
          -0.1234321641152109,
          0.9187427563080505,
          -1.5763765046502152,
          0.48951503176455424,
          -0.278969609256558,
          -0.3648383818684051,
          -0.007140551384771878,
          0.824952324575092,
          1.012484922632672,
          0.5845377044183931,
          -1.2711783578576223,
          -0.36902106237264026,
          0.012682393985313328,
          0.3374744579584474,
          1.0374153302021154,
          0.8674581281533991,
          0.49520661962696927,
          -0.2181122070140142,
          -0.4198441589123327,
          -0.22085215002039907,
          -0.14099689419147918,
          -0.9772412761380672,
          -0.9091883734093862,
          -1.5686850852517986,
          0.12633424708785124,
          0.4249983112725074,
          -0.15071571160517683,
          -0.8190528021055005,
          -0.5843142509340462,
          1.009127911825222,
          -0.2532746339494671,
          0.8382486387582775,
          0.2987780822239634,
          -0.42940441705743443,
          0.12942894672747557,
          -0.3784668801032414,
          -0.36623302074540903,
          1.9636781681839237,
          -0.694293703929343,
          0.18243687176223544,
          0.44970065303344275,
          -0.5585085694844554,
          0.5781469849286903,
          -1.478679342255676,
          -2.2017812855469296,
          -0.22766449165792724,
          -0.9850956709230758,
          0.06535721379319329,
          1.6247637881367891,
          0.9388172664094236,
          0.5604816763327075,
          0.2297458405763916,
          0.5705488391936526,
          -0.5429901589467797,
          -1.4375484759630257,
          1.149625790934575,
          -1.8706089909902677,
          0.6574935076546705,
          0.3922469509849665,
          -0.3283399439671376,
          -0.7082986794613881,
          -1.3012155638305742,
          -0.47344112138941563,
          0.025524978856013302,
          -0.6078471413136215,
          0.6221060033789865,
          -0.8425812105486945,
          -1.9731018326838081,
          -2.085182182082291,
          0.7211728722787665,
          1.5764475887837608,
          0.17856892843054062,
          0.09394500672765961,
          -0.838783815812583,
          -2.0640038711962796,
          0.07541148221711562,
          0.011988483697282544,
          1.156875251344672,
          -0.32642331073805275,
          -1.0002773938460705,
          -0.409558017985458,
          -1.6432367398217418,
          -1.458768728092791
         ],
         "xaxis": "x10",
         "y": [
          -1.1186463499542998,
          1.2677912975381758,
          0.36076316284766746,
          -0.594562609277583,
          -0.4685633922208175,
          -0.7414270275053735,
          -1.2620028022058527,
          -0.2633575322313773,
          -0.13705740516672574,
          -0.6779505642675806,
          -0.2026716055278497,
          1.6258578058108586,
          0.24708350229743825,
          0.6924231043760657,
          -1.5136756150318582,
          0.18387379001212456,
          -1.0758932407544046,
          -1.1277833413495375,
          -0.09007994172368866,
          1.7438241639662895,
          0.17877381008658313,
          0.21997679671829612,
          0.43375237351717855,
          -0.57839905502642,
          0.34209577444414135,
          -0.26366532914873114,
          1.0700940451035175,
          -0.9512143375191747,
          -0.6850989671874386,
          0.21183117412430214,
          -0.4104742967296816,
          -1.0890895555885556,
          0.36987011373475775,
          -1.0232701308222056,
          0.044981104707034446,
          -0.0824754843912133,
          2.092860328910299,
          2.8344786758836196,
          0.260552308604172,
          -0.2458360898438423,
          -1.2257665509409992,
          -1.1316510511315512,
          0.32548178557719026,
          0.6763374540496877,
          0.6183684289996768,
          0.22458715291167278,
          -0.10773707471439793,
          0.14631716285290056,
          -0.25856157950527603,
          0.3949298005054963,
          0.014701924255192494,
          0.04254310141261005,
          -0.3038555542985175,
          1.3746376476163982,
          -1.0525689185942786,
          1.8677556254708725,
          -0.9544443715719576,
          0.6250657420707972,
          -0.6597264515616512,
          1.2000128640230874,
          -1.921474505487477,
          0.10359809264203092,
          0.14030400767650186,
          -0.24415105688321234,
          0.09908985392907203,
          0.11762629422038864,
          -0.40161956844729146,
          -0.32560451956022274,
          -0.2742954646454567,
          0.7033588244428957,
          1.044708085637379,
          1.3432802304882736,
          -0.48809055516302796,
          -0.40759577124501833,
          -0.23367711063773317,
          1.0357161154696715,
          -2.035454205328424,
          -0.3275881726844608,
          -0.5365535854449085,
          0.5715003149914503,
          0.7005392956847408,
          -0.6098133766978422,
          0.13932592576040911,
          -0.7696519088160988,
          -0.756068093698991,
          -2.6222547596454278,
          -0.47657293861878464,
          1.1639948628729075,
          -1.4642275879391387,
          -0.38596602153173,
          -0.5421683648952816,
          0.10309907483896115,
          0.2639944083236471,
          0.09410435510004495,
          -0.6567099939622915,
          -0.2203570095662532,
          -1.881779224440967,
          0.41613232309439224,
          0.7655415853330867,
          -1.4245542342590862
         ],
         "yaxis": "y10"
        },
        {
         "histfunc": "count",
         "histnorm": "",
         "marker": {
          "color": "rgba(50, 171, 96, 1.0)",
          "line": {
           "color": "#4D5663",
           "width": 1.3
          }
         },
         "name": "C",
         "nbinsx": 10,
         "opacity": 0.8,
         "orientation": "v",
         "type": "histogram",
         "x": [
          -1.1186463499542998,
          1.2677912975381758,
          0.36076316284766746,
          -0.594562609277583,
          -0.4685633922208175,
          -0.7414270275053735,
          -1.2620028022058527,
          -0.2633575322313773,
          -0.13705740516672574,
          -0.6779505642675806,
          -0.2026716055278497,
          1.6258578058108586,
          0.24708350229743825,
          0.6924231043760657,
          -1.5136756150318582,
          0.18387379001212456,
          -1.0758932407544046,
          -1.1277833413495375,
          -0.09007994172368866,
          1.7438241639662895,
          0.17877381008658313,
          0.21997679671829612,
          0.43375237351717855,
          -0.57839905502642,
          0.34209577444414135,
          -0.26366532914873114,
          1.0700940451035175,
          -0.9512143375191747,
          -0.6850989671874386,
          0.21183117412430214,
          -0.4104742967296816,
          -1.0890895555885556,
          0.36987011373475775,
          -1.0232701308222056,
          0.044981104707034446,
          -0.0824754843912133,
          2.092860328910299,
          2.8344786758836196,
          0.260552308604172,
          -0.2458360898438423,
          -1.2257665509409992,
          -1.1316510511315512,
          0.32548178557719026,
          0.6763374540496877,
          0.6183684289996768,
          0.22458715291167278,
          -0.10773707471439793,
          0.14631716285290056,
          -0.25856157950527603,
          0.3949298005054963,
          0.014701924255192494,
          0.04254310141261005,
          -0.3038555542985175,
          1.3746376476163982,
          -1.0525689185942786,
          1.8677556254708725,
          -0.9544443715719576,
          0.6250657420707972,
          -0.6597264515616512,
          1.2000128640230874,
          -1.921474505487477,
          0.10359809264203092,
          0.14030400767650186,
          -0.24415105688321234,
          0.09908985392907203,
          0.11762629422038864,
          -0.40161956844729146,
          -0.32560451956022274,
          -0.2742954646454567,
          0.7033588244428957,
          1.044708085637379,
          1.3432802304882736,
          -0.48809055516302796,
          -0.40759577124501833,
          -0.23367711063773317,
          1.0357161154696715,
          -2.035454205328424,
          -0.3275881726844608,
          -0.5365535854449085,
          0.5715003149914503,
          0.7005392956847408,
          -0.6098133766978422,
          0.13932592576040911,
          -0.7696519088160988,
          -0.756068093698991,
          -2.6222547596454278,
          -0.47657293861878464,
          1.1639948628729075,
          -1.4642275879391387,
          -0.38596602153173,
          -0.5421683648952816,
          0.10309907483896115,
          0.2639944083236471,
          0.09410435510004495,
          -0.6567099939622915,
          -0.2203570095662532,
          -1.881779224440967,
          0.41613232309439224,
          0.7655415853330867,
          -1.4245542342590862
         ],
         "xaxis": "x11",
         "yaxis": "y11"
        },
        {
         "line": {
          "color": "rgba(128, 128, 128, 1.0)",
          "dash": "solid",
          "shape": "linear",
          "width": 1.3
         },
         "marker": {
          "size": 2,
          "symbol": "circle"
         },
         "mode": "markers",
         "name": "C",
         "text": "",
         "type": "scatter",
         "x": [
          -0.6489732176465235,
          -0.41469620685869946,
          -0.7371821797185605,
          -0.9768777099594689,
          -0.22711856500745847,
          2.54026166785655,
          0.15537859565815373,
          -0.9775530087225272,
          2.1618950609150063,
          -1.62519664198678,
          0.21236468315567575,
          1.3459918522282894,
          0.08370362006998518,
          0.7394987862241378,
          0.6539134662590035,
          -0.7086034819362234,
          1.6417074272652397,
          0.8369405076533828,
          -0.1704799982098994,
          -0.6549938398194295,
          -0.5483941513527122,
          -1.0447976323516879,
          -0.8018209373504784,
          0.9465864367131726,
          0.6825721074052299,
          0.7887445296778326,
          -0.07546641130273239,
          0.9536526696779729,
          0.4438010796827428,
          -2.2370489036955785,
          -0.6698273819555984,
          0.20635471129522778,
          2.6020926738257306,
          1.0709247935134785,
          0.32384649714279573,
          0.09885999146630725,
          -2.619846279753586,
          -0.46368625253882917,
          1.8712323092911936,
          0.05486969328773147,
          -1.1935146053370786,
          -0.16610251307721524,
          0.6384990529938278,
          1.4038901310185594,
          -0.27245345648714625,
          0.6216184998596498,
          -1.2889792680352745,
          0.3087510888991206,
          0.7360554150652998,
          -0.5165922648054353,
          1.3395981597477955,
          -0.5252602248023504,
          0.6099177946814479,
          -1.0996073656442549,
          2.8542098952108206,
          -0.8285294637490741,
          -0.11911381103015203,
          -1.2557955685428008,
          0.20494733090020398,
          1.447145307689846,
          -0.10189582644921229,
          -2.340645851858345,
          0.905048221674501,
          -3.2847949833595678,
          1.1954851366552612,
          -0.5849358200331003,
          0.30759900650876176,
          -1.4237600566252469,
          1.156013455755697,
          -1.4013371187352321,
          -1.1940724679311008,
          0.6717037121348988,
          0.29877179423852096,
          0.0735572848097489,
          -0.9995298211801902,
          -0.7382077941967837,
          -0.8081365209550897,
          0.2597666777870895,
          0.7055084707601808,
          -2.0317763614359197,
          1.0858361132082317,
          0.2245567699104668,
          0.19531027958986188,
          1.7143659929154766,
          -0.07210747828589123,
          0.6727003522455439,
          -0.10537352910610093,
          1.4134671690171892,
          0.6044508884083378,
          1.0463998481695964,
          0.04921068006225297,
          -0.5367797534585702,
          -0.4983033200797242,
          1.6722949355998922,
          0.5433310212695938,
          -0.31371004745330844,
          0.6080594834764896,
          0.05958357598335059,
          -0.9994953363575223,
          0.3057815249245013
         ],
         "xaxis": "x12",
         "y": [
          -1.1186463499542998,
          1.2677912975381758,
          0.36076316284766746,
          -0.594562609277583,
          -0.4685633922208175,
          -0.7414270275053735,
          -1.2620028022058527,
          -0.2633575322313773,
          -0.13705740516672574,
          -0.6779505642675806,
          -0.2026716055278497,
          1.6258578058108586,
          0.24708350229743825,
          0.6924231043760657,
          -1.5136756150318582,
          0.18387379001212456,
          -1.0758932407544046,
          -1.1277833413495375,
          -0.09007994172368866,
          1.7438241639662895,
          0.17877381008658313,
          0.21997679671829612,
          0.43375237351717855,
          -0.57839905502642,
          0.34209577444414135,
          -0.26366532914873114,
          1.0700940451035175,
          -0.9512143375191747,
          -0.6850989671874386,
          0.21183117412430214,
          -0.4104742967296816,
          -1.0890895555885556,
          0.36987011373475775,
          -1.0232701308222056,
          0.044981104707034446,
          -0.0824754843912133,
          2.092860328910299,
          2.8344786758836196,
          0.260552308604172,
          -0.2458360898438423,
          -1.2257665509409992,
          -1.1316510511315512,
          0.32548178557719026,
          0.6763374540496877,
          0.6183684289996768,
          0.22458715291167278,
          -0.10773707471439793,
          0.14631716285290056,
          -0.25856157950527603,
          0.3949298005054963,
          0.014701924255192494,
          0.04254310141261005,
          -0.3038555542985175,
          1.3746376476163982,
          -1.0525689185942786,
          1.8677556254708725,
          -0.9544443715719576,
          0.6250657420707972,
          -0.6597264515616512,
          1.2000128640230874,
          -1.921474505487477,
          0.10359809264203092,
          0.14030400767650186,
          -0.24415105688321234,
          0.09908985392907203,
          0.11762629422038864,
          -0.40161956844729146,
          -0.32560451956022274,
          -0.2742954646454567,
          0.7033588244428957,
          1.044708085637379,
          1.3432802304882736,
          -0.48809055516302796,
          -0.40759577124501833,
          -0.23367711063773317,
          1.0357161154696715,
          -2.035454205328424,
          -0.3275881726844608,
          -0.5365535854449085,
          0.5715003149914503,
          0.7005392956847408,
          -0.6098133766978422,
          0.13932592576040911,
          -0.7696519088160988,
          -0.756068093698991,
          -2.6222547596454278,
          -0.47657293861878464,
          1.1639948628729075,
          -1.4642275879391387,
          -0.38596602153173,
          -0.5421683648952816,
          0.10309907483896115,
          0.2639944083236471,
          0.09410435510004495,
          -0.6567099939622915,
          -0.2203570095662532,
          -1.881779224440967,
          0.41613232309439224,
          0.7655415853330867,
          -1.4245542342590862
         ],
         "yaxis": "y12"
        },
        {
         "line": {
          "color": "rgba(128, 128, 128, 1.0)",
          "dash": "solid",
          "shape": "linear",
          "width": 1.3
         },
         "marker": {
          "size": 2,
          "symbol": "circle"
         },
         "mode": "markers",
         "name": "D",
         "text": "",
         "type": "scatter",
         "x": [
          -3.1903388189260506,
          0.23396036411163004,
          1.1589655786036386,
          -0.48300006152562525,
          -1.5103337587243804,
          -0.5044248859027471,
          1.182281645215199,
          0.42006775240638894,
          -0.8810298974091847,
          0.5039382873693414,
          -0.731266004129346,
          0.0638361921822204,
          -1.0652754263641049,
          -0.9041076466885405,
          -0.9048795324169541,
          -0.7972587761240022,
          -0.3675670471291356,
          0.28082146701438343,
          -0.08633039339250868,
          0.040217153150704704,
          -0.6690624158655928,
          1.2627520886852726,
          0.8930334427555254,
          -0.5720828983632429,
          -0.10829789239054843,
          0.40614750365984825,
          -1.103865178801149,
          -0.8121010383177608,
          0.10072184675344648,
          -0.5769169489648015,
          -1.064607754248978,
          0.2803088090050602,
          0.27784983531770807,
          -0.41074940453263725,
          0.5858394974501357,
          -1.1873780187790168,
          -1.3497579113052596,
          1.255295743570665,
          -0.6927268600950082,
          -0.36127203424382964,
          -0.34463610823926666,
          -1.2009964413381025,
          1.3923569898979733,
          0.7787889527113488,
          1.8663933162193367,
          -0.7896518608815303,
          0.8604392983684553,
          0.5735613938299836,
          -1.2802106717549009,
          0.44164511860901834,
          -1.1744289444226033,
          -0.0000060149059195747345,
          -0.6467481917357054,
          1.2327214192099953,
          -0.28623017443738186,
          -1.7412710235687312,
          -0.9758958392945769,
          1.600310178717572,
          -0.6658748622479977,
          0.36105544712213045,
          1.2539490446516994,
          1.0583809422068344,
          -0.597617455493197,
          -0.45722923476382665,
          -1.2684784915115794,
          -0.9644190323469388,
          -0.8772580574236023,
          0.085838476310741,
          0.48674958148652886,
          0.9676561629391955,
          -2.13767913287318,
          -2.955837736363831,
          -1.7764340900302908,
          1.272615789302066,
          -0.37425080144249273,
          1.026973987239565,
          2.100477946764772,
          -0.9807225547579596,
          -0.7533250886156038,
          -0.03650463249437804,
          0.3529513644456242,
          -1.3607833800573281,
          -1.7417396477441502,
          -1.2994294895974514,
          0.32077583616185623,
          -0.4244455156618559,
          0.8905320772769698,
          -1.3186547947430771,
          0.12166001368478756,
          -1.2191124444406027,
          0.24654677954656246,
          -0.2623982371892286,
          0.2624213780227509,
          0.09375602776369371,
          -0.8396352448027719,
          -0.5553431002419489,
          -0.06731001731720351,
          -0.49821737363514945,
          2.474916165429662,
          -1.6424571327832522
         ],
         "xaxis": "x13",
         "y": [
          -0.6489732176465235,
          -0.41469620685869946,
          -0.7371821797185605,
          -0.9768777099594689,
          -0.22711856500745847,
          2.54026166785655,
          0.15537859565815373,
          -0.9775530087225272,
          2.1618950609150063,
          -1.62519664198678,
          0.21236468315567575,
          1.3459918522282894,
          0.08370362006998518,
          0.7394987862241378,
          0.6539134662590035,
          -0.7086034819362234,
          1.6417074272652397,
          0.8369405076533828,
          -0.1704799982098994,
          -0.6549938398194295,
          -0.5483941513527122,
          -1.0447976323516879,
          -0.8018209373504784,
          0.9465864367131726,
          0.6825721074052299,
          0.7887445296778326,
          -0.07546641130273239,
          0.9536526696779729,
          0.4438010796827428,
          -2.2370489036955785,
          -0.6698273819555984,
          0.20635471129522778,
          2.6020926738257306,
          1.0709247935134785,
          0.32384649714279573,
          0.09885999146630725,
          -2.619846279753586,
          -0.46368625253882917,
          1.8712323092911936,
          0.05486969328773147,
          -1.1935146053370786,
          -0.16610251307721524,
          0.6384990529938278,
          1.4038901310185594,
          -0.27245345648714625,
          0.6216184998596498,
          -1.2889792680352745,
          0.3087510888991206,
          0.7360554150652998,
          -0.5165922648054353,
          1.3395981597477955,
          -0.5252602248023504,
          0.6099177946814479,
          -1.0996073656442549,
          2.8542098952108206,
          -0.8285294637490741,
          -0.11911381103015203,
          -1.2557955685428008,
          0.20494733090020398,
          1.447145307689846,
          -0.10189582644921229,
          -2.340645851858345,
          0.905048221674501,
          -3.2847949833595678,
          1.1954851366552612,
          -0.5849358200331003,
          0.30759900650876176,
          -1.4237600566252469,
          1.156013455755697,
          -1.4013371187352321,
          -1.1940724679311008,
          0.6717037121348988,
          0.29877179423852096,
          0.0735572848097489,
          -0.9995298211801902,
          -0.7382077941967837,
          -0.8081365209550897,
          0.2597666777870895,
          0.7055084707601808,
          -2.0317763614359197,
          1.0858361132082317,
          0.2245567699104668,
          0.19531027958986188,
          1.7143659929154766,
          -0.07210747828589123,
          0.6727003522455439,
          -0.10537352910610093,
          1.4134671690171892,
          0.6044508884083378,
          1.0463998481695964,
          0.04921068006225297,
          -0.5367797534585702,
          -0.4983033200797242,
          1.6722949355998922,
          0.5433310212695938,
          -0.31371004745330844,
          0.6080594834764896,
          0.05958357598335059,
          -0.9994953363575223,
          0.3057815249245013
         ],
         "yaxis": "y13"
        },
        {
         "line": {
          "color": "rgba(128, 128, 128, 1.0)",
          "dash": "solid",
          "shape": "linear",
          "width": 1.3
         },
         "marker": {
          "size": 2,
          "symbol": "circle"
         },
         "mode": "markers",
         "name": "D",
         "text": "",
         "type": "scatter",
         "x": [
          -0.3643496606765255,
          0.026742083793018775,
          0.3584549394564874,
          -0.15087399036258875,
          0.7692264311391451,
          -0.9607394936456178,
          1.099364393084451,
          2.0413594007607077,
          -0.9589429120315346,
          -1.0151262656536937,
          -2.7705342521888636,
          0.04519916765724038,
          -1.0324039775286689,
          0.21166535206455778,
          0.9519171224472974,
          -0.8073326446901398,
          -0.11985422234986415,
          -0.1234321641152109,
          0.9187427563080505,
          -1.5763765046502152,
          0.48951503176455424,
          -0.278969609256558,
          -0.3648383818684051,
          -0.007140551384771878,
          0.824952324575092,
          1.012484922632672,
          0.5845377044183931,
          -1.2711783578576223,
          -0.36902106237264026,
          0.012682393985313328,
          0.3374744579584474,
          1.0374153302021154,
          0.8674581281533991,
          0.49520661962696927,
          -0.2181122070140142,
          -0.4198441589123327,
          -0.22085215002039907,
          -0.14099689419147918,
          -0.9772412761380672,
          -0.9091883734093862,
          -1.5686850852517986,
          0.12633424708785124,
          0.4249983112725074,
          -0.15071571160517683,
          -0.8190528021055005,
          -0.5843142509340462,
          1.009127911825222,
          -0.2532746339494671,
          0.8382486387582775,
          0.2987780822239634,
          -0.42940441705743443,
          0.12942894672747557,
          -0.3784668801032414,
          -0.36623302074540903,
          1.9636781681839237,
          -0.694293703929343,
          0.18243687176223544,
          0.44970065303344275,
          -0.5585085694844554,
          0.5781469849286903,
          -1.478679342255676,
          -2.2017812855469296,
          -0.22766449165792724,
          -0.9850956709230758,
          0.06535721379319329,
          1.6247637881367891,
          0.9388172664094236,
          0.5604816763327075,
          0.2297458405763916,
          0.5705488391936526,
          -0.5429901589467797,
          -1.4375484759630257,
          1.149625790934575,
          -1.8706089909902677,
          0.6574935076546705,
          0.3922469509849665,
          -0.3283399439671376,
          -0.7082986794613881,
          -1.3012155638305742,
          -0.47344112138941563,
          0.025524978856013302,
          -0.6078471413136215,
          0.6221060033789865,
          -0.8425812105486945,
          -1.9731018326838081,
          -2.085182182082291,
          0.7211728722787665,
          1.5764475887837608,
          0.17856892843054062,
          0.09394500672765961,
          -0.838783815812583,
          -2.0640038711962796,
          0.07541148221711562,
          0.011988483697282544,
          1.156875251344672,
          -0.32642331073805275,
          -1.0002773938460705,
          -0.409558017985458,
          -1.6432367398217418,
          -1.458768728092791
         ],
         "xaxis": "x14",
         "y": [
          -0.6489732176465235,
          -0.41469620685869946,
          -0.7371821797185605,
          -0.9768777099594689,
          -0.22711856500745847,
          2.54026166785655,
          0.15537859565815373,
          -0.9775530087225272,
          2.1618950609150063,
          -1.62519664198678,
          0.21236468315567575,
          1.3459918522282894,
          0.08370362006998518,
          0.7394987862241378,
          0.6539134662590035,
          -0.7086034819362234,
          1.6417074272652397,
          0.8369405076533828,
          -0.1704799982098994,
          -0.6549938398194295,
          -0.5483941513527122,
          -1.0447976323516879,
          -0.8018209373504784,
          0.9465864367131726,
          0.6825721074052299,
          0.7887445296778326,
          -0.07546641130273239,
          0.9536526696779729,
          0.4438010796827428,
          -2.2370489036955785,
          -0.6698273819555984,
          0.20635471129522778,
          2.6020926738257306,
          1.0709247935134785,
          0.32384649714279573,
          0.09885999146630725,
          -2.619846279753586,
          -0.46368625253882917,
          1.8712323092911936,
          0.05486969328773147,
          -1.1935146053370786,
          -0.16610251307721524,
          0.6384990529938278,
          1.4038901310185594,
          -0.27245345648714625,
          0.6216184998596498,
          -1.2889792680352745,
          0.3087510888991206,
          0.7360554150652998,
          -0.5165922648054353,
          1.3395981597477955,
          -0.5252602248023504,
          0.6099177946814479,
          -1.0996073656442549,
          2.8542098952108206,
          -0.8285294637490741,
          -0.11911381103015203,
          -1.2557955685428008,
          0.20494733090020398,
          1.447145307689846,
          -0.10189582644921229,
          -2.340645851858345,
          0.905048221674501,
          -3.2847949833595678,
          1.1954851366552612,
          -0.5849358200331003,
          0.30759900650876176,
          -1.4237600566252469,
          1.156013455755697,
          -1.4013371187352321,
          -1.1940724679311008,
          0.6717037121348988,
          0.29877179423852096,
          0.0735572848097489,
          -0.9995298211801902,
          -0.7382077941967837,
          -0.8081365209550897,
          0.2597666777870895,
          0.7055084707601808,
          -2.0317763614359197,
          1.0858361132082317,
          0.2245567699104668,
          0.19531027958986188,
          1.7143659929154766,
          -0.07210747828589123,
          0.6727003522455439,
          -0.10537352910610093,
          1.4134671690171892,
          0.6044508884083378,
          1.0463998481695964,
          0.04921068006225297,
          -0.5367797534585702,
          -0.4983033200797242,
          1.6722949355998922,
          0.5433310212695938,
          -0.31371004745330844,
          0.6080594834764896,
          0.05958357598335059,
          -0.9994953363575223,
          0.3057815249245013
         ],
         "yaxis": "y14"
        },
        {
         "line": {
          "color": "rgba(128, 128, 128, 1.0)",
          "dash": "solid",
          "shape": "linear",
          "width": 1.3
         },
         "marker": {
          "size": 2,
          "symbol": "circle"
         },
         "mode": "markers",
         "name": "D",
         "text": "",
         "type": "scatter",
         "x": [
          -1.1186463499542998,
          1.2677912975381758,
          0.36076316284766746,
          -0.594562609277583,
          -0.4685633922208175,
          -0.7414270275053735,
          -1.2620028022058527,
          -0.2633575322313773,
          -0.13705740516672574,
          -0.6779505642675806,
          -0.2026716055278497,
          1.6258578058108586,
          0.24708350229743825,
          0.6924231043760657,
          -1.5136756150318582,
          0.18387379001212456,
          -1.0758932407544046,
          -1.1277833413495375,
          -0.09007994172368866,
          1.7438241639662895,
          0.17877381008658313,
          0.21997679671829612,
          0.43375237351717855,
          -0.57839905502642,
          0.34209577444414135,
          -0.26366532914873114,
          1.0700940451035175,
          -0.9512143375191747,
          -0.6850989671874386,
          0.21183117412430214,
          -0.4104742967296816,
          -1.0890895555885556,
          0.36987011373475775,
          -1.0232701308222056,
          0.044981104707034446,
          -0.0824754843912133,
          2.092860328910299,
          2.8344786758836196,
          0.260552308604172,
          -0.2458360898438423,
          -1.2257665509409992,
          -1.1316510511315512,
          0.32548178557719026,
          0.6763374540496877,
          0.6183684289996768,
          0.22458715291167278,
          -0.10773707471439793,
          0.14631716285290056,
          -0.25856157950527603,
          0.3949298005054963,
          0.014701924255192494,
          0.04254310141261005,
          -0.3038555542985175,
          1.3746376476163982,
          -1.0525689185942786,
          1.8677556254708725,
          -0.9544443715719576,
          0.6250657420707972,
          -0.6597264515616512,
          1.2000128640230874,
          -1.921474505487477,
          0.10359809264203092,
          0.14030400767650186,
          -0.24415105688321234,
          0.09908985392907203,
          0.11762629422038864,
          -0.40161956844729146,
          -0.32560451956022274,
          -0.2742954646454567,
          0.7033588244428957,
          1.044708085637379,
          1.3432802304882736,
          -0.48809055516302796,
          -0.40759577124501833,
          -0.23367711063773317,
          1.0357161154696715,
          -2.035454205328424,
          -0.3275881726844608,
          -0.5365535854449085,
          0.5715003149914503,
          0.7005392956847408,
          -0.6098133766978422,
          0.13932592576040911,
          -0.7696519088160988,
          -0.756068093698991,
          -2.6222547596454278,
          -0.47657293861878464,
          1.1639948628729075,
          -1.4642275879391387,
          -0.38596602153173,
          -0.5421683648952816,
          0.10309907483896115,
          0.2639944083236471,
          0.09410435510004495,
          -0.6567099939622915,
          -0.2203570095662532,
          -1.881779224440967,
          0.41613232309439224,
          0.7655415853330867,
          -1.4245542342590862
         ],
         "xaxis": "x15",
         "y": [
          -0.6489732176465235,
          -0.41469620685869946,
          -0.7371821797185605,
          -0.9768777099594689,
          -0.22711856500745847,
          2.54026166785655,
          0.15537859565815373,
          -0.9775530087225272,
          2.1618950609150063,
          -1.62519664198678,
          0.21236468315567575,
          1.3459918522282894,
          0.08370362006998518,
          0.7394987862241378,
          0.6539134662590035,
          -0.7086034819362234,
          1.6417074272652397,
          0.8369405076533828,
          -0.1704799982098994,
          -0.6549938398194295,
          -0.5483941513527122,
          -1.0447976323516879,
          -0.8018209373504784,
          0.9465864367131726,
          0.6825721074052299,
          0.7887445296778326,
          -0.07546641130273239,
          0.9536526696779729,
          0.4438010796827428,
          -2.2370489036955785,
          -0.6698273819555984,
          0.20635471129522778,
          2.6020926738257306,
          1.0709247935134785,
          0.32384649714279573,
          0.09885999146630725,
          -2.619846279753586,
          -0.46368625253882917,
          1.8712323092911936,
          0.05486969328773147,
          -1.1935146053370786,
          -0.16610251307721524,
          0.6384990529938278,
          1.4038901310185594,
          -0.27245345648714625,
          0.6216184998596498,
          -1.2889792680352745,
          0.3087510888991206,
          0.7360554150652998,
          -0.5165922648054353,
          1.3395981597477955,
          -0.5252602248023504,
          0.6099177946814479,
          -1.0996073656442549,
          2.8542098952108206,
          -0.8285294637490741,
          -0.11911381103015203,
          -1.2557955685428008,
          0.20494733090020398,
          1.447145307689846,
          -0.10189582644921229,
          -2.340645851858345,
          0.905048221674501,
          -3.2847949833595678,
          1.1954851366552612,
          -0.5849358200331003,
          0.30759900650876176,
          -1.4237600566252469,
          1.156013455755697,
          -1.4013371187352321,
          -1.1940724679311008,
          0.6717037121348988,
          0.29877179423852096,
          0.0735572848097489,
          -0.9995298211801902,
          -0.7382077941967837,
          -0.8081365209550897,
          0.2597666777870895,
          0.7055084707601808,
          -2.0317763614359197,
          1.0858361132082317,
          0.2245567699104668,
          0.19531027958986188,
          1.7143659929154766,
          -0.07210747828589123,
          0.6727003522455439,
          -0.10537352910610093,
          1.4134671690171892,
          0.6044508884083378,
          1.0463998481695964,
          0.04921068006225297,
          -0.5367797534585702,
          -0.4983033200797242,
          1.6722949355998922,
          0.5433310212695938,
          -0.31371004745330844,
          0.6080594834764896,
          0.05958357598335059,
          -0.9994953363575223,
          0.3057815249245013
         ],
         "yaxis": "y15"
        },
        {
         "histfunc": "count",
         "histnorm": "",
         "marker": {
          "color": "rgba(128, 0, 128, 1.0)",
          "line": {
           "color": "#4D5663",
           "width": 1.3
          }
         },
         "name": "D",
         "nbinsx": 10,
         "opacity": 0.8,
         "orientation": "v",
         "type": "histogram",
         "x": [
          -0.6489732176465235,
          -0.41469620685869946,
          -0.7371821797185605,
          -0.9768777099594689,
          -0.22711856500745847,
          2.54026166785655,
          0.15537859565815373,
          -0.9775530087225272,
          2.1618950609150063,
          -1.62519664198678,
          0.21236468315567575,
          1.3459918522282894,
          0.08370362006998518,
          0.7394987862241378,
          0.6539134662590035,
          -0.7086034819362234,
          1.6417074272652397,
          0.8369405076533828,
          -0.1704799982098994,
          -0.6549938398194295,
          -0.5483941513527122,
          -1.0447976323516879,
          -0.8018209373504784,
          0.9465864367131726,
          0.6825721074052299,
          0.7887445296778326,
          -0.07546641130273239,
          0.9536526696779729,
          0.4438010796827428,
          -2.2370489036955785,
          -0.6698273819555984,
          0.20635471129522778,
          2.6020926738257306,
          1.0709247935134785,
          0.32384649714279573,
          0.09885999146630725,
          -2.619846279753586,
          -0.46368625253882917,
          1.8712323092911936,
          0.05486969328773147,
          -1.1935146053370786,
          -0.16610251307721524,
          0.6384990529938278,
          1.4038901310185594,
          -0.27245345648714625,
          0.6216184998596498,
          -1.2889792680352745,
          0.3087510888991206,
          0.7360554150652998,
          -0.5165922648054353,
          1.3395981597477955,
          -0.5252602248023504,
          0.6099177946814479,
          -1.0996073656442549,
          2.8542098952108206,
          -0.8285294637490741,
          -0.11911381103015203,
          -1.2557955685428008,
          0.20494733090020398,
          1.447145307689846,
          -0.10189582644921229,
          -2.340645851858345,
          0.905048221674501,
          -3.2847949833595678,
          1.1954851366552612,
          -0.5849358200331003,
          0.30759900650876176,
          -1.4237600566252469,
          1.156013455755697,
          -1.4013371187352321,
          -1.1940724679311008,
          0.6717037121348988,
          0.29877179423852096,
          0.0735572848097489,
          -0.9995298211801902,
          -0.7382077941967837,
          -0.8081365209550897,
          0.2597666777870895,
          0.7055084707601808,
          -2.0317763614359197,
          1.0858361132082317,
          0.2245567699104668,
          0.19531027958986188,
          1.7143659929154766,
          -0.07210747828589123,
          0.6727003522455439,
          -0.10537352910610093,
          1.4134671690171892,
          0.6044508884083378,
          1.0463998481695964,
          0.04921068006225297,
          -0.5367797534585702,
          -0.4983033200797242,
          1.6722949355998922,
          0.5433310212695938,
          -0.31371004745330844,
          0.6080594834764896,
          0.05958357598335059,
          -0.9994953363575223,
          0.3057815249245013
         ],
         "xaxis": "x16",
         "yaxis": "y16"
        }
       ],
       "layout": {
        "bargap": 0.02,
        "legend": {
         "bgcolor": "#F5F6F9",
         "font": {
          "color": "#4D5663"
         }
        },
        "paper_bgcolor": "#F5F6F9",
        "plot_bgcolor": "#F5F6F9",
        "showlegend": false,
        "template": {
         "data": {
          "bar": [
           {
            "error_x": {
             "color": "#2a3f5f"
            },
            "error_y": {
             "color": "#2a3f5f"
            },
            "marker": {
             "line": {
              "color": "#E5ECF6",
              "width": 0.5
             }
            },
            "type": "bar"
           }
          ],
          "barpolar": [
           {
            "marker": {
             "line": {
              "color": "#E5ECF6",
              "width": 0.5
             }
            },
            "type": "barpolar"
           }
          ],
          "carpet": [
           {
            "aaxis": {
             "endlinecolor": "#2a3f5f",
             "gridcolor": "white",
             "linecolor": "white",
             "minorgridcolor": "white",
             "startlinecolor": "#2a3f5f"
            },
            "baxis": {
             "endlinecolor": "#2a3f5f",
             "gridcolor": "white",
             "linecolor": "white",
             "minorgridcolor": "white",
             "startlinecolor": "#2a3f5f"
            },
            "type": "carpet"
           }
          ],
          "choropleth": [
           {
            "colorbar": {
             "outlinewidth": 0,
             "ticks": ""
            },
            "type": "choropleth"
           }
          ],
          "contour": [
           {
            "colorbar": {
             "outlinewidth": 0,
             "ticks": ""
            },
            "colorscale": [
             [
              0,
              "#0d0887"
             ],
             [
              0.1111111111111111,
              "#46039f"
             ],
             [
              0.2222222222222222,
              "#7201a8"
             ],
             [
              0.3333333333333333,
              "#9c179e"
             ],
             [
              0.4444444444444444,
              "#bd3786"
             ],
             [
              0.5555555555555556,
              "#d8576b"
             ],
             [
              0.6666666666666666,
              "#ed7953"
             ],
             [
              0.7777777777777778,
              "#fb9f3a"
             ],
             [
              0.8888888888888888,
              "#fdca26"
             ],
             [
              1,
              "#f0f921"
             ]
            ],
            "type": "contour"
           }
          ],
          "contourcarpet": [
           {
            "colorbar": {
             "outlinewidth": 0,
             "ticks": ""
            },
            "type": "contourcarpet"
           }
          ],
          "heatmap": [
           {
            "colorbar": {
             "outlinewidth": 0,
             "ticks": ""
            },
            "colorscale": [
             [
              0,
              "#0d0887"
             ],
             [
              0.1111111111111111,
              "#46039f"
             ],
             [
              0.2222222222222222,
              "#7201a8"
             ],
             [
              0.3333333333333333,
              "#9c179e"
             ],
             [
              0.4444444444444444,
              "#bd3786"
             ],
             [
              0.5555555555555556,
              "#d8576b"
             ],
             [
              0.6666666666666666,
              "#ed7953"
             ],
             [
              0.7777777777777778,
              "#fb9f3a"
             ],
             [
              0.8888888888888888,
              "#fdca26"
             ],
             [
              1,
              "#f0f921"
             ]
            ],
            "type": "heatmap"
           }
          ],
          "heatmapgl": [
           {
            "colorbar": {
             "outlinewidth": 0,
             "ticks": ""
            },
            "colorscale": [
             [
              0,
              "#0d0887"
             ],
             [
              0.1111111111111111,
              "#46039f"
             ],
             [
              0.2222222222222222,
              "#7201a8"
             ],
             [
              0.3333333333333333,
              "#9c179e"
             ],
             [
              0.4444444444444444,
              "#bd3786"
             ],
             [
              0.5555555555555556,
              "#d8576b"
             ],
             [
              0.6666666666666666,
              "#ed7953"
             ],
             [
              0.7777777777777778,
              "#fb9f3a"
             ],
             [
              0.8888888888888888,
              "#fdca26"
             ],
             [
              1,
              "#f0f921"
             ]
            ],
            "type": "heatmapgl"
           }
          ],
          "histogram": [
           {
            "marker": {
             "colorbar": {
              "outlinewidth": 0,
              "ticks": ""
             }
            },
            "type": "histogram"
           }
          ],
          "histogram2d": [
           {
            "colorbar": {
             "outlinewidth": 0,
             "ticks": ""
            },
            "colorscale": [
             [
              0,
              "#0d0887"
             ],
             [
              0.1111111111111111,
              "#46039f"
             ],
             [
              0.2222222222222222,
              "#7201a8"
             ],
             [
              0.3333333333333333,
              "#9c179e"
             ],
             [
              0.4444444444444444,
              "#bd3786"
             ],
             [
              0.5555555555555556,
              "#d8576b"
             ],
             [
              0.6666666666666666,
              "#ed7953"
             ],
             [
              0.7777777777777778,
              "#fb9f3a"
             ],
             [
              0.8888888888888888,
              "#fdca26"
             ],
             [
              1,
              "#f0f921"
             ]
            ],
            "type": "histogram2d"
           }
          ],
          "histogram2dcontour": [
           {
            "colorbar": {
             "outlinewidth": 0,
             "ticks": ""
            },
            "colorscale": [
             [
              0,
              "#0d0887"
             ],
             [
              0.1111111111111111,
              "#46039f"
             ],
             [
              0.2222222222222222,
              "#7201a8"
             ],
             [
              0.3333333333333333,
              "#9c179e"
             ],
             [
              0.4444444444444444,
              "#bd3786"
             ],
             [
              0.5555555555555556,
              "#d8576b"
             ],
             [
              0.6666666666666666,
              "#ed7953"
             ],
             [
              0.7777777777777778,
              "#fb9f3a"
             ],
             [
              0.8888888888888888,
              "#fdca26"
             ],
             [
              1,
              "#f0f921"
             ]
            ],
            "type": "histogram2dcontour"
           }
          ],
          "mesh3d": [
           {
            "colorbar": {
             "outlinewidth": 0,
             "ticks": ""
            },
            "type": "mesh3d"
           }
          ],
          "parcoords": [
           {
            "line": {
             "colorbar": {
              "outlinewidth": 0,
              "ticks": ""
             }
            },
            "type": "parcoords"
           }
          ],
          "pie": [
           {
            "automargin": true,
            "type": "pie"
           }
          ],
          "scatter": [
           {
            "marker": {
             "colorbar": {
              "outlinewidth": 0,
              "ticks": ""
             }
            },
            "type": "scatter"
           }
          ],
          "scatter3d": [
           {
            "line": {
             "colorbar": {
              "outlinewidth": 0,
              "ticks": ""
             }
            },
            "marker": {
             "colorbar": {
              "outlinewidth": 0,
              "ticks": ""
             }
            },
            "type": "scatter3d"
           }
          ],
          "scattercarpet": [
           {
            "marker": {
             "colorbar": {
              "outlinewidth": 0,
              "ticks": ""
             }
            },
            "type": "scattercarpet"
           }
          ],
          "scattergeo": [
           {
            "marker": {
             "colorbar": {
              "outlinewidth": 0,
              "ticks": ""
             }
            },
            "type": "scattergeo"
           }
          ],
          "scattergl": [
           {
            "marker": {
             "colorbar": {
              "outlinewidth": 0,
              "ticks": ""
             }
            },
            "type": "scattergl"
           }
          ],
          "scattermapbox": [
           {
            "marker": {
             "colorbar": {
              "outlinewidth": 0,
              "ticks": ""
             }
            },
            "type": "scattermapbox"
           }
          ],
          "scatterpolar": [
           {
            "marker": {
             "colorbar": {
              "outlinewidth": 0,
              "ticks": ""
             }
            },
            "type": "scatterpolar"
           }
          ],
          "scatterpolargl": [
           {
            "marker": {
             "colorbar": {
              "outlinewidth": 0,
              "ticks": ""
             }
            },
            "type": "scatterpolargl"
           }
          ],
          "scatterternary": [
           {
            "marker": {
             "colorbar": {
              "outlinewidth": 0,
              "ticks": ""
             }
            },
            "type": "scatterternary"
           }
          ],
          "surface": [
           {
            "colorbar": {
             "outlinewidth": 0,
             "ticks": ""
            },
            "colorscale": [
             [
              0,
              "#0d0887"
             ],
             [
              0.1111111111111111,
              "#46039f"
             ],
             [
              0.2222222222222222,
              "#7201a8"
             ],
             [
              0.3333333333333333,
              "#9c179e"
             ],
             [
              0.4444444444444444,
              "#bd3786"
             ],
             [
              0.5555555555555556,
              "#d8576b"
             ],
             [
              0.6666666666666666,
              "#ed7953"
             ],
             [
              0.7777777777777778,
              "#fb9f3a"
             ],
             [
              0.8888888888888888,
              "#fdca26"
             ],
             [
              1,
              "#f0f921"
             ]
            ],
            "type": "surface"
           }
          ],
          "table": [
           {
            "cells": {
             "fill": {
              "color": "#EBF0F8"
             },
             "line": {
              "color": "white"
             }
            },
            "header": {
             "fill": {
              "color": "#C8D4E3"
             },
             "line": {
              "color": "white"
             }
            },
            "type": "table"
           }
          ]
         },
         "layout": {
          "annotationdefaults": {
           "arrowcolor": "#2a3f5f",
           "arrowhead": 0,
           "arrowwidth": 1
          },
          "coloraxis": {
           "colorbar": {
            "outlinewidth": 0,
            "ticks": ""
           }
          },
          "colorscale": {
           "diverging": [
            [
             0,
             "#8e0152"
            ],
            [
             0.1,
             "#c51b7d"
            ],
            [
             0.2,
             "#de77ae"
            ],
            [
             0.3,
             "#f1b6da"
            ],
            [
             0.4,
             "#fde0ef"
            ],
            [
             0.5,
             "#f7f7f7"
            ],
            [
             0.6,
             "#e6f5d0"
            ],
            [
             0.7,
             "#b8e186"
            ],
            [
             0.8,
             "#7fbc41"
            ],
            [
             0.9,
             "#4d9221"
            ],
            [
             1,
             "#276419"
            ]
           ],
           "sequential": [
            [
             0,
             "#0d0887"
            ],
            [
             0.1111111111111111,
             "#46039f"
            ],
            [
             0.2222222222222222,
             "#7201a8"
            ],
            [
             0.3333333333333333,
             "#9c179e"
            ],
            [
             0.4444444444444444,
             "#bd3786"
            ],
            [
             0.5555555555555556,
             "#d8576b"
            ],
            [
             0.6666666666666666,
             "#ed7953"
            ],
            [
             0.7777777777777778,
             "#fb9f3a"
            ],
            [
             0.8888888888888888,
             "#fdca26"
            ],
            [
             1,
             "#f0f921"
            ]
           ],
           "sequentialminus": [
            [
             0,
             "#0d0887"
            ],
            [
             0.1111111111111111,
             "#46039f"
            ],
            [
             0.2222222222222222,
             "#7201a8"
            ],
            [
             0.3333333333333333,
             "#9c179e"
            ],
            [
             0.4444444444444444,
             "#bd3786"
            ],
            [
             0.5555555555555556,
             "#d8576b"
            ],
            [
             0.6666666666666666,
             "#ed7953"
            ],
            [
             0.7777777777777778,
             "#fb9f3a"
            ],
            [
             0.8888888888888888,
             "#fdca26"
            ],
            [
             1,
             "#f0f921"
            ]
           ]
          },
          "colorway": [
           "#636efa",
           "#EF553B",
           "#00cc96",
           "#ab63fa",
           "#FFA15A",
           "#19d3f3",
           "#FF6692",
           "#B6E880",
           "#FF97FF",
           "#FECB52"
          ],
          "font": {
           "color": "#2a3f5f"
          },
          "geo": {
           "bgcolor": "white",
           "lakecolor": "white",
           "landcolor": "#E5ECF6",
           "showlakes": true,
           "showland": true,
           "subunitcolor": "white"
          },
          "hoverlabel": {
           "align": "left"
          },
          "hovermode": "closest",
          "mapbox": {
           "style": "light"
          },
          "paper_bgcolor": "white",
          "plot_bgcolor": "#E5ECF6",
          "polar": {
           "angularaxis": {
            "gridcolor": "white",
            "linecolor": "white",
            "ticks": ""
           },
           "bgcolor": "#E5ECF6",
           "radialaxis": {
            "gridcolor": "white",
            "linecolor": "white",
            "ticks": ""
           }
          },
          "scene": {
           "xaxis": {
            "backgroundcolor": "#E5ECF6",
            "gridcolor": "white",
            "gridwidth": 2,
            "linecolor": "white",
            "showbackground": true,
            "ticks": "",
            "zerolinecolor": "white"
           },
           "yaxis": {
            "backgroundcolor": "#E5ECF6",
            "gridcolor": "white",
            "gridwidth": 2,
            "linecolor": "white",
            "showbackground": true,
            "ticks": "",
            "zerolinecolor": "white"
           },
           "zaxis": {
            "backgroundcolor": "#E5ECF6",
            "gridcolor": "white",
            "gridwidth": 2,
            "linecolor": "white",
            "showbackground": true,
            "ticks": "",
            "zerolinecolor": "white"
           }
          },
          "shapedefaults": {
           "line": {
            "color": "#2a3f5f"
           }
          },
          "ternary": {
           "aaxis": {
            "gridcolor": "white",
            "linecolor": "white",
            "ticks": ""
           },
           "baxis": {
            "gridcolor": "white",
            "linecolor": "white",
            "ticks": ""
           },
           "bgcolor": "#E5ECF6",
           "caxis": {
            "gridcolor": "white",
            "linecolor": "white",
            "ticks": ""
           }
          },
          "title": {
           "x": 0.05
          },
          "xaxis": {
           "automargin": true,
           "gridcolor": "white",
           "linecolor": "white",
           "ticks": "",
           "title": {
            "standoff": 15
           },
           "zerolinecolor": "white",
           "zerolinewidth": 2
          },
          "yaxis": {
           "automargin": true,
           "gridcolor": "white",
           "linecolor": "white",
           "ticks": "",
           "title": {
            "standoff": 15
           },
           "zerolinecolor": "white",
           "zerolinewidth": 2
          }
         }
        },
        "title": {
         "font": {
          "color": "#4D5663"
         }
        },
        "xaxis": {
         "anchor": "y",
         "domain": [
          0,
          0.2125
         ],
         "gridcolor": "#E1E5ED",
         "showgrid": false,
         "tickfont": {
          "color": "#4D5663"
         },
         "title": {
          "font": {
           "color": "#4D5663"
          },
          "text": ""
         },
         "zerolinecolor": "#E1E5ED"
        },
        "xaxis10": {
         "anchor": "y10",
         "domain": [
          0.2625,
          0.475
         ],
         "gridcolor": "#E1E5ED",
         "showgrid": false,
         "tickfont": {
          "color": "#4D5663"
         },
         "title": {
          "font": {
           "color": "#4D5663"
          },
          "text": ""
         },
         "zerolinecolor": "#E1E5ED"
        },
        "xaxis11": {
         "anchor": "y11",
         "domain": [
          0.525,
          0.7375
         ],
         "gridcolor": "#E1E5ED",
         "showgrid": false,
         "tickfont": {
          "color": "#4D5663"
         },
         "title": {
          "font": {
           "color": "#4D5663"
          },
          "text": ""
         },
         "zerolinecolor": "#E1E5ED"
        },
        "xaxis12": {
         "anchor": "y12",
         "domain": [
          0.7875,
          1
         ],
         "gridcolor": "#E1E5ED",
         "showgrid": false,
         "tickfont": {
          "color": "#4D5663"
         },
         "title": {
          "font": {
           "color": "#4D5663"
          },
          "text": ""
         },
         "zerolinecolor": "#E1E5ED"
        },
        "xaxis13": {
         "anchor": "y13",
         "domain": [
          0,
          0.2125
         ],
         "gridcolor": "#E1E5ED",
         "showgrid": false,
         "tickfont": {
          "color": "#4D5663"
         },
         "title": {
          "font": {
           "color": "#4D5663"
          },
          "text": ""
         },
         "zerolinecolor": "#E1E5ED"
        },
        "xaxis14": {
         "anchor": "y14",
         "domain": [
          0.2625,
          0.475
         ],
         "gridcolor": "#E1E5ED",
         "showgrid": false,
         "tickfont": {
          "color": "#4D5663"
         },
         "title": {
          "font": {
           "color": "#4D5663"
          },
          "text": ""
         },
         "zerolinecolor": "#E1E5ED"
        },
        "xaxis15": {
         "anchor": "y15",
         "domain": [
          0.525,
          0.7375
         ],
         "gridcolor": "#E1E5ED",
         "showgrid": false,
         "tickfont": {
          "color": "#4D5663"
         },
         "title": {
          "font": {
           "color": "#4D5663"
          },
          "text": ""
         },
         "zerolinecolor": "#E1E5ED"
        },
        "xaxis16": {
         "anchor": "y16",
         "domain": [
          0.7875,
          1
         ],
         "gridcolor": "#E1E5ED",
         "showgrid": false,
         "tickfont": {
          "color": "#4D5663"
         },
         "title": {
          "font": {
           "color": "#4D5663"
          },
          "text": ""
         },
         "zerolinecolor": "#E1E5ED"
        },
        "xaxis2": {
         "anchor": "y2",
         "domain": [
          0.2625,
          0.475
         ],
         "gridcolor": "#E1E5ED",
         "showgrid": false,
         "tickfont": {
          "color": "#4D5663"
         },
         "title": {
          "font": {
           "color": "#4D5663"
          },
          "text": ""
         },
         "zerolinecolor": "#E1E5ED"
        },
        "xaxis3": {
         "anchor": "y3",
         "domain": [
          0.525,
          0.7375
         ],
         "gridcolor": "#E1E5ED",
         "showgrid": false,
         "tickfont": {
          "color": "#4D5663"
         },
         "title": {
          "font": {
           "color": "#4D5663"
          },
          "text": ""
         },
         "zerolinecolor": "#E1E5ED"
        },
        "xaxis4": {
         "anchor": "y4",
         "domain": [
          0.7875,
          1
         ],
         "gridcolor": "#E1E5ED",
         "showgrid": false,
         "tickfont": {
          "color": "#4D5663"
         },
         "title": {
          "font": {
           "color": "#4D5663"
          },
          "text": ""
         },
         "zerolinecolor": "#E1E5ED"
        },
        "xaxis5": {
         "anchor": "y5",
         "domain": [
          0,
          0.2125
         ],
         "gridcolor": "#E1E5ED",
         "showgrid": false,
         "tickfont": {
          "color": "#4D5663"
         },
         "title": {
          "font": {
           "color": "#4D5663"
          },
          "text": ""
         },
         "zerolinecolor": "#E1E5ED"
        },
        "xaxis6": {
         "anchor": "y6",
         "domain": [
          0.2625,
          0.475
         ],
         "gridcolor": "#E1E5ED",
         "showgrid": false,
         "tickfont": {
          "color": "#4D5663"
         },
         "title": {
          "font": {
           "color": "#4D5663"
          },
          "text": ""
         },
         "zerolinecolor": "#E1E5ED"
        },
        "xaxis7": {
         "anchor": "y7",
         "domain": [
          0.525,
          0.7375
         ],
         "gridcolor": "#E1E5ED",
         "showgrid": false,
         "tickfont": {
          "color": "#4D5663"
         },
         "title": {
          "font": {
           "color": "#4D5663"
          },
          "text": ""
         },
         "zerolinecolor": "#E1E5ED"
        },
        "xaxis8": {
         "anchor": "y8",
         "domain": [
          0.7875,
          1
         ],
         "gridcolor": "#E1E5ED",
         "showgrid": false,
         "tickfont": {
          "color": "#4D5663"
         },
         "title": {
          "font": {
           "color": "#4D5663"
          },
          "text": ""
         },
         "zerolinecolor": "#E1E5ED"
        },
        "xaxis9": {
         "anchor": "y9",
         "domain": [
          0,
          0.2125
         ],
         "gridcolor": "#E1E5ED",
         "showgrid": false,
         "tickfont": {
          "color": "#4D5663"
         },
         "title": {
          "font": {
           "color": "#4D5663"
          },
          "text": ""
         },
         "zerolinecolor": "#E1E5ED"
        },
        "yaxis": {
         "anchor": "x",
         "domain": [
          0.8025,
          1
         ],
         "gridcolor": "#E1E5ED",
         "showgrid": false,
         "tickfont": {
          "color": "#4D5663"
         },
         "title": {
          "font": {
           "color": "#4D5663"
          },
          "text": ""
         },
         "zerolinecolor": "#E1E5ED"
        },
        "yaxis10": {
         "anchor": "x10",
         "domain": [
          0.2675,
          0.465
         ],
         "gridcolor": "#E1E5ED",
         "showgrid": false,
         "tickfont": {
          "color": "#4D5663"
         },
         "title": {
          "font": {
           "color": "#4D5663"
          },
          "text": ""
         },
         "zerolinecolor": "#E1E5ED"
        },
        "yaxis11": {
         "anchor": "x11",
         "domain": [
          0.2675,
          0.465
         ],
         "gridcolor": "#E1E5ED",
         "showgrid": false,
         "tickfont": {
          "color": "#4D5663"
         },
         "title": {
          "font": {
           "color": "#4D5663"
          },
          "text": ""
         },
         "zerolinecolor": "#E1E5ED"
        },
        "yaxis12": {
         "anchor": "x12",
         "domain": [
          0.2675,
          0.465
         ],
         "gridcolor": "#E1E5ED",
         "showgrid": false,
         "tickfont": {
          "color": "#4D5663"
         },
         "title": {
          "font": {
           "color": "#4D5663"
          },
          "text": ""
         },
         "zerolinecolor": "#E1E5ED"
        },
        "yaxis13": {
         "anchor": "x13",
         "domain": [
          0,
          0.1975
         ],
         "gridcolor": "#E1E5ED",
         "showgrid": false,
         "tickfont": {
          "color": "#4D5663"
         },
         "title": {
          "font": {
           "color": "#4D5663"
          },
          "text": ""
         },
         "zerolinecolor": "#E1E5ED"
        },
        "yaxis14": {
         "anchor": "x14",
         "domain": [
          0,
          0.1975
         ],
         "gridcolor": "#E1E5ED",
         "showgrid": false,
         "tickfont": {
          "color": "#4D5663"
         },
         "title": {
          "font": {
           "color": "#4D5663"
          },
          "text": ""
         },
         "zerolinecolor": "#E1E5ED"
        },
        "yaxis15": {
         "anchor": "x15",
         "domain": [
          0,
          0.1975
         ],
         "gridcolor": "#E1E5ED",
         "showgrid": false,
         "tickfont": {
          "color": "#4D5663"
         },
         "title": {
          "font": {
           "color": "#4D5663"
          },
          "text": ""
         },
         "zerolinecolor": "#E1E5ED"
        },
        "yaxis16": {
         "anchor": "x16",
         "domain": [
          0,
          0.1975
         ],
         "gridcolor": "#E1E5ED",
         "showgrid": false,
         "tickfont": {
          "color": "#4D5663"
         },
         "title": {
          "font": {
           "color": "#4D5663"
          },
          "text": ""
         },
         "zerolinecolor": "#E1E5ED"
        },
        "yaxis2": {
         "anchor": "x2",
         "domain": [
          0.8025,
          1
         ],
         "gridcolor": "#E1E5ED",
         "showgrid": false,
         "tickfont": {
          "color": "#4D5663"
         },
         "title": {
          "font": {
           "color": "#4D5663"
          },
          "text": ""
         },
         "zerolinecolor": "#E1E5ED"
        },
        "yaxis3": {
         "anchor": "x3",
         "domain": [
          0.8025,
          1
         ],
         "gridcolor": "#E1E5ED",
         "showgrid": false,
         "tickfont": {
          "color": "#4D5663"
         },
         "title": {
          "font": {
           "color": "#4D5663"
          },
          "text": ""
         },
         "zerolinecolor": "#E1E5ED"
        },
        "yaxis4": {
         "anchor": "x4",
         "domain": [
          0.8025,
          1
         ],
         "gridcolor": "#E1E5ED",
         "showgrid": false,
         "tickfont": {
          "color": "#4D5663"
         },
         "title": {
          "font": {
           "color": "#4D5663"
          },
          "text": ""
         },
         "zerolinecolor": "#E1E5ED"
        },
        "yaxis5": {
         "anchor": "x5",
         "domain": [
          0.535,
          0.7325
         ],
         "gridcolor": "#E1E5ED",
         "showgrid": false,
         "tickfont": {
          "color": "#4D5663"
         },
         "title": {
          "font": {
           "color": "#4D5663"
          },
          "text": ""
         },
         "zerolinecolor": "#E1E5ED"
        },
        "yaxis6": {
         "anchor": "x6",
         "domain": [
          0.535,
          0.7325
         ],
         "gridcolor": "#E1E5ED",
         "showgrid": false,
         "tickfont": {
          "color": "#4D5663"
         },
         "title": {
          "font": {
           "color": "#4D5663"
          },
          "text": ""
         },
         "zerolinecolor": "#E1E5ED"
        },
        "yaxis7": {
         "anchor": "x7",
         "domain": [
          0.535,
          0.7325
         ],
         "gridcolor": "#E1E5ED",
         "showgrid": false,
         "tickfont": {
          "color": "#4D5663"
         },
         "title": {
          "font": {
           "color": "#4D5663"
          },
          "text": ""
         },
         "zerolinecolor": "#E1E5ED"
        },
        "yaxis8": {
         "anchor": "x8",
         "domain": [
          0.535,
          0.7325
         ],
         "gridcolor": "#E1E5ED",
         "showgrid": false,
         "tickfont": {
          "color": "#4D5663"
         },
         "title": {
          "font": {
           "color": "#4D5663"
          },
          "text": ""
         },
         "zerolinecolor": "#E1E5ED"
        },
        "yaxis9": {
         "anchor": "x9",
         "domain": [
          0.2675,
          0.465
         ],
         "gridcolor": "#E1E5ED",
         "showgrid": false,
         "tickfont": {
          "color": "#4D5663"
         },
         "title": {
          "font": {
           "color": "#4D5663"
          },
          "text": ""
         },
         "zerolinecolor": "#E1E5ED"
        }
       }
      },
      "text/html": "<div>                            <div id=\"6d2288ff-517b-4653-aec9-05275264a79e\" class=\"plotly-graph-div\" style=\"height:525px; width:100%;\"></div>            <script type=\"text/javascript\">                require([\"plotly\"], function(Plotly) {                    window.PLOTLYENV=window.PLOTLYENV || {};\n                    window.PLOTLYENV.BASE_URL='https://plot.ly';                                    if (document.getElementById(\"6d2288ff-517b-4653-aec9-05275264a79e\")) {                    Plotly.newPlot(                        \"6d2288ff-517b-4653-aec9-05275264a79e\",                        [{\"histfunc\": \"count\", \"histnorm\": \"\", \"marker\": {\"color\": \"rgba(255, 153, 51, 1.0)\", \"line\": {\"color\": \"#4D5663\", \"width\": 1.3}}, \"name\": \"A\", \"nbinsx\": 10, \"opacity\": 0.8, \"orientation\": \"v\", \"type\": \"histogram\", \"x\": [-3.1903388189260506, 0.23396036411163004, 1.1589655786036386, -0.48300006152562525, -1.5103337587243804, -0.5044248859027471, 1.182281645215199, 0.42006775240638894, -0.8810298974091847, 0.5039382873693414, -0.731266004129346, 0.0638361921822204, -1.0652754263641049, -0.9041076466885405, -0.9048795324169541, -0.7972587761240022, -0.3675670471291356, 0.28082146701438343, -0.08633039339250868, 0.040217153150704704, -0.6690624158655928, 1.2627520886852726, 0.8930334427555254, -0.5720828983632429, -0.10829789239054843, 0.40614750365984825, -1.103865178801149, -0.8121010383177608, 0.10072184675344648, -0.5769169489648015, -1.064607754248978, 0.2803088090050602, 0.27784983531770807, -0.41074940453263725, 0.5858394974501357, -1.1873780187790168, -1.3497579113052596, 1.255295743570665, -0.6927268600950082, -0.36127203424382964, -0.34463610823926666, -1.2009964413381025, 1.3923569898979733, 0.7787889527113488, 1.8663933162193367, -0.7896518608815303, 0.8604392983684553, 0.5735613938299836, -1.2802106717549009, 0.44164511860901834, -1.1744289444226033, -6.0149059195747345e-06, -0.6467481917357054, 1.2327214192099953, -0.28623017443738186, -1.7412710235687312, -0.9758958392945769, 1.600310178717572, -0.6658748622479977, 0.36105544712213045, 1.2539490446516994, 1.0583809422068344, -0.597617455493197, -0.45722923476382665, -1.2684784915115794, -0.9644190323469388, -0.8772580574236023, 0.085838476310741, 0.48674958148652886, 0.9676561629391955, -2.13767913287318, -2.955837736363831, -1.7764340900302908, 1.272615789302066, -0.37425080144249273, 1.026973987239565, 2.100477946764772, -0.9807225547579596, -0.7533250886156038, -0.03650463249437804, 0.3529513644456242, -1.3607833800573281, -1.7417396477441502, -1.2994294895974514, 0.32077583616185623, -0.4244455156618559, 0.8905320772769698, -1.3186547947430771, 0.12166001368478756, -1.2191124444406027, 0.24654677954656246, -0.2623982371892286, 0.2624213780227509, 0.09375602776369371, -0.8396352448027719, -0.5553431002419489, -0.06731001731720351, -0.49821737363514945, 2.474916165429662, -1.6424571327832522], \"xaxis\": \"x\", \"yaxis\": \"y\"}, {\"line\": {\"color\": \"rgba(128, 128, 128, 1.0)\", \"dash\": \"solid\", \"shape\": \"linear\", \"width\": 1.3}, \"marker\": {\"size\": 2, \"symbol\": \"circle\"}, \"mode\": \"markers\", \"name\": \"A\", \"text\": \"\", \"type\": \"scatter\", \"x\": [-0.3643496606765255, 0.026742083793018775, 0.3584549394564874, -0.15087399036258875, 0.7692264311391451, -0.9607394936456178, 1.099364393084451, 2.0413594007607077, -0.9589429120315346, -1.0151262656536937, -2.7705342521888636, 0.04519916765724038, -1.0324039775286689, 0.21166535206455778, 0.9519171224472974, -0.8073326446901398, -0.11985422234986415, -0.1234321641152109, 0.9187427563080505, -1.5763765046502152, 0.48951503176455424, -0.278969609256558, -0.3648383818684051, -0.007140551384771878, 0.824952324575092, 1.012484922632672, 0.5845377044183931, -1.2711783578576223, -0.36902106237264026, 0.012682393985313328, 0.3374744579584474, 1.0374153302021154, 0.8674581281533991, 0.49520661962696927, -0.2181122070140142, -0.4198441589123327, -0.22085215002039907, -0.14099689419147918, -0.9772412761380672, -0.9091883734093862, -1.5686850852517986, 0.12633424708785124, 0.4249983112725074, -0.15071571160517683, -0.8190528021055005, -0.5843142509340462, 1.009127911825222, -0.2532746339494671, 0.8382486387582775, 0.2987780822239634, -0.42940441705743443, 0.12942894672747557, -0.3784668801032414, -0.36623302074540903, 1.9636781681839237, -0.694293703929343, 0.18243687176223544, 0.44970065303344275, -0.5585085694844554, 0.5781469849286903, -1.478679342255676, -2.2017812855469296, -0.22766449165792724, -0.9850956709230758, 0.06535721379319329, 1.6247637881367891, 0.9388172664094236, 0.5604816763327075, 0.2297458405763916, 0.5705488391936526, -0.5429901589467797, -1.4375484759630257, 1.149625790934575, -1.8706089909902677, 0.6574935076546705, 0.3922469509849665, -0.3283399439671376, -0.7082986794613881, -1.3012155638305742, -0.47344112138941563, 0.025524978856013302, -0.6078471413136215, 0.6221060033789865, -0.8425812105486945, -1.9731018326838081, -2.085182182082291, 0.7211728722787665, 1.5764475887837608, 0.17856892843054062, 0.09394500672765961, -0.838783815812583, -2.0640038711962796, 0.07541148221711562, 0.011988483697282544, 1.156875251344672, -0.32642331073805275, -1.0002773938460705, -0.409558017985458, -1.6432367398217418, -1.458768728092791], \"xaxis\": \"x2\", \"y\": [-3.1903388189260506, 0.23396036411163004, 1.1589655786036386, -0.48300006152562525, -1.5103337587243804, -0.5044248859027471, 1.182281645215199, 0.42006775240638894, -0.8810298974091847, 0.5039382873693414, -0.731266004129346, 0.0638361921822204, -1.0652754263641049, -0.9041076466885405, -0.9048795324169541, -0.7972587761240022, -0.3675670471291356, 0.28082146701438343, -0.08633039339250868, 0.040217153150704704, -0.6690624158655928, 1.2627520886852726, 0.8930334427555254, -0.5720828983632429, -0.10829789239054843, 0.40614750365984825, -1.103865178801149, -0.8121010383177608, 0.10072184675344648, -0.5769169489648015, -1.064607754248978, 0.2803088090050602, 0.27784983531770807, -0.41074940453263725, 0.5858394974501357, -1.1873780187790168, -1.3497579113052596, 1.255295743570665, -0.6927268600950082, -0.36127203424382964, -0.34463610823926666, -1.2009964413381025, 1.3923569898979733, 0.7787889527113488, 1.8663933162193367, -0.7896518608815303, 0.8604392983684553, 0.5735613938299836, -1.2802106717549009, 0.44164511860901834, -1.1744289444226033, -6.0149059195747345e-06, -0.6467481917357054, 1.2327214192099953, -0.28623017443738186, -1.7412710235687312, -0.9758958392945769, 1.600310178717572, -0.6658748622479977, 0.36105544712213045, 1.2539490446516994, 1.0583809422068344, -0.597617455493197, -0.45722923476382665, -1.2684784915115794, -0.9644190323469388, -0.8772580574236023, 0.085838476310741, 0.48674958148652886, 0.9676561629391955, -2.13767913287318, -2.955837736363831, -1.7764340900302908, 1.272615789302066, -0.37425080144249273, 1.026973987239565, 2.100477946764772, -0.9807225547579596, -0.7533250886156038, -0.03650463249437804, 0.3529513644456242, -1.3607833800573281, -1.7417396477441502, -1.2994294895974514, 0.32077583616185623, -0.4244455156618559, 0.8905320772769698, -1.3186547947430771, 0.12166001368478756, -1.2191124444406027, 0.24654677954656246, -0.2623982371892286, 0.2624213780227509, 0.09375602776369371, -0.8396352448027719, -0.5553431002419489, -0.06731001731720351, -0.49821737363514945, 2.474916165429662, -1.6424571327832522], \"yaxis\": \"y2\"}, {\"line\": {\"color\": \"rgba(128, 128, 128, 1.0)\", \"dash\": \"solid\", \"shape\": \"linear\", \"width\": 1.3}, \"marker\": {\"size\": 2, \"symbol\": \"circle\"}, \"mode\": \"markers\", \"name\": \"A\", \"text\": \"\", \"type\": \"scatter\", \"x\": [-1.1186463499542998, 1.2677912975381758, 0.36076316284766746, -0.594562609277583, -0.4685633922208175, -0.7414270275053735, -1.2620028022058527, -0.2633575322313773, -0.13705740516672574, -0.6779505642675806, -0.2026716055278497, 1.6258578058108586, 0.24708350229743825, 0.6924231043760657, -1.5136756150318582, 0.18387379001212456, -1.0758932407544046, -1.1277833413495375, -0.09007994172368866, 1.7438241639662895, 0.17877381008658313, 0.21997679671829612, 0.43375237351717855, -0.57839905502642, 0.34209577444414135, -0.26366532914873114, 1.0700940451035175, -0.9512143375191747, -0.6850989671874386, 0.21183117412430214, -0.4104742967296816, -1.0890895555885556, 0.36987011373475775, -1.0232701308222056, 0.044981104707034446, -0.0824754843912133, 2.092860328910299, 2.8344786758836196, 0.260552308604172, -0.2458360898438423, -1.2257665509409992, -1.1316510511315512, 0.32548178557719026, 0.6763374540496877, 0.6183684289996768, 0.22458715291167278, -0.10773707471439793, 0.14631716285290056, -0.25856157950527603, 0.3949298005054963, 0.014701924255192494, 0.04254310141261005, -0.3038555542985175, 1.3746376476163982, -1.0525689185942786, 1.8677556254708725, -0.9544443715719576, 0.6250657420707972, -0.6597264515616512, 1.2000128640230874, -1.921474505487477, 0.10359809264203092, 0.14030400767650186, -0.24415105688321234, 0.09908985392907203, 0.11762629422038864, -0.40161956844729146, -0.32560451956022274, -0.2742954646454567, 0.7033588244428957, 1.044708085637379, 1.3432802304882736, -0.48809055516302796, -0.40759577124501833, -0.23367711063773317, 1.0357161154696715, -2.035454205328424, -0.3275881726844608, -0.5365535854449085, 0.5715003149914503, 0.7005392956847408, -0.6098133766978422, 0.13932592576040911, -0.7696519088160988, -0.756068093698991, -2.6222547596454278, -0.47657293861878464, 1.1639948628729075, -1.4642275879391387, -0.38596602153173, -0.5421683648952816, 0.10309907483896115, 0.2639944083236471, 0.09410435510004495, -0.6567099939622915, -0.2203570095662532, -1.881779224440967, 0.41613232309439224, 0.7655415853330867, -1.4245542342590862], \"xaxis\": \"x3\", \"y\": [-3.1903388189260506, 0.23396036411163004, 1.1589655786036386, -0.48300006152562525, -1.5103337587243804, -0.5044248859027471, 1.182281645215199, 0.42006775240638894, -0.8810298974091847, 0.5039382873693414, -0.731266004129346, 0.0638361921822204, -1.0652754263641049, -0.9041076466885405, -0.9048795324169541, -0.7972587761240022, -0.3675670471291356, 0.28082146701438343, -0.08633039339250868, 0.040217153150704704, -0.6690624158655928, 1.2627520886852726, 0.8930334427555254, -0.5720828983632429, -0.10829789239054843, 0.40614750365984825, -1.103865178801149, -0.8121010383177608, 0.10072184675344648, -0.5769169489648015, -1.064607754248978, 0.2803088090050602, 0.27784983531770807, -0.41074940453263725, 0.5858394974501357, -1.1873780187790168, -1.3497579113052596, 1.255295743570665, -0.6927268600950082, -0.36127203424382964, -0.34463610823926666, -1.2009964413381025, 1.3923569898979733, 0.7787889527113488, 1.8663933162193367, -0.7896518608815303, 0.8604392983684553, 0.5735613938299836, -1.2802106717549009, 0.44164511860901834, -1.1744289444226033, -6.0149059195747345e-06, -0.6467481917357054, 1.2327214192099953, -0.28623017443738186, -1.7412710235687312, -0.9758958392945769, 1.600310178717572, -0.6658748622479977, 0.36105544712213045, 1.2539490446516994, 1.0583809422068344, -0.597617455493197, -0.45722923476382665, -1.2684784915115794, -0.9644190323469388, -0.8772580574236023, 0.085838476310741, 0.48674958148652886, 0.9676561629391955, -2.13767913287318, -2.955837736363831, -1.7764340900302908, 1.272615789302066, -0.37425080144249273, 1.026973987239565, 2.100477946764772, -0.9807225547579596, -0.7533250886156038, -0.03650463249437804, 0.3529513644456242, -1.3607833800573281, -1.7417396477441502, -1.2994294895974514, 0.32077583616185623, -0.4244455156618559, 0.8905320772769698, -1.3186547947430771, 0.12166001368478756, -1.2191124444406027, 0.24654677954656246, -0.2623982371892286, 0.2624213780227509, 0.09375602776369371, -0.8396352448027719, -0.5553431002419489, -0.06731001731720351, -0.49821737363514945, 2.474916165429662, -1.6424571327832522], \"yaxis\": \"y3\"}, {\"line\": {\"color\": \"rgba(128, 128, 128, 1.0)\", \"dash\": \"solid\", \"shape\": \"linear\", \"width\": 1.3}, \"marker\": {\"size\": 2, \"symbol\": \"circle\"}, \"mode\": \"markers\", \"name\": \"A\", \"text\": \"\", \"type\": \"scatter\", \"x\": [-0.6489732176465235, -0.41469620685869946, -0.7371821797185605, -0.9768777099594689, -0.22711856500745847, 2.54026166785655, 0.15537859565815373, -0.9775530087225272, 2.1618950609150063, -1.62519664198678, 0.21236468315567575, 1.3459918522282894, 0.08370362006998518, 0.7394987862241378, 0.6539134662590035, -0.7086034819362234, 1.6417074272652397, 0.8369405076533828, -0.1704799982098994, -0.6549938398194295, -0.5483941513527122, -1.0447976323516879, -0.8018209373504784, 0.9465864367131726, 0.6825721074052299, 0.7887445296778326, -0.07546641130273239, 0.9536526696779729, 0.4438010796827428, -2.2370489036955785, -0.6698273819555984, 0.20635471129522778, 2.6020926738257306, 1.0709247935134785, 0.32384649714279573, 0.09885999146630725, -2.619846279753586, -0.46368625253882917, 1.8712323092911936, 0.05486969328773147, -1.1935146053370786, -0.16610251307721524, 0.6384990529938278, 1.4038901310185594, -0.27245345648714625, 0.6216184998596498, -1.2889792680352745, 0.3087510888991206, 0.7360554150652998, -0.5165922648054353, 1.3395981597477955, -0.5252602248023504, 0.6099177946814479, -1.0996073656442549, 2.8542098952108206, -0.8285294637490741, -0.11911381103015203, -1.2557955685428008, 0.20494733090020398, 1.447145307689846, -0.10189582644921229, -2.340645851858345, 0.905048221674501, -3.2847949833595678, 1.1954851366552612, -0.5849358200331003, 0.30759900650876176, -1.4237600566252469, 1.156013455755697, -1.4013371187352321, -1.1940724679311008, 0.6717037121348988, 0.29877179423852096, 0.0735572848097489, -0.9995298211801902, -0.7382077941967837, -0.8081365209550897, 0.2597666777870895, 0.7055084707601808, -2.0317763614359197, 1.0858361132082317, 0.2245567699104668, 0.19531027958986188, 1.7143659929154766, -0.07210747828589123, 0.6727003522455439, -0.10537352910610093, 1.4134671690171892, 0.6044508884083378, 1.0463998481695964, 0.04921068006225297, -0.5367797534585702, -0.4983033200797242, 1.6722949355998922, 0.5433310212695938, -0.31371004745330844, 0.6080594834764896, 0.05958357598335059, -0.9994953363575223, 0.3057815249245013], \"xaxis\": \"x4\", \"y\": [-3.1903388189260506, 0.23396036411163004, 1.1589655786036386, -0.48300006152562525, -1.5103337587243804, -0.5044248859027471, 1.182281645215199, 0.42006775240638894, -0.8810298974091847, 0.5039382873693414, -0.731266004129346, 0.0638361921822204, -1.0652754263641049, -0.9041076466885405, -0.9048795324169541, -0.7972587761240022, -0.3675670471291356, 0.28082146701438343, -0.08633039339250868, 0.040217153150704704, -0.6690624158655928, 1.2627520886852726, 0.8930334427555254, -0.5720828983632429, -0.10829789239054843, 0.40614750365984825, -1.103865178801149, -0.8121010383177608, 0.10072184675344648, -0.5769169489648015, -1.064607754248978, 0.2803088090050602, 0.27784983531770807, -0.41074940453263725, 0.5858394974501357, -1.1873780187790168, -1.3497579113052596, 1.255295743570665, -0.6927268600950082, -0.36127203424382964, -0.34463610823926666, -1.2009964413381025, 1.3923569898979733, 0.7787889527113488, 1.8663933162193367, -0.7896518608815303, 0.8604392983684553, 0.5735613938299836, -1.2802106717549009, 0.44164511860901834, -1.1744289444226033, -6.0149059195747345e-06, -0.6467481917357054, 1.2327214192099953, -0.28623017443738186, -1.7412710235687312, -0.9758958392945769, 1.600310178717572, -0.6658748622479977, 0.36105544712213045, 1.2539490446516994, 1.0583809422068344, -0.597617455493197, -0.45722923476382665, -1.2684784915115794, -0.9644190323469388, -0.8772580574236023, 0.085838476310741, 0.48674958148652886, 0.9676561629391955, -2.13767913287318, -2.955837736363831, -1.7764340900302908, 1.272615789302066, -0.37425080144249273, 1.026973987239565, 2.100477946764772, -0.9807225547579596, -0.7533250886156038, -0.03650463249437804, 0.3529513644456242, -1.3607833800573281, -1.7417396477441502, -1.2994294895974514, 0.32077583616185623, -0.4244455156618559, 0.8905320772769698, -1.3186547947430771, 0.12166001368478756, -1.2191124444406027, 0.24654677954656246, -0.2623982371892286, 0.2624213780227509, 0.09375602776369371, -0.8396352448027719, -0.5553431002419489, -0.06731001731720351, -0.49821737363514945, 2.474916165429662, -1.6424571327832522], \"yaxis\": \"y4\"}, {\"line\": {\"color\": \"rgba(128, 128, 128, 1.0)\", \"dash\": \"solid\", \"shape\": \"linear\", \"width\": 1.3}, \"marker\": {\"size\": 2, \"symbol\": \"circle\"}, \"mode\": \"markers\", \"name\": \"B\", \"text\": \"\", \"type\": \"scatter\", \"x\": [-3.1903388189260506, 0.23396036411163004, 1.1589655786036386, -0.48300006152562525, -1.5103337587243804, -0.5044248859027471, 1.182281645215199, 0.42006775240638894, -0.8810298974091847, 0.5039382873693414, -0.731266004129346, 0.0638361921822204, -1.0652754263641049, -0.9041076466885405, -0.9048795324169541, -0.7972587761240022, -0.3675670471291356, 0.28082146701438343, -0.08633039339250868, 0.040217153150704704, -0.6690624158655928, 1.2627520886852726, 0.8930334427555254, -0.5720828983632429, -0.10829789239054843, 0.40614750365984825, -1.103865178801149, -0.8121010383177608, 0.10072184675344648, -0.5769169489648015, -1.064607754248978, 0.2803088090050602, 0.27784983531770807, -0.41074940453263725, 0.5858394974501357, -1.1873780187790168, -1.3497579113052596, 1.255295743570665, -0.6927268600950082, -0.36127203424382964, -0.34463610823926666, -1.2009964413381025, 1.3923569898979733, 0.7787889527113488, 1.8663933162193367, -0.7896518608815303, 0.8604392983684553, 0.5735613938299836, -1.2802106717549009, 0.44164511860901834, -1.1744289444226033, -6.0149059195747345e-06, -0.6467481917357054, 1.2327214192099953, -0.28623017443738186, -1.7412710235687312, -0.9758958392945769, 1.600310178717572, -0.6658748622479977, 0.36105544712213045, 1.2539490446516994, 1.0583809422068344, -0.597617455493197, -0.45722923476382665, -1.2684784915115794, -0.9644190323469388, -0.8772580574236023, 0.085838476310741, 0.48674958148652886, 0.9676561629391955, -2.13767913287318, -2.955837736363831, -1.7764340900302908, 1.272615789302066, -0.37425080144249273, 1.026973987239565, 2.100477946764772, -0.9807225547579596, -0.7533250886156038, -0.03650463249437804, 0.3529513644456242, -1.3607833800573281, -1.7417396477441502, -1.2994294895974514, 0.32077583616185623, -0.4244455156618559, 0.8905320772769698, -1.3186547947430771, 0.12166001368478756, -1.2191124444406027, 0.24654677954656246, -0.2623982371892286, 0.2624213780227509, 0.09375602776369371, -0.8396352448027719, -0.5553431002419489, -0.06731001731720351, -0.49821737363514945, 2.474916165429662, -1.6424571327832522], \"xaxis\": \"x5\", \"y\": [-0.3643496606765255, 0.026742083793018775, 0.3584549394564874, -0.15087399036258875, 0.7692264311391451, -0.9607394936456178, 1.099364393084451, 2.0413594007607077, -0.9589429120315346, -1.0151262656536937, -2.7705342521888636, 0.04519916765724038, -1.0324039775286689, 0.21166535206455778, 0.9519171224472974, -0.8073326446901398, -0.11985422234986415, -0.1234321641152109, 0.9187427563080505, -1.5763765046502152, 0.48951503176455424, -0.278969609256558, -0.3648383818684051, -0.007140551384771878, 0.824952324575092, 1.012484922632672, 0.5845377044183931, -1.2711783578576223, -0.36902106237264026, 0.012682393985313328, 0.3374744579584474, 1.0374153302021154, 0.8674581281533991, 0.49520661962696927, -0.2181122070140142, -0.4198441589123327, -0.22085215002039907, -0.14099689419147918, -0.9772412761380672, -0.9091883734093862, -1.5686850852517986, 0.12633424708785124, 0.4249983112725074, -0.15071571160517683, -0.8190528021055005, -0.5843142509340462, 1.009127911825222, -0.2532746339494671, 0.8382486387582775, 0.2987780822239634, -0.42940441705743443, 0.12942894672747557, -0.3784668801032414, -0.36623302074540903, 1.9636781681839237, -0.694293703929343, 0.18243687176223544, 0.44970065303344275, -0.5585085694844554, 0.5781469849286903, -1.478679342255676, -2.2017812855469296, -0.22766449165792724, -0.9850956709230758, 0.06535721379319329, 1.6247637881367891, 0.9388172664094236, 0.5604816763327075, 0.2297458405763916, 0.5705488391936526, -0.5429901589467797, -1.4375484759630257, 1.149625790934575, -1.8706089909902677, 0.6574935076546705, 0.3922469509849665, -0.3283399439671376, -0.7082986794613881, -1.3012155638305742, -0.47344112138941563, 0.025524978856013302, -0.6078471413136215, 0.6221060033789865, -0.8425812105486945, -1.9731018326838081, -2.085182182082291, 0.7211728722787665, 1.5764475887837608, 0.17856892843054062, 0.09394500672765961, -0.838783815812583, -2.0640038711962796, 0.07541148221711562, 0.011988483697282544, 1.156875251344672, -0.32642331073805275, -1.0002773938460705, -0.409558017985458, -1.6432367398217418, -1.458768728092791], \"yaxis\": \"y5\"}, {\"histfunc\": \"count\", \"histnorm\": \"\", \"marker\": {\"color\": \"rgba(55, 128, 191, 1.0)\", \"line\": {\"color\": \"#4D5663\", \"width\": 1.3}}, \"name\": \"B\", \"nbinsx\": 10, \"opacity\": 0.8, \"orientation\": \"v\", \"type\": \"histogram\", \"x\": [-0.3643496606765255, 0.026742083793018775, 0.3584549394564874, -0.15087399036258875, 0.7692264311391451, -0.9607394936456178, 1.099364393084451, 2.0413594007607077, -0.9589429120315346, -1.0151262656536937, -2.7705342521888636, 0.04519916765724038, -1.0324039775286689, 0.21166535206455778, 0.9519171224472974, -0.8073326446901398, -0.11985422234986415, -0.1234321641152109, 0.9187427563080505, -1.5763765046502152, 0.48951503176455424, -0.278969609256558, -0.3648383818684051, -0.007140551384771878, 0.824952324575092, 1.012484922632672, 0.5845377044183931, -1.2711783578576223, -0.36902106237264026, 0.012682393985313328, 0.3374744579584474, 1.0374153302021154, 0.8674581281533991, 0.49520661962696927, -0.2181122070140142, -0.4198441589123327, -0.22085215002039907, -0.14099689419147918, -0.9772412761380672, -0.9091883734093862, -1.5686850852517986, 0.12633424708785124, 0.4249983112725074, -0.15071571160517683, -0.8190528021055005, -0.5843142509340462, 1.009127911825222, -0.2532746339494671, 0.8382486387582775, 0.2987780822239634, -0.42940441705743443, 0.12942894672747557, -0.3784668801032414, -0.36623302074540903, 1.9636781681839237, -0.694293703929343, 0.18243687176223544, 0.44970065303344275, -0.5585085694844554, 0.5781469849286903, -1.478679342255676, -2.2017812855469296, -0.22766449165792724, -0.9850956709230758, 0.06535721379319329, 1.6247637881367891, 0.9388172664094236, 0.5604816763327075, 0.2297458405763916, 0.5705488391936526, -0.5429901589467797, -1.4375484759630257, 1.149625790934575, -1.8706089909902677, 0.6574935076546705, 0.3922469509849665, -0.3283399439671376, -0.7082986794613881, -1.3012155638305742, -0.47344112138941563, 0.025524978856013302, -0.6078471413136215, 0.6221060033789865, -0.8425812105486945, -1.9731018326838081, -2.085182182082291, 0.7211728722787665, 1.5764475887837608, 0.17856892843054062, 0.09394500672765961, -0.838783815812583, -2.0640038711962796, 0.07541148221711562, 0.011988483697282544, 1.156875251344672, -0.32642331073805275, -1.0002773938460705, -0.409558017985458, -1.6432367398217418, -1.458768728092791], \"xaxis\": \"x6\", \"yaxis\": \"y6\"}, {\"line\": {\"color\": \"rgba(128, 128, 128, 1.0)\", \"dash\": \"solid\", \"shape\": \"linear\", \"width\": 1.3}, \"marker\": {\"size\": 2, \"symbol\": \"circle\"}, \"mode\": \"markers\", \"name\": \"B\", \"text\": \"\", \"type\": \"scatter\", \"x\": [-1.1186463499542998, 1.2677912975381758, 0.36076316284766746, -0.594562609277583, -0.4685633922208175, -0.7414270275053735, -1.2620028022058527, -0.2633575322313773, -0.13705740516672574, -0.6779505642675806, -0.2026716055278497, 1.6258578058108586, 0.24708350229743825, 0.6924231043760657, -1.5136756150318582, 0.18387379001212456, -1.0758932407544046, -1.1277833413495375, -0.09007994172368866, 1.7438241639662895, 0.17877381008658313, 0.21997679671829612, 0.43375237351717855, -0.57839905502642, 0.34209577444414135, -0.26366532914873114, 1.0700940451035175, -0.9512143375191747, -0.6850989671874386, 0.21183117412430214, -0.4104742967296816, -1.0890895555885556, 0.36987011373475775, -1.0232701308222056, 0.044981104707034446, -0.0824754843912133, 2.092860328910299, 2.8344786758836196, 0.260552308604172, -0.2458360898438423, -1.2257665509409992, -1.1316510511315512, 0.32548178557719026, 0.6763374540496877, 0.6183684289996768, 0.22458715291167278, -0.10773707471439793, 0.14631716285290056, -0.25856157950527603, 0.3949298005054963, 0.014701924255192494, 0.04254310141261005, -0.3038555542985175, 1.3746376476163982, -1.0525689185942786, 1.8677556254708725, -0.9544443715719576, 0.6250657420707972, -0.6597264515616512, 1.2000128640230874, -1.921474505487477, 0.10359809264203092, 0.14030400767650186, -0.24415105688321234, 0.09908985392907203, 0.11762629422038864, -0.40161956844729146, -0.32560451956022274, -0.2742954646454567, 0.7033588244428957, 1.044708085637379, 1.3432802304882736, -0.48809055516302796, -0.40759577124501833, -0.23367711063773317, 1.0357161154696715, -2.035454205328424, -0.3275881726844608, -0.5365535854449085, 0.5715003149914503, 0.7005392956847408, -0.6098133766978422, 0.13932592576040911, -0.7696519088160988, -0.756068093698991, -2.6222547596454278, -0.47657293861878464, 1.1639948628729075, -1.4642275879391387, -0.38596602153173, -0.5421683648952816, 0.10309907483896115, 0.2639944083236471, 0.09410435510004495, -0.6567099939622915, -0.2203570095662532, -1.881779224440967, 0.41613232309439224, 0.7655415853330867, -1.4245542342590862], \"xaxis\": \"x7\", \"y\": [-0.3643496606765255, 0.026742083793018775, 0.3584549394564874, -0.15087399036258875, 0.7692264311391451, -0.9607394936456178, 1.099364393084451, 2.0413594007607077, -0.9589429120315346, -1.0151262656536937, -2.7705342521888636, 0.04519916765724038, -1.0324039775286689, 0.21166535206455778, 0.9519171224472974, -0.8073326446901398, -0.11985422234986415, -0.1234321641152109, 0.9187427563080505, -1.5763765046502152, 0.48951503176455424, -0.278969609256558, -0.3648383818684051, -0.007140551384771878, 0.824952324575092, 1.012484922632672, 0.5845377044183931, -1.2711783578576223, -0.36902106237264026, 0.012682393985313328, 0.3374744579584474, 1.0374153302021154, 0.8674581281533991, 0.49520661962696927, -0.2181122070140142, -0.4198441589123327, -0.22085215002039907, -0.14099689419147918, -0.9772412761380672, -0.9091883734093862, -1.5686850852517986, 0.12633424708785124, 0.4249983112725074, -0.15071571160517683, -0.8190528021055005, -0.5843142509340462, 1.009127911825222, -0.2532746339494671, 0.8382486387582775, 0.2987780822239634, -0.42940441705743443, 0.12942894672747557, -0.3784668801032414, -0.36623302074540903, 1.9636781681839237, -0.694293703929343, 0.18243687176223544, 0.44970065303344275, -0.5585085694844554, 0.5781469849286903, -1.478679342255676, -2.2017812855469296, -0.22766449165792724, -0.9850956709230758, 0.06535721379319329, 1.6247637881367891, 0.9388172664094236, 0.5604816763327075, 0.2297458405763916, 0.5705488391936526, -0.5429901589467797, -1.4375484759630257, 1.149625790934575, -1.8706089909902677, 0.6574935076546705, 0.3922469509849665, -0.3283399439671376, -0.7082986794613881, -1.3012155638305742, -0.47344112138941563, 0.025524978856013302, -0.6078471413136215, 0.6221060033789865, -0.8425812105486945, -1.9731018326838081, -2.085182182082291, 0.7211728722787665, 1.5764475887837608, 0.17856892843054062, 0.09394500672765961, -0.838783815812583, -2.0640038711962796, 0.07541148221711562, 0.011988483697282544, 1.156875251344672, -0.32642331073805275, -1.0002773938460705, -0.409558017985458, -1.6432367398217418, -1.458768728092791], \"yaxis\": \"y7\"}, {\"line\": {\"color\": \"rgba(128, 128, 128, 1.0)\", \"dash\": \"solid\", \"shape\": \"linear\", \"width\": 1.3}, \"marker\": {\"size\": 2, \"symbol\": \"circle\"}, \"mode\": \"markers\", \"name\": \"B\", \"text\": \"\", \"type\": \"scatter\", \"x\": [-0.6489732176465235, -0.41469620685869946, -0.7371821797185605, -0.9768777099594689, -0.22711856500745847, 2.54026166785655, 0.15537859565815373, -0.9775530087225272, 2.1618950609150063, -1.62519664198678, 0.21236468315567575, 1.3459918522282894, 0.08370362006998518, 0.7394987862241378, 0.6539134662590035, -0.7086034819362234, 1.6417074272652397, 0.8369405076533828, -0.1704799982098994, -0.6549938398194295, -0.5483941513527122, -1.0447976323516879, -0.8018209373504784, 0.9465864367131726, 0.6825721074052299, 0.7887445296778326, -0.07546641130273239, 0.9536526696779729, 0.4438010796827428, -2.2370489036955785, -0.6698273819555984, 0.20635471129522778, 2.6020926738257306, 1.0709247935134785, 0.32384649714279573, 0.09885999146630725, -2.619846279753586, -0.46368625253882917, 1.8712323092911936, 0.05486969328773147, -1.1935146053370786, -0.16610251307721524, 0.6384990529938278, 1.4038901310185594, -0.27245345648714625, 0.6216184998596498, -1.2889792680352745, 0.3087510888991206, 0.7360554150652998, -0.5165922648054353, 1.3395981597477955, -0.5252602248023504, 0.6099177946814479, -1.0996073656442549, 2.8542098952108206, -0.8285294637490741, -0.11911381103015203, -1.2557955685428008, 0.20494733090020398, 1.447145307689846, -0.10189582644921229, -2.340645851858345, 0.905048221674501, -3.2847949833595678, 1.1954851366552612, -0.5849358200331003, 0.30759900650876176, -1.4237600566252469, 1.156013455755697, -1.4013371187352321, -1.1940724679311008, 0.6717037121348988, 0.29877179423852096, 0.0735572848097489, -0.9995298211801902, -0.7382077941967837, -0.8081365209550897, 0.2597666777870895, 0.7055084707601808, -2.0317763614359197, 1.0858361132082317, 0.2245567699104668, 0.19531027958986188, 1.7143659929154766, -0.07210747828589123, 0.6727003522455439, -0.10537352910610093, 1.4134671690171892, 0.6044508884083378, 1.0463998481695964, 0.04921068006225297, -0.5367797534585702, -0.4983033200797242, 1.6722949355998922, 0.5433310212695938, -0.31371004745330844, 0.6080594834764896, 0.05958357598335059, -0.9994953363575223, 0.3057815249245013], \"xaxis\": \"x8\", \"y\": [-0.3643496606765255, 0.026742083793018775, 0.3584549394564874, -0.15087399036258875, 0.7692264311391451, -0.9607394936456178, 1.099364393084451, 2.0413594007607077, -0.9589429120315346, -1.0151262656536937, -2.7705342521888636, 0.04519916765724038, -1.0324039775286689, 0.21166535206455778, 0.9519171224472974, -0.8073326446901398, -0.11985422234986415, -0.1234321641152109, 0.9187427563080505, -1.5763765046502152, 0.48951503176455424, -0.278969609256558, -0.3648383818684051, -0.007140551384771878, 0.824952324575092, 1.012484922632672, 0.5845377044183931, -1.2711783578576223, -0.36902106237264026, 0.012682393985313328, 0.3374744579584474, 1.0374153302021154, 0.8674581281533991, 0.49520661962696927, -0.2181122070140142, -0.4198441589123327, -0.22085215002039907, -0.14099689419147918, -0.9772412761380672, -0.9091883734093862, -1.5686850852517986, 0.12633424708785124, 0.4249983112725074, -0.15071571160517683, -0.8190528021055005, -0.5843142509340462, 1.009127911825222, -0.2532746339494671, 0.8382486387582775, 0.2987780822239634, -0.42940441705743443, 0.12942894672747557, -0.3784668801032414, -0.36623302074540903, 1.9636781681839237, -0.694293703929343, 0.18243687176223544, 0.44970065303344275, -0.5585085694844554, 0.5781469849286903, -1.478679342255676, -2.2017812855469296, -0.22766449165792724, -0.9850956709230758, 0.06535721379319329, 1.6247637881367891, 0.9388172664094236, 0.5604816763327075, 0.2297458405763916, 0.5705488391936526, -0.5429901589467797, -1.4375484759630257, 1.149625790934575, -1.8706089909902677, 0.6574935076546705, 0.3922469509849665, -0.3283399439671376, -0.7082986794613881, -1.3012155638305742, -0.47344112138941563, 0.025524978856013302, -0.6078471413136215, 0.6221060033789865, -0.8425812105486945, -1.9731018326838081, -2.085182182082291, 0.7211728722787665, 1.5764475887837608, 0.17856892843054062, 0.09394500672765961, -0.838783815812583, -2.0640038711962796, 0.07541148221711562, 0.011988483697282544, 1.156875251344672, -0.32642331073805275, -1.0002773938460705, -0.409558017985458, -1.6432367398217418, -1.458768728092791], \"yaxis\": \"y8\"}, {\"line\": {\"color\": \"rgba(128, 128, 128, 1.0)\", \"dash\": \"solid\", \"shape\": \"linear\", \"width\": 1.3}, \"marker\": {\"size\": 2, \"symbol\": \"circle\"}, \"mode\": \"markers\", \"name\": \"C\", \"text\": \"\", \"type\": \"scatter\", \"x\": [-3.1903388189260506, 0.23396036411163004, 1.1589655786036386, -0.48300006152562525, -1.5103337587243804, -0.5044248859027471, 1.182281645215199, 0.42006775240638894, -0.8810298974091847, 0.5039382873693414, -0.731266004129346, 0.0638361921822204, -1.0652754263641049, -0.9041076466885405, -0.9048795324169541, -0.7972587761240022, -0.3675670471291356, 0.28082146701438343, -0.08633039339250868, 0.040217153150704704, -0.6690624158655928, 1.2627520886852726, 0.8930334427555254, -0.5720828983632429, -0.10829789239054843, 0.40614750365984825, -1.103865178801149, -0.8121010383177608, 0.10072184675344648, -0.5769169489648015, -1.064607754248978, 0.2803088090050602, 0.27784983531770807, -0.41074940453263725, 0.5858394974501357, -1.1873780187790168, -1.3497579113052596, 1.255295743570665, -0.6927268600950082, -0.36127203424382964, -0.34463610823926666, -1.2009964413381025, 1.3923569898979733, 0.7787889527113488, 1.8663933162193367, -0.7896518608815303, 0.8604392983684553, 0.5735613938299836, -1.2802106717549009, 0.44164511860901834, -1.1744289444226033, -6.0149059195747345e-06, -0.6467481917357054, 1.2327214192099953, -0.28623017443738186, -1.7412710235687312, -0.9758958392945769, 1.600310178717572, -0.6658748622479977, 0.36105544712213045, 1.2539490446516994, 1.0583809422068344, -0.597617455493197, -0.45722923476382665, -1.2684784915115794, -0.9644190323469388, -0.8772580574236023, 0.085838476310741, 0.48674958148652886, 0.9676561629391955, -2.13767913287318, -2.955837736363831, -1.7764340900302908, 1.272615789302066, -0.37425080144249273, 1.026973987239565, 2.100477946764772, -0.9807225547579596, -0.7533250886156038, -0.03650463249437804, 0.3529513644456242, -1.3607833800573281, -1.7417396477441502, -1.2994294895974514, 0.32077583616185623, -0.4244455156618559, 0.8905320772769698, -1.3186547947430771, 0.12166001368478756, -1.2191124444406027, 0.24654677954656246, -0.2623982371892286, 0.2624213780227509, 0.09375602776369371, -0.8396352448027719, -0.5553431002419489, -0.06731001731720351, -0.49821737363514945, 2.474916165429662, -1.6424571327832522], \"xaxis\": \"x9\", \"y\": [-1.1186463499542998, 1.2677912975381758, 0.36076316284766746, -0.594562609277583, -0.4685633922208175, -0.7414270275053735, -1.2620028022058527, -0.2633575322313773, -0.13705740516672574, -0.6779505642675806, -0.2026716055278497, 1.6258578058108586, 0.24708350229743825, 0.6924231043760657, -1.5136756150318582, 0.18387379001212456, -1.0758932407544046, -1.1277833413495375, -0.09007994172368866, 1.7438241639662895, 0.17877381008658313, 0.21997679671829612, 0.43375237351717855, -0.57839905502642, 0.34209577444414135, -0.26366532914873114, 1.0700940451035175, -0.9512143375191747, -0.6850989671874386, 0.21183117412430214, -0.4104742967296816, -1.0890895555885556, 0.36987011373475775, -1.0232701308222056, 0.044981104707034446, -0.0824754843912133, 2.092860328910299, 2.8344786758836196, 0.260552308604172, -0.2458360898438423, -1.2257665509409992, -1.1316510511315512, 0.32548178557719026, 0.6763374540496877, 0.6183684289996768, 0.22458715291167278, -0.10773707471439793, 0.14631716285290056, -0.25856157950527603, 0.3949298005054963, 0.014701924255192494, 0.04254310141261005, -0.3038555542985175, 1.3746376476163982, -1.0525689185942786, 1.8677556254708725, -0.9544443715719576, 0.6250657420707972, -0.6597264515616512, 1.2000128640230874, -1.921474505487477, 0.10359809264203092, 0.14030400767650186, -0.24415105688321234, 0.09908985392907203, 0.11762629422038864, -0.40161956844729146, -0.32560451956022274, -0.2742954646454567, 0.7033588244428957, 1.044708085637379, 1.3432802304882736, -0.48809055516302796, -0.40759577124501833, -0.23367711063773317, 1.0357161154696715, -2.035454205328424, -0.3275881726844608, -0.5365535854449085, 0.5715003149914503, 0.7005392956847408, -0.6098133766978422, 0.13932592576040911, -0.7696519088160988, -0.756068093698991, -2.6222547596454278, -0.47657293861878464, 1.1639948628729075, -1.4642275879391387, -0.38596602153173, -0.5421683648952816, 0.10309907483896115, 0.2639944083236471, 0.09410435510004495, -0.6567099939622915, -0.2203570095662532, -1.881779224440967, 0.41613232309439224, 0.7655415853330867, -1.4245542342590862], \"yaxis\": \"y9\"}, {\"line\": {\"color\": \"rgba(128, 128, 128, 1.0)\", \"dash\": \"solid\", \"shape\": \"linear\", \"width\": 1.3}, \"marker\": {\"size\": 2, \"symbol\": \"circle\"}, \"mode\": \"markers\", \"name\": \"C\", \"text\": \"\", \"type\": \"scatter\", \"x\": [-0.3643496606765255, 0.026742083793018775, 0.3584549394564874, -0.15087399036258875, 0.7692264311391451, -0.9607394936456178, 1.099364393084451, 2.0413594007607077, -0.9589429120315346, -1.0151262656536937, -2.7705342521888636, 0.04519916765724038, -1.0324039775286689, 0.21166535206455778, 0.9519171224472974, -0.8073326446901398, -0.11985422234986415, -0.1234321641152109, 0.9187427563080505, -1.5763765046502152, 0.48951503176455424, -0.278969609256558, -0.3648383818684051, -0.007140551384771878, 0.824952324575092, 1.012484922632672, 0.5845377044183931, -1.2711783578576223, -0.36902106237264026, 0.012682393985313328, 0.3374744579584474, 1.0374153302021154, 0.8674581281533991, 0.49520661962696927, -0.2181122070140142, -0.4198441589123327, -0.22085215002039907, -0.14099689419147918, -0.9772412761380672, -0.9091883734093862, -1.5686850852517986, 0.12633424708785124, 0.4249983112725074, -0.15071571160517683, -0.8190528021055005, -0.5843142509340462, 1.009127911825222, -0.2532746339494671, 0.8382486387582775, 0.2987780822239634, -0.42940441705743443, 0.12942894672747557, -0.3784668801032414, -0.36623302074540903, 1.9636781681839237, -0.694293703929343, 0.18243687176223544, 0.44970065303344275, -0.5585085694844554, 0.5781469849286903, -1.478679342255676, -2.2017812855469296, -0.22766449165792724, -0.9850956709230758, 0.06535721379319329, 1.6247637881367891, 0.9388172664094236, 0.5604816763327075, 0.2297458405763916, 0.5705488391936526, -0.5429901589467797, -1.4375484759630257, 1.149625790934575, -1.8706089909902677, 0.6574935076546705, 0.3922469509849665, -0.3283399439671376, -0.7082986794613881, -1.3012155638305742, -0.47344112138941563, 0.025524978856013302, -0.6078471413136215, 0.6221060033789865, -0.8425812105486945, -1.9731018326838081, -2.085182182082291, 0.7211728722787665, 1.5764475887837608, 0.17856892843054062, 0.09394500672765961, -0.838783815812583, -2.0640038711962796, 0.07541148221711562, 0.011988483697282544, 1.156875251344672, -0.32642331073805275, -1.0002773938460705, -0.409558017985458, -1.6432367398217418, -1.458768728092791], \"xaxis\": \"x10\", \"y\": [-1.1186463499542998, 1.2677912975381758, 0.36076316284766746, -0.594562609277583, -0.4685633922208175, -0.7414270275053735, -1.2620028022058527, -0.2633575322313773, -0.13705740516672574, -0.6779505642675806, -0.2026716055278497, 1.6258578058108586, 0.24708350229743825, 0.6924231043760657, -1.5136756150318582, 0.18387379001212456, -1.0758932407544046, -1.1277833413495375, -0.09007994172368866, 1.7438241639662895, 0.17877381008658313, 0.21997679671829612, 0.43375237351717855, -0.57839905502642, 0.34209577444414135, -0.26366532914873114, 1.0700940451035175, -0.9512143375191747, -0.6850989671874386, 0.21183117412430214, -0.4104742967296816, -1.0890895555885556, 0.36987011373475775, -1.0232701308222056, 0.044981104707034446, -0.0824754843912133, 2.092860328910299, 2.8344786758836196, 0.260552308604172, -0.2458360898438423, -1.2257665509409992, -1.1316510511315512, 0.32548178557719026, 0.6763374540496877, 0.6183684289996768, 0.22458715291167278, -0.10773707471439793, 0.14631716285290056, -0.25856157950527603, 0.3949298005054963, 0.014701924255192494, 0.04254310141261005, -0.3038555542985175, 1.3746376476163982, -1.0525689185942786, 1.8677556254708725, -0.9544443715719576, 0.6250657420707972, -0.6597264515616512, 1.2000128640230874, -1.921474505487477, 0.10359809264203092, 0.14030400767650186, -0.24415105688321234, 0.09908985392907203, 0.11762629422038864, -0.40161956844729146, -0.32560451956022274, -0.2742954646454567, 0.7033588244428957, 1.044708085637379, 1.3432802304882736, -0.48809055516302796, -0.40759577124501833, -0.23367711063773317, 1.0357161154696715, -2.035454205328424, -0.3275881726844608, -0.5365535854449085, 0.5715003149914503, 0.7005392956847408, -0.6098133766978422, 0.13932592576040911, -0.7696519088160988, -0.756068093698991, -2.6222547596454278, -0.47657293861878464, 1.1639948628729075, -1.4642275879391387, -0.38596602153173, -0.5421683648952816, 0.10309907483896115, 0.2639944083236471, 0.09410435510004495, -0.6567099939622915, -0.2203570095662532, -1.881779224440967, 0.41613232309439224, 0.7655415853330867, -1.4245542342590862], \"yaxis\": \"y10\"}, {\"histfunc\": \"count\", \"histnorm\": \"\", \"marker\": {\"color\": \"rgba(50, 171, 96, 1.0)\", \"line\": {\"color\": \"#4D5663\", \"width\": 1.3}}, \"name\": \"C\", \"nbinsx\": 10, \"opacity\": 0.8, \"orientation\": \"v\", \"type\": \"histogram\", \"x\": [-1.1186463499542998, 1.2677912975381758, 0.36076316284766746, -0.594562609277583, -0.4685633922208175, -0.7414270275053735, -1.2620028022058527, -0.2633575322313773, -0.13705740516672574, -0.6779505642675806, -0.2026716055278497, 1.6258578058108586, 0.24708350229743825, 0.6924231043760657, -1.5136756150318582, 0.18387379001212456, -1.0758932407544046, -1.1277833413495375, -0.09007994172368866, 1.7438241639662895, 0.17877381008658313, 0.21997679671829612, 0.43375237351717855, -0.57839905502642, 0.34209577444414135, -0.26366532914873114, 1.0700940451035175, -0.9512143375191747, -0.6850989671874386, 0.21183117412430214, -0.4104742967296816, -1.0890895555885556, 0.36987011373475775, -1.0232701308222056, 0.044981104707034446, -0.0824754843912133, 2.092860328910299, 2.8344786758836196, 0.260552308604172, -0.2458360898438423, -1.2257665509409992, -1.1316510511315512, 0.32548178557719026, 0.6763374540496877, 0.6183684289996768, 0.22458715291167278, -0.10773707471439793, 0.14631716285290056, -0.25856157950527603, 0.3949298005054963, 0.014701924255192494, 0.04254310141261005, -0.3038555542985175, 1.3746376476163982, -1.0525689185942786, 1.8677556254708725, -0.9544443715719576, 0.6250657420707972, -0.6597264515616512, 1.2000128640230874, -1.921474505487477, 0.10359809264203092, 0.14030400767650186, -0.24415105688321234, 0.09908985392907203, 0.11762629422038864, -0.40161956844729146, -0.32560451956022274, -0.2742954646454567, 0.7033588244428957, 1.044708085637379, 1.3432802304882736, -0.48809055516302796, -0.40759577124501833, -0.23367711063773317, 1.0357161154696715, -2.035454205328424, -0.3275881726844608, -0.5365535854449085, 0.5715003149914503, 0.7005392956847408, -0.6098133766978422, 0.13932592576040911, -0.7696519088160988, -0.756068093698991, -2.6222547596454278, -0.47657293861878464, 1.1639948628729075, -1.4642275879391387, -0.38596602153173, -0.5421683648952816, 0.10309907483896115, 0.2639944083236471, 0.09410435510004495, -0.6567099939622915, -0.2203570095662532, -1.881779224440967, 0.41613232309439224, 0.7655415853330867, -1.4245542342590862], \"xaxis\": \"x11\", \"yaxis\": \"y11\"}, {\"line\": {\"color\": \"rgba(128, 128, 128, 1.0)\", \"dash\": \"solid\", \"shape\": \"linear\", \"width\": 1.3}, \"marker\": {\"size\": 2, \"symbol\": \"circle\"}, \"mode\": \"markers\", \"name\": \"C\", \"text\": \"\", \"type\": \"scatter\", \"x\": [-0.6489732176465235, -0.41469620685869946, -0.7371821797185605, -0.9768777099594689, -0.22711856500745847, 2.54026166785655, 0.15537859565815373, -0.9775530087225272, 2.1618950609150063, -1.62519664198678, 0.21236468315567575, 1.3459918522282894, 0.08370362006998518, 0.7394987862241378, 0.6539134662590035, -0.7086034819362234, 1.6417074272652397, 0.8369405076533828, -0.1704799982098994, -0.6549938398194295, -0.5483941513527122, -1.0447976323516879, -0.8018209373504784, 0.9465864367131726, 0.6825721074052299, 0.7887445296778326, -0.07546641130273239, 0.9536526696779729, 0.4438010796827428, -2.2370489036955785, -0.6698273819555984, 0.20635471129522778, 2.6020926738257306, 1.0709247935134785, 0.32384649714279573, 0.09885999146630725, -2.619846279753586, -0.46368625253882917, 1.8712323092911936, 0.05486969328773147, -1.1935146053370786, -0.16610251307721524, 0.6384990529938278, 1.4038901310185594, -0.27245345648714625, 0.6216184998596498, -1.2889792680352745, 0.3087510888991206, 0.7360554150652998, -0.5165922648054353, 1.3395981597477955, -0.5252602248023504, 0.6099177946814479, -1.0996073656442549, 2.8542098952108206, -0.8285294637490741, -0.11911381103015203, -1.2557955685428008, 0.20494733090020398, 1.447145307689846, -0.10189582644921229, -2.340645851858345, 0.905048221674501, -3.2847949833595678, 1.1954851366552612, -0.5849358200331003, 0.30759900650876176, -1.4237600566252469, 1.156013455755697, -1.4013371187352321, -1.1940724679311008, 0.6717037121348988, 0.29877179423852096, 0.0735572848097489, -0.9995298211801902, -0.7382077941967837, -0.8081365209550897, 0.2597666777870895, 0.7055084707601808, -2.0317763614359197, 1.0858361132082317, 0.2245567699104668, 0.19531027958986188, 1.7143659929154766, -0.07210747828589123, 0.6727003522455439, -0.10537352910610093, 1.4134671690171892, 0.6044508884083378, 1.0463998481695964, 0.04921068006225297, -0.5367797534585702, -0.4983033200797242, 1.6722949355998922, 0.5433310212695938, -0.31371004745330844, 0.6080594834764896, 0.05958357598335059, -0.9994953363575223, 0.3057815249245013], \"xaxis\": \"x12\", \"y\": [-1.1186463499542998, 1.2677912975381758, 0.36076316284766746, -0.594562609277583, -0.4685633922208175, -0.7414270275053735, -1.2620028022058527, -0.2633575322313773, -0.13705740516672574, -0.6779505642675806, -0.2026716055278497, 1.6258578058108586, 0.24708350229743825, 0.6924231043760657, -1.5136756150318582, 0.18387379001212456, -1.0758932407544046, -1.1277833413495375, -0.09007994172368866, 1.7438241639662895, 0.17877381008658313, 0.21997679671829612, 0.43375237351717855, -0.57839905502642, 0.34209577444414135, -0.26366532914873114, 1.0700940451035175, -0.9512143375191747, -0.6850989671874386, 0.21183117412430214, -0.4104742967296816, -1.0890895555885556, 0.36987011373475775, -1.0232701308222056, 0.044981104707034446, -0.0824754843912133, 2.092860328910299, 2.8344786758836196, 0.260552308604172, -0.2458360898438423, -1.2257665509409992, -1.1316510511315512, 0.32548178557719026, 0.6763374540496877, 0.6183684289996768, 0.22458715291167278, -0.10773707471439793, 0.14631716285290056, -0.25856157950527603, 0.3949298005054963, 0.014701924255192494, 0.04254310141261005, -0.3038555542985175, 1.3746376476163982, -1.0525689185942786, 1.8677556254708725, -0.9544443715719576, 0.6250657420707972, -0.6597264515616512, 1.2000128640230874, -1.921474505487477, 0.10359809264203092, 0.14030400767650186, -0.24415105688321234, 0.09908985392907203, 0.11762629422038864, -0.40161956844729146, -0.32560451956022274, -0.2742954646454567, 0.7033588244428957, 1.044708085637379, 1.3432802304882736, -0.48809055516302796, -0.40759577124501833, -0.23367711063773317, 1.0357161154696715, -2.035454205328424, -0.3275881726844608, -0.5365535854449085, 0.5715003149914503, 0.7005392956847408, -0.6098133766978422, 0.13932592576040911, -0.7696519088160988, -0.756068093698991, -2.6222547596454278, -0.47657293861878464, 1.1639948628729075, -1.4642275879391387, -0.38596602153173, -0.5421683648952816, 0.10309907483896115, 0.2639944083236471, 0.09410435510004495, -0.6567099939622915, -0.2203570095662532, -1.881779224440967, 0.41613232309439224, 0.7655415853330867, -1.4245542342590862], \"yaxis\": \"y12\"}, {\"line\": {\"color\": \"rgba(128, 128, 128, 1.0)\", \"dash\": \"solid\", \"shape\": \"linear\", \"width\": 1.3}, \"marker\": {\"size\": 2, \"symbol\": \"circle\"}, \"mode\": \"markers\", \"name\": \"D\", \"text\": \"\", \"type\": \"scatter\", \"x\": [-3.1903388189260506, 0.23396036411163004, 1.1589655786036386, -0.48300006152562525, -1.5103337587243804, -0.5044248859027471, 1.182281645215199, 0.42006775240638894, -0.8810298974091847, 0.5039382873693414, -0.731266004129346, 0.0638361921822204, -1.0652754263641049, -0.9041076466885405, -0.9048795324169541, -0.7972587761240022, -0.3675670471291356, 0.28082146701438343, -0.08633039339250868, 0.040217153150704704, -0.6690624158655928, 1.2627520886852726, 0.8930334427555254, -0.5720828983632429, -0.10829789239054843, 0.40614750365984825, -1.103865178801149, -0.8121010383177608, 0.10072184675344648, -0.5769169489648015, -1.064607754248978, 0.2803088090050602, 0.27784983531770807, -0.41074940453263725, 0.5858394974501357, -1.1873780187790168, -1.3497579113052596, 1.255295743570665, -0.6927268600950082, -0.36127203424382964, -0.34463610823926666, -1.2009964413381025, 1.3923569898979733, 0.7787889527113488, 1.8663933162193367, -0.7896518608815303, 0.8604392983684553, 0.5735613938299836, -1.2802106717549009, 0.44164511860901834, -1.1744289444226033, -6.0149059195747345e-06, -0.6467481917357054, 1.2327214192099953, -0.28623017443738186, -1.7412710235687312, -0.9758958392945769, 1.600310178717572, -0.6658748622479977, 0.36105544712213045, 1.2539490446516994, 1.0583809422068344, -0.597617455493197, -0.45722923476382665, -1.2684784915115794, -0.9644190323469388, -0.8772580574236023, 0.085838476310741, 0.48674958148652886, 0.9676561629391955, -2.13767913287318, -2.955837736363831, -1.7764340900302908, 1.272615789302066, -0.37425080144249273, 1.026973987239565, 2.100477946764772, -0.9807225547579596, -0.7533250886156038, -0.03650463249437804, 0.3529513644456242, -1.3607833800573281, -1.7417396477441502, -1.2994294895974514, 0.32077583616185623, -0.4244455156618559, 0.8905320772769698, -1.3186547947430771, 0.12166001368478756, -1.2191124444406027, 0.24654677954656246, -0.2623982371892286, 0.2624213780227509, 0.09375602776369371, -0.8396352448027719, -0.5553431002419489, -0.06731001731720351, -0.49821737363514945, 2.474916165429662, -1.6424571327832522], \"xaxis\": \"x13\", \"y\": [-0.6489732176465235, -0.41469620685869946, -0.7371821797185605, -0.9768777099594689, -0.22711856500745847, 2.54026166785655, 0.15537859565815373, -0.9775530087225272, 2.1618950609150063, -1.62519664198678, 0.21236468315567575, 1.3459918522282894, 0.08370362006998518, 0.7394987862241378, 0.6539134662590035, -0.7086034819362234, 1.6417074272652397, 0.8369405076533828, -0.1704799982098994, -0.6549938398194295, -0.5483941513527122, -1.0447976323516879, -0.8018209373504784, 0.9465864367131726, 0.6825721074052299, 0.7887445296778326, -0.07546641130273239, 0.9536526696779729, 0.4438010796827428, -2.2370489036955785, -0.6698273819555984, 0.20635471129522778, 2.6020926738257306, 1.0709247935134785, 0.32384649714279573, 0.09885999146630725, -2.619846279753586, -0.46368625253882917, 1.8712323092911936, 0.05486969328773147, -1.1935146053370786, -0.16610251307721524, 0.6384990529938278, 1.4038901310185594, -0.27245345648714625, 0.6216184998596498, -1.2889792680352745, 0.3087510888991206, 0.7360554150652998, -0.5165922648054353, 1.3395981597477955, -0.5252602248023504, 0.6099177946814479, -1.0996073656442549, 2.8542098952108206, -0.8285294637490741, -0.11911381103015203, -1.2557955685428008, 0.20494733090020398, 1.447145307689846, -0.10189582644921229, -2.340645851858345, 0.905048221674501, -3.2847949833595678, 1.1954851366552612, -0.5849358200331003, 0.30759900650876176, -1.4237600566252469, 1.156013455755697, -1.4013371187352321, -1.1940724679311008, 0.6717037121348988, 0.29877179423852096, 0.0735572848097489, -0.9995298211801902, -0.7382077941967837, -0.8081365209550897, 0.2597666777870895, 0.7055084707601808, -2.0317763614359197, 1.0858361132082317, 0.2245567699104668, 0.19531027958986188, 1.7143659929154766, -0.07210747828589123, 0.6727003522455439, -0.10537352910610093, 1.4134671690171892, 0.6044508884083378, 1.0463998481695964, 0.04921068006225297, -0.5367797534585702, -0.4983033200797242, 1.6722949355998922, 0.5433310212695938, -0.31371004745330844, 0.6080594834764896, 0.05958357598335059, -0.9994953363575223, 0.3057815249245013], \"yaxis\": \"y13\"}, {\"line\": {\"color\": \"rgba(128, 128, 128, 1.0)\", \"dash\": \"solid\", \"shape\": \"linear\", \"width\": 1.3}, \"marker\": {\"size\": 2, \"symbol\": \"circle\"}, \"mode\": \"markers\", \"name\": \"D\", \"text\": \"\", \"type\": \"scatter\", \"x\": [-0.3643496606765255, 0.026742083793018775, 0.3584549394564874, -0.15087399036258875, 0.7692264311391451, -0.9607394936456178, 1.099364393084451, 2.0413594007607077, -0.9589429120315346, -1.0151262656536937, -2.7705342521888636, 0.04519916765724038, -1.0324039775286689, 0.21166535206455778, 0.9519171224472974, -0.8073326446901398, -0.11985422234986415, -0.1234321641152109, 0.9187427563080505, -1.5763765046502152, 0.48951503176455424, -0.278969609256558, -0.3648383818684051, -0.007140551384771878, 0.824952324575092, 1.012484922632672, 0.5845377044183931, -1.2711783578576223, -0.36902106237264026, 0.012682393985313328, 0.3374744579584474, 1.0374153302021154, 0.8674581281533991, 0.49520661962696927, -0.2181122070140142, -0.4198441589123327, -0.22085215002039907, -0.14099689419147918, -0.9772412761380672, -0.9091883734093862, -1.5686850852517986, 0.12633424708785124, 0.4249983112725074, -0.15071571160517683, -0.8190528021055005, -0.5843142509340462, 1.009127911825222, -0.2532746339494671, 0.8382486387582775, 0.2987780822239634, -0.42940441705743443, 0.12942894672747557, -0.3784668801032414, -0.36623302074540903, 1.9636781681839237, -0.694293703929343, 0.18243687176223544, 0.44970065303344275, -0.5585085694844554, 0.5781469849286903, -1.478679342255676, -2.2017812855469296, -0.22766449165792724, -0.9850956709230758, 0.06535721379319329, 1.6247637881367891, 0.9388172664094236, 0.5604816763327075, 0.2297458405763916, 0.5705488391936526, -0.5429901589467797, -1.4375484759630257, 1.149625790934575, -1.8706089909902677, 0.6574935076546705, 0.3922469509849665, -0.3283399439671376, -0.7082986794613881, -1.3012155638305742, -0.47344112138941563, 0.025524978856013302, -0.6078471413136215, 0.6221060033789865, -0.8425812105486945, -1.9731018326838081, -2.085182182082291, 0.7211728722787665, 1.5764475887837608, 0.17856892843054062, 0.09394500672765961, -0.838783815812583, -2.0640038711962796, 0.07541148221711562, 0.011988483697282544, 1.156875251344672, -0.32642331073805275, -1.0002773938460705, -0.409558017985458, -1.6432367398217418, -1.458768728092791], \"xaxis\": \"x14\", \"y\": [-0.6489732176465235, -0.41469620685869946, -0.7371821797185605, -0.9768777099594689, -0.22711856500745847, 2.54026166785655, 0.15537859565815373, -0.9775530087225272, 2.1618950609150063, -1.62519664198678, 0.21236468315567575, 1.3459918522282894, 0.08370362006998518, 0.7394987862241378, 0.6539134662590035, -0.7086034819362234, 1.6417074272652397, 0.8369405076533828, -0.1704799982098994, -0.6549938398194295, -0.5483941513527122, -1.0447976323516879, -0.8018209373504784, 0.9465864367131726, 0.6825721074052299, 0.7887445296778326, -0.07546641130273239, 0.9536526696779729, 0.4438010796827428, -2.2370489036955785, -0.6698273819555984, 0.20635471129522778, 2.6020926738257306, 1.0709247935134785, 0.32384649714279573, 0.09885999146630725, -2.619846279753586, -0.46368625253882917, 1.8712323092911936, 0.05486969328773147, -1.1935146053370786, -0.16610251307721524, 0.6384990529938278, 1.4038901310185594, -0.27245345648714625, 0.6216184998596498, -1.2889792680352745, 0.3087510888991206, 0.7360554150652998, -0.5165922648054353, 1.3395981597477955, -0.5252602248023504, 0.6099177946814479, -1.0996073656442549, 2.8542098952108206, -0.8285294637490741, -0.11911381103015203, -1.2557955685428008, 0.20494733090020398, 1.447145307689846, -0.10189582644921229, -2.340645851858345, 0.905048221674501, -3.2847949833595678, 1.1954851366552612, -0.5849358200331003, 0.30759900650876176, -1.4237600566252469, 1.156013455755697, -1.4013371187352321, -1.1940724679311008, 0.6717037121348988, 0.29877179423852096, 0.0735572848097489, -0.9995298211801902, -0.7382077941967837, -0.8081365209550897, 0.2597666777870895, 0.7055084707601808, -2.0317763614359197, 1.0858361132082317, 0.2245567699104668, 0.19531027958986188, 1.7143659929154766, -0.07210747828589123, 0.6727003522455439, -0.10537352910610093, 1.4134671690171892, 0.6044508884083378, 1.0463998481695964, 0.04921068006225297, -0.5367797534585702, -0.4983033200797242, 1.6722949355998922, 0.5433310212695938, -0.31371004745330844, 0.6080594834764896, 0.05958357598335059, -0.9994953363575223, 0.3057815249245013], \"yaxis\": \"y14\"}, {\"line\": {\"color\": \"rgba(128, 128, 128, 1.0)\", \"dash\": \"solid\", \"shape\": \"linear\", \"width\": 1.3}, \"marker\": {\"size\": 2, \"symbol\": \"circle\"}, \"mode\": \"markers\", \"name\": \"D\", \"text\": \"\", \"type\": \"scatter\", \"x\": [-1.1186463499542998, 1.2677912975381758, 0.36076316284766746, -0.594562609277583, -0.4685633922208175, -0.7414270275053735, -1.2620028022058527, -0.2633575322313773, -0.13705740516672574, -0.6779505642675806, -0.2026716055278497, 1.6258578058108586, 0.24708350229743825, 0.6924231043760657, -1.5136756150318582, 0.18387379001212456, -1.0758932407544046, -1.1277833413495375, -0.09007994172368866, 1.7438241639662895, 0.17877381008658313, 0.21997679671829612, 0.43375237351717855, -0.57839905502642, 0.34209577444414135, -0.26366532914873114, 1.0700940451035175, -0.9512143375191747, -0.6850989671874386, 0.21183117412430214, -0.4104742967296816, -1.0890895555885556, 0.36987011373475775, -1.0232701308222056, 0.044981104707034446, -0.0824754843912133, 2.092860328910299, 2.8344786758836196, 0.260552308604172, -0.2458360898438423, -1.2257665509409992, -1.1316510511315512, 0.32548178557719026, 0.6763374540496877, 0.6183684289996768, 0.22458715291167278, -0.10773707471439793, 0.14631716285290056, -0.25856157950527603, 0.3949298005054963, 0.014701924255192494, 0.04254310141261005, -0.3038555542985175, 1.3746376476163982, -1.0525689185942786, 1.8677556254708725, -0.9544443715719576, 0.6250657420707972, -0.6597264515616512, 1.2000128640230874, -1.921474505487477, 0.10359809264203092, 0.14030400767650186, -0.24415105688321234, 0.09908985392907203, 0.11762629422038864, -0.40161956844729146, -0.32560451956022274, -0.2742954646454567, 0.7033588244428957, 1.044708085637379, 1.3432802304882736, -0.48809055516302796, -0.40759577124501833, -0.23367711063773317, 1.0357161154696715, -2.035454205328424, -0.3275881726844608, -0.5365535854449085, 0.5715003149914503, 0.7005392956847408, -0.6098133766978422, 0.13932592576040911, -0.7696519088160988, -0.756068093698991, -2.6222547596454278, -0.47657293861878464, 1.1639948628729075, -1.4642275879391387, -0.38596602153173, -0.5421683648952816, 0.10309907483896115, 0.2639944083236471, 0.09410435510004495, -0.6567099939622915, -0.2203570095662532, -1.881779224440967, 0.41613232309439224, 0.7655415853330867, -1.4245542342590862], \"xaxis\": \"x15\", \"y\": [-0.6489732176465235, -0.41469620685869946, -0.7371821797185605, -0.9768777099594689, -0.22711856500745847, 2.54026166785655, 0.15537859565815373, -0.9775530087225272, 2.1618950609150063, -1.62519664198678, 0.21236468315567575, 1.3459918522282894, 0.08370362006998518, 0.7394987862241378, 0.6539134662590035, -0.7086034819362234, 1.6417074272652397, 0.8369405076533828, -0.1704799982098994, -0.6549938398194295, -0.5483941513527122, -1.0447976323516879, -0.8018209373504784, 0.9465864367131726, 0.6825721074052299, 0.7887445296778326, -0.07546641130273239, 0.9536526696779729, 0.4438010796827428, -2.2370489036955785, -0.6698273819555984, 0.20635471129522778, 2.6020926738257306, 1.0709247935134785, 0.32384649714279573, 0.09885999146630725, -2.619846279753586, -0.46368625253882917, 1.8712323092911936, 0.05486969328773147, -1.1935146053370786, -0.16610251307721524, 0.6384990529938278, 1.4038901310185594, -0.27245345648714625, 0.6216184998596498, -1.2889792680352745, 0.3087510888991206, 0.7360554150652998, -0.5165922648054353, 1.3395981597477955, -0.5252602248023504, 0.6099177946814479, -1.0996073656442549, 2.8542098952108206, -0.8285294637490741, -0.11911381103015203, -1.2557955685428008, 0.20494733090020398, 1.447145307689846, -0.10189582644921229, -2.340645851858345, 0.905048221674501, -3.2847949833595678, 1.1954851366552612, -0.5849358200331003, 0.30759900650876176, -1.4237600566252469, 1.156013455755697, -1.4013371187352321, -1.1940724679311008, 0.6717037121348988, 0.29877179423852096, 0.0735572848097489, -0.9995298211801902, -0.7382077941967837, -0.8081365209550897, 0.2597666777870895, 0.7055084707601808, -2.0317763614359197, 1.0858361132082317, 0.2245567699104668, 0.19531027958986188, 1.7143659929154766, -0.07210747828589123, 0.6727003522455439, -0.10537352910610093, 1.4134671690171892, 0.6044508884083378, 1.0463998481695964, 0.04921068006225297, -0.5367797534585702, -0.4983033200797242, 1.6722949355998922, 0.5433310212695938, -0.31371004745330844, 0.6080594834764896, 0.05958357598335059, -0.9994953363575223, 0.3057815249245013], \"yaxis\": \"y15\"}, {\"histfunc\": \"count\", \"histnorm\": \"\", \"marker\": {\"color\": \"rgba(128, 0, 128, 1.0)\", \"line\": {\"color\": \"#4D5663\", \"width\": 1.3}}, \"name\": \"D\", \"nbinsx\": 10, \"opacity\": 0.8, \"orientation\": \"v\", \"type\": \"histogram\", \"x\": [-0.6489732176465235, -0.41469620685869946, -0.7371821797185605, -0.9768777099594689, -0.22711856500745847, 2.54026166785655, 0.15537859565815373, -0.9775530087225272, 2.1618950609150063, -1.62519664198678, 0.21236468315567575, 1.3459918522282894, 0.08370362006998518, 0.7394987862241378, 0.6539134662590035, -0.7086034819362234, 1.6417074272652397, 0.8369405076533828, -0.1704799982098994, -0.6549938398194295, -0.5483941513527122, -1.0447976323516879, -0.8018209373504784, 0.9465864367131726, 0.6825721074052299, 0.7887445296778326, -0.07546641130273239, 0.9536526696779729, 0.4438010796827428, -2.2370489036955785, -0.6698273819555984, 0.20635471129522778, 2.6020926738257306, 1.0709247935134785, 0.32384649714279573, 0.09885999146630725, -2.619846279753586, -0.46368625253882917, 1.8712323092911936, 0.05486969328773147, -1.1935146053370786, -0.16610251307721524, 0.6384990529938278, 1.4038901310185594, -0.27245345648714625, 0.6216184998596498, -1.2889792680352745, 0.3087510888991206, 0.7360554150652998, -0.5165922648054353, 1.3395981597477955, -0.5252602248023504, 0.6099177946814479, -1.0996073656442549, 2.8542098952108206, -0.8285294637490741, -0.11911381103015203, -1.2557955685428008, 0.20494733090020398, 1.447145307689846, -0.10189582644921229, -2.340645851858345, 0.905048221674501, -3.2847949833595678, 1.1954851366552612, -0.5849358200331003, 0.30759900650876176, -1.4237600566252469, 1.156013455755697, -1.4013371187352321, -1.1940724679311008, 0.6717037121348988, 0.29877179423852096, 0.0735572848097489, -0.9995298211801902, -0.7382077941967837, -0.8081365209550897, 0.2597666777870895, 0.7055084707601808, -2.0317763614359197, 1.0858361132082317, 0.2245567699104668, 0.19531027958986188, 1.7143659929154766, -0.07210747828589123, 0.6727003522455439, -0.10537352910610093, 1.4134671690171892, 0.6044508884083378, 1.0463998481695964, 0.04921068006225297, -0.5367797534585702, -0.4983033200797242, 1.6722949355998922, 0.5433310212695938, -0.31371004745330844, 0.6080594834764896, 0.05958357598335059, -0.9994953363575223, 0.3057815249245013], \"xaxis\": \"x16\", \"yaxis\": \"y16\"}],                        {\"bargap\": 0.02, \"legend\": {\"bgcolor\": \"#F5F6F9\", \"font\": {\"color\": \"#4D5663\"}}, \"paper_bgcolor\": \"#F5F6F9\", \"plot_bgcolor\": \"#F5F6F9\", \"showlegend\": false, \"template\": {\"data\": {\"bar\": [{\"error_x\": {\"color\": \"#2a3f5f\"}, \"error_y\": {\"color\": \"#2a3f5f\"}, \"marker\": {\"line\": {\"color\": \"#E5ECF6\", \"width\": 0.5}}, \"type\": \"bar\"}], \"barpolar\": [{\"marker\": {\"line\": {\"color\": \"#E5ECF6\", \"width\": 0.5}}, \"type\": \"barpolar\"}], \"carpet\": [{\"aaxis\": {\"endlinecolor\": \"#2a3f5f\", \"gridcolor\": \"white\", \"linecolor\": \"white\", \"minorgridcolor\": \"white\", \"startlinecolor\": \"#2a3f5f\"}, \"baxis\": {\"endlinecolor\": \"#2a3f5f\", \"gridcolor\": \"white\", \"linecolor\": \"white\", \"minorgridcolor\": \"white\", \"startlinecolor\": \"#2a3f5f\"}, \"type\": \"carpet\"}], \"choropleth\": [{\"colorbar\": {\"outlinewidth\": 0, \"ticks\": \"\"}, \"type\": \"choropleth\"}], \"contour\": [{\"colorbar\": {\"outlinewidth\": 0, \"ticks\": \"\"}, \"colorscale\": [[0.0, \"#0d0887\"], [0.1111111111111111, \"#46039f\"], [0.2222222222222222, \"#7201a8\"], [0.3333333333333333, \"#9c179e\"], [0.4444444444444444, \"#bd3786\"], [0.5555555555555556, \"#d8576b\"], [0.6666666666666666, \"#ed7953\"], [0.7777777777777778, \"#fb9f3a\"], [0.8888888888888888, \"#fdca26\"], [1.0, \"#f0f921\"]], \"type\": \"contour\"}], \"contourcarpet\": [{\"colorbar\": {\"outlinewidth\": 0, \"ticks\": \"\"}, \"type\": \"contourcarpet\"}], \"heatmap\": [{\"colorbar\": {\"outlinewidth\": 0, \"ticks\": \"\"}, \"colorscale\": [[0.0, \"#0d0887\"], [0.1111111111111111, \"#46039f\"], [0.2222222222222222, \"#7201a8\"], [0.3333333333333333, \"#9c179e\"], [0.4444444444444444, \"#bd3786\"], [0.5555555555555556, \"#d8576b\"], [0.6666666666666666, \"#ed7953\"], [0.7777777777777778, \"#fb9f3a\"], [0.8888888888888888, \"#fdca26\"], [1.0, \"#f0f921\"]], \"type\": \"heatmap\"}], \"heatmapgl\": [{\"colorbar\": {\"outlinewidth\": 0, \"ticks\": \"\"}, \"colorscale\": [[0.0, \"#0d0887\"], [0.1111111111111111, \"#46039f\"], [0.2222222222222222, \"#7201a8\"], [0.3333333333333333, \"#9c179e\"], [0.4444444444444444, \"#bd3786\"], [0.5555555555555556, \"#d8576b\"], [0.6666666666666666, \"#ed7953\"], [0.7777777777777778, \"#fb9f3a\"], [0.8888888888888888, \"#fdca26\"], [1.0, \"#f0f921\"]], \"type\": \"heatmapgl\"}], \"histogram\": [{\"marker\": {\"colorbar\": {\"outlinewidth\": 0, \"ticks\": \"\"}}, \"type\": \"histogram\"}], \"histogram2d\": [{\"colorbar\": {\"outlinewidth\": 0, \"ticks\": \"\"}, \"colorscale\": [[0.0, \"#0d0887\"], [0.1111111111111111, \"#46039f\"], [0.2222222222222222, \"#7201a8\"], [0.3333333333333333, \"#9c179e\"], [0.4444444444444444, \"#bd3786\"], [0.5555555555555556, \"#d8576b\"], [0.6666666666666666, \"#ed7953\"], [0.7777777777777778, \"#fb9f3a\"], [0.8888888888888888, \"#fdca26\"], [1.0, \"#f0f921\"]], \"type\": \"histogram2d\"}], \"histogram2dcontour\": [{\"colorbar\": {\"outlinewidth\": 0, \"ticks\": \"\"}, \"colorscale\": [[0.0, \"#0d0887\"], [0.1111111111111111, \"#46039f\"], [0.2222222222222222, \"#7201a8\"], [0.3333333333333333, \"#9c179e\"], [0.4444444444444444, \"#bd3786\"], [0.5555555555555556, \"#d8576b\"], [0.6666666666666666, \"#ed7953\"], [0.7777777777777778, \"#fb9f3a\"], [0.8888888888888888, \"#fdca26\"], [1.0, \"#f0f921\"]], \"type\": \"histogram2dcontour\"}], \"mesh3d\": [{\"colorbar\": {\"outlinewidth\": 0, \"ticks\": \"\"}, \"type\": \"mesh3d\"}], \"parcoords\": [{\"line\": {\"colorbar\": {\"outlinewidth\": 0, \"ticks\": \"\"}}, \"type\": \"parcoords\"}], \"pie\": [{\"automargin\": true, \"type\": \"pie\"}], \"scatter\": [{\"marker\": {\"colorbar\": {\"outlinewidth\": 0, \"ticks\": \"\"}}, \"type\": \"scatter\"}], \"scatter3d\": [{\"line\": {\"colorbar\": {\"outlinewidth\": 0, \"ticks\": \"\"}}, \"marker\": {\"colorbar\": {\"outlinewidth\": 0, \"ticks\": \"\"}}, \"type\": \"scatter3d\"}], \"scattercarpet\": [{\"marker\": {\"colorbar\": {\"outlinewidth\": 0, \"ticks\": \"\"}}, \"type\": \"scattercarpet\"}], \"scattergeo\": [{\"marker\": {\"colorbar\": {\"outlinewidth\": 0, \"ticks\": \"\"}}, \"type\": \"scattergeo\"}], \"scattergl\": [{\"marker\": {\"colorbar\": {\"outlinewidth\": 0, \"ticks\": \"\"}}, \"type\": \"scattergl\"}], \"scattermapbox\": [{\"marker\": {\"colorbar\": {\"outlinewidth\": 0, \"ticks\": \"\"}}, \"type\": \"scattermapbox\"}], \"scatterpolar\": [{\"marker\": {\"colorbar\": {\"outlinewidth\": 0, \"ticks\": \"\"}}, \"type\": \"scatterpolar\"}], \"scatterpolargl\": [{\"marker\": {\"colorbar\": {\"outlinewidth\": 0, \"ticks\": \"\"}}, \"type\": \"scatterpolargl\"}], \"scatterternary\": [{\"marker\": {\"colorbar\": {\"outlinewidth\": 0, \"ticks\": \"\"}}, \"type\": \"scatterternary\"}], \"surface\": [{\"colorbar\": {\"outlinewidth\": 0, \"ticks\": \"\"}, \"colorscale\": [[0.0, \"#0d0887\"], [0.1111111111111111, \"#46039f\"], [0.2222222222222222, \"#7201a8\"], [0.3333333333333333, \"#9c179e\"], [0.4444444444444444, \"#bd3786\"], [0.5555555555555556, \"#d8576b\"], [0.6666666666666666, \"#ed7953\"], [0.7777777777777778, \"#fb9f3a\"], [0.8888888888888888, \"#fdca26\"], [1.0, \"#f0f921\"]], \"type\": \"surface\"}], \"table\": [{\"cells\": {\"fill\": {\"color\": \"#EBF0F8\"}, \"line\": {\"color\": \"white\"}}, \"header\": {\"fill\": {\"color\": \"#C8D4E3\"}, \"line\": {\"color\": \"white\"}}, \"type\": \"table\"}]}, \"layout\": {\"annotationdefaults\": {\"arrowcolor\": \"#2a3f5f\", \"arrowhead\": 0, \"arrowwidth\": 1}, \"coloraxis\": {\"colorbar\": {\"outlinewidth\": 0, \"ticks\": \"\"}}, \"colorscale\": {\"diverging\": [[0, \"#8e0152\"], [0.1, \"#c51b7d\"], [0.2, \"#de77ae\"], [0.3, \"#f1b6da\"], [0.4, \"#fde0ef\"], [0.5, \"#f7f7f7\"], [0.6, \"#e6f5d0\"], [0.7, \"#b8e186\"], [0.8, \"#7fbc41\"], [0.9, \"#4d9221\"], [1, \"#276419\"]], \"sequential\": [[0.0, \"#0d0887\"], [0.1111111111111111, \"#46039f\"], [0.2222222222222222, \"#7201a8\"], [0.3333333333333333, \"#9c179e\"], [0.4444444444444444, \"#bd3786\"], [0.5555555555555556, \"#d8576b\"], [0.6666666666666666, \"#ed7953\"], [0.7777777777777778, \"#fb9f3a\"], [0.8888888888888888, \"#fdca26\"], [1.0, \"#f0f921\"]], \"sequentialminus\": [[0.0, \"#0d0887\"], [0.1111111111111111, \"#46039f\"], [0.2222222222222222, \"#7201a8\"], [0.3333333333333333, \"#9c179e\"], [0.4444444444444444, \"#bd3786\"], [0.5555555555555556, \"#d8576b\"], [0.6666666666666666, \"#ed7953\"], [0.7777777777777778, \"#fb9f3a\"], [0.8888888888888888, \"#fdca26\"], [1.0, \"#f0f921\"]]}, \"colorway\": [\"#636efa\", \"#EF553B\", \"#00cc96\", \"#ab63fa\", \"#FFA15A\", \"#19d3f3\", \"#FF6692\", \"#B6E880\", \"#FF97FF\", \"#FECB52\"], \"font\": {\"color\": \"#2a3f5f\"}, \"geo\": {\"bgcolor\": \"white\", \"lakecolor\": \"white\", \"landcolor\": \"#E5ECF6\", \"showlakes\": true, \"showland\": true, \"subunitcolor\": \"white\"}, \"hoverlabel\": {\"align\": \"left\"}, \"hovermode\": \"closest\", \"mapbox\": {\"style\": \"light\"}, \"paper_bgcolor\": \"white\", \"plot_bgcolor\": \"#E5ECF6\", \"polar\": {\"angularaxis\": {\"gridcolor\": \"white\", \"linecolor\": \"white\", \"ticks\": \"\"}, \"bgcolor\": \"#E5ECF6\", \"radialaxis\": {\"gridcolor\": \"white\", \"linecolor\": \"white\", \"ticks\": \"\"}}, \"scene\": {\"xaxis\": {\"backgroundcolor\": \"#E5ECF6\", \"gridcolor\": \"white\", \"gridwidth\": 2, \"linecolor\": \"white\", \"showbackground\": true, \"ticks\": \"\", \"zerolinecolor\": \"white\"}, \"yaxis\": {\"backgroundcolor\": \"#E5ECF6\", \"gridcolor\": \"white\", \"gridwidth\": 2, \"linecolor\": \"white\", \"showbackground\": true, \"ticks\": \"\", \"zerolinecolor\": \"white\"}, \"zaxis\": {\"backgroundcolor\": \"#E5ECF6\", \"gridcolor\": \"white\", \"gridwidth\": 2, \"linecolor\": \"white\", \"showbackground\": true, \"ticks\": \"\", \"zerolinecolor\": \"white\"}}, \"shapedefaults\": {\"line\": {\"color\": \"#2a3f5f\"}}, \"ternary\": {\"aaxis\": {\"gridcolor\": \"white\", \"linecolor\": \"white\", \"ticks\": \"\"}, \"baxis\": {\"gridcolor\": \"white\", \"linecolor\": \"white\", \"ticks\": \"\"}, \"bgcolor\": \"#E5ECF6\", \"caxis\": {\"gridcolor\": \"white\", \"linecolor\": \"white\", \"ticks\": \"\"}}, \"title\": {\"x\": 0.05}, \"xaxis\": {\"automargin\": true, \"gridcolor\": \"white\", \"linecolor\": \"white\", \"ticks\": \"\", \"title\": {\"standoff\": 15}, \"zerolinecolor\": \"white\", \"zerolinewidth\": 2}, \"yaxis\": {\"automargin\": true, \"gridcolor\": \"white\", \"linecolor\": \"white\", \"ticks\": \"\", \"title\": {\"standoff\": 15}, \"zerolinecolor\": \"white\", \"zerolinewidth\": 2}}}, \"title\": {\"font\": {\"color\": \"#4D5663\"}}, \"xaxis\": {\"anchor\": \"y\", \"domain\": [0.0, 0.2125], \"gridcolor\": \"#E1E5ED\", \"showgrid\": false, \"tickfont\": {\"color\": \"#4D5663\"}, \"title\": {\"font\": {\"color\": \"#4D5663\"}, \"text\": \"\"}, \"zerolinecolor\": \"#E1E5ED\"}, \"xaxis10\": {\"anchor\": \"y10\", \"domain\": [0.2625, 0.475], \"gridcolor\": \"#E1E5ED\", \"showgrid\": false, \"tickfont\": {\"color\": \"#4D5663\"}, \"title\": {\"font\": {\"color\": \"#4D5663\"}, \"text\": \"\"}, \"zerolinecolor\": \"#E1E5ED\"}, \"xaxis11\": {\"anchor\": \"y11\", \"domain\": [0.525, 0.7375], \"gridcolor\": \"#E1E5ED\", \"showgrid\": false, \"tickfont\": {\"color\": \"#4D5663\"}, \"title\": {\"font\": {\"color\": \"#4D5663\"}, \"text\": \"\"}, \"zerolinecolor\": \"#E1E5ED\"}, \"xaxis12\": {\"anchor\": \"y12\", \"domain\": [0.7875, 1.0], \"gridcolor\": \"#E1E5ED\", \"showgrid\": false, \"tickfont\": {\"color\": \"#4D5663\"}, \"title\": {\"font\": {\"color\": \"#4D5663\"}, \"text\": \"\"}, \"zerolinecolor\": \"#E1E5ED\"}, \"xaxis13\": {\"anchor\": \"y13\", \"domain\": [0.0, 0.2125], \"gridcolor\": \"#E1E5ED\", \"showgrid\": false, \"tickfont\": {\"color\": \"#4D5663\"}, \"title\": {\"font\": {\"color\": \"#4D5663\"}, \"text\": \"\"}, \"zerolinecolor\": \"#E1E5ED\"}, \"xaxis14\": {\"anchor\": \"y14\", \"domain\": [0.2625, 0.475], \"gridcolor\": \"#E1E5ED\", \"showgrid\": false, \"tickfont\": {\"color\": \"#4D5663\"}, \"title\": {\"font\": {\"color\": \"#4D5663\"}, \"text\": \"\"}, \"zerolinecolor\": \"#E1E5ED\"}, \"xaxis15\": {\"anchor\": \"y15\", \"domain\": [0.525, 0.7375], \"gridcolor\": \"#E1E5ED\", \"showgrid\": false, \"tickfont\": {\"color\": \"#4D5663\"}, \"title\": {\"font\": {\"color\": \"#4D5663\"}, \"text\": \"\"}, \"zerolinecolor\": \"#E1E5ED\"}, \"xaxis16\": {\"anchor\": \"y16\", \"domain\": [0.7875, 1.0], \"gridcolor\": \"#E1E5ED\", \"showgrid\": false, \"tickfont\": {\"color\": \"#4D5663\"}, \"title\": {\"font\": {\"color\": \"#4D5663\"}, \"text\": \"\"}, \"zerolinecolor\": \"#E1E5ED\"}, \"xaxis2\": {\"anchor\": \"y2\", \"domain\": [0.2625, 0.475], \"gridcolor\": \"#E1E5ED\", \"showgrid\": false, \"tickfont\": {\"color\": \"#4D5663\"}, \"title\": {\"font\": {\"color\": \"#4D5663\"}, \"text\": \"\"}, \"zerolinecolor\": \"#E1E5ED\"}, \"xaxis3\": {\"anchor\": \"y3\", \"domain\": [0.525, 0.7375], \"gridcolor\": \"#E1E5ED\", \"showgrid\": false, \"tickfont\": {\"color\": \"#4D5663\"}, \"title\": {\"font\": {\"color\": \"#4D5663\"}, \"text\": \"\"}, \"zerolinecolor\": \"#E1E5ED\"}, \"xaxis4\": {\"anchor\": \"y4\", \"domain\": [0.7875, 1.0], \"gridcolor\": \"#E1E5ED\", \"showgrid\": false, \"tickfont\": {\"color\": \"#4D5663\"}, \"title\": {\"font\": {\"color\": \"#4D5663\"}, \"text\": \"\"}, \"zerolinecolor\": \"#E1E5ED\"}, \"xaxis5\": {\"anchor\": \"y5\", \"domain\": [0.0, 0.2125], \"gridcolor\": \"#E1E5ED\", \"showgrid\": false, \"tickfont\": {\"color\": \"#4D5663\"}, \"title\": {\"font\": {\"color\": \"#4D5663\"}, \"text\": \"\"}, \"zerolinecolor\": \"#E1E5ED\"}, \"xaxis6\": {\"anchor\": \"y6\", \"domain\": [0.2625, 0.475], \"gridcolor\": \"#E1E5ED\", \"showgrid\": false, \"tickfont\": {\"color\": \"#4D5663\"}, \"title\": {\"font\": {\"color\": \"#4D5663\"}, \"text\": \"\"}, \"zerolinecolor\": \"#E1E5ED\"}, \"xaxis7\": {\"anchor\": \"y7\", \"domain\": [0.525, 0.7375], \"gridcolor\": \"#E1E5ED\", \"showgrid\": false, \"tickfont\": {\"color\": \"#4D5663\"}, \"title\": {\"font\": {\"color\": \"#4D5663\"}, \"text\": \"\"}, \"zerolinecolor\": \"#E1E5ED\"}, \"xaxis8\": {\"anchor\": \"y8\", \"domain\": [0.7875, 1.0], \"gridcolor\": \"#E1E5ED\", \"showgrid\": false, \"tickfont\": {\"color\": \"#4D5663\"}, \"title\": {\"font\": {\"color\": \"#4D5663\"}, \"text\": \"\"}, \"zerolinecolor\": \"#E1E5ED\"}, \"xaxis9\": {\"anchor\": \"y9\", \"domain\": [0.0, 0.2125], \"gridcolor\": \"#E1E5ED\", \"showgrid\": false, \"tickfont\": {\"color\": \"#4D5663\"}, \"title\": {\"font\": {\"color\": \"#4D5663\"}, \"text\": \"\"}, \"zerolinecolor\": \"#E1E5ED\"}, \"yaxis\": {\"anchor\": \"x\", \"domain\": [0.8025, 1.0], \"gridcolor\": \"#E1E5ED\", \"showgrid\": false, \"tickfont\": {\"color\": \"#4D5663\"}, \"title\": {\"font\": {\"color\": \"#4D5663\"}, \"text\": \"\"}, \"zerolinecolor\": \"#E1E5ED\"}, \"yaxis10\": {\"anchor\": \"x10\", \"domain\": [0.2675, 0.465], \"gridcolor\": \"#E1E5ED\", \"showgrid\": false, \"tickfont\": {\"color\": \"#4D5663\"}, \"title\": {\"font\": {\"color\": \"#4D5663\"}, \"text\": \"\"}, \"zerolinecolor\": \"#E1E5ED\"}, \"yaxis11\": {\"anchor\": \"x11\", \"domain\": [0.2675, 0.465], \"gridcolor\": \"#E1E5ED\", \"showgrid\": false, \"tickfont\": {\"color\": \"#4D5663\"}, \"title\": {\"font\": {\"color\": \"#4D5663\"}, \"text\": \"\"}, \"zerolinecolor\": \"#E1E5ED\"}, \"yaxis12\": {\"anchor\": \"x12\", \"domain\": [0.2675, 0.465], \"gridcolor\": \"#E1E5ED\", \"showgrid\": false, \"tickfont\": {\"color\": \"#4D5663\"}, \"title\": {\"font\": {\"color\": \"#4D5663\"}, \"text\": \"\"}, \"zerolinecolor\": \"#E1E5ED\"}, \"yaxis13\": {\"anchor\": \"x13\", \"domain\": [0.0, 0.1975], \"gridcolor\": \"#E1E5ED\", \"showgrid\": false, \"tickfont\": {\"color\": \"#4D5663\"}, \"title\": {\"font\": {\"color\": \"#4D5663\"}, \"text\": \"\"}, \"zerolinecolor\": \"#E1E5ED\"}, \"yaxis14\": {\"anchor\": \"x14\", \"domain\": [0.0, 0.1975], \"gridcolor\": \"#E1E5ED\", \"showgrid\": false, \"tickfont\": {\"color\": \"#4D5663\"}, \"title\": {\"font\": {\"color\": \"#4D5663\"}, \"text\": \"\"}, \"zerolinecolor\": \"#E1E5ED\"}, \"yaxis15\": {\"anchor\": \"x15\", \"domain\": [0.0, 0.1975], \"gridcolor\": \"#E1E5ED\", \"showgrid\": false, \"tickfont\": {\"color\": \"#4D5663\"}, \"title\": {\"font\": {\"color\": \"#4D5663\"}, \"text\": \"\"}, \"zerolinecolor\": \"#E1E5ED\"}, \"yaxis16\": {\"anchor\": \"x16\", \"domain\": [0.0, 0.1975], \"gridcolor\": \"#E1E5ED\", \"showgrid\": false, \"tickfont\": {\"color\": \"#4D5663\"}, \"title\": {\"font\": {\"color\": \"#4D5663\"}, \"text\": \"\"}, \"zerolinecolor\": \"#E1E5ED\"}, \"yaxis2\": {\"anchor\": \"x2\", \"domain\": [0.8025, 1.0], \"gridcolor\": \"#E1E5ED\", \"showgrid\": false, \"tickfont\": {\"color\": \"#4D5663\"}, \"title\": {\"font\": {\"color\": \"#4D5663\"}, \"text\": \"\"}, \"zerolinecolor\": \"#E1E5ED\"}, \"yaxis3\": {\"anchor\": \"x3\", \"domain\": [0.8025, 1.0], \"gridcolor\": \"#E1E5ED\", \"showgrid\": false, \"tickfont\": {\"color\": \"#4D5663\"}, \"title\": {\"font\": {\"color\": \"#4D5663\"}, \"text\": \"\"}, \"zerolinecolor\": \"#E1E5ED\"}, \"yaxis4\": {\"anchor\": \"x4\", \"domain\": [0.8025, 1.0], \"gridcolor\": \"#E1E5ED\", \"showgrid\": false, \"tickfont\": {\"color\": \"#4D5663\"}, \"title\": {\"font\": {\"color\": \"#4D5663\"}, \"text\": \"\"}, \"zerolinecolor\": \"#E1E5ED\"}, \"yaxis5\": {\"anchor\": \"x5\", \"domain\": [0.535, 0.7325], \"gridcolor\": \"#E1E5ED\", \"showgrid\": false, \"tickfont\": {\"color\": \"#4D5663\"}, \"title\": {\"font\": {\"color\": \"#4D5663\"}, \"text\": \"\"}, \"zerolinecolor\": \"#E1E5ED\"}, \"yaxis6\": {\"anchor\": \"x6\", \"domain\": [0.535, 0.7325], \"gridcolor\": \"#E1E5ED\", \"showgrid\": false, \"tickfont\": {\"color\": \"#4D5663\"}, \"title\": {\"font\": {\"color\": \"#4D5663\"}, \"text\": \"\"}, \"zerolinecolor\": \"#E1E5ED\"}, \"yaxis7\": {\"anchor\": \"x7\", \"domain\": [0.535, 0.7325], \"gridcolor\": \"#E1E5ED\", \"showgrid\": false, \"tickfont\": {\"color\": \"#4D5663\"}, \"title\": {\"font\": {\"color\": \"#4D5663\"}, \"text\": \"\"}, \"zerolinecolor\": \"#E1E5ED\"}, \"yaxis8\": {\"anchor\": \"x8\", \"domain\": [0.535, 0.7325], \"gridcolor\": \"#E1E5ED\", \"showgrid\": false, \"tickfont\": {\"color\": \"#4D5663\"}, \"title\": {\"font\": {\"color\": \"#4D5663\"}, \"text\": \"\"}, \"zerolinecolor\": \"#E1E5ED\"}, \"yaxis9\": {\"anchor\": \"x9\", \"domain\": [0.2675, 0.465], \"gridcolor\": \"#E1E5ED\", \"showgrid\": false, \"tickfont\": {\"color\": \"#4D5663\"}, \"title\": {\"font\": {\"color\": \"#4D5663\"}, \"text\": \"\"}, \"zerolinecolor\": \"#E1E5ED\"}},                        {\"showLink\": true, \"linkText\": \"Export to plot.ly\", \"plotlyServerURL\": \"https://plot.ly\", \"responsive\": true}                    ).then(function(){\n                            \nvar gd = document.getElementById('6d2288ff-517b-4653-aec9-05275264a79e');\nvar x = new MutationObserver(function (mutations, observer) {{\n        var display = window.getComputedStyle(gd).display;\n        if (!display || display === 'none') {{\n            console.log([gd, 'removed!']);\n            Plotly.purge(gd);\n            observer.disconnect();\n        }}\n}});\n\n// Listen for the removal of the full notebook cells\nvar notebookContainer = gd.closest('#notebook-container');\nif (notebookContainer) {{\n    x.observe(notebookContainer, {childList: true});\n}}\n\n// Listen for the clearing of the current output cell\nvar outputEl = gd.closest('.output');\nif (outputEl) {{\n    x.observe(outputEl, {childList: true});\n}}\n\n                        })                };                });            </script>        </div>"
     },
     "metadata": {}
    }
   ],
   "source": [
    "df.scatter_matrix()"
   ]
  },
  {
   "cell_type": "code",
   "execution_count": null,
   "metadata": {},
   "outputs": [],
   "source": []
  }
 ]
}
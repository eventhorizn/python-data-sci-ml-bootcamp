{
 "metadata": {
  "language_info": {
   "codemirror_mode": {
    "name": "ipython",
    "version": 3
   },
   "file_extension": ".py",
   "mimetype": "text/x-python",
   "name": "python",
   "nbconvert_exporter": "python",
   "pygments_lexer": "ipython3",
   "version": "3.8.5-final"
  },
  "orig_nbformat": 2,
  "kernelspec": {
   "name": "Python 3.8.5 32-bit",
   "display_name": "Python 3.8.5 32-bit",
   "metadata": {
    "interpreter": {
     "hash": "1aee9c38f59a613e63b2aeb0bbf7f9192b688c9f8d1a94afbbd99ee7e18d96da"
    }
   }
  }
 },
 "nbformat": 4,
 "nbformat_minor": 2,
 "cells": [
  {
   "source": [
    "# Plotly and Cufflinks"
   ],
   "cell_type": "markdown",
   "metadata": {}
  },
  {
   "source": [
    "Plotly is a library that allows you to create interactive plots that you can use in dashboards or websites (you can save them as html files or static images).\n",
    "\n",
    "## Installation\n",
    "\n",
    "In order for this all to work, you'll need to install plotly and cufflinks to call plots directly off of a pandas dataframe. These libraries are not currently available through **conda** but are available through **pip**. Install the libraries at your command line/terminal using:\n",
    "\n",
    "    pip install plotly\n",
    "    pip install cufflinks\n",
    "\n",
    "Looks like plotly might be depreciated in favor of chart_studio.plotly. Maybe chart_studio bought them out?\n",
    "\n",
    "** NOTE: Make sure you only have one installation of Python on your computer when you do this, otherwise the installation may not work. **\n",
    "\n",
    "## Imports and Set-up"
   ],
   "cell_type": "markdown",
   "metadata": {}
  },
  {
   "cell_type": "code",
   "execution_count": 1,
   "metadata": {},
   "outputs": [],
   "source": [
    "import pandas as pd\n",
    "import numpy as np\n",
    "from plotly.offline import download_plotlyjs, init_notebook_mode, plot, iplot"
   ]
  },
  {
   "cell_type": "code",
   "execution_count": 2,
   "metadata": {},
   "outputs": [],
   "source": [
    "import cufflinks as cf"
   ]
  },
  {
   "cell_type": "code",
   "execution_count": 3,
   "metadata": {},
   "outputs": [
    {
     "output_type": "display_data",
     "data": {
      "text/html": "        <script type=\"text/javascript\">\n        window.PlotlyConfig = {MathJaxConfig: 'local'};\n        if (window.MathJax) {MathJax.Hub.Config({SVG: {font: \"STIX-Web\"}});}\n        if (typeof require !== 'undefined') {\n        require.undef(\"plotly\");\n        requirejs.config({\n            paths: {\n                'plotly': ['https://cdn.plot.ly/plotly-latest.min']\n            }\n        });\n        require(['plotly'], function(Plotly) {\n            window._Plotly = Plotly;\n        });\n        }\n        </script>\n        "
     },
     "metadata": {}
    }
   ],
   "source": [
    "# For Notebooks\n",
    "init_notebook_mode(connected=True)"
   ]
  },
  {
   "cell_type": "code",
   "execution_count": 4,
   "metadata": {},
   "outputs": [
    {
     "output_type": "display_data",
     "data": {
      "text/html": "        <script type=\"text/javascript\">\n        window.PlotlyConfig = {MathJaxConfig: 'local'};\n        if (window.MathJax) {MathJax.Hub.Config({SVG: {font: \"STIX-Web\"}});}\n        if (typeof require !== 'undefined') {\n        require.undef(\"plotly\");\n        requirejs.config({\n            paths: {\n                'plotly': ['https://cdn.plot.ly/plotly-latest.min']\n            }\n        });\n        require(['plotly'], function(Plotly) {\n            window._Plotly = Plotly;\n        });\n        }\n        </script>\n        "
     },
     "metadata": {}
    }
   ],
   "source": [
    "# For offline use\n",
    "cf.go_offline()"
   ]
  },
  {
   "source": [
    "## Fake Data"
   ],
   "cell_type": "markdown",
   "metadata": {}
  },
  {
   "cell_type": "code",
   "execution_count": 5,
   "metadata": {},
   "outputs": [],
   "source": [
    "df = pd.DataFrame(np.random.randn(100, 4), columns='A B C D'.split())"
   ]
  },
  {
   "cell_type": "code",
   "execution_count": 6,
   "metadata": {},
   "outputs": [
    {
     "output_type": "execute_result",
     "data": {
      "text/plain": [
       "          A         B         C         D\n",
       "0 -1.302991  1.688251 -0.826451 -0.026261\n",
       "1 -0.634541  0.515871 -1.176351 -0.436015\n",
       "2 -0.497084  0.238740 -0.367732 -0.374632\n",
       "3 -0.399282 -0.314533 -1.472004 -0.432169\n",
       "4  0.354206 -0.057868 -1.158886 -1.997470"
      ],
      "text/html": "<div>\n<style scoped>\n    .dataframe tbody tr th:only-of-type {\n        vertical-align: middle;\n    }\n\n    .dataframe tbody tr th {\n        vertical-align: top;\n    }\n\n    .dataframe thead th {\n        text-align: right;\n    }\n</style>\n<table border=\"1\" class=\"dataframe\">\n  <thead>\n    <tr style=\"text-align: right;\">\n      <th></th>\n      <th>A</th>\n      <th>B</th>\n      <th>C</th>\n      <th>D</th>\n    </tr>\n  </thead>\n  <tbody>\n    <tr>\n      <th>0</th>\n      <td>-1.302991</td>\n      <td>1.688251</td>\n      <td>-0.826451</td>\n      <td>-0.026261</td>\n    </tr>\n    <tr>\n      <th>1</th>\n      <td>-0.634541</td>\n      <td>0.515871</td>\n      <td>-1.176351</td>\n      <td>-0.436015</td>\n    </tr>\n    <tr>\n      <th>2</th>\n      <td>-0.497084</td>\n      <td>0.238740</td>\n      <td>-0.367732</td>\n      <td>-0.374632</td>\n    </tr>\n    <tr>\n      <th>3</th>\n      <td>-0.399282</td>\n      <td>-0.314533</td>\n      <td>-1.472004</td>\n      <td>-0.432169</td>\n    </tr>\n    <tr>\n      <th>4</th>\n      <td>0.354206</td>\n      <td>-0.057868</td>\n      <td>-1.158886</td>\n      <td>-1.997470</td>\n    </tr>\n  </tbody>\n</table>\n</div>"
     },
     "metadata": {},
     "execution_count": 6
    }
   ],
   "source": [
    "df.head()"
   ]
  },
  {
   "cell_type": "code",
   "execution_count": 7,
   "metadata": {},
   "outputs": [],
   "source": [
    "df2 = pd.DataFrame({'Category': ['A', 'B', 'C'], 'Values': [32, 43, 50]})"
   ]
  },
  {
   "cell_type": "code",
   "execution_count": 8,
   "metadata": {},
   "outputs": [
    {
     "output_type": "execute_result",
     "data": {
      "text/plain": [
       "  Category  Values\n",
       "0        A      32\n",
       "1        B      43\n",
       "2        C      50"
      ],
      "text/html": "<div>\n<style scoped>\n    .dataframe tbody tr th:only-of-type {\n        vertical-align: middle;\n    }\n\n    .dataframe tbody tr th {\n        vertical-align: top;\n    }\n\n    .dataframe thead th {\n        text-align: right;\n    }\n</style>\n<table border=\"1\" class=\"dataframe\">\n  <thead>\n    <tr style=\"text-align: right;\">\n      <th></th>\n      <th>Category</th>\n      <th>Values</th>\n    </tr>\n  </thead>\n  <tbody>\n    <tr>\n      <th>0</th>\n      <td>A</td>\n      <td>32</td>\n    </tr>\n    <tr>\n      <th>1</th>\n      <td>B</td>\n      <td>43</td>\n    </tr>\n    <tr>\n      <th>2</th>\n      <td>C</td>\n      <td>50</td>\n    </tr>\n  </tbody>\n</table>\n</div>"
     },
     "metadata": {},
     "execution_count": 8
    }
   ],
   "source": [
    "df2.head()"
   ]
  },
  {
   "cell_type": "code",
   "execution_count": 9,
   "metadata": {},
   "outputs": [
    {
     "output_type": "execute_result",
     "data": {
      "text/plain": [
       "<AxesSubplot:>"
      ]
     },
     "metadata": {},
     "execution_count": 9
    },
    {
     "output_type": "display_data",
     "data": {
      "text/plain": "<Figure size 432x288 with 1 Axes>",
      "image/svg+xml": "<?xml version=\"1.0\" encoding=\"utf-8\" standalone=\"no\"?>\r\n<!DOCTYPE svg PUBLIC \"-//W3C//DTD SVG 1.1//EN\"\r\n  \"http://www.w3.org/Graphics/SVG/1.1/DTD/svg11.dtd\">\r\n<!-- Created with matplotlib (https://matplotlib.org/) -->\r\n<svg height=\"248.518125pt\" version=\"1.1\" viewBox=\"0 0 370.942187 248.518125\" width=\"370.942187pt\" xmlns=\"http://www.w3.org/2000/svg\" xmlns:xlink=\"http://www.w3.org/1999/xlink\">\r\n <metadata>\r\n  <rdf:RDF xmlns:cc=\"http://creativecommons.org/ns#\" xmlns:dc=\"http://purl.org/dc/elements/1.1/\" xmlns:rdf=\"http://www.w3.org/1999/02/22-rdf-syntax-ns#\">\r\n   <cc:Work>\r\n    <dc:type rdf:resource=\"http://purl.org/dc/dcmitype/StillImage\"/>\r\n    <dc:date>2020-10-15T08:40:51.179522</dc:date>\r\n    <dc:format>image/svg+xml</dc:format>\r\n    <dc:creator>\r\n     <cc:Agent>\r\n      <dc:title>Matplotlib v3.3.1, https://matplotlib.org/</dc:title>\r\n     </cc:Agent>\r\n    </dc:creator>\r\n   </cc:Work>\r\n  </rdf:RDF>\r\n </metadata>\r\n <defs>\r\n  <style type=\"text/css\">*{stroke-linecap:butt;stroke-linejoin:round;}</style>\r\n </defs>\r\n <g id=\"figure_1\">\r\n  <g id=\"patch_1\">\r\n   <path d=\"M 0 248.518125 \r\nL 370.942187 248.518125 \r\nL 370.942187 0 \r\nL 0 0 \r\nz\r\n\" style=\"fill:none;\"/>\r\n  </g>\r\n  <g id=\"axes_1\">\r\n   <g id=\"patch_2\">\r\n    <path d=\"M 28.942188 224.64 \r\nL 363.742188 224.64 \r\nL 363.742188 7.2 \r\nL 28.942188 7.2 \r\nz\r\n\" style=\"fill:#ffffff;\"/>\r\n   </g>\r\n   <g id=\"matplotlib.axis_1\">\r\n    <g id=\"xtick_1\">\r\n     <g id=\"line2d_1\">\r\n      <defs>\r\n       <path d=\"M 0 0 \r\nL 0 3.5 \r\n\" id=\"m901875e542\" style=\"stroke:#000000;stroke-width:0.8;\"/>\r\n      </defs>\r\n      <g>\r\n       <use style=\"stroke:#000000;stroke-width:0.8;\" x=\"44.160369\" xlink:href=\"#m901875e542\" y=\"224.64\"/>\r\n      </g>\r\n     </g>\r\n     <g id=\"text_1\">\r\n      <!-- 0 -->\r\n      <g transform=\"translate(40.979119 239.238437)scale(0.1 -0.1)\">\r\n       <defs>\r\n        <path d=\"M 31.78125 66.40625 \r\nQ 24.171875 66.40625 20.328125 58.90625 \r\nQ 16.5 51.421875 16.5 36.375 \r\nQ 16.5 21.390625 20.328125 13.890625 \r\nQ 24.171875 6.390625 31.78125 6.390625 \r\nQ 39.453125 6.390625 43.28125 13.890625 \r\nQ 47.125 21.390625 47.125 36.375 \r\nQ 47.125 51.421875 43.28125 58.90625 \r\nQ 39.453125 66.40625 31.78125 66.40625 \r\nz\r\nM 31.78125 74.21875 \r\nQ 44.046875 74.21875 50.515625 64.515625 \r\nQ 56.984375 54.828125 56.984375 36.375 \r\nQ 56.984375 17.96875 50.515625 8.265625 \r\nQ 44.046875 -1.421875 31.78125 -1.421875 \r\nQ 19.53125 -1.421875 13.0625 8.265625 \r\nQ 6.59375 17.96875 6.59375 36.375 \r\nQ 6.59375 54.828125 13.0625 64.515625 \r\nQ 19.53125 74.21875 31.78125 74.21875 \r\nz\r\n\" id=\"DejaVuSans-48\"/>\r\n       </defs>\r\n       <use xlink:href=\"#DejaVuSans-48\"/>\r\n      </g>\r\n     </g>\r\n    </g>\r\n    <g id=\"xtick_2\">\r\n     <g id=\"line2d_2\">\r\n      <g>\r\n       <use style=\"stroke:#000000;stroke-width:0.8;\" x=\"105.647973\" xlink:href=\"#m901875e542\" y=\"224.64\"/>\r\n      </g>\r\n     </g>\r\n     <g id=\"text_2\">\r\n      <!-- 20 -->\r\n      <g transform=\"translate(99.285473 239.238437)scale(0.1 -0.1)\">\r\n       <defs>\r\n        <path d=\"M 19.1875 8.296875 \r\nL 53.609375 8.296875 \r\nL 53.609375 0 \r\nL 7.328125 0 \r\nL 7.328125 8.296875 \r\nQ 12.9375 14.109375 22.625 23.890625 \r\nQ 32.328125 33.6875 34.8125 36.53125 \r\nQ 39.546875 41.84375 41.421875 45.53125 \r\nQ 43.3125 49.21875 43.3125 52.78125 \r\nQ 43.3125 58.59375 39.234375 62.25 \r\nQ 35.15625 65.921875 28.609375 65.921875 \r\nQ 23.96875 65.921875 18.8125 64.3125 \r\nQ 13.671875 62.703125 7.8125 59.421875 \r\nL 7.8125 69.390625 \r\nQ 13.765625 71.78125 18.9375 73 \r\nQ 24.125 74.21875 28.421875 74.21875 \r\nQ 39.75 74.21875 46.484375 68.546875 \r\nQ 53.21875 62.890625 53.21875 53.421875 \r\nQ 53.21875 48.921875 51.53125 44.890625 \r\nQ 49.859375 40.875 45.40625 35.40625 \r\nQ 44.1875 33.984375 37.640625 27.21875 \r\nQ 31.109375 20.453125 19.1875 8.296875 \r\nz\r\n\" id=\"DejaVuSans-50\"/>\r\n       </defs>\r\n       <use xlink:href=\"#DejaVuSans-50\"/>\r\n       <use x=\"63.623047\" xlink:href=\"#DejaVuSans-48\"/>\r\n      </g>\r\n     </g>\r\n    </g>\r\n    <g id=\"xtick_3\">\r\n     <g id=\"line2d_3\">\r\n      <g>\r\n       <use style=\"stroke:#000000;stroke-width:0.8;\" x=\"167.135576\" xlink:href=\"#m901875e542\" y=\"224.64\"/>\r\n      </g>\r\n     </g>\r\n     <g id=\"text_3\">\r\n      <!-- 40 -->\r\n      <g transform=\"translate(160.773076 239.238437)scale(0.1 -0.1)\">\r\n       <defs>\r\n        <path d=\"M 37.796875 64.3125 \r\nL 12.890625 25.390625 \r\nL 37.796875 25.390625 \r\nz\r\nM 35.203125 72.90625 \r\nL 47.609375 72.90625 \r\nL 47.609375 25.390625 \r\nL 58.015625 25.390625 \r\nL 58.015625 17.1875 \r\nL 47.609375 17.1875 \r\nL 47.609375 0 \r\nL 37.796875 0 \r\nL 37.796875 17.1875 \r\nL 4.890625 17.1875 \r\nL 4.890625 26.703125 \r\nz\r\n\" id=\"DejaVuSans-52\"/>\r\n       </defs>\r\n       <use xlink:href=\"#DejaVuSans-52\"/>\r\n       <use x=\"63.623047\" xlink:href=\"#DejaVuSans-48\"/>\r\n      </g>\r\n     </g>\r\n    </g>\r\n    <g id=\"xtick_4\">\r\n     <g id=\"line2d_4\">\r\n      <g>\r\n       <use style=\"stroke:#000000;stroke-width:0.8;\" x=\"228.623179\" xlink:href=\"#m901875e542\" y=\"224.64\"/>\r\n      </g>\r\n     </g>\r\n     <g id=\"text_4\">\r\n      <!-- 60 -->\r\n      <g transform=\"translate(222.260679 239.238437)scale(0.1 -0.1)\">\r\n       <defs>\r\n        <path d=\"M 33.015625 40.375 \r\nQ 26.375 40.375 22.484375 35.828125 \r\nQ 18.609375 31.296875 18.609375 23.390625 \r\nQ 18.609375 15.53125 22.484375 10.953125 \r\nQ 26.375 6.390625 33.015625 6.390625 \r\nQ 39.65625 6.390625 43.53125 10.953125 \r\nQ 47.40625 15.53125 47.40625 23.390625 \r\nQ 47.40625 31.296875 43.53125 35.828125 \r\nQ 39.65625 40.375 33.015625 40.375 \r\nz\r\nM 52.59375 71.296875 \r\nL 52.59375 62.3125 \r\nQ 48.875 64.0625 45.09375 64.984375 \r\nQ 41.3125 65.921875 37.59375 65.921875 \r\nQ 27.828125 65.921875 22.671875 59.328125 \r\nQ 17.53125 52.734375 16.796875 39.40625 \r\nQ 19.671875 43.65625 24.015625 45.921875 \r\nQ 28.375 48.1875 33.59375 48.1875 \r\nQ 44.578125 48.1875 50.953125 41.515625 \r\nQ 57.328125 34.859375 57.328125 23.390625 \r\nQ 57.328125 12.15625 50.6875 5.359375 \r\nQ 44.046875 -1.421875 33.015625 -1.421875 \r\nQ 20.359375 -1.421875 13.671875 8.265625 \r\nQ 6.984375 17.96875 6.984375 36.375 \r\nQ 6.984375 53.65625 15.1875 63.9375 \r\nQ 23.390625 74.21875 37.203125 74.21875 \r\nQ 40.921875 74.21875 44.703125 73.484375 \r\nQ 48.484375 72.75 52.59375 71.296875 \r\nz\r\n\" id=\"DejaVuSans-54\"/>\r\n       </defs>\r\n       <use xlink:href=\"#DejaVuSans-54\"/>\r\n       <use x=\"63.623047\" xlink:href=\"#DejaVuSans-48\"/>\r\n      </g>\r\n     </g>\r\n    </g>\r\n    <g id=\"xtick_5\">\r\n     <g id=\"line2d_5\">\r\n      <g>\r\n       <use style=\"stroke:#000000;stroke-width:0.8;\" x=\"290.110783\" xlink:href=\"#m901875e542\" y=\"224.64\"/>\r\n      </g>\r\n     </g>\r\n     <g id=\"text_5\">\r\n      <!-- 80 -->\r\n      <g transform=\"translate(283.748283 239.238437)scale(0.1 -0.1)\">\r\n       <defs>\r\n        <path d=\"M 31.78125 34.625 \r\nQ 24.75 34.625 20.71875 30.859375 \r\nQ 16.703125 27.09375 16.703125 20.515625 \r\nQ 16.703125 13.921875 20.71875 10.15625 \r\nQ 24.75 6.390625 31.78125 6.390625 \r\nQ 38.8125 6.390625 42.859375 10.171875 \r\nQ 46.921875 13.96875 46.921875 20.515625 \r\nQ 46.921875 27.09375 42.890625 30.859375 \r\nQ 38.875 34.625 31.78125 34.625 \r\nz\r\nM 21.921875 38.8125 \r\nQ 15.578125 40.375 12.03125 44.71875 \r\nQ 8.5 49.078125 8.5 55.328125 \r\nQ 8.5 64.0625 14.71875 69.140625 \r\nQ 20.953125 74.21875 31.78125 74.21875 \r\nQ 42.671875 74.21875 48.875 69.140625 \r\nQ 55.078125 64.0625 55.078125 55.328125 \r\nQ 55.078125 49.078125 51.53125 44.71875 \r\nQ 48 40.375 41.703125 38.8125 \r\nQ 48.828125 37.15625 52.796875 32.3125 \r\nQ 56.78125 27.484375 56.78125 20.515625 \r\nQ 56.78125 9.90625 50.3125 4.234375 \r\nQ 43.84375 -1.421875 31.78125 -1.421875 \r\nQ 19.734375 -1.421875 13.25 4.234375 \r\nQ 6.78125 9.90625 6.78125 20.515625 \r\nQ 6.78125 27.484375 10.78125 32.3125 \r\nQ 14.796875 37.15625 21.921875 38.8125 \r\nz\r\nM 18.3125 54.390625 \r\nQ 18.3125 48.734375 21.84375 45.5625 \r\nQ 25.390625 42.390625 31.78125 42.390625 \r\nQ 38.140625 42.390625 41.71875 45.5625 \r\nQ 45.3125 48.734375 45.3125 54.390625 \r\nQ 45.3125 60.0625 41.71875 63.234375 \r\nQ 38.140625 66.40625 31.78125 66.40625 \r\nQ 25.390625 66.40625 21.84375 63.234375 \r\nQ 18.3125 60.0625 18.3125 54.390625 \r\nz\r\n\" id=\"DejaVuSans-56\"/>\r\n       </defs>\r\n       <use xlink:href=\"#DejaVuSans-56\"/>\r\n       <use x=\"63.623047\" xlink:href=\"#DejaVuSans-48\"/>\r\n      </g>\r\n     </g>\r\n    </g>\r\n    <g id=\"xtick_6\">\r\n     <g id=\"line2d_6\">\r\n      <g>\r\n       <use style=\"stroke:#000000;stroke-width:0.8;\" x=\"351.598386\" xlink:href=\"#m901875e542\" y=\"224.64\"/>\r\n      </g>\r\n     </g>\r\n     <g id=\"text_6\">\r\n      <!-- 100 -->\r\n      <g transform=\"translate(342.054636 239.238437)scale(0.1 -0.1)\">\r\n       <defs>\r\n        <path d=\"M 12.40625 8.296875 \r\nL 28.515625 8.296875 \r\nL 28.515625 63.921875 \r\nL 10.984375 60.40625 \r\nL 10.984375 69.390625 \r\nL 28.421875 72.90625 \r\nL 38.28125 72.90625 \r\nL 38.28125 8.296875 \r\nL 54.390625 8.296875 \r\nL 54.390625 0 \r\nL 12.40625 0 \r\nz\r\n\" id=\"DejaVuSans-49\"/>\r\n       </defs>\r\n       <use xlink:href=\"#DejaVuSans-49\"/>\r\n       <use x=\"63.623047\" xlink:href=\"#DejaVuSans-48\"/>\r\n       <use x=\"127.246094\" xlink:href=\"#DejaVuSans-48\"/>\r\n      </g>\r\n     </g>\r\n    </g>\r\n   </g>\r\n   <g id=\"matplotlib.axis_2\">\r\n    <g id=\"ytick_1\">\r\n     <g id=\"line2d_7\">\r\n      <defs>\r\n       <path d=\"M 0 0 \r\nL -3.5 0 \r\n\" id=\"m299f64da04\" style=\"stroke:#000000;stroke-width:0.8;\"/>\r\n      </defs>\r\n      <g>\r\n       <use style=\"stroke:#000000;stroke-width:0.8;\" x=\"28.942188\" xlink:href=\"#m299f64da04\" y=\"201.167442\"/>\r\n      </g>\r\n     </g>\r\n     <g id=\"text_7\">\r\n      <!-- −2 -->\r\n      <g transform=\"translate(7.2 204.96666)scale(0.1 -0.1)\">\r\n       <defs>\r\n        <path d=\"M 10.59375 35.5 \r\nL 73.1875 35.5 \r\nL 73.1875 27.203125 \r\nL 10.59375 27.203125 \r\nz\r\n\" id=\"DejaVuSans-8722\"/>\r\n       </defs>\r\n       <use xlink:href=\"#DejaVuSans-8722\"/>\r\n       <use x=\"83.789062\" xlink:href=\"#DejaVuSans-50\"/>\r\n      </g>\r\n     </g>\r\n    </g>\r\n    <g id=\"ytick_2\">\r\n     <g id=\"line2d_8\">\r\n      <g>\r\n       <use style=\"stroke:#000000;stroke-width:0.8;\" x=\"28.942188\" xlink:href=\"#m299f64da04\" y=\"172.482635\"/>\r\n      </g>\r\n     </g>\r\n     <g id=\"text_8\">\r\n      <!-- −1 -->\r\n      <g transform=\"translate(7.2 176.281853)scale(0.1 -0.1)\">\r\n       <use xlink:href=\"#DejaVuSans-8722\"/>\r\n       <use x=\"83.789062\" xlink:href=\"#DejaVuSans-49\"/>\r\n      </g>\r\n     </g>\r\n    </g>\r\n    <g id=\"ytick_3\">\r\n     <g id=\"line2d_9\">\r\n      <g>\r\n       <use style=\"stroke:#000000;stroke-width:0.8;\" x=\"28.942188\" xlink:href=\"#m299f64da04\" y=\"143.797828\"/>\r\n      </g>\r\n     </g>\r\n     <g id=\"text_9\">\r\n      <!-- 0 -->\r\n      <g transform=\"translate(15.579688 147.597046)scale(0.1 -0.1)\">\r\n       <use xlink:href=\"#DejaVuSans-48\"/>\r\n      </g>\r\n     </g>\r\n    </g>\r\n    <g id=\"ytick_4\">\r\n     <g id=\"line2d_10\">\r\n      <g>\r\n       <use style=\"stroke:#000000;stroke-width:0.8;\" x=\"28.942188\" xlink:href=\"#m299f64da04\" y=\"115.113021\"/>\r\n      </g>\r\n     </g>\r\n     <g id=\"text_10\">\r\n      <!-- 1 -->\r\n      <g transform=\"translate(15.579688 118.912239)scale(0.1 -0.1)\">\r\n       <use xlink:href=\"#DejaVuSans-49\"/>\r\n      </g>\r\n     </g>\r\n    </g>\r\n    <g id=\"ytick_5\">\r\n     <g id=\"line2d_11\">\r\n      <g>\r\n       <use style=\"stroke:#000000;stroke-width:0.8;\" x=\"28.942188\" xlink:href=\"#m299f64da04\" y=\"86.428214\"/>\r\n      </g>\r\n     </g>\r\n     <g id=\"text_11\">\r\n      <!-- 2 -->\r\n      <g transform=\"translate(15.579688 90.227432)scale(0.1 -0.1)\">\r\n       <use xlink:href=\"#DejaVuSans-50\"/>\r\n      </g>\r\n     </g>\r\n    </g>\r\n    <g id=\"ytick_6\">\r\n     <g id=\"line2d_12\">\r\n      <g>\r\n       <use style=\"stroke:#000000;stroke-width:0.8;\" x=\"28.942188\" xlink:href=\"#m299f64da04\" y=\"57.743407\"/>\r\n      </g>\r\n     </g>\r\n     <g id=\"text_12\">\r\n      <!-- 3 -->\r\n      <g transform=\"translate(15.579688 61.542625)scale(0.1 -0.1)\">\r\n       <defs>\r\n        <path d=\"M 40.578125 39.3125 \r\nQ 47.65625 37.796875 51.625 33 \r\nQ 55.609375 28.21875 55.609375 21.1875 \r\nQ 55.609375 10.40625 48.1875 4.484375 \r\nQ 40.765625 -1.421875 27.09375 -1.421875 \r\nQ 22.515625 -1.421875 17.65625 -0.515625 \r\nQ 12.796875 0.390625 7.625 2.203125 \r\nL 7.625 11.71875 \r\nQ 11.71875 9.328125 16.59375 8.109375 \r\nQ 21.484375 6.890625 26.8125 6.890625 \r\nQ 36.078125 6.890625 40.9375 10.546875 \r\nQ 45.796875 14.203125 45.796875 21.1875 \r\nQ 45.796875 27.640625 41.28125 31.265625 \r\nQ 36.765625 34.90625 28.71875 34.90625 \r\nL 20.21875 34.90625 \r\nL 20.21875 43.015625 \r\nL 29.109375 43.015625 \r\nQ 36.375 43.015625 40.234375 45.921875 \r\nQ 44.09375 48.828125 44.09375 54.296875 \r\nQ 44.09375 59.90625 40.109375 62.90625 \r\nQ 36.140625 65.921875 28.71875 65.921875 \r\nQ 24.65625 65.921875 20.015625 65.03125 \r\nQ 15.375 64.15625 9.8125 62.3125 \r\nL 9.8125 71.09375 \r\nQ 15.4375 72.65625 20.34375 73.4375 \r\nQ 25.25 74.21875 29.59375 74.21875 \r\nQ 40.828125 74.21875 47.359375 69.109375 \r\nQ 53.90625 64.015625 53.90625 55.328125 \r\nQ 53.90625 49.265625 50.4375 45.09375 \r\nQ 46.96875 40.921875 40.578125 39.3125 \r\nz\r\n\" id=\"DejaVuSans-51\"/>\r\n       </defs>\r\n       <use xlink:href=\"#DejaVuSans-51\"/>\r\n      </g>\r\n     </g>\r\n    </g>\r\n    <g id=\"ytick_7\">\r\n     <g id=\"line2d_13\">\r\n      <g>\r\n       <use style=\"stroke:#000000;stroke-width:0.8;\" x=\"28.942188\" xlink:href=\"#m299f64da04\" y=\"29.0586\"/>\r\n      </g>\r\n     </g>\r\n     <g id=\"text_13\">\r\n      <!-- 4 -->\r\n      <g transform=\"translate(15.579688 32.857819)scale(0.1 -0.1)\">\r\n       <use xlink:href=\"#DejaVuSans-52\"/>\r\n      </g>\r\n     </g>\r\n    </g>\r\n   </g>\r\n   <g id=\"line2d_14\">\r\n    <path clip-path=\"url(#p7b5152296a)\" d=\"M 44.160369 181.173874 \r\nL 47.234749 161.999513 \r\nL 50.30913 158.056596 \r\nL 53.38351 155.251149 \r\nL 56.45789 133.637502 \r\nL 59.53227 119.290221 \r\nL 62.60665 173.827287 \r\nL 65.68103 135.797143 \r\nL 68.755411 165.647395 \r\nL 71.829791 132.19054 \r\nL 74.904171 162.112296 \r\nL 77.978551 182.403548 \r\nL 81.052931 98.883244 \r\nL 84.127311 90.671049 \r\nL 87.201692 197.100203 \r\nL 90.276072 113.541053 \r\nL 93.350452 137.110023 \r\nL 96.424832 168.569322 \r\nL 99.499212 17.083636 \r\nL 102.573592 103.460612 \r\nL 105.647973 201.598651 \r\nL 108.722353 151.146094 \r\nL 111.796733 122.622509 \r\nL 114.871113 123.610041 \r\nL 117.945493 159.698425 \r\nL 121.019873 105.332463 \r\nL 124.094254 193.432933 \r\nL 127.168634 130.098043 \r\nL 130.243014 157.052775 \r\nL 133.317394 165.025687 \r\nL 136.391774 159.419626 \r\nL 139.466154 189.377625 \r\nL 142.540535 159.363635 \r\nL 145.614915 129.423526 \r\nL 148.689295 165.361473 \r\nL 151.763675 142.980488 \r\nL 154.838055 142.978898 \r\nL 157.912435 200.001201 \r\nL 160.986816 86.870157 \r\nL 164.061196 165.478021 \r\nL 167.135576 119.993067 \r\nL 170.209956 150.556155 \r\nL 173.284336 96.242565 \r\nL 176.358716 171.803765 \r\nL 179.433097 100.12097 \r\nL 182.507477 135.857138 \r\nL 185.581857 118.217204 \r\nL 188.656237 132.067937 \r\nL 191.730617 117.978533 \r\nL 194.804997 152.971213 \r\nL 197.879378 144.742953 \r\nL 200.953758 135.305843 \r\nL 204.028138 133.951127 \r\nL 207.102518 112.52805 \r\nL 210.176898 123.582958 \r\nL 213.251278 118.517334 \r\nL 216.325659 156.919505 \r\nL 219.400039 142.605277 \r\nL 222.474419 120.057923 \r\nL 225.548799 170.993287 \r\nL 228.623179 161.136865 \r\nL 231.697559 97.561713 \r\nL 234.77194 108.667978 \r\nL 237.84632 161.950143 \r\nL 240.9207 116.648985 \r\nL 243.99508 133.299437 \r\nL 247.06946 169.037066 \r\nL 250.14384 181.749937 \r\nL 253.218221 162.71817 \r\nL 256.292601 139.840148 \r\nL 259.366981 139.365645 \r\nL 262.441361 148.781591 \r\nL 265.515741 119.108654 \r\nL 268.590121 185.822736 \r\nL 271.664502 124.97131 \r\nL 274.738882 156.87033 \r\nL 277.813262 133.884155 \r\nL 280.887642 138.133877 \r\nL 283.962022 100.344722 \r\nL 287.036402 149.135408 \r\nL 290.110783 195.479185 \r\nL 293.185163 149.466268 \r\nL 296.259543 160.749899 \r\nL 299.333923 115.815046 \r\nL 302.408303 105.917549 \r\nL 305.482683 167.714695 \r\nL 308.557064 159.090963 \r\nL 311.631444 139.836347 \r\nL 314.705824 123.980491 \r\nL 317.780204 74.830973 \r\nL 320.854584 157.032823 \r\nL 323.928964 129.522904 \r\nL 327.003345 153.880046 \r\nL 330.077725 177.363768 \r\nL 333.152105 139.930099 \r\nL 336.226485 200.10497 \r\nL 339.300865 143.908661 \r\nL 342.375245 156.288604 \r\nL 345.449626 183.733611 \r\nL 348.524006 187.086041 \r\n\" style=\"fill:none;stroke:#1f77b4;stroke-linecap:square;stroke-width:1.5;\"/>\r\n   </g>\r\n   <g id=\"line2d_15\">\r\n    <path clip-path=\"url(#p7b5152296a)\" d=\"M 44.160369 95.370667 \r\nL 47.234749 129.000167 \r\nL 50.30913 136.94962 \r\nL 53.38351 152.820139 \r\nL 56.45789 145.457765 \r\nL 59.53227 115.368763 \r\nL 62.60665 173.514098 \r\nL 65.68103 160.144467 \r\nL 68.755411 149.07526 \r\nL 71.829791 80.465978 \r\nL 74.904171 189.450734 \r\nL 77.978551 145.091267 \r\nL 81.052931 102.133984 \r\nL 84.127311 143.524471 \r\nL 87.201692 132.872752 \r\nL 90.276072 182.968464 \r\nL 93.350452 161.936249 \r\nL 96.424832 140.069775 \r\nL 99.499212 174.783783 \r\nL 102.573592 155.276047 \r\nL 105.647973 130.691214 \r\nL 108.722353 127.375696 \r\nL 111.796733 166.36708 \r\nL 114.871113 157.01318 \r\nL 117.945493 131.211415 \r\nL 121.019873 168.701839 \r\nL 124.094254 148.681166 \r\nL 127.168634 149.182726 \r\nL 130.243014 119.985484 \r\nL 133.317394 163.460022 \r\nL 136.391774 171.601441 \r\nL 139.466154 112.445098 \r\nL 142.540535 132.164373 \r\nL 145.614915 157.071689 \r\nL 148.689295 124.913933 \r\nL 151.763675 131.080221 \r\nL 154.838055 161.109767 \r\nL 157.912435 136.829617 \r\nL 160.986816 186.948262 \r\nL 164.061196 152.405 \r\nL 167.135576 134.004069 \r\nL 170.209956 153.115299 \r\nL 173.284336 156.514039 \r\nL 176.358716 30.662819 \r\nL 179.433097 125.991045 \r\nL 182.507477 132.619807 \r\nL 185.581857 163.353923 \r\nL 188.656237 128.523689 \r\nL 191.730617 96.256577 \r\nL 194.804997 206.072 \r\nL 197.879378 88.529199 \r\nL 200.953758 136.910028 \r\nL 204.028138 120.974119 \r\nL 207.102518 94.961961 \r\nL 210.176898 166.381588 \r\nL 213.251278 61.453479 \r\nL 216.325659 162.617552 \r\nL 219.400039 173.660222 \r\nL 222.474419 128.992563 \r\nL 225.548799 149.380043 \r\nL 228.623179 125.612674 \r\nL 231.697559 156.245826 \r\nL 234.77194 128.423844 \r\nL 237.84632 153.890361 \r\nL 240.9207 107.431755 \r\nL 243.99508 102.410612 \r\nL 247.06946 212.019259 \r\nL 250.14384 132.258842 \r\nL 253.218221 146.319013 \r\nL 256.292601 146.701597 \r\nL 259.366981 171.852232 \r\nL 262.441361 127.476915 \r\nL 265.515741 142.165987 \r\nL 268.590121 167.564561 \r\nL 271.664502 171.058881 \r\nL 274.738882 123.168149 \r\nL 277.813262 197.873114 \r\nL 280.887642 131.294081 \r\nL 283.962022 180.973304 \r\nL 287.036402 158.676858 \r\nL 290.110783 172.613503 \r\nL 293.185163 110.301158 \r\nL 296.259543 125.802118 \r\nL 299.333923 183.238174 \r\nL 302.408303 175.835304 \r\nL 305.482683 121.658772 \r\nL 308.557064 153.732143 \r\nL 311.631444 126.221578 \r\nL 314.705824 115.941664 \r\nL 317.780204 174.738808 \r\nL 320.854584 136.797489 \r\nL 323.928964 163.373537 \r\nL 327.003345 127.938873 \r\nL 330.077725 102.747022 \r\nL 333.152105 195.720815 \r\nL 336.226485 166.044475 \r\nL 339.300865 131.204374 \r\nL 342.375245 109.512449 \r\nL 345.449626 104.541235 \r\nL 348.524006 84.657754 \r\n\" style=\"fill:none;stroke:#ff7f0e;stroke-linecap:square;stroke-width:1.5;\"/>\r\n   </g>\r\n   <g id=\"line2d_16\">\r\n    <path clip-path=\"url(#p7b5152296a)\" d=\"M 44.160369 167.504406 \r\nL 47.234749 177.541226 \r\nL 50.30913 154.346144 \r\nL 53.38351 186.021992 \r\nL 56.45789 177.040243 \r\nL 59.53227 122.407699 \r\nL 62.60665 116.357084 \r\nL 65.68103 178.418614 \r\nL 68.755411 126.085206 \r\nL 71.829791 177.960218 \r\nL 74.904171 136.049872 \r\nL 77.978551 126.601813 \r\nL 81.052931 109.909139 \r\nL 84.127311 121.329409 \r\nL 87.201692 108.225443 \r\nL 90.276072 133.888565 \r\nL 93.350452 161.032019 \r\nL 96.424832 117.152432 \r\nL 99.499212 136.437296 \r\nL 102.573592 114.93502 \r\nL 105.647973 126.24301 \r\nL 108.722353 150.266201 \r\nL 111.796733 132.614797 \r\nL 114.871113 141.617994 \r\nL 117.945493 122.930478 \r\nL 121.019873 146.143156 \r\nL 124.094254 182.808966 \r\nL 127.168634 138.85698 \r\nL 130.243014 157.359556 \r\nL 133.317394 166.918453 \r\nL 136.391774 129.29486 \r\nL 139.466154 197.591864 \r\nL 142.540535 106.674723 \r\nL 145.614915 98.636172 \r\nL 148.689295 122.606266 \r\nL 151.763675 126.988399 \r\nL 154.838055 164.554722 \r\nL 157.912435 173.680489 \r\nL 160.986816 157.301819 \r\nL 164.061196 186.62416 \r\nL 167.135576 153.180029 \r\nL 170.209956 122.908829 \r\nL 173.284336 183.314162 \r\nL 176.358716 139.10974 \r\nL 179.433097 104.879877 \r\nL 182.507477 153.299285 \r\nL 185.581857 167.463719 \r\nL 188.656237 141.519824 \r\nL 191.730617 177.149359 \r\nL 194.804997 142.256234 \r\nL 197.879378 121.985037 \r\nL 200.953758 131.20632 \r\nL 204.028138 169.100692 \r\nL 207.102518 128.02226 \r\nL 210.176898 117.579609 \r\nL 213.251278 113.509026 \r\nL 216.325659 165.067485 \r\nL 219.400039 159.468949 \r\nL 222.474419 129.582255 \r\nL 225.548799 144.473209 \r\nL 228.623179 154.489623 \r\nL 231.697559 172.058633 \r\nL 234.77194 165.82328 \r\nL 237.84632 178.898316 \r\nL 240.9207 139.413537 \r\nL 243.99508 85.084175 \r\nL 247.06946 169.977605 \r\nL 250.14384 102.357605 \r\nL 253.218221 164.211833 \r\nL 256.292601 176.626182 \r\nL 259.366981 117.508262 \r\nL 262.441361 109.268235 \r\nL 265.515741 140.091743 \r\nL 268.590121 97.881366 \r\nL 271.664502 99.250446 \r\nL 274.738882 156.92226 \r\nL 277.813262 192.496903 \r\nL 280.887642 175.936776 \r\nL 283.962022 135.376375 \r\nL 287.036402 101.859868 \r\nL 290.110783 117.160199 \r\nL 293.185163 143.563916 \r\nL 296.259543 178.589844 \r\nL 299.333923 131.811919 \r\nL 302.408303 181.105306 \r\nL 305.482683 126.769483 \r\nL 308.557064 91.696054 \r\nL 311.631444 144.507071 \r\nL 314.705824 207.707935 \r\nL 317.780204 112.967996 \r\nL 320.854584 185.78567 \r\nL 323.928964 93.885363 \r\nL 327.003345 148.76233 \r\nL 330.077725 131.655399 \r\nL 333.152105 136.985293 \r\nL 336.226485 156.72413 \r\nL 339.300865 156.824128 \r\nL 342.375245 99.726023 \r\nL 345.449626 131.576564 \r\nL 348.524006 127.941773 \r\n\" style=\"fill:none;stroke:#2ca02c;stroke-linecap:square;stroke-width:1.5;\"/>\r\n   </g>\r\n   <g id=\"line2d_17\">\r\n    <path clip-path=\"url(#p7b5152296a)\" d=\"M 44.160369 144.551127 \r\nL 47.234749 156.30483 \r\nL 50.30913 154.544079 \r\nL 53.38351 156.194522 \r\nL 56.45789 201.094879 \r\nL 59.53227 108.792233 \r\nL 62.60665 109.463965 \r\nL 65.68103 117.820811 \r\nL 68.755411 70.017717 \r\nL 71.829791 131.21631 \r\nL 74.904171 105.597712 \r\nL 77.978551 127.147042 \r\nL 81.052931 134.9688 \r\nL 84.127311 97.306641 \r\nL 87.201692 160.599474 \r\nL 90.276072 162.98761 \r\nL 93.350452 111.650995 \r\nL 96.424832 153.367874 \r\nL 99.499212 110.496646 \r\nL 102.573592 151.514181 \r\nL 105.647973 110.202059 \r\nL 108.722353 141.119254 \r\nL 111.796733 131.86954 \r\nL 114.871113 162.004497 \r\nL 117.945493 121.902019 \r\nL 121.019873 146.69574 \r\nL 124.094254 181.049698 \r\nL 127.168634 112.74074 \r\nL 130.243014 153.111377 \r\nL 133.317394 169.210523 \r\nL 136.391774 173.346253 \r\nL 139.466154 101.524767 \r\nL 142.540535 148.938294 \r\nL 145.614915 141.945114 \r\nL 148.689295 180.510697 \r\nL 151.763675 154.54587 \r\nL 154.838055 133.433666 \r\nL 157.912435 146.824989 \r\nL 160.986816 81.938168 \r\nL 164.061196 155.343973 \r\nL 167.135576 179.318049 \r\nL 170.209956 124.397411 \r\nL 173.284336 141.075008 \r\nL 176.358716 192.363198 \r\nL 179.433097 122.15977 \r\nL 182.507477 123.038183 \r\nL 185.581857 107.02184 \r\nL 188.656237 123.769 \r\nL 191.730617 117.704229 \r\nL 194.804997 158.379963 \r\nL 197.879378 129.709716 \r\nL 200.953758 177.319907 \r\nL 204.028138 140.094023 \r\nL 207.102518 184.379293 \r\nL 210.176898 134.675523 \r\nL 213.251278 89.369907 \r\nL 216.325659 162.011994 \r\nL 219.400039 95.37032 \r\nL 222.474419 110.156335 \r\nL 225.548799 133.953129 \r\nL 228.623179 146.293744 \r\nL 231.697559 138.153574 \r\nL 234.77194 93.465004 \r\nL 237.84632 92.654068 \r\nL 240.9207 145.73236 \r\nL 243.99508 143.766415 \r\nL 247.06946 183.166547 \r\nL 250.14384 180.053636 \r\nL 253.218221 141.337929 \r\nL 256.292601 148.465328 \r\nL 259.366981 142.455157 \r\nL 262.441361 174.424514 \r\nL 265.515741 134.538394 \r\nL 268.590121 145.29273 \r\nL 271.664502 158.587586 \r\nL 274.738882 166.753836 \r\nL 277.813262 157.760571 \r\nL 280.887642 188.279726 \r\nL 283.962022 146.024176 \r\nL 287.036402 124.258968 \r\nL 290.110783 146.429178 \r\nL 293.185163 133.392389 \r\nL 296.259543 187.418601 \r\nL 299.333923 178.109569 \r\nL 302.408303 126.754297 \r\nL 305.482683 149.336094 \r\nL 308.557064 171.213894 \r\nL 311.631444 214.756364 \r\nL 314.705824 91.874426 \r\nL 317.780204 212.872789 \r\nL 320.854584 107.902287 \r\nL 323.928964 124.083815 \r\nL 327.003345 112.22854 \r\nL 330.077725 167.56553 \r\nL 333.152105 153.810674 \r\nL 336.226485 170.707321 \r\nL 339.300865 137.777605 \r\nL 342.375245 148.78966 \r\nL 345.449626 116.140951 \r\nL 348.524006 139.084608 \r\n\" style=\"fill:none;stroke:#d62728;stroke-linecap:square;stroke-width:1.5;\"/>\r\n   </g>\r\n   <g id=\"patch_3\">\r\n    <path d=\"M 28.942188 224.64 \r\nL 28.942188 7.2 \r\n\" style=\"fill:none;stroke:#000000;stroke-linecap:square;stroke-linejoin:miter;stroke-width:0.8;\"/>\r\n   </g>\r\n   <g id=\"patch_4\">\r\n    <path d=\"M 363.742188 224.64 \r\nL 363.742188 7.2 \r\n\" style=\"fill:none;stroke:#000000;stroke-linecap:square;stroke-linejoin:miter;stroke-width:0.8;\"/>\r\n   </g>\r\n   <g id=\"patch_5\">\r\n    <path d=\"M 28.942188 224.64 \r\nL 363.742188 224.64 \r\n\" style=\"fill:none;stroke:#000000;stroke-linecap:square;stroke-linejoin:miter;stroke-width:0.8;\"/>\r\n   </g>\r\n   <g id=\"patch_6\">\r\n    <path d=\"M 28.942188 7.2 \r\nL 363.742188 7.2 \r\n\" style=\"fill:none;stroke:#000000;stroke-linecap:square;stroke-linejoin:miter;stroke-width:0.8;\"/>\r\n   </g>\r\n   <g id=\"legend_1\">\r\n    <g id=\"patch_7\">\r\n     <path d=\"M 317.042188 73.9125 \r\nL 356.742188 73.9125 \r\nQ 358.742188 73.9125 358.742188 71.9125 \r\nL 358.742188 14.2 \r\nQ 358.742188 12.2 356.742188 12.2 \r\nL 317.042188 12.2 \r\nQ 315.042188 12.2 315.042188 14.2 \r\nL 315.042188 71.9125 \r\nQ 315.042188 73.9125 317.042188 73.9125 \r\nz\r\n\" style=\"fill:#ffffff;opacity:0.8;stroke:#cccccc;stroke-linejoin:miter;\"/>\r\n    </g>\r\n    <g id=\"line2d_18\">\r\n     <path d=\"M 319.042188 20.298437 \r\nL 339.042188 20.298437 \r\n\" style=\"fill:none;stroke:#1f77b4;stroke-linecap:square;stroke-width:1.5;\"/>\r\n    </g>\r\n    <g id=\"line2d_19\"/>\r\n    <g id=\"text_14\">\r\n     <!-- A -->\r\n     <g transform=\"translate(347.042188 23.798437)scale(0.1 -0.1)\">\r\n      <defs>\r\n       <path d=\"M 34.1875 63.1875 \r\nL 20.796875 26.90625 \r\nL 47.609375 26.90625 \r\nz\r\nM 28.609375 72.90625 \r\nL 39.796875 72.90625 \r\nL 67.578125 0 \r\nL 57.328125 0 \r\nL 50.6875 18.703125 \r\nL 17.828125 18.703125 \r\nL 11.1875 0 \r\nL 0.78125 0 \r\nz\r\n\" id=\"DejaVuSans-65\"/>\r\n      </defs>\r\n      <use xlink:href=\"#DejaVuSans-65\"/>\r\n     </g>\r\n    </g>\r\n    <g id=\"line2d_20\">\r\n     <path d=\"M 319.042188 34.976562 \r\nL 339.042188 34.976562 \r\n\" style=\"fill:none;stroke:#ff7f0e;stroke-linecap:square;stroke-width:1.5;\"/>\r\n    </g>\r\n    <g id=\"line2d_21\"/>\r\n    <g id=\"text_15\">\r\n     <!-- B -->\r\n     <g transform=\"translate(347.042188 38.476562)scale(0.1 -0.1)\">\r\n      <defs>\r\n       <path d=\"M 19.671875 34.8125 \r\nL 19.671875 8.109375 \r\nL 35.5 8.109375 \r\nQ 43.453125 8.109375 47.28125 11.40625 \r\nQ 51.125 14.703125 51.125 21.484375 \r\nQ 51.125 28.328125 47.28125 31.5625 \r\nQ 43.453125 34.8125 35.5 34.8125 \r\nz\r\nM 19.671875 64.796875 \r\nL 19.671875 42.828125 \r\nL 34.28125 42.828125 \r\nQ 41.5 42.828125 45.03125 45.53125 \r\nQ 48.578125 48.25 48.578125 53.8125 \r\nQ 48.578125 59.328125 45.03125 62.0625 \r\nQ 41.5 64.796875 34.28125 64.796875 \r\nz\r\nM 9.8125 72.90625 \r\nL 35.015625 72.90625 \r\nQ 46.296875 72.90625 52.390625 68.21875 \r\nQ 58.5 63.53125 58.5 54.890625 \r\nQ 58.5 48.1875 55.375 44.234375 \r\nQ 52.25 40.28125 46.1875 39.3125 \r\nQ 53.46875 37.75 57.5 32.78125 \r\nQ 61.53125 27.828125 61.53125 20.40625 \r\nQ 61.53125 10.640625 54.890625 5.3125 \r\nQ 48.25 0 35.984375 0 \r\nL 9.8125 0 \r\nz\r\n\" id=\"DejaVuSans-66\"/>\r\n      </defs>\r\n      <use xlink:href=\"#DejaVuSans-66\"/>\r\n     </g>\r\n    </g>\r\n    <g id=\"line2d_22\">\r\n     <path d=\"M 319.042188 49.654687 \r\nL 339.042188 49.654687 \r\n\" style=\"fill:none;stroke:#2ca02c;stroke-linecap:square;stroke-width:1.5;\"/>\r\n    </g>\r\n    <g id=\"line2d_23\"/>\r\n    <g id=\"text_16\">\r\n     <!-- C -->\r\n     <g transform=\"translate(347.042188 53.154687)scale(0.1 -0.1)\">\r\n      <defs>\r\n       <path d=\"M 64.40625 67.28125 \r\nL 64.40625 56.890625 \r\nQ 59.421875 61.53125 53.78125 63.8125 \r\nQ 48.140625 66.109375 41.796875 66.109375 \r\nQ 29.296875 66.109375 22.65625 58.46875 \r\nQ 16.015625 50.828125 16.015625 36.375 \r\nQ 16.015625 21.96875 22.65625 14.328125 \r\nQ 29.296875 6.6875 41.796875 6.6875 \r\nQ 48.140625 6.6875 53.78125 8.984375 \r\nQ 59.421875 11.28125 64.40625 15.921875 \r\nL 64.40625 5.609375 \r\nQ 59.234375 2.09375 53.4375 0.328125 \r\nQ 47.65625 -1.421875 41.21875 -1.421875 \r\nQ 24.65625 -1.421875 15.125 8.703125 \r\nQ 5.609375 18.84375 5.609375 36.375 \r\nQ 5.609375 53.953125 15.125 64.078125 \r\nQ 24.65625 74.21875 41.21875 74.21875 \r\nQ 47.75 74.21875 53.53125 72.484375 \r\nQ 59.328125 70.75 64.40625 67.28125 \r\nz\r\n\" id=\"DejaVuSans-67\"/>\r\n      </defs>\r\n      <use xlink:href=\"#DejaVuSans-67\"/>\r\n     </g>\r\n    </g>\r\n    <g id=\"line2d_24\">\r\n     <path d=\"M 319.042188 64.332812 \r\nL 339.042188 64.332812 \r\n\" style=\"fill:none;stroke:#d62728;stroke-linecap:square;stroke-width:1.5;\"/>\r\n    </g>\r\n    <g id=\"line2d_25\"/>\r\n    <g id=\"text_17\">\r\n     <!-- D -->\r\n     <g transform=\"translate(347.042188 67.832812)scale(0.1 -0.1)\">\r\n      <defs>\r\n       <path d=\"M 19.671875 64.796875 \r\nL 19.671875 8.109375 \r\nL 31.59375 8.109375 \r\nQ 46.6875 8.109375 53.6875 14.9375 \r\nQ 60.6875 21.78125 60.6875 36.53125 \r\nQ 60.6875 51.171875 53.6875 57.984375 \r\nQ 46.6875 64.796875 31.59375 64.796875 \r\nz\r\nM 9.8125 72.90625 \r\nL 30.078125 72.90625 \r\nQ 51.265625 72.90625 61.171875 64.09375 \r\nQ 71.09375 55.28125 71.09375 36.53125 \r\nQ 71.09375 17.671875 61.125 8.828125 \r\nQ 51.171875 0 30.078125 0 \r\nL 9.8125 0 \r\nz\r\n\" id=\"DejaVuSans-68\"/>\r\n      </defs>\r\n      <use xlink:href=\"#DejaVuSans-68\"/>\r\n     </g>\r\n    </g>\r\n   </g>\r\n  </g>\r\n </g>\r\n <defs>\r\n  <clipPath id=\"p7b5152296a\">\r\n   <rect height=\"217.44\" width=\"334.8\" x=\"28.942188\" y=\"7.2\"/>\r\n  </clipPath>\r\n </defs>\r\n</svg>\r\n",
      "image/png": "[encoded data removed]"
     },
     "metadata": {
      "needs_background": "light"
     }
    }
   ],
   "source": [
    "df.plot() # regular plot, no interactivity"
   ]
  },
  {
   "cell_type": "code",
   "execution_count": 10,
   "metadata": {},
   "outputs": [
    {
     "output_type": "display_data",
     "data": {
      "application/vnd.plotly.v1+json": {
       "config": {
        "linkText": "Export to plot.ly",
        "plotlyServerURL": "https://plot.ly",
        "showLink": true
       },
       "data": [
        {
         "line": {
          "color": "rgba(255, 153, 51, 1.0)",
          "dash": "solid",
          "shape": "linear",
          "width": 1.3
         },
         "mode": "lines",
         "name": "A",
         "text": "",
         "type": "scatter",
         "x": [
          0,
          1,
          2,
          3,
          4,
          5,
          6,
          7,
          8,
          9,
          10,
          11,
          12,
          13,
          14,
          15,
          16,
          17,
          18,
          19,
          20,
          21,
          22,
          23,
          24,
          25,
          26,
          27,
          28,
          29,
          30,
          31,
          32,
          33,
          34,
          35,
          36,
          37,
          38,
          39,
          40,
          41,
          42,
          43,
          44,
          45,
          46,
          47,
          48,
          49,
          50,
          51,
          52,
          53,
          54,
          55,
          56,
          57,
          58,
          59,
          60,
          61,
          62,
          63,
          64,
          65,
          66,
          67,
          68,
          69,
          70,
          71,
          72,
          73,
          74,
          75,
          76,
          77,
          78,
          79,
          80,
          81,
          82,
          83,
          84,
          85,
          86,
          87,
          88,
          89,
          90,
          91,
          92,
          93,
          94,
          95,
          96,
          97,
          98,
          99
         ],
         "y": [
          -1.3029910260185527,
          -0.6345409755605936,
          -0.4970843398185257,
          -0.3992817913574426,
          0.3542058101349474,
          0.8543758691640285,
          -1.0468768028721744,
          0.2789171405384338,
          -0.76171218492107,
          0.40464930572129154,
          -0.6384727864741406,
          -1.3458595010765868,
          1.5657969612355531,
          1.852087700752619,
          -1.858209315329607,
          1.0548013998797294,
          0.2331479668856663,
          -0.8635754387722143,
          4.417467107403022,
          1.40622229909111,
          -2.015032676198931,
          -0.2561727767083366,
          0.7382067662237576,
          0.7037797661928586,
          -0.5543212368675678,
          1.3409664893306001,
          -1.7303621843739518,
          0.4775972268947309,
          -0.4620894851875813,
          -0.7400384250472646,
          -0.5446018259363711,
          -1.5889874108236144,
          -0.5426498848727573,
          0.5011120325214004,
          -0.7517444948429257,
          0.028493823762782523,
          0.02854923672584782,
          -1.9593429113352838,
          1.9845931234194278,
          -0.7558075542719448,
          0.8298734827966223,
          -0.23560652672566115,
          1.6578554250685131,
          -0.9763334820803592,
          1.5226477828864031,
          0.2768256161764863,
          0.891783019254991,
          0.40892348209705315,
          0.9001034755451008,
          -0.3197994322786932,
          -0.03294865030857477,
          0.296044672372106,
          0.3432723261782436,
          1.0901163597253134,
          0.7047239300778516,
          0.8813199972630109,
          -0.45744344192105174,
          0.04157430103289277,
          0.8276125056952289,
          -0.9480788642567572,
          -0.6044676168417205,
          1.611867714416388,
          1.2246848807776154,
          -0.6328198355511625,
          0.9464537467313994,
          0.36599133674643897,
          -0.8798817680838723,
          -1.3230735318416644,
          -0.6595945535162456,
          0.13797127187224512,
          0.15451324844661918,
          -0.17374227573073595,
          0.8607055851340712,
          -1.4650580768799903,
          0.656323657390342,
          -0.4557291434314094,
          0.345607076807079,
          0.19745473049773005,
          1.514847404376252,
          -0.18607690739128482,
          -1.8016979248982299,
          -0.19761125496540985,
          -0.5909773454319642,
          0.9755262457915866,
          1.3205693996435137,
          -0.8337816922682474,
          -0.5331440794813804,
          0.13810379120023636,
          0.6908652576755376,
          2.4042990640209925,
          -0.4613939277138382,
          0.49764752630670156,
          -0.35148286196763745,
          -1.1701644083500602,
          0.1348354270164706,
          -1.9629604731270334,
          -0.003863839593197497,
          -0.4354492036023001,
          -1.3922277145959536,
          -1.5090989891608224
         ]
        },
        {
         "line": {
          "color": "rgba(55, 128, 191, 1.0)",
          "dash": "solid",
          "shape": "linear",
          "width": 1.3
         },
         "mode": "lines",
         "name": "B",
         "text": "",
         "type": "scatter",
         "x": [
          0,
          1,
          2,
          3,
          4,
          5,
          6,
          7,
          8,
          9,
          10,
          11,
          12,
          13,
          14,
          15,
          16,
          17,
          18,
          19,
          20,
          21,
          22,
          23,
          24,
          25,
          26,
          27,
          28,
          29,
          30,
          31,
          32,
          33,
          34,
          35,
          36,
          37,
          38,
          39,
          40,
          41,
          42,
          43,
          44,
          45,
          46,
          47,
          48,
          49,
          50,
          51,
          52,
          53,
          54,
          55,
          56,
          57,
          58,
          59,
          60,
          61,
          62,
          63,
          64,
          65,
          66,
          67,
          68,
          69,
          70,
          71,
          72,
          73,
          74,
          75,
          76,
          77,
          78,
          79,
          80,
          81,
          82,
          83,
          84,
          85,
          86,
          87,
          88,
          89,
          90,
          91,
          92,
          93,
          94,
          95,
          96,
          97,
          98,
          99
         ],
         "y": [
          1.6882512260973117,
          0.5158710176755467,
          0.23873990299003114,
          -0.3145327392960178,
          -0.05786817255526092,
          0.9910843865872273,
          -1.0359585321881506,
          -0.5698709915778961,
          -0.18398005469406745,
          2.207853423864874,
          -1.5915361144745996,
          -0.04509144587511076,
          1.4524707552409064,
          0.009529666735718404,
          0.38086626935385665,
          -1.3655534301942167,
          -0.6323354798386047,
          0.1299661205027946,
          -1.0802218366789245,
          -0.4001497721668597,
          0.4569183313465229,
          0.5725027864331934,
          -0.786801615614401,
          -0.4607091302129849,
          0.4387832560969114,
          -0.8681951918586254,
          -0.17024126947998658,
          -0.18772649499073882,
          0.8301378378358303,
          -0.6854567252345459,
          -0.9692801208233021,
          1.093008227937934,
          0.4055615455099214,
          -0.4627488465376716,
          0.6583239260354653,
          0.4433568775285607,
          -0.6035229622366626,
          0.24292340871916762,
          -1.5042957825197651,
          -0.3000603027015591,
          0.34142667945691635,
          -0.32482252628960095,
          -0.4433082234932536,
          3.9440742696935183,
          0.6207740079924924,
          0.38968436436994813,
          -0.6817579363443267,
          0.5324818222762935,
          1.657366941484701,
          -2.170981037992793,
          1.9267561793656178,
          0.24012012482685968,
          0.7956723907522188,
          1.7024993954432366,
          -0.7873073675113008,
          2.8706607317065327,
          -0.6560868407201098,
          -1.0410526481187512,
          0.5161361158856086,
          -0.19460530871301887,
          0.6339646401989558,
          -0.4339578914814445,
          0.5359625838619514,
          -0.35184245858300894,
          1.267781690132369,
          1.4428270469701054,
          -2.3783123560981556,
          0.4022682155326851,
          -0.08789270205665065,
          -0.10123022381383125,
          -0.9780231207040389,
          0.5689741256244726,
          0.05688867947033349,
          -0.8285477988648572,
          -0.9503655814587794,
          0.7191848562066077,
          -1.8851542589635966,
          0.43590135574921746,
          -1.2959988337617907,
          -0.5187077191995955,
          -1.004562271290593,
          1.1677495409372405,
          0.6273603363579863,
          -1.3749559508117815,
          -1.1168796208778597,
          0.7718042568586778,
          -0.34632674300445754,
          0.6127372641882435,
          0.9711121349827319,
          -1.078653942896353,
          0.24404343023187977,
          -0.6824417313159293,
          0.5528694965383156,
          1.4310992595922643,
          -1.8101215673535866,
          -0.7755550623471177,
          0.4390286964608778,
          1.1952452180489437,
          1.368550012271986,
          2.0617211569183644
         ]
        },
        {
         "line": {
          "color": "rgba(50, 171, 96, 1.0)",
          "dash": "solid",
          "shape": "linear",
          "width": 1.3
         },
         "mode": "lines",
         "name": "C",
         "text": "",
         "type": "scatter",
         "x": [
          0,
          1,
          2,
          3,
          4,
          5,
          6,
          7,
          8,
          9,
          10,
          11,
          12,
          13,
          14,
          15,
          16,
          17,
          18,
          19,
          20,
          21,
          22,
          23,
          24,
          25,
          26,
          27,
          28,
          29,
          30,
          31,
          32,
          33,
          34,
          35,
          36,
          37,
          38,
          39,
          40,
          41,
          42,
          43,
          44,
          45,
          46,
          47,
          48,
          49,
          50,
          51,
          52,
          53,
          54,
          55,
          56,
          57,
          58,
          59,
          60,
          61,
          62,
          63,
          64,
          65,
          66,
          67,
          68,
          69,
          70,
          71,
          72,
          73,
          74,
          75,
          76,
          77,
          78,
          79,
          80,
          81,
          82,
          83,
          84,
          85,
          86,
          87,
          88,
          89,
          90,
          91,
          92,
          93,
          94,
          95,
          96,
          97,
          98,
          99
         ],
         "y": [
          -0.8264506896233805,
          -1.176350899758253,
          -0.3677318188530756,
          -1.4720044653787656,
          -1.1588858045628407,
          0.7456953964634894,
          0.9566298973293653,
          -1.20693808448789,
          0.6174914037644343,
          -1.1909576331256633,
          0.2701066171754702,
          0.5994816206301261,
          1.1814159707156198,
          0.7832863821980021,
          1.240112408998169,
          0.34545333408179524,
          -0.6008125344385378,
          0.9289027324451608,
          0.2566003424581543,
          1.006205400995946,
          0.6119900986898285,
          -0.22549823130571103,
          0.3898590248891198,
          0.07599263922972696,
          0.727470442932236,
          -0.08176203193937615,
          -1.3599930411133478,
          0.17224613831251542,
          -0.4727843796394581,
          -0.8060233755273365,
          0.5055975265481226,
          -1.8753494400479889,
          1.2941730790456025,
          1.5744102948673322,
          0.7387730258347036,
          0.5860045969300058,
          -0.723619796547478,
          -1.0417591768263024,
          -0.470771560915133,
          -1.4929970412565141,
          -0.32707911189483263,
          0.7282251781063928,
          -1.377605043831834,
          0.16343450498583165,
          1.356744370844419,
          -0.3312365717940639,
          -0.8250322594337683,
          0.07941500296377305,
          -1.162689769676185,
          0.05374250312152779,
          0.7604301001397885,
          0.43896084929677054,
          -0.8820998638015842,
          0.5499624730620242,
          0.9140106310131192,
          1.055917905098612,
          -0.7414955604032043,
          -0.5463212937101766,
          0.4955784597360281,
          -0.02354492683148001,
          -0.3727337336161601,
          -0.9852186141474171,
          -0.7678438413812869,
          -1.2236613002725114,
          0.15284364016870355,
          2.0468554192192165,
          -0.9126705058694156,
          1.4446749566113084,
          -0.7116661162542393,
          -1.1444509425362968,
          0.9164979198882102,
          1.2037589326356088,
          0.12920025623173145,
          1.6007240787584662,
          1.5529956912491711,
          -0.4575394938769466,
          -1.6977306145222575,
          -1.1204170929687185,
          0.2935858280530774,
          1.462026892082136,
          0.9286319801513351,
          0.008154553256302497,
          -1.2129074476653168,
          0.4178486727721547,
          -1.3006006388635418,
          0.5936363842794125,
          1.8163543415605183,
          -0.024725382636794385,
          -2.2280124441295257,
          1.0747791114191572,
          -1.4637658946247378,
          1.7400313929211857,
          -0.17307079517082638,
          0.42330521334767957,
          0.2374962757042385,
          -0.450632373356384,
          -0.45411844823390657,
          1.5364162778575143,
          0.42605356124318955,
          0.5527684042994255
         ]
        },
        {
         "line": {
          "color": "rgba(128, 0, 128, 1.0)",
          "dash": "solid",
          "shape": "linear",
          "width": 1.3
         },
         "mode": "lines",
         "name": "D",
         "text": "",
         "type": "scatter",
         "x": [
          0,
          1,
          2,
          3,
          4,
          5,
          6,
          7,
          8,
          9,
          10,
          11,
          12,
          13,
          14,
          15,
          16,
          17,
          18,
          19,
          20,
          21,
          22,
          23,
          24,
          25,
          26,
          27,
          28,
          29,
          30,
          31,
          32,
          33,
          34,
          35,
          36,
          37,
          38,
          39,
          40,
          41,
          42,
          43,
          44,
          45,
          46,
          47,
          48,
          49,
          50,
          51,
          52,
          53,
          54,
          55,
          56,
          57,
          58,
          59,
          60,
          61,
          62,
          63,
          64,
          65,
          66,
          67,
          68,
          69,
          70,
          71,
          72,
          73,
          74,
          75,
          76,
          77,
          78,
          79,
          80,
          81,
          82,
          83,
          84,
          85,
          86,
          87,
          88,
          89,
          90,
          91,
          92,
          93,
          94,
          95,
          96,
          97,
          98,
          99
         ],
         "y": [
          -0.02626126961239427,
          -0.436014881361742,
          -0.3746321667542666,
          -0.43216934958036024,
          -1.9974703484738867,
          1.2203531692837355,
          1.1969354738635678,
          0.9056019367494507,
          2.5720971475191883,
          0.43861258089649235,
          1.3317194608358982,
          0.5804740490811431,
          0.3077945483687238,
          1.6207599520155838,
          -0.5857332939936494,
          -0.6689876810133815,
          1.1206919741925525,
          -0.3336276964064453,
          1.1609344777097421,
          -0.26900488931924105,
          1.1712042963975622,
          0.0933795353367121,
          0.41583992888089016,
          -0.6347147363346544,
          0.7633242571824619,
          -0.10102603169494762,
          -1.2986620354909197,
          1.0827016298883472,
          -0.32468579666207514,
          -0.8859287637785489,
          -1.030107173254222,
          1.4737090699923479,
          -0.17920520077362406,
          0.06458867694275676,
          -1.279871590415289,
          -0.37469460192309745,
          0.3613118925257818,
          -0.10553188426851909,
          2.156530435307609,
          -0.4025178060597154,
          -1.238293891673967,
          0.6763307466900181,
          0.09492200812990038,
          -1.6930694486223723,
          0.754338631432365,
          0.723715681107002,
          1.282071986265144,
          0.6982381931950387,
          0.9096661806440242,
          -0.5083574342153262,
          0.49113495132250656,
          -1.168635345365327,
          0.12912079274750446,
          -1.4147372785994312,
          0.3180186838907405,
          1.8974476996167633,
          -0.6349760896472313,
          1.6882633339919006,
          1.1727983010460261,
          0.34320252803706036,
          -0.08701180281681982,
          0.19676805834946226,
          1.7546858039185933,
          1.7829563655292369,
          -0.06744100113006737,
          0.0010950975845474401,
          -1.3724589104158895,
          -1.2639376633178299,
          0.0857561528368096,
          -0.1627168101147695,
          0.046807728793893964,
          -1.0676971513463354,
          0.3227992372582722,
          -0.05211477076076739,
          -0.5155955172641732,
          -0.8002845641305231,
          -0.48676442189545316,
          -1.5507128205030964,
          -0.07761419707755418,
          0.6811570782522675,
          -0.09173325205891147,
          0.36275087610712453,
          -1.5206926005171164,
          -1.1961642675468969,
          0.5941657842161046,
          -0.1930731683743713,
          -0.9557696029219265,
          -2.4737323835476728,
          1.8101360144490268,
          -2.408067857025599,
          1.2513781659366312,
          0.6872632233258075,
          1.1005577735064482,
          -0.8285815734428673,
          -0.3490644553758048,
          -0.9381096106464754,
          0.20987495748261986,
          -0.17402357693801282,
          0.9641646450245878,
          0.16431066827431753
         ]
        }
       ],
       "layout": {
        "legend": {
         "bgcolor": "#F5F6F9",
         "font": {
          "color": "#4D5663"
         }
        },
        "paper_bgcolor": "#F5F6F9",
        "plot_bgcolor": "#F5F6F9",
        "template": {
         "data": {
          "bar": [
           {
            "error_x": {
             "color": "#2a3f5f"
            },
            "error_y": {
             "color": "#2a3f5f"
            },
            "marker": {
             "line": {
              "color": "#E5ECF6",
              "width": 0.5
             }
            },
            "type": "bar"
           }
          ],
          "barpolar": [
           {
            "marker": {
             "line": {
              "color": "#E5ECF6",
              "width": 0.5
             }
            },
            "type": "barpolar"
           }
          ],
          "carpet": [
           {
            "aaxis": {
             "endlinecolor": "#2a3f5f",
             "gridcolor": "white",
             "linecolor": "white",
             "minorgridcolor": "white",
             "startlinecolor": "#2a3f5f"
            },
            "baxis": {
             "endlinecolor": "#2a3f5f",
             "gridcolor": "white",
             "linecolor": "white",
             "minorgridcolor": "white",
             "startlinecolor": "#2a3f5f"
            },
            "type": "carpet"
           }
          ],
          "choropleth": [
           {
            "colorbar": {
             "outlinewidth": 0,
             "ticks": ""
            },
            "type": "choropleth"
           }
          ],
          "contour": [
           {
            "colorbar": {
             "outlinewidth": 0,
             "ticks": ""
            },
            "colorscale": [
             [
              0,
              "#0d0887"
             ],
             [
              0.1111111111111111,
              "#46039f"
             ],
             [
              0.2222222222222222,
              "#7201a8"
             ],
             [
              0.3333333333333333,
              "#9c179e"
             ],
             [
              0.4444444444444444,
              "#bd3786"
             ],
             [
              0.5555555555555556,
              "#d8576b"
             ],
             [
              0.6666666666666666,
              "#ed7953"
             ],
             [
              0.7777777777777778,
              "#fb9f3a"
             ],
             [
              0.8888888888888888,
              "#fdca26"
             ],
             [
              1,
              "#f0f921"
             ]
            ],
            "type": "contour"
           }
          ],
          "contourcarpet": [
           {
            "colorbar": {
             "outlinewidth": 0,
             "ticks": ""
            },
            "type": "contourcarpet"
           }
          ],
          "heatmap": [
           {
            "colorbar": {
             "outlinewidth": 0,
             "ticks": ""
            },
            "colorscale": [
             [
              0,
              "#0d0887"
             ],
             [
              0.1111111111111111,
              "#46039f"
             ],
             [
              0.2222222222222222,
              "#7201a8"
             ],
             [
              0.3333333333333333,
              "#9c179e"
             ],
             [
              0.4444444444444444,
              "#bd3786"
             ],
             [
              0.5555555555555556,
              "#d8576b"
             ],
             [
              0.6666666666666666,
              "#ed7953"
             ],
             [
              0.7777777777777778,
              "#fb9f3a"
             ],
             [
              0.8888888888888888,
              "#fdca26"
             ],
             [
              1,
              "#f0f921"
             ]
            ],
            "type": "heatmap"
           }
          ],
          "heatmapgl": [
           {
            "colorbar": {
             "outlinewidth": 0,
             "ticks": ""
            },
            "colorscale": [
             [
              0,
              "#0d0887"
             ],
             [
              0.1111111111111111,
              "#46039f"
             ],
             [
              0.2222222222222222,
              "#7201a8"
             ],
             [
              0.3333333333333333,
              "#9c179e"
             ],
             [
              0.4444444444444444,
              "#bd3786"
             ],
             [
              0.5555555555555556,
              "#d8576b"
             ],
             [
              0.6666666666666666,
              "#ed7953"
             ],
             [
              0.7777777777777778,
              "#fb9f3a"
             ],
             [
              0.8888888888888888,
              "#fdca26"
             ],
             [
              1,
              "#f0f921"
             ]
            ],
            "type": "heatmapgl"
           }
          ],
          "histogram": [
           {
            "marker": {
             "colorbar": {
              "outlinewidth": 0,
              "ticks": ""
             }
            },
            "type": "histogram"
           }
          ],
          "histogram2d": [
           {
            "colorbar": {
             "outlinewidth": 0,
             "ticks": ""
            },
            "colorscale": [
             [
              0,
              "#0d0887"
             ],
             [
              0.1111111111111111,
              "#46039f"
             ],
             [
              0.2222222222222222,
              "#7201a8"
             ],
             [
              0.3333333333333333,
              "#9c179e"
             ],
             [
              0.4444444444444444,
              "#bd3786"
             ],
             [
              0.5555555555555556,
              "#d8576b"
             ],
             [
              0.6666666666666666,
              "#ed7953"
             ],
             [
              0.7777777777777778,
              "#fb9f3a"
             ],
             [
              0.8888888888888888,
              "#fdca26"
             ],
             [
              1,
              "#f0f921"
             ]
            ],
            "type": "histogram2d"
           }
          ],
          "histogram2dcontour": [
           {
            "colorbar": {
             "outlinewidth": 0,
             "ticks": ""
            },
            "colorscale": [
             [
              0,
              "#0d0887"
             ],
             [
              0.1111111111111111,
              "#46039f"
             ],
             [
              0.2222222222222222,
              "#7201a8"
             ],
             [
              0.3333333333333333,
              "#9c179e"
             ],
             [
              0.4444444444444444,
              "#bd3786"
             ],
             [
              0.5555555555555556,
              "#d8576b"
             ],
             [
              0.6666666666666666,
              "#ed7953"
             ],
             [
              0.7777777777777778,
              "#fb9f3a"
             ],
             [
              0.8888888888888888,
              "#fdca26"
             ],
             [
              1,
              "#f0f921"
             ]
            ],
            "type": "histogram2dcontour"
           }
          ],
          "mesh3d": [
           {
            "colorbar": {
             "outlinewidth": 0,
             "ticks": ""
            },
            "type": "mesh3d"
           }
          ],
          "parcoords": [
           {
            "line": {
             "colorbar": {
              "outlinewidth": 0,
              "ticks": ""
             }
            },
            "type": "parcoords"
           }
          ],
          "pie": [
           {
            "automargin": true,
            "type": "pie"
           }
          ],
          "scatter": [
           {
            "marker": {
             "colorbar": {
              "outlinewidth": 0,
              "ticks": ""
             }
            },
            "type": "scatter"
           }
          ],
          "scatter3d": [
           {
            "line": {
             "colorbar": {
              "outlinewidth": 0,
              "ticks": ""
             }
            },
            "marker": {
             "colorbar": {
              "outlinewidth": 0,
              "ticks": ""
             }
            },
            "type": "scatter3d"
           }
          ],
          "scattercarpet": [
           {
            "marker": {
             "colorbar": {
              "outlinewidth": 0,
              "ticks": ""
             }
            },
            "type": "scattercarpet"
           }
          ],
          "scattergeo": [
           {
            "marker": {
             "colorbar": {
              "outlinewidth": 0,
              "ticks": ""
             }
            },
            "type": "scattergeo"
           }
          ],
          "scattergl": [
           {
            "marker": {
             "colorbar": {
              "outlinewidth": 0,
              "ticks": ""
             }
            },
            "type": "scattergl"
           }
          ],
          "scattermapbox": [
           {
            "marker": {
             "colorbar": {
              "outlinewidth": 0,
              "ticks": ""
             }
            },
            "type": "scattermapbox"
           }
          ],
          "scatterpolar": [
           {
            "marker": {
             "colorbar": {
              "outlinewidth": 0,
              "ticks": ""
             }
            },
            "type": "scatterpolar"
           }
          ],
          "scatterpolargl": [
           {
            "marker": {
             "colorbar": {
              "outlinewidth": 0,
              "ticks": ""
             }
            },
            "type": "scatterpolargl"
           }
          ],
          "scatterternary": [
           {
            "marker": {
             "colorbar": {
              "outlinewidth": 0,
              "ticks": ""
             }
            },
            "type": "scatterternary"
           }
          ],
          "surface": [
           {
            "colorbar": {
             "outlinewidth": 0,
             "ticks": ""
            },
            "colorscale": [
             [
              0,
              "#0d0887"
             ],
             [
              0.1111111111111111,
              "#46039f"
             ],
             [
              0.2222222222222222,
              "#7201a8"
             ],
             [
              0.3333333333333333,
              "#9c179e"
             ],
             [
              0.4444444444444444,
              "#bd3786"
             ],
             [
              0.5555555555555556,
              "#d8576b"
             ],
             [
              0.6666666666666666,
              "#ed7953"
             ],
             [
              0.7777777777777778,
              "#fb9f3a"
             ],
             [
              0.8888888888888888,
              "#fdca26"
             ],
             [
              1,
              "#f0f921"
             ]
            ],
            "type": "surface"
           }
          ],
          "table": [
           {
            "cells": {
             "fill": {
              "color": "#EBF0F8"
             },
             "line": {
              "color": "white"
             }
            },
            "header": {
             "fill": {
              "color": "#C8D4E3"
             },
             "line": {
              "color": "white"
             }
            },
            "type": "table"
           }
          ]
         },
         "layout": {
          "annotationdefaults": {
           "arrowcolor": "#2a3f5f",
           "arrowhead": 0,
           "arrowwidth": 1
          },
          "coloraxis": {
           "colorbar": {
            "outlinewidth": 0,
            "ticks": ""
           }
          },
          "colorscale": {
           "diverging": [
            [
             0,
             "#8e0152"
            ],
            [
             0.1,
             "#c51b7d"
            ],
            [
             0.2,
             "#de77ae"
            ],
            [
             0.3,
             "#f1b6da"
            ],
            [
             0.4,
             "#fde0ef"
            ],
            [
             0.5,
             "#f7f7f7"
            ],
            [
             0.6,
             "#e6f5d0"
            ],
            [
             0.7,
             "#b8e186"
            ],
            [
             0.8,
             "#7fbc41"
            ],
            [
             0.9,
             "#4d9221"
            ],
            [
             1,
             "#276419"
            ]
           ],
           "sequential": [
            [
             0,
             "#0d0887"
            ],
            [
             0.1111111111111111,
             "#46039f"
            ],
            [
             0.2222222222222222,
             "#7201a8"
            ],
            [
             0.3333333333333333,
             "#9c179e"
            ],
            [
             0.4444444444444444,
             "#bd3786"
            ],
            [
             0.5555555555555556,
             "#d8576b"
            ],
            [
             0.6666666666666666,
             "#ed7953"
            ],
            [
             0.7777777777777778,
             "#fb9f3a"
            ],
            [
             0.8888888888888888,
             "#fdca26"
            ],
            [
             1,
             "#f0f921"
            ]
           ],
           "sequentialminus": [
            [
             0,
             "#0d0887"
            ],
            [
             0.1111111111111111,
             "#46039f"
            ],
            [
             0.2222222222222222,
             "#7201a8"
            ],
            [
             0.3333333333333333,
             "#9c179e"
            ],
            [
             0.4444444444444444,
             "#bd3786"
            ],
            [
             0.5555555555555556,
             "#d8576b"
            ],
            [
             0.6666666666666666,
             "#ed7953"
            ],
            [
             0.7777777777777778,
             "#fb9f3a"
            ],
            [
             0.8888888888888888,
             "#fdca26"
            ],
            [
             1,
             "#f0f921"
            ]
           ]
          },
          "colorway": [
           "#636efa",
           "#EF553B",
           "#00cc96",
           "#ab63fa",
           "#FFA15A",
           "#19d3f3",
           "#FF6692",
           "#B6E880",
           "#FF97FF",
           "#FECB52"
          ],
          "font": {
           "color": "#2a3f5f"
          },
          "geo": {
           "bgcolor": "white",
           "lakecolor": "white",
           "landcolor": "#E5ECF6",
           "showlakes": true,
           "showland": true,
           "subunitcolor": "white"
          },
          "hoverlabel": {
           "align": "left"
          },
          "hovermode": "closest",
          "mapbox": {
           "style": "light"
          },
          "paper_bgcolor": "white",
          "plot_bgcolor": "#E5ECF6",
          "polar": {
           "angularaxis": {
            "gridcolor": "white",
            "linecolor": "white",
            "ticks": ""
           },
           "bgcolor": "#E5ECF6",
           "radialaxis": {
            "gridcolor": "white",
            "linecolor": "white",
            "ticks": ""
           }
          },
          "scene": {
           "xaxis": {
            "backgroundcolor": "#E5ECF6",
            "gridcolor": "white",
            "gridwidth": 2,
            "linecolor": "white",
            "showbackground": true,
            "ticks": "",
            "zerolinecolor": "white"
           },
           "yaxis": {
            "backgroundcolor": "#E5ECF6",
            "gridcolor": "white",
            "gridwidth": 2,
            "linecolor": "white",
            "showbackground": true,
            "ticks": "",
            "zerolinecolor": "white"
           },
           "zaxis": {
            "backgroundcolor": "#E5ECF6",
            "gridcolor": "white",
            "gridwidth": 2,
            "linecolor": "white",
            "showbackground": true,
            "ticks": "",
            "zerolinecolor": "white"
           }
          },
          "shapedefaults": {
           "line": {
            "color": "#2a3f5f"
           }
          },
          "ternary": {
           "aaxis": {
            "gridcolor": "white",
            "linecolor": "white",
            "ticks": ""
           },
           "baxis": {
            "gridcolor": "white",
            "linecolor": "white",
            "ticks": ""
           },
           "bgcolor": "#E5ECF6",
           "caxis": {
            "gridcolor": "white",
            "linecolor": "white",
            "ticks": ""
           }
          },
          "title": {
           "x": 0.05
          },
          "xaxis": {
           "automargin": true,
           "gridcolor": "white",
           "linecolor": "white",
           "ticks": "",
           "title": {
            "standoff": 15
           },
           "zerolinecolor": "white",
           "zerolinewidth": 2
          },
          "yaxis": {
           "automargin": true,
           "gridcolor": "white",
           "linecolor": "white",
           "ticks": "",
           "title": {
            "standoff": 15
           },
           "zerolinecolor": "white",
           "zerolinewidth": 2
          }
         }
        },
        "title": {
         "font": {
          "color": "#4D5663"
         }
        },
        "xaxis": {
         "gridcolor": "#E1E5ED",
         "showgrid": true,
         "tickfont": {
          "color": "#4D5663"
         },
         "title": {
          "font": {
           "color": "#4D5663"
          },
          "text": ""
         },
         "zerolinecolor": "#E1E5ED"
        },
        "yaxis": {
         "gridcolor": "#E1E5ED",
         "showgrid": true,
         "tickfont": {
          "color": "#4D5663"
         },
         "title": {
          "font": {
           "color": "#4D5663"
          },
          "text": ""
         },
         "zerolinecolor": "#E1E5ED"
        }
       }
      },
      "text/html": "<div>                            <div id=\"437b2915-c40e-44e9-8041-a3c902d47d1f\" class=\"plotly-graph-div\" style=\"height:525px; width:100%;\"></div>            <script type=\"text/javascript\">                require([\"plotly\"], function(Plotly) {                    window.PLOTLYENV=window.PLOTLYENV || {};\n                    window.PLOTLYENV.BASE_URL='https://plot.ly';                                    if (document.getElementById(\"437b2915-c40e-44e9-8041-a3c902d47d1f\")) {                    Plotly.newPlot(                        \"437b2915-c40e-44e9-8041-a3c902d47d1f\",                        [{\"line\": {\"color\": \"rgba(255, 153, 51, 1.0)\", \"dash\": \"solid\", \"shape\": \"linear\", \"width\": 1.3}, \"mode\": \"lines\", \"name\": \"A\", \"text\": \"\", \"type\": \"scatter\", \"x\": [0, 1, 2, 3, 4, 5, 6, 7, 8, 9, 10, 11, 12, 13, 14, 15, 16, 17, 18, 19, 20, 21, 22, 23, 24, 25, 26, 27, 28, 29, 30, 31, 32, 33, 34, 35, 36, 37, 38, 39, 40, 41, 42, 43, 44, 45, 46, 47, 48, 49, 50, 51, 52, 53, 54, 55, 56, 57, 58, 59, 60, 61, 62, 63, 64, 65, 66, 67, 68, 69, 70, 71, 72, 73, 74, 75, 76, 77, 78, 79, 80, 81, 82, 83, 84, 85, 86, 87, 88, 89, 90, 91, 92, 93, 94, 95, 96, 97, 98, 99], \"y\": [-1.3029910260185527, -0.6345409755605936, -0.4970843398185257, -0.3992817913574426, 0.3542058101349474, 0.8543758691640285, -1.0468768028721744, 0.2789171405384338, -0.76171218492107, 0.40464930572129154, -0.6384727864741406, -1.3458595010765868, 1.5657969612355531, 1.852087700752619, -1.858209315329607, 1.0548013998797294, 0.2331479668856663, -0.8635754387722143, 4.417467107403022, 1.40622229909111, -2.015032676198931, -0.2561727767083366, 0.7382067662237576, 0.7037797661928586, -0.5543212368675678, 1.3409664893306001, -1.7303621843739518, 0.4775972268947309, -0.4620894851875813, -0.7400384250472646, -0.5446018259363711, -1.5889874108236144, -0.5426498848727573, 0.5011120325214004, -0.7517444948429257, 0.028493823762782523, 0.02854923672584782, -1.9593429113352838, 1.9845931234194278, -0.7558075542719448, 0.8298734827966223, -0.23560652672566115, 1.6578554250685131, -0.9763334820803592, 1.5226477828864031, 0.2768256161764863, 0.891783019254991, 0.40892348209705315, 0.9001034755451008, -0.3197994322786932, -0.03294865030857477, 0.296044672372106, 0.3432723261782436, 1.0901163597253134, 0.7047239300778516, 0.8813199972630109, -0.45744344192105174, 0.04157430103289277, 0.8276125056952289, -0.9480788642567572, -0.6044676168417205, 1.611867714416388, 1.2246848807776154, -0.6328198355511625, 0.9464537467313994, 0.36599133674643897, -0.8798817680838723, -1.3230735318416644, -0.6595945535162456, 0.13797127187224512, 0.15451324844661918, -0.17374227573073595, 0.8607055851340712, -1.4650580768799903, 0.656323657390342, -0.4557291434314094, 0.345607076807079, 0.19745473049773005, 1.514847404376252, -0.18607690739128482, -1.8016979248982299, -0.19761125496540985, -0.5909773454319642, 0.9755262457915866, 1.3205693996435137, -0.8337816922682474, -0.5331440794813804, 0.13810379120023636, 0.6908652576755376, 2.4042990640209925, -0.4613939277138382, 0.49764752630670156, -0.35148286196763745, -1.1701644083500602, 0.1348354270164706, -1.9629604731270334, -0.003863839593197497, -0.4354492036023001, -1.3922277145959536, -1.5090989891608224]}, {\"line\": {\"color\": \"rgba(55, 128, 191, 1.0)\", \"dash\": \"solid\", \"shape\": \"linear\", \"width\": 1.3}, \"mode\": \"lines\", \"name\": \"B\", \"text\": \"\", \"type\": \"scatter\", \"x\": [0, 1, 2, 3, 4, 5, 6, 7, 8, 9, 10, 11, 12, 13, 14, 15, 16, 17, 18, 19, 20, 21, 22, 23, 24, 25, 26, 27, 28, 29, 30, 31, 32, 33, 34, 35, 36, 37, 38, 39, 40, 41, 42, 43, 44, 45, 46, 47, 48, 49, 50, 51, 52, 53, 54, 55, 56, 57, 58, 59, 60, 61, 62, 63, 64, 65, 66, 67, 68, 69, 70, 71, 72, 73, 74, 75, 76, 77, 78, 79, 80, 81, 82, 83, 84, 85, 86, 87, 88, 89, 90, 91, 92, 93, 94, 95, 96, 97, 98, 99], \"y\": [1.6882512260973117, 0.5158710176755467, 0.23873990299003114, -0.3145327392960178, -0.05786817255526092, 0.9910843865872273, -1.0359585321881506, -0.5698709915778961, -0.18398005469406745, 2.207853423864874, -1.5915361144745996, -0.04509144587511076, 1.4524707552409064, 0.009529666735718404, 0.38086626935385665, -1.3655534301942167, -0.6323354798386047, 0.1299661205027946, -1.0802218366789245, -0.4001497721668597, 0.4569183313465229, 0.5725027864331934, -0.786801615614401, -0.4607091302129849, 0.4387832560969114, -0.8681951918586254, -0.17024126947998658, -0.18772649499073882, 0.8301378378358303, -0.6854567252345459, -0.9692801208233021, 1.093008227937934, 0.4055615455099214, -0.4627488465376716, 0.6583239260354653, 0.4433568775285607, -0.6035229622366626, 0.24292340871916762, -1.5042957825197651, -0.3000603027015591, 0.34142667945691635, -0.32482252628960095, -0.4433082234932536, 3.9440742696935183, 0.6207740079924924, 0.38968436436994813, -0.6817579363443267, 0.5324818222762935, 1.657366941484701, -2.170981037992793, 1.9267561793656178, 0.24012012482685968, 0.7956723907522188, 1.7024993954432366, -0.7873073675113008, 2.8706607317065327, -0.6560868407201098, -1.0410526481187512, 0.5161361158856086, -0.19460530871301887, 0.6339646401989558, -0.4339578914814445, 0.5359625838619514, -0.35184245858300894, 1.267781690132369, 1.4428270469701054, -2.3783123560981556, 0.4022682155326851, -0.08789270205665065, -0.10123022381383125, -0.9780231207040389, 0.5689741256244726, 0.05688867947033349, -0.8285477988648572, -0.9503655814587794, 0.7191848562066077, -1.8851542589635966, 0.43590135574921746, -1.2959988337617907, -0.5187077191995955, -1.004562271290593, 1.1677495409372405, 0.6273603363579863, -1.3749559508117815, -1.1168796208778597, 0.7718042568586778, -0.34632674300445754, 0.6127372641882435, 0.9711121349827319, -1.078653942896353, 0.24404343023187977, -0.6824417313159293, 0.5528694965383156, 1.4310992595922643, -1.8101215673535866, -0.7755550623471177, 0.4390286964608778, 1.1952452180489437, 1.368550012271986, 2.0617211569183644]}, {\"line\": {\"color\": \"rgba(50, 171, 96, 1.0)\", \"dash\": \"solid\", \"shape\": \"linear\", \"width\": 1.3}, \"mode\": \"lines\", \"name\": \"C\", \"text\": \"\", \"type\": \"scatter\", \"x\": [0, 1, 2, 3, 4, 5, 6, 7, 8, 9, 10, 11, 12, 13, 14, 15, 16, 17, 18, 19, 20, 21, 22, 23, 24, 25, 26, 27, 28, 29, 30, 31, 32, 33, 34, 35, 36, 37, 38, 39, 40, 41, 42, 43, 44, 45, 46, 47, 48, 49, 50, 51, 52, 53, 54, 55, 56, 57, 58, 59, 60, 61, 62, 63, 64, 65, 66, 67, 68, 69, 70, 71, 72, 73, 74, 75, 76, 77, 78, 79, 80, 81, 82, 83, 84, 85, 86, 87, 88, 89, 90, 91, 92, 93, 94, 95, 96, 97, 98, 99], \"y\": [-0.8264506896233805, -1.176350899758253, -0.3677318188530756, -1.4720044653787656, -1.1588858045628407, 0.7456953964634894, 0.9566298973293653, -1.20693808448789, 0.6174914037644343, -1.1909576331256633, 0.2701066171754702, 0.5994816206301261, 1.1814159707156198, 0.7832863821980021, 1.240112408998169, 0.34545333408179524, -0.6008125344385378, 0.9289027324451608, 0.2566003424581543, 1.006205400995946, 0.6119900986898285, -0.22549823130571103, 0.3898590248891198, 0.07599263922972696, 0.727470442932236, -0.08176203193937615, -1.3599930411133478, 0.17224613831251542, -0.4727843796394581, -0.8060233755273365, 0.5055975265481226, -1.8753494400479889, 1.2941730790456025, 1.5744102948673322, 0.7387730258347036, 0.5860045969300058, -0.723619796547478, -1.0417591768263024, -0.470771560915133, -1.4929970412565141, -0.32707911189483263, 0.7282251781063928, -1.377605043831834, 0.16343450498583165, 1.356744370844419, -0.3312365717940639, -0.8250322594337683, 0.07941500296377305, -1.162689769676185, 0.05374250312152779, 0.7604301001397885, 0.43896084929677054, -0.8820998638015842, 0.5499624730620242, 0.9140106310131192, 1.055917905098612, -0.7414955604032043, -0.5463212937101766, 0.4955784597360281, -0.02354492683148001, -0.3727337336161601, -0.9852186141474171, -0.7678438413812869, -1.2236613002725114, 0.15284364016870355, 2.0468554192192165, -0.9126705058694156, 1.4446749566113084, -0.7116661162542393, -1.1444509425362968, 0.9164979198882102, 1.2037589326356088, 0.12920025623173145, 1.6007240787584662, 1.5529956912491711, -0.4575394938769466, -1.6977306145222575, -1.1204170929687185, 0.2935858280530774, 1.462026892082136, 0.9286319801513351, 0.008154553256302497, -1.2129074476653168, 0.4178486727721547, -1.3006006388635418, 0.5936363842794125, 1.8163543415605183, -0.024725382636794385, -2.2280124441295257, 1.0747791114191572, -1.4637658946247378, 1.7400313929211857, -0.17307079517082638, 0.42330521334767957, 0.2374962757042385, -0.450632373356384, -0.45411844823390657, 1.5364162778575143, 0.42605356124318955, 0.5527684042994255]}, {\"line\": {\"color\": \"rgba(128, 0, 128, 1.0)\", \"dash\": \"solid\", \"shape\": \"linear\", \"width\": 1.3}, \"mode\": \"lines\", \"name\": \"D\", \"text\": \"\", \"type\": \"scatter\", \"x\": [0, 1, 2, 3, 4, 5, 6, 7, 8, 9, 10, 11, 12, 13, 14, 15, 16, 17, 18, 19, 20, 21, 22, 23, 24, 25, 26, 27, 28, 29, 30, 31, 32, 33, 34, 35, 36, 37, 38, 39, 40, 41, 42, 43, 44, 45, 46, 47, 48, 49, 50, 51, 52, 53, 54, 55, 56, 57, 58, 59, 60, 61, 62, 63, 64, 65, 66, 67, 68, 69, 70, 71, 72, 73, 74, 75, 76, 77, 78, 79, 80, 81, 82, 83, 84, 85, 86, 87, 88, 89, 90, 91, 92, 93, 94, 95, 96, 97, 98, 99], \"y\": [-0.02626126961239427, -0.436014881361742, -0.3746321667542666, -0.43216934958036024, -1.9974703484738867, 1.2203531692837355, 1.1969354738635678, 0.9056019367494507, 2.5720971475191883, 0.43861258089649235, 1.3317194608358982, 0.5804740490811431, 0.3077945483687238, 1.6207599520155838, -0.5857332939936494, -0.6689876810133815, 1.1206919741925525, -0.3336276964064453, 1.1609344777097421, -0.26900488931924105, 1.1712042963975622, 0.0933795353367121, 0.41583992888089016, -0.6347147363346544, 0.7633242571824619, -0.10102603169494762, -1.2986620354909197, 1.0827016298883472, -0.32468579666207514, -0.8859287637785489, -1.030107173254222, 1.4737090699923479, -0.17920520077362406, 0.06458867694275676, -1.279871590415289, -0.37469460192309745, 0.3613118925257818, -0.10553188426851909, 2.156530435307609, -0.4025178060597154, -1.238293891673967, 0.6763307466900181, 0.09492200812990038, -1.6930694486223723, 0.754338631432365, 0.723715681107002, 1.282071986265144, 0.6982381931950387, 0.9096661806440242, -0.5083574342153262, 0.49113495132250656, -1.168635345365327, 0.12912079274750446, -1.4147372785994312, 0.3180186838907405, 1.8974476996167633, -0.6349760896472313, 1.6882633339919006, 1.1727983010460261, 0.34320252803706036, -0.08701180281681982, 0.19676805834946226, 1.7546858039185933, 1.7829563655292369, -0.06744100113006737, 0.0010950975845474401, -1.3724589104158895, -1.2639376633178299, 0.0857561528368096, -0.1627168101147695, 0.046807728793893964, -1.0676971513463354, 0.3227992372582722, -0.05211477076076739, -0.5155955172641732, -0.8002845641305231, -0.48676442189545316, -1.5507128205030964, -0.07761419707755418, 0.6811570782522675, -0.09173325205891147, 0.36275087610712453, -1.5206926005171164, -1.1961642675468969, 0.5941657842161046, -0.1930731683743713, -0.9557696029219265, -2.4737323835476728, 1.8101360144490268, -2.408067857025599, 1.2513781659366312, 0.6872632233258075, 1.1005577735064482, -0.8285815734428673, -0.3490644553758048, -0.9381096106464754, 0.20987495748261986, -0.17402357693801282, 0.9641646450245878, 0.16431066827431753]}],                        {\"legend\": {\"bgcolor\": \"#F5F6F9\", \"font\": {\"color\": \"#4D5663\"}}, \"paper_bgcolor\": \"#F5F6F9\", \"plot_bgcolor\": \"#F5F6F9\", \"template\": {\"data\": {\"bar\": [{\"error_x\": {\"color\": \"#2a3f5f\"}, \"error_y\": {\"color\": \"#2a3f5f\"}, \"marker\": {\"line\": {\"color\": \"#E5ECF6\", \"width\": 0.5}}, \"type\": \"bar\"}], \"barpolar\": [{\"marker\": {\"line\": {\"color\": \"#E5ECF6\", \"width\": 0.5}}, \"type\": \"barpolar\"}], \"carpet\": [{\"aaxis\": {\"endlinecolor\": \"#2a3f5f\", \"gridcolor\": \"white\", \"linecolor\": \"white\", \"minorgridcolor\": \"white\", \"startlinecolor\": \"#2a3f5f\"}, \"baxis\": {\"endlinecolor\": \"#2a3f5f\", \"gridcolor\": \"white\", \"linecolor\": \"white\", \"minorgridcolor\": \"white\", \"startlinecolor\": \"#2a3f5f\"}, \"type\": \"carpet\"}], \"choropleth\": [{\"colorbar\": {\"outlinewidth\": 0, \"ticks\": \"\"}, \"type\": \"choropleth\"}], \"contour\": [{\"colorbar\": {\"outlinewidth\": 0, \"ticks\": \"\"}, \"colorscale\": [[0.0, \"#0d0887\"], [0.1111111111111111, \"#46039f\"], [0.2222222222222222, \"#7201a8\"], [0.3333333333333333, \"#9c179e\"], [0.4444444444444444, \"#bd3786\"], [0.5555555555555556, \"#d8576b\"], [0.6666666666666666, \"#ed7953\"], [0.7777777777777778, \"#fb9f3a\"], [0.8888888888888888, \"#fdca26\"], [1.0, \"#f0f921\"]], \"type\": \"contour\"}], \"contourcarpet\": [{\"colorbar\": {\"outlinewidth\": 0, \"ticks\": \"\"}, \"type\": \"contourcarpet\"}], \"heatmap\": [{\"colorbar\": {\"outlinewidth\": 0, \"ticks\": \"\"}, \"colorscale\": [[0.0, \"#0d0887\"], [0.1111111111111111, \"#46039f\"], [0.2222222222222222, \"#7201a8\"], [0.3333333333333333, \"#9c179e\"], [0.4444444444444444, \"#bd3786\"], [0.5555555555555556, \"#d8576b\"], [0.6666666666666666, \"#ed7953\"], [0.7777777777777778, \"#fb9f3a\"], [0.8888888888888888, \"#fdca26\"], [1.0, \"#f0f921\"]], \"type\": \"heatmap\"}], \"heatmapgl\": [{\"colorbar\": {\"outlinewidth\": 0, \"ticks\": \"\"}, \"colorscale\": [[0.0, \"#0d0887\"], [0.1111111111111111, \"#46039f\"], [0.2222222222222222, \"#7201a8\"], [0.3333333333333333, \"#9c179e\"], [0.4444444444444444, \"#bd3786\"], [0.5555555555555556, \"#d8576b\"], [0.6666666666666666, \"#ed7953\"], [0.7777777777777778, \"#fb9f3a\"], [0.8888888888888888, \"#fdca26\"], [1.0, \"#f0f921\"]], \"type\": \"heatmapgl\"}], \"histogram\": [{\"marker\": {\"colorbar\": {\"outlinewidth\": 0, \"ticks\": \"\"}}, \"type\": \"histogram\"}], \"histogram2d\": [{\"colorbar\": {\"outlinewidth\": 0, \"ticks\": \"\"}, \"colorscale\": [[0.0, \"#0d0887\"], [0.1111111111111111, \"#46039f\"], [0.2222222222222222, \"#7201a8\"], [0.3333333333333333, \"#9c179e\"], [0.4444444444444444, \"#bd3786\"], [0.5555555555555556, \"#d8576b\"], [0.6666666666666666, \"#ed7953\"], [0.7777777777777778, \"#fb9f3a\"], [0.8888888888888888, \"#fdca26\"], [1.0, \"#f0f921\"]], \"type\": \"histogram2d\"}], \"histogram2dcontour\": [{\"colorbar\": {\"outlinewidth\": 0, \"ticks\": \"\"}, \"colorscale\": [[0.0, \"#0d0887\"], [0.1111111111111111, \"#46039f\"], [0.2222222222222222, \"#7201a8\"], [0.3333333333333333, \"#9c179e\"], [0.4444444444444444, \"#bd3786\"], [0.5555555555555556, \"#d8576b\"], [0.6666666666666666, \"#ed7953\"], [0.7777777777777778, \"#fb9f3a\"], [0.8888888888888888, \"#fdca26\"], [1.0, \"#f0f921\"]], \"type\": \"histogram2dcontour\"}], \"mesh3d\": [{\"colorbar\": {\"outlinewidth\": 0, \"ticks\": \"\"}, \"type\": \"mesh3d\"}], \"parcoords\": [{\"line\": {\"colorbar\": {\"outlinewidth\": 0, \"ticks\": \"\"}}, \"type\": \"parcoords\"}], \"pie\": [{\"automargin\": true, \"type\": \"pie\"}], \"scatter\": [{\"marker\": {\"colorbar\": {\"outlinewidth\": 0, \"ticks\": \"\"}}, \"type\": \"scatter\"}], \"scatter3d\": [{\"line\": {\"colorbar\": {\"outlinewidth\": 0, \"ticks\": \"\"}}, \"marker\": {\"colorbar\": {\"outlinewidth\": 0, \"ticks\": \"\"}}, \"type\": \"scatter3d\"}], \"scattercarpet\": [{\"marker\": {\"colorbar\": {\"outlinewidth\": 0, \"ticks\": \"\"}}, \"type\": \"scattercarpet\"}], \"scattergeo\": [{\"marker\": {\"colorbar\": {\"outlinewidth\": 0, \"ticks\": \"\"}}, \"type\": \"scattergeo\"}], \"scattergl\": [{\"marker\": {\"colorbar\": {\"outlinewidth\": 0, \"ticks\": \"\"}}, \"type\": \"scattergl\"}], \"scattermapbox\": [{\"marker\": {\"colorbar\": {\"outlinewidth\": 0, \"ticks\": \"\"}}, \"type\": \"scattermapbox\"}], \"scatterpolar\": [{\"marker\": {\"colorbar\": {\"outlinewidth\": 0, \"ticks\": \"\"}}, \"type\": \"scatterpolar\"}], \"scatterpolargl\": [{\"marker\": {\"colorbar\": {\"outlinewidth\": 0, \"ticks\": \"\"}}, \"type\": \"scatterpolargl\"}], \"scatterternary\": [{\"marker\": {\"colorbar\": {\"outlinewidth\": 0, \"ticks\": \"\"}}, \"type\": \"scatterternary\"}], \"surface\": [{\"colorbar\": {\"outlinewidth\": 0, \"ticks\": \"\"}, \"colorscale\": [[0.0, \"#0d0887\"], [0.1111111111111111, \"#46039f\"], [0.2222222222222222, \"#7201a8\"], [0.3333333333333333, \"#9c179e\"], [0.4444444444444444, \"#bd3786\"], [0.5555555555555556, \"#d8576b\"], [0.6666666666666666, \"#ed7953\"], [0.7777777777777778, \"#fb9f3a\"], [0.8888888888888888, \"#fdca26\"], [1.0, \"#f0f921\"]], \"type\": \"surface\"}], \"table\": [{\"cells\": {\"fill\": {\"color\": \"#EBF0F8\"}, \"line\": {\"color\": \"white\"}}, \"header\": {\"fill\": {\"color\": \"#C8D4E3\"}, \"line\": {\"color\": \"white\"}}, \"type\": \"table\"}]}, \"layout\": {\"annotationdefaults\": {\"arrowcolor\": \"#2a3f5f\", \"arrowhead\": 0, \"arrowwidth\": 1}, \"coloraxis\": {\"colorbar\": {\"outlinewidth\": 0, \"ticks\": \"\"}}, \"colorscale\": {\"diverging\": [[0, \"#8e0152\"], [0.1, \"#c51b7d\"], [0.2, \"#de77ae\"], [0.3, \"#f1b6da\"], [0.4, \"#fde0ef\"], [0.5, \"#f7f7f7\"], [0.6, \"#e6f5d0\"], [0.7, \"#b8e186\"], [0.8, \"#7fbc41\"], [0.9, \"#4d9221\"], [1, \"#276419\"]], \"sequential\": [[0.0, \"#0d0887\"], [0.1111111111111111, \"#46039f\"], [0.2222222222222222, \"#7201a8\"], [0.3333333333333333, \"#9c179e\"], [0.4444444444444444, \"#bd3786\"], [0.5555555555555556, \"#d8576b\"], [0.6666666666666666, \"#ed7953\"], [0.7777777777777778, \"#fb9f3a\"], [0.8888888888888888, \"#fdca26\"], [1.0, \"#f0f921\"]], \"sequentialminus\": [[0.0, \"#0d0887\"], [0.1111111111111111, \"#46039f\"], [0.2222222222222222, \"#7201a8\"], [0.3333333333333333, \"#9c179e\"], [0.4444444444444444, \"#bd3786\"], [0.5555555555555556, \"#d8576b\"], [0.6666666666666666, \"#ed7953\"], [0.7777777777777778, \"#fb9f3a\"], [0.8888888888888888, \"#fdca26\"], [1.0, \"#f0f921\"]]}, \"colorway\": [\"#636efa\", \"#EF553B\", \"#00cc96\", \"#ab63fa\", \"#FFA15A\", \"#19d3f3\", \"#FF6692\", \"#B6E880\", \"#FF97FF\", \"#FECB52\"], \"font\": {\"color\": \"#2a3f5f\"}, \"geo\": {\"bgcolor\": \"white\", \"lakecolor\": \"white\", \"landcolor\": \"#E5ECF6\", \"showlakes\": true, \"showland\": true, \"subunitcolor\": \"white\"}, \"hoverlabel\": {\"align\": \"left\"}, \"hovermode\": \"closest\", \"mapbox\": {\"style\": \"light\"}, \"paper_bgcolor\": \"white\", \"plot_bgcolor\": \"#E5ECF6\", \"polar\": {\"angularaxis\": {\"gridcolor\": \"white\", \"linecolor\": \"white\", \"ticks\": \"\"}, \"bgcolor\": \"#E5ECF6\", \"radialaxis\": {\"gridcolor\": \"white\", \"linecolor\": \"white\", \"ticks\": \"\"}}, \"scene\": {\"xaxis\": {\"backgroundcolor\": \"#E5ECF6\", \"gridcolor\": \"white\", \"gridwidth\": 2, \"linecolor\": \"white\", \"showbackground\": true, \"ticks\": \"\", \"zerolinecolor\": \"white\"}, \"yaxis\": {\"backgroundcolor\": \"#E5ECF6\", \"gridcolor\": \"white\", \"gridwidth\": 2, \"linecolor\": \"white\", \"showbackground\": true, \"ticks\": \"\", \"zerolinecolor\": \"white\"}, \"zaxis\": {\"backgroundcolor\": \"#E5ECF6\", \"gridcolor\": \"white\", \"gridwidth\": 2, \"linecolor\": \"white\", \"showbackground\": true, \"ticks\": \"\", \"zerolinecolor\": \"white\"}}, \"shapedefaults\": {\"line\": {\"color\": \"#2a3f5f\"}}, \"ternary\": {\"aaxis\": {\"gridcolor\": \"white\", \"linecolor\": \"white\", \"ticks\": \"\"}, \"baxis\": {\"gridcolor\": \"white\", \"linecolor\": \"white\", \"ticks\": \"\"}, \"bgcolor\": \"#E5ECF6\", \"caxis\": {\"gridcolor\": \"white\", \"linecolor\": \"white\", \"ticks\": \"\"}}, \"title\": {\"x\": 0.05}, \"xaxis\": {\"automargin\": true, \"gridcolor\": \"white\", \"linecolor\": \"white\", \"ticks\": \"\", \"title\": {\"standoff\": 15}, \"zerolinecolor\": \"white\", \"zerolinewidth\": 2}, \"yaxis\": {\"automargin\": true, \"gridcolor\": \"white\", \"linecolor\": \"white\", \"ticks\": \"\", \"title\": {\"standoff\": 15}, \"zerolinecolor\": \"white\", \"zerolinewidth\": 2}}}, \"title\": {\"font\": {\"color\": \"#4D5663\"}}, \"xaxis\": {\"gridcolor\": \"#E1E5ED\", \"showgrid\": true, \"tickfont\": {\"color\": \"#4D5663\"}, \"title\": {\"font\": {\"color\": \"#4D5663\"}, \"text\": \"\"}, \"zerolinecolor\": \"#E1E5ED\"}, \"yaxis\": {\"gridcolor\": \"#E1E5ED\", \"showgrid\": true, \"tickfont\": {\"color\": \"#4D5663\"}, \"title\": {\"font\": {\"color\": \"#4D5663\"}, \"text\": \"\"}, \"zerolinecolor\": \"#E1E5ED\"}},                        {\"showLink\": true, \"linkText\": \"Export to plot.ly\", \"plotlyServerURL\": \"https://plot.ly\", \"responsive\": true}                    ).then(function(){\n                            \nvar gd = document.getElementById('437b2915-c40e-44e9-8041-a3c902d47d1f');\nvar x = new MutationObserver(function (mutations, observer) {{\n        var display = window.getComputedStyle(gd).display;\n        if (!display || display === 'none') {{\n            console.log([gd, 'removed!']);\n            Plotly.purge(gd);\n            observer.disconnect();\n        }}\n}});\n\n// Listen for the removal of the full notebook cells\nvar notebookContainer = gd.closest('#notebook-container');\nif (notebookContainer) {{\n    x.observe(notebookContainer, {childList: true});\n}}\n\n// Listen for the clearing of the current output cell\nvar outputEl = gd.closest('.output');\nif (outputEl) {{\n    x.observe(outputEl, {childList: true});\n}}\n\n                        })                };                });            </script>        </div>"
     },
     "metadata": {}
    }
   ],
   "source": [
    "df.iplot() # interactive"
   ]
  },
  {
   "source": [
    "## Using Cufflinks and iplot()\n",
    "\n",
    "* scatter\n",
    "* bar\n",
    "* box\n",
    "* spread\n",
    "* ratio\n",
    "* heatmap\n",
    "* surface\n",
    "* histogram\n",
    "* bubble"
   ],
   "cell_type": "markdown",
   "metadata": {}
  },
  {
   "source": [
    "## Scatter Plots"
   ],
   "cell_type": "markdown",
   "metadata": {}
  },
  {
   "cell_type": "code",
   "execution_count": 11,
   "metadata": {},
   "outputs": [
    {
     "output_type": "display_data",
     "data": {
      "application/vnd.plotly.v1+json": {
       "config": {
        "linkText": "Export to plot.ly",
        "plotlyServerURL": "https://plot.ly",
        "showLink": true
       },
       "data": [
        {
         "line": {
          "color": "rgba(255, 153, 51, 1.0)",
          "dash": "solid",
          "shape": "linear",
          "width": 1.3
         },
         "mode": "lines",
         "name": "B",
         "text": "",
         "type": "scatter",
         "x": [
          -1.3029910260185527,
          -0.6345409755605936,
          -0.4970843398185257,
          -0.3992817913574426,
          0.3542058101349474,
          0.8543758691640285,
          -1.0468768028721744,
          0.2789171405384338,
          -0.76171218492107,
          0.40464930572129154,
          -0.6384727864741406,
          -1.3458595010765868,
          1.5657969612355531,
          1.852087700752619,
          -1.858209315329607,
          1.0548013998797294,
          0.2331479668856663,
          -0.8635754387722143,
          4.417467107403022,
          1.40622229909111,
          -2.015032676198931,
          -0.2561727767083366,
          0.7382067662237576,
          0.7037797661928586,
          -0.5543212368675678,
          1.3409664893306001,
          -1.7303621843739518,
          0.4775972268947309,
          -0.4620894851875813,
          -0.7400384250472646,
          -0.5446018259363711,
          -1.5889874108236144,
          -0.5426498848727573,
          0.5011120325214004,
          -0.7517444948429257,
          0.028493823762782523,
          0.02854923672584782,
          -1.9593429113352838,
          1.9845931234194278,
          -0.7558075542719448,
          0.8298734827966223,
          -0.23560652672566115,
          1.6578554250685131,
          -0.9763334820803592,
          1.5226477828864031,
          0.2768256161764863,
          0.891783019254991,
          0.40892348209705315,
          0.9001034755451008,
          -0.3197994322786932,
          -0.03294865030857477,
          0.296044672372106,
          0.3432723261782436,
          1.0901163597253134,
          0.7047239300778516,
          0.8813199972630109,
          -0.45744344192105174,
          0.04157430103289277,
          0.8276125056952289,
          -0.9480788642567572,
          -0.6044676168417205,
          1.611867714416388,
          1.2246848807776154,
          -0.6328198355511625,
          0.9464537467313994,
          0.36599133674643897,
          -0.8798817680838723,
          -1.3230735318416644,
          -0.6595945535162456,
          0.13797127187224512,
          0.15451324844661918,
          -0.17374227573073595,
          0.8607055851340712,
          -1.4650580768799903,
          0.656323657390342,
          -0.4557291434314094,
          0.345607076807079,
          0.19745473049773005,
          1.514847404376252,
          -0.18607690739128482,
          -1.8016979248982299,
          -0.19761125496540985,
          -0.5909773454319642,
          0.9755262457915866,
          1.3205693996435137,
          -0.8337816922682474,
          -0.5331440794813804,
          0.13810379120023636,
          0.6908652576755376,
          2.4042990640209925,
          -0.4613939277138382,
          0.49764752630670156,
          -0.35148286196763745,
          -1.1701644083500602,
          0.1348354270164706,
          -1.9629604731270334,
          -0.003863839593197497,
          -0.4354492036023001,
          -1.3922277145959536,
          -1.5090989891608224
         ],
         "y": [
          1.6882512260973117,
          0.5158710176755467,
          0.23873990299003114,
          -0.3145327392960178,
          -0.05786817255526092,
          0.9910843865872273,
          -1.0359585321881506,
          -0.5698709915778961,
          -0.18398005469406745,
          2.207853423864874,
          -1.5915361144745996,
          -0.04509144587511076,
          1.4524707552409064,
          0.009529666735718404,
          0.38086626935385665,
          -1.3655534301942167,
          -0.6323354798386047,
          0.1299661205027946,
          -1.0802218366789245,
          -0.4001497721668597,
          0.4569183313465229,
          0.5725027864331934,
          -0.786801615614401,
          -0.4607091302129849,
          0.4387832560969114,
          -0.8681951918586254,
          -0.17024126947998658,
          -0.18772649499073882,
          0.8301378378358303,
          -0.6854567252345459,
          -0.9692801208233021,
          1.093008227937934,
          0.4055615455099214,
          -0.4627488465376716,
          0.6583239260354653,
          0.4433568775285607,
          -0.6035229622366626,
          0.24292340871916762,
          -1.5042957825197651,
          -0.3000603027015591,
          0.34142667945691635,
          -0.32482252628960095,
          -0.4433082234932536,
          3.9440742696935183,
          0.6207740079924924,
          0.38968436436994813,
          -0.6817579363443267,
          0.5324818222762935,
          1.657366941484701,
          -2.170981037992793,
          1.9267561793656178,
          0.24012012482685968,
          0.7956723907522188,
          1.7024993954432366,
          -0.7873073675113008,
          2.8706607317065327,
          -0.6560868407201098,
          -1.0410526481187512,
          0.5161361158856086,
          -0.19460530871301887,
          0.6339646401989558,
          -0.4339578914814445,
          0.5359625838619514,
          -0.35184245858300894,
          1.267781690132369,
          1.4428270469701054,
          -2.3783123560981556,
          0.4022682155326851,
          -0.08789270205665065,
          -0.10123022381383125,
          -0.9780231207040389,
          0.5689741256244726,
          0.05688867947033349,
          -0.8285477988648572,
          -0.9503655814587794,
          0.7191848562066077,
          -1.8851542589635966,
          0.43590135574921746,
          -1.2959988337617907,
          -0.5187077191995955,
          -1.004562271290593,
          1.1677495409372405,
          0.6273603363579863,
          -1.3749559508117815,
          -1.1168796208778597,
          0.7718042568586778,
          -0.34632674300445754,
          0.6127372641882435,
          0.9711121349827319,
          -1.078653942896353,
          0.24404343023187977,
          -0.6824417313159293,
          0.5528694965383156,
          1.4310992595922643,
          -1.8101215673535866,
          -0.7755550623471177,
          0.4390286964608778,
          1.1952452180489437,
          1.368550012271986,
          2.0617211569183644
         ]
        }
       ],
       "layout": {
        "legend": {
         "bgcolor": "#F5F6F9",
         "font": {
          "color": "#4D5663"
         }
        },
        "paper_bgcolor": "#F5F6F9",
        "plot_bgcolor": "#F5F6F9",
        "template": {
         "data": {
          "bar": [
           {
            "error_x": {
             "color": "#2a3f5f"
            },
            "error_y": {
             "color": "#2a3f5f"
            },
            "marker": {
             "line": {
              "color": "#E5ECF6",
              "width": 0.5
             }
            },
            "type": "bar"
           }
          ],
          "barpolar": [
           {
            "marker": {
             "line": {
              "color": "#E5ECF6",
              "width": 0.5
             }
            },
            "type": "barpolar"
           }
          ],
          "carpet": [
           {
            "aaxis": {
             "endlinecolor": "#2a3f5f",
             "gridcolor": "white",
             "linecolor": "white",
             "minorgridcolor": "white",
             "startlinecolor": "#2a3f5f"
            },
            "baxis": {
             "endlinecolor": "#2a3f5f",
             "gridcolor": "white",
             "linecolor": "white",
             "minorgridcolor": "white",
             "startlinecolor": "#2a3f5f"
            },
            "type": "carpet"
           }
          ],
          "choropleth": [
           {
            "colorbar": {
             "outlinewidth": 0,
             "ticks": ""
            },
            "type": "choropleth"
           }
          ],
          "contour": [
           {
            "colorbar": {
             "outlinewidth": 0,
             "ticks": ""
            },
            "colorscale": [
             [
              0,
              "#0d0887"
             ],
             [
              0.1111111111111111,
              "#46039f"
             ],
             [
              0.2222222222222222,
              "#7201a8"
             ],
             [
              0.3333333333333333,
              "#9c179e"
             ],
             [
              0.4444444444444444,
              "#bd3786"
             ],
             [
              0.5555555555555556,
              "#d8576b"
             ],
             [
              0.6666666666666666,
              "#ed7953"
             ],
             [
              0.7777777777777778,
              "#fb9f3a"
             ],
             [
              0.8888888888888888,
              "#fdca26"
             ],
             [
              1,
              "#f0f921"
             ]
            ],
            "type": "contour"
           }
          ],
          "contourcarpet": [
           {
            "colorbar": {
             "outlinewidth": 0,
             "ticks": ""
            },
            "type": "contourcarpet"
           }
          ],
          "heatmap": [
           {
            "colorbar": {
             "outlinewidth": 0,
             "ticks": ""
            },
            "colorscale": [
             [
              0,
              "#0d0887"
             ],
             [
              0.1111111111111111,
              "#46039f"
             ],
             [
              0.2222222222222222,
              "#7201a8"
             ],
             [
              0.3333333333333333,
              "#9c179e"
             ],
             [
              0.4444444444444444,
              "#bd3786"
             ],
             [
              0.5555555555555556,
              "#d8576b"
             ],
             [
              0.6666666666666666,
              "#ed7953"
             ],
             [
              0.7777777777777778,
              "#fb9f3a"
             ],
             [
              0.8888888888888888,
              "#fdca26"
             ],
             [
              1,
              "#f0f921"
             ]
            ],
            "type": "heatmap"
           }
          ],
          "heatmapgl": [
           {
            "colorbar": {
             "outlinewidth": 0,
             "ticks": ""
            },
            "colorscale": [
             [
              0,
              "#0d0887"
             ],
             [
              0.1111111111111111,
              "#46039f"
             ],
             [
              0.2222222222222222,
              "#7201a8"
             ],
             [
              0.3333333333333333,
              "#9c179e"
             ],
             [
              0.4444444444444444,
              "#bd3786"
             ],
             [
              0.5555555555555556,
              "#d8576b"
             ],
             [
              0.6666666666666666,
              "#ed7953"
             ],
             [
              0.7777777777777778,
              "#fb9f3a"
             ],
             [
              0.8888888888888888,
              "#fdca26"
             ],
             [
              1,
              "#f0f921"
             ]
            ],
            "type": "heatmapgl"
           }
          ],
          "histogram": [
           {
            "marker": {
             "colorbar": {
              "outlinewidth": 0,
              "ticks": ""
             }
            },
            "type": "histogram"
           }
          ],
          "histogram2d": [
           {
            "colorbar": {
             "outlinewidth": 0,
             "ticks": ""
            },
            "colorscale": [
             [
              0,
              "#0d0887"
             ],
             [
              0.1111111111111111,
              "#46039f"
             ],
             [
              0.2222222222222222,
              "#7201a8"
             ],
             [
              0.3333333333333333,
              "#9c179e"
             ],
             [
              0.4444444444444444,
              "#bd3786"
             ],
             [
              0.5555555555555556,
              "#d8576b"
             ],
             [
              0.6666666666666666,
              "#ed7953"
             ],
             [
              0.7777777777777778,
              "#fb9f3a"
             ],
             [
              0.8888888888888888,
              "#fdca26"
             ],
             [
              1,
              "#f0f921"
             ]
            ],
            "type": "histogram2d"
           }
          ],
          "histogram2dcontour": [
           {
            "colorbar": {
             "outlinewidth": 0,
             "ticks": ""
            },
            "colorscale": [
             [
              0,
              "#0d0887"
             ],
             [
              0.1111111111111111,
              "#46039f"
             ],
             [
              0.2222222222222222,
              "#7201a8"
             ],
             [
              0.3333333333333333,
              "#9c179e"
             ],
             [
              0.4444444444444444,
              "#bd3786"
             ],
             [
              0.5555555555555556,
              "#d8576b"
             ],
             [
              0.6666666666666666,
              "#ed7953"
             ],
             [
              0.7777777777777778,
              "#fb9f3a"
             ],
             [
              0.8888888888888888,
              "#fdca26"
             ],
             [
              1,
              "#f0f921"
             ]
            ],
            "type": "histogram2dcontour"
           }
          ],
          "mesh3d": [
           {
            "colorbar": {
             "outlinewidth": 0,
             "ticks": ""
            },
            "type": "mesh3d"
           }
          ],
          "parcoords": [
           {
            "line": {
             "colorbar": {
              "outlinewidth": 0,
              "ticks": ""
             }
            },
            "type": "parcoords"
           }
          ],
          "pie": [
           {
            "automargin": true,
            "type": "pie"
           }
          ],
          "scatter": [
           {
            "marker": {
             "colorbar": {
              "outlinewidth": 0,
              "ticks": ""
             }
            },
            "type": "scatter"
           }
          ],
          "scatter3d": [
           {
            "line": {
             "colorbar": {
              "outlinewidth": 0,
              "ticks": ""
             }
            },
            "marker": {
             "colorbar": {
              "outlinewidth": 0,
              "ticks": ""
             }
            },
            "type": "scatter3d"
           }
          ],
          "scattercarpet": [
           {
            "marker": {
             "colorbar": {
              "outlinewidth": 0,
              "ticks": ""
             }
            },
            "type": "scattercarpet"
           }
          ],
          "scattergeo": [
           {
            "marker": {
             "colorbar": {
              "outlinewidth": 0,
              "ticks": ""
             }
            },
            "type": "scattergeo"
           }
          ],
          "scattergl": [
           {
            "marker": {
             "colorbar": {
              "outlinewidth": 0,
              "ticks": ""
             }
            },
            "type": "scattergl"
           }
          ],
          "scattermapbox": [
           {
            "marker": {
             "colorbar": {
              "outlinewidth": 0,
              "ticks": ""
             }
            },
            "type": "scattermapbox"
           }
          ],
          "scatterpolar": [
           {
            "marker": {
             "colorbar": {
              "outlinewidth": 0,
              "ticks": ""
             }
            },
            "type": "scatterpolar"
           }
          ],
          "scatterpolargl": [
           {
            "marker": {
             "colorbar": {
              "outlinewidth": 0,
              "ticks": ""
             }
            },
            "type": "scatterpolargl"
           }
          ],
          "scatterternary": [
           {
            "marker": {
             "colorbar": {
              "outlinewidth": 0,
              "ticks": ""
             }
            },
            "type": "scatterternary"
           }
          ],
          "surface": [
           {
            "colorbar": {
             "outlinewidth": 0,
             "ticks": ""
            },
            "colorscale": [
             [
              0,
              "#0d0887"
             ],
             [
              0.1111111111111111,
              "#46039f"
             ],
             [
              0.2222222222222222,
              "#7201a8"
             ],
             [
              0.3333333333333333,
              "#9c179e"
             ],
             [
              0.4444444444444444,
              "#bd3786"
             ],
             [
              0.5555555555555556,
              "#d8576b"
             ],
             [
              0.6666666666666666,
              "#ed7953"
             ],
             [
              0.7777777777777778,
              "#fb9f3a"
             ],
             [
              0.8888888888888888,
              "#fdca26"
             ],
             [
              1,
              "#f0f921"
             ]
            ],
            "type": "surface"
           }
          ],
          "table": [
           {
            "cells": {
             "fill": {
              "color": "#EBF0F8"
             },
             "line": {
              "color": "white"
             }
            },
            "header": {
             "fill": {
              "color": "#C8D4E3"
             },
             "line": {
              "color": "white"
             }
            },
            "type": "table"
           }
          ]
         },
         "layout": {
          "annotationdefaults": {
           "arrowcolor": "#2a3f5f",
           "arrowhead": 0,
           "arrowwidth": 1
          },
          "coloraxis": {
           "colorbar": {
            "outlinewidth": 0,
            "ticks": ""
           }
          },
          "colorscale": {
           "diverging": [
            [
             0,
             "#8e0152"
            ],
            [
             0.1,
             "#c51b7d"
            ],
            [
             0.2,
             "#de77ae"
            ],
            [
             0.3,
             "#f1b6da"
            ],
            [
             0.4,
             "#fde0ef"
            ],
            [
             0.5,
             "#f7f7f7"
            ],
            [
             0.6,
             "#e6f5d0"
            ],
            [
             0.7,
             "#b8e186"
            ],
            [
             0.8,
             "#7fbc41"
            ],
            [
             0.9,
             "#4d9221"
            ],
            [
             1,
             "#276419"
            ]
           ],
           "sequential": [
            [
             0,
             "#0d0887"
            ],
            [
             0.1111111111111111,
             "#46039f"
            ],
            [
             0.2222222222222222,
             "#7201a8"
            ],
            [
             0.3333333333333333,
             "#9c179e"
            ],
            [
             0.4444444444444444,
             "#bd3786"
            ],
            [
             0.5555555555555556,
             "#d8576b"
            ],
            [
             0.6666666666666666,
             "#ed7953"
            ],
            [
             0.7777777777777778,
             "#fb9f3a"
            ],
            [
             0.8888888888888888,
             "#fdca26"
            ],
            [
             1,
             "#f0f921"
            ]
           ],
           "sequentialminus": [
            [
             0,
             "#0d0887"
            ],
            [
             0.1111111111111111,
             "#46039f"
            ],
            [
             0.2222222222222222,
             "#7201a8"
            ],
            [
             0.3333333333333333,
             "#9c179e"
            ],
            [
             0.4444444444444444,
             "#bd3786"
            ],
            [
             0.5555555555555556,
             "#d8576b"
            ],
            [
             0.6666666666666666,
             "#ed7953"
            ],
            [
             0.7777777777777778,
             "#fb9f3a"
            ],
            [
             0.8888888888888888,
             "#fdca26"
            ],
            [
             1,
             "#f0f921"
            ]
           ]
          },
          "colorway": [
           "#636efa",
           "#EF553B",
           "#00cc96",
           "#ab63fa",
           "#FFA15A",
           "#19d3f3",
           "#FF6692",
           "#B6E880",
           "#FF97FF",
           "#FECB52"
          ],
          "font": {
           "color": "#2a3f5f"
          },
          "geo": {
           "bgcolor": "white",
           "lakecolor": "white",
           "landcolor": "#E5ECF6",
           "showlakes": true,
           "showland": true,
           "subunitcolor": "white"
          },
          "hoverlabel": {
           "align": "left"
          },
          "hovermode": "closest",
          "mapbox": {
           "style": "light"
          },
          "paper_bgcolor": "white",
          "plot_bgcolor": "#E5ECF6",
          "polar": {
           "angularaxis": {
            "gridcolor": "white",
            "linecolor": "white",
            "ticks": ""
           },
           "bgcolor": "#E5ECF6",
           "radialaxis": {
            "gridcolor": "white",
            "linecolor": "white",
            "ticks": ""
           }
          },
          "scene": {
           "xaxis": {
            "backgroundcolor": "#E5ECF6",
            "gridcolor": "white",
            "gridwidth": 2,
            "linecolor": "white",
            "showbackground": true,
            "ticks": "",
            "zerolinecolor": "white"
           },
           "yaxis": {
            "backgroundcolor": "#E5ECF6",
            "gridcolor": "white",
            "gridwidth": 2,
            "linecolor": "white",
            "showbackground": true,
            "ticks": "",
            "zerolinecolor": "white"
           },
           "zaxis": {
            "backgroundcolor": "#E5ECF6",
            "gridcolor": "white",
            "gridwidth": 2,
            "linecolor": "white",
            "showbackground": true,
            "ticks": "",
            "zerolinecolor": "white"
           }
          },
          "shapedefaults": {
           "line": {
            "color": "#2a3f5f"
           }
          },
          "ternary": {
           "aaxis": {
            "gridcolor": "white",
            "linecolor": "white",
            "ticks": ""
           },
           "baxis": {
            "gridcolor": "white",
            "linecolor": "white",
            "ticks": ""
           },
           "bgcolor": "#E5ECF6",
           "caxis": {
            "gridcolor": "white",
            "linecolor": "white",
            "ticks": ""
           }
          },
          "title": {
           "x": 0.05
          },
          "xaxis": {
           "automargin": true,
           "gridcolor": "white",
           "linecolor": "white",
           "ticks": "",
           "title": {
            "standoff": 15
           },
           "zerolinecolor": "white",
           "zerolinewidth": 2
          },
          "yaxis": {
           "automargin": true,
           "gridcolor": "white",
           "linecolor": "white",
           "ticks": "",
           "title": {
            "standoff": 15
           },
           "zerolinecolor": "white",
           "zerolinewidth": 2
          }
         }
        },
        "title": {
         "font": {
          "color": "#4D5663"
         }
        },
        "xaxis": {
         "gridcolor": "#E1E5ED",
         "showgrid": true,
         "tickfont": {
          "color": "#4D5663"
         },
         "title": {
          "font": {
           "color": "#4D5663"
          },
          "text": ""
         },
         "zerolinecolor": "#E1E5ED"
        },
        "yaxis": {
         "gridcolor": "#E1E5ED",
         "showgrid": true,
         "tickfont": {
          "color": "#4D5663"
         },
         "title": {
          "font": {
           "color": "#4D5663"
          },
          "text": ""
         },
         "zerolinecolor": "#E1E5ED"
        }
       }
      },
      "text/html": "<div>                            <div id=\"0da770b3-a156-46e2-b06f-b991b97263c3\" class=\"plotly-graph-div\" style=\"height:525px; width:100%;\"></div>            <script type=\"text/javascript\">                require([\"plotly\"], function(Plotly) {                    window.PLOTLYENV=window.PLOTLYENV || {};\n                    window.PLOTLYENV.BASE_URL='https://plot.ly';                                    if (document.getElementById(\"0da770b3-a156-46e2-b06f-b991b97263c3\")) {                    Plotly.newPlot(                        \"0da770b3-a156-46e2-b06f-b991b97263c3\",                        [{\"line\": {\"color\": \"rgba(255, 153, 51, 1.0)\", \"dash\": \"solid\", \"shape\": \"linear\", \"width\": 1.3}, \"mode\": \"lines\", \"name\": \"B\", \"text\": \"\", \"type\": \"scatter\", \"x\": [-1.3029910260185527, -0.6345409755605936, -0.4970843398185257, -0.3992817913574426, 0.3542058101349474, 0.8543758691640285, -1.0468768028721744, 0.2789171405384338, -0.76171218492107, 0.40464930572129154, -0.6384727864741406, -1.3458595010765868, 1.5657969612355531, 1.852087700752619, -1.858209315329607, 1.0548013998797294, 0.2331479668856663, -0.8635754387722143, 4.417467107403022, 1.40622229909111, -2.015032676198931, -0.2561727767083366, 0.7382067662237576, 0.7037797661928586, -0.5543212368675678, 1.3409664893306001, -1.7303621843739518, 0.4775972268947309, -0.4620894851875813, -0.7400384250472646, -0.5446018259363711, -1.5889874108236144, -0.5426498848727573, 0.5011120325214004, -0.7517444948429257, 0.028493823762782523, 0.02854923672584782, -1.9593429113352838, 1.9845931234194278, -0.7558075542719448, 0.8298734827966223, -0.23560652672566115, 1.6578554250685131, -0.9763334820803592, 1.5226477828864031, 0.2768256161764863, 0.891783019254991, 0.40892348209705315, 0.9001034755451008, -0.3197994322786932, -0.03294865030857477, 0.296044672372106, 0.3432723261782436, 1.0901163597253134, 0.7047239300778516, 0.8813199972630109, -0.45744344192105174, 0.04157430103289277, 0.8276125056952289, -0.9480788642567572, -0.6044676168417205, 1.611867714416388, 1.2246848807776154, -0.6328198355511625, 0.9464537467313994, 0.36599133674643897, -0.8798817680838723, -1.3230735318416644, -0.6595945535162456, 0.13797127187224512, 0.15451324844661918, -0.17374227573073595, 0.8607055851340712, -1.4650580768799903, 0.656323657390342, -0.4557291434314094, 0.345607076807079, 0.19745473049773005, 1.514847404376252, -0.18607690739128482, -1.8016979248982299, -0.19761125496540985, -0.5909773454319642, 0.9755262457915866, 1.3205693996435137, -0.8337816922682474, -0.5331440794813804, 0.13810379120023636, 0.6908652576755376, 2.4042990640209925, -0.4613939277138382, 0.49764752630670156, -0.35148286196763745, -1.1701644083500602, 0.1348354270164706, -1.9629604731270334, -0.003863839593197497, -0.4354492036023001, -1.3922277145959536, -1.5090989891608224], \"y\": [1.6882512260973117, 0.5158710176755467, 0.23873990299003114, -0.3145327392960178, -0.05786817255526092, 0.9910843865872273, -1.0359585321881506, -0.5698709915778961, -0.18398005469406745, 2.207853423864874, -1.5915361144745996, -0.04509144587511076, 1.4524707552409064, 0.009529666735718404, 0.38086626935385665, -1.3655534301942167, -0.6323354798386047, 0.1299661205027946, -1.0802218366789245, -0.4001497721668597, 0.4569183313465229, 0.5725027864331934, -0.786801615614401, -0.4607091302129849, 0.4387832560969114, -0.8681951918586254, -0.17024126947998658, -0.18772649499073882, 0.8301378378358303, -0.6854567252345459, -0.9692801208233021, 1.093008227937934, 0.4055615455099214, -0.4627488465376716, 0.6583239260354653, 0.4433568775285607, -0.6035229622366626, 0.24292340871916762, -1.5042957825197651, -0.3000603027015591, 0.34142667945691635, -0.32482252628960095, -0.4433082234932536, 3.9440742696935183, 0.6207740079924924, 0.38968436436994813, -0.6817579363443267, 0.5324818222762935, 1.657366941484701, -2.170981037992793, 1.9267561793656178, 0.24012012482685968, 0.7956723907522188, 1.7024993954432366, -0.7873073675113008, 2.8706607317065327, -0.6560868407201098, -1.0410526481187512, 0.5161361158856086, -0.19460530871301887, 0.6339646401989558, -0.4339578914814445, 0.5359625838619514, -0.35184245858300894, 1.267781690132369, 1.4428270469701054, -2.3783123560981556, 0.4022682155326851, -0.08789270205665065, -0.10123022381383125, -0.9780231207040389, 0.5689741256244726, 0.05688867947033349, -0.8285477988648572, -0.9503655814587794, 0.7191848562066077, -1.8851542589635966, 0.43590135574921746, -1.2959988337617907, -0.5187077191995955, -1.004562271290593, 1.1677495409372405, 0.6273603363579863, -1.3749559508117815, -1.1168796208778597, 0.7718042568586778, -0.34632674300445754, 0.6127372641882435, 0.9711121349827319, -1.078653942896353, 0.24404343023187977, -0.6824417313159293, 0.5528694965383156, 1.4310992595922643, -1.8101215673535866, -0.7755550623471177, 0.4390286964608778, 1.1952452180489437, 1.368550012271986, 2.0617211569183644]}],                        {\"legend\": {\"bgcolor\": \"#F5F6F9\", \"font\": {\"color\": \"#4D5663\"}}, \"paper_bgcolor\": \"#F5F6F9\", \"plot_bgcolor\": \"#F5F6F9\", \"template\": {\"data\": {\"bar\": [{\"error_x\": {\"color\": \"#2a3f5f\"}, \"error_y\": {\"color\": \"#2a3f5f\"}, \"marker\": {\"line\": {\"color\": \"#E5ECF6\", \"width\": 0.5}}, \"type\": \"bar\"}], \"barpolar\": [{\"marker\": {\"line\": {\"color\": \"#E5ECF6\", \"width\": 0.5}}, \"type\": \"barpolar\"}], \"carpet\": [{\"aaxis\": {\"endlinecolor\": \"#2a3f5f\", \"gridcolor\": \"white\", \"linecolor\": \"white\", \"minorgridcolor\": \"white\", \"startlinecolor\": \"#2a3f5f\"}, \"baxis\": {\"endlinecolor\": \"#2a3f5f\", \"gridcolor\": \"white\", \"linecolor\": \"white\", \"minorgridcolor\": \"white\", \"startlinecolor\": \"#2a3f5f\"}, \"type\": \"carpet\"}], \"choropleth\": [{\"colorbar\": {\"outlinewidth\": 0, \"ticks\": \"\"}, \"type\": \"choropleth\"}], \"contour\": [{\"colorbar\": {\"outlinewidth\": 0, \"ticks\": \"\"}, \"colorscale\": [[0.0, \"#0d0887\"], [0.1111111111111111, \"#46039f\"], [0.2222222222222222, \"#7201a8\"], [0.3333333333333333, \"#9c179e\"], [0.4444444444444444, \"#bd3786\"], [0.5555555555555556, \"#d8576b\"], [0.6666666666666666, \"#ed7953\"], [0.7777777777777778, \"#fb9f3a\"], [0.8888888888888888, \"#fdca26\"], [1.0, \"#f0f921\"]], \"type\": \"contour\"}], \"contourcarpet\": [{\"colorbar\": {\"outlinewidth\": 0, \"ticks\": \"\"}, \"type\": \"contourcarpet\"}], \"heatmap\": [{\"colorbar\": {\"outlinewidth\": 0, \"ticks\": \"\"}, \"colorscale\": [[0.0, \"#0d0887\"], [0.1111111111111111, \"#46039f\"], [0.2222222222222222, \"#7201a8\"], [0.3333333333333333, \"#9c179e\"], [0.4444444444444444, \"#bd3786\"], [0.5555555555555556, \"#d8576b\"], [0.6666666666666666, \"#ed7953\"], [0.7777777777777778, \"#fb9f3a\"], [0.8888888888888888, \"#fdca26\"], [1.0, \"#f0f921\"]], \"type\": \"heatmap\"}], \"heatmapgl\": [{\"colorbar\": {\"outlinewidth\": 0, \"ticks\": \"\"}, \"colorscale\": [[0.0, \"#0d0887\"], [0.1111111111111111, \"#46039f\"], [0.2222222222222222, \"#7201a8\"], [0.3333333333333333, \"#9c179e\"], [0.4444444444444444, \"#bd3786\"], [0.5555555555555556, \"#d8576b\"], [0.6666666666666666, \"#ed7953\"], [0.7777777777777778, \"#fb9f3a\"], [0.8888888888888888, \"#fdca26\"], [1.0, \"#f0f921\"]], \"type\": \"heatmapgl\"}], \"histogram\": [{\"marker\": {\"colorbar\": {\"outlinewidth\": 0, \"ticks\": \"\"}}, \"type\": \"histogram\"}], \"histogram2d\": [{\"colorbar\": {\"outlinewidth\": 0, \"ticks\": \"\"}, \"colorscale\": [[0.0, \"#0d0887\"], [0.1111111111111111, \"#46039f\"], [0.2222222222222222, \"#7201a8\"], [0.3333333333333333, \"#9c179e\"], [0.4444444444444444, \"#bd3786\"], [0.5555555555555556, \"#d8576b\"], [0.6666666666666666, \"#ed7953\"], [0.7777777777777778, \"#fb9f3a\"], [0.8888888888888888, \"#fdca26\"], [1.0, \"#f0f921\"]], \"type\": \"histogram2d\"}], \"histogram2dcontour\": [{\"colorbar\": {\"outlinewidth\": 0, \"ticks\": \"\"}, \"colorscale\": [[0.0, \"#0d0887\"], [0.1111111111111111, \"#46039f\"], [0.2222222222222222, \"#7201a8\"], [0.3333333333333333, \"#9c179e\"], [0.4444444444444444, \"#bd3786\"], [0.5555555555555556, \"#d8576b\"], [0.6666666666666666, \"#ed7953\"], [0.7777777777777778, \"#fb9f3a\"], [0.8888888888888888, \"#fdca26\"], [1.0, \"#f0f921\"]], \"type\": \"histogram2dcontour\"}], \"mesh3d\": [{\"colorbar\": {\"outlinewidth\": 0, \"ticks\": \"\"}, \"type\": \"mesh3d\"}], \"parcoords\": [{\"line\": {\"colorbar\": {\"outlinewidth\": 0, \"ticks\": \"\"}}, \"type\": \"parcoords\"}], \"pie\": [{\"automargin\": true, \"type\": \"pie\"}], \"scatter\": [{\"marker\": {\"colorbar\": {\"outlinewidth\": 0, \"ticks\": \"\"}}, \"type\": \"scatter\"}], \"scatter3d\": [{\"line\": {\"colorbar\": {\"outlinewidth\": 0, \"ticks\": \"\"}}, \"marker\": {\"colorbar\": {\"outlinewidth\": 0, \"ticks\": \"\"}}, \"type\": \"scatter3d\"}], \"scattercarpet\": [{\"marker\": {\"colorbar\": {\"outlinewidth\": 0, \"ticks\": \"\"}}, \"type\": \"scattercarpet\"}], \"scattergeo\": [{\"marker\": {\"colorbar\": {\"outlinewidth\": 0, \"ticks\": \"\"}}, \"type\": \"scattergeo\"}], \"scattergl\": [{\"marker\": {\"colorbar\": {\"outlinewidth\": 0, \"ticks\": \"\"}}, \"type\": \"scattergl\"}], \"scattermapbox\": [{\"marker\": {\"colorbar\": {\"outlinewidth\": 0, \"ticks\": \"\"}}, \"type\": \"scattermapbox\"}], \"scatterpolar\": [{\"marker\": {\"colorbar\": {\"outlinewidth\": 0, \"ticks\": \"\"}}, \"type\": \"scatterpolar\"}], \"scatterpolargl\": [{\"marker\": {\"colorbar\": {\"outlinewidth\": 0, \"ticks\": \"\"}}, \"type\": \"scatterpolargl\"}], \"scatterternary\": [{\"marker\": {\"colorbar\": {\"outlinewidth\": 0, \"ticks\": \"\"}}, \"type\": \"scatterternary\"}], \"surface\": [{\"colorbar\": {\"outlinewidth\": 0, \"ticks\": \"\"}, \"colorscale\": [[0.0, \"#0d0887\"], [0.1111111111111111, \"#46039f\"], [0.2222222222222222, \"#7201a8\"], [0.3333333333333333, \"#9c179e\"], [0.4444444444444444, \"#bd3786\"], [0.5555555555555556, \"#d8576b\"], [0.6666666666666666, \"#ed7953\"], [0.7777777777777778, \"#fb9f3a\"], [0.8888888888888888, \"#fdca26\"], [1.0, \"#f0f921\"]], \"type\": \"surface\"}], \"table\": [{\"cells\": {\"fill\": {\"color\": \"#EBF0F8\"}, \"line\": {\"color\": \"white\"}}, \"header\": {\"fill\": {\"color\": \"#C8D4E3\"}, \"line\": {\"color\": \"white\"}}, \"type\": \"table\"}]}, \"layout\": {\"annotationdefaults\": {\"arrowcolor\": \"#2a3f5f\", \"arrowhead\": 0, \"arrowwidth\": 1}, \"coloraxis\": {\"colorbar\": {\"outlinewidth\": 0, \"ticks\": \"\"}}, \"colorscale\": {\"diverging\": [[0, \"#8e0152\"], [0.1, \"#c51b7d\"], [0.2, \"#de77ae\"], [0.3, \"#f1b6da\"], [0.4, \"#fde0ef\"], [0.5, \"#f7f7f7\"], [0.6, \"#e6f5d0\"], [0.7, \"#b8e186\"], [0.8, \"#7fbc41\"], [0.9, \"#4d9221\"], [1, \"#276419\"]], \"sequential\": [[0.0, \"#0d0887\"], [0.1111111111111111, \"#46039f\"], [0.2222222222222222, \"#7201a8\"], [0.3333333333333333, \"#9c179e\"], [0.4444444444444444, \"#bd3786\"], [0.5555555555555556, \"#d8576b\"], [0.6666666666666666, \"#ed7953\"], [0.7777777777777778, \"#fb9f3a\"], [0.8888888888888888, \"#fdca26\"], [1.0, \"#f0f921\"]], \"sequentialminus\": [[0.0, \"#0d0887\"], [0.1111111111111111, \"#46039f\"], [0.2222222222222222, \"#7201a8\"], [0.3333333333333333, \"#9c179e\"], [0.4444444444444444, \"#bd3786\"], [0.5555555555555556, \"#d8576b\"], [0.6666666666666666, \"#ed7953\"], [0.7777777777777778, \"#fb9f3a\"], [0.8888888888888888, \"#fdca26\"], [1.0, \"#f0f921\"]]}, \"colorway\": [\"#636efa\", \"#EF553B\", \"#00cc96\", \"#ab63fa\", \"#FFA15A\", \"#19d3f3\", \"#FF6692\", \"#B6E880\", \"#FF97FF\", \"#FECB52\"], \"font\": {\"color\": \"#2a3f5f\"}, \"geo\": {\"bgcolor\": \"white\", \"lakecolor\": \"white\", \"landcolor\": \"#E5ECF6\", \"showlakes\": true, \"showland\": true, \"subunitcolor\": \"white\"}, \"hoverlabel\": {\"align\": \"left\"}, \"hovermode\": \"closest\", \"mapbox\": {\"style\": \"light\"}, \"paper_bgcolor\": \"white\", \"plot_bgcolor\": \"#E5ECF6\", \"polar\": {\"angularaxis\": {\"gridcolor\": \"white\", \"linecolor\": \"white\", \"ticks\": \"\"}, \"bgcolor\": \"#E5ECF6\", \"radialaxis\": {\"gridcolor\": \"white\", \"linecolor\": \"white\", \"ticks\": \"\"}}, \"scene\": {\"xaxis\": {\"backgroundcolor\": \"#E5ECF6\", \"gridcolor\": \"white\", \"gridwidth\": 2, \"linecolor\": \"white\", \"showbackground\": true, \"ticks\": \"\", \"zerolinecolor\": \"white\"}, \"yaxis\": {\"backgroundcolor\": \"#E5ECF6\", \"gridcolor\": \"white\", \"gridwidth\": 2, \"linecolor\": \"white\", \"showbackground\": true, \"ticks\": \"\", \"zerolinecolor\": \"white\"}, \"zaxis\": {\"backgroundcolor\": \"#E5ECF6\", \"gridcolor\": \"white\", \"gridwidth\": 2, \"linecolor\": \"white\", \"showbackground\": true, \"ticks\": \"\", \"zerolinecolor\": \"white\"}}, \"shapedefaults\": {\"line\": {\"color\": \"#2a3f5f\"}}, \"ternary\": {\"aaxis\": {\"gridcolor\": \"white\", \"linecolor\": \"white\", \"ticks\": \"\"}, \"baxis\": {\"gridcolor\": \"white\", \"linecolor\": \"white\", \"ticks\": \"\"}, \"bgcolor\": \"#E5ECF6\", \"caxis\": {\"gridcolor\": \"white\", \"linecolor\": \"white\", \"ticks\": \"\"}}, \"title\": {\"x\": 0.05}, \"xaxis\": {\"automargin\": true, \"gridcolor\": \"white\", \"linecolor\": \"white\", \"ticks\": \"\", \"title\": {\"standoff\": 15}, \"zerolinecolor\": \"white\", \"zerolinewidth\": 2}, \"yaxis\": {\"automargin\": true, \"gridcolor\": \"white\", \"linecolor\": \"white\", \"ticks\": \"\", \"title\": {\"standoff\": 15}, \"zerolinecolor\": \"white\", \"zerolinewidth\": 2}}}, \"title\": {\"font\": {\"color\": \"#4D5663\"}}, \"xaxis\": {\"gridcolor\": \"#E1E5ED\", \"showgrid\": true, \"tickfont\": {\"color\": \"#4D5663\"}, \"title\": {\"font\": {\"color\": \"#4D5663\"}, \"text\": \"\"}, \"zerolinecolor\": \"#E1E5ED\"}, \"yaxis\": {\"gridcolor\": \"#E1E5ED\", \"showgrid\": true, \"tickfont\": {\"color\": \"#4D5663\"}, \"title\": {\"font\": {\"color\": \"#4D5663\"}, \"text\": \"\"}, \"zerolinecolor\": \"#E1E5ED\"}},                        {\"showLink\": true, \"linkText\": \"Export to plot.ly\", \"plotlyServerURL\": \"https://plot.ly\", \"responsive\": true}                    ).then(function(){\n                            \nvar gd = document.getElementById('0da770b3-a156-46e2-b06f-b991b97263c3');\nvar x = new MutationObserver(function (mutations, observer) {{\n        var display = window.getComputedStyle(gd).display;\n        if (!display || display === 'none') {{\n            console.log([gd, 'removed!']);\n            Plotly.purge(gd);\n            observer.disconnect();\n        }}\n}});\n\n// Listen for the removal of the full notebook cells\nvar notebookContainer = gd.closest('#notebook-container');\nif (notebookContainer) {{\n    x.observe(notebookContainer, {childList: true});\n}}\n\n// Listen for the clearing of the current output cell\nvar outputEl = gd.closest('.output');\nif (outputEl) {{\n    x.observe(outputEl, {childList: true});\n}}\n\n                        })                };                });            </script>        </div>"
     },
     "metadata": {}
    }
   ],
   "source": [
    "df.iplot(kind='scatter', x='A', y='B')"
   ]
  },
  {
   "cell_type": "code",
   "execution_count": 9,
   "metadata": {},
   "outputs": [
    {
     "output_type": "display_data",
     "data": {
      "application/vnd.plotly.v1+json": {
       "config": {
        "linkText": "Export to plot.ly",
        "plotlyServerURL": "https://plot.ly",
        "showLink": true
       },
       "data": [
        {
         "line": {
          "color": "rgba(255, 153, 51, 1.0)",
          "dash": "solid",
          "shape": "linear",
          "width": 1.3
         },
         "marker": {
          "size": 10,
          "symbol": "circle"
         },
         "mode": "markers",
         "name": "B",
         "text": "",
         "type": "scatter",
         "x": [
          -3.1903388189260506,
          0.23396036411163004,
          1.1589655786036386,
          -0.48300006152562525,
          -1.5103337587243804,
          -0.5044248859027471,
          1.182281645215199,
          0.42006775240638894,
          -0.8810298974091847,
          0.5039382873693414,
          -0.731266004129346,
          0.0638361921822204,
          -1.0652754263641049,
          -0.9041076466885405,
          -0.9048795324169541,
          -0.7972587761240022,
          -0.3675670471291356,
          0.28082146701438343,
          -0.08633039339250868,
          0.040217153150704704,
          -0.6690624158655928,
          1.2627520886852726,
          0.8930334427555254,
          -0.5720828983632429,
          -0.10829789239054843,
          0.40614750365984825,
          -1.103865178801149,
          -0.8121010383177608,
          0.10072184675344648,
          -0.5769169489648015,
          -1.064607754248978,
          0.2803088090050602,
          0.27784983531770807,
          -0.41074940453263725,
          0.5858394974501357,
          -1.1873780187790168,
          -1.3497579113052596,
          1.255295743570665,
          -0.6927268600950082,
          -0.36127203424382964,
          -0.34463610823926666,
          -1.2009964413381025,
          1.3923569898979733,
          0.7787889527113488,
          1.8663933162193367,
          -0.7896518608815303,
          0.8604392983684553,
          0.5735613938299836,
          -1.2802106717549009,
          0.44164511860901834,
          -1.1744289444226033,
          -0.0000060149059195747345,
          -0.6467481917357054,
          1.2327214192099953,
          -0.28623017443738186,
          -1.7412710235687312,
          -0.9758958392945769,
          1.600310178717572,
          -0.6658748622479977,
          0.36105544712213045,
          1.2539490446516994,
          1.0583809422068344,
          -0.597617455493197,
          -0.45722923476382665,
          -1.2684784915115794,
          -0.9644190323469388,
          -0.8772580574236023,
          0.085838476310741,
          0.48674958148652886,
          0.9676561629391955,
          -2.13767913287318,
          -2.955837736363831,
          -1.7764340900302908,
          1.272615789302066,
          -0.37425080144249273,
          1.026973987239565,
          2.100477946764772,
          -0.9807225547579596,
          -0.7533250886156038,
          -0.03650463249437804,
          0.3529513644456242,
          -1.3607833800573281,
          -1.7417396477441502,
          -1.2994294895974514,
          0.32077583616185623,
          -0.4244455156618559,
          0.8905320772769698,
          -1.3186547947430771,
          0.12166001368478756,
          -1.2191124444406027,
          0.24654677954656246,
          -0.2623982371892286,
          0.2624213780227509,
          0.09375602776369371,
          -0.8396352448027719,
          -0.5553431002419489,
          -0.06731001731720351,
          -0.49821737363514945,
          2.474916165429662,
          -1.6424571327832522
         ],
         "y": [
          -0.3643496606765255,
          0.026742083793018775,
          0.3584549394564874,
          -0.15087399036258875,
          0.7692264311391451,
          -0.9607394936456178,
          1.099364393084451,
          2.0413594007607077,
          -0.9589429120315346,
          -1.0151262656536937,
          -2.7705342521888636,
          0.04519916765724038,
          -1.0324039775286689,
          0.21166535206455778,
          0.9519171224472974,
          -0.8073326446901398,
          -0.11985422234986415,
          -0.1234321641152109,
          0.9187427563080505,
          -1.5763765046502152,
          0.48951503176455424,
          -0.278969609256558,
          -0.3648383818684051,
          -0.007140551384771878,
          0.824952324575092,
          1.012484922632672,
          0.5845377044183931,
          -1.2711783578576223,
          -0.36902106237264026,
          0.012682393985313328,
          0.3374744579584474,
          1.0374153302021154,
          0.8674581281533991,
          0.49520661962696927,
          -0.2181122070140142,
          -0.4198441589123327,
          -0.22085215002039907,
          -0.14099689419147918,
          -0.9772412761380672,
          -0.9091883734093862,
          -1.5686850852517986,
          0.12633424708785124,
          0.4249983112725074,
          -0.15071571160517683,
          -0.8190528021055005,
          -0.5843142509340462,
          1.009127911825222,
          -0.2532746339494671,
          0.8382486387582775,
          0.2987780822239634,
          -0.42940441705743443,
          0.12942894672747557,
          -0.3784668801032414,
          -0.36623302074540903,
          1.9636781681839237,
          -0.694293703929343,
          0.18243687176223544,
          0.44970065303344275,
          -0.5585085694844554,
          0.5781469849286903,
          -1.478679342255676,
          -2.2017812855469296,
          -0.22766449165792724,
          -0.9850956709230758,
          0.06535721379319329,
          1.6247637881367891,
          0.9388172664094236,
          0.5604816763327075,
          0.2297458405763916,
          0.5705488391936526,
          -0.5429901589467797,
          -1.4375484759630257,
          1.149625790934575,
          -1.8706089909902677,
          0.6574935076546705,
          0.3922469509849665,
          -0.3283399439671376,
          -0.7082986794613881,
          -1.3012155638305742,
          -0.47344112138941563,
          0.025524978856013302,
          -0.6078471413136215,
          0.6221060033789865,
          -0.8425812105486945,
          -1.9731018326838081,
          -2.085182182082291,
          0.7211728722787665,
          1.5764475887837608,
          0.17856892843054062,
          0.09394500672765961,
          -0.838783815812583,
          -2.0640038711962796,
          0.07541148221711562,
          0.011988483697282544,
          1.156875251344672,
          -0.32642331073805275,
          -1.0002773938460705,
          -0.409558017985458,
          -1.6432367398217418,
          -1.458768728092791
         ]
        }
       ],
       "layout": {
        "legend": {
         "bgcolor": "#F5F6F9",
         "font": {
          "color": "#4D5663"
         }
        },
        "paper_bgcolor": "#F5F6F9",
        "plot_bgcolor": "#F5F6F9",
        "template": {
         "data": {
          "bar": [
           {
            "error_x": {
             "color": "#2a3f5f"
            },
            "error_y": {
             "color": "#2a3f5f"
            },
            "marker": {
             "line": {
              "color": "#E5ECF6",
              "width": 0.5
             }
            },
            "type": "bar"
           }
          ],
          "barpolar": [
           {
            "marker": {
             "line": {
              "color": "#E5ECF6",
              "width": 0.5
             }
            },
            "type": "barpolar"
           }
          ],
          "carpet": [
           {
            "aaxis": {
             "endlinecolor": "#2a3f5f",
             "gridcolor": "white",
             "linecolor": "white",
             "minorgridcolor": "white",
             "startlinecolor": "#2a3f5f"
            },
            "baxis": {
             "endlinecolor": "#2a3f5f",
             "gridcolor": "white",
             "linecolor": "white",
             "minorgridcolor": "white",
             "startlinecolor": "#2a3f5f"
            },
            "type": "carpet"
           }
          ],
          "choropleth": [
           {
            "colorbar": {
             "outlinewidth": 0,
             "ticks": ""
            },
            "type": "choropleth"
           }
          ],
          "contour": [
           {
            "colorbar": {
             "outlinewidth": 0,
             "ticks": ""
            },
            "colorscale": [
             [
              0,
              "#0d0887"
             ],
             [
              0.1111111111111111,
              "#46039f"
             ],
             [
              0.2222222222222222,
              "#7201a8"
             ],
             [
              0.3333333333333333,
              "#9c179e"
             ],
             [
              0.4444444444444444,
              "#bd3786"
             ],
             [
              0.5555555555555556,
              "#d8576b"
             ],
             [
              0.6666666666666666,
              "#ed7953"
             ],
             [
              0.7777777777777778,
              "#fb9f3a"
             ],
             [
              0.8888888888888888,
              "#fdca26"
             ],
             [
              1,
              "#f0f921"
             ]
            ],
            "type": "contour"
           }
          ],
          "contourcarpet": [
           {
            "colorbar": {
             "outlinewidth": 0,
             "ticks": ""
            },
            "type": "contourcarpet"
           }
          ],
          "heatmap": [
           {
            "colorbar": {
             "outlinewidth": 0,
             "ticks": ""
            },
            "colorscale": [
             [
              0,
              "#0d0887"
             ],
             [
              0.1111111111111111,
              "#46039f"
             ],
             [
              0.2222222222222222,
              "#7201a8"
             ],
             [
              0.3333333333333333,
              "#9c179e"
             ],
             [
              0.4444444444444444,
              "#bd3786"
             ],
             [
              0.5555555555555556,
              "#d8576b"
             ],
             [
              0.6666666666666666,
              "#ed7953"
             ],
             [
              0.7777777777777778,
              "#fb9f3a"
             ],
             [
              0.8888888888888888,
              "#fdca26"
             ],
             [
              1,
              "#f0f921"
             ]
            ],
            "type": "heatmap"
           }
          ],
          "heatmapgl": [
           {
            "colorbar": {
             "outlinewidth": 0,
             "ticks": ""
            },
            "colorscale": [
             [
              0,
              "#0d0887"
             ],
             [
              0.1111111111111111,
              "#46039f"
             ],
             [
              0.2222222222222222,
              "#7201a8"
             ],
             [
              0.3333333333333333,
              "#9c179e"
             ],
             [
              0.4444444444444444,
              "#bd3786"
             ],
             [
              0.5555555555555556,
              "#d8576b"
             ],
             [
              0.6666666666666666,
              "#ed7953"
             ],
             [
              0.7777777777777778,
              "#fb9f3a"
             ],
             [
              0.8888888888888888,
              "#fdca26"
             ],
             [
              1,
              "#f0f921"
             ]
            ],
            "type": "heatmapgl"
           }
          ],
          "histogram": [
           {
            "marker": {
             "colorbar": {
              "outlinewidth": 0,
              "ticks": ""
             }
            },
            "type": "histogram"
           }
          ],
          "histogram2d": [
           {
            "colorbar": {
             "outlinewidth": 0,
             "ticks": ""
            },
            "colorscale": [
             [
              0,
              "#0d0887"
             ],
             [
              0.1111111111111111,
              "#46039f"
             ],
             [
              0.2222222222222222,
              "#7201a8"
             ],
             [
              0.3333333333333333,
              "#9c179e"
             ],
             [
              0.4444444444444444,
              "#bd3786"
             ],
             [
              0.5555555555555556,
              "#d8576b"
             ],
             [
              0.6666666666666666,
              "#ed7953"
             ],
             [
              0.7777777777777778,
              "#fb9f3a"
             ],
             [
              0.8888888888888888,
              "#fdca26"
             ],
             [
              1,
              "#f0f921"
             ]
            ],
            "type": "histogram2d"
           }
          ],
          "histogram2dcontour": [
           {
            "colorbar": {
             "outlinewidth": 0,
             "ticks": ""
            },
            "colorscale": [
             [
              0,
              "#0d0887"
             ],
             [
              0.1111111111111111,
              "#46039f"
             ],
             [
              0.2222222222222222,
              "#7201a8"
             ],
             [
              0.3333333333333333,
              "#9c179e"
             ],
             [
              0.4444444444444444,
              "#bd3786"
             ],
             [
              0.5555555555555556,
              "#d8576b"
             ],
             [
              0.6666666666666666,
              "#ed7953"
             ],
             [
              0.7777777777777778,
              "#fb9f3a"
             ],
             [
              0.8888888888888888,
              "#fdca26"
             ],
             [
              1,
              "#f0f921"
             ]
            ],
            "type": "histogram2dcontour"
           }
          ],
          "mesh3d": [
           {
            "colorbar": {
             "outlinewidth": 0,
             "ticks": ""
            },
            "type": "mesh3d"
           }
          ],
          "parcoords": [
           {
            "line": {
             "colorbar": {
              "outlinewidth": 0,
              "ticks": ""
             }
            },
            "type": "parcoords"
           }
          ],
          "pie": [
           {
            "automargin": true,
            "type": "pie"
           }
          ],
          "scatter": [
           {
            "marker": {
             "colorbar": {
              "outlinewidth": 0,
              "ticks": ""
             }
            },
            "type": "scatter"
           }
          ],
          "scatter3d": [
           {
            "line": {
             "colorbar": {
              "outlinewidth": 0,
              "ticks": ""
             }
            },
            "marker": {
             "colorbar": {
              "outlinewidth": 0,
              "ticks": ""
             }
            },
            "type": "scatter3d"
           }
          ],
          "scattercarpet": [
           {
            "marker": {
             "colorbar": {
              "outlinewidth": 0,
              "ticks": ""
             }
            },
            "type": "scattercarpet"
           }
          ],
          "scattergeo": [
           {
            "marker": {
             "colorbar": {
              "outlinewidth": 0,
              "ticks": ""
             }
            },
            "type": "scattergeo"
           }
          ],
          "scattergl": [
           {
            "marker": {
             "colorbar": {
              "outlinewidth": 0,
              "ticks": ""
             }
            },
            "type": "scattergl"
           }
          ],
          "scattermapbox": [
           {
            "marker": {
             "colorbar": {
              "outlinewidth": 0,
              "ticks": ""
             }
            },
            "type": "scattermapbox"
           }
          ],
          "scatterpolar": [
           {
            "marker": {
             "colorbar": {
              "outlinewidth": 0,
              "ticks": ""
             }
            },
            "type": "scatterpolar"
           }
          ],
          "scatterpolargl": [
           {
            "marker": {
             "colorbar": {
              "outlinewidth": 0,
              "ticks": ""
             }
            },
            "type": "scatterpolargl"
           }
          ],
          "scatterternary": [
           {
            "marker": {
             "colorbar": {
              "outlinewidth": 0,
              "ticks": ""
             }
            },
            "type": "scatterternary"
           }
          ],
          "surface": [
           {
            "colorbar": {
             "outlinewidth": 0,
             "ticks": ""
            },
            "colorscale": [
             [
              0,
              "#0d0887"
             ],
             [
              0.1111111111111111,
              "#46039f"
             ],
             [
              0.2222222222222222,
              "#7201a8"
             ],
             [
              0.3333333333333333,
              "#9c179e"
             ],
             [
              0.4444444444444444,
              "#bd3786"
             ],
             [
              0.5555555555555556,
              "#d8576b"
             ],
             [
              0.6666666666666666,
              "#ed7953"
             ],
             [
              0.7777777777777778,
              "#fb9f3a"
             ],
             [
              0.8888888888888888,
              "#fdca26"
             ],
             [
              1,
              "#f0f921"
             ]
            ],
            "type": "surface"
           }
          ],
          "table": [
           {
            "cells": {
             "fill": {
              "color": "#EBF0F8"
             },
             "line": {
              "color": "white"
             }
            },
            "header": {
             "fill": {
              "color": "#C8D4E3"
             },
             "line": {
              "color": "white"
             }
            },
            "type": "table"
           }
          ]
         },
         "layout": {
          "annotationdefaults": {
           "arrowcolor": "#2a3f5f",
           "arrowhead": 0,
           "arrowwidth": 1
          },
          "coloraxis": {
           "colorbar": {
            "outlinewidth": 0,
            "ticks": ""
           }
          },
          "colorscale": {
           "diverging": [
            [
             0,
             "#8e0152"
            ],
            [
             0.1,
             "#c51b7d"
            ],
            [
             0.2,
             "#de77ae"
            ],
            [
             0.3,
             "#f1b6da"
            ],
            [
             0.4,
             "#fde0ef"
            ],
            [
             0.5,
             "#f7f7f7"
            ],
            [
             0.6,
             "#e6f5d0"
            ],
            [
             0.7,
             "#b8e186"
            ],
            [
             0.8,
             "#7fbc41"
            ],
            [
             0.9,
             "#4d9221"
            ],
            [
             1,
             "#276419"
            ]
           ],
           "sequential": [
            [
             0,
             "#0d0887"
            ],
            [
             0.1111111111111111,
             "#46039f"
            ],
            [
             0.2222222222222222,
             "#7201a8"
            ],
            [
             0.3333333333333333,
             "#9c179e"
            ],
            [
             0.4444444444444444,
             "#bd3786"
            ],
            [
             0.5555555555555556,
             "#d8576b"
            ],
            [
             0.6666666666666666,
             "#ed7953"
            ],
            [
             0.7777777777777778,
             "#fb9f3a"
            ],
            [
             0.8888888888888888,
             "#fdca26"
            ],
            [
             1,
             "#f0f921"
            ]
           ],
           "sequentialminus": [
            [
             0,
             "#0d0887"
            ],
            [
             0.1111111111111111,
             "#46039f"
            ],
            [
             0.2222222222222222,
             "#7201a8"
            ],
            [
             0.3333333333333333,
             "#9c179e"
            ],
            [
             0.4444444444444444,
             "#bd3786"
            ],
            [
             0.5555555555555556,
             "#d8576b"
            ],
            [
             0.6666666666666666,
             "#ed7953"
            ],
            [
             0.7777777777777778,
             "#fb9f3a"
            ],
            [
             0.8888888888888888,
             "#fdca26"
            ],
            [
             1,
             "#f0f921"
            ]
           ]
          },
          "colorway": [
           "#636efa",
           "#EF553B",
           "#00cc96",
           "#ab63fa",
           "#FFA15A",
           "#19d3f3",
           "#FF6692",
           "#B6E880",
           "#FF97FF",
           "#FECB52"
          ],
          "font": {
           "color": "#2a3f5f"
          },
          "geo": {
           "bgcolor": "white",
           "lakecolor": "white",
           "landcolor": "#E5ECF6",
           "showlakes": true,
           "showland": true,
           "subunitcolor": "white"
          },
          "hoverlabel": {
           "align": "left"
          },
          "hovermode": "closest",
          "mapbox": {
           "style": "light"
          },
          "paper_bgcolor": "white",
          "plot_bgcolor": "#E5ECF6",
          "polar": {
           "angularaxis": {
            "gridcolor": "white",
            "linecolor": "white",
            "ticks": ""
           },
           "bgcolor": "#E5ECF6",
           "radialaxis": {
            "gridcolor": "white",
            "linecolor": "white",
            "ticks": ""
           }
          },
          "scene": {
           "xaxis": {
            "backgroundcolor": "#E5ECF6",
            "gridcolor": "white",
            "gridwidth": 2,
            "linecolor": "white",
            "showbackground": true,
            "ticks": "",
            "zerolinecolor": "white"
           },
           "yaxis": {
            "backgroundcolor": "#E5ECF6",
            "gridcolor": "white",
            "gridwidth": 2,
            "linecolor": "white",
            "showbackground": true,
            "ticks": "",
            "zerolinecolor": "white"
           },
           "zaxis": {
            "backgroundcolor": "#E5ECF6",
            "gridcolor": "white",
            "gridwidth": 2,
            "linecolor": "white",
            "showbackground": true,
            "ticks": "",
            "zerolinecolor": "white"
           }
          },
          "shapedefaults": {
           "line": {
            "color": "#2a3f5f"
           }
          },
          "ternary": {
           "aaxis": {
            "gridcolor": "white",
            "linecolor": "white",
            "ticks": ""
           },
           "baxis": {
            "gridcolor": "white",
            "linecolor": "white",
            "ticks": ""
           },
           "bgcolor": "#E5ECF6",
           "caxis": {
            "gridcolor": "white",
            "linecolor": "white",
            "ticks": ""
           }
          },
          "title": {
           "x": 0.05
          },
          "xaxis": {
           "automargin": true,
           "gridcolor": "white",
           "linecolor": "white",
           "ticks": "",
           "title": {
            "standoff": 15
           },
           "zerolinecolor": "white",
           "zerolinewidth": 2
          },
          "yaxis": {
           "automargin": true,
           "gridcolor": "white",
           "linecolor": "white",
           "ticks": "",
           "title": {
            "standoff": 15
           },
           "zerolinecolor": "white",
           "zerolinewidth": 2
          }
         }
        },
        "title": {
         "font": {
          "color": "#4D5663"
         }
        },
        "xaxis": {
         "gridcolor": "#E1E5ED",
         "showgrid": true,
         "tickfont": {
          "color": "#4D5663"
         },
         "title": {
          "font": {
           "color": "#4D5663"
          },
          "text": ""
         },
         "zerolinecolor": "#E1E5ED"
        },
        "yaxis": {
         "gridcolor": "#E1E5ED",
         "showgrid": true,
         "tickfont": {
          "color": "#4D5663"
         },
         "title": {
          "font": {
           "color": "#4D5663"
          },
          "text": ""
         },
         "zerolinecolor": "#E1E5ED"
        }
       }
      },
      "text/html": "<div>                            <div id=\"cc4dcd20-149b-4ed8-bcd6-da51c80cb1c5\" class=\"plotly-graph-div\" style=\"height:525px; width:100%;\"></div>            <script type=\"text/javascript\">                require([\"plotly\"], function(Plotly) {                    window.PLOTLYENV=window.PLOTLYENV || {};\n                    window.PLOTLYENV.BASE_URL='https://plot.ly';                                    if (document.getElementById(\"cc4dcd20-149b-4ed8-bcd6-da51c80cb1c5\")) {                    Plotly.newPlot(                        \"cc4dcd20-149b-4ed8-bcd6-da51c80cb1c5\",                        [{\"line\": {\"color\": \"rgba(255, 153, 51, 1.0)\", \"dash\": \"solid\", \"shape\": \"linear\", \"width\": 1.3}, \"marker\": {\"size\": 10, \"symbol\": \"circle\"}, \"mode\": \"markers\", \"name\": \"B\", \"text\": \"\", \"type\": \"scatter\", \"x\": [-3.1903388189260506, 0.23396036411163004, 1.1589655786036386, -0.48300006152562525, -1.5103337587243804, -0.5044248859027471, 1.182281645215199, 0.42006775240638894, -0.8810298974091847, 0.5039382873693414, -0.731266004129346, 0.0638361921822204, -1.0652754263641049, -0.9041076466885405, -0.9048795324169541, -0.7972587761240022, -0.3675670471291356, 0.28082146701438343, -0.08633039339250868, 0.040217153150704704, -0.6690624158655928, 1.2627520886852726, 0.8930334427555254, -0.5720828983632429, -0.10829789239054843, 0.40614750365984825, -1.103865178801149, -0.8121010383177608, 0.10072184675344648, -0.5769169489648015, -1.064607754248978, 0.2803088090050602, 0.27784983531770807, -0.41074940453263725, 0.5858394974501357, -1.1873780187790168, -1.3497579113052596, 1.255295743570665, -0.6927268600950082, -0.36127203424382964, -0.34463610823926666, -1.2009964413381025, 1.3923569898979733, 0.7787889527113488, 1.8663933162193367, -0.7896518608815303, 0.8604392983684553, 0.5735613938299836, -1.2802106717549009, 0.44164511860901834, -1.1744289444226033, -6.0149059195747345e-06, -0.6467481917357054, 1.2327214192099953, -0.28623017443738186, -1.7412710235687312, -0.9758958392945769, 1.600310178717572, -0.6658748622479977, 0.36105544712213045, 1.2539490446516994, 1.0583809422068344, -0.597617455493197, -0.45722923476382665, -1.2684784915115794, -0.9644190323469388, -0.8772580574236023, 0.085838476310741, 0.48674958148652886, 0.9676561629391955, -2.13767913287318, -2.955837736363831, -1.7764340900302908, 1.272615789302066, -0.37425080144249273, 1.026973987239565, 2.100477946764772, -0.9807225547579596, -0.7533250886156038, -0.03650463249437804, 0.3529513644456242, -1.3607833800573281, -1.7417396477441502, -1.2994294895974514, 0.32077583616185623, -0.4244455156618559, 0.8905320772769698, -1.3186547947430771, 0.12166001368478756, -1.2191124444406027, 0.24654677954656246, -0.2623982371892286, 0.2624213780227509, 0.09375602776369371, -0.8396352448027719, -0.5553431002419489, -0.06731001731720351, -0.49821737363514945, 2.474916165429662, -1.6424571327832522], \"y\": [-0.3643496606765255, 0.026742083793018775, 0.3584549394564874, -0.15087399036258875, 0.7692264311391451, -0.9607394936456178, 1.099364393084451, 2.0413594007607077, -0.9589429120315346, -1.0151262656536937, -2.7705342521888636, 0.04519916765724038, -1.0324039775286689, 0.21166535206455778, 0.9519171224472974, -0.8073326446901398, -0.11985422234986415, -0.1234321641152109, 0.9187427563080505, -1.5763765046502152, 0.48951503176455424, -0.278969609256558, -0.3648383818684051, -0.007140551384771878, 0.824952324575092, 1.012484922632672, 0.5845377044183931, -1.2711783578576223, -0.36902106237264026, 0.012682393985313328, 0.3374744579584474, 1.0374153302021154, 0.8674581281533991, 0.49520661962696927, -0.2181122070140142, -0.4198441589123327, -0.22085215002039907, -0.14099689419147918, -0.9772412761380672, -0.9091883734093862, -1.5686850852517986, 0.12633424708785124, 0.4249983112725074, -0.15071571160517683, -0.8190528021055005, -0.5843142509340462, 1.009127911825222, -0.2532746339494671, 0.8382486387582775, 0.2987780822239634, -0.42940441705743443, 0.12942894672747557, -0.3784668801032414, -0.36623302074540903, 1.9636781681839237, -0.694293703929343, 0.18243687176223544, 0.44970065303344275, -0.5585085694844554, 0.5781469849286903, -1.478679342255676, -2.2017812855469296, -0.22766449165792724, -0.9850956709230758, 0.06535721379319329, 1.6247637881367891, 0.9388172664094236, 0.5604816763327075, 0.2297458405763916, 0.5705488391936526, -0.5429901589467797, -1.4375484759630257, 1.149625790934575, -1.8706089909902677, 0.6574935076546705, 0.3922469509849665, -0.3283399439671376, -0.7082986794613881, -1.3012155638305742, -0.47344112138941563, 0.025524978856013302, -0.6078471413136215, 0.6221060033789865, -0.8425812105486945, -1.9731018326838081, -2.085182182082291, 0.7211728722787665, 1.5764475887837608, 0.17856892843054062, 0.09394500672765961, -0.838783815812583, -2.0640038711962796, 0.07541148221711562, 0.011988483697282544, 1.156875251344672, -0.32642331073805275, -1.0002773938460705, -0.409558017985458, -1.6432367398217418, -1.458768728092791]}],                        {\"legend\": {\"bgcolor\": \"#F5F6F9\", \"font\": {\"color\": \"#4D5663\"}}, \"paper_bgcolor\": \"#F5F6F9\", \"plot_bgcolor\": \"#F5F6F9\", \"template\": {\"data\": {\"bar\": [{\"error_x\": {\"color\": \"#2a3f5f\"}, \"error_y\": {\"color\": \"#2a3f5f\"}, \"marker\": {\"line\": {\"color\": \"#E5ECF6\", \"width\": 0.5}}, \"type\": \"bar\"}], \"barpolar\": [{\"marker\": {\"line\": {\"color\": \"#E5ECF6\", \"width\": 0.5}}, \"type\": \"barpolar\"}], \"carpet\": [{\"aaxis\": {\"endlinecolor\": \"#2a3f5f\", \"gridcolor\": \"white\", \"linecolor\": \"white\", \"minorgridcolor\": \"white\", \"startlinecolor\": \"#2a3f5f\"}, \"baxis\": {\"endlinecolor\": \"#2a3f5f\", \"gridcolor\": \"white\", \"linecolor\": \"white\", \"minorgridcolor\": \"white\", \"startlinecolor\": \"#2a3f5f\"}, \"type\": \"carpet\"}], \"choropleth\": [{\"colorbar\": {\"outlinewidth\": 0, \"ticks\": \"\"}, \"type\": \"choropleth\"}], \"contour\": [{\"colorbar\": {\"outlinewidth\": 0, \"ticks\": \"\"}, \"colorscale\": [[0.0, \"#0d0887\"], [0.1111111111111111, \"#46039f\"], [0.2222222222222222, \"#7201a8\"], [0.3333333333333333, \"#9c179e\"], [0.4444444444444444, \"#bd3786\"], [0.5555555555555556, \"#d8576b\"], [0.6666666666666666, \"#ed7953\"], [0.7777777777777778, \"#fb9f3a\"], [0.8888888888888888, \"#fdca26\"], [1.0, \"#f0f921\"]], \"type\": \"contour\"}], \"contourcarpet\": [{\"colorbar\": {\"outlinewidth\": 0, \"ticks\": \"\"}, \"type\": \"contourcarpet\"}], \"heatmap\": [{\"colorbar\": {\"outlinewidth\": 0, \"ticks\": \"\"}, \"colorscale\": [[0.0, \"#0d0887\"], [0.1111111111111111, \"#46039f\"], [0.2222222222222222, \"#7201a8\"], [0.3333333333333333, \"#9c179e\"], [0.4444444444444444, \"#bd3786\"], [0.5555555555555556, \"#d8576b\"], [0.6666666666666666, \"#ed7953\"], [0.7777777777777778, \"#fb9f3a\"], [0.8888888888888888, \"#fdca26\"], [1.0, \"#f0f921\"]], \"type\": \"heatmap\"}], \"heatmapgl\": [{\"colorbar\": {\"outlinewidth\": 0, \"ticks\": \"\"}, \"colorscale\": [[0.0, \"#0d0887\"], [0.1111111111111111, \"#46039f\"], [0.2222222222222222, \"#7201a8\"], [0.3333333333333333, \"#9c179e\"], [0.4444444444444444, \"#bd3786\"], [0.5555555555555556, \"#d8576b\"], [0.6666666666666666, \"#ed7953\"], [0.7777777777777778, \"#fb9f3a\"], [0.8888888888888888, \"#fdca26\"], [1.0, \"#f0f921\"]], \"type\": \"heatmapgl\"}], \"histogram\": [{\"marker\": {\"colorbar\": {\"outlinewidth\": 0, \"ticks\": \"\"}}, \"type\": \"histogram\"}], \"histogram2d\": [{\"colorbar\": {\"outlinewidth\": 0, \"ticks\": \"\"}, \"colorscale\": [[0.0, \"#0d0887\"], [0.1111111111111111, \"#46039f\"], [0.2222222222222222, \"#7201a8\"], [0.3333333333333333, \"#9c179e\"], [0.4444444444444444, \"#bd3786\"], [0.5555555555555556, \"#d8576b\"], [0.6666666666666666, \"#ed7953\"], [0.7777777777777778, \"#fb9f3a\"], [0.8888888888888888, \"#fdca26\"], [1.0, \"#f0f921\"]], \"type\": \"histogram2d\"}], \"histogram2dcontour\": [{\"colorbar\": {\"outlinewidth\": 0, \"ticks\": \"\"}, \"colorscale\": [[0.0, \"#0d0887\"], [0.1111111111111111, \"#46039f\"], [0.2222222222222222, \"#7201a8\"], [0.3333333333333333, \"#9c179e\"], [0.4444444444444444, \"#bd3786\"], [0.5555555555555556, \"#d8576b\"], [0.6666666666666666, \"#ed7953\"], [0.7777777777777778, \"#fb9f3a\"], [0.8888888888888888, \"#fdca26\"], [1.0, \"#f0f921\"]], \"type\": \"histogram2dcontour\"}], \"mesh3d\": [{\"colorbar\": {\"outlinewidth\": 0, \"ticks\": \"\"}, \"type\": \"mesh3d\"}], \"parcoords\": [{\"line\": {\"colorbar\": {\"outlinewidth\": 0, \"ticks\": \"\"}}, \"type\": \"parcoords\"}], \"pie\": [{\"automargin\": true, \"type\": \"pie\"}], \"scatter\": [{\"marker\": {\"colorbar\": {\"outlinewidth\": 0, \"ticks\": \"\"}}, \"type\": \"scatter\"}], \"scatter3d\": [{\"line\": {\"colorbar\": {\"outlinewidth\": 0, \"ticks\": \"\"}}, \"marker\": {\"colorbar\": {\"outlinewidth\": 0, \"ticks\": \"\"}}, \"type\": \"scatter3d\"}], \"scattercarpet\": [{\"marker\": {\"colorbar\": {\"outlinewidth\": 0, \"ticks\": \"\"}}, \"type\": \"scattercarpet\"}], \"scattergeo\": [{\"marker\": {\"colorbar\": {\"outlinewidth\": 0, \"ticks\": \"\"}}, \"type\": \"scattergeo\"}], \"scattergl\": [{\"marker\": {\"colorbar\": {\"outlinewidth\": 0, \"ticks\": \"\"}}, \"type\": \"scattergl\"}], \"scattermapbox\": [{\"marker\": {\"colorbar\": {\"outlinewidth\": 0, \"ticks\": \"\"}}, \"type\": \"scattermapbox\"}], \"scatterpolar\": [{\"marker\": {\"colorbar\": {\"outlinewidth\": 0, \"ticks\": \"\"}}, \"type\": \"scatterpolar\"}], \"scatterpolargl\": [{\"marker\": {\"colorbar\": {\"outlinewidth\": 0, \"ticks\": \"\"}}, \"type\": \"scatterpolargl\"}], \"scatterternary\": [{\"marker\": {\"colorbar\": {\"outlinewidth\": 0, \"ticks\": \"\"}}, \"type\": \"scatterternary\"}], \"surface\": [{\"colorbar\": {\"outlinewidth\": 0, \"ticks\": \"\"}, \"colorscale\": [[0.0, \"#0d0887\"], [0.1111111111111111, \"#46039f\"], [0.2222222222222222, \"#7201a8\"], [0.3333333333333333, \"#9c179e\"], [0.4444444444444444, \"#bd3786\"], [0.5555555555555556, \"#d8576b\"], [0.6666666666666666, \"#ed7953\"], [0.7777777777777778, \"#fb9f3a\"], [0.8888888888888888, \"#fdca26\"], [1.0, \"#f0f921\"]], \"type\": \"surface\"}], \"table\": [{\"cells\": {\"fill\": {\"color\": \"#EBF0F8\"}, \"line\": {\"color\": \"white\"}}, \"header\": {\"fill\": {\"color\": \"#C8D4E3\"}, \"line\": {\"color\": \"white\"}}, \"type\": \"table\"}]}, \"layout\": {\"annotationdefaults\": {\"arrowcolor\": \"#2a3f5f\", \"arrowhead\": 0, \"arrowwidth\": 1}, \"coloraxis\": {\"colorbar\": {\"outlinewidth\": 0, \"ticks\": \"\"}}, \"colorscale\": {\"diverging\": [[0, \"#8e0152\"], [0.1, \"#c51b7d\"], [0.2, \"#de77ae\"], [0.3, \"#f1b6da\"], [0.4, \"#fde0ef\"], [0.5, \"#f7f7f7\"], [0.6, \"#e6f5d0\"], [0.7, \"#b8e186\"], [0.8, \"#7fbc41\"], [0.9, \"#4d9221\"], [1, \"#276419\"]], \"sequential\": [[0.0, \"#0d0887\"], [0.1111111111111111, \"#46039f\"], [0.2222222222222222, \"#7201a8\"], [0.3333333333333333, \"#9c179e\"], [0.4444444444444444, \"#bd3786\"], [0.5555555555555556, \"#d8576b\"], [0.6666666666666666, \"#ed7953\"], [0.7777777777777778, \"#fb9f3a\"], [0.8888888888888888, \"#fdca26\"], [1.0, \"#f0f921\"]], \"sequentialminus\": [[0.0, \"#0d0887\"], [0.1111111111111111, \"#46039f\"], [0.2222222222222222, \"#7201a8\"], [0.3333333333333333, \"#9c179e\"], [0.4444444444444444, \"#bd3786\"], [0.5555555555555556, \"#d8576b\"], [0.6666666666666666, \"#ed7953\"], [0.7777777777777778, \"#fb9f3a\"], [0.8888888888888888, \"#fdca26\"], [1.0, \"#f0f921\"]]}, \"colorway\": [\"#636efa\", \"#EF553B\", \"#00cc96\", \"#ab63fa\", \"#FFA15A\", \"#19d3f3\", \"#FF6692\", \"#B6E880\", \"#FF97FF\", \"#FECB52\"], \"font\": {\"color\": \"#2a3f5f\"}, \"geo\": {\"bgcolor\": \"white\", \"lakecolor\": \"white\", \"landcolor\": \"#E5ECF6\", \"showlakes\": true, \"showland\": true, \"subunitcolor\": \"white\"}, \"hoverlabel\": {\"align\": \"left\"}, \"hovermode\": \"closest\", \"mapbox\": {\"style\": \"light\"}, \"paper_bgcolor\": \"white\", \"plot_bgcolor\": \"#E5ECF6\", \"polar\": {\"angularaxis\": {\"gridcolor\": \"white\", \"linecolor\": \"white\", \"ticks\": \"\"}, \"bgcolor\": \"#E5ECF6\", \"radialaxis\": {\"gridcolor\": \"white\", \"linecolor\": \"white\", \"ticks\": \"\"}}, \"scene\": {\"xaxis\": {\"backgroundcolor\": \"#E5ECF6\", \"gridcolor\": \"white\", \"gridwidth\": 2, \"linecolor\": \"white\", \"showbackground\": true, \"ticks\": \"\", \"zerolinecolor\": \"white\"}, \"yaxis\": {\"backgroundcolor\": \"#E5ECF6\", \"gridcolor\": \"white\", \"gridwidth\": 2, \"linecolor\": \"white\", \"showbackground\": true, \"ticks\": \"\", \"zerolinecolor\": \"white\"}, \"zaxis\": {\"backgroundcolor\": \"#E5ECF6\", \"gridcolor\": \"white\", \"gridwidth\": 2, \"linecolor\": \"white\", \"showbackground\": true, \"ticks\": \"\", \"zerolinecolor\": \"white\"}}, \"shapedefaults\": {\"line\": {\"color\": \"#2a3f5f\"}}, \"ternary\": {\"aaxis\": {\"gridcolor\": \"white\", \"linecolor\": \"white\", \"ticks\": \"\"}, \"baxis\": {\"gridcolor\": \"white\", \"linecolor\": \"white\", \"ticks\": \"\"}, \"bgcolor\": \"#E5ECF6\", \"caxis\": {\"gridcolor\": \"white\", \"linecolor\": \"white\", \"ticks\": \"\"}}, \"title\": {\"x\": 0.05}, \"xaxis\": {\"automargin\": true, \"gridcolor\": \"white\", \"linecolor\": \"white\", \"ticks\": \"\", \"title\": {\"standoff\": 15}, \"zerolinecolor\": \"white\", \"zerolinewidth\": 2}, \"yaxis\": {\"automargin\": true, \"gridcolor\": \"white\", \"linecolor\": \"white\", \"ticks\": \"\", \"title\": {\"standoff\": 15}, \"zerolinecolor\": \"white\", \"zerolinewidth\": 2}}}, \"title\": {\"font\": {\"color\": \"#4D5663\"}}, \"xaxis\": {\"gridcolor\": \"#E1E5ED\", \"showgrid\": true, \"tickfont\": {\"color\": \"#4D5663\"}, \"title\": {\"font\": {\"color\": \"#4D5663\"}, \"text\": \"\"}, \"zerolinecolor\": \"#E1E5ED\"}, \"yaxis\": {\"gridcolor\": \"#E1E5ED\", \"showgrid\": true, \"tickfont\": {\"color\": \"#4D5663\"}, \"title\": {\"font\": {\"color\": \"#4D5663\"}, \"text\": \"\"}, \"zerolinecolor\": \"#E1E5ED\"}},                        {\"showLink\": true, \"linkText\": \"Export to plot.ly\", \"plotlyServerURL\": \"https://plot.ly\", \"responsive\": true}                    ).then(function(){\n                            \nvar gd = document.getElementById('cc4dcd20-149b-4ed8-bcd6-da51c80cb1c5');\nvar x = new MutationObserver(function (mutations, observer) {{\n        var display = window.getComputedStyle(gd).display;\n        if (!display || display === 'none') {{\n            console.log([gd, 'removed!']);\n            Plotly.purge(gd);\n            observer.disconnect();\n        }}\n}});\n\n// Listen for the removal of the full notebook cells\nvar notebookContainer = gd.closest('#notebook-container');\nif (notebookContainer) {{\n    x.observe(notebookContainer, {childList: true});\n}}\n\n// Listen for the clearing of the current output cell\nvar outputEl = gd.closest('.output');\nif (outputEl) {{\n    x.observe(outputEl, {childList: true});\n}}\n\n                        })                };                });            </script>        </div>"
     },
     "metadata": {}
    }
   ],
   "source": [
    "# mode='markers' makes it so plotly doesn't try to connect all the dots\n",
    "df.iplot(kind='scatter', x='A', y='B', mode='markers', size= 10)"
   ]
  },
  {
   "source": [
    "## Bar Plots"
   ],
   "cell_type": "markdown",
   "metadata": {}
  },
  {
   "cell_type": "code",
   "execution_count": 10,
   "metadata": {},
   "outputs": [
    {
     "output_type": "display_data",
     "data": {
      "application/vnd.plotly.v1+json": {
       "config": {
        "linkText": "Export to plot.ly",
        "plotlyServerURL": "https://plot.ly",
        "showLink": true
       },
       "data": [
        {
         "marker": {
          "color": "rgba(255, 153, 51, 0.6)",
          "line": {
           "color": "rgba(255, 153, 51, 1.0)",
           "width": 1
          }
         },
         "name": "Values",
         "orientation": "v",
         "text": "",
         "type": "bar",
         "x": [
          "A",
          "B",
          "C"
         ],
         "y": [
          32,
          43,
          50
         ]
        }
       ],
       "layout": {
        "legend": {
         "bgcolor": "#F5F6F9",
         "font": {
          "color": "#4D5663"
         }
        },
        "paper_bgcolor": "#F5F6F9",
        "plot_bgcolor": "#F5F6F9",
        "template": {
         "data": {
          "bar": [
           {
            "error_x": {
             "color": "#2a3f5f"
            },
            "error_y": {
             "color": "#2a3f5f"
            },
            "marker": {
             "line": {
              "color": "#E5ECF6",
              "width": 0.5
             }
            },
            "type": "bar"
           }
          ],
          "barpolar": [
           {
            "marker": {
             "line": {
              "color": "#E5ECF6",
              "width": 0.5
             }
            },
            "type": "barpolar"
           }
          ],
          "carpet": [
           {
            "aaxis": {
             "endlinecolor": "#2a3f5f",
             "gridcolor": "white",
             "linecolor": "white",
             "minorgridcolor": "white",
             "startlinecolor": "#2a3f5f"
            },
            "baxis": {
             "endlinecolor": "#2a3f5f",
             "gridcolor": "white",
             "linecolor": "white",
             "minorgridcolor": "white",
             "startlinecolor": "#2a3f5f"
            },
            "type": "carpet"
           }
          ],
          "choropleth": [
           {
            "colorbar": {
             "outlinewidth": 0,
             "ticks": ""
            },
            "type": "choropleth"
           }
          ],
          "contour": [
           {
            "colorbar": {
             "outlinewidth": 0,
             "ticks": ""
            },
            "colorscale": [
             [
              0,
              "#0d0887"
             ],
             [
              0.1111111111111111,
              "#46039f"
             ],
             [
              0.2222222222222222,
              "#7201a8"
             ],
             [
              0.3333333333333333,
              "#9c179e"
             ],
             [
              0.4444444444444444,
              "#bd3786"
             ],
             [
              0.5555555555555556,
              "#d8576b"
             ],
             [
              0.6666666666666666,
              "#ed7953"
             ],
             [
              0.7777777777777778,
              "#fb9f3a"
             ],
             [
              0.8888888888888888,
              "#fdca26"
             ],
             [
              1,
              "#f0f921"
             ]
            ],
            "type": "contour"
           }
          ],
          "contourcarpet": [
           {
            "colorbar": {
             "outlinewidth": 0,
             "ticks": ""
            },
            "type": "contourcarpet"
           }
          ],
          "heatmap": [
           {
            "colorbar": {
             "outlinewidth": 0,
             "ticks": ""
            },
            "colorscale": [
             [
              0,
              "#0d0887"
             ],
             [
              0.1111111111111111,
              "#46039f"
             ],
             [
              0.2222222222222222,
              "#7201a8"
             ],
             [
              0.3333333333333333,
              "#9c179e"
             ],
             [
              0.4444444444444444,
              "#bd3786"
             ],
             [
              0.5555555555555556,
              "#d8576b"
             ],
             [
              0.6666666666666666,
              "#ed7953"
             ],
             [
              0.7777777777777778,
              "#fb9f3a"
             ],
             [
              0.8888888888888888,
              "#fdca26"
             ],
             [
              1,
              "#f0f921"
             ]
            ],
            "type": "heatmap"
           }
          ],
          "heatmapgl": [
           {
            "colorbar": {
             "outlinewidth": 0,
             "ticks": ""
            },
            "colorscale": [
             [
              0,
              "#0d0887"
             ],
             [
              0.1111111111111111,
              "#46039f"
             ],
             [
              0.2222222222222222,
              "#7201a8"
             ],
             [
              0.3333333333333333,
              "#9c179e"
             ],
             [
              0.4444444444444444,
              "#bd3786"
             ],
             [
              0.5555555555555556,
              "#d8576b"
             ],
             [
              0.6666666666666666,
              "#ed7953"
             ],
             [
              0.7777777777777778,
              "#fb9f3a"
             ],
             [
              0.8888888888888888,
              "#fdca26"
             ],
             [
              1,
              "#f0f921"
             ]
            ],
            "type": "heatmapgl"
           }
          ],
          "histogram": [
           {
            "marker": {
             "colorbar": {
              "outlinewidth": 0,
              "ticks": ""
             }
            },
            "type": "histogram"
           }
          ],
          "histogram2d": [
           {
            "colorbar": {
             "outlinewidth": 0,
             "ticks": ""
            },
            "colorscale": [
             [
              0,
              "#0d0887"
             ],
             [
              0.1111111111111111,
              "#46039f"
             ],
             [
              0.2222222222222222,
              "#7201a8"
             ],
             [
              0.3333333333333333,
              "#9c179e"
             ],
             [
              0.4444444444444444,
              "#bd3786"
             ],
             [
              0.5555555555555556,
              "#d8576b"
             ],
             [
              0.6666666666666666,
              "#ed7953"
             ],
             [
              0.7777777777777778,
              "#fb9f3a"
             ],
             [
              0.8888888888888888,
              "#fdca26"
             ],
             [
              1,
              "#f0f921"
             ]
            ],
            "type": "histogram2d"
           }
          ],
          "histogram2dcontour": [
           {
            "colorbar": {
             "outlinewidth": 0,
             "ticks": ""
            },
            "colorscale": [
             [
              0,
              "#0d0887"
             ],
             [
              0.1111111111111111,
              "#46039f"
             ],
             [
              0.2222222222222222,
              "#7201a8"
             ],
             [
              0.3333333333333333,
              "#9c179e"
             ],
             [
              0.4444444444444444,
              "#bd3786"
             ],
             [
              0.5555555555555556,
              "#d8576b"
             ],
             [
              0.6666666666666666,
              "#ed7953"
             ],
             [
              0.7777777777777778,
              "#fb9f3a"
             ],
             [
              0.8888888888888888,
              "#fdca26"
             ],
             [
              1,
              "#f0f921"
             ]
            ],
            "type": "histogram2dcontour"
           }
          ],
          "mesh3d": [
           {
            "colorbar": {
             "outlinewidth": 0,
             "ticks": ""
            },
            "type": "mesh3d"
           }
          ],
          "parcoords": [
           {
            "line": {
             "colorbar": {
              "outlinewidth": 0,
              "ticks": ""
             }
            },
            "type": "parcoords"
           }
          ],
          "pie": [
           {
            "automargin": true,
            "type": "pie"
           }
          ],
          "scatter": [
           {
            "marker": {
             "colorbar": {
              "outlinewidth": 0,
              "ticks": ""
             }
            },
            "type": "scatter"
           }
          ],
          "scatter3d": [
           {
            "line": {
             "colorbar": {
              "outlinewidth": 0,
              "ticks": ""
             }
            },
            "marker": {
             "colorbar": {
              "outlinewidth": 0,
              "ticks": ""
             }
            },
            "type": "scatter3d"
           }
          ],
          "scattercarpet": [
           {
            "marker": {
             "colorbar": {
              "outlinewidth": 0,
              "ticks": ""
             }
            },
            "type": "scattercarpet"
           }
          ],
          "scattergeo": [
           {
            "marker": {
             "colorbar": {
              "outlinewidth": 0,
              "ticks": ""
             }
            },
            "type": "scattergeo"
           }
          ],
          "scattergl": [
           {
            "marker": {
             "colorbar": {
              "outlinewidth": 0,
              "ticks": ""
             }
            },
            "type": "scattergl"
           }
          ],
          "scattermapbox": [
           {
            "marker": {
             "colorbar": {
              "outlinewidth": 0,
              "ticks": ""
             }
            },
            "type": "scattermapbox"
           }
          ],
          "scatterpolar": [
           {
            "marker": {
             "colorbar": {
              "outlinewidth": 0,
              "ticks": ""
             }
            },
            "type": "scatterpolar"
           }
          ],
          "scatterpolargl": [
           {
            "marker": {
             "colorbar": {
              "outlinewidth": 0,
              "ticks": ""
             }
            },
            "type": "scatterpolargl"
           }
          ],
          "scatterternary": [
           {
            "marker": {
             "colorbar": {
              "outlinewidth": 0,
              "ticks": ""
             }
            },
            "type": "scatterternary"
           }
          ],
          "surface": [
           {
            "colorbar": {
             "outlinewidth": 0,
             "ticks": ""
            },
            "colorscale": [
             [
              0,
              "#0d0887"
             ],
             [
              0.1111111111111111,
              "#46039f"
             ],
             [
              0.2222222222222222,
              "#7201a8"
             ],
             [
              0.3333333333333333,
              "#9c179e"
             ],
             [
              0.4444444444444444,
              "#bd3786"
             ],
             [
              0.5555555555555556,
              "#d8576b"
             ],
             [
              0.6666666666666666,
              "#ed7953"
             ],
             [
              0.7777777777777778,
              "#fb9f3a"
             ],
             [
              0.8888888888888888,
              "#fdca26"
             ],
             [
              1,
              "#f0f921"
             ]
            ],
            "type": "surface"
           }
          ],
          "table": [
           {
            "cells": {
             "fill": {
              "color": "#EBF0F8"
             },
             "line": {
              "color": "white"
             }
            },
            "header": {
             "fill": {
              "color": "#C8D4E3"
             },
             "line": {
              "color": "white"
             }
            },
            "type": "table"
           }
          ]
         },
         "layout": {
          "annotationdefaults": {
           "arrowcolor": "#2a3f5f",
           "arrowhead": 0,
           "arrowwidth": 1
          },
          "coloraxis": {
           "colorbar": {
            "outlinewidth": 0,
            "ticks": ""
           }
          },
          "colorscale": {
           "diverging": [
            [
             0,
             "#8e0152"
            ],
            [
             0.1,
             "#c51b7d"
            ],
            [
             0.2,
             "#de77ae"
            ],
            [
             0.3,
             "#f1b6da"
            ],
            [
             0.4,
             "#fde0ef"
            ],
            [
             0.5,
             "#f7f7f7"
            ],
            [
             0.6,
             "#e6f5d0"
            ],
            [
             0.7,
             "#b8e186"
            ],
            [
             0.8,
             "#7fbc41"
            ],
            [
             0.9,
             "#4d9221"
            ],
            [
             1,
             "#276419"
            ]
           ],
           "sequential": [
            [
             0,
             "#0d0887"
            ],
            [
             0.1111111111111111,
             "#46039f"
            ],
            [
             0.2222222222222222,
             "#7201a8"
            ],
            [
             0.3333333333333333,
             "#9c179e"
            ],
            [
             0.4444444444444444,
             "#bd3786"
            ],
            [
             0.5555555555555556,
             "#d8576b"
            ],
            [
             0.6666666666666666,
             "#ed7953"
            ],
            [
             0.7777777777777778,
             "#fb9f3a"
            ],
            [
             0.8888888888888888,
             "#fdca26"
            ],
            [
             1,
             "#f0f921"
            ]
           ],
           "sequentialminus": [
            [
             0,
             "#0d0887"
            ],
            [
             0.1111111111111111,
             "#46039f"
            ],
            [
             0.2222222222222222,
             "#7201a8"
            ],
            [
             0.3333333333333333,
             "#9c179e"
            ],
            [
             0.4444444444444444,
             "#bd3786"
            ],
            [
             0.5555555555555556,
             "#d8576b"
            ],
            [
             0.6666666666666666,
             "#ed7953"
            ],
            [
             0.7777777777777778,
             "#fb9f3a"
            ],
            [
             0.8888888888888888,
             "#fdca26"
            ],
            [
             1,
             "#f0f921"
            ]
           ]
          },
          "colorway": [
           "#636efa",
           "#EF553B",
           "#00cc96",
           "#ab63fa",
           "#FFA15A",
           "#19d3f3",
           "#FF6692",
           "#B6E880",
           "#FF97FF",
           "#FECB52"
          ],
          "font": {
           "color": "#2a3f5f"
          },
          "geo": {
           "bgcolor": "white",
           "lakecolor": "white",
           "landcolor": "#E5ECF6",
           "showlakes": true,
           "showland": true,
           "subunitcolor": "white"
          },
          "hoverlabel": {
           "align": "left"
          },
          "hovermode": "closest",
          "mapbox": {
           "style": "light"
          },
          "paper_bgcolor": "white",
          "plot_bgcolor": "#E5ECF6",
          "polar": {
           "angularaxis": {
            "gridcolor": "white",
            "linecolor": "white",
            "ticks": ""
           },
           "bgcolor": "#E5ECF6",
           "radialaxis": {
            "gridcolor": "white",
            "linecolor": "white",
            "ticks": ""
           }
          },
          "scene": {
           "xaxis": {
            "backgroundcolor": "#E5ECF6",
            "gridcolor": "white",
            "gridwidth": 2,
            "linecolor": "white",
            "showbackground": true,
            "ticks": "",
            "zerolinecolor": "white"
           },
           "yaxis": {
            "backgroundcolor": "#E5ECF6",
            "gridcolor": "white",
            "gridwidth": 2,
            "linecolor": "white",
            "showbackground": true,
            "ticks": "",
            "zerolinecolor": "white"
           },
           "zaxis": {
            "backgroundcolor": "#E5ECF6",
            "gridcolor": "white",
            "gridwidth": 2,
            "linecolor": "white",
            "showbackground": true,
            "ticks": "",
            "zerolinecolor": "white"
           }
          },
          "shapedefaults": {
           "line": {
            "color": "#2a3f5f"
           }
          },
          "ternary": {
           "aaxis": {
            "gridcolor": "white",
            "linecolor": "white",
            "ticks": ""
           },
           "baxis": {
            "gridcolor": "white",
            "linecolor": "white",
            "ticks": ""
           },
           "bgcolor": "#E5ECF6",
           "caxis": {
            "gridcolor": "white",
            "linecolor": "white",
            "ticks": ""
           }
          },
          "title": {
           "x": 0.05
          },
          "xaxis": {
           "automargin": true,
           "gridcolor": "white",
           "linecolor": "white",
           "ticks": "",
           "title": {
            "standoff": 15
           },
           "zerolinecolor": "white",
           "zerolinewidth": 2
          },
          "yaxis": {
           "automargin": true,
           "gridcolor": "white",
           "linecolor": "white",
           "ticks": "",
           "title": {
            "standoff": 15
           },
           "zerolinecolor": "white",
           "zerolinewidth": 2
          }
         }
        },
        "title": {
         "font": {
          "color": "#4D5663"
         }
        },
        "xaxis": {
         "gridcolor": "#E1E5ED",
         "showgrid": true,
         "tickfont": {
          "color": "#4D5663"
         },
         "title": {
          "font": {
           "color": "#4D5663"
          },
          "text": ""
         },
         "zerolinecolor": "#E1E5ED"
        },
        "yaxis": {
         "gridcolor": "#E1E5ED",
         "showgrid": true,
         "tickfont": {
          "color": "#4D5663"
         },
         "title": {
          "font": {
           "color": "#4D5663"
          },
          "text": ""
         },
         "zerolinecolor": "#E1E5ED"
        }
       }
      },
      "text/html": "<div>                            <div id=\"715c0a30-ccd2-48ac-b4dd-4b498f645c6d\" class=\"plotly-graph-div\" style=\"height:525px; width:100%;\"></div>            <script type=\"text/javascript\">                require([\"plotly\"], function(Plotly) {                    window.PLOTLYENV=window.PLOTLYENV || {};\n                    window.PLOTLYENV.BASE_URL='https://plot.ly';                                    if (document.getElementById(\"715c0a30-ccd2-48ac-b4dd-4b498f645c6d\")) {                    Plotly.newPlot(                        \"715c0a30-ccd2-48ac-b4dd-4b498f645c6d\",                        [{\"marker\": {\"color\": \"rgba(255, 153, 51, 0.6)\", \"line\": {\"color\": \"rgba(255, 153, 51, 1.0)\", \"width\": 1}}, \"name\": \"Values\", \"orientation\": \"v\", \"text\": \"\", \"type\": \"bar\", \"x\": [\"A\", \"B\", \"C\"], \"y\": [32, 43, 50]}],                        {\"legend\": {\"bgcolor\": \"#F5F6F9\", \"font\": {\"color\": \"#4D5663\"}}, \"paper_bgcolor\": \"#F5F6F9\", \"plot_bgcolor\": \"#F5F6F9\", \"template\": {\"data\": {\"bar\": [{\"error_x\": {\"color\": \"#2a3f5f\"}, \"error_y\": {\"color\": \"#2a3f5f\"}, \"marker\": {\"line\": {\"color\": \"#E5ECF6\", \"width\": 0.5}}, \"type\": \"bar\"}], \"barpolar\": [{\"marker\": {\"line\": {\"color\": \"#E5ECF6\", \"width\": 0.5}}, \"type\": \"barpolar\"}], \"carpet\": [{\"aaxis\": {\"endlinecolor\": \"#2a3f5f\", \"gridcolor\": \"white\", \"linecolor\": \"white\", \"minorgridcolor\": \"white\", \"startlinecolor\": \"#2a3f5f\"}, \"baxis\": {\"endlinecolor\": \"#2a3f5f\", \"gridcolor\": \"white\", \"linecolor\": \"white\", \"minorgridcolor\": \"white\", \"startlinecolor\": \"#2a3f5f\"}, \"type\": \"carpet\"}], \"choropleth\": [{\"colorbar\": {\"outlinewidth\": 0, \"ticks\": \"\"}, \"type\": \"choropleth\"}], \"contour\": [{\"colorbar\": {\"outlinewidth\": 0, \"ticks\": \"\"}, \"colorscale\": [[0.0, \"#0d0887\"], [0.1111111111111111, \"#46039f\"], [0.2222222222222222, \"#7201a8\"], [0.3333333333333333, \"#9c179e\"], [0.4444444444444444, \"#bd3786\"], [0.5555555555555556, \"#d8576b\"], [0.6666666666666666, \"#ed7953\"], [0.7777777777777778, \"#fb9f3a\"], [0.8888888888888888, \"#fdca26\"], [1.0, \"#f0f921\"]], \"type\": \"contour\"}], \"contourcarpet\": [{\"colorbar\": {\"outlinewidth\": 0, \"ticks\": \"\"}, \"type\": \"contourcarpet\"}], \"heatmap\": [{\"colorbar\": {\"outlinewidth\": 0, \"ticks\": \"\"}, \"colorscale\": [[0.0, \"#0d0887\"], [0.1111111111111111, \"#46039f\"], [0.2222222222222222, \"#7201a8\"], [0.3333333333333333, \"#9c179e\"], [0.4444444444444444, \"#bd3786\"], [0.5555555555555556, \"#d8576b\"], [0.6666666666666666, \"#ed7953\"], [0.7777777777777778, \"#fb9f3a\"], [0.8888888888888888, \"#fdca26\"], [1.0, \"#f0f921\"]], \"type\": \"heatmap\"}], \"heatmapgl\": [{\"colorbar\": {\"outlinewidth\": 0, \"ticks\": \"\"}, \"colorscale\": [[0.0, \"#0d0887\"], [0.1111111111111111, \"#46039f\"], [0.2222222222222222, \"#7201a8\"], [0.3333333333333333, \"#9c179e\"], [0.4444444444444444, \"#bd3786\"], [0.5555555555555556, \"#d8576b\"], [0.6666666666666666, \"#ed7953\"], [0.7777777777777778, \"#fb9f3a\"], [0.8888888888888888, \"#fdca26\"], [1.0, \"#f0f921\"]], \"type\": \"heatmapgl\"}], \"histogram\": [{\"marker\": {\"colorbar\": {\"outlinewidth\": 0, \"ticks\": \"\"}}, \"type\": \"histogram\"}], \"histogram2d\": [{\"colorbar\": {\"outlinewidth\": 0, \"ticks\": \"\"}, \"colorscale\": [[0.0, \"#0d0887\"], [0.1111111111111111, \"#46039f\"], [0.2222222222222222, \"#7201a8\"], [0.3333333333333333, \"#9c179e\"], [0.4444444444444444, \"#bd3786\"], [0.5555555555555556, \"#d8576b\"], [0.6666666666666666, \"#ed7953\"], [0.7777777777777778, \"#fb9f3a\"], [0.8888888888888888, \"#fdca26\"], [1.0, \"#f0f921\"]], \"type\": \"histogram2d\"}], \"histogram2dcontour\": [{\"colorbar\": {\"outlinewidth\": 0, \"ticks\": \"\"}, \"colorscale\": [[0.0, \"#0d0887\"], [0.1111111111111111, \"#46039f\"], [0.2222222222222222, \"#7201a8\"], [0.3333333333333333, \"#9c179e\"], [0.4444444444444444, \"#bd3786\"], [0.5555555555555556, \"#d8576b\"], [0.6666666666666666, \"#ed7953\"], [0.7777777777777778, \"#fb9f3a\"], [0.8888888888888888, \"#fdca26\"], [1.0, \"#f0f921\"]], \"type\": \"histogram2dcontour\"}], \"mesh3d\": [{\"colorbar\": {\"outlinewidth\": 0, \"ticks\": \"\"}, \"type\": \"mesh3d\"}], \"parcoords\": [{\"line\": {\"colorbar\": {\"outlinewidth\": 0, \"ticks\": \"\"}}, \"type\": \"parcoords\"}], \"pie\": [{\"automargin\": true, \"type\": \"pie\"}], \"scatter\": [{\"marker\": {\"colorbar\": {\"outlinewidth\": 0, \"ticks\": \"\"}}, \"type\": \"scatter\"}], \"scatter3d\": [{\"line\": {\"colorbar\": {\"outlinewidth\": 0, \"ticks\": \"\"}}, \"marker\": {\"colorbar\": {\"outlinewidth\": 0, \"ticks\": \"\"}}, \"type\": \"scatter3d\"}], \"scattercarpet\": [{\"marker\": {\"colorbar\": {\"outlinewidth\": 0, \"ticks\": \"\"}}, \"type\": \"scattercarpet\"}], \"scattergeo\": [{\"marker\": {\"colorbar\": {\"outlinewidth\": 0, \"ticks\": \"\"}}, \"type\": \"scattergeo\"}], \"scattergl\": [{\"marker\": {\"colorbar\": {\"outlinewidth\": 0, \"ticks\": \"\"}}, \"type\": \"scattergl\"}], \"scattermapbox\": [{\"marker\": {\"colorbar\": {\"outlinewidth\": 0, \"ticks\": \"\"}}, \"type\": \"scattermapbox\"}], \"scatterpolar\": [{\"marker\": {\"colorbar\": {\"outlinewidth\": 0, \"ticks\": \"\"}}, \"type\": \"scatterpolar\"}], \"scatterpolargl\": [{\"marker\": {\"colorbar\": {\"outlinewidth\": 0, \"ticks\": \"\"}}, \"type\": \"scatterpolargl\"}], \"scatterternary\": [{\"marker\": {\"colorbar\": {\"outlinewidth\": 0, \"ticks\": \"\"}}, \"type\": \"scatterternary\"}], \"surface\": [{\"colorbar\": {\"outlinewidth\": 0, \"ticks\": \"\"}, \"colorscale\": [[0.0, \"#0d0887\"], [0.1111111111111111, \"#46039f\"], [0.2222222222222222, \"#7201a8\"], [0.3333333333333333, \"#9c179e\"], [0.4444444444444444, \"#bd3786\"], [0.5555555555555556, \"#d8576b\"], [0.6666666666666666, \"#ed7953\"], [0.7777777777777778, \"#fb9f3a\"], [0.8888888888888888, \"#fdca26\"], [1.0, \"#f0f921\"]], \"type\": \"surface\"}], \"table\": [{\"cells\": {\"fill\": {\"color\": \"#EBF0F8\"}, \"line\": {\"color\": \"white\"}}, \"header\": {\"fill\": {\"color\": \"#C8D4E3\"}, \"line\": {\"color\": \"white\"}}, \"type\": \"table\"}]}, \"layout\": {\"annotationdefaults\": {\"arrowcolor\": \"#2a3f5f\", \"arrowhead\": 0, \"arrowwidth\": 1}, \"coloraxis\": {\"colorbar\": {\"outlinewidth\": 0, \"ticks\": \"\"}}, \"colorscale\": {\"diverging\": [[0, \"#8e0152\"], [0.1, \"#c51b7d\"], [0.2, \"#de77ae\"], [0.3, \"#f1b6da\"], [0.4, \"#fde0ef\"], [0.5, \"#f7f7f7\"], [0.6, \"#e6f5d0\"], [0.7, \"#b8e186\"], [0.8, \"#7fbc41\"], [0.9, \"#4d9221\"], [1, \"#276419\"]], \"sequential\": [[0.0, \"#0d0887\"], [0.1111111111111111, \"#46039f\"], [0.2222222222222222, \"#7201a8\"], [0.3333333333333333, \"#9c179e\"], [0.4444444444444444, \"#bd3786\"], [0.5555555555555556, \"#d8576b\"], [0.6666666666666666, \"#ed7953\"], [0.7777777777777778, \"#fb9f3a\"], [0.8888888888888888, \"#fdca26\"], [1.0, \"#f0f921\"]], \"sequentialminus\": [[0.0, \"#0d0887\"], [0.1111111111111111, \"#46039f\"], [0.2222222222222222, \"#7201a8\"], [0.3333333333333333, \"#9c179e\"], [0.4444444444444444, \"#bd3786\"], [0.5555555555555556, \"#d8576b\"], [0.6666666666666666, \"#ed7953\"], [0.7777777777777778, \"#fb9f3a\"], [0.8888888888888888, \"#fdca26\"], [1.0, \"#f0f921\"]]}, \"colorway\": [\"#636efa\", \"#EF553B\", \"#00cc96\", \"#ab63fa\", \"#FFA15A\", \"#19d3f3\", \"#FF6692\", \"#B6E880\", \"#FF97FF\", \"#FECB52\"], \"font\": {\"color\": \"#2a3f5f\"}, \"geo\": {\"bgcolor\": \"white\", \"lakecolor\": \"white\", \"landcolor\": \"#E5ECF6\", \"showlakes\": true, \"showland\": true, \"subunitcolor\": \"white\"}, \"hoverlabel\": {\"align\": \"left\"}, \"hovermode\": \"closest\", \"mapbox\": {\"style\": \"light\"}, \"paper_bgcolor\": \"white\", \"plot_bgcolor\": \"#E5ECF6\", \"polar\": {\"angularaxis\": {\"gridcolor\": \"white\", \"linecolor\": \"white\", \"ticks\": \"\"}, \"bgcolor\": \"#E5ECF6\", \"radialaxis\": {\"gridcolor\": \"white\", \"linecolor\": \"white\", \"ticks\": \"\"}}, \"scene\": {\"xaxis\": {\"backgroundcolor\": \"#E5ECF6\", \"gridcolor\": \"white\", \"gridwidth\": 2, \"linecolor\": \"white\", \"showbackground\": true, \"ticks\": \"\", \"zerolinecolor\": \"white\"}, \"yaxis\": {\"backgroundcolor\": \"#E5ECF6\", \"gridcolor\": \"white\", \"gridwidth\": 2, \"linecolor\": \"white\", \"showbackground\": true, \"ticks\": \"\", \"zerolinecolor\": \"white\"}, \"zaxis\": {\"backgroundcolor\": \"#E5ECF6\", \"gridcolor\": \"white\", \"gridwidth\": 2, \"linecolor\": \"white\", \"showbackground\": true, \"ticks\": \"\", \"zerolinecolor\": \"white\"}}, \"shapedefaults\": {\"line\": {\"color\": \"#2a3f5f\"}}, \"ternary\": {\"aaxis\": {\"gridcolor\": \"white\", \"linecolor\": \"white\", \"ticks\": \"\"}, \"baxis\": {\"gridcolor\": \"white\", \"linecolor\": \"white\", \"ticks\": \"\"}, \"bgcolor\": \"#E5ECF6\", \"caxis\": {\"gridcolor\": \"white\", \"linecolor\": \"white\", \"ticks\": \"\"}}, \"title\": {\"x\": 0.05}, \"xaxis\": {\"automargin\": true, \"gridcolor\": \"white\", \"linecolor\": \"white\", \"ticks\": \"\", \"title\": {\"standoff\": 15}, \"zerolinecolor\": \"white\", \"zerolinewidth\": 2}, \"yaxis\": {\"automargin\": true, \"gridcolor\": \"white\", \"linecolor\": \"white\", \"ticks\": \"\", \"title\": {\"standoff\": 15}, \"zerolinecolor\": \"white\", \"zerolinewidth\": 2}}}, \"title\": {\"font\": {\"color\": \"#4D5663\"}}, \"xaxis\": {\"gridcolor\": \"#E1E5ED\", \"showgrid\": true, \"tickfont\": {\"color\": \"#4D5663\"}, \"title\": {\"font\": {\"color\": \"#4D5663\"}, \"text\": \"\"}, \"zerolinecolor\": \"#E1E5ED\"}, \"yaxis\": {\"gridcolor\": \"#E1E5ED\", \"showgrid\": true, \"tickfont\": {\"color\": \"#4D5663\"}, \"title\": {\"font\": {\"color\": \"#4D5663\"}, \"text\": \"\"}, \"zerolinecolor\": \"#E1E5ED\"}},                        {\"showLink\": true, \"linkText\": \"Export to plot.ly\", \"plotlyServerURL\": \"https://plot.ly\", \"responsive\": true}                    ).then(function(){\n                            \nvar gd = document.getElementById('715c0a30-ccd2-48ac-b4dd-4b498f645c6d');\nvar x = new MutationObserver(function (mutations, observer) {{\n        var display = window.getComputedStyle(gd).display;\n        if (!display || display === 'none') {{\n            console.log([gd, 'removed!']);\n            Plotly.purge(gd);\n            observer.disconnect();\n        }}\n}});\n\n// Listen for the removal of the full notebook cells\nvar notebookContainer = gd.closest('#notebook-container');\nif (notebookContainer) {{\n    x.observe(notebookContainer, {childList: true});\n}}\n\n// Listen for the clearing of the current output cell\nvar outputEl = gd.closest('.output');\nif (outputEl) {{\n    x.observe(outputEl, {childList: true});\n}}\n\n                        })                };                });            </script>        </div>"
     },
     "metadata": {}
    }
   ],
   "source": [
    "df2.iplot(kind='bar', x='Category', y='Values')"
   ]
  },
  {
   "cell_type": "code",
   "execution_count": 14,
   "metadata": {},
   "outputs": [
    {
     "output_type": "execute_result",
     "data": {
      "text/plain": [
       "          A         B         C         D\n",
       "0 -1.302991  1.688251 -0.826451 -0.026261\n",
       "1 -0.634541  0.515871 -1.176351 -0.436015\n",
       "2 -0.497084  0.238740 -0.367732 -0.374632\n",
       "3 -0.399282 -0.314533 -1.472004 -0.432169\n",
       "4  0.354206 -0.057868 -1.158886 -1.997470"
      ],
      "text/html": "<div>\n<style scoped>\n    .dataframe tbody tr th:only-of-type {\n        vertical-align: middle;\n    }\n\n    .dataframe tbody tr th {\n        vertical-align: top;\n    }\n\n    .dataframe thead th {\n        text-align: right;\n    }\n</style>\n<table border=\"1\" class=\"dataframe\">\n  <thead>\n    <tr style=\"text-align: right;\">\n      <th></th>\n      <th>A</th>\n      <th>B</th>\n      <th>C</th>\n      <th>D</th>\n    </tr>\n  </thead>\n  <tbody>\n    <tr>\n      <th>0</th>\n      <td>-1.302991</td>\n      <td>1.688251</td>\n      <td>-0.826451</td>\n      <td>-0.026261</td>\n    </tr>\n    <tr>\n      <th>1</th>\n      <td>-0.634541</td>\n      <td>0.515871</td>\n      <td>-1.176351</td>\n      <td>-0.436015</td>\n    </tr>\n    <tr>\n      <th>2</th>\n      <td>-0.497084</td>\n      <td>0.238740</td>\n      <td>-0.367732</td>\n      <td>-0.374632</td>\n    </tr>\n    <tr>\n      <th>3</th>\n      <td>-0.399282</td>\n      <td>-0.314533</td>\n      <td>-1.472004</td>\n      <td>-0.432169</td>\n    </tr>\n    <tr>\n      <th>4</th>\n      <td>0.354206</td>\n      <td>-0.057868</td>\n      <td>-1.158886</td>\n      <td>-1.997470</td>\n    </tr>\n  </tbody>\n</table>\n</div>"
     },
     "metadata": {},
     "execution_count": 14
    }
   ],
   "source": [
    "df.head()"
   ]
  },
  {
   "cell_type": "code",
   "execution_count": 13,
   "metadata": {},
   "outputs": [
    {
     "output_type": "display_data",
     "data": {
      "application/vnd.plotly.v1+json": {
       "config": {
        "linkText": "Export to plot.ly",
        "plotlyServerURL": "https://plot.ly",
        "showLink": true
       },
       "data": [
        {
         "marker": {
          "color": "rgba(255, 153, 51, 0.6)",
          "line": {
           "color": "rgba(255, 153, 51, 1.0)",
           "width": 1
          }
         },
         "name": "A",
         "orientation": "v",
         "text": "",
         "type": "bar",
         "x": [
          0,
          1,
          2,
          3,
          4,
          5,
          6,
          7,
          8,
          9,
          10,
          11,
          12,
          13,
          14,
          15,
          16,
          17,
          18,
          19,
          20,
          21,
          22,
          23,
          24,
          25,
          26,
          27,
          28,
          29,
          30,
          31,
          32,
          33,
          34,
          35,
          36,
          37,
          38,
          39,
          40,
          41,
          42,
          43,
          44,
          45,
          46,
          47,
          48,
          49,
          50,
          51,
          52,
          53,
          54,
          55,
          56,
          57,
          58,
          59,
          60,
          61,
          62,
          63,
          64,
          65,
          66,
          67,
          68,
          69,
          70,
          71,
          72,
          73,
          74,
          75,
          76,
          77,
          78,
          79,
          80,
          81,
          82,
          83,
          84,
          85,
          86,
          87,
          88,
          89,
          90,
          91,
          92,
          93,
          94,
          95,
          96,
          97,
          98,
          99
         ],
         "y": [
          -1.3029910260185527,
          -0.6345409755605936,
          -0.4970843398185257,
          -0.3992817913574426,
          0.3542058101349474,
          0.8543758691640285,
          -1.0468768028721744,
          0.2789171405384338,
          -0.76171218492107,
          0.40464930572129154,
          -0.6384727864741406,
          -1.3458595010765868,
          1.5657969612355531,
          1.852087700752619,
          -1.858209315329607,
          1.0548013998797294,
          0.2331479668856663,
          -0.8635754387722143,
          4.417467107403022,
          1.40622229909111,
          -2.015032676198931,
          -0.2561727767083366,
          0.7382067662237576,
          0.7037797661928586,
          -0.5543212368675678,
          1.3409664893306001,
          -1.7303621843739518,
          0.4775972268947309,
          -0.4620894851875813,
          -0.7400384250472646,
          -0.5446018259363711,
          -1.5889874108236144,
          -0.5426498848727573,
          0.5011120325214004,
          -0.7517444948429257,
          0.028493823762782523,
          0.02854923672584782,
          -1.9593429113352838,
          1.9845931234194278,
          -0.7558075542719448,
          0.8298734827966223,
          -0.23560652672566115,
          1.6578554250685131,
          -0.9763334820803592,
          1.5226477828864031,
          0.2768256161764863,
          0.891783019254991,
          0.40892348209705315,
          0.9001034755451008,
          -0.3197994322786932,
          -0.03294865030857477,
          0.296044672372106,
          0.3432723261782436,
          1.0901163597253134,
          0.7047239300778516,
          0.8813199972630109,
          -0.45744344192105174,
          0.04157430103289277,
          0.8276125056952289,
          -0.9480788642567572,
          -0.6044676168417205,
          1.611867714416388,
          1.2246848807776154,
          -0.6328198355511625,
          0.9464537467313994,
          0.36599133674643897,
          -0.8798817680838723,
          -1.3230735318416644,
          -0.6595945535162456,
          0.13797127187224512,
          0.15451324844661918,
          -0.17374227573073595,
          0.8607055851340712,
          -1.4650580768799903,
          0.656323657390342,
          -0.4557291434314094,
          0.345607076807079,
          0.19745473049773005,
          1.514847404376252,
          -0.18607690739128482,
          -1.8016979248982299,
          -0.19761125496540985,
          -0.5909773454319642,
          0.9755262457915866,
          1.3205693996435137,
          -0.8337816922682474,
          -0.5331440794813804,
          0.13810379120023636,
          0.6908652576755376,
          2.4042990640209925,
          -0.4613939277138382,
          0.49764752630670156,
          -0.35148286196763745,
          -1.1701644083500602,
          0.1348354270164706,
          -1.9629604731270334,
          -0.003863839593197497,
          -0.4354492036023001,
          -1.3922277145959536,
          -1.5090989891608224
         ]
        },
        {
         "marker": {
          "color": "rgba(55, 128, 191, 0.6)",
          "line": {
           "color": "rgba(55, 128, 191, 1.0)",
           "width": 1
          }
         },
         "name": "B",
         "orientation": "v",
         "text": "",
         "type": "bar",
         "x": [
          0,
          1,
          2,
          3,
          4,
          5,
          6,
          7,
          8,
          9,
          10,
          11,
          12,
          13,
          14,
          15,
          16,
          17,
          18,
          19,
          20,
          21,
          22,
          23,
          24,
          25,
          26,
          27,
          28,
          29,
          30,
          31,
          32,
          33,
          34,
          35,
          36,
          37,
          38,
          39,
          40,
          41,
          42,
          43,
          44,
          45,
          46,
          47,
          48,
          49,
          50,
          51,
          52,
          53,
          54,
          55,
          56,
          57,
          58,
          59,
          60,
          61,
          62,
          63,
          64,
          65,
          66,
          67,
          68,
          69,
          70,
          71,
          72,
          73,
          74,
          75,
          76,
          77,
          78,
          79,
          80,
          81,
          82,
          83,
          84,
          85,
          86,
          87,
          88,
          89,
          90,
          91,
          92,
          93,
          94,
          95,
          96,
          97,
          98,
          99
         ],
         "y": [
          1.6882512260973117,
          0.5158710176755467,
          0.23873990299003114,
          -0.3145327392960178,
          -0.05786817255526092,
          0.9910843865872273,
          -1.0359585321881506,
          -0.5698709915778961,
          -0.18398005469406745,
          2.207853423864874,
          -1.5915361144745996,
          -0.04509144587511076,
          1.4524707552409064,
          0.009529666735718404,
          0.38086626935385665,
          -1.3655534301942167,
          -0.6323354798386047,
          0.1299661205027946,
          -1.0802218366789245,
          -0.4001497721668597,
          0.4569183313465229,
          0.5725027864331934,
          -0.786801615614401,
          -0.4607091302129849,
          0.4387832560969114,
          -0.8681951918586254,
          -0.17024126947998658,
          -0.18772649499073882,
          0.8301378378358303,
          -0.6854567252345459,
          -0.9692801208233021,
          1.093008227937934,
          0.4055615455099214,
          -0.4627488465376716,
          0.6583239260354653,
          0.4433568775285607,
          -0.6035229622366626,
          0.24292340871916762,
          -1.5042957825197651,
          -0.3000603027015591,
          0.34142667945691635,
          -0.32482252628960095,
          -0.4433082234932536,
          3.9440742696935183,
          0.6207740079924924,
          0.38968436436994813,
          -0.6817579363443267,
          0.5324818222762935,
          1.657366941484701,
          -2.170981037992793,
          1.9267561793656178,
          0.24012012482685968,
          0.7956723907522188,
          1.7024993954432366,
          -0.7873073675113008,
          2.8706607317065327,
          -0.6560868407201098,
          -1.0410526481187512,
          0.5161361158856086,
          -0.19460530871301887,
          0.6339646401989558,
          -0.4339578914814445,
          0.5359625838619514,
          -0.35184245858300894,
          1.267781690132369,
          1.4428270469701054,
          -2.3783123560981556,
          0.4022682155326851,
          -0.08789270205665065,
          -0.10123022381383125,
          -0.9780231207040389,
          0.5689741256244726,
          0.05688867947033349,
          -0.8285477988648572,
          -0.9503655814587794,
          0.7191848562066077,
          -1.8851542589635966,
          0.43590135574921746,
          -1.2959988337617907,
          -0.5187077191995955,
          -1.004562271290593,
          1.1677495409372405,
          0.6273603363579863,
          -1.3749559508117815,
          -1.1168796208778597,
          0.7718042568586778,
          -0.34632674300445754,
          0.6127372641882435,
          0.9711121349827319,
          -1.078653942896353,
          0.24404343023187977,
          -0.6824417313159293,
          0.5528694965383156,
          1.4310992595922643,
          -1.8101215673535866,
          -0.7755550623471177,
          0.4390286964608778,
          1.1952452180489437,
          1.368550012271986,
          2.0617211569183644
         ]
        },
        {
         "marker": {
          "color": "rgba(50, 171, 96, 0.6)",
          "line": {
           "color": "rgba(50, 171, 96, 1.0)",
           "width": 1
          }
         },
         "name": "C",
         "orientation": "v",
         "text": "",
         "type": "bar",
         "x": [
          0,
          1,
          2,
          3,
          4,
          5,
          6,
          7,
          8,
          9,
          10,
          11,
          12,
          13,
          14,
          15,
          16,
          17,
          18,
          19,
          20,
          21,
          22,
          23,
          24,
          25,
          26,
          27,
          28,
          29,
          30,
          31,
          32,
          33,
          34,
          35,
          36,
          37,
          38,
          39,
          40,
          41,
          42,
          43,
          44,
          45,
          46,
          47,
          48,
          49,
          50,
          51,
          52,
          53,
          54,
          55,
          56,
          57,
          58,
          59,
          60,
          61,
          62,
          63,
          64,
          65,
          66,
          67,
          68,
          69,
          70,
          71,
          72,
          73,
          74,
          75,
          76,
          77,
          78,
          79,
          80,
          81,
          82,
          83,
          84,
          85,
          86,
          87,
          88,
          89,
          90,
          91,
          92,
          93,
          94,
          95,
          96,
          97,
          98,
          99
         ],
         "y": [
          -0.8264506896233805,
          -1.176350899758253,
          -0.3677318188530756,
          -1.4720044653787656,
          -1.1588858045628407,
          0.7456953964634894,
          0.9566298973293653,
          -1.20693808448789,
          0.6174914037644343,
          -1.1909576331256633,
          0.2701066171754702,
          0.5994816206301261,
          1.1814159707156198,
          0.7832863821980021,
          1.240112408998169,
          0.34545333408179524,
          -0.6008125344385378,
          0.9289027324451608,
          0.2566003424581543,
          1.006205400995946,
          0.6119900986898285,
          -0.22549823130571103,
          0.3898590248891198,
          0.07599263922972696,
          0.727470442932236,
          -0.08176203193937615,
          -1.3599930411133478,
          0.17224613831251542,
          -0.4727843796394581,
          -0.8060233755273365,
          0.5055975265481226,
          -1.8753494400479889,
          1.2941730790456025,
          1.5744102948673322,
          0.7387730258347036,
          0.5860045969300058,
          -0.723619796547478,
          -1.0417591768263024,
          -0.470771560915133,
          -1.4929970412565141,
          -0.32707911189483263,
          0.7282251781063928,
          -1.377605043831834,
          0.16343450498583165,
          1.356744370844419,
          -0.3312365717940639,
          -0.8250322594337683,
          0.07941500296377305,
          -1.162689769676185,
          0.05374250312152779,
          0.7604301001397885,
          0.43896084929677054,
          -0.8820998638015842,
          0.5499624730620242,
          0.9140106310131192,
          1.055917905098612,
          -0.7414955604032043,
          -0.5463212937101766,
          0.4955784597360281,
          -0.02354492683148001,
          -0.3727337336161601,
          -0.9852186141474171,
          -0.7678438413812869,
          -1.2236613002725114,
          0.15284364016870355,
          2.0468554192192165,
          -0.9126705058694156,
          1.4446749566113084,
          -0.7116661162542393,
          -1.1444509425362968,
          0.9164979198882102,
          1.2037589326356088,
          0.12920025623173145,
          1.6007240787584662,
          1.5529956912491711,
          -0.4575394938769466,
          -1.6977306145222575,
          -1.1204170929687185,
          0.2935858280530774,
          1.462026892082136,
          0.9286319801513351,
          0.008154553256302497,
          -1.2129074476653168,
          0.4178486727721547,
          -1.3006006388635418,
          0.5936363842794125,
          1.8163543415605183,
          -0.024725382636794385,
          -2.2280124441295257,
          1.0747791114191572,
          -1.4637658946247378,
          1.7400313929211857,
          -0.17307079517082638,
          0.42330521334767957,
          0.2374962757042385,
          -0.450632373356384,
          -0.45411844823390657,
          1.5364162778575143,
          0.42605356124318955,
          0.5527684042994255
         ]
        },
        {
         "marker": {
          "color": "rgba(128, 0, 128, 0.6)",
          "line": {
           "color": "rgba(128, 0, 128, 1.0)",
           "width": 1
          }
         },
         "name": "D",
         "orientation": "v",
         "text": "",
         "type": "bar",
         "x": [
          0,
          1,
          2,
          3,
          4,
          5,
          6,
          7,
          8,
          9,
          10,
          11,
          12,
          13,
          14,
          15,
          16,
          17,
          18,
          19,
          20,
          21,
          22,
          23,
          24,
          25,
          26,
          27,
          28,
          29,
          30,
          31,
          32,
          33,
          34,
          35,
          36,
          37,
          38,
          39,
          40,
          41,
          42,
          43,
          44,
          45,
          46,
          47,
          48,
          49,
          50,
          51,
          52,
          53,
          54,
          55,
          56,
          57,
          58,
          59,
          60,
          61,
          62,
          63,
          64,
          65,
          66,
          67,
          68,
          69,
          70,
          71,
          72,
          73,
          74,
          75,
          76,
          77,
          78,
          79,
          80,
          81,
          82,
          83,
          84,
          85,
          86,
          87,
          88,
          89,
          90,
          91,
          92,
          93,
          94,
          95,
          96,
          97,
          98,
          99
         ],
         "y": [
          -0.02626126961239427,
          -0.436014881361742,
          -0.3746321667542666,
          -0.43216934958036024,
          -1.9974703484738867,
          1.2203531692837355,
          1.1969354738635678,
          0.9056019367494507,
          2.5720971475191883,
          0.43861258089649235,
          1.3317194608358982,
          0.5804740490811431,
          0.3077945483687238,
          1.6207599520155838,
          -0.5857332939936494,
          -0.6689876810133815,
          1.1206919741925525,
          -0.3336276964064453,
          1.1609344777097421,
          -0.26900488931924105,
          1.1712042963975622,
          0.0933795353367121,
          0.41583992888089016,
          -0.6347147363346544,
          0.7633242571824619,
          -0.10102603169494762,
          -1.2986620354909197,
          1.0827016298883472,
          -0.32468579666207514,
          -0.8859287637785489,
          -1.030107173254222,
          1.4737090699923479,
          -0.17920520077362406,
          0.06458867694275676,
          -1.279871590415289,
          -0.37469460192309745,
          0.3613118925257818,
          -0.10553188426851909,
          2.156530435307609,
          -0.4025178060597154,
          -1.238293891673967,
          0.6763307466900181,
          0.09492200812990038,
          -1.6930694486223723,
          0.754338631432365,
          0.723715681107002,
          1.282071986265144,
          0.6982381931950387,
          0.9096661806440242,
          -0.5083574342153262,
          0.49113495132250656,
          -1.168635345365327,
          0.12912079274750446,
          -1.4147372785994312,
          0.3180186838907405,
          1.8974476996167633,
          -0.6349760896472313,
          1.6882633339919006,
          1.1727983010460261,
          0.34320252803706036,
          -0.08701180281681982,
          0.19676805834946226,
          1.7546858039185933,
          1.7829563655292369,
          -0.06744100113006737,
          0.0010950975845474401,
          -1.3724589104158895,
          -1.2639376633178299,
          0.0857561528368096,
          -0.1627168101147695,
          0.046807728793893964,
          -1.0676971513463354,
          0.3227992372582722,
          -0.05211477076076739,
          -0.5155955172641732,
          -0.8002845641305231,
          -0.48676442189545316,
          -1.5507128205030964,
          -0.07761419707755418,
          0.6811570782522675,
          -0.09173325205891147,
          0.36275087610712453,
          -1.5206926005171164,
          -1.1961642675468969,
          0.5941657842161046,
          -0.1930731683743713,
          -0.9557696029219265,
          -2.4737323835476728,
          1.8101360144490268,
          -2.408067857025599,
          1.2513781659366312,
          0.6872632233258075,
          1.1005577735064482,
          -0.8285815734428673,
          -0.3490644553758048,
          -0.9381096106464754,
          0.20987495748261986,
          -0.17402357693801282,
          0.9641646450245878,
          0.16431066827431753
         ]
        }
       ],
       "layout": {
        "legend": {
         "bgcolor": "#F5F6F9",
         "font": {
          "color": "#4D5663"
         }
        },
        "paper_bgcolor": "#F5F6F9",
        "plot_bgcolor": "#F5F6F9",
        "template": {
         "data": {
          "bar": [
           {
            "error_x": {
             "color": "#2a3f5f"
            },
            "error_y": {
             "color": "#2a3f5f"
            },
            "marker": {
             "line": {
              "color": "#E5ECF6",
              "width": 0.5
             }
            },
            "type": "bar"
           }
          ],
          "barpolar": [
           {
            "marker": {
             "line": {
              "color": "#E5ECF6",
              "width": 0.5
             }
            },
            "type": "barpolar"
           }
          ],
          "carpet": [
           {
            "aaxis": {
             "endlinecolor": "#2a3f5f",
             "gridcolor": "white",
             "linecolor": "white",
             "minorgridcolor": "white",
             "startlinecolor": "#2a3f5f"
            },
            "baxis": {
             "endlinecolor": "#2a3f5f",
             "gridcolor": "white",
             "linecolor": "white",
             "minorgridcolor": "white",
             "startlinecolor": "#2a3f5f"
            },
            "type": "carpet"
           }
          ],
          "choropleth": [
           {
            "colorbar": {
             "outlinewidth": 0,
             "ticks": ""
            },
            "type": "choropleth"
           }
          ],
          "contour": [
           {
            "colorbar": {
             "outlinewidth": 0,
             "ticks": ""
            },
            "colorscale": [
             [
              0,
              "#0d0887"
             ],
             [
              0.1111111111111111,
              "#46039f"
             ],
             [
              0.2222222222222222,
              "#7201a8"
             ],
             [
              0.3333333333333333,
              "#9c179e"
             ],
             [
              0.4444444444444444,
              "#bd3786"
             ],
             [
              0.5555555555555556,
              "#d8576b"
             ],
             [
              0.6666666666666666,
              "#ed7953"
             ],
             [
              0.7777777777777778,
              "#fb9f3a"
             ],
             [
              0.8888888888888888,
              "#fdca26"
             ],
             [
              1,
              "#f0f921"
             ]
            ],
            "type": "contour"
           }
          ],
          "contourcarpet": [
           {
            "colorbar": {
             "outlinewidth": 0,
             "ticks": ""
            },
            "type": "contourcarpet"
           }
          ],
          "heatmap": [
           {
            "colorbar": {
             "outlinewidth": 0,
             "ticks": ""
            },
            "colorscale": [
             [
              0,
              "#0d0887"
             ],
             [
              0.1111111111111111,
              "#46039f"
             ],
             [
              0.2222222222222222,
              "#7201a8"
             ],
             [
              0.3333333333333333,
              "#9c179e"
             ],
             [
              0.4444444444444444,
              "#bd3786"
             ],
             [
              0.5555555555555556,
              "#d8576b"
             ],
             [
              0.6666666666666666,
              "#ed7953"
             ],
             [
              0.7777777777777778,
              "#fb9f3a"
             ],
             [
              0.8888888888888888,
              "#fdca26"
             ],
             [
              1,
              "#f0f921"
             ]
            ],
            "type": "heatmap"
           }
          ],
          "heatmapgl": [
           {
            "colorbar": {
             "outlinewidth": 0,
             "ticks": ""
            },
            "colorscale": [
             [
              0,
              "#0d0887"
             ],
             [
              0.1111111111111111,
              "#46039f"
             ],
             [
              0.2222222222222222,
              "#7201a8"
             ],
             [
              0.3333333333333333,
              "#9c179e"
             ],
             [
              0.4444444444444444,
              "#bd3786"
             ],
             [
              0.5555555555555556,
              "#d8576b"
             ],
             [
              0.6666666666666666,
              "#ed7953"
             ],
             [
              0.7777777777777778,
              "#fb9f3a"
             ],
             [
              0.8888888888888888,
              "#fdca26"
             ],
             [
              1,
              "#f0f921"
             ]
            ],
            "type": "heatmapgl"
           }
          ],
          "histogram": [
           {
            "marker": {
             "colorbar": {
              "outlinewidth": 0,
              "ticks": ""
             }
            },
            "type": "histogram"
           }
          ],
          "histogram2d": [
           {
            "colorbar": {
             "outlinewidth": 0,
             "ticks": ""
            },
            "colorscale": [
             [
              0,
              "#0d0887"
             ],
             [
              0.1111111111111111,
              "#46039f"
             ],
             [
              0.2222222222222222,
              "#7201a8"
             ],
             [
              0.3333333333333333,
              "#9c179e"
             ],
             [
              0.4444444444444444,
              "#bd3786"
             ],
             [
              0.5555555555555556,
              "#d8576b"
             ],
             [
              0.6666666666666666,
              "#ed7953"
             ],
             [
              0.7777777777777778,
              "#fb9f3a"
             ],
             [
              0.8888888888888888,
              "#fdca26"
             ],
             [
              1,
              "#f0f921"
             ]
            ],
            "type": "histogram2d"
           }
          ],
          "histogram2dcontour": [
           {
            "colorbar": {
             "outlinewidth": 0,
             "ticks": ""
            },
            "colorscale": [
             [
              0,
              "#0d0887"
             ],
             [
              0.1111111111111111,
              "#46039f"
             ],
             [
              0.2222222222222222,
              "#7201a8"
             ],
             [
              0.3333333333333333,
              "#9c179e"
             ],
             [
              0.4444444444444444,
              "#bd3786"
             ],
             [
              0.5555555555555556,
              "#d8576b"
             ],
             [
              0.6666666666666666,
              "#ed7953"
             ],
             [
              0.7777777777777778,
              "#fb9f3a"
             ],
             [
              0.8888888888888888,
              "#fdca26"
             ],
             [
              1,
              "#f0f921"
             ]
            ],
            "type": "histogram2dcontour"
           }
          ],
          "mesh3d": [
           {
            "colorbar": {
             "outlinewidth": 0,
             "ticks": ""
            },
            "type": "mesh3d"
           }
          ],
          "parcoords": [
           {
            "line": {
             "colorbar": {
              "outlinewidth": 0,
              "ticks": ""
             }
            },
            "type": "parcoords"
           }
          ],
          "pie": [
           {
            "automargin": true,
            "type": "pie"
           }
          ],
          "scatter": [
           {
            "marker": {
             "colorbar": {
              "outlinewidth": 0,
              "ticks": ""
             }
            },
            "type": "scatter"
           }
          ],
          "scatter3d": [
           {
            "line": {
             "colorbar": {
              "outlinewidth": 0,
              "ticks": ""
             }
            },
            "marker": {
             "colorbar": {
              "outlinewidth": 0,
              "ticks": ""
             }
            },
            "type": "scatter3d"
           }
          ],
          "scattercarpet": [
           {
            "marker": {
             "colorbar": {
              "outlinewidth": 0,
              "ticks": ""
             }
            },
            "type": "scattercarpet"
           }
          ],
          "scattergeo": [
           {
            "marker": {
             "colorbar": {
              "outlinewidth": 0,
              "ticks": ""
             }
            },
            "type": "scattergeo"
           }
          ],
          "scattergl": [
           {
            "marker": {
             "colorbar": {
              "outlinewidth": 0,
              "ticks": ""
             }
            },
            "type": "scattergl"
           }
          ],
          "scattermapbox": [
           {
            "marker": {
             "colorbar": {
              "outlinewidth": 0,
              "ticks": ""
             }
            },
            "type": "scattermapbox"
           }
          ],
          "scatterpolar": [
           {
            "marker": {
             "colorbar": {
              "outlinewidth": 0,
              "ticks": ""
             }
            },
            "type": "scatterpolar"
           }
          ],
          "scatterpolargl": [
           {
            "marker": {
             "colorbar": {
              "outlinewidth": 0,
              "ticks": ""
             }
            },
            "type": "scatterpolargl"
           }
          ],
          "scatterternary": [
           {
            "marker": {
             "colorbar": {
              "outlinewidth": 0,
              "ticks": ""
             }
            },
            "type": "scatterternary"
           }
          ],
          "surface": [
           {
            "colorbar": {
             "outlinewidth": 0,
             "ticks": ""
            },
            "colorscale": [
             [
              0,
              "#0d0887"
             ],
             [
              0.1111111111111111,
              "#46039f"
             ],
             [
              0.2222222222222222,
              "#7201a8"
             ],
             [
              0.3333333333333333,
              "#9c179e"
             ],
             [
              0.4444444444444444,
              "#bd3786"
             ],
             [
              0.5555555555555556,
              "#d8576b"
             ],
             [
              0.6666666666666666,
              "#ed7953"
             ],
             [
              0.7777777777777778,
              "#fb9f3a"
             ],
             [
              0.8888888888888888,
              "#fdca26"
             ],
             [
              1,
              "#f0f921"
             ]
            ],
            "type": "surface"
           }
          ],
          "table": [
           {
            "cells": {
             "fill": {
              "color": "#EBF0F8"
             },
             "line": {
              "color": "white"
             }
            },
            "header": {
             "fill": {
              "color": "#C8D4E3"
             },
             "line": {
              "color": "white"
             }
            },
            "type": "table"
           }
          ]
         },
         "layout": {
          "annotationdefaults": {
           "arrowcolor": "#2a3f5f",
           "arrowhead": 0,
           "arrowwidth": 1
          },
          "coloraxis": {
           "colorbar": {
            "outlinewidth": 0,
            "ticks": ""
           }
          },
          "colorscale": {
           "diverging": [
            [
             0,
             "#8e0152"
            ],
            [
             0.1,
             "#c51b7d"
            ],
            [
             0.2,
             "#de77ae"
            ],
            [
             0.3,
             "#f1b6da"
            ],
            [
             0.4,
             "#fde0ef"
            ],
            [
             0.5,
             "#f7f7f7"
            ],
            [
             0.6,
             "#e6f5d0"
            ],
            [
             0.7,
             "#b8e186"
            ],
            [
             0.8,
             "#7fbc41"
            ],
            [
             0.9,
             "#4d9221"
            ],
            [
             1,
             "#276419"
            ]
           ],
           "sequential": [
            [
             0,
             "#0d0887"
            ],
            [
             0.1111111111111111,
             "#46039f"
            ],
            [
             0.2222222222222222,
             "#7201a8"
            ],
            [
             0.3333333333333333,
             "#9c179e"
            ],
            [
             0.4444444444444444,
             "#bd3786"
            ],
            [
             0.5555555555555556,
             "#d8576b"
            ],
            [
             0.6666666666666666,
             "#ed7953"
            ],
            [
             0.7777777777777778,
             "#fb9f3a"
            ],
            [
             0.8888888888888888,
             "#fdca26"
            ],
            [
             1,
             "#f0f921"
            ]
           ],
           "sequentialminus": [
            [
             0,
             "#0d0887"
            ],
            [
             0.1111111111111111,
             "#46039f"
            ],
            [
             0.2222222222222222,
             "#7201a8"
            ],
            [
             0.3333333333333333,
             "#9c179e"
            ],
            [
             0.4444444444444444,
             "#bd3786"
            ],
            [
             0.5555555555555556,
             "#d8576b"
            ],
            [
             0.6666666666666666,
             "#ed7953"
            ],
            [
             0.7777777777777778,
             "#fb9f3a"
            ],
            [
             0.8888888888888888,
             "#fdca26"
            ],
            [
             1,
             "#f0f921"
            ]
           ]
          },
          "colorway": [
           "#636efa",
           "#EF553B",
           "#00cc96",
           "#ab63fa",
           "#FFA15A",
           "#19d3f3",
           "#FF6692",
           "#B6E880",
           "#FF97FF",
           "#FECB52"
          ],
          "font": {
           "color": "#2a3f5f"
          },
          "geo": {
           "bgcolor": "white",
           "lakecolor": "white",
           "landcolor": "#E5ECF6",
           "showlakes": true,
           "showland": true,
           "subunitcolor": "white"
          },
          "hoverlabel": {
           "align": "left"
          },
          "hovermode": "closest",
          "mapbox": {
           "style": "light"
          },
          "paper_bgcolor": "white",
          "plot_bgcolor": "#E5ECF6",
          "polar": {
           "angularaxis": {
            "gridcolor": "white",
            "linecolor": "white",
            "ticks": ""
           },
           "bgcolor": "#E5ECF6",
           "radialaxis": {
            "gridcolor": "white",
            "linecolor": "white",
            "ticks": ""
           }
          },
          "scene": {
           "xaxis": {
            "backgroundcolor": "#E5ECF6",
            "gridcolor": "white",
            "gridwidth": 2,
            "linecolor": "white",
            "showbackground": true,
            "ticks": "",
            "zerolinecolor": "white"
           },
           "yaxis": {
            "backgroundcolor": "#E5ECF6",
            "gridcolor": "white",
            "gridwidth": 2,
            "linecolor": "white",
            "showbackground": true,
            "ticks": "",
            "zerolinecolor": "white"
           },
           "zaxis": {
            "backgroundcolor": "#E5ECF6",
            "gridcolor": "white",
            "gridwidth": 2,
            "linecolor": "white",
            "showbackground": true,
            "ticks": "",
            "zerolinecolor": "white"
           }
          },
          "shapedefaults": {
           "line": {
            "color": "#2a3f5f"
           }
          },
          "ternary": {
           "aaxis": {
            "gridcolor": "white",
            "linecolor": "white",
            "ticks": ""
           },
           "baxis": {
            "gridcolor": "white",
            "linecolor": "white",
            "ticks": ""
           },
           "bgcolor": "#E5ECF6",
           "caxis": {
            "gridcolor": "white",
            "linecolor": "white",
            "ticks": ""
           }
          },
          "title": {
           "x": 0.05
          },
          "xaxis": {
           "automargin": true,
           "gridcolor": "white",
           "linecolor": "white",
           "ticks": "",
           "title": {
            "standoff": 15
           },
           "zerolinecolor": "white",
           "zerolinewidth": 2
          },
          "yaxis": {
           "automargin": true,
           "gridcolor": "white",
           "linecolor": "white",
           "ticks": "",
           "title": {
            "standoff": 15
           },
           "zerolinecolor": "white",
           "zerolinewidth": 2
          }
         }
        },
        "title": {
         "font": {
          "color": "#4D5663"
         }
        },
        "xaxis": {
         "gridcolor": "#E1E5ED",
         "showgrid": true,
         "tickfont": {
          "color": "#4D5663"
         },
         "title": {
          "font": {
           "color": "#4D5663"
          },
          "text": ""
         },
         "zerolinecolor": "#E1E5ED"
        },
        "yaxis": {
         "gridcolor": "#E1E5ED",
         "showgrid": true,
         "tickfont": {
          "color": "#4D5663"
         },
         "title": {
          "font": {
           "color": "#4D5663"
          },
          "text": ""
         },
         "zerolinecolor": "#E1E5ED"
        }
       }
      },
      "text/html": "<div>                            <div id=\"adf67ebb-1be0-4b55-9fde-3627e279361c\" class=\"plotly-graph-div\" style=\"height:525px; width:100%;\"></div>            <script type=\"text/javascript\">                require([\"plotly\"], function(Plotly) {                    window.PLOTLYENV=window.PLOTLYENV || {};\n                    window.PLOTLYENV.BASE_URL='https://plot.ly';                                    if (document.getElementById(\"adf67ebb-1be0-4b55-9fde-3627e279361c\")) {                    Plotly.newPlot(                        \"adf67ebb-1be0-4b55-9fde-3627e279361c\",                        [{\"marker\": {\"color\": \"rgba(255, 153, 51, 0.6)\", \"line\": {\"color\": \"rgba(255, 153, 51, 1.0)\", \"width\": 1}}, \"name\": \"A\", \"orientation\": \"v\", \"text\": \"\", \"type\": \"bar\", \"x\": [0, 1, 2, 3, 4, 5, 6, 7, 8, 9, 10, 11, 12, 13, 14, 15, 16, 17, 18, 19, 20, 21, 22, 23, 24, 25, 26, 27, 28, 29, 30, 31, 32, 33, 34, 35, 36, 37, 38, 39, 40, 41, 42, 43, 44, 45, 46, 47, 48, 49, 50, 51, 52, 53, 54, 55, 56, 57, 58, 59, 60, 61, 62, 63, 64, 65, 66, 67, 68, 69, 70, 71, 72, 73, 74, 75, 76, 77, 78, 79, 80, 81, 82, 83, 84, 85, 86, 87, 88, 89, 90, 91, 92, 93, 94, 95, 96, 97, 98, 99], \"y\": [-1.3029910260185527, -0.6345409755605936, -0.4970843398185257, -0.3992817913574426, 0.3542058101349474, 0.8543758691640285, -1.0468768028721744, 0.2789171405384338, -0.76171218492107, 0.40464930572129154, -0.6384727864741406, -1.3458595010765868, 1.5657969612355531, 1.852087700752619, -1.858209315329607, 1.0548013998797294, 0.2331479668856663, -0.8635754387722143, 4.417467107403022, 1.40622229909111, -2.015032676198931, -0.2561727767083366, 0.7382067662237576, 0.7037797661928586, -0.5543212368675678, 1.3409664893306001, -1.7303621843739518, 0.4775972268947309, -0.4620894851875813, -0.7400384250472646, -0.5446018259363711, -1.5889874108236144, -0.5426498848727573, 0.5011120325214004, -0.7517444948429257, 0.028493823762782523, 0.02854923672584782, -1.9593429113352838, 1.9845931234194278, -0.7558075542719448, 0.8298734827966223, -0.23560652672566115, 1.6578554250685131, -0.9763334820803592, 1.5226477828864031, 0.2768256161764863, 0.891783019254991, 0.40892348209705315, 0.9001034755451008, -0.3197994322786932, -0.03294865030857477, 0.296044672372106, 0.3432723261782436, 1.0901163597253134, 0.7047239300778516, 0.8813199972630109, -0.45744344192105174, 0.04157430103289277, 0.8276125056952289, -0.9480788642567572, -0.6044676168417205, 1.611867714416388, 1.2246848807776154, -0.6328198355511625, 0.9464537467313994, 0.36599133674643897, -0.8798817680838723, -1.3230735318416644, -0.6595945535162456, 0.13797127187224512, 0.15451324844661918, -0.17374227573073595, 0.8607055851340712, -1.4650580768799903, 0.656323657390342, -0.4557291434314094, 0.345607076807079, 0.19745473049773005, 1.514847404376252, -0.18607690739128482, -1.8016979248982299, -0.19761125496540985, -0.5909773454319642, 0.9755262457915866, 1.3205693996435137, -0.8337816922682474, -0.5331440794813804, 0.13810379120023636, 0.6908652576755376, 2.4042990640209925, -0.4613939277138382, 0.49764752630670156, -0.35148286196763745, -1.1701644083500602, 0.1348354270164706, -1.9629604731270334, -0.003863839593197497, -0.4354492036023001, -1.3922277145959536, -1.5090989891608224]}, {\"marker\": {\"color\": \"rgba(55, 128, 191, 0.6)\", \"line\": {\"color\": \"rgba(55, 128, 191, 1.0)\", \"width\": 1}}, \"name\": \"B\", \"orientation\": \"v\", \"text\": \"\", \"type\": \"bar\", \"x\": [0, 1, 2, 3, 4, 5, 6, 7, 8, 9, 10, 11, 12, 13, 14, 15, 16, 17, 18, 19, 20, 21, 22, 23, 24, 25, 26, 27, 28, 29, 30, 31, 32, 33, 34, 35, 36, 37, 38, 39, 40, 41, 42, 43, 44, 45, 46, 47, 48, 49, 50, 51, 52, 53, 54, 55, 56, 57, 58, 59, 60, 61, 62, 63, 64, 65, 66, 67, 68, 69, 70, 71, 72, 73, 74, 75, 76, 77, 78, 79, 80, 81, 82, 83, 84, 85, 86, 87, 88, 89, 90, 91, 92, 93, 94, 95, 96, 97, 98, 99], \"y\": [1.6882512260973117, 0.5158710176755467, 0.23873990299003114, -0.3145327392960178, -0.05786817255526092, 0.9910843865872273, -1.0359585321881506, -0.5698709915778961, -0.18398005469406745, 2.207853423864874, -1.5915361144745996, -0.04509144587511076, 1.4524707552409064, 0.009529666735718404, 0.38086626935385665, -1.3655534301942167, -0.6323354798386047, 0.1299661205027946, -1.0802218366789245, -0.4001497721668597, 0.4569183313465229, 0.5725027864331934, -0.786801615614401, -0.4607091302129849, 0.4387832560969114, -0.8681951918586254, -0.17024126947998658, -0.18772649499073882, 0.8301378378358303, -0.6854567252345459, -0.9692801208233021, 1.093008227937934, 0.4055615455099214, -0.4627488465376716, 0.6583239260354653, 0.4433568775285607, -0.6035229622366626, 0.24292340871916762, -1.5042957825197651, -0.3000603027015591, 0.34142667945691635, -0.32482252628960095, -0.4433082234932536, 3.9440742696935183, 0.6207740079924924, 0.38968436436994813, -0.6817579363443267, 0.5324818222762935, 1.657366941484701, -2.170981037992793, 1.9267561793656178, 0.24012012482685968, 0.7956723907522188, 1.7024993954432366, -0.7873073675113008, 2.8706607317065327, -0.6560868407201098, -1.0410526481187512, 0.5161361158856086, -0.19460530871301887, 0.6339646401989558, -0.4339578914814445, 0.5359625838619514, -0.35184245858300894, 1.267781690132369, 1.4428270469701054, -2.3783123560981556, 0.4022682155326851, -0.08789270205665065, -0.10123022381383125, -0.9780231207040389, 0.5689741256244726, 0.05688867947033349, -0.8285477988648572, -0.9503655814587794, 0.7191848562066077, -1.8851542589635966, 0.43590135574921746, -1.2959988337617907, -0.5187077191995955, -1.004562271290593, 1.1677495409372405, 0.6273603363579863, -1.3749559508117815, -1.1168796208778597, 0.7718042568586778, -0.34632674300445754, 0.6127372641882435, 0.9711121349827319, -1.078653942896353, 0.24404343023187977, -0.6824417313159293, 0.5528694965383156, 1.4310992595922643, -1.8101215673535866, -0.7755550623471177, 0.4390286964608778, 1.1952452180489437, 1.368550012271986, 2.0617211569183644]}, {\"marker\": {\"color\": \"rgba(50, 171, 96, 0.6)\", \"line\": {\"color\": \"rgba(50, 171, 96, 1.0)\", \"width\": 1}}, \"name\": \"C\", \"orientation\": \"v\", \"text\": \"\", \"type\": \"bar\", \"x\": [0, 1, 2, 3, 4, 5, 6, 7, 8, 9, 10, 11, 12, 13, 14, 15, 16, 17, 18, 19, 20, 21, 22, 23, 24, 25, 26, 27, 28, 29, 30, 31, 32, 33, 34, 35, 36, 37, 38, 39, 40, 41, 42, 43, 44, 45, 46, 47, 48, 49, 50, 51, 52, 53, 54, 55, 56, 57, 58, 59, 60, 61, 62, 63, 64, 65, 66, 67, 68, 69, 70, 71, 72, 73, 74, 75, 76, 77, 78, 79, 80, 81, 82, 83, 84, 85, 86, 87, 88, 89, 90, 91, 92, 93, 94, 95, 96, 97, 98, 99], \"y\": [-0.8264506896233805, -1.176350899758253, -0.3677318188530756, -1.4720044653787656, -1.1588858045628407, 0.7456953964634894, 0.9566298973293653, -1.20693808448789, 0.6174914037644343, -1.1909576331256633, 0.2701066171754702, 0.5994816206301261, 1.1814159707156198, 0.7832863821980021, 1.240112408998169, 0.34545333408179524, -0.6008125344385378, 0.9289027324451608, 0.2566003424581543, 1.006205400995946, 0.6119900986898285, -0.22549823130571103, 0.3898590248891198, 0.07599263922972696, 0.727470442932236, -0.08176203193937615, -1.3599930411133478, 0.17224613831251542, -0.4727843796394581, -0.8060233755273365, 0.5055975265481226, -1.8753494400479889, 1.2941730790456025, 1.5744102948673322, 0.7387730258347036, 0.5860045969300058, -0.723619796547478, -1.0417591768263024, -0.470771560915133, -1.4929970412565141, -0.32707911189483263, 0.7282251781063928, -1.377605043831834, 0.16343450498583165, 1.356744370844419, -0.3312365717940639, -0.8250322594337683, 0.07941500296377305, -1.162689769676185, 0.05374250312152779, 0.7604301001397885, 0.43896084929677054, -0.8820998638015842, 0.5499624730620242, 0.9140106310131192, 1.055917905098612, -0.7414955604032043, -0.5463212937101766, 0.4955784597360281, -0.02354492683148001, -0.3727337336161601, -0.9852186141474171, -0.7678438413812869, -1.2236613002725114, 0.15284364016870355, 2.0468554192192165, -0.9126705058694156, 1.4446749566113084, -0.7116661162542393, -1.1444509425362968, 0.9164979198882102, 1.2037589326356088, 0.12920025623173145, 1.6007240787584662, 1.5529956912491711, -0.4575394938769466, -1.6977306145222575, -1.1204170929687185, 0.2935858280530774, 1.462026892082136, 0.9286319801513351, 0.008154553256302497, -1.2129074476653168, 0.4178486727721547, -1.3006006388635418, 0.5936363842794125, 1.8163543415605183, -0.024725382636794385, -2.2280124441295257, 1.0747791114191572, -1.4637658946247378, 1.7400313929211857, -0.17307079517082638, 0.42330521334767957, 0.2374962757042385, -0.450632373356384, -0.45411844823390657, 1.5364162778575143, 0.42605356124318955, 0.5527684042994255]}, {\"marker\": {\"color\": \"rgba(128, 0, 128, 0.6)\", \"line\": {\"color\": \"rgba(128, 0, 128, 1.0)\", \"width\": 1}}, \"name\": \"D\", \"orientation\": \"v\", \"text\": \"\", \"type\": \"bar\", \"x\": [0, 1, 2, 3, 4, 5, 6, 7, 8, 9, 10, 11, 12, 13, 14, 15, 16, 17, 18, 19, 20, 21, 22, 23, 24, 25, 26, 27, 28, 29, 30, 31, 32, 33, 34, 35, 36, 37, 38, 39, 40, 41, 42, 43, 44, 45, 46, 47, 48, 49, 50, 51, 52, 53, 54, 55, 56, 57, 58, 59, 60, 61, 62, 63, 64, 65, 66, 67, 68, 69, 70, 71, 72, 73, 74, 75, 76, 77, 78, 79, 80, 81, 82, 83, 84, 85, 86, 87, 88, 89, 90, 91, 92, 93, 94, 95, 96, 97, 98, 99], \"y\": [-0.02626126961239427, -0.436014881361742, -0.3746321667542666, -0.43216934958036024, -1.9974703484738867, 1.2203531692837355, 1.1969354738635678, 0.9056019367494507, 2.5720971475191883, 0.43861258089649235, 1.3317194608358982, 0.5804740490811431, 0.3077945483687238, 1.6207599520155838, -0.5857332939936494, -0.6689876810133815, 1.1206919741925525, -0.3336276964064453, 1.1609344777097421, -0.26900488931924105, 1.1712042963975622, 0.0933795353367121, 0.41583992888089016, -0.6347147363346544, 0.7633242571824619, -0.10102603169494762, -1.2986620354909197, 1.0827016298883472, -0.32468579666207514, -0.8859287637785489, -1.030107173254222, 1.4737090699923479, -0.17920520077362406, 0.06458867694275676, -1.279871590415289, -0.37469460192309745, 0.3613118925257818, -0.10553188426851909, 2.156530435307609, -0.4025178060597154, -1.238293891673967, 0.6763307466900181, 0.09492200812990038, -1.6930694486223723, 0.754338631432365, 0.723715681107002, 1.282071986265144, 0.6982381931950387, 0.9096661806440242, -0.5083574342153262, 0.49113495132250656, -1.168635345365327, 0.12912079274750446, -1.4147372785994312, 0.3180186838907405, 1.8974476996167633, -0.6349760896472313, 1.6882633339919006, 1.1727983010460261, 0.34320252803706036, -0.08701180281681982, 0.19676805834946226, 1.7546858039185933, 1.7829563655292369, -0.06744100113006737, 0.0010950975845474401, -1.3724589104158895, -1.2639376633178299, 0.0857561528368096, -0.1627168101147695, 0.046807728793893964, -1.0676971513463354, 0.3227992372582722, -0.05211477076076739, -0.5155955172641732, -0.8002845641305231, -0.48676442189545316, -1.5507128205030964, -0.07761419707755418, 0.6811570782522675, -0.09173325205891147, 0.36275087610712453, -1.5206926005171164, -1.1961642675468969, 0.5941657842161046, -0.1930731683743713, -0.9557696029219265, -2.4737323835476728, 1.8101360144490268, -2.408067857025599, 1.2513781659366312, 0.6872632233258075, 1.1005577735064482, -0.8285815734428673, -0.3490644553758048, -0.9381096106464754, 0.20987495748261986, -0.17402357693801282, 0.9641646450245878, 0.16431066827431753]}],                        {\"legend\": {\"bgcolor\": \"#F5F6F9\", \"font\": {\"color\": \"#4D5663\"}}, \"paper_bgcolor\": \"#F5F6F9\", \"plot_bgcolor\": \"#F5F6F9\", \"template\": {\"data\": {\"bar\": [{\"error_x\": {\"color\": \"#2a3f5f\"}, \"error_y\": {\"color\": \"#2a3f5f\"}, \"marker\": {\"line\": {\"color\": \"#E5ECF6\", \"width\": 0.5}}, \"type\": \"bar\"}], \"barpolar\": [{\"marker\": {\"line\": {\"color\": \"#E5ECF6\", \"width\": 0.5}}, \"type\": \"barpolar\"}], \"carpet\": [{\"aaxis\": {\"endlinecolor\": \"#2a3f5f\", \"gridcolor\": \"white\", \"linecolor\": \"white\", \"minorgridcolor\": \"white\", \"startlinecolor\": \"#2a3f5f\"}, \"baxis\": {\"endlinecolor\": \"#2a3f5f\", \"gridcolor\": \"white\", \"linecolor\": \"white\", \"minorgridcolor\": \"white\", \"startlinecolor\": \"#2a3f5f\"}, \"type\": \"carpet\"}], \"choropleth\": [{\"colorbar\": {\"outlinewidth\": 0, \"ticks\": \"\"}, \"type\": \"choropleth\"}], \"contour\": [{\"colorbar\": {\"outlinewidth\": 0, \"ticks\": \"\"}, \"colorscale\": [[0.0, \"#0d0887\"], [0.1111111111111111, \"#46039f\"], [0.2222222222222222, \"#7201a8\"], [0.3333333333333333, \"#9c179e\"], [0.4444444444444444, \"#bd3786\"], [0.5555555555555556, \"#d8576b\"], [0.6666666666666666, \"#ed7953\"], [0.7777777777777778, \"#fb9f3a\"], [0.8888888888888888, \"#fdca26\"], [1.0, \"#f0f921\"]], \"type\": \"contour\"}], \"contourcarpet\": [{\"colorbar\": {\"outlinewidth\": 0, \"ticks\": \"\"}, \"type\": \"contourcarpet\"}], \"heatmap\": [{\"colorbar\": {\"outlinewidth\": 0, \"ticks\": \"\"}, \"colorscale\": [[0.0, \"#0d0887\"], [0.1111111111111111, \"#46039f\"], [0.2222222222222222, \"#7201a8\"], [0.3333333333333333, \"#9c179e\"], [0.4444444444444444, \"#bd3786\"], [0.5555555555555556, \"#d8576b\"], [0.6666666666666666, \"#ed7953\"], [0.7777777777777778, \"#fb9f3a\"], [0.8888888888888888, \"#fdca26\"], [1.0, \"#f0f921\"]], \"type\": \"heatmap\"}], \"heatmapgl\": [{\"colorbar\": {\"outlinewidth\": 0, \"ticks\": \"\"}, \"colorscale\": [[0.0, \"#0d0887\"], [0.1111111111111111, \"#46039f\"], [0.2222222222222222, \"#7201a8\"], [0.3333333333333333, \"#9c179e\"], [0.4444444444444444, \"#bd3786\"], [0.5555555555555556, \"#d8576b\"], [0.6666666666666666, \"#ed7953\"], [0.7777777777777778, \"#fb9f3a\"], [0.8888888888888888, \"#fdca26\"], [1.0, \"#f0f921\"]], \"type\": \"heatmapgl\"}], \"histogram\": [{\"marker\": {\"colorbar\": {\"outlinewidth\": 0, \"ticks\": \"\"}}, \"type\": \"histogram\"}], \"histogram2d\": [{\"colorbar\": {\"outlinewidth\": 0, \"ticks\": \"\"}, \"colorscale\": [[0.0, \"#0d0887\"], [0.1111111111111111, \"#46039f\"], [0.2222222222222222, \"#7201a8\"], [0.3333333333333333, \"#9c179e\"], [0.4444444444444444, \"#bd3786\"], [0.5555555555555556, \"#d8576b\"], [0.6666666666666666, \"#ed7953\"], [0.7777777777777778, \"#fb9f3a\"], [0.8888888888888888, \"#fdca26\"], [1.0, \"#f0f921\"]], \"type\": \"histogram2d\"}], \"histogram2dcontour\": [{\"colorbar\": {\"outlinewidth\": 0, \"ticks\": \"\"}, \"colorscale\": [[0.0, \"#0d0887\"], [0.1111111111111111, \"#46039f\"], [0.2222222222222222, \"#7201a8\"], [0.3333333333333333, \"#9c179e\"], [0.4444444444444444, \"#bd3786\"], [0.5555555555555556, \"#d8576b\"], [0.6666666666666666, \"#ed7953\"], [0.7777777777777778, \"#fb9f3a\"], [0.8888888888888888, \"#fdca26\"], [1.0, \"#f0f921\"]], \"type\": \"histogram2dcontour\"}], \"mesh3d\": [{\"colorbar\": {\"outlinewidth\": 0, \"ticks\": \"\"}, \"type\": \"mesh3d\"}], \"parcoords\": [{\"line\": {\"colorbar\": {\"outlinewidth\": 0, \"ticks\": \"\"}}, \"type\": \"parcoords\"}], \"pie\": [{\"automargin\": true, \"type\": \"pie\"}], \"scatter\": [{\"marker\": {\"colorbar\": {\"outlinewidth\": 0, \"ticks\": \"\"}}, \"type\": \"scatter\"}], \"scatter3d\": [{\"line\": {\"colorbar\": {\"outlinewidth\": 0, \"ticks\": \"\"}}, \"marker\": {\"colorbar\": {\"outlinewidth\": 0, \"ticks\": \"\"}}, \"type\": \"scatter3d\"}], \"scattercarpet\": [{\"marker\": {\"colorbar\": {\"outlinewidth\": 0, \"ticks\": \"\"}}, \"type\": \"scattercarpet\"}], \"scattergeo\": [{\"marker\": {\"colorbar\": {\"outlinewidth\": 0, \"ticks\": \"\"}}, \"type\": \"scattergeo\"}], \"scattergl\": [{\"marker\": {\"colorbar\": {\"outlinewidth\": 0, \"ticks\": \"\"}}, \"type\": \"scattergl\"}], \"scattermapbox\": [{\"marker\": {\"colorbar\": {\"outlinewidth\": 0, \"ticks\": \"\"}}, \"type\": \"scattermapbox\"}], \"scatterpolar\": [{\"marker\": {\"colorbar\": {\"outlinewidth\": 0, \"ticks\": \"\"}}, \"type\": \"scatterpolar\"}], \"scatterpolargl\": [{\"marker\": {\"colorbar\": {\"outlinewidth\": 0, \"ticks\": \"\"}}, \"type\": \"scatterpolargl\"}], \"scatterternary\": [{\"marker\": {\"colorbar\": {\"outlinewidth\": 0, \"ticks\": \"\"}}, \"type\": \"scatterternary\"}], \"surface\": [{\"colorbar\": {\"outlinewidth\": 0, \"ticks\": \"\"}, \"colorscale\": [[0.0, \"#0d0887\"], [0.1111111111111111, \"#46039f\"], [0.2222222222222222, \"#7201a8\"], [0.3333333333333333, \"#9c179e\"], [0.4444444444444444, \"#bd3786\"], [0.5555555555555556, \"#d8576b\"], [0.6666666666666666, \"#ed7953\"], [0.7777777777777778, \"#fb9f3a\"], [0.8888888888888888, \"#fdca26\"], [1.0, \"#f0f921\"]], \"type\": \"surface\"}], \"table\": [{\"cells\": {\"fill\": {\"color\": \"#EBF0F8\"}, \"line\": {\"color\": \"white\"}}, \"header\": {\"fill\": {\"color\": \"#C8D4E3\"}, \"line\": {\"color\": \"white\"}}, \"type\": \"table\"}]}, \"layout\": {\"annotationdefaults\": {\"arrowcolor\": \"#2a3f5f\", \"arrowhead\": 0, \"arrowwidth\": 1}, \"coloraxis\": {\"colorbar\": {\"outlinewidth\": 0, \"ticks\": \"\"}}, \"colorscale\": {\"diverging\": [[0, \"#8e0152\"], [0.1, \"#c51b7d\"], [0.2, \"#de77ae\"], [0.3, \"#f1b6da\"], [0.4, \"#fde0ef\"], [0.5, \"#f7f7f7\"], [0.6, \"#e6f5d0\"], [0.7, \"#b8e186\"], [0.8, \"#7fbc41\"], [0.9, \"#4d9221\"], [1, \"#276419\"]], \"sequential\": [[0.0, \"#0d0887\"], [0.1111111111111111, \"#46039f\"], [0.2222222222222222, \"#7201a8\"], [0.3333333333333333, \"#9c179e\"], [0.4444444444444444, \"#bd3786\"], [0.5555555555555556, \"#d8576b\"], [0.6666666666666666, \"#ed7953\"], [0.7777777777777778, \"#fb9f3a\"], [0.8888888888888888, \"#fdca26\"], [1.0, \"#f0f921\"]], \"sequentialminus\": [[0.0, \"#0d0887\"], [0.1111111111111111, \"#46039f\"], [0.2222222222222222, \"#7201a8\"], [0.3333333333333333, \"#9c179e\"], [0.4444444444444444, \"#bd3786\"], [0.5555555555555556, \"#d8576b\"], [0.6666666666666666, \"#ed7953\"], [0.7777777777777778, \"#fb9f3a\"], [0.8888888888888888, \"#fdca26\"], [1.0, \"#f0f921\"]]}, \"colorway\": [\"#636efa\", \"#EF553B\", \"#00cc96\", \"#ab63fa\", \"#FFA15A\", \"#19d3f3\", \"#FF6692\", \"#B6E880\", \"#FF97FF\", \"#FECB52\"], \"font\": {\"color\": \"#2a3f5f\"}, \"geo\": {\"bgcolor\": \"white\", \"lakecolor\": \"white\", \"landcolor\": \"#E5ECF6\", \"showlakes\": true, \"showland\": true, \"subunitcolor\": \"white\"}, \"hoverlabel\": {\"align\": \"left\"}, \"hovermode\": \"closest\", \"mapbox\": {\"style\": \"light\"}, \"paper_bgcolor\": \"white\", \"plot_bgcolor\": \"#E5ECF6\", \"polar\": {\"angularaxis\": {\"gridcolor\": \"white\", \"linecolor\": \"white\", \"ticks\": \"\"}, \"bgcolor\": \"#E5ECF6\", \"radialaxis\": {\"gridcolor\": \"white\", \"linecolor\": \"white\", \"ticks\": \"\"}}, \"scene\": {\"xaxis\": {\"backgroundcolor\": \"#E5ECF6\", \"gridcolor\": \"white\", \"gridwidth\": 2, \"linecolor\": \"white\", \"showbackground\": true, \"ticks\": \"\", \"zerolinecolor\": \"white\"}, \"yaxis\": {\"backgroundcolor\": \"#E5ECF6\", \"gridcolor\": \"white\", \"gridwidth\": 2, \"linecolor\": \"white\", \"showbackground\": true, \"ticks\": \"\", \"zerolinecolor\": \"white\"}, \"zaxis\": {\"backgroundcolor\": \"#E5ECF6\", \"gridcolor\": \"white\", \"gridwidth\": 2, \"linecolor\": \"white\", \"showbackground\": true, \"ticks\": \"\", \"zerolinecolor\": \"white\"}}, \"shapedefaults\": {\"line\": {\"color\": \"#2a3f5f\"}}, \"ternary\": {\"aaxis\": {\"gridcolor\": \"white\", \"linecolor\": \"white\", \"ticks\": \"\"}, \"baxis\": {\"gridcolor\": \"white\", \"linecolor\": \"white\", \"ticks\": \"\"}, \"bgcolor\": \"#E5ECF6\", \"caxis\": {\"gridcolor\": \"white\", \"linecolor\": \"white\", \"ticks\": \"\"}}, \"title\": {\"x\": 0.05}, \"xaxis\": {\"automargin\": true, \"gridcolor\": \"white\", \"linecolor\": \"white\", \"ticks\": \"\", \"title\": {\"standoff\": 15}, \"zerolinecolor\": \"white\", \"zerolinewidth\": 2}, \"yaxis\": {\"automargin\": true, \"gridcolor\": \"white\", \"linecolor\": \"white\", \"ticks\": \"\", \"title\": {\"standoff\": 15}, \"zerolinecolor\": \"white\", \"zerolinewidth\": 2}}}, \"title\": {\"font\": {\"color\": \"#4D5663\"}}, \"xaxis\": {\"gridcolor\": \"#E1E5ED\", \"showgrid\": true, \"tickfont\": {\"color\": \"#4D5663\"}, \"title\": {\"font\": {\"color\": \"#4D5663\"}, \"text\": \"\"}, \"zerolinecolor\": \"#E1E5ED\"}, \"yaxis\": {\"gridcolor\": \"#E1E5ED\", \"showgrid\": true, \"tickfont\": {\"color\": \"#4D5663\"}, \"title\": {\"font\": {\"color\": \"#4D5663\"}, \"text\": \"\"}, \"zerolinecolor\": \"#E1E5ED\"}},                        {\"showLink\": true, \"linkText\": \"Export to plot.ly\", \"plotlyServerURL\": \"https://plot.ly\", \"responsive\": true}                    ).then(function(){\n                            \nvar gd = document.getElementById('adf67ebb-1be0-4b55-9fde-3627e279361c');\nvar x = new MutationObserver(function (mutations, observer) {{\n        var display = window.getComputedStyle(gd).display;\n        if (!display || display === 'none') {{\n            console.log([gd, 'removed!']);\n            Plotly.purge(gd);\n            observer.disconnect();\n        }}\n}});\n\n// Listen for the removal of the full notebook cells\nvar notebookContainer = gd.closest('#notebook-container');\nif (notebookContainer) {{\n    x.observe(notebookContainer, {childList: true});\n}}\n\n// Listen for the clearing of the current output cell\nvar outputEl = gd.closest('.output');\nif (outputEl) {{\n    x.observe(outputEl, {childList: true});\n}}\n\n                        })                };                });            </script>        </div>"
     },
     "metadata": {}
    }
   ],
   "source": [
    "# not helpful as the data doesn't initially work well as a bar plot\n",
    "df.iplot(kind='bar')"
   ]
  },
  {
   "cell_type": "code",
   "execution_count": 11,
   "metadata": {},
   "outputs": [
    {
     "output_type": "display_data",
     "data": {
      "application/vnd.plotly.v1+json": {
       "config": {
        "linkText": "Export to plot.ly",
        "plotlyServerURL": "https://plot.ly",
        "showLink": true
       },
       "data": [
        {
         "marker": {
          "color": "rgba(255, 153, 51, 0.6)",
          "line": {
           "color": "rgba(255, 153, 51, 1.0)",
           "width": 1
          }
         },
         "name": "None",
         "orientation": "v",
         "text": "",
         "type": "bar",
         "x": [
          "A",
          "B",
          "C",
          "D"
         ],
         "y": [
          100,
          100,
          100,
          100
         ]
        }
       ],
       "layout": {
        "legend": {
         "bgcolor": "#F5F6F9",
         "font": {
          "color": "#4D5663"
         }
        },
        "paper_bgcolor": "#F5F6F9",
        "plot_bgcolor": "#F5F6F9",
        "template": {
         "data": {
          "bar": [
           {
            "error_x": {
             "color": "#2a3f5f"
            },
            "error_y": {
             "color": "#2a3f5f"
            },
            "marker": {
             "line": {
              "color": "#E5ECF6",
              "width": 0.5
             }
            },
            "type": "bar"
           }
          ],
          "barpolar": [
           {
            "marker": {
             "line": {
              "color": "#E5ECF6",
              "width": 0.5
             }
            },
            "type": "barpolar"
           }
          ],
          "carpet": [
           {
            "aaxis": {
             "endlinecolor": "#2a3f5f",
             "gridcolor": "white",
             "linecolor": "white",
             "minorgridcolor": "white",
             "startlinecolor": "#2a3f5f"
            },
            "baxis": {
             "endlinecolor": "#2a3f5f",
             "gridcolor": "white",
             "linecolor": "white",
             "minorgridcolor": "white",
             "startlinecolor": "#2a3f5f"
            },
            "type": "carpet"
           }
          ],
          "choropleth": [
           {
            "colorbar": {
             "outlinewidth": 0,
             "ticks": ""
            },
            "type": "choropleth"
           }
          ],
          "contour": [
           {
            "colorbar": {
             "outlinewidth": 0,
             "ticks": ""
            },
            "colorscale": [
             [
              0,
              "#0d0887"
             ],
             [
              0.1111111111111111,
              "#46039f"
             ],
             [
              0.2222222222222222,
              "#7201a8"
             ],
             [
              0.3333333333333333,
              "#9c179e"
             ],
             [
              0.4444444444444444,
              "#bd3786"
             ],
             [
              0.5555555555555556,
              "#d8576b"
             ],
             [
              0.6666666666666666,
              "#ed7953"
             ],
             [
              0.7777777777777778,
              "#fb9f3a"
             ],
             [
              0.8888888888888888,
              "#fdca26"
             ],
             [
              1,
              "#f0f921"
             ]
            ],
            "type": "contour"
           }
          ],
          "contourcarpet": [
           {
            "colorbar": {
             "outlinewidth": 0,
             "ticks": ""
            },
            "type": "contourcarpet"
           }
          ],
          "heatmap": [
           {
            "colorbar": {
             "outlinewidth": 0,
             "ticks": ""
            },
            "colorscale": [
             [
              0,
              "#0d0887"
             ],
             [
              0.1111111111111111,
              "#46039f"
             ],
             [
              0.2222222222222222,
              "#7201a8"
             ],
             [
              0.3333333333333333,
              "#9c179e"
             ],
             [
              0.4444444444444444,
              "#bd3786"
             ],
             [
              0.5555555555555556,
              "#d8576b"
             ],
             [
              0.6666666666666666,
              "#ed7953"
             ],
             [
              0.7777777777777778,
              "#fb9f3a"
             ],
             [
              0.8888888888888888,
              "#fdca26"
             ],
             [
              1,
              "#f0f921"
             ]
            ],
            "type": "heatmap"
           }
          ],
          "heatmapgl": [
           {
            "colorbar": {
             "outlinewidth": 0,
             "ticks": ""
            },
            "colorscale": [
             [
              0,
              "#0d0887"
             ],
             [
              0.1111111111111111,
              "#46039f"
             ],
             [
              0.2222222222222222,
              "#7201a8"
             ],
             [
              0.3333333333333333,
              "#9c179e"
             ],
             [
              0.4444444444444444,
              "#bd3786"
             ],
             [
              0.5555555555555556,
              "#d8576b"
             ],
             [
              0.6666666666666666,
              "#ed7953"
             ],
             [
              0.7777777777777778,
              "#fb9f3a"
             ],
             [
              0.8888888888888888,
              "#fdca26"
             ],
             [
              1,
              "#f0f921"
             ]
            ],
            "type": "heatmapgl"
           }
          ],
          "histogram": [
           {
            "marker": {
             "colorbar": {
              "outlinewidth": 0,
              "ticks": ""
             }
            },
            "type": "histogram"
           }
          ],
          "histogram2d": [
           {
            "colorbar": {
             "outlinewidth": 0,
             "ticks": ""
            },
            "colorscale": [
             [
              0,
              "#0d0887"
             ],
             [
              0.1111111111111111,
              "#46039f"
             ],
             [
              0.2222222222222222,
              "#7201a8"
             ],
             [
              0.3333333333333333,
              "#9c179e"
             ],
             [
              0.4444444444444444,
              "#bd3786"
             ],
             [
              0.5555555555555556,
              "#d8576b"
             ],
             [
              0.6666666666666666,
              "#ed7953"
             ],
             [
              0.7777777777777778,
              "#fb9f3a"
             ],
             [
              0.8888888888888888,
              "#fdca26"
             ],
             [
              1,
              "#f0f921"
             ]
            ],
            "type": "histogram2d"
           }
          ],
          "histogram2dcontour": [
           {
            "colorbar": {
             "outlinewidth": 0,
             "ticks": ""
            },
            "colorscale": [
             [
              0,
              "#0d0887"
             ],
             [
              0.1111111111111111,
              "#46039f"
             ],
             [
              0.2222222222222222,
              "#7201a8"
             ],
             [
              0.3333333333333333,
              "#9c179e"
             ],
             [
              0.4444444444444444,
              "#bd3786"
             ],
             [
              0.5555555555555556,
              "#d8576b"
             ],
             [
              0.6666666666666666,
              "#ed7953"
             ],
             [
              0.7777777777777778,
              "#fb9f3a"
             ],
             [
              0.8888888888888888,
              "#fdca26"
             ],
             [
              1,
              "#f0f921"
             ]
            ],
            "type": "histogram2dcontour"
           }
          ],
          "mesh3d": [
           {
            "colorbar": {
             "outlinewidth": 0,
             "ticks": ""
            },
            "type": "mesh3d"
           }
          ],
          "parcoords": [
           {
            "line": {
             "colorbar": {
              "outlinewidth": 0,
              "ticks": ""
             }
            },
            "type": "parcoords"
           }
          ],
          "pie": [
           {
            "automargin": true,
            "type": "pie"
           }
          ],
          "scatter": [
           {
            "marker": {
             "colorbar": {
              "outlinewidth": 0,
              "ticks": ""
             }
            },
            "type": "scatter"
           }
          ],
          "scatter3d": [
           {
            "line": {
             "colorbar": {
              "outlinewidth": 0,
              "ticks": ""
             }
            },
            "marker": {
             "colorbar": {
              "outlinewidth": 0,
              "ticks": ""
             }
            },
            "type": "scatter3d"
           }
          ],
          "scattercarpet": [
           {
            "marker": {
             "colorbar": {
              "outlinewidth": 0,
              "ticks": ""
             }
            },
            "type": "scattercarpet"
           }
          ],
          "scattergeo": [
           {
            "marker": {
             "colorbar": {
              "outlinewidth": 0,
              "ticks": ""
             }
            },
            "type": "scattergeo"
           }
          ],
          "scattergl": [
           {
            "marker": {
             "colorbar": {
              "outlinewidth": 0,
              "ticks": ""
             }
            },
            "type": "scattergl"
           }
          ],
          "scattermapbox": [
           {
            "marker": {
             "colorbar": {
              "outlinewidth": 0,
              "ticks": ""
             }
            },
            "type": "scattermapbox"
           }
          ],
          "scatterpolar": [
           {
            "marker": {
             "colorbar": {
              "outlinewidth": 0,
              "ticks": ""
             }
            },
            "type": "scatterpolar"
           }
          ],
          "scatterpolargl": [
           {
            "marker": {
             "colorbar": {
              "outlinewidth": 0,
              "ticks": ""
             }
            },
            "type": "scatterpolargl"
           }
          ],
          "scatterternary": [
           {
            "marker": {
             "colorbar": {
              "outlinewidth": 0,
              "ticks": ""
             }
            },
            "type": "scatterternary"
           }
          ],
          "surface": [
           {
            "colorbar": {
             "outlinewidth": 0,
             "ticks": ""
            },
            "colorscale": [
             [
              0,
              "#0d0887"
             ],
             [
              0.1111111111111111,
              "#46039f"
             ],
             [
              0.2222222222222222,
              "#7201a8"
             ],
             [
              0.3333333333333333,
              "#9c179e"
             ],
             [
              0.4444444444444444,
              "#bd3786"
             ],
             [
              0.5555555555555556,
              "#d8576b"
             ],
             [
              0.6666666666666666,
              "#ed7953"
             ],
             [
              0.7777777777777778,
              "#fb9f3a"
             ],
             [
              0.8888888888888888,
              "#fdca26"
             ],
             [
              1,
              "#f0f921"
             ]
            ],
            "type": "surface"
           }
          ],
          "table": [
           {
            "cells": {
             "fill": {
              "color": "#EBF0F8"
             },
             "line": {
              "color": "white"
             }
            },
            "header": {
             "fill": {
              "color": "#C8D4E3"
             },
             "line": {
              "color": "white"
             }
            },
            "type": "table"
           }
          ]
         },
         "layout": {
          "annotationdefaults": {
           "arrowcolor": "#2a3f5f",
           "arrowhead": 0,
           "arrowwidth": 1
          },
          "coloraxis": {
           "colorbar": {
            "outlinewidth": 0,
            "ticks": ""
           }
          },
          "colorscale": {
           "diverging": [
            [
             0,
             "#8e0152"
            ],
            [
             0.1,
             "#c51b7d"
            ],
            [
             0.2,
             "#de77ae"
            ],
            [
             0.3,
             "#f1b6da"
            ],
            [
             0.4,
             "#fde0ef"
            ],
            [
             0.5,
             "#f7f7f7"
            ],
            [
             0.6,
             "#e6f5d0"
            ],
            [
             0.7,
             "#b8e186"
            ],
            [
             0.8,
             "#7fbc41"
            ],
            [
             0.9,
             "#4d9221"
            ],
            [
             1,
             "#276419"
            ]
           ],
           "sequential": [
            [
             0,
             "#0d0887"
            ],
            [
             0.1111111111111111,
             "#46039f"
            ],
            [
             0.2222222222222222,
             "#7201a8"
            ],
            [
             0.3333333333333333,
             "#9c179e"
            ],
            [
             0.4444444444444444,
             "#bd3786"
            ],
            [
             0.5555555555555556,
             "#d8576b"
            ],
            [
             0.6666666666666666,
             "#ed7953"
            ],
            [
             0.7777777777777778,
             "#fb9f3a"
            ],
            [
             0.8888888888888888,
             "#fdca26"
            ],
            [
             1,
             "#f0f921"
            ]
           ],
           "sequentialminus": [
            [
             0,
             "#0d0887"
            ],
            [
             0.1111111111111111,
             "#46039f"
            ],
            [
             0.2222222222222222,
             "#7201a8"
            ],
            [
             0.3333333333333333,
             "#9c179e"
            ],
            [
             0.4444444444444444,
             "#bd3786"
            ],
            [
             0.5555555555555556,
             "#d8576b"
            ],
            [
             0.6666666666666666,
             "#ed7953"
            ],
            [
             0.7777777777777778,
             "#fb9f3a"
            ],
            [
             0.8888888888888888,
             "#fdca26"
            ],
            [
             1,
             "#f0f921"
            ]
           ]
          },
          "colorway": [
           "#636efa",
           "#EF553B",
           "#00cc96",
           "#ab63fa",
           "#FFA15A",
           "#19d3f3",
           "#FF6692",
           "#B6E880",
           "#FF97FF",
           "#FECB52"
          ],
          "font": {
           "color": "#2a3f5f"
          },
          "geo": {
           "bgcolor": "white",
           "lakecolor": "white",
           "landcolor": "#E5ECF6",
           "showlakes": true,
           "showland": true,
           "subunitcolor": "white"
          },
          "hoverlabel": {
           "align": "left"
          },
          "hovermode": "closest",
          "mapbox": {
           "style": "light"
          },
          "paper_bgcolor": "white",
          "plot_bgcolor": "#E5ECF6",
          "polar": {
           "angularaxis": {
            "gridcolor": "white",
            "linecolor": "white",
            "ticks": ""
           },
           "bgcolor": "#E5ECF6",
           "radialaxis": {
            "gridcolor": "white",
            "linecolor": "white",
            "ticks": ""
           }
          },
          "scene": {
           "xaxis": {
            "backgroundcolor": "#E5ECF6",
            "gridcolor": "white",
            "gridwidth": 2,
            "linecolor": "white",
            "showbackground": true,
            "ticks": "",
            "zerolinecolor": "white"
           },
           "yaxis": {
            "backgroundcolor": "#E5ECF6",
            "gridcolor": "white",
            "gridwidth": 2,
            "linecolor": "white",
            "showbackground": true,
            "ticks": "",
            "zerolinecolor": "white"
           },
           "zaxis": {
            "backgroundcolor": "#E5ECF6",
            "gridcolor": "white",
            "gridwidth": 2,
            "linecolor": "white",
            "showbackground": true,
            "ticks": "",
            "zerolinecolor": "white"
           }
          },
          "shapedefaults": {
           "line": {
            "color": "#2a3f5f"
           }
          },
          "ternary": {
           "aaxis": {
            "gridcolor": "white",
            "linecolor": "white",
            "ticks": ""
           },
           "baxis": {
            "gridcolor": "white",
            "linecolor": "white",
            "ticks": ""
           },
           "bgcolor": "#E5ECF6",
           "caxis": {
            "gridcolor": "white",
            "linecolor": "white",
            "ticks": ""
           }
          },
          "title": {
           "x": 0.05
          },
          "xaxis": {
           "automargin": true,
           "gridcolor": "white",
           "linecolor": "white",
           "ticks": "",
           "title": {
            "standoff": 15
           },
           "zerolinecolor": "white",
           "zerolinewidth": 2
          },
          "yaxis": {
           "automargin": true,
           "gridcolor": "white",
           "linecolor": "white",
           "ticks": "",
           "title": {
            "standoff": 15
           },
           "zerolinecolor": "white",
           "zerolinewidth": 2
          }
         }
        },
        "title": {
         "font": {
          "color": "#4D5663"
         }
        },
        "xaxis": {
         "gridcolor": "#E1E5ED",
         "showgrid": true,
         "tickfont": {
          "color": "#4D5663"
         },
         "title": {
          "font": {
           "color": "#4D5663"
          },
          "text": ""
         },
         "zerolinecolor": "#E1E5ED"
        },
        "yaxis": {
         "gridcolor": "#E1E5ED",
         "showgrid": true,
         "tickfont": {
          "color": "#4D5663"
         },
         "title": {
          "font": {
           "color": "#4D5663"
          },
          "text": ""
         },
         "zerolinecolor": "#E1E5ED"
        }
       }
      },
      "text/html": "<div>                            <div id=\"9fd7b6c1-8851-480c-af73-adf84e121db1\" class=\"plotly-graph-div\" style=\"height:525px; width:100%;\"></div>            <script type=\"text/javascript\">                require([\"plotly\"], function(Plotly) {                    window.PLOTLYENV=window.PLOTLYENV || {};\n                    window.PLOTLYENV.BASE_URL='https://plot.ly';                                    if (document.getElementById(\"9fd7b6c1-8851-480c-af73-adf84e121db1\")) {                    Plotly.newPlot(                        \"9fd7b6c1-8851-480c-af73-adf84e121db1\",                        [{\"marker\": {\"color\": \"rgba(255, 153, 51, 0.6)\", \"line\": {\"color\": \"rgba(255, 153, 51, 1.0)\", \"width\": 1}}, \"name\": \"None\", \"orientation\": \"v\", \"text\": \"\", \"type\": \"bar\", \"x\": [\"A\", \"B\", \"C\", \"D\"], \"y\": [100, 100, 100, 100]}],                        {\"legend\": {\"bgcolor\": \"#F5F6F9\", \"font\": {\"color\": \"#4D5663\"}}, \"paper_bgcolor\": \"#F5F6F9\", \"plot_bgcolor\": \"#F5F6F9\", \"template\": {\"data\": {\"bar\": [{\"error_x\": {\"color\": \"#2a3f5f\"}, \"error_y\": {\"color\": \"#2a3f5f\"}, \"marker\": {\"line\": {\"color\": \"#E5ECF6\", \"width\": 0.5}}, \"type\": \"bar\"}], \"barpolar\": [{\"marker\": {\"line\": {\"color\": \"#E5ECF6\", \"width\": 0.5}}, \"type\": \"barpolar\"}], \"carpet\": [{\"aaxis\": {\"endlinecolor\": \"#2a3f5f\", \"gridcolor\": \"white\", \"linecolor\": \"white\", \"minorgridcolor\": \"white\", \"startlinecolor\": \"#2a3f5f\"}, \"baxis\": {\"endlinecolor\": \"#2a3f5f\", \"gridcolor\": \"white\", \"linecolor\": \"white\", \"minorgridcolor\": \"white\", \"startlinecolor\": \"#2a3f5f\"}, \"type\": \"carpet\"}], \"choropleth\": [{\"colorbar\": {\"outlinewidth\": 0, \"ticks\": \"\"}, \"type\": \"choropleth\"}], \"contour\": [{\"colorbar\": {\"outlinewidth\": 0, \"ticks\": \"\"}, \"colorscale\": [[0.0, \"#0d0887\"], [0.1111111111111111, \"#46039f\"], [0.2222222222222222, \"#7201a8\"], [0.3333333333333333, \"#9c179e\"], [0.4444444444444444, \"#bd3786\"], [0.5555555555555556, \"#d8576b\"], [0.6666666666666666, \"#ed7953\"], [0.7777777777777778, \"#fb9f3a\"], [0.8888888888888888, \"#fdca26\"], [1.0, \"#f0f921\"]], \"type\": \"contour\"}], \"contourcarpet\": [{\"colorbar\": {\"outlinewidth\": 0, \"ticks\": \"\"}, \"type\": \"contourcarpet\"}], \"heatmap\": [{\"colorbar\": {\"outlinewidth\": 0, \"ticks\": \"\"}, \"colorscale\": [[0.0, \"#0d0887\"], [0.1111111111111111, \"#46039f\"], [0.2222222222222222, \"#7201a8\"], [0.3333333333333333, \"#9c179e\"], [0.4444444444444444, \"#bd3786\"], [0.5555555555555556, \"#d8576b\"], [0.6666666666666666, \"#ed7953\"], [0.7777777777777778, \"#fb9f3a\"], [0.8888888888888888, \"#fdca26\"], [1.0, \"#f0f921\"]], \"type\": \"heatmap\"}], \"heatmapgl\": [{\"colorbar\": {\"outlinewidth\": 0, \"ticks\": \"\"}, \"colorscale\": [[0.0, \"#0d0887\"], [0.1111111111111111, \"#46039f\"], [0.2222222222222222, \"#7201a8\"], [0.3333333333333333, \"#9c179e\"], [0.4444444444444444, \"#bd3786\"], [0.5555555555555556, \"#d8576b\"], [0.6666666666666666, \"#ed7953\"], [0.7777777777777778, \"#fb9f3a\"], [0.8888888888888888, \"#fdca26\"], [1.0, \"#f0f921\"]], \"type\": \"heatmapgl\"}], \"histogram\": [{\"marker\": {\"colorbar\": {\"outlinewidth\": 0, \"ticks\": \"\"}}, \"type\": \"histogram\"}], \"histogram2d\": [{\"colorbar\": {\"outlinewidth\": 0, \"ticks\": \"\"}, \"colorscale\": [[0.0, \"#0d0887\"], [0.1111111111111111, \"#46039f\"], [0.2222222222222222, \"#7201a8\"], [0.3333333333333333, \"#9c179e\"], [0.4444444444444444, \"#bd3786\"], [0.5555555555555556, \"#d8576b\"], [0.6666666666666666, \"#ed7953\"], [0.7777777777777778, \"#fb9f3a\"], [0.8888888888888888, \"#fdca26\"], [1.0, \"#f0f921\"]], \"type\": \"histogram2d\"}], \"histogram2dcontour\": [{\"colorbar\": {\"outlinewidth\": 0, \"ticks\": \"\"}, \"colorscale\": [[0.0, \"#0d0887\"], [0.1111111111111111, \"#46039f\"], [0.2222222222222222, \"#7201a8\"], [0.3333333333333333, \"#9c179e\"], [0.4444444444444444, \"#bd3786\"], [0.5555555555555556, \"#d8576b\"], [0.6666666666666666, \"#ed7953\"], [0.7777777777777778, \"#fb9f3a\"], [0.8888888888888888, \"#fdca26\"], [1.0, \"#f0f921\"]], \"type\": \"histogram2dcontour\"}], \"mesh3d\": [{\"colorbar\": {\"outlinewidth\": 0, \"ticks\": \"\"}, \"type\": \"mesh3d\"}], \"parcoords\": [{\"line\": {\"colorbar\": {\"outlinewidth\": 0, \"ticks\": \"\"}}, \"type\": \"parcoords\"}], \"pie\": [{\"automargin\": true, \"type\": \"pie\"}], \"scatter\": [{\"marker\": {\"colorbar\": {\"outlinewidth\": 0, \"ticks\": \"\"}}, \"type\": \"scatter\"}], \"scatter3d\": [{\"line\": {\"colorbar\": {\"outlinewidth\": 0, \"ticks\": \"\"}}, \"marker\": {\"colorbar\": {\"outlinewidth\": 0, \"ticks\": \"\"}}, \"type\": \"scatter3d\"}], \"scattercarpet\": [{\"marker\": {\"colorbar\": {\"outlinewidth\": 0, \"ticks\": \"\"}}, \"type\": \"scattercarpet\"}], \"scattergeo\": [{\"marker\": {\"colorbar\": {\"outlinewidth\": 0, \"ticks\": \"\"}}, \"type\": \"scattergeo\"}], \"scattergl\": [{\"marker\": {\"colorbar\": {\"outlinewidth\": 0, \"ticks\": \"\"}}, \"type\": \"scattergl\"}], \"scattermapbox\": [{\"marker\": {\"colorbar\": {\"outlinewidth\": 0, \"ticks\": \"\"}}, \"type\": \"scattermapbox\"}], \"scatterpolar\": [{\"marker\": {\"colorbar\": {\"outlinewidth\": 0, \"ticks\": \"\"}}, \"type\": \"scatterpolar\"}], \"scatterpolargl\": [{\"marker\": {\"colorbar\": {\"outlinewidth\": 0, \"ticks\": \"\"}}, \"type\": \"scatterpolargl\"}], \"scatterternary\": [{\"marker\": {\"colorbar\": {\"outlinewidth\": 0, \"ticks\": \"\"}}, \"type\": \"scatterternary\"}], \"surface\": [{\"colorbar\": {\"outlinewidth\": 0, \"ticks\": \"\"}, \"colorscale\": [[0.0, \"#0d0887\"], [0.1111111111111111, \"#46039f\"], [0.2222222222222222, \"#7201a8\"], [0.3333333333333333, \"#9c179e\"], [0.4444444444444444, \"#bd3786\"], [0.5555555555555556, \"#d8576b\"], [0.6666666666666666, \"#ed7953\"], [0.7777777777777778, \"#fb9f3a\"], [0.8888888888888888, \"#fdca26\"], [1.0, \"#f0f921\"]], \"type\": \"surface\"}], \"table\": [{\"cells\": {\"fill\": {\"color\": \"#EBF0F8\"}, \"line\": {\"color\": \"white\"}}, \"header\": {\"fill\": {\"color\": \"#C8D4E3\"}, \"line\": {\"color\": \"white\"}}, \"type\": \"table\"}]}, \"layout\": {\"annotationdefaults\": {\"arrowcolor\": \"#2a3f5f\", \"arrowhead\": 0, \"arrowwidth\": 1}, \"coloraxis\": {\"colorbar\": {\"outlinewidth\": 0, \"ticks\": \"\"}}, \"colorscale\": {\"diverging\": [[0, \"#8e0152\"], [0.1, \"#c51b7d\"], [0.2, \"#de77ae\"], [0.3, \"#f1b6da\"], [0.4, \"#fde0ef\"], [0.5, \"#f7f7f7\"], [0.6, \"#e6f5d0\"], [0.7, \"#b8e186\"], [0.8, \"#7fbc41\"], [0.9, \"#4d9221\"], [1, \"#276419\"]], \"sequential\": [[0.0, \"#0d0887\"], [0.1111111111111111, \"#46039f\"], [0.2222222222222222, \"#7201a8\"], [0.3333333333333333, \"#9c179e\"], [0.4444444444444444, \"#bd3786\"], [0.5555555555555556, \"#d8576b\"], [0.6666666666666666, \"#ed7953\"], [0.7777777777777778, \"#fb9f3a\"], [0.8888888888888888, \"#fdca26\"], [1.0, \"#f0f921\"]], \"sequentialminus\": [[0.0, \"#0d0887\"], [0.1111111111111111, \"#46039f\"], [0.2222222222222222, \"#7201a8\"], [0.3333333333333333, \"#9c179e\"], [0.4444444444444444, \"#bd3786\"], [0.5555555555555556, \"#d8576b\"], [0.6666666666666666, \"#ed7953\"], [0.7777777777777778, \"#fb9f3a\"], [0.8888888888888888, \"#fdca26\"], [1.0, \"#f0f921\"]]}, \"colorway\": [\"#636efa\", \"#EF553B\", \"#00cc96\", \"#ab63fa\", \"#FFA15A\", \"#19d3f3\", \"#FF6692\", \"#B6E880\", \"#FF97FF\", \"#FECB52\"], \"font\": {\"color\": \"#2a3f5f\"}, \"geo\": {\"bgcolor\": \"white\", \"lakecolor\": \"white\", \"landcolor\": \"#E5ECF6\", \"showlakes\": true, \"showland\": true, \"subunitcolor\": \"white\"}, \"hoverlabel\": {\"align\": \"left\"}, \"hovermode\": \"closest\", \"mapbox\": {\"style\": \"light\"}, \"paper_bgcolor\": \"white\", \"plot_bgcolor\": \"#E5ECF6\", \"polar\": {\"angularaxis\": {\"gridcolor\": \"white\", \"linecolor\": \"white\", \"ticks\": \"\"}, \"bgcolor\": \"#E5ECF6\", \"radialaxis\": {\"gridcolor\": \"white\", \"linecolor\": \"white\", \"ticks\": \"\"}}, \"scene\": {\"xaxis\": {\"backgroundcolor\": \"#E5ECF6\", \"gridcolor\": \"white\", \"gridwidth\": 2, \"linecolor\": \"white\", \"showbackground\": true, \"ticks\": \"\", \"zerolinecolor\": \"white\"}, \"yaxis\": {\"backgroundcolor\": \"#E5ECF6\", \"gridcolor\": \"white\", \"gridwidth\": 2, \"linecolor\": \"white\", \"showbackground\": true, \"ticks\": \"\", \"zerolinecolor\": \"white\"}, \"zaxis\": {\"backgroundcolor\": \"#E5ECF6\", \"gridcolor\": \"white\", \"gridwidth\": 2, \"linecolor\": \"white\", \"showbackground\": true, \"ticks\": \"\", \"zerolinecolor\": \"white\"}}, \"shapedefaults\": {\"line\": {\"color\": \"#2a3f5f\"}}, \"ternary\": {\"aaxis\": {\"gridcolor\": \"white\", \"linecolor\": \"white\", \"ticks\": \"\"}, \"baxis\": {\"gridcolor\": \"white\", \"linecolor\": \"white\", \"ticks\": \"\"}, \"bgcolor\": \"#E5ECF6\", \"caxis\": {\"gridcolor\": \"white\", \"linecolor\": \"white\", \"ticks\": \"\"}}, \"title\": {\"x\": 0.05}, \"xaxis\": {\"automargin\": true, \"gridcolor\": \"white\", \"linecolor\": \"white\", \"ticks\": \"\", \"title\": {\"standoff\": 15}, \"zerolinecolor\": \"white\", \"zerolinewidth\": 2}, \"yaxis\": {\"automargin\": true, \"gridcolor\": \"white\", \"linecolor\": \"white\", \"ticks\": \"\", \"title\": {\"standoff\": 15}, \"zerolinecolor\": \"white\", \"zerolinewidth\": 2}}}, \"title\": {\"font\": {\"color\": \"#4D5663\"}}, \"xaxis\": {\"gridcolor\": \"#E1E5ED\", \"showgrid\": true, \"tickfont\": {\"color\": \"#4D5663\"}, \"title\": {\"font\": {\"color\": \"#4D5663\"}, \"text\": \"\"}, \"zerolinecolor\": \"#E1E5ED\"}, \"yaxis\": {\"gridcolor\": \"#E1E5ED\", \"showgrid\": true, \"tickfont\": {\"color\": \"#4D5663\"}, \"title\": {\"font\": {\"color\": \"#4D5663\"}, \"text\": \"\"}, \"zerolinecolor\": \"#E1E5ED\"}},                        {\"showLink\": true, \"linkText\": \"Export to plot.ly\", \"plotlyServerURL\": \"https://plot.ly\", \"responsive\": true}                    ).then(function(){\n                            \nvar gd = document.getElementById('9fd7b6c1-8851-480c-af73-adf84e121db1');\nvar x = new MutationObserver(function (mutations, observer) {{\n        var display = window.getComputedStyle(gd).display;\n        if (!display || display === 'none') {{\n            console.log([gd, 'removed!']);\n            Plotly.purge(gd);\n            observer.disconnect();\n        }}\n}});\n\n// Listen for the removal of the full notebook cells\nvar notebookContainer = gd.closest('#notebook-container');\nif (notebookContainer) {{\n    x.observe(notebookContainer, {childList: true});\n}}\n\n// Listen for the clearing of the current output cell\nvar outputEl = gd.closest('.output');\nif (outputEl) {{\n    x.observe(outputEl, {childList: true});\n}}\n\n                        })                };                });            </script>        </div>"
     },
     "metadata": {}
    }
   ],
   "source": [
    "# so we can use aggregate functions\n",
    "df.count().iplot(kind='bar')"
   ]
  },
  {
   "cell_type": "code",
   "execution_count": 15,
   "metadata": {},
   "outputs": [
    {
     "output_type": "display_data",
     "data": {
      "application/vnd.plotly.v1+json": {
       "config": {
        "linkText": "Export to plot.ly",
        "plotlyServerURL": "https://plot.ly",
        "showLink": true
       },
       "data": [
        {
         "marker": {
          "color": "rgba(255, 153, 51, 0.6)",
          "line": {
           "color": "rgba(255, 153, 51, 1.0)",
           "width": 1
          }
         },
         "name": "None",
         "orientation": "v",
         "text": "",
         "type": "bar",
         "x": [
          "A",
          "B",
          "C",
          "D"
         ],
         "y": [
          1.231650916236147,
          7.225287251063394,
          3.2934000497624907,
          6.202183177468722
         ]
        }
       ],
       "layout": {
        "legend": {
         "bgcolor": "#F5F6F9",
         "font": {
          "color": "#4D5663"
         }
        },
        "paper_bgcolor": "#F5F6F9",
        "plot_bgcolor": "#F5F6F9",
        "template": {
         "data": {
          "bar": [
           {
            "error_x": {
             "color": "#2a3f5f"
            },
            "error_y": {
             "color": "#2a3f5f"
            },
            "marker": {
             "line": {
              "color": "#E5ECF6",
              "width": 0.5
             }
            },
            "type": "bar"
           }
          ],
          "barpolar": [
           {
            "marker": {
             "line": {
              "color": "#E5ECF6",
              "width": 0.5
             }
            },
            "type": "barpolar"
           }
          ],
          "carpet": [
           {
            "aaxis": {
             "endlinecolor": "#2a3f5f",
             "gridcolor": "white",
             "linecolor": "white",
             "minorgridcolor": "white",
             "startlinecolor": "#2a3f5f"
            },
            "baxis": {
             "endlinecolor": "#2a3f5f",
             "gridcolor": "white",
             "linecolor": "white",
             "minorgridcolor": "white",
             "startlinecolor": "#2a3f5f"
            },
            "type": "carpet"
           }
          ],
          "choropleth": [
           {
            "colorbar": {
             "outlinewidth": 0,
             "ticks": ""
            },
            "type": "choropleth"
           }
          ],
          "contour": [
           {
            "colorbar": {
             "outlinewidth": 0,
             "ticks": ""
            },
            "colorscale": [
             [
              0,
              "#0d0887"
             ],
             [
              0.1111111111111111,
              "#46039f"
             ],
             [
              0.2222222222222222,
              "#7201a8"
             ],
             [
              0.3333333333333333,
              "#9c179e"
             ],
             [
              0.4444444444444444,
              "#bd3786"
             ],
             [
              0.5555555555555556,
              "#d8576b"
             ],
             [
              0.6666666666666666,
              "#ed7953"
             ],
             [
              0.7777777777777778,
              "#fb9f3a"
             ],
             [
              0.8888888888888888,
              "#fdca26"
             ],
             [
              1,
              "#f0f921"
             ]
            ],
            "type": "contour"
           }
          ],
          "contourcarpet": [
           {
            "colorbar": {
             "outlinewidth": 0,
             "ticks": ""
            },
            "type": "contourcarpet"
           }
          ],
          "heatmap": [
           {
            "colorbar": {
             "outlinewidth": 0,
             "ticks": ""
            },
            "colorscale": [
             [
              0,
              "#0d0887"
             ],
             [
              0.1111111111111111,
              "#46039f"
             ],
             [
              0.2222222222222222,
              "#7201a8"
             ],
             [
              0.3333333333333333,
              "#9c179e"
             ],
             [
              0.4444444444444444,
              "#bd3786"
             ],
             [
              0.5555555555555556,
              "#d8576b"
             ],
             [
              0.6666666666666666,
              "#ed7953"
             ],
             [
              0.7777777777777778,
              "#fb9f3a"
             ],
             [
              0.8888888888888888,
              "#fdca26"
             ],
             [
              1,
              "#f0f921"
             ]
            ],
            "type": "heatmap"
           }
          ],
          "heatmapgl": [
           {
            "colorbar": {
             "outlinewidth": 0,
             "ticks": ""
            },
            "colorscale": [
             [
              0,
              "#0d0887"
             ],
             [
              0.1111111111111111,
              "#46039f"
             ],
             [
              0.2222222222222222,
              "#7201a8"
             ],
             [
              0.3333333333333333,
              "#9c179e"
             ],
             [
              0.4444444444444444,
              "#bd3786"
             ],
             [
              0.5555555555555556,
              "#d8576b"
             ],
             [
              0.6666666666666666,
              "#ed7953"
             ],
             [
              0.7777777777777778,
              "#fb9f3a"
             ],
             [
              0.8888888888888888,
              "#fdca26"
             ],
             [
              1,
              "#f0f921"
             ]
            ],
            "type": "heatmapgl"
           }
          ],
          "histogram": [
           {
            "marker": {
             "colorbar": {
              "outlinewidth": 0,
              "ticks": ""
             }
            },
            "type": "histogram"
           }
          ],
          "histogram2d": [
           {
            "colorbar": {
             "outlinewidth": 0,
             "ticks": ""
            },
            "colorscale": [
             [
              0,
              "#0d0887"
             ],
             [
              0.1111111111111111,
              "#46039f"
             ],
             [
              0.2222222222222222,
              "#7201a8"
             ],
             [
              0.3333333333333333,
              "#9c179e"
             ],
             [
              0.4444444444444444,
              "#bd3786"
             ],
             [
              0.5555555555555556,
              "#d8576b"
             ],
             [
              0.6666666666666666,
              "#ed7953"
             ],
             [
              0.7777777777777778,
              "#fb9f3a"
             ],
             [
              0.8888888888888888,
              "#fdca26"
             ],
             [
              1,
              "#f0f921"
             ]
            ],
            "type": "histogram2d"
           }
          ],
          "histogram2dcontour": [
           {
            "colorbar": {
             "outlinewidth": 0,
             "ticks": ""
            },
            "colorscale": [
             [
              0,
              "#0d0887"
             ],
             [
              0.1111111111111111,
              "#46039f"
             ],
             [
              0.2222222222222222,
              "#7201a8"
             ],
             [
              0.3333333333333333,
              "#9c179e"
             ],
             [
              0.4444444444444444,
              "#bd3786"
             ],
             [
              0.5555555555555556,
              "#d8576b"
             ],
             [
              0.6666666666666666,
              "#ed7953"
             ],
             [
              0.7777777777777778,
              "#fb9f3a"
             ],
             [
              0.8888888888888888,
              "#fdca26"
             ],
             [
              1,
              "#f0f921"
             ]
            ],
            "type": "histogram2dcontour"
           }
          ],
          "mesh3d": [
           {
            "colorbar": {
             "outlinewidth": 0,
             "ticks": ""
            },
            "type": "mesh3d"
           }
          ],
          "parcoords": [
           {
            "line": {
             "colorbar": {
              "outlinewidth": 0,
              "ticks": ""
             }
            },
            "type": "parcoords"
           }
          ],
          "pie": [
           {
            "automargin": true,
            "type": "pie"
           }
          ],
          "scatter": [
           {
            "marker": {
             "colorbar": {
              "outlinewidth": 0,
              "ticks": ""
             }
            },
            "type": "scatter"
           }
          ],
          "scatter3d": [
           {
            "line": {
             "colorbar": {
              "outlinewidth": 0,
              "ticks": ""
             }
            },
            "marker": {
             "colorbar": {
              "outlinewidth": 0,
              "ticks": ""
             }
            },
            "type": "scatter3d"
           }
          ],
          "scattercarpet": [
           {
            "marker": {
             "colorbar": {
              "outlinewidth": 0,
              "ticks": ""
             }
            },
            "type": "scattercarpet"
           }
          ],
          "scattergeo": [
           {
            "marker": {
             "colorbar": {
              "outlinewidth": 0,
              "ticks": ""
             }
            },
            "type": "scattergeo"
           }
          ],
          "scattergl": [
           {
            "marker": {
             "colorbar": {
              "outlinewidth": 0,
              "ticks": ""
             }
            },
            "type": "scattergl"
           }
          ],
          "scattermapbox": [
           {
            "marker": {
             "colorbar": {
              "outlinewidth": 0,
              "ticks": ""
             }
            },
            "type": "scattermapbox"
           }
          ],
          "scatterpolar": [
           {
            "marker": {
             "colorbar": {
              "outlinewidth": 0,
              "ticks": ""
             }
            },
            "type": "scatterpolar"
           }
          ],
          "scatterpolargl": [
           {
            "marker": {
             "colorbar": {
              "outlinewidth": 0,
              "ticks": ""
             }
            },
            "type": "scatterpolargl"
           }
          ],
          "scatterternary": [
           {
            "marker": {
             "colorbar": {
              "outlinewidth": 0,
              "ticks": ""
             }
            },
            "type": "scatterternary"
           }
          ],
          "surface": [
           {
            "colorbar": {
             "outlinewidth": 0,
             "ticks": ""
            },
            "colorscale": [
             [
              0,
              "#0d0887"
             ],
             [
              0.1111111111111111,
              "#46039f"
             ],
             [
              0.2222222222222222,
              "#7201a8"
             ],
             [
              0.3333333333333333,
              "#9c179e"
             ],
             [
              0.4444444444444444,
              "#bd3786"
             ],
             [
              0.5555555555555556,
              "#d8576b"
             ],
             [
              0.6666666666666666,
              "#ed7953"
             ],
             [
              0.7777777777777778,
              "#fb9f3a"
             ],
             [
              0.8888888888888888,
              "#fdca26"
             ],
             [
              1,
              "#f0f921"
             ]
            ],
            "type": "surface"
           }
          ],
          "table": [
           {
            "cells": {
             "fill": {
              "color": "#EBF0F8"
             },
             "line": {
              "color": "white"
             }
            },
            "header": {
             "fill": {
              "color": "#C8D4E3"
             },
             "line": {
              "color": "white"
             }
            },
            "type": "table"
           }
          ]
         },
         "layout": {
          "annotationdefaults": {
           "arrowcolor": "#2a3f5f",
           "arrowhead": 0,
           "arrowwidth": 1
          },
          "coloraxis": {
           "colorbar": {
            "outlinewidth": 0,
            "ticks": ""
           }
          },
          "colorscale": {
           "diverging": [
            [
             0,
             "#8e0152"
            ],
            [
             0.1,
             "#c51b7d"
            ],
            [
             0.2,
             "#de77ae"
            ],
            [
             0.3,
             "#f1b6da"
            ],
            [
             0.4,
             "#fde0ef"
            ],
            [
             0.5,
             "#f7f7f7"
            ],
            [
             0.6,
             "#e6f5d0"
            ],
            [
             0.7,
             "#b8e186"
            ],
            [
             0.8,
             "#7fbc41"
            ],
            [
             0.9,
             "#4d9221"
            ],
            [
             1,
             "#276419"
            ]
           ],
           "sequential": [
            [
             0,
             "#0d0887"
            ],
            [
             0.1111111111111111,
             "#46039f"
            ],
            [
             0.2222222222222222,
             "#7201a8"
            ],
            [
             0.3333333333333333,
             "#9c179e"
            ],
            [
             0.4444444444444444,
             "#bd3786"
            ],
            [
             0.5555555555555556,
             "#d8576b"
            ],
            [
             0.6666666666666666,
             "#ed7953"
            ],
            [
             0.7777777777777778,
             "#fb9f3a"
            ],
            [
             0.8888888888888888,
             "#fdca26"
            ],
            [
             1,
             "#f0f921"
            ]
           ],
           "sequentialminus": [
            [
             0,
             "#0d0887"
            ],
            [
             0.1111111111111111,
             "#46039f"
            ],
            [
             0.2222222222222222,
             "#7201a8"
            ],
            [
             0.3333333333333333,
             "#9c179e"
            ],
            [
             0.4444444444444444,
             "#bd3786"
            ],
            [
             0.5555555555555556,
             "#d8576b"
            ],
            [
             0.6666666666666666,
             "#ed7953"
            ],
            [
             0.7777777777777778,
             "#fb9f3a"
            ],
            [
             0.8888888888888888,
             "#fdca26"
            ],
            [
             1,
             "#f0f921"
            ]
           ]
          },
          "colorway": [
           "#636efa",
           "#EF553B",
           "#00cc96",
           "#ab63fa",
           "#FFA15A",
           "#19d3f3",
           "#FF6692",
           "#B6E880",
           "#FF97FF",
           "#FECB52"
          ],
          "font": {
           "color": "#2a3f5f"
          },
          "geo": {
           "bgcolor": "white",
           "lakecolor": "white",
           "landcolor": "#E5ECF6",
           "showlakes": true,
           "showland": true,
           "subunitcolor": "white"
          },
          "hoverlabel": {
           "align": "left"
          },
          "hovermode": "closest",
          "mapbox": {
           "style": "light"
          },
          "paper_bgcolor": "white",
          "plot_bgcolor": "#E5ECF6",
          "polar": {
           "angularaxis": {
            "gridcolor": "white",
            "linecolor": "white",
            "ticks": ""
           },
           "bgcolor": "#E5ECF6",
           "radialaxis": {
            "gridcolor": "white",
            "linecolor": "white",
            "ticks": ""
           }
          },
          "scene": {
           "xaxis": {
            "backgroundcolor": "#E5ECF6",
            "gridcolor": "white",
            "gridwidth": 2,
            "linecolor": "white",
            "showbackground": true,
            "ticks": "",
            "zerolinecolor": "white"
           },
           "yaxis": {
            "backgroundcolor": "#E5ECF6",
            "gridcolor": "white",
            "gridwidth": 2,
            "linecolor": "white",
            "showbackground": true,
            "ticks": "",
            "zerolinecolor": "white"
           },
           "zaxis": {
            "backgroundcolor": "#E5ECF6",
            "gridcolor": "white",
            "gridwidth": 2,
            "linecolor": "white",
            "showbackground": true,
            "ticks": "",
            "zerolinecolor": "white"
           }
          },
          "shapedefaults": {
           "line": {
            "color": "#2a3f5f"
           }
          },
          "ternary": {
           "aaxis": {
            "gridcolor": "white",
            "linecolor": "white",
            "ticks": ""
           },
           "baxis": {
            "gridcolor": "white",
            "linecolor": "white",
            "ticks": ""
           },
           "bgcolor": "#E5ECF6",
           "caxis": {
            "gridcolor": "white",
            "linecolor": "white",
            "ticks": ""
           }
          },
          "title": {
           "x": 0.05
          },
          "xaxis": {
           "automargin": true,
           "gridcolor": "white",
           "linecolor": "white",
           "ticks": "",
           "title": {
            "standoff": 15
           },
           "zerolinecolor": "white",
           "zerolinewidth": 2
          },
          "yaxis": {
           "automargin": true,
           "gridcolor": "white",
           "linecolor": "white",
           "ticks": "",
           "title": {
            "standoff": 15
           },
           "zerolinecolor": "white",
           "zerolinewidth": 2
          }
         }
        },
        "title": {
         "font": {
          "color": "#4D5663"
         }
        },
        "xaxis": {
         "gridcolor": "#E1E5ED",
         "showgrid": true,
         "tickfont": {
          "color": "#4D5663"
         },
         "title": {
          "font": {
           "color": "#4D5663"
          },
          "text": ""
         },
         "zerolinecolor": "#E1E5ED"
        },
        "yaxis": {
         "gridcolor": "#E1E5ED",
         "showgrid": true,
         "tickfont": {
          "color": "#4D5663"
         },
         "title": {
          "font": {
           "color": "#4D5663"
          },
          "text": ""
         },
         "zerolinecolor": "#E1E5ED"
        }
       }
      },
      "text/html": "<div>                            <div id=\"9231deb5-7c5f-40aa-815c-5037325d4abd\" class=\"plotly-graph-div\" style=\"height:525px; width:100%;\"></div>            <script type=\"text/javascript\">                require([\"plotly\"], function(Plotly) {                    window.PLOTLYENV=window.PLOTLYENV || {};\n                    window.PLOTLYENV.BASE_URL='https://plot.ly';                                    if (document.getElementById(\"9231deb5-7c5f-40aa-815c-5037325d4abd\")) {                    Plotly.newPlot(                        \"9231deb5-7c5f-40aa-815c-5037325d4abd\",                        [{\"marker\": {\"color\": \"rgba(255, 153, 51, 0.6)\", \"line\": {\"color\": \"rgba(255, 153, 51, 1.0)\", \"width\": 1}}, \"name\": \"None\", \"orientation\": \"v\", \"text\": \"\", \"type\": \"bar\", \"x\": [\"A\", \"B\", \"C\", \"D\"], \"y\": [1.231650916236147, 7.225287251063394, 3.2934000497624907, 6.202183177468722]}],                        {\"legend\": {\"bgcolor\": \"#F5F6F9\", \"font\": {\"color\": \"#4D5663\"}}, \"paper_bgcolor\": \"#F5F6F9\", \"plot_bgcolor\": \"#F5F6F9\", \"template\": {\"data\": {\"bar\": [{\"error_x\": {\"color\": \"#2a3f5f\"}, \"error_y\": {\"color\": \"#2a3f5f\"}, \"marker\": {\"line\": {\"color\": \"#E5ECF6\", \"width\": 0.5}}, \"type\": \"bar\"}], \"barpolar\": [{\"marker\": {\"line\": {\"color\": \"#E5ECF6\", \"width\": 0.5}}, \"type\": \"barpolar\"}], \"carpet\": [{\"aaxis\": {\"endlinecolor\": \"#2a3f5f\", \"gridcolor\": \"white\", \"linecolor\": \"white\", \"minorgridcolor\": \"white\", \"startlinecolor\": \"#2a3f5f\"}, \"baxis\": {\"endlinecolor\": \"#2a3f5f\", \"gridcolor\": \"white\", \"linecolor\": \"white\", \"minorgridcolor\": \"white\", \"startlinecolor\": \"#2a3f5f\"}, \"type\": \"carpet\"}], \"choropleth\": [{\"colorbar\": {\"outlinewidth\": 0, \"ticks\": \"\"}, \"type\": \"choropleth\"}], \"contour\": [{\"colorbar\": {\"outlinewidth\": 0, \"ticks\": \"\"}, \"colorscale\": [[0.0, \"#0d0887\"], [0.1111111111111111, \"#46039f\"], [0.2222222222222222, \"#7201a8\"], [0.3333333333333333, \"#9c179e\"], [0.4444444444444444, \"#bd3786\"], [0.5555555555555556, \"#d8576b\"], [0.6666666666666666, \"#ed7953\"], [0.7777777777777778, \"#fb9f3a\"], [0.8888888888888888, \"#fdca26\"], [1.0, \"#f0f921\"]], \"type\": \"contour\"}], \"contourcarpet\": [{\"colorbar\": {\"outlinewidth\": 0, \"ticks\": \"\"}, \"type\": \"contourcarpet\"}], \"heatmap\": [{\"colorbar\": {\"outlinewidth\": 0, \"ticks\": \"\"}, \"colorscale\": [[0.0, \"#0d0887\"], [0.1111111111111111, \"#46039f\"], [0.2222222222222222, \"#7201a8\"], [0.3333333333333333, \"#9c179e\"], [0.4444444444444444, \"#bd3786\"], [0.5555555555555556, \"#d8576b\"], [0.6666666666666666, \"#ed7953\"], [0.7777777777777778, \"#fb9f3a\"], [0.8888888888888888, \"#fdca26\"], [1.0, \"#f0f921\"]], \"type\": \"heatmap\"}], \"heatmapgl\": [{\"colorbar\": {\"outlinewidth\": 0, \"ticks\": \"\"}, \"colorscale\": [[0.0, \"#0d0887\"], [0.1111111111111111, \"#46039f\"], [0.2222222222222222, \"#7201a8\"], [0.3333333333333333, \"#9c179e\"], [0.4444444444444444, \"#bd3786\"], [0.5555555555555556, \"#d8576b\"], [0.6666666666666666, \"#ed7953\"], [0.7777777777777778, \"#fb9f3a\"], [0.8888888888888888, \"#fdca26\"], [1.0, \"#f0f921\"]], \"type\": \"heatmapgl\"}], \"histogram\": [{\"marker\": {\"colorbar\": {\"outlinewidth\": 0, \"ticks\": \"\"}}, \"type\": \"histogram\"}], \"histogram2d\": [{\"colorbar\": {\"outlinewidth\": 0, \"ticks\": \"\"}, \"colorscale\": [[0.0, \"#0d0887\"], [0.1111111111111111, \"#46039f\"], [0.2222222222222222, \"#7201a8\"], [0.3333333333333333, \"#9c179e\"], [0.4444444444444444, \"#bd3786\"], [0.5555555555555556, \"#d8576b\"], [0.6666666666666666, \"#ed7953\"], [0.7777777777777778, \"#fb9f3a\"], [0.8888888888888888, \"#fdca26\"], [1.0, \"#f0f921\"]], \"type\": \"histogram2d\"}], \"histogram2dcontour\": [{\"colorbar\": {\"outlinewidth\": 0, \"ticks\": \"\"}, \"colorscale\": [[0.0, \"#0d0887\"], [0.1111111111111111, \"#46039f\"], [0.2222222222222222, \"#7201a8\"], [0.3333333333333333, \"#9c179e\"], [0.4444444444444444, \"#bd3786\"], [0.5555555555555556, \"#d8576b\"], [0.6666666666666666, \"#ed7953\"], [0.7777777777777778, \"#fb9f3a\"], [0.8888888888888888, \"#fdca26\"], [1.0, \"#f0f921\"]], \"type\": \"histogram2dcontour\"}], \"mesh3d\": [{\"colorbar\": {\"outlinewidth\": 0, \"ticks\": \"\"}, \"type\": \"mesh3d\"}], \"parcoords\": [{\"line\": {\"colorbar\": {\"outlinewidth\": 0, \"ticks\": \"\"}}, \"type\": \"parcoords\"}], \"pie\": [{\"automargin\": true, \"type\": \"pie\"}], \"scatter\": [{\"marker\": {\"colorbar\": {\"outlinewidth\": 0, \"ticks\": \"\"}}, \"type\": \"scatter\"}], \"scatter3d\": [{\"line\": {\"colorbar\": {\"outlinewidth\": 0, \"ticks\": \"\"}}, \"marker\": {\"colorbar\": {\"outlinewidth\": 0, \"ticks\": \"\"}}, \"type\": \"scatter3d\"}], \"scattercarpet\": [{\"marker\": {\"colorbar\": {\"outlinewidth\": 0, \"ticks\": \"\"}}, \"type\": \"scattercarpet\"}], \"scattergeo\": [{\"marker\": {\"colorbar\": {\"outlinewidth\": 0, \"ticks\": \"\"}}, \"type\": \"scattergeo\"}], \"scattergl\": [{\"marker\": {\"colorbar\": {\"outlinewidth\": 0, \"ticks\": \"\"}}, \"type\": \"scattergl\"}], \"scattermapbox\": [{\"marker\": {\"colorbar\": {\"outlinewidth\": 0, \"ticks\": \"\"}}, \"type\": \"scattermapbox\"}], \"scatterpolar\": [{\"marker\": {\"colorbar\": {\"outlinewidth\": 0, \"ticks\": \"\"}}, \"type\": \"scatterpolar\"}], \"scatterpolargl\": [{\"marker\": {\"colorbar\": {\"outlinewidth\": 0, \"ticks\": \"\"}}, \"type\": \"scatterpolargl\"}], \"scatterternary\": [{\"marker\": {\"colorbar\": {\"outlinewidth\": 0, \"ticks\": \"\"}}, \"type\": \"scatterternary\"}], \"surface\": [{\"colorbar\": {\"outlinewidth\": 0, \"ticks\": \"\"}, \"colorscale\": [[0.0, \"#0d0887\"], [0.1111111111111111, \"#46039f\"], [0.2222222222222222, \"#7201a8\"], [0.3333333333333333, \"#9c179e\"], [0.4444444444444444, \"#bd3786\"], [0.5555555555555556, \"#d8576b\"], [0.6666666666666666, \"#ed7953\"], [0.7777777777777778, \"#fb9f3a\"], [0.8888888888888888, \"#fdca26\"], [1.0, \"#f0f921\"]], \"type\": \"surface\"}], \"table\": [{\"cells\": {\"fill\": {\"color\": \"#EBF0F8\"}, \"line\": {\"color\": \"white\"}}, \"header\": {\"fill\": {\"color\": \"#C8D4E3\"}, \"line\": {\"color\": \"white\"}}, \"type\": \"table\"}]}, \"layout\": {\"annotationdefaults\": {\"arrowcolor\": \"#2a3f5f\", \"arrowhead\": 0, \"arrowwidth\": 1}, \"coloraxis\": {\"colorbar\": {\"outlinewidth\": 0, \"ticks\": \"\"}}, \"colorscale\": {\"diverging\": [[0, \"#8e0152\"], [0.1, \"#c51b7d\"], [0.2, \"#de77ae\"], [0.3, \"#f1b6da\"], [0.4, \"#fde0ef\"], [0.5, \"#f7f7f7\"], [0.6, \"#e6f5d0\"], [0.7, \"#b8e186\"], [0.8, \"#7fbc41\"], [0.9, \"#4d9221\"], [1, \"#276419\"]], \"sequential\": [[0.0, \"#0d0887\"], [0.1111111111111111, \"#46039f\"], [0.2222222222222222, \"#7201a8\"], [0.3333333333333333, \"#9c179e\"], [0.4444444444444444, \"#bd3786\"], [0.5555555555555556, \"#d8576b\"], [0.6666666666666666, \"#ed7953\"], [0.7777777777777778, \"#fb9f3a\"], [0.8888888888888888, \"#fdca26\"], [1.0, \"#f0f921\"]], \"sequentialminus\": [[0.0, \"#0d0887\"], [0.1111111111111111, \"#46039f\"], [0.2222222222222222, \"#7201a8\"], [0.3333333333333333, \"#9c179e\"], [0.4444444444444444, \"#bd3786\"], [0.5555555555555556, \"#d8576b\"], [0.6666666666666666, \"#ed7953\"], [0.7777777777777778, \"#fb9f3a\"], [0.8888888888888888, \"#fdca26\"], [1.0, \"#f0f921\"]]}, \"colorway\": [\"#636efa\", \"#EF553B\", \"#00cc96\", \"#ab63fa\", \"#FFA15A\", \"#19d3f3\", \"#FF6692\", \"#B6E880\", \"#FF97FF\", \"#FECB52\"], \"font\": {\"color\": \"#2a3f5f\"}, \"geo\": {\"bgcolor\": \"white\", \"lakecolor\": \"white\", \"landcolor\": \"#E5ECF6\", \"showlakes\": true, \"showland\": true, \"subunitcolor\": \"white\"}, \"hoverlabel\": {\"align\": \"left\"}, \"hovermode\": \"closest\", \"mapbox\": {\"style\": \"light\"}, \"paper_bgcolor\": \"white\", \"plot_bgcolor\": \"#E5ECF6\", \"polar\": {\"angularaxis\": {\"gridcolor\": \"white\", \"linecolor\": \"white\", \"ticks\": \"\"}, \"bgcolor\": \"#E5ECF6\", \"radialaxis\": {\"gridcolor\": \"white\", \"linecolor\": \"white\", \"ticks\": \"\"}}, \"scene\": {\"xaxis\": {\"backgroundcolor\": \"#E5ECF6\", \"gridcolor\": \"white\", \"gridwidth\": 2, \"linecolor\": \"white\", \"showbackground\": true, \"ticks\": \"\", \"zerolinecolor\": \"white\"}, \"yaxis\": {\"backgroundcolor\": \"#E5ECF6\", \"gridcolor\": \"white\", \"gridwidth\": 2, \"linecolor\": \"white\", \"showbackground\": true, \"ticks\": \"\", \"zerolinecolor\": \"white\"}, \"zaxis\": {\"backgroundcolor\": \"#E5ECF6\", \"gridcolor\": \"white\", \"gridwidth\": 2, \"linecolor\": \"white\", \"showbackground\": true, \"ticks\": \"\", \"zerolinecolor\": \"white\"}}, \"shapedefaults\": {\"line\": {\"color\": \"#2a3f5f\"}}, \"ternary\": {\"aaxis\": {\"gridcolor\": \"white\", \"linecolor\": \"white\", \"ticks\": \"\"}, \"baxis\": {\"gridcolor\": \"white\", \"linecolor\": \"white\", \"ticks\": \"\"}, \"bgcolor\": \"#E5ECF6\", \"caxis\": {\"gridcolor\": \"white\", \"linecolor\": \"white\", \"ticks\": \"\"}}, \"title\": {\"x\": 0.05}, \"xaxis\": {\"automargin\": true, \"gridcolor\": \"white\", \"linecolor\": \"white\", \"ticks\": \"\", \"title\": {\"standoff\": 15}, \"zerolinecolor\": \"white\", \"zerolinewidth\": 2}, \"yaxis\": {\"automargin\": true, \"gridcolor\": \"white\", \"linecolor\": \"white\", \"ticks\": \"\", \"title\": {\"standoff\": 15}, \"zerolinecolor\": \"white\", \"zerolinewidth\": 2}}}, \"title\": {\"font\": {\"color\": \"#4D5663\"}}, \"xaxis\": {\"gridcolor\": \"#E1E5ED\", \"showgrid\": true, \"tickfont\": {\"color\": \"#4D5663\"}, \"title\": {\"font\": {\"color\": \"#4D5663\"}, \"text\": \"\"}, \"zerolinecolor\": \"#E1E5ED\"}, \"yaxis\": {\"gridcolor\": \"#E1E5ED\", \"showgrid\": true, \"tickfont\": {\"color\": \"#4D5663\"}, \"title\": {\"font\": {\"color\": \"#4D5663\"}, \"text\": \"\"}, \"zerolinecolor\": \"#E1E5ED\"}},                        {\"showLink\": true, \"linkText\": \"Export to plot.ly\", \"plotlyServerURL\": \"https://plot.ly\", \"responsive\": true}                    ).then(function(){\n                            \nvar gd = document.getElementById('9231deb5-7c5f-40aa-815c-5037325d4abd');\nvar x = new MutationObserver(function (mutations, observer) {{\n        var display = window.getComputedStyle(gd).display;\n        if (!display || display === 'none') {{\n            console.log([gd, 'removed!']);\n            Plotly.purge(gd);\n            observer.disconnect();\n        }}\n}});\n\n// Listen for the removal of the full notebook cells\nvar notebookContainer = gd.closest('#notebook-container');\nif (notebookContainer) {{\n    x.observe(notebookContainer, {childList: true});\n}}\n\n// Listen for the clearing of the current output cell\nvar outputEl = gd.closest('.output');\nif (outputEl) {{\n    x.observe(outputEl, {childList: true});\n}}\n\n                        })                };                });            </script>        </div>"
     },
     "metadata": {}
    }
   ],
   "source": [
    "df.sum().iplot(kind='bar')"
   ]
  },
  {
   "source": [
    "## Boxplots"
   ],
   "cell_type": "markdown",
   "metadata": {}
  },
  {
   "cell_type": "code",
   "execution_count": 12,
   "metadata": {},
   "outputs": [
    {
     "output_type": "display_data",
     "data": {
      "application/vnd.plotly.v1+json": {
       "config": {
        "linkText": "Export to plot.ly",
        "plotlyServerURL": "https://plot.ly",
        "showLink": true
       },
       "data": [
        {
         "boxpoints": false,
         "line": {
          "width": 1.3
         },
         "marker": {
          "color": "rgba(255, 153, 51, 1.0)"
         },
         "name": "A",
         "orientation": "v",
         "type": "box",
         "y": [
          -3.1903388189260506,
          0.23396036411163004,
          1.1589655786036386,
          -0.48300006152562525,
          -1.5103337587243804,
          -0.5044248859027471,
          1.182281645215199,
          0.42006775240638894,
          -0.8810298974091847,
          0.5039382873693414,
          -0.731266004129346,
          0.0638361921822204,
          -1.0652754263641049,
          -0.9041076466885405,
          -0.9048795324169541,
          -0.7972587761240022,
          -0.3675670471291356,
          0.28082146701438343,
          -0.08633039339250868,
          0.040217153150704704,
          -0.6690624158655928,
          1.2627520886852726,
          0.8930334427555254,
          -0.5720828983632429,
          -0.10829789239054843,
          0.40614750365984825,
          -1.103865178801149,
          -0.8121010383177608,
          0.10072184675344648,
          -0.5769169489648015,
          -1.064607754248978,
          0.2803088090050602,
          0.27784983531770807,
          -0.41074940453263725,
          0.5858394974501357,
          -1.1873780187790168,
          -1.3497579113052596,
          1.255295743570665,
          -0.6927268600950082,
          -0.36127203424382964,
          -0.34463610823926666,
          -1.2009964413381025,
          1.3923569898979733,
          0.7787889527113488,
          1.8663933162193367,
          -0.7896518608815303,
          0.8604392983684553,
          0.5735613938299836,
          -1.2802106717549009,
          0.44164511860901834,
          -1.1744289444226033,
          -0.0000060149059195747345,
          -0.6467481917357054,
          1.2327214192099953,
          -0.28623017443738186,
          -1.7412710235687312,
          -0.9758958392945769,
          1.600310178717572,
          -0.6658748622479977,
          0.36105544712213045,
          1.2539490446516994,
          1.0583809422068344,
          -0.597617455493197,
          -0.45722923476382665,
          -1.2684784915115794,
          -0.9644190323469388,
          -0.8772580574236023,
          0.085838476310741,
          0.48674958148652886,
          0.9676561629391955,
          -2.13767913287318,
          -2.955837736363831,
          -1.7764340900302908,
          1.272615789302066,
          -0.37425080144249273,
          1.026973987239565,
          2.100477946764772,
          -0.9807225547579596,
          -0.7533250886156038,
          -0.03650463249437804,
          0.3529513644456242,
          -1.3607833800573281,
          -1.7417396477441502,
          -1.2994294895974514,
          0.32077583616185623,
          -0.4244455156618559,
          0.8905320772769698,
          -1.3186547947430771,
          0.12166001368478756,
          -1.2191124444406027,
          0.24654677954656246,
          -0.2623982371892286,
          0.2624213780227509,
          0.09375602776369371,
          -0.8396352448027719,
          -0.5553431002419489,
          -0.06731001731720351,
          -0.49821737363514945,
          2.474916165429662,
          -1.6424571327832522
         ]
        },
        {
         "boxpoints": false,
         "line": {
          "width": 1.3
         },
         "marker": {
          "color": "rgba(55, 128, 191, 1.0)"
         },
         "name": "B",
         "orientation": "v",
         "type": "box",
         "y": [
          -0.3643496606765255,
          0.026742083793018775,
          0.3584549394564874,
          -0.15087399036258875,
          0.7692264311391451,
          -0.9607394936456178,
          1.099364393084451,
          2.0413594007607077,
          -0.9589429120315346,
          -1.0151262656536937,
          -2.7705342521888636,
          0.04519916765724038,
          -1.0324039775286689,
          0.21166535206455778,
          0.9519171224472974,
          -0.8073326446901398,
          -0.11985422234986415,
          -0.1234321641152109,
          0.9187427563080505,
          -1.5763765046502152,
          0.48951503176455424,
          -0.278969609256558,
          -0.3648383818684051,
          -0.007140551384771878,
          0.824952324575092,
          1.012484922632672,
          0.5845377044183931,
          -1.2711783578576223,
          -0.36902106237264026,
          0.012682393985313328,
          0.3374744579584474,
          1.0374153302021154,
          0.8674581281533991,
          0.49520661962696927,
          -0.2181122070140142,
          -0.4198441589123327,
          -0.22085215002039907,
          -0.14099689419147918,
          -0.9772412761380672,
          -0.9091883734093862,
          -1.5686850852517986,
          0.12633424708785124,
          0.4249983112725074,
          -0.15071571160517683,
          -0.8190528021055005,
          -0.5843142509340462,
          1.009127911825222,
          -0.2532746339494671,
          0.8382486387582775,
          0.2987780822239634,
          -0.42940441705743443,
          0.12942894672747557,
          -0.3784668801032414,
          -0.36623302074540903,
          1.9636781681839237,
          -0.694293703929343,
          0.18243687176223544,
          0.44970065303344275,
          -0.5585085694844554,
          0.5781469849286903,
          -1.478679342255676,
          -2.2017812855469296,
          -0.22766449165792724,
          -0.9850956709230758,
          0.06535721379319329,
          1.6247637881367891,
          0.9388172664094236,
          0.5604816763327075,
          0.2297458405763916,
          0.5705488391936526,
          -0.5429901589467797,
          -1.4375484759630257,
          1.149625790934575,
          -1.8706089909902677,
          0.6574935076546705,
          0.3922469509849665,
          -0.3283399439671376,
          -0.7082986794613881,
          -1.3012155638305742,
          -0.47344112138941563,
          0.025524978856013302,
          -0.6078471413136215,
          0.6221060033789865,
          -0.8425812105486945,
          -1.9731018326838081,
          -2.085182182082291,
          0.7211728722787665,
          1.5764475887837608,
          0.17856892843054062,
          0.09394500672765961,
          -0.838783815812583,
          -2.0640038711962796,
          0.07541148221711562,
          0.011988483697282544,
          1.156875251344672,
          -0.32642331073805275,
          -1.0002773938460705,
          -0.409558017985458,
          -1.6432367398217418,
          -1.458768728092791
         ]
        },
        {
         "boxpoints": false,
         "line": {
          "width": 1.3
         },
         "marker": {
          "color": "rgba(50, 171, 96, 1.0)"
         },
         "name": "C",
         "orientation": "v",
         "type": "box",
         "y": [
          -1.1186463499542998,
          1.2677912975381758,
          0.36076316284766746,
          -0.594562609277583,
          -0.4685633922208175,
          -0.7414270275053735,
          -1.2620028022058527,
          -0.2633575322313773,
          -0.13705740516672574,
          -0.6779505642675806,
          -0.2026716055278497,
          1.6258578058108586,
          0.24708350229743825,
          0.6924231043760657,
          -1.5136756150318582,
          0.18387379001212456,
          -1.0758932407544046,
          -1.1277833413495375,
          -0.09007994172368866,
          1.7438241639662895,
          0.17877381008658313,
          0.21997679671829612,
          0.43375237351717855,
          -0.57839905502642,
          0.34209577444414135,
          -0.26366532914873114,
          1.0700940451035175,
          -0.9512143375191747,
          -0.6850989671874386,
          0.21183117412430214,
          -0.4104742967296816,
          -1.0890895555885556,
          0.36987011373475775,
          -1.0232701308222056,
          0.044981104707034446,
          -0.0824754843912133,
          2.092860328910299,
          2.8344786758836196,
          0.260552308604172,
          -0.2458360898438423,
          -1.2257665509409992,
          -1.1316510511315512,
          0.32548178557719026,
          0.6763374540496877,
          0.6183684289996768,
          0.22458715291167278,
          -0.10773707471439793,
          0.14631716285290056,
          -0.25856157950527603,
          0.3949298005054963,
          0.014701924255192494,
          0.04254310141261005,
          -0.3038555542985175,
          1.3746376476163982,
          -1.0525689185942786,
          1.8677556254708725,
          -0.9544443715719576,
          0.6250657420707972,
          -0.6597264515616512,
          1.2000128640230874,
          -1.921474505487477,
          0.10359809264203092,
          0.14030400767650186,
          -0.24415105688321234,
          0.09908985392907203,
          0.11762629422038864,
          -0.40161956844729146,
          -0.32560451956022274,
          -0.2742954646454567,
          0.7033588244428957,
          1.044708085637379,
          1.3432802304882736,
          -0.48809055516302796,
          -0.40759577124501833,
          -0.23367711063773317,
          1.0357161154696715,
          -2.035454205328424,
          -0.3275881726844608,
          -0.5365535854449085,
          0.5715003149914503,
          0.7005392956847408,
          -0.6098133766978422,
          0.13932592576040911,
          -0.7696519088160988,
          -0.756068093698991,
          -2.6222547596454278,
          -0.47657293861878464,
          1.1639948628729075,
          -1.4642275879391387,
          -0.38596602153173,
          -0.5421683648952816,
          0.10309907483896115,
          0.2639944083236471,
          0.09410435510004495,
          -0.6567099939622915,
          -0.2203570095662532,
          -1.881779224440967,
          0.41613232309439224,
          0.7655415853330867,
          -1.4245542342590862
         ]
        },
        {
         "boxpoints": false,
         "line": {
          "width": 1.3
         },
         "marker": {
          "color": "rgba(128, 0, 128, 1.0)"
         },
         "name": "D",
         "orientation": "v",
         "type": "box",
         "y": [
          -0.6489732176465235,
          -0.41469620685869946,
          -0.7371821797185605,
          -0.9768777099594689,
          -0.22711856500745847,
          2.54026166785655,
          0.15537859565815373,
          -0.9775530087225272,
          2.1618950609150063,
          -1.62519664198678,
          0.21236468315567575,
          1.3459918522282894,
          0.08370362006998518,
          0.7394987862241378,
          0.6539134662590035,
          -0.7086034819362234,
          1.6417074272652397,
          0.8369405076533828,
          -0.1704799982098994,
          -0.6549938398194295,
          -0.5483941513527122,
          -1.0447976323516879,
          -0.8018209373504784,
          0.9465864367131726,
          0.6825721074052299,
          0.7887445296778326,
          -0.07546641130273239,
          0.9536526696779729,
          0.4438010796827428,
          -2.2370489036955785,
          -0.6698273819555984,
          0.20635471129522778,
          2.6020926738257306,
          1.0709247935134785,
          0.32384649714279573,
          0.09885999146630725,
          -2.619846279753586,
          -0.46368625253882917,
          1.8712323092911936,
          0.05486969328773147,
          -1.1935146053370786,
          -0.16610251307721524,
          0.6384990529938278,
          1.4038901310185594,
          -0.27245345648714625,
          0.6216184998596498,
          -1.2889792680352745,
          0.3087510888991206,
          0.7360554150652998,
          -0.5165922648054353,
          1.3395981597477955,
          -0.5252602248023504,
          0.6099177946814479,
          -1.0996073656442549,
          2.8542098952108206,
          -0.8285294637490741,
          -0.11911381103015203,
          -1.2557955685428008,
          0.20494733090020398,
          1.447145307689846,
          -0.10189582644921229,
          -2.340645851858345,
          0.905048221674501,
          -3.2847949833595678,
          1.1954851366552612,
          -0.5849358200331003,
          0.30759900650876176,
          -1.4237600566252469,
          1.156013455755697,
          -1.4013371187352321,
          -1.1940724679311008,
          0.6717037121348988,
          0.29877179423852096,
          0.0735572848097489,
          -0.9995298211801902,
          -0.7382077941967837,
          -0.8081365209550897,
          0.2597666777870895,
          0.7055084707601808,
          -2.0317763614359197,
          1.0858361132082317,
          0.2245567699104668,
          0.19531027958986188,
          1.7143659929154766,
          -0.07210747828589123,
          0.6727003522455439,
          -0.10537352910610093,
          1.4134671690171892,
          0.6044508884083378,
          1.0463998481695964,
          0.04921068006225297,
          -0.5367797534585702,
          -0.4983033200797242,
          1.6722949355998922,
          0.5433310212695938,
          -0.31371004745330844,
          0.6080594834764896,
          0.05958357598335059,
          -0.9994953363575223,
          0.3057815249245013
         ]
        }
       ],
       "layout": {
        "legend": {
         "bgcolor": "#F5F6F9",
         "font": {
          "color": "#4D5663"
         }
        },
        "paper_bgcolor": "#F5F6F9",
        "plot_bgcolor": "#F5F6F9",
        "template": {
         "data": {
          "bar": [
           {
            "error_x": {
             "color": "#2a3f5f"
            },
            "error_y": {
             "color": "#2a3f5f"
            },
            "marker": {
             "line": {
              "color": "#E5ECF6",
              "width": 0.5
             }
            },
            "type": "bar"
           }
          ],
          "barpolar": [
           {
            "marker": {
             "line": {
              "color": "#E5ECF6",
              "width": 0.5
             }
            },
            "type": "barpolar"
           }
          ],
          "carpet": [
           {
            "aaxis": {
             "endlinecolor": "#2a3f5f",
             "gridcolor": "white",
             "linecolor": "white",
             "minorgridcolor": "white",
             "startlinecolor": "#2a3f5f"
            },
            "baxis": {
             "endlinecolor": "#2a3f5f",
             "gridcolor": "white",
             "linecolor": "white",
             "minorgridcolor": "white",
             "startlinecolor": "#2a3f5f"
            },
            "type": "carpet"
           }
          ],
          "choropleth": [
           {
            "colorbar": {
             "outlinewidth": 0,
             "ticks": ""
            },
            "type": "choropleth"
           }
          ],
          "contour": [
           {
            "colorbar": {
             "outlinewidth": 0,
             "ticks": ""
            },
            "colorscale": [
             [
              0,
              "#0d0887"
             ],
             [
              0.1111111111111111,
              "#46039f"
             ],
             [
              0.2222222222222222,
              "#7201a8"
             ],
             [
              0.3333333333333333,
              "#9c179e"
             ],
             [
              0.4444444444444444,
              "#bd3786"
             ],
             [
              0.5555555555555556,
              "#d8576b"
             ],
             [
              0.6666666666666666,
              "#ed7953"
             ],
             [
              0.7777777777777778,
              "#fb9f3a"
             ],
             [
              0.8888888888888888,
              "#fdca26"
             ],
             [
              1,
              "#f0f921"
             ]
            ],
            "type": "contour"
           }
          ],
          "contourcarpet": [
           {
            "colorbar": {
             "outlinewidth": 0,
             "ticks": ""
            },
            "type": "contourcarpet"
           }
          ],
          "heatmap": [
           {
            "colorbar": {
             "outlinewidth": 0,
             "ticks": ""
            },
            "colorscale": [
             [
              0,
              "#0d0887"
             ],
             [
              0.1111111111111111,
              "#46039f"
             ],
             [
              0.2222222222222222,
              "#7201a8"
             ],
             [
              0.3333333333333333,
              "#9c179e"
             ],
             [
              0.4444444444444444,
              "#bd3786"
             ],
             [
              0.5555555555555556,
              "#d8576b"
             ],
             [
              0.6666666666666666,
              "#ed7953"
             ],
             [
              0.7777777777777778,
              "#fb9f3a"
             ],
             [
              0.8888888888888888,
              "#fdca26"
             ],
             [
              1,
              "#f0f921"
             ]
            ],
            "type": "heatmap"
           }
          ],
          "heatmapgl": [
           {
            "colorbar": {
             "outlinewidth": 0,
             "ticks": ""
            },
            "colorscale": [
             [
              0,
              "#0d0887"
             ],
             [
              0.1111111111111111,
              "#46039f"
             ],
             [
              0.2222222222222222,
              "#7201a8"
             ],
             [
              0.3333333333333333,
              "#9c179e"
             ],
             [
              0.4444444444444444,
              "#bd3786"
             ],
             [
              0.5555555555555556,
              "#d8576b"
             ],
             [
              0.6666666666666666,
              "#ed7953"
             ],
             [
              0.7777777777777778,
              "#fb9f3a"
             ],
             [
              0.8888888888888888,
              "#fdca26"
             ],
             [
              1,
              "#f0f921"
             ]
            ],
            "type": "heatmapgl"
           }
          ],
          "histogram": [
           {
            "marker": {
             "colorbar": {
              "outlinewidth": 0,
              "ticks": ""
             }
            },
            "type": "histogram"
           }
          ],
          "histogram2d": [
           {
            "colorbar": {
             "outlinewidth": 0,
             "ticks": ""
            },
            "colorscale": [
             [
              0,
              "#0d0887"
             ],
             [
              0.1111111111111111,
              "#46039f"
             ],
             [
              0.2222222222222222,
              "#7201a8"
             ],
             [
              0.3333333333333333,
              "#9c179e"
             ],
             [
              0.4444444444444444,
              "#bd3786"
             ],
             [
              0.5555555555555556,
              "#d8576b"
             ],
             [
              0.6666666666666666,
              "#ed7953"
             ],
             [
              0.7777777777777778,
              "#fb9f3a"
             ],
             [
              0.8888888888888888,
              "#fdca26"
             ],
             [
              1,
              "#f0f921"
             ]
            ],
            "type": "histogram2d"
           }
          ],
          "histogram2dcontour": [
           {
            "colorbar": {
             "outlinewidth": 0,
             "ticks": ""
            },
            "colorscale": [
             [
              0,
              "#0d0887"
             ],
             [
              0.1111111111111111,
              "#46039f"
             ],
             [
              0.2222222222222222,
              "#7201a8"
             ],
             [
              0.3333333333333333,
              "#9c179e"
             ],
             [
              0.4444444444444444,
              "#bd3786"
             ],
             [
              0.5555555555555556,
              "#d8576b"
             ],
             [
              0.6666666666666666,
              "#ed7953"
             ],
             [
              0.7777777777777778,
              "#fb9f3a"
             ],
             [
              0.8888888888888888,
              "#fdca26"
             ],
             [
              1,
              "#f0f921"
             ]
            ],
            "type": "histogram2dcontour"
           }
          ],
          "mesh3d": [
           {
            "colorbar": {
             "outlinewidth": 0,
             "ticks": ""
            },
            "type": "mesh3d"
           }
          ],
          "parcoords": [
           {
            "line": {
             "colorbar": {
              "outlinewidth": 0,
              "ticks": ""
             }
            },
            "type": "parcoords"
           }
          ],
          "pie": [
           {
            "automargin": true,
            "type": "pie"
           }
          ],
          "scatter": [
           {
            "marker": {
             "colorbar": {
              "outlinewidth": 0,
              "ticks": ""
             }
            },
            "type": "scatter"
           }
          ],
          "scatter3d": [
           {
            "line": {
             "colorbar": {
              "outlinewidth": 0,
              "ticks": ""
             }
            },
            "marker": {
             "colorbar": {
              "outlinewidth": 0,
              "ticks": ""
             }
            },
            "type": "scatter3d"
           }
          ],
          "scattercarpet": [
           {
            "marker": {
             "colorbar": {
              "outlinewidth": 0,
              "ticks": ""
             }
            },
            "type": "scattercarpet"
           }
          ],
          "scattergeo": [
           {
            "marker": {
             "colorbar": {
              "outlinewidth": 0,
              "ticks": ""
             }
            },
            "type": "scattergeo"
           }
          ],
          "scattergl": [
           {
            "marker": {
             "colorbar": {
              "outlinewidth": 0,
              "ticks": ""
             }
            },
            "type": "scattergl"
           }
          ],
          "scattermapbox": [
           {
            "marker": {
             "colorbar": {
              "outlinewidth": 0,
              "ticks": ""
             }
            },
            "type": "scattermapbox"
           }
          ],
          "scatterpolar": [
           {
            "marker": {
             "colorbar": {
              "outlinewidth": 0,
              "ticks": ""
             }
            },
            "type": "scatterpolar"
           }
          ],
          "scatterpolargl": [
           {
            "marker": {
             "colorbar": {
              "outlinewidth": 0,
              "ticks": ""
             }
            },
            "type": "scatterpolargl"
           }
          ],
          "scatterternary": [
           {
            "marker": {
             "colorbar": {
              "outlinewidth": 0,
              "ticks": ""
             }
            },
            "type": "scatterternary"
           }
          ],
          "surface": [
           {
            "colorbar": {
             "outlinewidth": 0,
             "ticks": ""
            },
            "colorscale": [
             [
              0,
              "#0d0887"
             ],
             [
              0.1111111111111111,
              "#46039f"
             ],
             [
              0.2222222222222222,
              "#7201a8"
             ],
             [
              0.3333333333333333,
              "#9c179e"
             ],
             [
              0.4444444444444444,
              "#bd3786"
             ],
             [
              0.5555555555555556,
              "#d8576b"
             ],
             [
              0.6666666666666666,
              "#ed7953"
             ],
             [
              0.7777777777777778,
              "#fb9f3a"
             ],
             [
              0.8888888888888888,
              "#fdca26"
             ],
             [
              1,
              "#f0f921"
             ]
            ],
            "type": "surface"
           }
          ],
          "table": [
           {
            "cells": {
             "fill": {
              "color": "#EBF0F8"
             },
             "line": {
              "color": "white"
             }
            },
            "header": {
             "fill": {
              "color": "#C8D4E3"
             },
             "line": {
              "color": "white"
             }
            },
            "type": "table"
           }
          ]
         },
         "layout": {
          "annotationdefaults": {
           "arrowcolor": "#2a3f5f",
           "arrowhead": 0,
           "arrowwidth": 1
          },
          "coloraxis": {
           "colorbar": {
            "outlinewidth": 0,
            "ticks": ""
           }
          },
          "colorscale": {
           "diverging": [
            [
             0,
             "#8e0152"
            ],
            [
             0.1,
             "#c51b7d"
            ],
            [
             0.2,
             "#de77ae"
            ],
            [
             0.3,
             "#f1b6da"
            ],
            [
             0.4,
             "#fde0ef"
            ],
            [
             0.5,
             "#f7f7f7"
            ],
            [
             0.6,
             "#e6f5d0"
            ],
            [
             0.7,
             "#b8e186"
            ],
            [
             0.8,
             "#7fbc41"
            ],
            [
             0.9,
             "#4d9221"
            ],
            [
             1,
             "#276419"
            ]
           ],
           "sequential": [
            [
             0,
             "#0d0887"
            ],
            [
             0.1111111111111111,
             "#46039f"
            ],
            [
             0.2222222222222222,
             "#7201a8"
            ],
            [
             0.3333333333333333,
             "#9c179e"
            ],
            [
             0.4444444444444444,
             "#bd3786"
            ],
            [
             0.5555555555555556,
             "#d8576b"
            ],
            [
             0.6666666666666666,
             "#ed7953"
            ],
            [
             0.7777777777777778,
             "#fb9f3a"
            ],
            [
             0.8888888888888888,
             "#fdca26"
            ],
            [
             1,
             "#f0f921"
            ]
           ],
           "sequentialminus": [
            [
             0,
             "#0d0887"
            ],
            [
             0.1111111111111111,
             "#46039f"
            ],
            [
             0.2222222222222222,
             "#7201a8"
            ],
            [
             0.3333333333333333,
             "#9c179e"
            ],
            [
             0.4444444444444444,
             "#bd3786"
            ],
            [
             0.5555555555555556,
             "#d8576b"
            ],
            [
             0.6666666666666666,
             "#ed7953"
            ],
            [
             0.7777777777777778,
             "#fb9f3a"
            ],
            [
             0.8888888888888888,
             "#fdca26"
            ],
            [
             1,
             "#f0f921"
            ]
           ]
          },
          "colorway": [
           "#636efa",
           "#EF553B",
           "#00cc96",
           "#ab63fa",
           "#FFA15A",
           "#19d3f3",
           "#FF6692",
           "#B6E880",
           "#FF97FF",
           "#FECB52"
          ],
          "font": {
           "color": "#2a3f5f"
          },
          "geo": {
           "bgcolor": "white",
           "lakecolor": "white",
           "landcolor": "#E5ECF6",
           "showlakes": true,
           "showland": true,
           "subunitcolor": "white"
          },
          "hoverlabel": {
           "align": "left"
          },
          "hovermode": "closest",
          "mapbox": {
           "style": "light"
          },
          "paper_bgcolor": "white",
          "plot_bgcolor": "#E5ECF6",
          "polar": {
           "angularaxis": {
            "gridcolor": "white",
            "linecolor": "white",
            "ticks": ""
           },
           "bgcolor": "#E5ECF6",
           "radialaxis": {
            "gridcolor": "white",
            "linecolor": "white",
            "ticks": ""
           }
          },
          "scene": {
           "xaxis": {
            "backgroundcolor": "#E5ECF6",
            "gridcolor": "white",
            "gridwidth": 2,
            "linecolor": "white",
            "showbackground": true,
            "ticks": "",
            "zerolinecolor": "white"
           },
           "yaxis": {
            "backgroundcolor": "#E5ECF6",
            "gridcolor": "white",
            "gridwidth": 2,
            "linecolor": "white",
            "showbackground": true,
            "ticks": "",
            "zerolinecolor": "white"
           },
           "zaxis": {
            "backgroundcolor": "#E5ECF6",
            "gridcolor": "white",
            "gridwidth": 2,
            "linecolor": "white",
            "showbackground": true,
            "ticks": "",
            "zerolinecolor": "white"
           }
          },
          "shapedefaults": {
           "line": {
            "color": "#2a3f5f"
           }
          },
          "ternary": {
           "aaxis": {
            "gridcolor": "white",
            "linecolor": "white",
            "ticks": ""
           },
           "baxis": {
            "gridcolor": "white",
            "linecolor": "white",
            "ticks": ""
           },
           "bgcolor": "#E5ECF6",
           "caxis": {
            "gridcolor": "white",
            "linecolor": "white",
            "ticks": ""
           }
          },
          "title": {
           "x": 0.05
          },
          "xaxis": {
           "automargin": true,
           "gridcolor": "white",
           "linecolor": "white",
           "ticks": "",
           "title": {
            "standoff": 15
           },
           "zerolinecolor": "white",
           "zerolinewidth": 2
          },
          "yaxis": {
           "automargin": true,
           "gridcolor": "white",
           "linecolor": "white",
           "ticks": "",
           "title": {
            "standoff": 15
           },
           "zerolinecolor": "white",
           "zerolinewidth": 2
          }
         }
        },
        "title": {
         "font": {
          "color": "#4D5663"
         }
        },
        "xaxis": {
         "gridcolor": "#E1E5ED",
         "showgrid": true,
         "tickfont": {
          "color": "#4D5663"
         },
         "title": {
          "font": {
           "color": "#4D5663"
          },
          "text": ""
         },
         "zerolinecolor": "#E1E5ED"
        },
        "yaxis": {
         "gridcolor": "#E1E5ED",
         "showgrid": true,
         "tickfont": {
          "color": "#4D5663"
         },
         "title": {
          "font": {
           "color": "#4D5663"
          },
          "text": ""
         },
         "zerolinecolor": "#E1E5ED"
        }
       }
      },
      "text/html": "<div>                            <div id=\"28cf1d14-7c63-4254-90f2-21b70fad893f\" class=\"plotly-graph-div\" style=\"height:525px; width:100%;\"></div>            <script type=\"text/javascript\">                require([\"plotly\"], function(Plotly) {                    window.PLOTLYENV=window.PLOTLYENV || {};\n                    window.PLOTLYENV.BASE_URL='https://plot.ly';                                    if (document.getElementById(\"28cf1d14-7c63-4254-90f2-21b70fad893f\")) {                    Plotly.newPlot(                        \"28cf1d14-7c63-4254-90f2-21b70fad893f\",                        [{\"boxpoints\": false, \"line\": {\"width\": 1.3}, \"marker\": {\"color\": \"rgba(255, 153, 51, 1.0)\"}, \"name\": \"A\", \"orientation\": \"v\", \"type\": \"box\", \"y\": [-3.1903388189260506, 0.23396036411163004, 1.1589655786036386, -0.48300006152562525, -1.5103337587243804, -0.5044248859027471, 1.182281645215199, 0.42006775240638894, -0.8810298974091847, 0.5039382873693414, -0.731266004129346, 0.0638361921822204, -1.0652754263641049, -0.9041076466885405, -0.9048795324169541, -0.7972587761240022, -0.3675670471291356, 0.28082146701438343, -0.08633039339250868, 0.040217153150704704, -0.6690624158655928, 1.2627520886852726, 0.8930334427555254, -0.5720828983632429, -0.10829789239054843, 0.40614750365984825, -1.103865178801149, -0.8121010383177608, 0.10072184675344648, -0.5769169489648015, -1.064607754248978, 0.2803088090050602, 0.27784983531770807, -0.41074940453263725, 0.5858394974501357, -1.1873780187790168, -1.3497579113052596, 1.255295743570665, -0.6927268600950082, -0.36127203424382964, -0.34463610823926666, -1.2009964413381025, 1.3923569898979733, 0.7787889527113488, 1.8663933162193367, -0.7896518608815303, 0.8604392983684553, 0.5735613938299836, -1.2802106717549009, 0.44164511860901834, -1.1744289444226033, -6.0149059195747345e-06, -0.6467481917357054, 1.2327214192099953, -0.28623017443738186, -1.7412710235687312, -0.9758958392945769, 1.600310178717572, -0.6658748622479977, 0.36105544712213045, 1.2539490446516994, 1.0583809422068344, -0.597617455493197, -0.45722923476382665, -1.2684784915115794, -0.9644190323469388, -0.8772580574236023, 0.085838476310741, 0.48674958148652886, 0.9676561629391955, -2.13767913287318, -2.955837736363831, -1.7764340900302908, 1.272615789302066, -0.37425080144249273, 1.026973987239565, 2.100477946764772, -0.9807225547579596, -0.7533250886156038, -0.03650463249437804, 0.3529513644456242, -1.3607833800573281, -1.7417396477441502, -1.2994294895974514, 0.32077583616185623, -0.4244455156618559, 0.8905320772769698, -1.3186547947430771, 0.12166001368478756, -1.2191124444406027, 0.24654677954656246, -0.2623982371892286, 0.2624213780227509, 0.09375602776369371, -0.8396352448027719, -0.5553431002419489, -0.06731001731720351, -0.49821737363514945, 2.474916165429662, -1.6424571327832522]}, {\"boxpoints\": false, \"line\": {\"width\": 1.3}, \"marker\": {\"color\": \"rgba(55, 128, 191, 1.0)\"}, \"name\": \"B\", \"orientation\": \"v\", \"type\": \"box\", \"y\": [-0.3643496606765255, 0.026742083793018775, 0.3584549394564874, -0.15087399036258875, 0.7692264311391451, -0.9607394936456178, 1.099364393084451, 2.0413594007607077, -0.9589429120315346, -1.0151262656536937, -2.7705342521888636, 0.04519916765724038, -1.0324039775286689, 0.21166535206455778, 0.9519171224472974, -0.8073326446901398, -0.11985422234986415, -0.1234321641152109, 0.9187427563080505, -1.5763765046502152, 0.48951503176455424, -0.278969609256558, -0.3648383818684051, -0.007140551384771878, 0.824952324575092, 1.012484922632672, 0.5845377044183931, -1.2711783578576223, -0.36902106237264026, 0.012682393985313328, 0.3374744579584474, 1.0374153302021154, 0.8674581281533991, 0.49520661962696927, -0.2181122070140142, -0.4198441589123327, -0.22085215002039907, -0.14099689419147918, -0.9772412761380672, -0.9091883734093862, -1.5686850852517986, 0.12633424708785124, 0.4249983112725074, -0.15071571160517683, -0.8190528021055005, -0.5843142509340462, 1.009127911825222, -0.2532746339494671, 0.8382486387582775, 0.2987780822239634, -0.42940441705743443, 0.12942894672747557, -0.3784668801032414, -0.36623302074540903, 1.9636781681839237, -0.694293703929343, 0.18243687176223544, 0.44970065303344275, -0.5585085694844554, 0.5781469849286903, -1.478679342255676, -2.2017812855469296, -0.22766449165792724, -0.9850956709230758, 0.06535721379319329, 1.6247637881367891, 0.9388172664094236, 0.5604816763327075, 0.2297458405763916, 0.5705488391936526, -0.5429901589467797, -1.4375484759630257, 1.149625790934575, -1.8706089909902677, 0.6574935076546705, 0.3922469509849665, -0.3283399439671376, -0.7082986794613881, -1.3012155638305742, -0.47344112138941563, 0.025524978856013302, -0.6078471413136215, 0.6221060033789865, -0.8425812105486945, -1.9731018326838081, -2.085182182082291, 0.7211728722787665, 1.5764475887837608, 0.17856892843054062, 0.09394500672765961, -0.838783815812583, -2.0640038711962796, 0.07541148221711562, 0.011988483697282544, 1.156875251344672, -0.32642331073805275, -1.0002773938460705, -0.409558017985458, -1.6432367398217418, -1.458768728092791]}, {\"boxpoints\": false, \"line\": {\"width\": 1.3}, \"marker\": {\"color\": \"rgba(50, 171, 96, 1.0)\"}, \"name\": \"C\", \"orientation\": \"v\", \"type\": \"box\", \"y\": [-1.1186463499542998, 1.2677912975381758, 0.36076316284766746, -0.594562609277583, -0.4685633922208175, -0.7414270275053735, -1.2620028022058527, -0.2633575322313773, -0.13705740516672574, -0.6779505642675806, -0.2026716055278497, 1.6258578058108586, 0.24708350229743825, 0.6924231043760657, -1.5136756150318582, 0.18387379001212456, -1.0758932407544046, -1.1277833413495375, -0.09007994172368866, 1.7438241639662895, 0.17877381008658313, 0.21997679671829612, 0.43375237351717855, -0.57839905502642, 0.34209577444414135, -0.26366532914873114, 1.0700940451035175, -0.9512143375191747, -0.6850989671874386, 0.21183117412430214, -0.4104742967296816, -1.0890895555885556, 0.36987011373475775, -1.0232701308222056, 0.044981104707034446, -0.0824754843912133, 2.092860328910299, 2.8344786758836196, 0.260552308604172, -0.2458360898438423, -1.2257665509409992, -1.1316510511315512, 0.32548178557719026, 0.6763374540496877, 0.6183684289996768, 0.22458715291167278, -0.10773707471439793, 0.14631716285290056, -0.25856157950527603, 0.3949298005054963, 0.014701924255192494, 0.04254310141261005, -0.3038555542985175, 1.3746376476163982, -1.0525689185942786, 1.8677556254708725, -0.9544443715719576, 0.6250657420707972, -0.6597264515616512, 1.2000128640230874, -1.921474505487477, 0.10359809264203092, 0.14030400767650186, -0.24415105688321234, 0.09908985392907203, 0.11762629422038864, -0.40161956844729146, -0.32560451956022274, -0.2742954646454567, 0.7033588244428957, 1.044708085637379, 1.3432802304882736, -0.48809055516302796, -0.40759577124501833, -0.23367711063773317, 1.0357161154696715, -2.035454205328424, -0.3275881726844608, -0.5365535854449085, 0.5715003149914503, 0.7005392956847408, -0.6098133766978422, 0.13932592576040911, -0.7696519088160988, -0.756068093698991, -2.6222547596454278, -0.47657293861878464, 1.1639948628729075, -1.4642275879391387, -0.38596602153173, -0.5421683648952816, 0.10309907483896115, 0.2639944083236471, 0.09410435510004495, -0.6567099939622915, -0.2203570095662532, -1.881779224440967, 0.41613232309439224, 0.7655415853330867, -1.4245542342590862]}, {\"boxpoints\": false, \"line\": {\"width\": 1.3}, \"marker\": {\"color\": \"rgba(128, 0, 128, 1.0)\"}, \"name\": \"D\", \"orientation\": \"v\", \"type\": \"box\", \"y\": [-0.6489732176465235, -0.41469620685869946, -0.7371821797185605, -0.9768777099594689, -0.22711856500745847, 2.54026166785655, 0.15537859565815373, -0.9775530087225272, 2.1618950609150063, -1.62519664198678, 0.21236468315567575, 1.3459918522282894, 0.08370362006998518, 0.7394987862241378, 0.6539134662590035, -0.7086034819362234, 1.6417074272652397, 0.8369405076533828, -0.1704799982098994, -0.6549938398194295, -0.5483941513527122, -1.0447976323516879, -0.8018209373504784, 0.9465864367131726, 0.6825721074052299, 0.7887445296778326, -0.07546641130273239, 0.9536526696779729, 0.4438010796827428, -2.2370489036955785, -0.6698273819555984, 0.20635471129522778, 2.6020926738257306, 1.0709247935134785, 0.32384649714279573, 0.09885999146630725, -2.619846279753586, -0.46368625253882917, 1.8712323092911936, 0.05486969328773147, -1.1935146053370786, -0.16610251307721524, 0.6384990529938278, 1.4038901310185594, -0.27245345648714625, 0.6216184998596498, -1.2889792680352745, 0.3087510888991206, 0.7360554150652998, -0.5165922648054353, 1.3395981597477955, -0.5252602248023504, 0.6099177946814479, -1.0996073656442549, 2.8542098952108206, -0.8285294637490741, -0.11911381103015203, -1.2557955685428008, 0.20494733090020398, 1.447145307689846, -0.10189582644921229, -2.340645851858345, 0.905048221674501, -3.2847949833595678, 1.1954851366552612, -0.5849358200331003, 0.30759900650876176, -1.4237600566252469, 1.156013455755697, -1.4013371187352321, -1.1940724679311008, 0.6717037121348988, 0.29877179423852096, 0.0735572848097489, -0.9995298211801902, -0.7382077941967837, -0.8081365209550897, 0.2597666777870895, 0.7055084707601808, -2.0317763614359197, 1.0858361132082317, 0.2245567699104668, 0.19531027958986188, 1.7143659929154766, -0.07210747828589123, 0.6727003522455439, -0.10537352910610093, 1.4134671690171892, 0.6044508884083378, 1.0463998481695964, 0.04921068006225297, -0.5367797534585702, -0.4983033200797242, 1.6722949355998922, 0.5433310212695938, -0.31371004745330844, 0.6080594834764896, 0.05958357598335059, -0.9994953363575223, 0.3057815249245013]}],                        {\"legend\": {\"bgcolor\": \"#F5F6F9\", \"font\": {\"color\": \"#4D5663\"}}, \"paper_bgcolor\": \"#F5F6F9\", \"plot_bgcolor\": \"#F5F6F9\", \"template\": {\"data\": {\"bar\": [{\"error_x\": {\"color\": \"#2a3f5f\"}, \"error_y\": {\"color\": \"#2a3f5f\"}, \"marker\": {\"line\": {\"color\": \"#E5ECF6\", \"width\": 0.5}}, \"type\": \"bar\"}], \"barpolar\": [{\"marker\": {\"line\": {\"color\": \"#E5ECF6\", \"width\": 0.5}}, \"type\": \"barpolar\"}], \"carpet\": [{\"aaxis\": {\"endlinecolor\": \"#2a3f5f\", \"gridcolor\": \"white\", \"linecolor\": \"white\", \"minorgridcolor\": \"white\", \"startlinecolor\": \"#2a3f5f\"}, \"baxis\": {\"endlinecolor\": \"#2a3f5f\", \"gridcolor\": \"white\", \"linecolor\": \"white\", \"minorgridcolor\": \"white\", \"startlinecolor\": \"#2a3f5f\"}, \"type\": \"carpet\"}], \"choropleth\": [{\"colorbar\": {\"outlinewidth\": 0, \"ticks\": \"\"}, \"type\": \"choropleth\"}], \"contour\": [{\"colorbar\": {\"outlinewidth\": 0, \"ticks\": \"\"}, \"colorscale\": [[0.0, \"#0d0887\"], [0.1111111111111111, \"#46039f\"], [0.2222222222222222, \"#7201a8\"], [0.3333333333333333, \"#9c179e\"], [0.4444444444444444, \"#bd3786\"], [0.5555555555555556, \"#d8576b\"], [0.6666666666666666, \"#ed7953\"], [0.7777777777777778, \"#fb9f3a\"], [0.8888888888888888, \"#fdca26\"], [1.0, \"#f0f921\"]], \"type\": \"contour\"}], \"contourcarpet\": [{\"colorbar\": {\"outlinewidth\": 0, \"ticks\": \"\"}, \"type\": \"contourcarpet\"}], \"heatmap\": [{\"colorbar\": {\"outlinewidth\": 0, \"ticks\": \"\"}, \"colorscale\": [[0.0, \"#0d0887\"], [0.1111111111111111, \"#46039f\"], [0.2222222222222222, \"#7201a8\"], [0.3333333333333333, \"#9c179e\"], [0.4444444444444444, \"#bd3786\"], [0.5555555555555556, \"#d8576b\"], [0.6666666666666666, \"#ed7953\"], [0.7777777777777778, \"#fb9f3a\"], [0.8888888888888888, \"#fdca26\"], [1.0, \"#f0f921\"]], \"type\": \"heatmap\"}], \"heatmapgl\": [{\"colorbar\": {\"outlinewidth\": 0, \"ticks\": \"\"}, \"colorscale\": [[0.0, \"#0d0887\"], [0.1111111111111111, \"#46039f\"], [0.2222222222222222, \"#7201a8\"], [0.3333333333333333, \"#9c179e\"], [0.4444444444444444, \"#bd3786\"], [0.5555555555555556, \"#d8576b\"], [0.6666666666666666, \"#ed7953\"], [0.7777777777777778, \"#fb9f3a\"], [0.8888888888888888, \"#fdca26\"], [1.0, \"#f0f921\"]], \"type\": \"heatmapgl\"}], \"histogram\": [{\"marker\": {\"colorbar\": {\"outlinewidth\": 0, \"ticks\": \"\"}}, \"type\": \"histogram\"}], \"histogram2d\": [{\"colorbar\": {\"outlinewidth\": 0, \"ticks\": \"\"}, \"colorscale\": [[0.0, \"#0d0887\"], [0.1111111111111111, \"#46039f\"], [0.2222222222222222, \"#7201a8\"], [0.3333333333333333, \"#9c179e\"], [0.4444444444444444, \"#bd3786\"], [0.5555555555555556, \"#d8576b\"], [0.6666666666666666, \"#ed7953\"], [0.7777777777777778, \"#fb9f3a\"], [0.8888888888888888, \"#fdca26\"], [1.0, \"#f0f921\"]], \"type\": \"histogram2d\"}], \"histogram2dcontour\": [{\"colorbar\": {\"outlinewidth\": 0, \"ticks\": \"\"}, \"colorscale\": [[0.0, \"#0d0887\"], [0.1111111111111111, \"#46039f\"], [0.2222222222222222, \"#7201a8\"], [0.3333333333333333, \"#9c179e\"], [0.4444444444444444, \"#bd3786\"], [0.5555555555555556, \"#d8576b\"], [0.6666666666666666, \"#ed7953\"], [0.7777777777777778, \"#fb9f3a\"], [0.8888888888888888, \"#fdca26\"], [1.0, \"#f0f921\"]], \"type\": \"histogram2dcontour\"}], \"mesh3d\": [{\"colorbar\": {\"outlinewidth\": 0, \"ticks\": \"\"}, \"type\": \"mesh3d\"}], \"parcoords\": [{\"line\": {\"colorbar\": {\"outlinewidth\": 0, \"ticks\": \"\"}}, \"type\": \"parcoords\"}], \"pie\": [{\"automargin\": true, \"type\": \"pie\"}], \"scatter\": [{\"marker\": {\"colorbar\": {\"outlinewidth\": 0, \"ticks\": \"\"}}, \"type\": \"scatter\"}], \"scatter3d\": [{\"line\": {\"colorbar\": {\"outlinewidth\": 0, \"ticks\": \"\"}}, \"marker\": {\"colorbar\": {\"outlinewidth\": 0, \"ticks\": \"\"}}, \"type\": \"scatter3d\"}], \"scattercarpet\": [{\"marker\": {\"colorbar\": {\"outlinewidth\": 0, \"ticks\": \"\"}}, \"type\": \"scattercarpet\"}], \"scattergeo\": [{\"marker\": {\"colorbar\": {\"outlinewidth\": 0, \"ticks\": \"\"}}, \"type\": \"scattergeo\"}], \"scattergl\": [{\"marker\": {\"colorbar\": {\"outlinewidth\": 0, \"ticks\": \"\"}}, \"type\": \"scattergl\"}], \"scattermapbox\": [{\"marker\": {\"colorbar\": {\"outlinewidth\": 0, \"ticks\": \"\"}}, \"type\": \"scattermapbox\"}], \"scatterpolar\": [{\"marker\": {\"colorbar\": {\"outlinewidth\": 0, \"ticks\": \"\"}}, \"type\": \"scatterpolar\"}], \"scatterpolargl\": [{\"marker\": {\"colorbar\": {\"outlinewidth\": 0, \"ticks\": \"\"}}, \"type\": \"scatterpolargl\"}], \"scatterternary\": [{\"marker\": {\"colorbar\": {\"outlinewidth\": 0, \"ticks\": \"\"}}, \"type\": \"scatterternary\"}], \"surface\": [{\"colorbar\": {\"outlinewidth\": 0, \"ticks\": \"\"}, \"colorscale\": [[0.0, \"#0d0887\"], [0.1111111111111111, \"#46039f\"], [0.2222222222222222, \"#7201a8\"], [0.3333333333333333, \"#9c179e\"], [0.4444444444444444, \"#bd3786\"], [0.5555555555555556, \"#d8576b\"], [0.6666666666666666, \"#ed7953\"], [0.7777777777777778, \"#fb9f3a\"], [0.8888888888888888, \"#fdca26\"], [1.0, \"#f0f921\"]], \"type\": \"surface\"}], \"table\": [{\"cells\": {\"fill\": {\"color\": \"#EBF0F8\"}, \"line\": {\"color\": \"white\"}}, \"header\": {\"fill\": {\"color\": \"#C8D4E3\"}, \"line\": {\"color\": \"white\"}}, \"type\": \"table\"}]}, \"layout\": {\"annotationdefaults\": {\"arrowcolor\": \"#2a3f5f\", \"arrowhead\": 0, \"arrowwidth\": 1}, \"coloraxis\": {\"colorbar\": {\"outlinewidth\": 0, \"ticks\": \"\"}}, \"colorscale\": {\"diverging\": [[0, \"#8e0152\"], [0.1, \"#c51b7d\"], [0.2, \"#de77ae\"], [0.3, \"#f1b6da\"], [0.4, \"#fde0ef\"], [0.5, \"#f7f7f7\"], [0.6, \"#e6f5d0\"], [0.7, \"#b8e186\"], [0.8, \"#7fbc41\"], [0.9, \"#4d9221\"], [1, \"#276419\"]], \"sequential\": [[0.0, \"#0d0887\"], [0.1111111111111111, \"#46039f\"], [0.2222222222222222, \"#7201a8\"], [0.3333333333333333, \"#9c179e\"], [0.4444444444444444, \"#bd3786\"], [0.5555555555555556, \"#d8576b\"], [0.6666666666666666, \"#ed7953\"], [0.7777777777777778, \"#fb9f3a\"], [0.8888888888888888, \"#fdca26\"], [1.0, \"#f0f921\"]], \"sequentialminus\": [[0.0, \"#0d0887\"], [0.1111111111111111, \"#46039f\"], [0.2222222222222222, \"#7201a8\"], [0.3333333333333333, \"#9c179e\"], [0.4444444444444444, \"#bd3786\"], [0.5555555555555556, \"#d8576b\"], [0.6666666666666666, \"#ed7953\"], [0.7777777777777778, \"#fb9f3a\"], [0.8888888888888888, \"#fdca26\"], [1.0, \"#f0f921\"]]}, \"colorway\": [\"#636efa\", \"#EF553B\", \"#00cc96\", \"#ab63fa\", \"#FFA15A\", \"#19d3f3\", \"#FF6692\", \"#B6E880\", \"#FF97FF\", \"#FECB52\"], \"font\": {\"color\": \"#2a3f5f\"}, \"geo\": {\"bgcolor\": \"white\", \"lakecolor\": \"white\", \"landcolor\": \"#E5ECF6\", \"showlakes\": true, \"showland\": true, \"subunitcolor\": \"white\"}, \"hoverlabel\": {\"align\": \"left\"}, \"hovermode\": \"closest\", \"mapbox\": {\"style\": \"light\"}, \"paper_bgcolor\": \"white\", \"plot_bgcolor\": \"#E5ECF6\", \"polar\": {\"angularaxis\": {\"gridcolor\": \"white\", \"linecolor\": \"white\", \"ticks\": \"\"}, \"bgcolor\": \"#E5ECF6\", \"radialaxis\": {\"gridcolor\": \"white\", \"linecolor\": \"white\", \"ticks\": \"\"}}, \"scene\": {\"xaxis\": {\"backgroundcolor\": \"#E5ECF6\", \"gridcolor\": \"white\", \"gridwidth\": 2, \"linecolor\": \"white\", \"showbackground\": true, \"ticks\": \"\", \"zerolinecolor\": \"white\"}, \"yaxis\": {\"backgroundcolor\": \"#E5ECF6\", \"gridcolor\": \"white\", \"gridwidth\": 2, \"linecolor\": \"white\", \"showbackground\": true, \"ticks\": \"\", \"zerolinecolor\": \"white\"}, \"zaxis\": {\"backgroundcolor\": \"#E5ECF6\", \"gridcolor\": \"white\", \"gridwidth\": 2, \"linecolor\": \"white\", \"showbackground\": true, \"ticks\": \"\", \"zerolinecolor\": \"white\"}}, \"shapedefaults\": {\"line\": {\"color\": \"#2a3f5f\"}}, \"ternary\": {\"aaxis\": {\"gridcolor\": \"white\", \"linecolor\": \"white\", \"ticks\": \"\"}, \"baxis\": {\"gridcolor\": \"white\", \"linecolor\": \"white\", \"ticks\": \"\"}, \"bgcolor\": \"#E5ECF6\", \"caxis\": {\"gridcolor\": \"white\", \"linecolor\": \"white\", \"ticks\": \"\"}}, \"title\": {\"x\": 0.05}, \"xaxis\": {\"automargin\": true, \"gridcolor\": \"white\", \"linecolor\": \"white\", \"ticks\": \"\", \"title\": {\"standoff\": 15}, \"zerolinecolor\": \"white\", \"zerolinewidth\": 2}, \"yaxis\": {\"automargin\": true, \"gridcolor\": \"white\", \"linecolor\": \"white\", \"ticks\": \"\", \"title\": {\"standoff\": 15}, \"zerolinecolor\": \"white\", \"zerolinewidth\": 2}}}, \"title\": {\"font\": {\"color\": \"#4D5663\"}}, \"xaxis\": {\"gridcolor\": \"#E1E5ED\", \"showgrid\": true, \"tickfont\": {\"color\": \"#4D5663\"}, \"title\": {\"font\": {\"color\": \"#4D5663\"}, \"text\": \"\"}, \"zerolinecolor\": \"#E1E5ED\"}, \"yaxis\": {\"gridcolor\": \"#E1E5ED\", \"showgrid\": true, \"tickfont\": {\"color\": \"#4D5663\"}, \"title\": {\"font\": {\"color\": \"#4D5663\"}, \"text\": \"\"}, \"zerolinecolor\": \"#E1E5ED\"}},                        {\"showLink\": true, \"linkText\": \"Export to plot.ly\", \"plotlyServerURL\": \"https://plot.ly\", \"responsive\": true}                    ).then(function(){\n                            \nvar gd = document.getElementById('28cf1d14-7c63-4254-90f2-21b70fad893f');\nvar x = new MutationObserver(function (mutations, observer) {{\n        var display = window.getComputedStyle(gd).display;\n        if (!display || display === 'none') {{\n            console.log([gd, 'removed!']);\n            Plotly.purge(gd);\n            observer.disconnect();\n        }}\n}});\n\n// Listen for the removal of the full notebook cells\nvar notebookContainer = gd.closest('#notebook-container');\nif (notebookContainer) {{\n    x.observe(notebookContainer, {childList: true});\n}}\n\n// Listen for the clearing of the current output cell\nvar outputEl = gd.closest('.output');\nif (outputEl) {{\n    x.observe(outputEl, {childList: true});\n}}\n\n                        })                };                });            </script>        </div>"
     },
     "metadata": {}
    }
   ],
   "source": [
    "# automatically aggregate around distribution\n",
    "df.iplot(kind='box')"
   ]
  },
  {
   "source": [
    "## 3d Surface"
   ],
   "cell_type": "markdown",
   "metadata": {}
  },
  {
   "cell_type": "code",
   "execution_count": 13,
   "metadata": {},
   "outputs": [],
   "source": [
    "df3 = pd.DataFrame({'x':[1,2,3,4,5],'y':[10,20,30,20,10],'z':[5,4,3,2,1]})"
   ]
  },
  {
   "cell_type": "code",
   "execution_count": 14,
   "metadata": {},
   "outputs": [
    {
     "output_type": "display_data",
     "data": {
      "application/vnd.plotly.v1+json": {
       "config": {
        "linkText": "Export to plot.ly",
        "plotlyServerURL": "https://plot.ly",
        "showLink": true
       },
       "data": [
        {
         "colorscale": [
          [
           0,
           "rgb(165,0,38)"
          ],
          [
           0.1,
           "rgb(215,48,39)"
          ],
          [
           0.2,
           "rgb(244,109,67)"
          ],
          [
           0.3,
           "rgb(253,174,97)"
          ],
          [
           0.4,
           "rgb(254,224,144)"
          ],
          [
           0.5,
           "rgb(255,255,191)"
          ],
          [
           0.6,
           "rgb(224,243,248)"
          ],
          [
           0.7,
           "rgb(171,217,233)"
          ],
          [
           0.8,
           "rgb(116,173,209)"
          ],
          [
           0.9,
           "rgb(69,117,180)"
          ],
          [
           1,
           "rgb(49,54,149)"
          ]
         ],
         "type": "surface",
         "x": [
          0,
          1,
          2,
          3,
          4
         ],
         "y": [
          "x",
          "y",
          "z"
         ],
         "z": [
          [
           1,
           2,
           3,
           4,
           5
          ],
          [
           10,
           20,
           30,
           20,
           10
          ],
          [
           5,
           4,
           3,
           2,
           1
          ]
         ]
        }
       ],
       "layout": {
        "legend": {
         "bgcolor": "#F5F6F9",
         "font": {
          "color": "#4D5663"
         }
        },
        "paper_bgcolor": "#F5F6F9",
        "plot_bgcolor": "#F5F6F9",
        "template": {
         "data": {
          "bar": [
           {
            "error_x": {
             "color": "#2a3f5f"
            },
            "error_y": {
             "color": "#2a3f5f"
            },
            "marker": {
             "line": {
              "color": "#E5ECF6",
              "width": 0.5
             }
            },
            "type": "bar"
           }
          ],
          "barpolar": [
           {
            "marker": {
             "line": {
              "color": "#E5ECF6",
              "width": 0.5
             }
            },
            "type": "barpolar"
           }
          ],
          "carpet": [
           {
            "aaxis": {
             "endlinecolor": "#2a3f5f",
             "gridcolor": "white",
             "linecolor": "white",
             "minorgridcolor": "white",
             "startlinecolor": "#2a3f5f"
            },
            "baxis": {
             "endlinecolor": "#2a3f5f",
             "gridcolor": "white",
             "linecolor": "white",
             "minorgridcolor": "white",
             "startlinecolor": "#2a3f5f"
            },
            "type": "carpet"
           }
          ],
          "choropleth": [
           {
            "colorbar": {
             "outlinewidth": 0,
             "ticks": ""
            },
            "type": "choropleth"
           }
          ],
          "contour": [
           {
            "colorbar": {
             "outlinewidth": 0,
             "ticks": ""
            },
            "colorscale": [
             [
              0,
              "#0d0887"
             ],
             [
              0.1111111111111111,
              "#46039f"
             ],
             [
              0.2222222222222222,
              "#7201a8"
             ],
             [
              0.3333333333333333,
              "#9c179e"
             ],
             [
              0.4444444444444444,
              "#bd3786"
             ],
             [
              0.5555555555555556,
              "#d8576b"
             ],
             [
              0.6666666666666666,
              "#ed7953"
             ],
             [
              0.7777777777777778,
              "#fb9f3a"
             ],
             [
              0.8888888888888888,
              "#fdca26"
             ],
             [
              1,
              "#f0f921"
             ]
            ],
            "type": "contour"
           }
          ],
          "contourcarpet": [
           {
            "colorbar": {
             "outlinewidth": 0,
             "ticks": ""
            },
            "type": "contourcarpet"
           }
          ],
          "heatmap": [
           {
            "colorbar": {
             "outlinewidth": 0,
             "ticks": ""
            },
            "colorscale": [
             [
              0,
              "#0d0887"
             ],
             [
              0.1111111111111111,
              "#46039f"
             ],
             [
              0.2222222222222222,
              "#7201a8"
             ],
             [
              0.3333333333333333,
              "#9c179e"
             ],
             [
              0.4444444444444444,
              "#bd3786"
             ],
             [
              0.5555555555555556,
              "#d8576b"
             ],
             [
              0.6666666666666666,
              "#ed7953"
             ],
             [
              0.7777777777777778,
              "#fb9f3a"
             ],
             [
              0.8888888888888888,
              "#fdca26"
             ],
             [
              1,
              "#f0f921"
             ]
            ],
            "type": "heatmap"
           }
          ],
          "heatmapgl": [
           {
            "colorbar": {
             "outlinewidth": 0,
             "ticks": ""
            },
            "colorscale": [
             [
              0,
              "#0d0887"
             ],
             [
              0.1111111111111111,
              "#46039f"
             ],
             [
              0.2222222222222222,
              "#7201a8"
             ],
             [
              0.3333333333333333,
              "#9c179e"
             ],
             [
              0.4444444444444444,
              "#bd3786"
             ],
             [
              0.5555555555555556,
              "#d8576b"
             ],
             [
              0.6666666666666666,
              "#ed7953"
             ],
             [
              0.7777777777777778,
              "#fb9f3a"
             ],
             [
              0.8888888888888888,
              "#fdca26"
             ],
             [
              1,
              "#f0f921"
             ]
            ],
            "type": "heatmapgl"
           }
          ],
          "histogram": [
           {
            "marker": {
             "colorbar": {
              "outlinewidth": 0,
              "ticks": ""
             }
            },
            "type": "histogram"
           }
          ],
          "histogram2d": [
           {
            "colorbar": {
             "outlinewidth": 0,
             "ticks": ""
            },
            "colorscale": [
             [
              0,
              "#0d0887"
             ],
             [
              0.1111111111111111,
              "#46039f"
             ],
             [
              0.2222222222222222,
              "#7201a8"
             ],
             [
              0.3333333333333333,
              "#9c179e"
             ],
             [
              0.4444444444444444,
              "#bd3786"
             ],
             [
              0.5555555555555556,
              "#d8576b"
             ],
             [
              0.6666666666666666,
              "#ed7953"
             ],
             [
              0.7777777777777778,
              "#fb9f3a"
             ],
             [
              0.8888888888888888,
              "#fdca26"
             ],
             [
              1,
              "#f0f921"
             ]
            ],
            "type": "histogram2d"
           }
          ],
          "histogram2dcontour": [
           {
            "colorbar": {
             "outlinewidth": 0,
             "ticks": ""
            },
            "colorscale": [
             [
              0,
              "#0d0887"
             ],
             [
              0.1111111111111111,
              "#46039f"
             ],
             [
              0.2222222222222222,
              "#7201a8"
             ],
             [
              0.3333333333333333,
              "#9c179e"
             ],
             [
              0.4444444444444444,
              "#bd3786"
             ],
             [
              0.5555555555555556,
              "#d8576b"
             ],
             [
              0.6666666666666666,
              "#ed7953"
             ],
             [
              0.7777777777777778,
              "#fb9f3a"
             ],
             [
              0.8888888888888888,
              "#fdca26"
             ],
             [
              1,
              "#f0f921"
             ]
            ],
            "type": "histogram2dcontour"
           }
          ],
          "mesh3d": [
           {
            "colorbar": {
             "outlinewidth": 0,
             "ticks": ""
            },
            "type": "mesh3d"
           }
          ],
          "parcoords": [
           {
            "line": {
             "colorbar": {
              "outlinewidth": 0,
              "ticks": ""
             }
            },
            "type": "parcoords"
           }
          ],
          "pie": [
           {
            "automargin": true,
            "type": "pie"
           }
          ],
          "scatter": [
           {
            "marker": {
             "colorbar": {
              "outlinewidth": 0,
              "ticks": ""
             }
            },
            "type": "scatter"
           }
          ],
          "scatter3d": [
           {
            "line": {
             "colorbar": {
              "outlinewidth": 0,
              "ticks": ""
             }
            },
            "marker": {
             "colorbar": {
              "outlinewidth": 0,
              "ticks": ""
             }
            },
            "type": "scatter3d"
           }
          ],
          "scattercarpet": [
           {
            "marker": {
             "colorbar": {
              "outlinewidth": 0,
              "ticks": ""
             }
            },
            "type": "scattercarpet"
           }
          ],
          "scattergeo": [
           {
            "marker": {
             "colorbar": {
              "outlinewidth": 0,
              "ticks": ""
             }
            },
            "type": "scattergeo"
           }
          ],
          "scattergl": [
           {
            "marker": {
             "colorbar": {
              "outlinewidth": 0,
              "ticks": ""
             }
            },
            "type": "scattergl"
           }
          ],
          "scattermapbox": [
           {
            "marker": {
             "colorbar": {
              "outlinewidth": 0,
              "ticks": ""
             }
            },
            "type": "scattermapbox"
           }
          ],
          "scatterpolar": [
           {
            "marker": {
             "colorbar": {
              "outlinewidth": 0,
              "ticks": ""
             }
            },
            "type": "scatterpolar"
           }
          ],
          "scatterpolargl": [
           {
            "marker": {
             "colorbar": {
              "outlinewidth": 0,
              "ticks": ""
             }
            },
            "type": "scatterpolargl"
           }
          ],
          "scatterternary": [
           {
            "marker": {
             "colorbar": {
              "outlinewidth": 0,
              "ticks": ""
             }
            },
            "type": "scatterternary"
           }
          ],
          "surface": [
           {
            "colorbar": {
             "outlinewidth": 0,
             "ticks": ""
            },
            "colorscale": [
             [
              0,
              "#0d0887"
             ],
             [
              0.1111111111111111,
              "#46039f"
             ],
             [
              0.2222222222222222,
              "#7201a8"
             ],
             [
              0.3333333333333333,
              "#9c179e"
             ],
             [
              0.4444444444444444,
              "#bd3786"
             ],
             [
              0.5555555555555556,
              "#d8576b"
             ],
             [
              0.6666666666666666,
              "#ed7953"
             ],
             [
              0.7777777777777778,
              "#fb9f3a"
             ],
             [
              0.8888888888888888,
              "#fdca26"
             ],
             [
              1,
              "#f0f921"
             ]
            ],
            "type": "surface"
           }
          ],
          "table": [
           {
            "cells": {
             "fill": {
              "color": "#EBF0F8"
             },
             "line": {
              "color": "white"
             }
            },
            "header": {
             "fill": {
              "color": "#C8D4E3"
             },
             "line": {
              "color": "white"
             }
            },
            "type": "table"
           }
          ]
         },
         "layout": {
          "annotationdefaults": {
           "arrowcolor": "#2a3f5f",
           "arrowhead": 0,
           "arrowwidth": 1
          },
          "coloraxis": {
           "colorbar": {
            "outlinewidth": 0,
            "ticks": ""
           }
          },
          "colorscale": {
           "diverging": [
            [
             0,
             "#8e0152"
            ],
            [
             0.1,
             "#c51b7d"
            ],
            [
             0.2,
             "#de77ae"
            ],
            [
             0.3,
             "#f1b6da"
            ],
            [
             0.4,
             "#fde0ef"
            ],
            [
             0.5,
             "#f7f7f7"
            ],
            [
             0.6,
             "#e6f5d0"
            ],
            [
             0.7,
             "#b8e186"
            ],
            [
             0.8,
             "#7fbc41"
            ],
            [
             0.9,
             "#4d9221"
            ],
            [
             1,
             "#276419"
            ]
           ],
           "sequential": [
            [
             0,
             "#0d0887"
            ],
            [
             0.1111111111111111,
             "#46039f"
            ],
            [
             0.2222222222222222,
             "#7201a8"
            ],
            [
             0.3333333333333333,
             "#9c179e"
            ],
            [
             0.4444444444444444,
             "#bd3786"
            ],
            [
             0.5555555555555556,
             "#d8576b"
            ],
            [
             0.6666666666666666,
             "#ed7953"
            ],
            [
             0.7777777777777778,
             "#fb9f3a"
            ],
            [
             0.8888888888888888,
             "#fdca26"
            ],
            [
             1,
             "#f0f921"
            ]
           ],
           "sequentialminus": [
            [
             0,
             "#0d0887"
            ],
            [
             0.1111111111111111,
             "#46039f"
            ],
            [
             0.2222222222222222,
             "#7201a8"
            ],
            [
             0.3333333333333333,
             "#9c179e"
            ],
            [
             0.4444444444444444,
             "#bd3786"
            ],
            [
             0.5555555555555556,
             "#d8576b"
            ],
            [
             0.6666666666666666,
             "#ed7953"
            ],
            [
             0.7777777777777778,
             "#fb9f3a"
            ],
            [
             0.8888888888888888,
             "#fdca26"
            ],
            [
             1,
             "#f0f921"
            ]
           ]
          },
          "colorway": [
           "#636efa",
           "#EF553B",
           "#00cc96",
           "#ab63fa",
           "#FFA15A",
           "#19d3f3",
           "#FF6692",
           "#B6E880",
           "#FF97FF",
           "#FECB52"
          ],
          "font": {
           "color": "#2a3f5f"
          },
          "geo": {
           "bgcolor": "white",
           "lakecolor": "white",
           "landcolor": "#E5ECF6",
           "showlakes": true,
           "showland": true,
           "subunitcolor": "white"
          },
          "hoverlabel": {
           "align": "left"
          },
          "hovermode": "closest",
          "mapbox": {
           "style": "light"
          },
          "paper_bgcolor": "white",
          "plot_bgcolor": "#E5ECF6",
          "polar": {
           "angularaxis": {
            "gridcolor": "white",
            "linecolor": "white",
            "ticks": ""
           },
           "bgcolor": "#E5ECF6",
           "radialaxis": {
            "gridcolor": "white",
            "linecolor": "white",
            "ticks": ""
           }
          },
          "scene": {
           "xaxis": {
            "backgroundcolor": "#E5ECF6",
            "gridcolor": "white",
            "gridwidth": 2,
            "linecolor": "white",
            "showbackground": true,
            "ticks": "",
            "zerolinecolor": "white"
           },
           "yaxis": {
            "backgroundcolor": "#E5ECF6",
            "gridcolor": "white",
            "gridwidth": 2,
            "linecolor": "white",
            "showbackground": true,
            "ticks": "",
            "zerolinecolor": "white"
           },
           "zaxis": {
            "backgroundcolor": "#E5ECF6",
            "gridcolor": "white",
            "gridwidth": 2,
            "linecolor": "white",
            "showbackground": true,
            "ticks": "",
            "zerolinecolor": "white"
           }
          },
          "shapedefaults": {
           "line": {
            "color": "#2a3f5f"
           }
          },
          "ternary": {
           "aaxis": {
            "gridcolor": "white",
            "linecolor": "white",
            "ticks": ""
           },
           "baxis": {
            "gridcolor": "white",
            "linecolor": "white",
            "ticks": ""
           },
           "bgcolor": "#E5ECF6",
           "caxis": {
            "gridcolor": "white",
            "linecolor": "white",
            "ticks": ""
           }
          },
          "title": {
           "x": 0.05
          },
          "xaxis": {
           "automargin": true,
           "gridcolor": "white",
           "linecolor": "white",
           "ticks": "",
           "title": {
            "standoff": 15
           },
           "zerolinecolor": "white",
           "zerolinewidth": 2
          },
          "yaxis": {
           "automargin": true,
           "gridcolor": "white",
           "linecolor": "white",
           "ticks": "",
           "title": {
            "standoff": 15
           },
           "zerolinecolor": "white",
           "zerolinewidth": 2
          }
         }
        },
        "title": {
         "font": {
          "color": "#4D5663"
         }
        },
        "xaxis": {
         "gridcolor": "#E1E5ED",
         "showgrid": true,
         "tickfont": {
          "color": "#4D5663"
         },
         "title": {
          "font": {
           "color": "#4D5663"
          },
          "text": ""
         },
         "zerolinecolor": "#E1E5ED"
        },
        "yaxis": {
         "gridcolor": "#E1E5ED",
         "showgrid": true,
         "tickfont": {
          "color": "#4D5663"
         },
         "title": {
          "font": {
           "color": "#4D5663"
          },
          "text": ""
         },
         "zerolinecolor": "#E1E5ED"
        }
       }
      },
      "text/html": "<div>                            <div id=\"76b89ae4-5852-408a-9986-96447f9af8f9\" class=\"plotly-graph-div\" style=\"height:525px; width:100%;\"></div>            <script type=\"text/javascript\">                require([\"plotly\"], function(Plotly) {                    window.PLOTLYENV=window.PLOTLYENV || {};\n                    window.PLOTLYENV.BASE_URL='https://plot.ly';                                    if (document.getElementById(\"76b89ae4-5852-408a-9986-96447f9af8f9\")) {                    Plotly.newPlot(                        \"76b89ae4-5852-408a-9986-96447f9af8f9\",                        [{\"colorscale\": [[0.0, \"rgb(165,0,38)\"], [0.1, \"rgb(215,48,39)\"], [0.2, \"rgb(244,109,67)\"], [0.3, \"rgb(253,174,97)\"], [0.4, \"rgb(254,224,144)\"], [0.5, \"rgb(255,255,191)\"], [0.6, \"rgb(224,243,248)\"], [0.7, \"rgb(171,217,233)\"], [0.8, \"rgb(116,173,209)\"], [0.9, \"rgb(69,117,180)\"], [1.0, \"rgb(49,54,149)\"]], \"type\": \"surface\", \"x\": [0, 1, 2, 3, 4], \"y\": [\"x\", \"y\", \"z\"], \"z\": [[1, 2, 3, 4, 5], [10, 20, 30, 20, 10], [5, 4, 3, 2, 1]]}],                        {\"legend\": {\"bgcolor\": \"#F5F6F9\", \"font\": {\"color\": \"#4D5663\"}}, \"paper_bgcolor\": \"#F5F6F9\", \"plot_bgcolor\": \"#F5F6F9\", \"template\": {\"data\": {\"bar\": [{\"error_x\": {\"color\": \"#2a3f5f\"}, \"error_y\": {\"color\": \"#2a3f5f\"}, \"marker\": {\"line\": {\"color\": \"#E5ECF6\", \"width\": 0.5}}, \"type\": \"bar\"}], \"barpolar\": [{\"marker\": {\"line\": {\"color\": \"#E5ECF6\", \"width\": 0.5}}, \"type\": \"barpolar\"}], \"carpet\": [{\"aaxis\": {\"endlinecolor\": \"#2a3f5f\", \"gridcolor\": \"white\", \"linecolor\": \"white\", \"minorgridcolor\": \"white\", \"startlinecolor\": \"#2a3f5f\"}, \"baxis\": {\"endlinecolor\": \"#2a3f5f\", \"gridcolor\": \"white\", \"linecolor\": \"white\", \"minorgridcolor\": \"white\", \"startlinecolor\": \"#2a3f5f\"}, \"type\": \"carpet\"}], \"choropleth\": [{\"colorbar\": {\"outlinewidth\": 0, \"ticks\": \"\"}, \"type\": \"choropleth\"}], \"contour\": [{\"colorbar\": {\"outlinewidth\": 0, \"ticks\": \"\"}, \"colorscale\": [[0.0, \"#0d0887\"], [0.1111111111111111, \"#46039f\"], [0.2222222222222222, \"#7201a8\"], [0.3333333333333333, \"#9c179e\"], [0.4444444444444444, \"#bd3786\"], [0.5555555555555556, \"#d8576b\"], [0.6666666666666666, \"#ed7953\"], [0.7777777777777778, \"#fb9f3a\"], [0.8888888888888888, \"#fdca26\"], [1.0, \"#f0f921\"]], \"type\": \"contour\"}], \"contourcarpet\": [{\"colorbar\": {\"outlinewidth\": 0, \"ticks\": \"\"}, \"type\": \"contourcarpet\"}], \"heatmap\": [{\"colorbar\": {\"outlinewidth\": 0, \"ticks\": \"\"}, \"colorscale\": [[0.0, \"#0d0887\"], [0.1111111111111111, \"#46039f\"], [0.2222222222222222, \"#7201a8\"], [0.3333333333333333, \"#9c179e\"], [0.4444444444444444, \"#bd3786\"], [0.5555555555555556, \"#d8576b\"], [0.6666666666666666, \"#ed7953\"], [0.7777777777777778, \"#fb9f3a\"], [0.8888888888888888, \"#fdca26\"], [1.0, \"#f0f921\"]], \"type\": \"heatmap\"}], \"heatmapgl\": [{\"colorbar\": {\"outlinewidth\": 0, \"ticks\": \"\"}, \"colorscale\": [[0.0, \"#0d0887\"], [0.1111111111111111, \"#46039f\"], [0.2222222222222222, \"#7201a8\"], [0.3333333333333333, \"#9c179e\"], [0.4444444444444444, \"#bd3786\"], [0.5555555555555556, \"#d8576b\"], [0.6666666666666666, \"#ed7953\"], [0.7777777777777778, \"#fb9f3a\"], [0.8888888888888888, \"#fdca26\"], [1.0, \"#f0f921\"]], \"type\": \"heatmapgl\"}], \"histogram\": [{\"marker\": {\"colorbar\": {\"outlinewidth\": 0, \"ticks\": \"\"}}, \"type\": \"histogram\"}], \"histogram2d\": [{\"colorbar\": {\"outlinewidth\": 0, \"ticks\": \"\"}, \"colorscale\": [[0.0, \"#0d0887\"], [0.1111111111111111, \"#46039f\"], [0.2222222222222222, \"#7201a8\"], [0.3333333333333333, \"#9c179e\"], [0.4444444444444444, \"#bd3786\"], [0.5555555555555556, \"#d8576b\"], [0.6666666666666666, \"#ed7953\"], [0.7777777777777778, \"#fb9f3a\"], [0.8888888888888888, \"#fdca26\"], [1.0, \"#f0f921\"]], \"type\": \"histogram2d\"}], \"histogram2dcontour\": [{\"colorbar\": {\"outlinewidth\": 0, \"ticks\": \"\"}, \"colorscale\": [[0.0, \"#0d0887\"], [0.1111111111111111, \"#46039f\"], [0.2222222222222222, \"#7201a8\"], [0.3333333333333333, \"#9c179e\"], [0.4444444444444444, \"#bd3786\"], [0.5555555555555556, \"#d8576b\"], [0.6666666666666666, \"#ed7953\"], [0.7777777777777778, \"#fb9f3a\"], [0.8888888888888888, \"#fdca26\"], [1.0, \"#f0f921\"]], \"type\": \"histogram2dcontour\"}], \"mesh3d\": [{\"colorbar\": {\"outlinewidth\": 0, \"ticks\": \"\"}, \"type\": \"mesh3d\"}], \"parcoords\": [{\"line\": {\"colorbar\": {\"outlinewidth\": 0, \"ticks\": \"\"}}, \"type\": \"parcoords\"}], \"pie\": [{\"automargin\": true, \"type\": \"pie\"}], \"scatter\": [{\"marker\": {\"colorbar\": {\"outlinewidth\": 0, \"ticks\": \"\"}}, \"type\": \"scatter\"}], \"scatter3d\": [{\"line\": {\"colorbar\": {\"outlinewidth\": 0, \"ticks\": \"\"}}, \"marker\": {\"colorbar\": {\"outlinewidth\": 0, \"ticks\": \"\"}}, \"type\": \"scatter3d\"}], \"scattercarpet\": [{\"marker\": {\"colorbar\": {\"outlinewidth\": 0, \"ticks\": \"\"}}, \"type\": \"scattercarpet\"}], \"scattergeo\": [{\"marker\": {\"colorbar\": {\"outlinewidth\": 0, \"ticks\": \"\"}}, \"type\": \"scattergeo\"}], \"scattergl\": [{\"marker\": {\"colorbar\": {\"outlinewidth\": 0, \"ticks\": \"\"}}, \"type\": \"scattergl\"}], \"scattermapbox\": [{\"marker\": {\"colorbar\": {\"outlinewidth\": 0, \"ticks\": \"\"}}, \"type\": \"scattermapbox\"}], \"scatterpolar\": [{\"marker\": {\"colorbar\": {\"outlinewidth\": 0, \"ticks\": \"\"}}, \"type\": \"scatterpolar\"}], \"scatterpolargl\": [{\"marker\": {\"colorbar\": {\"outlinewidth\": 0, \"ticks\": \"\"}}, \"type\": \"scatterpolargl\"}], \"scatterternary\": [{\"marker\": {\"colorbar\": {\"outlinewidth\": 0, \"ticks\": \"\"}}, \"type\": \"scatterternary\"}], \"surface\": [{\"colorbar\": {\"outlinewidth\": 0, \"ticks\": \"\"}, \"colorscale\": [[0.0, \"#0d0887\"], [0.1111111111111111, \"#46039f\"], [0.2222222222222222, \"#7201a8\"], [0.3333333333333333, \"#9c179e\"], [0.4444444444444444, \"#bd3786\"], [0.5555555555555556, \"#d8576b\"], [0.6666666666666666, \"#ed7953\"], [0.7777777777777778, \"#fb9f3a\"], [0.8888888888888888, \"#fdca26\"], [1.0, \"#f0f921\"]], \"type\": \"surface\"}], \"table\": [{\"cells\": {\"fill\": {\"color\": \"#EBF0F8\"}, \"line\": {\"color\": \"white\"}}, \"header\": {\"fill\": {\"color\": \"#C8D4E3\"}, \"line\": {\"color\": \"white\"}}, \"type\": \"table\"}]}, \"layout\": {\"annotationdefaults\": {\"arrowcolor\": \"#2a3f5f\", \"arrowhead\": 0, \"arrowwidth\": 1}, \"coloraxis\": {\"colorbar\": {\"outlinewidth\": 0, \"ticks\": \"\"}}, \"colorscale\": {\"diverging\": [[0, \"#8e0152\"], [0.1, \"#c51b7d\"], [0.2, \"#de77ae\"], [0.3, \"#f1b6da\"], [0.4, \"#fde0ef\"], [0.5, \"#f7f7f7\"], [0.6, \"#e6f5d0\"], [0.7, \"#b8e186\"], [0.8, \"#7fbc41\"], [0.9, \"#4d9221\"], [1, \"#276419\"]], \"sequential\": [[0.0, \"#0d0887\"], [0.1111111111111111, \"#46039f\"], [0.2222222222222222, \"#7201a8\"], [0.3333333333333333, \"#9c179e\"], [0.4444444444444444, \"#bd3786\"], [0.5555555555555556, \"#d8576b\"], [0.6666666666666666, \"#ed7953\"], [0.7777777777777778, \"#fb9f3a\"], [0.8888888888888888, \"#fdca26\"], [1.0, \"#f0f921\"]], \"sequentialminus\": [[0.0, \"#0d0887\"], [0.1111111111111111, \"#46039f\"], [0.2222222222222222, \"#7201a8\"], [0.3333333333333333, \"#9c179e\"], [0.4444444444444444, \"#bd3786\"], [0.5555555555555556, \"#d8576b\"], [0.6666666666666666, \"#ed7953\"], [0.7777777777777778, \"#fb9f3a\"], [0.8888888888888888, \"#fdca26\"], [1.0, \"#f0f921\"]]}, \"colorway\": [\"#636efa\", \"#EF553B\", \"#00cc96\", \"#ab63fa\", \"#FFA15A\", \"#19d3f3\", \"#FF6692\", \"#B6E880\", \"#FF97FF\", \"#FECB52\"], \"font\": {\"color\": \"#2a3f5f\"}, \"geo\": {\"bgcolor\": \"white\", \"lakecolor\": \"white\", \"landcolor\": \"#E5ECF6\", \"showlakes\": true, \"showland\": true, \"subunitcolor\": \"white\"}, \"hoverlabel\": {\"align\": \"left\"}, \"hovermode\": \"closest\", \"mapbox\": {\"style\": \"light\"}, \"paper_bgcolor\": \"white\", \"plot_bgcolor\": \"#E5ECF6\", \"polar\": {\"angularaxis\": {\"gridcolor\": \"white\", \"linecolor\": \"white\", \"ticks\": \"\"}, \"bgcolor\": \"#E5ECF6\", \"radialaxis\": {\"gridcolor\": \"white\", \"linecolor\": \"white\", \"ticks\": \"\"}}, \"scene\": {\"xaxis\": {\"backgroundcolor\": \"#E5ECF6\", \"gridcolor\": \"white\", \"gridwidth\": 2, \"linecolor\": \"white\", \"showbackground\": true, \"ticks\": \"\", \"zerolinecolor\": \"white\"}, \"yaxis\": {\"backgroundcolor\": \"#E5ECF6\", \"gridcolor\": \"white\", \"gridwidth\": 2, \"linecolor\": \"white\", \"showbackground\": true, \"ticks\": \"\", \"zerolinecolor\": \"white\"}, \"zaxis\": {\"backgroundcolor\": \"#E5ECF6\", \"gridcolor\": \"white\", \"gridwidth\": 2, \"linecolor\": \"white\", \"showbackground\": true, \"ticks\": \"\", \"zerolinecolor\": \"white\"}}, \"shapedefaults\": {\"line\": {\"color\": \"#2a3f5f\"}}, \"ternary\": {\"aaxis\": {\"gridcolor\": \"white\", \"linecolor\": \"white\", \"ticks\": \"\"}, \"baxis\": {\"gridcolor\": \"white\", \"linecolor\": \"white\", \"ticks\": \"\"}, \"bgcolor\": \"#E5ECF6\", \"caxis\": {\"gridcolor\": \"white\", \"linecolor\": \"white\", \"ticks\": \"\"}}, \"title\": {\"x\": 0.05}, \"xaxis\": {\"automargin\": true, \"gridcolor\": \"white\", \"linecolor\": \"white\", \"ticks\": \"\", \"title\": {\"standoff\": 15}, \"zerolinecolor\": \"white\", \"zerolinewidth\": 2}, \"yaxis\": {\"automargin\": true, \"gridcolor\": \"white\", \"linecolor\": \"white\", \"ticks\": \"\", \"title\": {\"standoff\": 15}, \"zerolinecolor\": \"white\", \"zerolinewidth\": 2}}}, \"title\": {\"font\": {\"color\": \"#4D5663\"}}, \"xaxis\": {\"gridcolor\": \"#E1E5ED\", \"showgrid\": true, \"tickfont\": {\"color\": \"#4D5663\"}, \"title\": {\"font\": {\"color\": \"#4D5663\"}, \"text\": \"\"}, \"zerolinecolor\": \"#E1E5ED\"}, \"yaxis\": {\"gridcolor\": \"#E1E5ED\", \"showgrid\": true, \"tickfont\": {\"color\": \"#4D5663\"}, \"title\": {\"font\": {\"color\": \"#4D5663\"}, \"text\": \"\"}, \"zerolinecolor\": \"#E1E5ED\"}},                        {\"showLink\": true, \"linkText\": \"Export to plot.ly\", \"plotlyServerURL\": \"https://plot.ly\", \"responsive\": true}                    ).then(function(){\n                            \nvar gd = document.getElementById('76b89ae4-5852-408a-9986-96447f9af8f9');\nvar x = new MutationObserver(function (mutations, observer) {{\n        var display = window.getComputedStyle(gd).display;\n        if (!display || display === 'none') {{\n            console.log([gd, 'removed!']);\n            Plotly.purge(gd);\n            observer.disconnect();\n        }}\n}});\n\n// Listen for the removal of the full notebook cells\nvar notebookContainer = gd.closest('#notebook-container');\nif (notebookContainer) {{\n    x.observe(notebookContainer, {childList: true});\n}}\n\n// Listen for the clearing of the current output cell\nvar outputEl = gd.closest('.output');\nif (outputEl) {{\n    x.observe(outputEl, {childList: true});\n}}\n\n                        })                };                });            </script>        </div>"
     },
     "metadata": {}
    }
   ],
   "source": [
    "df3.iplot(kind='surface', colorscale='rdylbu')"
   ]
  },
  {
   "source": [
    "## Spread"
   ],
   "cell_type": "markdown",
   "metadata": {}
  },
  {
   "cell_type": "code",
   "execution_count": 15,
   "metadata": {},
   "outputs": [
    {
     "output_type": "display_data",
     "data": {
      "application/vnd.plotly.v1+json": {
       "config": {
        "linkText": "Export to plot.ly",
        "plotlyServerURL": "https://plot.ly",
        "showLink": true
       },
       "data": [
        {
         "line": {
          "color": "rgba(255, 153, 51, 1.0)",
          "dash": "solid",
          "shape": "linear",
          "width": 1.3
         },
         "mode": "lines",
         "name": "A",
         "text": "",
         "type": "scatter",
         "x": [
          0,
          1,
          2,
          3,
          4,
          5,
          6,
          7,
          8,
          9,
          10,
          11,
          12,
          13,
          14,
          15,
          16,
          17,
          18,
          19,
          20,
          21,
          22,
          23,
          24,
          25,
          26,
          27,
          28,
          29,
          30,
          31,
          32,
          33,
          34,
          35,
          36,
          37,
          38,
          39,
          40,
          41,
          42,
          43,
          44,
          45,
          46,
          47,
          48,
          49,
          50,
          51,
          52,
          53,
          54,
          55,
          56,
          57,
          58,
          59,
          60,
          61,
          62,
          63,
          64,
          65,
          66,
          67,
          68,
          69,
          70,
          71,
          72,
          73,
          74,
          75,
          76,
          77,
          78,
          79,
          80,
          81,
          82,
          83,
          84,
          85,
          86,
          87,
          88,
          89,
          90,
          91,
          92,
          93,
          94,
          95,
          96,
          97,
          98,
          99
         ],
         "y": [
          -3.1903388189260506,
          0.23396036411163004,
          1.1589655786036386,
          -0.48300006152562525,
          -1.5103337587243804,
          -0.5044248859027471,
          1.182281645215199,
          0.42006775240638894,
          -0.8810298974091847,
          0.5039382873693414,
          -0.731266004129346,
          0.0638361921822204,
          -1.0652754263641049,
          -0.9041076466885405,
          -0.9048795324169541,
          -0.7972587761240022,
          -0.3675670471291356,
          0.28082146701438343,
          -0.08633039339250868,
          0.040217153150704704,
          -0.6690624158655928,
          1.2627520886852726,
          0.8930334427555254,
          -0.5720828983632429,
          -0.10829789239054843,
          0.40614750365984825,
          -1.103865178801149,
          -0.8121010383177608,
          0.10072184675344648,
          -0.5769169489648015,
          -1.064607754248978,
          0.2803088090050602,
          0.27784983531770807,
          -0.41074940453263725,
          0.5858394974501357,
          -1.1873780187790168,
          -1.3497579113052596,
          1.255295743570665,
          -0.6927268600950082,
          -0.36127203424382964,
          -0.34463610823926666,
          -1.2009964413381025,
          1.3923569898979733,
          0.7787889527113488,
          1.8663933162193367,
          -0.7896518608815303,
          0.8604392983684553,
          0.5735613938299836,
          -1.2802106717549009,
          0.44164511860901834,
          -1.1744289444226033,
          -0.0000060149059195747345,
          -0.6467481917357054,
          1.2327214192099953,
          -0.28623017443738186,
          -1.7412710235687312,
          -0.9758958392945769,
          1.600310178717572,
          -0.6658748622479977,
          0.36105544712213045,
          1.2539490446516994,
          1.0583809422068344,
          -0.597617455493197,
          -0.45722923476382665,
          -1.2684784915115794,
          -0.9644190323469388,
          -0.8772580574236023,
          0.085838476310741,
          0.48674958148652886,
          0.9676561629391955,
          -2.13767913287318,
          -2.955837736363831,
          -1.7764340900302908,
          1.272615789302066,
          -0.37425080144249273,
          1.026973987239565,
          2.100477946764772,
          -0.9807225547579596,
          -0.7533250886156038,
          -0.03650463249437804,
          0.3529513644456242,
          -1.3607833800573281,
          -1.7417396477441502,
          -1.2994294895974514,
          0.32077583616185623,
          -0.4244455156618559,
          0.8905320772769698,
          -1.3186547947430771,
          0.12166001368478756,
          -1.2191124444406027,
          0.24654677954656246,
          -0.2623982371892286,
          0.2624213780227509,
          0.09375602776369371,
          -0.8396352448027719,
          -0.5553431002419489,
          -0.06731001731720351,
          -0.49821737363514945,
          2.474916165429662,
          -1.6424571327832522
         ]
        },
        {
         "line": {
          "color": "rgba(55, 128, 191, 1.0)",
          "dash": "solid",
          "shape": "linear",
          "width": 1.3
         },
         "mode": "lines",
         "name": "B",
         "text": "",
         "type": "scatter",
         "x": [
          0,
          1,
          2,
          3,
          4,
          5,
          6,
          7,
          8,
          9,
          10,
          11,
          12,
          13,
          14,
          15,
          16,
          17,
          18,
          19,
          20,
          21,
          22,
          23,
          24,
          25,
          26,
          27,
          28,
          29,
          30,
          31,
          32,
          33,
          34,
          35,
          36,
          37,
          38,
          39,
          40,
          41,
          42,
          43,
          44,
          45,
          46,
          47,
          48,
          49,
          50,
          51,
          52,
          53,
          54,
          55,
          56,
          57,
          58,
          59,
          60,
          61,
          62,
          63,
          64,
          65,
          66,
          67,
          68,
          69,
          70,
          71,
          72,
          73,
          74,
          75,
          76,
          77,
          78,
          79,
          80,
          81,
          82,
          83,
          84,
          85,
          86,
          87,
          88,
          89,
          90,
          91,
          92,
          93,
          94,
          95,
          96,
          97,
          98,
          99
         ],
         "y": [
          -0.3643496606765255,
          0.026742083793018775,
          0.3584549394564874,
          -0.15087399036258875,
          0.7692264311391451,
          -0.9607394936456178,
          1.099364393084451,
          2.0413594007607077,
          -0.9589429120315346,
          -1.0151262656536937,
          -2.7705342521888636,
          0.04519916765724038,
          -1.0324039775286689,
          0.21166535206455778,
          0.9519171224472974,
          -0.8073326446901398,
          -0.11985422234986415,
          -0.1234321641152109,
          0.9187427563080505,
          -1.5763765046502152,
          0.48951503176455424,
          -0.278969609256558,
          -0.3648383818684051,
          -0.007140551384771878,
          0.824952324575092,
          1.012484922632672,
          0.5845377044183931,
          -1.2711783578576223,
          -0.36902106237264026,
          0.012682393985313328,
          0.3374744579584474,
          1.0374153302021154,
          0.8674581281533991,
          0.49520661962696927,
          -0.2181122070140142,
          -0.4198441589123327,
          -0.22085215002039907,
          -0.14099689419147918,
          -0.9772412761380672,
          -0.9091883734093862,
          -1.5686850852517986,
          0.12633424708785124,
          0.4249983112725074,
          -0.15071571160517683,
          -0.8190528021055005,
          -0.5843142509340462,
          1.009127911825222,
          -0.2532746339494671,
          0.8382486387582775,
          0.2987780822239634,
          -0.42940441705743443,
          0.12942894672747557,
          -0.3784668801032414,
          -0.36623302074540903,
          1.9636781681839237,
          -0.694293703929343,
          0.18243687176223544,
          0.44970065303344275,
          -0.5585085694844554,
          0.5781469849286903,
          -1.478679342255676,
          -2.2017812855469296,
          -0.22766449165792724,
          -0.9850956709230758,
          0.06535721379319329,
          1.6247637881367891,
          0.9388172664094236,
          0.5604816763327075,
          0.2297458405763916,
          0.5705488391936526,
          -0.5429901589467797,
          -1.4375484759630257,
          1.149625790934575,
          -1.8706089909902677,
          0.6574935076546705,
          0.3922469509849665,
          -0.3283399439671376,
          -0.7082986794613881,
          -1.3012155638305742,
          -0.47344112138941563,
          0.025524978856013302,
          -0.6078471413136215,
          0.6221060033789865,
          -0.8425812105486945,
          -1.9731018326838081,
          -2.085182182082291,
          0.7211728722787665,
          1.5764475887837608,
          0.17856892843054062,
          0.09394500672765961,
          -0.838783815812583,
          -2.0640038711962796,
          0.07541148221711562,
          0.011988483697282544,
          1.156875251344672,
          -0.32642331073805275,
          -1.0002773938460705,
          -0.409558017985458,
          -1.6432367398217418,
          -1.458768728092791
         ]
        },
        {
         "connectgaps": false,
         "fill": "tozeroy",
         "line": {
          "color": "green",
          "dash": "solid",
          "shape": "linear",
          "width": 0.5
         },
         "mode": "lines",
         "name": "Spread",
         "showlegend": false,
         "type": "scatter",
         "x": [
          0,
          1,
          2,
          3,
          4,
          5,
          6,
          7,
          8,
          9,
          10,
          11,
          12,
          13,
          14,
          15,
          16,
          17,
          18,
          19,
          20,
          21,
          22,
          23,
          24,
          25,
          26,
          27,
          28,
          29,
          30,
          31,
          32,
          33,
          34,
          35,
          36,
          37,
          38,
          39,
          40,
          41,
          42,
          43,
          44,
          45,
          46,
          47,
          48,
          49,
          50,
          51,
          52,
          53,
          54,
          55,
          56,
          57,
          58,
          59,
          60,
          61,
          62,
          63,
          64,
          65,
          66,
          67,
          68,
          69,
          70,
          71,
          72,
          73,
          74,
          75,
          76,
          77,
          78,
          79,
          80,
          81,
          82,
          83,
          84,
          85,
          86,
          87,
          88,
          89,
          90,
          91,
          92,
          93,
          94,
          95,
          96,
          97,
          98,
          99
         ],
         "xaxis": "x2",
         "y": [
          "",
          0.20721828031861128,
          0.8005106391471513,
          "",
          "",
          0.4563146077428707,
          0.08291725213074796,
          "",
          0.0779130146223499,
          1.5190645530230351,
          2.0392682480595177,
          0.018637024524980027,
          "",
          "",
          "",
          0.010073868566137567,
          "",
          0.40425363112959434,
          "",
          1.61659365780092,
          "",
          1.5417216979418304,
          1.2578718246239307,
          "",
          "",
          "",
          "",
          0.45907731953986153,
          0.46974290912608674,
          "",
          "",
          "",
          "",
          "",
          0.80395170446415,
          "",
          "",
          1.3962926377621443,
          0.28451441604305905,
          0.5479163391655566,
          1.224048977012532,
          "",
          0.9673586786254659,
          0.9295046643165257,
          2.6854461183248373,
          "",
          "",
          0.8268360277794506,
          "",
          0.14286703638505494,
          "",
          "",
          "",
          1.5989544399554043,
          "",
          "",
          "",
          1.1506095256841293,
          "",
          "",
          2.7326283869073755,
          3.260162227753764,
          "",
          0.5278664361592491,
          "",
          "",
          "",
          "",
          0.2570037409101372,
          0.3971073237455429,
          "",
          "",
          "",
          3.143224780292334,
          "",
          0.6347270362545985,
          2.4288178907319096,
          "",
          0.5478904752149705,
          0.4369364888950376,
          0.3274263855896109,
          "",
          "",
          "",
          2.2938776688456644,
          1.6607366664204353,
          0.16935920499820334,
          "",
          "",
          "",
          1.0853305953591454,
          1.801605634007051,
          0.18700989580563526,
          0.08176754406641117,
          "",
          "",
          0.932967376528867,
          "",
          4.118152905251404,
          ""
         ],
         "yaxis": "y2"
        },
        {
         "connectgaps": false,
         "fill": "tozeroy",
         "line": {
          "color": "red",
          "dash": "solid",
          "shape": "linear",
          "width": 0.5
         },
         "mode": "lines",
         "name": "Spread",
         "showlegend": false,
         "type": "scatter",
         "x": [
          0,
          1,
          2,
          3,
          4,
          5,
          6,
          7,
          8,
          9,
          10,
          11,
          12,
          13,
          14,
          15,
          16,
          17,
          18,
          19,
          20,
          21,
          22,
          23,
          24,
          25,
          26,
          27,
          28,
          29,
          30,
          31,
          32,
          33,
          34,
          35,
          36,
          37,
          38,
          39,
          40,
          41,
          42,
          43,
          44,
          45,
          46,
          47,
          48,
          49,
          50,
          51,
          52,
          53,
          54,
          55,
          56,
          57,
          58,
          59,
          60,
          61,
          62,
          63,
          64,
          65,
          66,
          67,
          68,
          69,
          70,
          71,
          72,
          73,
          74,
          75,
          76,
          77,
          78,
          79,
          80,
          81,
          82,
          83,
          84,
          85,
          86,
          87,
          88,
          89,
          90,
          91,
          92,
          93,
          94,
          95,
          96,
          97,
          98,
          99
         ],
         "xaxis": "x2",
         "y": [
          -2.8259891582495253,
          "",
          "",
          -0.3321260711630365,
          -2.2795601898635254,
          "",
          "",
          -1.6212916483543187,
          "",
          "",
          "",
          "",
          -0.032871448835436023,
          -1.1157729987530982,
          -1.8567966548642514,
          "",
          -0.24771282477927148,
          "",
          -1.0050731497005592,
          "",
          -1.158577447630147,
          "",
          "",
          -0.564942346978471,
          -0.9332502169656405,
          -0.6063374189728237,
          -1.6884028832195423,
          "",
          "",
          -0.5895993429501148,
          -1.4020822122074255,
          -0.7571065211970551,
          -0.5896082928356909,
          -0.9059560241596065,
          "",
          -0.7675338598666841,
          -1.1289057612848605,
          "",
          "",
          "",
          "",
          -1.3273306884259537,
          "",
          "",
          "",
          -0.20533760994748407,
          -0.14868861345676676,
          "",
          -2.1184593105131784,
          "",
          -0.7450245273651688,
          -0.12943496163339516,
          -0.268281311632464,
          "",
          -2.2499083426213056,
          -1.0469773196393883,
          -1.1583327110568122,
          "",
          -0.10736629276354237,
          -0.21709153780655988,
          "",
          "",
          -0.36995296383526977,
          "",
          -1.3338357053047727,
          -2.589182820483728,
          -1.8160753238330258,
          -0.4746432000219665,
          "",
          "",
          -1.5946889739264,
          -1.5182892604008054,
          -2.926059880964866,
          "",
          -1.0317443090971632,
          "",
          "",
          -0.2724238752965714,
          "",
          "",
          "",
          -0.7529362387437066,
          -2.3638456511231367,
          -0.4568482790487569,
          "",
          "",
          "",
          -2.895102383526838,
          -0.05690891474575306,
          -1.3130574511682624,
          "",
          "",
          "",
          "",
          -1.9965104961474438,
          -0.22891978950389613,
          "",
          -0.08865935564969146,
          "",
          -0.18368840469046122
         ],
         "yaxis": "y2"
        }
       ],
       "layout": {
        "hovermode": "x",
        "legend": {
         "bgcolor": "#F5F6F9",
         "font": {
          "color": "#4D5663"
         }
        },
        "paper_bgcolor": "#F5F6F9",
        "plot_bgcolor": "#F5F6F9",
        "template": {
         "data": {
          "bar": [
           {
            "error_x": {
             "color": "#2a3f5f"
            },
            "error_y": {
             "color": "#2a3f5f"
            },
            "marker": {
             "line": {
              "color": "#E5ECF6",
              "width": 0.5
             }
            },
            "type": "bar"
           }
          ],
          "barpolar": [
           {
            "marker": {
             "line": {
              "color": "#E5ECF6",
              "width": 0.5
             }
            },
            "type": "barpolar"
           }
          ],
          "carpet": [
           {
            "aaxis": {
             "endlinecolor": "#2a3f5f",
             "gridcolor": "white",
             "linecolor": "white",
             "minorgridcolor": "white",
             "startlinecolor": "#2a3f5f"
            },
            "baxis": {
             "endlinecolor": "#2a3f5f",
             "gridcolor": "white",
             "linecolor": "white",
             "minorgridcolor": "white",
             "startlinecolor": "#2a3f5f"
            },
            "type": "carpet"
           }
          ],
          "choropleth": [
           {
            "colorbar": {
             "outlinewidth": 0,
             "ticks": ""
            },
            "type": "choropleth"
           }
          ],
          "contour": [
           {
            "colorbar": {
             "outlinewidth": 0,
             "ticks": ""
            },
            "colorscale": [
             [
              0,
              "#0d0887"
             ],
             [
              0.1111111111111111,
              "#46039f"
             ],
             [
              0.2222222222222222,
              "#7201a8"
             ],
             [
              0.3333333333333333,
              "#9c179e"
             ],
             [
              0.4444444444444444,
              "#bd3786"
             ],
             [
              0.5555555555555556,
              "#d8576b"
             ],
             [
              0.6666666666666666,
              "#ed7953"
             ],
             [
              0.7777777777777778,
              "#fb9f3a"
             ],
             [
              0.8888888888888888,
              "#fdca26"
             ],
             [
              1,
              "#f0f921"
             ]
            ],
            "type": "contour"
           }
          ],
          "contourcarpet": [
           {
            "colorbar": {
             "outlinewidth": 0,
             "ticks": ""
            },
            "type": "contourcarpet"
           }
          ],
          "heatmap": [
           {
            "colorbar": {
             "outlinewidth": 0,
             "ticks": ""
            },
            "colorscale": [
             [
              0,
              "#0d0887"
             ],
             [
              0.1111111111111111,
              "#46039f"
             ],
             [
              0.2222222222222222,
              "#7201a8"
             ],
             [
              0.3333333333333333,
              "#9c179e"
             ],
             [
              0.4444444444444444,
              "#bd3786"
             ],
             [
              0.5555555555555556,
              "#d8576b"
             ],
             [
              0.6666666666666666,
              "#ed7953"
             ],
             [
              0.7777777777777778,
              "#fb9f3a"
             ],
             [
              0.8888888888888888,
              "#fdca26"
             ],
             [
              1,
              "#f0f921"
             ]
            ],
            "type": "heatmap"
           }
          ],
          "heatmapgl": [
           {
            "colorbar": {
             "outlinewidth": 0,
             "ticks": ""
            },
            "colorscale": [
             [
              0,
              "#0d0887"
             ],
             [
              0.1111111111111111,
              "#46039f"
             ],
             [
              0.2222222222222222,
              "#7201a8"
             ],
             [
              0.3333333333333333,
              "#9c179e"
             ],
             [
              0.4444444444444444,
              "#bd3786"
             ],
             [
              0.5555555555555556,
              "#d8576b"
             ],
             [
              0.6666666666666666,
              "#ed7953"
             ],
             [
              0.7777777777777778,
              "#fb9f3a"
             ],
             [
              0.8888888888888888,
              "#fdca26"
             ],
             [
              1,
              "#f0f921"
             ]
            ],
            "type": "heatmapgl"
           }
          ],
          "histogram": [
           {
            "marker": {
             "colorbar": {
              "outlinewidth": 0,
              "ticks": ""
             }
            },
            "type": "histogram"
           }
          ],
          "histogram2d": [
           {
            "colorbar": {
             "outlinewidth": 0,
             "ticks": ""
            },
            "colorscale": [
             [
              0,
              "#0d0887"
             ],
             [
              0.1111111111111111,
              "#46039f"
             ],
             [
              0.2222222222222222,
              "#7201a8"
             ],
             [
              0.3333333333333333,
              "#9c179e"
             ],
             [
              0.4444444444444444,
              "#bd3786"
             ],
             [
              0.5555555555555556,
              "#d8576b"
             ],
             [
              0.6666666666666666,
              "#ed7953"
             ],
             [
              0.7777777777777778,
              "#fb9f3a"
             ],
             [
              0.8888888888888888,
              "#fdca26"
             ],
             [
              1,
              "#f0f921"
             ]
            ],
            "type": "histogram2d"
           }
          ],
          "histogram2dcontour": [
           {
            "colorbar": {
             "outlinewidth": 0,
             "ticks": ""
            },
            "colorscale": [
             [
              0,
              "#0d0887"
             ],
             [
              0.1111111111111111,
              "#46039f"
             ],
             [
              0.2222222222222222,
              "#7201a8"
             ],
             [
              0.3333333333333333,
              "#9c179e"
             ],
             [
              0.4444444444444444,
              "#bd3786"
             ],
             [
              0.5555555555555556,
              "#d8576b"
             ],
             [
              0.6666666666666666,
              "#ed7953"
             ],
             [
              0.7777777777777778,
              "#fb9f3a"
             ],
             [
              0.8888888888888888,
              "#fdca26"
             ],
             [
              1,
              "#f0f921"
             ]
            ],
            "type": "histogram2dcontour"
           }
          ],
          "mesh3d": [
           {
            "colorbar": {
             "outlinewidth": 0,
             "ticks": ""
            },
            "type": "mesh3d"
           }
          ],
          "parcoords": [
           {
            "line": {
             "colorbar": {
              "outlinewidth": 0,
              "ticks": ""
             }
            },
            "type": "parcoords"
           }
          ],
          "pie": [
           {
            "automargin": true,
            "type": "pie"
           }
          ],
          "scatter": [
           {
            "marker": {
             "colorbar": {
              "outlinewidth": 0,
              "ticks": ""
             }
            },
            "type": "scatter"
           }
          ],
          "scatter3d": [
           {
            "line": {
             "colorbar": {
              "outlinewidth": 0,
              "ticks": ""
             }
            },
            "marker": {
             "colorbar": {
              "outlinewidth": 0,
              "ticks": ""
             }
            },
            "type": "scatter3d"
           }
          ],
          "scattercarpet": [
           {
            "marker": {
             "colorbar": {
              "outlinewidth": 0,
              "ticks": ""
             }
            },
            "type": "scattercarpet"
           }
          ],
          "scattergeo": [
           {
            "marker": {
             "colorbar": {
              "outlinewidth": 0,
              "ticks": ""
             }
            },
            "type": "scattergeo"
           }
          ],
          "scattergl": [
           {
            "marker": {
             "colorbar": {
              "outlinewidth": 0,
              "ticks": ""
             }
            },
            "type": "scattergl"
           }
          ],
          "scattermapbox": [
           {
            "marker": {
             "colorbar": {
              "outlinewidth": 0,
              "ticks": ""
             }
            },
            "type": "scattermapbox"
           }
          ],
          "scatterpolar": [
           {
            "marker": {
             "colorbar": {
              "outlinewidth": 0,
              "ticks": ""
             }
            },
            "type": "scatterpolar"
           }
          ],
          "scatterpolargl": [
           {
            "marker": {
             "colorbar": {
              "outlinewidth": 0,
              "ticks": ""
             }
            },
            "type": "scatterpolargl"
           }
          ],
          "scatterternary": [
           {
            "marker": {
             "colorbar": {
              "outlinewidth": 0,
              "ticks": ""
             }
            },
            "type": "scatterternary"
           }
          ],
          "surface": [
           {
            "colorbar": {
             "outlinewidth": 0,
             "ticks": ""
            },
            "colorscale": [
             [
              0,
              "#0d0887"
             ],
             [
              0.1111111111111111,
              "#46039f"
             ],
             [
              0.2222222222222222,
              "#7201a8"
             ],
             [
              0.3333333333333333,
              "#9c179e"
             ],
             [
              0.4444444444444444,
              "#bd3786"
             ],
             [
              0.5555555555555556,
              "#d8576b"
             ],
             [
              0.6666666666666666,
              "#ed7953"
             ],
             [
              0.7777777777777778,
              "#fb9f3a"
             ],
             [
              0.8888888888888888,
              "#fdca26"
             ],
             [
              1,
              "#f0f921"
             ]
            ],
            "type": "surface"
           }
          ],
          "table": [
           {
            "cells": {
             "fill": {
              "color": "#EBF0F8"
             },
             "line": {
              "color": "white"
             }
            },
            "header": {
             "fill": {
              "color": "#C8D4E3"
             },
             "line": {
              "color": "white"
             }
            },
            "type": "table"
           }
          ]
         },
         "layout": {
          "annotationdefaults": {
           "arrowcolor": "#2a3f5f",
           "arrowhead": 0,
           "arrowwidth": 1
          },
          "coloraxis": {
           "colorbar": {
            "outlinewidth": 0,
            "ticks": ""
           }
          },
          "colorscale": {
           "diverging": [
            [
             0,
             "#8e0152"
            ],
            [
             0.1,
             "#c51b7d"
            ],
            [
             0.2,
             "#de77ae"
            ],
            [
             0.3,
             "#f1b6da"
            ],
            [
             0.4,
             "#fde0ef"
            ],
            [
             0.5,
             "#f7f7f7"
            ],
            [
             0.6,
             "#e6f5d0"
            ],
            [
             0.7,
             "#b8e186"
            ],
            [
             0.8,
             "#7fbc41"
            ],
            [
             0.9,
             "#4d9221"
            ],
            [
             1,
             "#276419"
            ]
           ],
           "sequential": [
            [
             0,
             "#0d0887"
            ],
            [
             0.1111111111111111,
             "#46039f"
            ],
            [
             0.2222222222222222,
             "#7201a8"
            ],
            [
             0.3333333333333333,
             "#9c179e"
            ],
            [
             0.4444444444444444,
             "#bd3786"
            ],
            [
             0.5555555555555556,
             "#d8576b"
            ],
            [
             0.6666666666666666,
             "#ed7953"
            ],
            [
             0.7777777777777778,
             "#fb9f3a"
            ],
            [
             0.8888888888888888,
             "#fdca26"
            ],
            [
             1,
             "#f0f921"
            ]
           ],
           "sequentialminus": [
            [
             0,
             "#0d0887"
            ],
            [
             0.1111111111111111,
             "#46039f"
            ],
            [
             0.2222222222222222,
             "#7201a8"
            ],
            [
             0.3333333333333333,
             "#9c179e"
            ],
            [
             0.4444444444444444,
             "#bd3786"
            ],
            [
             0.5555555555555556,
             "#d8576b"
            ],
            [
             0.6666666666666666,
             "#ed7953"
            ],
            [
             0.7777777777777778,
             "#fb9f3a"
            ],
            [
             0.8888888888888888,
             "#fdca26"
            ],
            [
             1,
             "#f0f921"
            ]
           ]
          },
          "colorway": [
           "#636efa",
           "#EF553B",
           "#00cc96",
           "#ab63fa",
           "#FFA15A",
           "#19d3f3",
           "#FF6692",
           "#B6E880",
           "#FF97FF",
           "#FECB52"
          ],
          "font": {
           "color": "#2a3f5f"
          },
          "geo": {
           "bgcolor": "white",
           "lakecolor": "white",
           "landcolor": "#E5ECF6",
           "showlakes": true,
           "showland": true,
           "subunitcolor": "white"
          },
          "hoverlabel": {
           "align": "left"
          },
          "hovermode": "closest",
          "mapbox": {
           "style": "light"
          },
          "paper_bgcolor": "white",
          "plot_bgcolor": "#E5ECF6",
          "polar": {
           "angularaxis": {
            "gridcolor": "white",
            "linecolor": "white",
            "ticks": ""
           },
           "bgcolor": "#E5ECF6",
           "radialaxis": {
            "gridcolor": "white",
            "linecolor": "white",
            "ticks": ""
           }
          },
          "scene": {
           "xaxis": {
            "backgroundcolor": "#E5ECF6",
            "gridcolor": "white",
            "gridwidth": 2,
            "linecolor": "white",
            "showbackground": true,
            "ticks": "",
            "zerolinecolor": "white"
           },
           "yaxis": {
            "backgroundcolor": "#E5ECF6",
            "gridcolor": "white",
            "gridwidth": 2,
            "linecolor": "white",
            "showbackground": true,
            "ticks": "",
            "zerolinecolor": "white"
           },
           "zaxis": {
            "backgroundcolor": "#E5ECF6",
            "gridcolor": "white",
            "gridwidth": 2,
            "linecolor": "white",
            "showbackground": true,
            "ticks": "",
            "zerolinecolor": "white"
           }
          },
          "shapedefaults": {
           "line": {
            "color": "#2a3f5f"
           }
          },
          "ternary": {
           "aaxis": {
            "gridcolor": "white",
            "linecolor": "white",
            "ticks": ""
           },
           "baxis": {
            "gridcolor": "white",
            "linecolor": "white",
            "ticks": ""
           },
           "bgcolor": "#E5ECF6",
           "caxis": {
            "gridcolor": "white",
            "linecolor": "white",
            "ticks": ""
           }
          },
          "title": {
           "x": 0.05
          },
          "xaxis": {
           "automargin": true,
           "gridcolor": "white",
           "linecolor": "white",
           "ticks": "",
           "title": {
            "standoff": 15
           },
           "zerolinecolor": "white",
           "zerolinewidth": 2
          },
          "yaxis": {
           "automargin": true,
           "gridcolor": "white",
           "linecolor": "white",
           "ticks": "",
           "title": {
            "standoff": 15
           },
           "zerolinecolor": "white",
           "zerolinewidth": 2
          }
         }
        },
        "title": {
         "font": {
          "color": "#4D5663"
         }
        },
        "xaxis": {
         "gridcolor": "#E1E5ED",
         "showgrid": true,
         "tickfont": {
          "color": "#4D5663"
         },
         "title": {
          "font": {
           "color": "#4D5663"
          },
          "text": ""
         },
         "zerolinecolor": "#E1E5ED"
        },
        "xaxis2": {
         "anchor": "y2",
         "gridcolor": "#E1E5ED",
         "showgrid": true,
         "showticklabels": false,
         "tickfont": {
          "color": "#4D5663"
         },
         "title": {
          "font": {
           "color": "#4D5663"
          },
          "text": ""
         },
         "zerolinecolor": "#E1E5ED"
        },
        "yaxis": {
         "domain": [
          0.3,
          1
         ],
         "gridcolor": "#E1E5ED",
         "showgrid": true,
         "tickfont": {
          "color": "#4D5663"
         },
         "title": {
          "font": {
           "color": "#4D5663"
          },
          "text": ""
         },
         "zerolinecolor": "#E1E5ED"
        },
        "yaxis2": {
         "domain": [
          0,
          0.25
         ],
         "gridcolor": "#E1E5ED",
         "showgrid": true,
         "tickfont": {
          "color": "#4D5663"
         },
         "title": {
          "font": {
           "color": "#4D5663"
          },
          "text": "Spread"
         },
         "zerolinecolor": "#E1E5ED"
        }
       }
      },
      "text/html": "<div>                            <div id=\"c5aa7a68-6d2f-4f39-b1fc-eb6f81ccce4c\" class=\"plotly-graph-div\" style=\"height:525px; width:100%;\"></div>            <script type=\"text/javascript\">                require([\"plotly\"], function(Plotly) {                    window.PLOTLYENV=window.PLOTLYENV || {};\n                    window.PLOTLYENV.BASE_URL='https://plot.ly';                                    if (document.getElementById(\"c5aa7a68-6d2f-4f39-b1fc-eb6f81ccce4c\")) {                    Plotly.newPlot(                        \"c5aa7a68-6d2f-4f39-b1fc-eb6f81ccce4c\",                        [{\"line\": {\"color\": \"rgba(255, 153, 51, 1.0)\", \"dash\": \"solid\", \"shape\": \"linear\", \"width\": 1.3}, \"mode\": \"lines\", \"name\": \"A\", \"text\": \"\", \"type\": \"scatter\", \"x\": [0, 1, 2, 3, 4, 5, 6, 7, 8, 9, 10, 11, 12, 13, 14, 15, 16, 17, 18, 19, 20, 21, 22, 23, 24, 25, 26, 27, 28, 29, 30, 31, 32, 33, 34, 35, 36, 37, 38, 39, 40, 41, 42, 43, 44, 45, 46, 47, 48, 49, 50, 51, 52, 53, 54, 55, 56, 57, 58, 59, 60, 61, 62, 63, 64, 65, 66, 67, 68, 69, 70, 71, 72, 73, 74, 75, 76, 77, 78, 79, 80, 81, 82, 83, 84, 85, 86, 87, 88, 89, 90, 91, 92, 93, 94, 95, 96, 97, 98, 99], \"y\": [-3.1903388189260506, 0.23396036411163004, 1.1589655786036386, -0.48300006152562525, -1.5103337587243804, -0.5044248859027471, 1.182281645215199, 0.42006775240638894, -0.8810298974091847, 0.5039382873693414, -0.731266004129346, 0.0638361921822204, -1.0652754263641049, -0.9041076466885405, -0.9048795324169541, -0.7972587761240022, -0.3675670471291356, 0.28082146701438343, -0.08633039339250868, 0.040217153150704704, -0.6690624158655928, 1.2627520886852726, 0.8930334427555254, -0.5720828983632429, -0.10829789239054843, 0.40614750365984825, -1.103865178801149, -0.8121010383177608, 0.10072184675344648, -0.5769169489648015, -1.064607754248978, 0.2803088090050602, 0.27784983531770807, -0.41074940453263725, 0.5858394974501357, -1.1873780187790168, -1.3497579113052596, 1.255295743570665, -0.6927268600950082, -0.36127203424382964, -0.34463610823926666, -1.2009964413381025, 1.3923569898979733, 0.7787889527113488, 1.8663933162193367, -0.7896518608815303, 0.8604392983684553, 0.5735613938299836, -1.2802106717549009, 0.44164511860901834, -1.1744289444226033, -6.0149059195747345e-06, -0.6467481917357054, 1.2327214192099953, -0.28623017443738186, -1.7412710235687312, -0.9758958392945769, 1.600310178717572, -0.6658748622479977, 0.36105544712213045, 1.2539490446516994, 1.0583809422068344, -0.597617455493197, -0.45722923476382665, -1.2684784915115794, -0.9644190323469388, -0.8772580574236023, 0.085838476310741, 0.48674958148652886, 0.9676561629391955, -2.13767913287318, -2.955837736363831, -1.7764340900302908, 1.272615789302066, -0.37425080144249273, 1.026973987239565, 2.100477946764772, -0.9807225547579596, -0.7533250886156038, -0.03650463249437804, 0.3529513644456242, -1.3607833800573281, -1.7417396477441502, -1.2994294895974514, 0.32077583616185623, -0.4244455156618559, 0.8905320772769698, -1.3186547947430771, 0.12166001368478756, -1.2191124444406027, 0.24654677954656246, -0.2623982371892286, 0.2624213780227509, 0.09375602776369371, -0.8396352448027719, -0.5553431002419489, -0.06731001731720351, -0.49821737363514945, 2.474916165429662, -1.6424571327832522]}, {\"line\": {\"color\": \"rgba(55, 128, 191, 1.0)\", \"dash\": \"solid\", \"shape\": \"linear\", \"width\": 1.3}, \"mode\": \"lines\", \"name\": \"B\", \"text\": \"\", \"type\": \"scatter\", \"x\": [0, 1, 2, 3, 4, 5, 6, 7, 8, 9, 10, 11, 12, 13, 14, 15, 16, 17, 18, 19, 20, 21, 22, 23, 24, 25, 26, 27, 28, 29, 30, 31, 32, 33, 34, 35, 36, 37, 38, 39, 40, 41, 42, 43, 44, 45, 46, 47, 48, 49, 50, 51, 52, 53, 54, 55, 56, 57, 58, 59, 60, 61, 62, 63, 64, 65, 66, 67, 68, 69, 70, 71, 72, 73, 74, 75, 76, 77, 78, 79, 80, 81, 82, 83, 84, 85, 86, 87, 88, 89, 90, 91, 92, 93, 94, 95, 96, 97, 98, 99], \"y\": [-0.3643496606765255, 0.026742083793018775, 0.3584549394564874, -0.15087399036258875, 0.7692264311391451, -0.9607394936456178, 1.099364393084451, 2.0413594007607077, -0.9589429120315346, -1.0151262656536937, -2.7705342521888636, 0.04519916765724038, -1.0324039775286689, 0.21166535206455778, 0.9519171224472974, -0.8073326446901398, -0.11985422234986415, -0.1234321641152109, 0.9187427563080505, -1.5763765046502152, 0.48951503176455424, -0.278969609256558, -0.3648383818684051, -0.007140551384771878, 0.824952324575092, 1.012484922632672, 0.5845377044183931, -1.2711783578576223, -0.36902106237264026, 0.012682393985313328, 0.3374744579584474, 1.0374153302021154, 0.8674581281533991, 0.49520661962696927, -0.2181122070140142, -0.4198441589123327, -0.22085215002039907, -0.14099689419147918, -0.9772412761380672, -0.9091883734093862, -1.5686850852517986, 0.12633424708785124, 0.4249983112725074, -0.15071571160517683, -0.8190528021055005, -0.5843142509340462, 1.009127911825222, -0.2532746339494671, 0.8382486387582775, 0.2987780822239634, -0.42940441705743443, 0.12942894672747557, -0.3784668801032414, -0.36623302074540903, 1.9636781681839237, -0.694293703929343, 0.18243687176223544, 0.44970065303344275, -0.5585085694844554, 0.5781469849286903, -1.478679342255676, -2.2017812855469296, -0.22766449165792724, -0.9850956709230758, 0.06535721379319329, 1.6247637881367891, 0.9388172664094236, 0.5604816763327075, 0.2297458405763916, 0.5705488391936526, -0.5429901589467797, -1.4375484759630257, 1.149625790934575, -1.8706089909902677, 0.6574935076546705, 0.3922469509849665, -0.3283399439671376, -0.7082986794613881, -1.3012155638305742, -0.47344112138941563, 0.025524978856013302, -0.6078471413136215, 0.6221060033789865, -0.8425812105486945, -1.9731018326838081, -2.085182182082291, 0.7211728722787665, 1.5764475887837608, 0.17856892843054062, 0.09394500672765961, -0.838783815812583, -2.0640038711962796, 0.07541148221711562, 0.011988483697282544, 1.156875251344672, -0.32642331073805275, -1.0002773938460705, -0.409558017985458, -1.6432367398217418, -1.458768728092791]}, {\"connectgaps\": false, \"fill\": \"tozeroy\", \"line\": {\"color\": \"green\", \"dash\": \"solid\", \"shape\": \"linear\", \"width\": 0.5}, \"mode\": \"lines\", \"name\": \"Spread\", \"showlegend\": false, \"type\": \"scatter\", \"x\": [0, 1, 2, 3, 4, 5, 6, 7, 8, 9, 10, 11, 12, 13, 14, 15, 16, 17, 18, 19, 20, 21, 22, 23, 24, 25, 26, 27, 28, 29, 30, 31, 32, 33, 34, 35, 36, 37, 38, 39, 40, 41, 42, 43, 44, 45, 46, 47, 48, 49, 50, 51, 52, 53, 54, 55, 56, 57, 58, 59, 60, 61, 62, 63, 64, 65, 66, 67, 68, 69, 70, 71, 72, 73, 74, 75, 76, 77, 78, 79, 80, 81, 82, 83, 84, 85, 86, 87, 88, 89, 90, 91, 92, 93, 94, 95, 96, 97, 98, 99], \"xaxis\": \"x2\", \"y\": [\"\", 0.20721828031861128, 0.8005106391471513, \"\", \"\", 0.4563146077428707, 0.08291725213074796, \"\", 0.0779130146223499, 1.5190645530230351, 2.0392682480595177, 0.018637024524980027, \"\", \"\", \"\", 0.010073868566137567, \"\", 0.40425363112959434, \"\", 1.61659365780092, \"\", 1.5417216979418304, 1.2578718246239307, \"\", \"\", \"\", \"\", 0.45907731953986153, 0.46974290912608674, \"\", \"\", \"\", \"\", \"\", 0.80395170446415, \"\", \"\", 1.3962926377621443, 0.28451441604305905, 0.5479163391655566, 1.224048977012532, \"\", 0.9673586786254659, 0.9295046643165257, 2.6854461183248373, \"\", \"\", 0.8268360277794506, \"\", 0.14286703638505494, \"\", \"\", \"\", 1.5989544399554043, \"\", \"\", \"\", 1.1506095256841293, \"\", \"\", 2.7326283869073755, 3.260162227753764, \"\", 0.5278664361592491, \"\", \"\", \"\", \"\", 0.2570037409101372, 0.3971073237455429, \"\", \"\", \"\", 3.143224780292334, \"\", 0.6347270362545985, 2.4288178907319096, \"\", 0.5478904752149705, 0.4369364888950376, 0.3274263855896109, \"\", \"\", \"\", 2.2938776688456644, 1.6607366664204353, 0.16935920499820334, \"\", \"\", \"\", 1.0853305953591454, 1.801605634007051, 0.18700989580563526, 0.08176754406641117, \"\", \"\", 0.932967376528867, \"\", 4.118152905251404, \"\"], \"yaxis\": \"y2\"}, {\"connectgaps\": false, \"fill\": \"tozeroy\", \"line\": {\"color\": \"red\", \"dash\": \"solid\", \"shape\": \"linear\", \"width\": 0.5}, \"mode\": \"lines\", \"name\": \"Spread\", \"showlegend\": false, \"type\": \"scatter\", \"x\": [0, 1, 2, 3, 4, 5, 6, 7, 8, 9, 10, 11, 12, 13, 14, 15, 16, 17, 18, 19, 20, 21, 22, 23, 24, 25, 26, 27, 28, 29, 30, 31, 32, 33, 34, 35, 36, 37, 38, 39, 40, 41, 42, 43, 44, 45, 46, 47, 48, 49, 50, 51, 52, 53, 54, 55, 56, 57, 58, 59, 60, 61, 62, 63, 64, 65, 66, 67, 68, 69, 70, 71, 72, 73, 74, 75, 76, 77, 78, 79, 80, 81, 82, 83, 84, 85, 86, 87, 88, 89, 90, 91, 92, 93, 94, 95, 96, 97, 98, 99], \"xaxis\": \"x2\", \"y\": [-2.8259891582495253, \"\", \"\", -0.3321260711630365, -2.2795601898635254, \"\", \"\", -1.6212916483543187, \"\", \"\", \"\", \"\", -0.032871448835436023, -1.1157729987530982, -1.8567966548642514, \"\", -0.24771282477927148, \"\", -1.0050731497005592, \"\", -1.158577447630147, \"\", \"\", -0.564942346978471, -0.9332502169656405, -0.6063374189728237, -1.6884028832195423, \"\", \"\", -0.5895993429501148, -1.4020822122074255, -0.7571065211970551, -0.5896082928356909, -0.9059560241596065, \"\", -0.7675338598666841, -1.1289057612848605, \"\", \"\", \"\", \"\", -1.3273306884259537, \"\", \"\", \"\", -0.20533760994748407, -0.14868861345676676, \"\", -2.1184593105131784, \"\", -0.7450245273651688, -0.12943496163339516, -0.268281311632464, \"\", -2.2499083426213056, -1.0469773196393883, -1.1583327110568122, \"\", -0.10736629276354237, -0.21709153780655988, \"\", \"\", -0.36995296383526977, \"\", -1.3338357053047727, -2.589182820483728, -1.8160753238330258, -0.4746432000219665, \"\", \"\", -1.5946889739264, -1.5182892604008054, -2.926059880964866, \"\", -1.0317443090971632, \"\", \"\", -0.2724238752965714, \"\", \"\", \"\", -0.7529362387437066, -2.3638456511231367, -0.4568482790487569, \"\", \"\", \"\", -2.895102383526838, -0.05690891474575306, -1.3130574511682624, \"\", \"\", \"\", \"\", -1.9965104961474438, -0.22891978950389613, \"\", -0.08865935564969146, \"\", -0.18368840469046122], \"yaxis\": \"y2\"}],                        {\"hovermode\": \"x\", \"legend\": {\"bgcolor\": \"#F5F6F9\", \"font\": {\"color\": \"#4D5663\"}}, \"paper_bgcolor\": \"#F5F6F9\", \"plot_bgcolor\": \"#F5F6F9\", \"template\": {\"data\": {\"bar\": [{\"error_x\": {\"color\": \"#2a3f5f\"}, \"error_y\": {\"color\": \"#2a3f5f\"}, \"marker\": {\"line\": {\"color\": \"#E5ECF6\", \"width\": 0.5}}, \"type\": \"bar\"}], \"barpolar\": [{\"marker\": {\"line\": {\"color\": \"#E5ECF6\", \"width\": 0.5}}, \"type\": \"barpolar\"}], \"carpet\": [{\"aaxis\": {\"endlinecolor\": \"#2a3f5f\", \"gridcolor\": \"white\", \"linecolor\": \"white\", \"minorgridcolor\": \"white\", \"startlinecolor\": \"#2a3f5f\"}, \"baxis\": {\"endlinecolor\": \"#2a3f5f\", \"gridcolor\": \"white\", \"linecolor\": \"white\", \"minorgridcolor\": \"white\", \"startlinecolor\": \"#2a3f5f\"}, \"type\": \"carpet\"}], \"choropleth\": [{\"colorbar\": {\"outlinewidth\": 0, \"ticks\": \"\"}, \"type\": \"choropleth\"}], \"contour\": [{\"colorbar\": {\"outlinewidth\": 0, \"ticks\": \"\"}, \"colorscale\": [[0.0, \"#0d0887\"], [0.1111111111111111, \"#46039f\"], [0.2222222222222222, \"#7201a8\"], [0.3333333333333333, \"#9c179e\"], [0.4444444444444444, \"#bd3786\"], [0.5555555555555556, \"#d8576b\"], [0.6666666666666666, \"#ed7953\"], [0.7777777777777778, \"#fb9f3a\"], [0.8888888888888888, \"#fdca26\"], [1.0, \"#f0f921\"]], \"type\": \"contour\"}], \"contourcarpet\": [{\"colorbar\": {\"outlinewidth\": 0, \"ticks\": \"\"}, \"type\": \"contourcarpet\"}], \"heatmap\": [{\"colorbar\": {\"outlinewidth\": 0, \"ticks\": \"\"}, \"colorscale\": [[0.0, \"#0d0887\"], [0.1111111111111111, \"#46039f\"], [0.2222222222222222, \"#7201a8\"], [0.3333333333333333, \"#9c179e\"], [0.4444444444444444, \"#bd3786\"], [0.5555555555555556, \"#d8576b\"], [0.6666666666666666, \"#ed7953\"], [0.7777777777777778, \"#fb9f3a\"], [0.8888888888888888, \"#fdca26\"], [1.0, \"#f0f921\"]], \"type\": \"heatmap\"}], \"heatmapgl\": [{\"colorbar\": {\"outlinewidth\": 0, \"ticks\": \"\"}, \"colorscale\": [[0.0, \"#0d0887\"], [0.1111111111111111, \"#46039f\"], [0.2222222222222222, \"#7201a8\"], [0.3333333333333333, \"#9c179e\"], [0.4444444444444444, \"#bd3786\"], [0.5555555555555556, \"#d8576b\"], [0.6666666666666666, \"#ed7953\"], [0.7777777777777778, \"#fb9f3a\"], [0.8888888888888888, \"#fdca26\"], [1.0, \"#f0f921\"]], \"type\": \"heatmapgl\"}], \"histogram\": [{\"marker\": {\"colorbar\": {\"outlinewidth\": 0, \"ticks\": \"\"}}, \"type\": \"histogram\"}], \"histogram2d\": [{\"colorbar\": {\"outlinewidth\": 0, \"ticks\": \"\"}, \"colorscale\": [[0.0, \"#0d0887\"], [0.1111111111111111, \"#46039f\"], [0.2222222222222222, \"#7201a8\"], [0.3333333333333333, \"#9c179e\"], [0.4444444444444444, \"#bd3786\"], [0.5555555555555556, \"#d8576b\"], [0.6666666666666666, \"#ed7953\"], [0.7777777777777778, \"#fb9f3a\"], [0.8888888888888888, \"#fdca26\"], [1.0, \"#f0f921\"]], \"type\": \"histogram2d\"}], \"histogram2dcontour\": [{\"colorbar\": {\"outlinewidth\": 0, \"ticks\": \"\"}, \"colorscale\": [[0.0, \"#0d0887\"], [0.1111111111111111, \"#46039f\"], [0.2222222222222222, \"#7201a8\"], [0.3333333333333333, \"#9c179e\"], [0.4444444444444444, \"#bd3786\"], [0.5555555555555556, \"#d8576b\"], [0.6666666666666666, \"#ed7953\"], [0.7777777777777778, \"#fb9f3a\"], [0.8888888888888888, \"#fdca26\"], [1.0, \"#f0f921\"]], \"type\": \"histogram2dcontour\"}], \"mesh3d\": [{\"colorbar\": {\"outlinewidth\": 0, \"ticks\": \"\"}, \"type\": \"mesh3d\"}], \"parcoords\": [{\"line\": {\"colorbar\": {\"outlinewidth\": 0, \"ticks\": \"\"}}, \"type\": \"parcoords\"}], \"pie\": [{\"automargin\": true, \"type\": \"pie\"}], \"scatter\": [{\"marker\": {\"colorbar\": {\"outlinewidth\": 0, \"ticks\": \"\"}}, \"type\": \"scatter\"}], \"scatter3d\": [{\"line\": {\"colorbar\": {\"outlinewidth\": 0, \"ticks\": \"\"}}, \"marker\": {\"colorbar\": {\"outlinewidth\": 0, \"ticks\": \"\"}}, \"type\": \"scatter3d\"}], \"scattercarpet\": [{\"marker\": {\"colorbar\": {\"outlinewidth\": 0, \"ticks\": \"\"}}, \"type\": \"scattercarpet\"}], \"scattergeo\": [{\"marker\": {\"colorbar\": {\"outlinewidth\": 0, \"ticks\": \"\"}}, \"type\": \"scattergeo\"}], \"scattergl\": [{\"marker\": {\"colorbar\": {\"outlinewidth\": 0, \"ticks\": \"\"}}, \"type\": \"scattergl\"}], \"scattermapbox\": [{\"marker\": {\"colorbar\": {\"outlinewidth\": 0, \"ticks\": \"\"}}, \"type\": \"scattermapbox\"}], \"scatterpolar\": [{\"marker\": {\"colorbar\": {\"outlinewidth\": 0, \"ticks\": \"\"}}, \"type\": \"scatterpolar\"}], \"scatterpolargl\": [{\"marker\": {\"colorbar\": {\"outlinewidth\": 0, \"ticks\": \"\"}}, \"type\": \"scatterpolargl\"}], \"scatterternary\": [{\"marker\": {\"colorbar\": {\"outlinewidth\": 0, \"ticks\": \"\"}}, \"type\": \"scatterternary\"}], \"surface\": [{\"colorbar\": {\"outlinewidth\": 0, \"ticks\": \"\"}, \"colorscale\": [[0.0, \"#0d0887\"], [0.1111111111111111, \"#46039f\"], [0.2222222222222222, \"#7201a8\"], [0.3333333333333333, \"#9c179e\"], [0.4444444444444444, \"#bd3786\"], [0.5555555555555556, \"#d8576b\"], [0.6666666666666666, \"#ed7953\"], [0.7777777777777778, \"#fb9f3a\"], [0.8888888888888888, \"#fdca26\"], [1.0, \"#f0f921\"]], \"type\": \"surface\"}], \"table\": [{\"cells\": {\"fill\": {\"color\": \"#EBF0F8\"}, \"line\": {\"color\": \"white\"}}, \"header\": {\"fill\": {\"color\": \"#C8D4E3\"}, \"line\": {\"color\": \"white\"}}, \"type\": \"table\"}]}, \"layout\": {\"annotationdefaults\": {\"arrowcolor\": \"#2a3f5f\", \"arrowhead\": 0, \"arrowwidth\": 1}, \"coloraxis\": {\"colorbar\": {\"outlinewidth\": 0, \"ticks\": \"\"}}, \"colorscale\": {\"diverging\": [[0, \"#8e0152\"], [0.1, \"#c51b7d\"], [0.2, \"#de77ae\"], [0.3, \"#f1b6da\"], [0.4, \"#fde0ef\"], [0.5, \"#f7f7f7\"], [0.6, \"#e6f5d0\"], [0.7, \"#b8e186\"], [0.8, \"#7fbc41\"], [0.9, \"#4d9221\"], [1, \"#276419\"]], \"sequential\": [[0.0, \"#0d0887\"], [0.1111111111111111, \"#46039f\"], [0.2222222222222222, \"#7201a8\"], [0.3333333333333333, \"#9c179e\"], [0.4444444444444444, \"#bd3786\"], [0.5555555555555556, \"#d8576b\"], [0.6666666666666666, \"#ed7953\"], [0.7777777777777778, \"#fb9f3a\"], [0.8888888888888888, \"#fdca26\"], [1.0, \"#f0f921\"]], \"sequentialminus\": [[0.0, \"#0d0887\"], [0.1111111111111111, \"#46039f\"], [0.2222222222222222, \"#7201a8\"], [0.3333333333333333, \"#9c179e\"], [0.4444444444444444, \"#bd3786\"], [0.5555555555555556, \"#d8576b\"], [0.6666666666666666, \"#ed7953\"], [0.7777777777777778, \"#fb9f3a\"], [0.8888888888888888, \"#fdca26\"], [1.0, \"#f0f921\"]]}, \"colorway\": [\"#636efa\", \"#EF553B\", \"#00cc96\", \"#ab63fa\", \"#FFA15A\", \"#19d3f3\", \"#FF6692\", \"#B6E880\", \"#FF97FF\", \"#FECB52\"], \"font\": {\"color\": \"#2a3f5f\"}, \"geo\": {\"bgcolor\": \"white\", \"lakecolor\": \"white\", \"landcolor\": \"#E5ECF6\", \"showlakes\": true, \"showland\": true, \"subunitcolor\": \"white\"}, \"hoverlabel\": {\"align\": \"left\"}, \"hovermode\": \"closest\", \"mapbox\": {\"style\": \"light\"}, \"paper_bgcolor\": \"white\", \"plot_bgcolor\": \"#E5ECF6\", \"polar\": {\"angularaxis\": {\"gridcolor\": \"white\", \"linecolor\": \"white\", \"ticks\": \"\"}, \"bgcolor\": \"#E5ECF6\", \"radialaxis\": {\"gridcolor\": \"white\", \"linecolor\": \"white\", \"ticks\": \"\"}}, \"scene\": {\"xaxis\": {\"backgroundcolor\": \"#E5ECF6\", \"gridcolor\": \"white\", \"gridwidth\": 2, \"linecolor\": \"white\", \"showbackground\": true, \"ticks\": \"\", \"zerolinecolor\": \"white\"}, \"yaxis\": {\"backgroundcolor\": \"#E5ECF6\", \"gridcolor\": \"white\", \"gridwidth\": 2, \"linecolor\": \"white\", \"showbackground\": true, \"ticks\": \"\", \"zerolinecolor\": \"white\"}, \"zaxis\": {\"backgroundcolor\": \"#E5ECF6\", \"gridcolor\": \"white\", \"gridwidth\": 2, \"linecolor\": \"white\", \"showbackground\": true, \"ticks\": \"\", \"zerolinecolor\": \"white\"}}, \"shapedefaults\": {\"line\": {\"color\": \"#2a3f5f\"}}, \"ternary\": {\"aaxis\": {\"gridcolor\": \"white\", \"linecolor\": \"white\", \"ticks\": \"\"}, \"baxis\": {\"gridcolor\": \"white\", \"linecolor\": \"white\", \"ticks\": \"\"}, \"bgcolor\": \"#E5ECF6\", \"caxis\": {\"gridcolor\": \"white\", \"linecolor\": \"white\", \"ticks\": \"\"}}, \"title\": {\"x\": 0.05}, \"xaxis\": {\"automargin\": true, \"gridcolor\": \"white\", \"linecolor\": \"white\", \"ticks\": \"\", \"title\": {\"standoff\": 15}, \"zerolinecolor\": \"white\", \"zerolinewidth\": 2}, \"yaxis\": {\"automargin\": true, \"gridcolor\": \"white\", \"linecolor\": \"white\", \"ticks\": \"\", \"title\": {\"standoff\": 15}, \"zerolinecolor\": \"white\", \"zerolinewidth\": 2}}}, \"title\": {\"font\": {\"color\": \"#4D5663\"}}, \"xaxis\": {\"gridcolor\": \"#E1E5ED\", \"showgrid\": true, \"tickfont\": {\"color\": \"#4D5663\"}, \"title\": {\"font\": {\"color\": \"#4D5663\"}, \"text\": \"\"}, \"zerolinecolor\": \"#E1E5ED\"}, \"xaxis2\": {\"anchor\": \"y2\", \"gridcolor\": \"#E1E5ED\", \"showgrid\": true, \"showticklabels\": false, \"tickfont\": {\"color\": \"#4D5663\"}, \"title\": {\"font\": {\"color\": \"#4D5663\"}, \"text\": \"\"}, \"zerolinecolor\": \"#E1E5ED\"}, \"yaxis\": {\"domain\": [0.3, 1], \"gridcolor\": \"#E1E5ED\", \"showgrid\": true, \"tickfont\": {\"color\": \"#4D5663\"}, \"title\": {\"font\": {\"color\": \"#4D5663\"}, \"text\": \"\"}, \"zerolinecolor\": \"#E1E5ED\"}, \"yaxis2\": {\"domain\": [0, 0.25], \"gridcolor\": \"#E1E5ED\", \"showgrid\": true, \"tickfont\": {\"color\": \"#4D5663\"}, \"title\": {\"font\": {\"color\": \"#4D5663\"}, \"text\": \"Spread\"}, \"zerolinecolor\": \"#E1E5ED\"}},                        {\"showLink\": true, \"linkText\": \"Export to plot.ly\", \"plotlyServerURL\": \"https://plot.ly\", \"responsive\": true}                    ).then(function(){\n                            \nvar gd = document.getElementById('c5aa7a68-6d2f-4f39-b1fc-eb6f81ccce4c');\nvar x = new MutationObserver(function (mutations, observer) {{\n        var display = window.getComputedStyle(gd).display;\n        if (!display || display === 'none') {{\n            console.log([gd, 'removed!']);\n            Plotly.purge(gd);\n            observer.disconnect();\n        }}\n}});\n\n// Listen for the removal of the full notebook cells\nvar notebookContainer = gd.closest('#notebook-container');\nif (notebookContainer) {{\n    x.observe(notebookContainer, {childList: true});\n}}\n\n// Listen for the clearing of the current output cell\nvar outputEl = gd.closest('.output');\nif (outputEl) {{\n    x.observe(outputEl, {childList: true});\n}}\n\n                        })                };                });            </script>        </div>"
     },
     "metadata": {}
    }
   ],
   "source": [
    "df[['A', 'B']].iplot(kind='spread')"
   ]
  },
  {
   "source": [
    "## histogram"
   ],
   "cell_type": "markdown",
   "metadata": {}
  },
  {
   "cell_type": "code",
   "execution_count": 16,
   "metadata": {},
   "outputs": [
    {
     "output_type": "display_data",
     "data": {
      "application/vnd.plotly.v1+json": {
       "config": {
        "linkText": "Export to plot.ly",
        "plotlyServerURL": "https://plot.ly",
        "showLink": true
       },
       "data": [
        {
         "histfunc": "count",
         "histnorm": "",
         "marker": {
          "color": "rgba(255, 153, 51, 1.0)",
          "line": {
           "color": "#4D5663",
           "width": 1.3
          }
         },
         "name": "A",
         "nbinsx": 25,
         "opacity": 0.8,
         "orientation": "v",
         "type": "histogram",
         "x": [
          -3.1903388189260506,
          0.23396036411163004,
          1.1589655786036386,
          -0.48300006152562525,
          -1.5103337587243804,
          -0.5044248859027471,
          1.182281645215199,
          0.42006775240638894,
          -0.8810298974091847,
          0.5039382873693414,
          -0.731266004129346,
          0.0638361921822204,
          -1.0652754263641049,
          -0.9041076466885405,
          -0.9048795324169541,
          -0.7972587761240022,
          -0.3675670471291356,
          0.28082146701438343,
          -0.08633039339250868,
          0.040217153150704704,
          -0.6690624158655928,
          1.2627520886852726,
          0.8930334427555254,
          -0.5720828983632429,
          -0.10829789239054843,
          0.40614750365984825,
          -1.103865178801149,
          -0.8121010383177608,
          0.10072184675344648,
          -0.5769169489648015,
          -1.064607754248978,
          0.2803088090050602,
          0.27784983531770807,
          -0.41074940453263725,
          0.5858394974501357,
          -1.1873780187790168,
          -1.3497579113052596,
          1.255295743570665,
          -0.6927268600950082,
          -0.36127203424382964,
          -0.34463610823926666,
          -1.2009964413381025,
          1.3923569898979733,
          0.7787889527113488,
          1.8663933162193367,
          -0.7896518608815303,
          0.8604392983684553,
          0.5735613938299836,
          -1.2802106717549009,
          0.44164511860901834,
          -1.1744289444226033,
          -0.0000060149059195747345,
          -0.6467481917357054,
          1.2327214192099953,
          -0.28623017443738186,
          -1.7412710235687312,
          -0.9758958392945769,
          1.600310178717572,
          -0.6658748622479977,
          0.36105544712213045,
          1.2539490446516994,
          1.0583809422068344,
          -0.597617455493197,
          -0.45722923476382665,
          -1.2684784915115794,
          -0.9644190323469388,
          -0.8772580574236023,
          0.085838476310741,
          0.48674958148652886,
          0.9676561629391955,
          -2.13767913287318,
          -2.955837736363831,
          -1.7764340900302908,
          1.272615789302066,
          -0.37425080144249273,
          1.026973987239565,
          2.100477946764772,
          -0.9807225547579596,
          -0.7533250886156038,
          -0.03650463249437804,
          0.3529513644456242,
          -1.3607833800573281,
          -1.7417396477441502,
          -1.2994294895974514,
          0.32077583616185623,
          -0.4244455156618559,
          0.8905320772769698,
          -1.3186547947430771,
          0.12166001368478756,
          -1.2191124444406027,
          0.24654677954656246,
          -0.2623982371892286,
          0.2624213780227509,
          0.09375602776369371,
          -0.8396352448027719,
          -0.5553431002419489,
          -0.06731001731720351,
          -0.49821737363514945,
          2.474916165429662,
          -1.6424571327832522
         ]
        }
       ],
       "layout": {
        "barmode": "overlay",
        "legend": {
         "bgcolor": "#F5F6F9",
         "font": {
          "color": "#4D5663"
         }
        },
        "paper_bgcolor": "#F5F6F9",
        "plot_bgcolor": "#F5F6F9",
        "template": {
         "data": {
          "bar": [
           {
            "error_x": {
             "color": "#2a3f5f"
            },
            "error_y": {
             "color": "#2a3f5f"
            },
            "marker": {
             "line": {
              "color": "#E5ECF6",
              "width": 0.5
             }
            },
            "type": "bar"
           }
          ],
          "barpolar": [
           {
            "marker": {
             "line": {
              "color": "#E5ECF6",
              "width": 0.5
             }
            },
            "type": "barpolar"
           }
          ],
          "carpet": [
           {
            "aaxis": {
             "endlinecolor": "#2a3f5f",
             "gridcolor": "white",
             "linecolor": "white",
             "minorgridcolor": "white",
             "startlinecolor": "#2a3f5f"
            },
            "baxis": {
             "endlinecolor": "#2a3f5f",
             "gridcolor": "white",
             "linecolor": "white",
             "minorgridcolor": "white",
             "startlinecolor": "#2a3f5f"
            },
            "type": "carpet"
           }
          ],
          "choropleth": [
           {
            "colorbar": {
             "outlinewidth": 0,
             "ticks": ""
            },
            "type": "choropleth"
           }
          ],
          "contour": [
           {
            "colorbar": {
             "outlinewidth": 0,
             "ticks": ""
            },
            "colorscale": [
             [
              0,
              "#0d0887"
             ],
             [
              0.1111111111111111,
              "#46039f"
             ],
             [
              0.2222222222222222,
              "#7201a8"
             ],
             [
              0.3333333333333333,
              "#9c179e"
             ],
             [
              0.4444444444444444,
              "#bd3786"
             ],
             [
              0.5555555555555556,
              "#d8576b"
             ],
             [
              0.6666666666666666,
              "#ed7953"
             ],
             [
              0.7777777777777778,
              "#fb9f3a"
             ],
             [
              0.8888888888888888,
              "#fdca26"
             ],
             [
              1,
              "#f0f921"
             ]
            ],
            "type": "contour"
           }
          ],
          "contourcarpet": [
           {
            "colorbar": {
             "outlinewidth": 0,
             "ticks": ""
            },
            "type": "contourcarpet"
           }
          ],
          "heatmap": [
           {
            "colorbar": {
             "outlinewidth": 0,
             "ticks": ""
            },
            "colorscale": [
             [
              0,
              "#0d0887"
             ],
             [
              0.1111111111111111,
              "#46039f"
             ],
             [
              0.2222222222222222,
              "#7201a8"
             ],
             [
              0.3333333333333333,
              "#9c179e"
             ],
             [
              0.4444444444444444,
              "#bd3786"
             ],
             [
              0.5555555555555556,
              "#d8576b"
             ],
             [
              0.6666666666666666,
              "#ed7953"
             ],
             [
              0.7777777777777778,
              "#fb9f3a"
             ],
             [
              0.8888888888888888,
              "#fdca26"
             ],
             [
              1,
              "#f0f921"
             ]
            ],
            "type": "heatmap"
           }
          ],
          "heatmapgl": [
           {
            "colorbar": {
             "outlinewidth": 0,
             "ticks": ""
            },
            "colorscale": [
             [
              0,
              "#0d0887"
             ],
             [
              0.1111111111111111,
              "#46039f"
             ],
             [
              0.2222222222222222,
              "#7201a8"
             ],
             [
              0.3333333333333333,
              "#9c179e"
             ],
             [
              0.4444444444444444,
              "#bd3786"
             ],
             [
              0.5555555555555556,
              "#d8576b"
             ],
             [
              0.6666666666666666,
              "#ed7953"
             ],
             [
              0.7777777777777778,
              "#fb9f3a"
             ],
             [
              0.8888888888888888,
              "#fdca26"
             ],
             [
              1,
              "#f0f921"
             ]
            ],
            "type": "heatmapgl"
           }
          ],
          "histogram": [
           {
            "marker": {
             "colorbar": {
              "outlinewidth": 0,
              "ticks": ""
             }
            },
            "type": "histogram"
           }
          ],
          "histogram2d": [
           {
            "colorbar": {
             "outlinewidth": 0,
             "ticks": ""
            },
            "colorscale": [
             [
              0,
              "#0d0887"
             ],
             [
              0.1111111111111111,
              "#46039f"
             ],
             [
              0.2222222222222222,
              "#7201a8"
             ],
             [
              0.3333333333333333,
              "#9c179e"
             ],
             [
              0.4444444444444444,
              "#bd3786"
             ],
             [
              0.5555555555555556,
              "#d8576b"
             ],
             [
              0.6666666666666666,
              "#ed7953"
             ],
             [
              0.7777777777777778,
              "#fb9f3a"
             ],
             [
              0.8888888888888888,
              "#fdca26"
             ],
             [
              1,
              "#f0f921"
             ]
            ],
            "type": "histogram2d"
           }
          ],
          "histogram2dcontour": [
           {
            "colorbar": {
             "outlinewidth": 0,
             "ticks": ""
            },
            "colorscale": [
             [
              0,
              "#0d0887"
             ],
             [
              0.1111111111111111,
              "#46039f"
             ],
             [
              0.2222222222222222,
              "#7201a8"
             ],
             [
              0.3333333333333333,
              "#9c179e"
             ],
             [
              0.4444444444444444,
              "#bd3786"
             ],
             [
              0.5555555555555556,
              "#d8576b"
             ],
             [
              0.6666666666666666,
              "#ed7953"
             ],
             [
              0.7777777777777778,
              "#fb9f3a"
             ],
             [
              0.8888888888888888,
              "#fdca26"
             ],
             [
              1,
              "#f0f921"
             ]
            ],
            "type": "histogram2dcontour"
           }
          ],
          "mesh3d": [
           {
            "colorbar": {
             "outlinewidth": 0,
             "ticks": ""
            },
            "type": "mesh3d"
           }
          ],
          "parcoords": [
           {
            "line": {
             "colorbar": {
              "outlinewidth": 0,
              "ticks": ""
             }
            },
            "type": "parcoords"
           }
          ],
          "pie": [
           {
            "automargin": true,
            "type": "pie"
           }
          ],
          "scatter": [
           {
            "marker": {
             "colorbar": {
              "outlinewidth": 0,
              "ticks": ""
             }
            },
            "type": "scatter"
           }
          ],
          "scatter3d": [
           {
            "line": {
             "colorbar": {
              "outlinewidth": 0,
              "ticks": ""
             }
            },
            "marker": {
             "colorbar": {
              "outlinewidth": 0,
              "ticks": ""
             }
            },
            "type": "scatter3d"
           }
          ],
          "scattercarpet": [
           {
            "marker": {
             "colorbar": {
              "outlinewidth": 0,
              "ticks": ""
             }
            },
            "type": "scattercarpet"
           }
          ],
          "scattergeo": [
           {
            "marker": {
             "colorbar": {
              "outlinewidth": 0,
              "ticks": ""
             }
            },
            "type": "scattergeo"
           }
          ],
          "scattergl": [
           {
            "marker": {
             "colorbar": {
              "outlinewidth": 0,
              "ticks": ""
             }
            },
            "type": "scattergl"
           }
          ],
          "scattermapbox": [
           {
            "marker": {
             "colorbar": {
              "outlinewidth": 0,
              "ticks": ""
             }
            },
            "type": "scattermapbox"
           }
          ],
          "scatterpolar": [
           {
            "marker": {
             "colorbar": {
              "outlinewidth": 0,
              "ticks": ""
             }
            },
            "type": "scatterpolar"
           }
          ],
          "scatterpolargl": [
           {
            "marker": {
             "colorbar": {
              "outlinewidth": 0,
              "ticks": ""
             }
            },
            "type": "scatterpolargl"
           }
          ],
          "scatterternary": [
           {
            "marker": {
             "colorbar": {
              "outlinewidth": 0,
              "ticks": ""
             }
            },
            "type": "scatterternary"
           }
          ],
          "surface": [
           {
            "colorbar": {
             "outlinewidth": 0,
             "ticks": ""
            },
            "colorscale": [
             [
              0,
              "#0d0887"
             ],
             [
              0.1111111111111111,
              "#46039f"
             ],
             [
              0.2222222222222222,
              "#7201a8"
             ],
             [
              0.3333333333333333,
              "#9c179e"
             ],
             [
              0.4444444444444444,
              "#bd3786"
             ],
             [
              0.5555555555555556,
              "#d8576b"
             ],
             [
              0.6666666666666666,
              "#ed7953"
             ],
             [
              0.7777777777777778,
              "#fb9f3a"
             ],
             [
              0.8888888888888888,
              "#fdca26"
             ],
             [
              1,
              "#f0f921"
             ]
            ],
            "type": "surface"
           }
          ],
          "table": [
           {
            "cells": {
             "fill": {
              "color": "#EBF0F8"
             },
             "line": {
              "color": "white"
             }
            },
            "header": {
             "fill": {
              "color": "#C8D4E3"
             },
             "line": {
              "color": "white"
             }
            },
            "type": "table"
           }
          ]
         },
         "layout": {
          "annotationdefaults": {
           "arrowcolor": "#2a3f5f",
           "arrowhead": 0,
           "arrowwidth": 1
          },
          "coloraxis": {
           "colorbar": {
            "outlinewidth": 0,
            "ticks": ""
           }
          },
          "colorscale": {
           "diverging": [
            [
             0,
             "#8e0152"
            ],
            [
             0.1,
             "#c51b7d"
            ],
            [
             0.2,
             "#de77ae"
            ],
            [
             0.3,
             "#f1b6da"
            ],
            [
             0.4,
             "#fde0ef"
            ],
            [
             0.5,
             "#f7f7f7"
            ],
            [
             0.6,
             "#e6f5d0"
            ],
            [
             0.7,
             "#b8e186"
            ],
            [
             0.8,
             "#7fbc41"
            ],
            [
             0.9,
             "#4d9221"
            ],
            [
             1,
             "#276419"
            ]
           ],
           "sequential": [
            [
             0,
             "#0d0887"
            ],
            [
             0.1111111111111111,
             "#46039f"
            ],
            [
             0.2222222222222222,
             "#7201a8"
            ],
            [
             0.3333333333333333,
             "#9c179e"
            ],
            [
             0.4444444444444444,
             "#bd3786"
            ],
            [
             0.5555555555555556,
             "#d8576b"
            ],
            [
             0.6666666666666666,
             "#ed7953"
            ],
            [
             0.7777777777777778,
             "#fb9f3a"
            ],
            [
             0.8888888888888888,
             "#fdca26"
            ],
            [
             1,
             "#f0f921"
            ]
           ],
           "sequentialminus": [
            [
             0,
             "#0d0887"
            ],
            [
             0.1111111111111111,
             "#46039f"
            ],
            [
             0.2222222222222222,
             "#7201a8"
            ],
            [
             0.3333333333333333,
             "#9c179e"
            ],
            [
             0.4444444444444444,
             "#bd3786"
            ],
            [
             0.5555555555555556,
             "#d8576b"
            ],
            [
             0.6666666666666666,
             "#ed7953"
            ],
            [
             0.7777777777777778,
             "#fb9f3a"
            ],
            [
             0.8888888888888888,
             "#fdca26"
            ],
            [
             1,
             "#f0f921"
            ]
           ]
          },
          "colorway": [
           "#636efa",
           "#EF553B",
           "#00cc96",
           "#ab63fa",
           "#FFA15A",
           "#19d3f3",
           "#FF6692",
           "#B6E880",
           "#FF97FF",
           "#FECB52"
          ],
          "font": {
           "color": "#2a3f5f"
          },
          "geo": {
           "bgcolor": "white",
           "lakecolor": "white",
           "landcolor": "#E5ECF6",
           "showlakes": true,
           "showland": true,
           "subunitcolor": "white"
          },
          "hoverlabel": {
           "align": "left"
          },
          "hovermode": "closest",
          "mapbox": {
           "style": "light"
          },
          "paper_bgcolor": "white",
          "plot_bgcolor": "#E5ECF6",
          "polar": {
           "angularaxis": {
            "gridcolor": "white",
            "linecolor": "white",
            "ticks": ""
           },
           "bgcolor": "#E5ECF6",
           "radialaxis": {
            "gridcolor": "white",
            "linecolor": "white",
            "ticks": ""
           }
          },
          "scene": {
           "xaxis": {
            "backgroundcolor": "#E5ECF6",
            "gridcolor": "white",
            "gridwidth": 2,
            "linecolor": "white",
            "showbackground": true,
            "ticks": "",
            "zerolinecolor": "white"
           },
           "yaxis": {
            "backgroundcolor": "#E5ECF6",
            "gridcolor": "white",
            "gridwidth": 2,
            "linecolor": "white",
            "showbackground": true,
            "ticks": "",
            "zerolinecolor": "white"
           },
           "zaxis": {
            "backgroundcolor": "#E5ECF6",
            "gridcolor": "white",
            "gridwidth": 2,
            "linecolor": "white",
            "showbackground": true,
            "ticks": "",
            "zerolinecolor": "white"
           }
          },
          "shapedefaults": {
           "line": {
            "color": "#2a3f5f"
           }
          },
          "ternary": {
           "aaxis": {
            "gridcolor": "white",
            "linecolor": "white",
            "ticks": ""
           },
           "baxis": {
            "gridcolor": "white",
            "linecolor": "white",
            "ticks": ""
           },
           "bgcolor": "#E5ECF6",
           "caxis": {
            "gridcolor": "white",
            "linecolor": "white",
            "ticks": ""
           }
          },
          "title": {
           "x": 0.05
          },
          "xaxis": {
           "automargin": true,
           "gridcolor": "white",
           "linecolor": "white",
           "ticks": "",
           "title": {
            "standoff": 15
           },
           "zerolinecolor": "white",
           "zerolinewidth": 2
          },
          "yaxis": {
           "automargin": true,
           "gridcolor": "white",
           "linecolor": "white",
           "ticks": "",
           "title": {
            "standoff": 15
           },
           "zerolinecolor": "white",
           "zerolinewidth": 2
          }
         }
        },
        "title": {
         "font": {
          "color": "#4D5663"
         }
        },
        "xaxis": {
         "gridcolor": "#E1E5ED",
         "showgrid": true,
         "tickfont": {
          "color": "#4D5663"
         },
         "title": {
          "font": {
           "color": "#4D5663"
          },
          "text": ""
         },
         "zerolinecolor": "#E1E5ED"
        },
        "yaxis": {
         "gridcolor": "#E1E5ED",
         "showgrid": true,
         "tickfont": {
          "color": "#4D5663"
         },
         "title": {
          "font": {
           "color": "#4D5663"
          },
          "text": ""
         },
         "zerolinecolor": "#E1E5ED"
        }
       }
      },
      "text/html": "<div>                            <div id=\"e701644d-997c-45ee-95e2-39e8ec45e299\" class=\"plotly-graph-div\" style=\"height:525px; width:100%;\"></div>            <script type=\"text/javascript\">                require([\"plotly\"], function(Plotly) {                    window.PLOTLYENV=window.PLOTLYENV || {};\n                    window.PLOTLYENV.BASE_URL='https://plot.ly';                                    if (document.getElementById(\"e701644d-997c-45ee-95e2-39e8ec45e299\")) {                    Plotly.newPlot(                        \"e701644d-997c-45ee-95e2-39e8ec45e299\",                        [{\"histfunc\": \"count\", \"histnorm\": \"\", \"marker\": {\"color\": \"rgba(255, 153, 51, 1.0)\", \"line\": {\"color\": \"#4D5663\", \"width\": 1.3}}, \"name\": \"A\", \"nbinsx\": 25, \"opacity\": 0.8, \"orientation\": \"v\", \"type\": \"histogram\", \"x\": [-3.1903388189260506, 0.23396036411163004, 1.1589655786036386, -0.48300006152562525, -1.5103337587243804, -0.5044248859027471, 1.182281645215199, 0.42006775240638894, -0.8810298974091847, 0.5039382873693414, -0.731266004129346, 0.0638361921822204, -1.0652754263641049, -0.9041076466885405, -0.9048795324169541, -0.7972587761240022, -0.3675670471291356, 0.28082146701438343, -0.08633039339250868, 0.040217153150704704, -0.6690624158655928, 1.2627520886852726, 0.8930334427555254, -0.5720828983632429, -0.10829789239054843, 0.40614750365984825, -1.103865178801149, -0.8121010383177608, 0.10072184675344648, -0.5769169489648015, -1.064607754248978, 0.2803088090050602, 0.27784983531770807, -0.41074940453263725, 0.5858394974501357, -1.1873780187790168, -1.3497579113052596, 1.255295743570665, -0.6927268600950082, -0.36127203424382964, -0.34463610823926666, -1.2009964413381025, 1.3923569898979733, 0.7787889527113488, 1.8663933162193367, -0.7896518608815303, 0.8604392983684553, 0.5735613938299836, -1.2802106717549009, 0.44164511860901834, -1.1744289444226033, -6.0149059195747345e-06, -0.6467481917357054, 1.2327214192099953, -0.28623017443738186, -1.7412710235687312, -0.9758958392945769, 1.600310178717572, -0.6658748622479977, 0.36105544712213045, 1.2539490446516994, 1.0583809422068344, -0.597617455493197, -0.45722923476382665, -1.2684784915115794, -0.9644190323469388, -0.8772580574236023, 0.085838476310741, 0.48674958148652886, 0.9676561629391955, -2.13767913287318, -2.955837736363831, -1.7764340900302908, 1.272615789302066, -0.37425080144249273, 1.026973987239565, 2.100477946764772, -0.9807225547579596, -0.7533250886156038, -0.03650463249437804, 0.3529513644456242, -1.3607833800573281, -1.7417396477441502, -1.2994294895974514, 0.32077583616185623, -0.4244455156618559, 0.8905320772769698, -1.3186547947430771, 0.12166001368478756, -1.2191124444406027, 0.24654677954656246, -0.2623982371892286, 0.2624213780227509, 0.09375602776369371, -0.8396352448027719, -0.5553431002419489, -0.06731001731720351, -0.49821737363514945, 2.474916165429662, -1.6424571327832522]}],                        {\"barmode\": \"overlay\", \"legend\": {\"bgcolor\": \"#F5F6F9\", \"font\": {\"color\": \"#4D5663\"}}, \"paper_bgcolor\": \"#F5F6F9\", \"plot_bgcolor\": \"#F5F6F9\", \"template\": {\"data\": {\"bar\": [{\"error_x\": {\"color\": \"#2a3f5f\"}, \"error_y\": {\"color\": \"#2a3f5f\"}, \"marker\": {\"line\": {\"color\": \"#E5ECF6\", \"width\": 0.5}}, \"type\": \"bar\"}], \"barpolar\": [{\"marker\": {\"line\": {\"color\": \"#E5ECF6\", \"width\": 0.5}}, \"type\": \"barpolar\"}], \"carpet\": [{\"aaxis\": {\"endlinecolor\": \"#2a3f5f\", \"gridcolor\": \"white\", \"linecolor\": \"white\", \"minorgridcolor\": \"white\", \"startlinecolor\": \"#2a3f5f\"}, \"baxis\": {\"endlinecolor\": \"#2a3f5f\", \"gridcolor\": \"white\", \"linecolor\": \"white\", \"minorgridcolor\": \"white\", \"startlinecolor\": \"#2a3f5f\"}, \"type\": \"carpet\"}], \"choropleth\": [{\"colorbar\": {\"outlinewidth\": 0, \"ticks\": \"\"}, \"type\": \"choropleth\"}], \"contour\": [{\"colorbar\": {\"outlinewidth\": 0, \"ticks\": \"\"}, \"colorscale\": [[0.0, \"#0d0887\"], [0.1111111111111111, \"#46039f\"], [0.2222222222222222, \"#7201a8\"], [0.3333333333333333, \"#9c179e\"], [0.4444444444444444, \"#bd3786\"], [0.5555555555555556, \"#d8576b\"], [0.6666666666666666, \"#ed7953\"], [0.7777777777777778, \"#fb9f3a\"], [0.8888888888888888, \"#fdca26\"], [1.0, \"#f0f921\"]], \"type\": \"contour\"}], \"contourcarpet\": [{\"colorbar\": {\"outlinewidth\": 0, \"ticks\": \"\"}, \"type\": \"contourcarpet\"}], \"heatmap\": [{\"colorbar\": {\"outlinewidth\": 0, \"ticks\": \"\"}, \"colorscale\": [[0.0, \"#0d0887\"], [0.1111111111111111, \"#46039f\"], [0.2222222222222222, \"#7201a8\"], [0.3333333333333333, \"#9c179e\"], [0.4444444444444444, \"#bd3786\"], [0.5555555555555556, \"#d8576b\"], [0.6666666666666666, \"#ed7953\"], [0.7777777777777778, \"#fb9f3a\"], [0.8888888888888888, \"#fdca26\"], [1.0, \"#f0f921\"]], \"type\": \"heatmap\"}], \"heatmapgl\": [{\"colorbar\": {\"outlinewidth\": 0, \"ticks\": \"\"}, \"colorscale\": [[0.0, \"#0d0887\"], [0.1111111111111111, \"#46039f\"], [0.2222222222222222, \"#7201a8\"], [0.3333333333333333, \"#9c179e\"], [0.4444444444444444, \"#bd3786\"], [0.5555555555555556, \"#d8576b\"], [0.6666666666666666, \"#ed7953\"], [0.7777777777777778, \"#fb9f3a\"], [0.8888888888888888, \"#fdca26\"], [1.0, \"#f0f921\"]], \"type\": \"heatmapgl\"}], \"histogram\": [{\"marker\": {\"colorbar\": {\"outlinewidth\": 0, \"ticks\": \"\"}}, \"type\": \"histogram\"}], \"histogram2d\": [{\"colorbar\": {\"outlinewidth\": 0, \"ticks\": \"\"}, \"colorscale\": [[0.0, \"#0d0887\"], [0.1111111111111111, \"#46039f\"], [0.2222222222222222, \"#7201a8\"], [0.3333333333333333, \"#9c179e\"], [0.4444444444444444, \"#bd3786\"], [0.5555555555555556, \"#d8576b\"], [0.6666666666666666, \"#ed7953\"], [0.7777777777777778, \"#fb9f3a\"], [0.8888888888888888, \"#fdca26\"], [1.0, \"#f0f921\"]], \"type\": \"histogram2d\"}], \"histogram2dcontour\": [{\"colorbar\": {\"outlinewidth\": 0, \"ticks\": \"\"}, \"colorscale\": [[0.0, \"#0d0887\"], [0.1111111111111111, \"#46039f\"], [0.2222222222222222, \"#7201a8\"], [0.3333333333333333, \"#9c179e\"], [0.4444444444444444, \"#bd3786\"], [0.5555555555555556, \"#d8576b\"], [0.6666666666666666, \"#ed7953\"], [0.7777777777777778, \"#fb9f3a\"], [0.8888888888888888, \"#fdca26\"], [1.0, \"#f0f921\"]], \"type\": \"histogram2dcontour\"}], \"mesh3d\": [{\"colorbar\": {\"outlinewidth\": 0, \"ticks\": \"\"}, \"type\": \"mesh3d\"}], \"parcoords\": [{\"line\": {\"colorbar\": {\"outlinewidth\": 0, \"ticks\": \"\"}}, \"type\": \"parcoords\"}], \"pie\": [{\"automargin\": true, \"type\": \"pie\"}], \"scatter\": [{\"marker\": {\"colorbar\": {\"outlinewidth\": 0, \"ticks\": \"\"}}, \"type\": \"scatter\"}], \"scatter3d\": [{\"line\": {\"colorbar\": {\"outlinewidth\": 0, \"ticks\": \"\"}}, \"marker\": {\"colorbar\": {\"outlinewidth\": 0, \"ticks\": \"\"}}, \"type\": \"scatter3d\"}], \"scattercarpet\": [{\"marker\": {\"colorbar\": {\"outlinewidth\": 0, \"ticks\": \"\"}}, \"type\": \"scattercarpet\"}], \"scattergeo\": [{\"marker\": {\"colorbar\": {\"outlinewidth\": 0, \"ticks\": \"\"}}, \"type\": \"scattergeo\"}], \"scattergl\": [{\"marker\": {\"colorbar\": {\"outlinewidth\": 0, \"ticks\": \"\"}}, \"type\": \"scattergl\"}], \"scattermapbox\": [{\"marker\": {\"colorbar\": {\"outlinewidth\": 0, \"ticks\": \"\"}}, \"type\": \"scattermapbox\"}], \"scatterpolar\": [{\"marker\": {\"colorbar\": {\"outlinewidth\": 0, \"ticks\": \"\"}}, \"type\": \"scatterpolar\"}], \"scatterpolargl\": [{\"marker\": {\"colorbar\": {\"outlinewidth\": 0, \"ticks\": \"\"}}, \"type\": \"scatterpolargl\"}], \"scatterternary\": [{\"marker\": {\"colorbar\": {\"outlinewidth\": 0, \"ticks\": \"\"}}, \"type\": \"scatterternary\"}], \"surface\": [{\"colorbar\": {\"outlinewidth\": 0, \"ticks\": \"\"}, \"colorscale\": [[0.0, \"#0d0887\"], [0.1111111111111111, \"#46039f\"], [0.2222222222222222, \"#7201a8\"], [0.3333333333333333, \"#9c179e\"], [0.4444444444444444, \"#bd3786\"], [0.5555555555555556, \"#d8576b\"], [0.6666666666666666, \"#ed7953\"], [0.7777777777777778, \"#fb9f3a\"], [0.8888888888888888, \"#fdca26\"], [1.0, \"#f0f921\"]], \"type\": \"surface\"}], \"table\": [{\"cells\": {\"fill\": {\"color\": \"#EBF0F8\"}, \"line\": {\"color\": \"white\"}}, \"header\": {\"fill\": {\"color\": \"#C8D4E3\"}, \"line\": {\"color\": \"white\"}}, \"type\": \"table\"}]}, \"layout\": {\"annotationdefaults\": {\"arrowcolor\": \"#2a3f5f\", \"arrowhead\": 0, \"arrowwidth\": 1}, \"coloraxis\": {\"colorbar\": {\"outlinewidth\": 0, \"ticks\": \"\"}}, \"colorscale\": {\"diverging\": [[0, \"#8e0152\"], [0.1, \"#c51b7d\"], [0.2, \"#de77ae\"], [0.3, \"#f1b6da\"], [0.4, \"#fde0ef\"], [0.5, \"#f7f7f7\"], [0.6, \"#e6f5d0\"], [0.7, \"#b8e186\"], [0.8, \"#7fbc41\"], [0.9, \"#4d9221\"], [1, \"#276419\"]], \"sequential\": [[0.0, \"#0d0887\"], [0.1111111111111111, \"#46039f\"], [0.2222222222222222, \"#7201a8\"], [0.3333333333333333, \"#9c179e\"], [0.4444444444444444, \"#bd3786\"], [0.5555555555555556, \"#d8576b\"], [0.6666666666666666, \"#ed7953\"], [0.7777777777777778, \"#fb9f3a\"], [0.8888888888888888, \"#fdca26\"], [1.0, \"#f0f921\"]], \"sequentialminus\": [[0.0, \"#0d0887\"], [0.1111111111111111, \"#46039f\"], [0.2222222222222222, \"#7201a8\"], [0.3333333333333333, \"#9c179e\"], [0.4444444444444444, \"#bd3786\"], [0.5555555555555556, \"#d8576b\"], [0.6666666666666666, \"#ed7953\"], [0.7777777777777778, \"#fb9f3a\"], [0.8888888888888888, \"#fdca26\"], [1.0, \"#f0f921\"]]}, \"colorway\": [\"#636efa\", \"#EF553B\", \"#00cc96\", \"#ab63fa\", \"#FFA15A\", \"#19d3f3\", \"#FF6692\", \"#B6E880\", \"#FF97FF\", \"#FECB52\"], \"font\": {\"color\": \"#2a3f5f\"}, \"geo\": {\"bgcolor\": \"white\", \"lakecolor\": \"white\", \"landcolor\": \"#E5ECF6\", \"showlakes\": true, \"showland\": true, \"subunitcolor\": \"white\"}, \"hoverlabel\": {\"align\": \"left\"}, \"hovermode\": \"closest\", \"mapbox\": {\"style\": \"light\"}, \"paper_bgcolor\": \"white\", \"plot_bgcolor\": \"#E5ECF6\", \"polar\": {\"angularaxis\": {\"gridcolor\": \"white\", \"linecolor\": \"white\", \"ticks\": \"\"}, \"bgcolor\": \"#E5ECF6\", \"radialaxis\": {\"gridcolor\": \"white\", \"linecolor\": \"white\", \"ticks\": \"\"}}, \"scene\": {\"xaxis\": {\"backgroundcolor\": \"#E5ECF6\", \"gridcolor\": \"white\", \"gridwidth\": 2, \"linecolor\": \"white\", \"showbackground\": true, \"ticks\": \"\", \"zerolinecolor\": \"white\"}, \"yaxis\": {\"backgroundcolor\": \"#E5ECF6\", \"gridcolor\": \"white\", \"gridwidth\": 2, \"linecolor\": \"white\", \"showbackground\": true, \"ticks\": \"\", \"zerolinecolor\": \"white\"}, \"zaxis\": {\"backgroundcolor\": \"#E5ECF6\", \"gridcolor\": \"white\", \"gridwidth\": 2, \"linecolor\": \"white\", \"showbackground\": true, \"ticks\": \"\", \"zerolinecolor\": \"white\"}}, \"shapedefaults\": {\"line\": {\"color\": \"#2a3f5f\"}}, \"ternary\": {\"aaxis\": {\"gridcolor\": \"white\", \"linecolor\": \"white\", \"ticks\": \"\"}, \"baxis\": {\"gridcolor\": \"white\", \"linecolor\": \"white\", \"ticks\": \"\"}, \"bgcolor\": \"#E5ECF6\", \"caxis\": {\"gridcolor\": \"white\", \"linecolor\": \"white\", \"ticks\": \"\"}}, \"title\": {\"x\": 0.05}, \"xaxis\": {\"automargin\": true, \"gridcolor\": \"white\", \"linecolor\": \"white\", \"ticks\": \"\", \"title\": {\"standoff\": 15}, \"zerolinecolor\": \"white\", \"zerolinewidth\": 2}, \"yaxis\": {\"automargin\": true, \"gridcolor\": \"white\", \"linecolor\": \"white\", \"ticks\": \"\", \"title\": {\"standoff\": 15}, \"zerolinecolor\": \"white\", \"zerolinewidth\": 2}}}, \"title\": {\"font\": {\"color\": \"#4D5663\"}}, \"xaxis\": {\"gridcolor\": \"#E1E5ED\", \"showgrid\": true, \"tickfont\": {\"color\": \"#4D5663\"}, \"title\": {\"font\": {\"color\": \"#4D5663\"}, \"text\": \"\"}, \"zerolinecolor\": \"#E1E5ED\"}, \"yaxis\": {\"gridcolor\": \"#E1E5ED\", \"showgrid\": true, \"tickfont\": {\"color\": \"#4D5663\"}, \"title\": {\"font\": {\"color\": \"#4D5663\"}, \"text\": \"\"}, \"zerolinecolor\": \"#E1E5ED\"}},                        {\"showLink\": true, \"linkText\": \"Export to plot.ly\", \"plotlyServerURL\": \"https://plot.ly\", \"responsive\": true}                    ).then(function(){\n                            \nvar gd = document.getElementById('e701644d-997c-45ee-95e2-39e8ec45e299');\nvar x = new MutationObserver(function (mutations, observer) {{\n        var display = window.getComputedStyle(gd).display;\n        if (!display || display === 'none') {{\n            console.log([gd, 'removed!']);\n            Plotly.purge(gd);\n            observer.disconnect();\n        }}\n}});\n\n// Listen for the removal of the full notebook cells\nvar notebookContainer = gd.closest('#notebook-container');\nif (notebookContainer) {{\n    x.observe(notebookContainer, {childList: true});\n}}\n\n// Listen for the clearing of the current output cell\nvar outputEl = gd.closest('.output');\nif (outputEl) {{\n    x.observe(outputEl, {childList: true});\n}}\n\n                        })                };                });            </script>        </div>"
     },
     "metadata": {}
    }
   ],
   "source": [
    "df['A'].iplot(kind='hist', bins=25)"
   ]
  },
  {
   "cell_type": "code",
   "execution_count": 16,
   "metadata": {},
   "outputs": [
    {
     "output_type": "display_data",
     "data": {
      "application/vnd.plotly.v1+json": {
       "config": {
        "linkText": "Export to plot.ly",
        "plotlyServerURL": "https://plot.ly",
        "showLink": true
       },
       "data": [
        {
         "histfunc": "count",
         "histnorm": "",
         "marker": {
          "color": "rgba(255, 153, 51, 1.0)",
          "line": {
           "color": "#4D5663",
           "width": 1.3
          }
         },
         "name": "A",
         "opacity": 0.8,
         "orientation": "v",
         "type": "histogram",
         "x": [
          -1.3029910260185527,
          -0.6345409755605936,
          -0.4970843398185257,
          -0.3992817913574426,
          0.3542058101349474,
          0.8543758691640285,
          -1.0468768028721744,
          0.2789171405384338,
          -0.76171218492107,
          0.40464930572129154,
          -0.6384727864741406,
          -1.3458595010765868,
          1.5657969612355531,
          1.852087700752619,
          -1.858209315329607,
          1.0548013998797294,
          0.2331479668856663,
          -0.8635754387722143,
          4.417467107403022,
          1.40622229909111,
          -2.015032676198931,
          -0.2561727767083366,
          0.7382067662237576,
          0.7037797661928586,
          -0.5543212368675678,
          1.3409664893306001,
          -1.7303621843739518,
          0.4775972268947309,
          -0.4620894851875813,
          -0.7400384250472646,
          -0.5446018259363711,
          -1.5889874108236144,
          -0.5426498848727573,
          0.5011120325214004,
          -0.7517444948429257,
          0.028493823762782523,
          0.02854923672584782,
          -1.9593429113352838,
          1.9845931234194278,
          -0.7558075542719448,
          0.8298734827966223,
          -0.23560652672566115,
          1.6578554250685131,
          -0.9763334820803592,
          1.5226477828864031,
          0.2768256161764863,
          0.891783019254991,
          0.40892348209705315,
          0.9001034755451008,
          -0.3197994322786932,
          -0.03294865030857477,
          0.296044672372106,
          0.3432723261782436,
          1.0901163597253134,
          0.7047239300778516,
          0.8813199972630109,
          -0.45744344192105174,
          0.04157430103289277,
          0.8276125056952289,
          -0.9480788642567572,
          -0.6044676168417205,
          1.611867714416388,
          1.2246848807776154,
          -0.6328198355511625,
          0.9464537467313994,
          0.36599133674643897,
          -0.8798817680838723,
          -1.3230735318416644,
          -0.6595945535162456,
          0.13797127187224512,
          0.15451324844661918,
          -0.17374227573073595,
          0.8607055851340712,
          -1.4650580768799903,
          0.656323657390342,
          -0.4557291434314094,
          0.345607076807079,
          0.19745473049773005,
          1.514847404376252,
          -0.18607690739128482,
          -1.8016979248982299,
          -0.19761125496540985,
          -0.5909773454319642,
          0.9755262457915866,
          1.3205693996435137,
          -0.8337816922682474,
          -0.5331440794813804,
          0.13810379120023636,
          0.6908652576755376,
          2.4042990640209925,
          -0.4613939277138382,
          0.49764752630670156,
          -0.35148286196763745,
          -1.1701644083500602,
          0.1348354270164706,
          -1.9629604731270334,
          -0.003863839593197497,
          -0.4354492036023001,
          -1.3922277145959536,
          -1.5090989891608224
         ]
        },
        {
         "histfunc": "count",
         "histnorm": "",
         "marker": {
          "color": "rgba(55, 128, 191, 1.0)",
          "line": {
           "color": "#4D5663",
           "width": 1.3
          }
         },
         "name": "B",
         "opacity": 0.8,
         "orientation": "v",
         "type": "histogram",
         "x": [
          1.6882512260973117,
          0.5158710176755467,
          0.23873990299003114,
          -0.3145327392960178,
          -0.05786817255526092,
          0.9910843865872273,
          -1.0359585321881506,
          -0.5698709915778961,
          -0.18398005469406745,
          2.207853423864874,
          -1.5915361144745996,
          -0.04509144587511076,
          1.4524707552409064,
          0.009529666735718404,
          0.38086626935385665,
          -1.3655534301942167,
          -0.6323354798386047,
          0.1299661205027946,
          -1.0802218366789245,
          -0.4001497721668597,
          0.4569183313465229,
          0.5725027864331934,
          -0.786801615614401,
          -0.4607091302129849,
          0.4387832560969114,
          -0.8681951918586254,
          -0.17024126947998658,
          -0.18772649499073882,
          0.8301378378358303,
          -0.6854567252345459,
          -0.9692801208233021,
          1.093008227937934,
          0.4055615455099214,
          -0.4627488465376716,
          0.6583239260354653,
          0.4433568775285607,
          -0.6035229622366626,
          0.24292340871916762,
          -1.5042957825197651,
          -0.3000603027015591,
          0.34142667945691635,
          -0.32482252628960095,
          -0.4433082234932536,
          3.9440742696935183,
          0.6207740079924924,
          0.38968436436994813,
          -0.6817579363443267,
          0.5324818222762935,
          1.657366941484701,
          -2.170981037992793,
          1.9267561793656178,
          0.24012012482685968,
          0.7956723907522188,
          1.7024993954432366,
          -0.7873073675113008,
          2.8706607317065327,
          -0.6560868407201098,
          -1.0410526481187512,
          0.5161361158856086,
          -0.19460530871301887,
          0.6339646401989558,
          -0.4339578914814445,
          0.5359625838619514,
          -0.35184245858300894,
          1.267781690132369,
          1.4428270469701054,
          -2.3783123560981556,
          0.4022682155326851,
          -0.08789270205665065,
          -0.10123022381383125,
          -0.9780231207040389,
          0.5689741256244726,
          0.05688867947033349,
          -0.8285477988648572,
          -0.9503655814587794,
          0.7191848562066077,
          -1.8851542589635966,
          0.43590135574921746,
          -1.2959988337617907,
          -0.5187077191995955,
          -1.004562271290593,
          1.1677495409372405,
          0.6273603363579863,
          -1.3749559508117815,
          -1.1168796208778597,
          0.7718042568586778,
          -0.34632674300445754,
          0.6127372641882435,
          0.9711121349827319,
          -1.078653942896353,
          0.24404343023187977,
          -0.6824417313159293,
          0.5528694965383156,
          1.4310992595922643,
          -1.8101215673535866,
          -0.7755550623471177,
          0.4390286964608778,
          1.1952452180489437,
          1.368550012271986,
          2.0617211569183644
         ]
        },
        {
         "histfunc": "count",
         "histnorm": "",
         "marker": {
          "color": "rgba(50, 171, 96, 1.0)",
          "line": {
           "color": "#4D5663",
           "width": 1.3
          }
         },
         "name": "C",
         "opacity": 0.8,
         "orientation": "v",
         "type": "histogram",
         "x": [
          -0.8264506896233805,
          -1.176350899758253,
          -0.3677318188530756,
          -1.4720044653787656,
          -1.1588858045628407,
          0.7456953964634894,
          0.9566298973293653,
          -1.20693808448789,
          0.6174914037644343,
          -1.1909576331256633,
          0.2701066171754702,
          0.5994816206301261,
          1.1814159707156198,
          0.7832863821980021,
          1.240112408998169,
          0.34545333408179524,
          -0.6008125344385378,
          0.9289027324451608,
          0.2566003424581543,
          1.006205400995946,
          0.6119900986898285,
          -0.22549823130571103,
          0.3898590248891198,
          0.07599263922972696,
          0.727470442932236,
          -0.08176203193937615,
          -1.3599930411133478,
          0.17224613831251542,
          -0.4727843796394581,
          -0.8060233755273365,
          0.5055975265481226,
          -1.8753494400479889,
          1.2941730790456025,
          1.5744102948673322,
          0.7387730258347036,
          0.5860045969300058,
          -0.723619796547478,
          -1.0417591768263024,
          -0.470771560915133,
          -1.4929970412565141,
          -0.32707911189483263,
          0.7282251781063928,
          -1.377605043831834,
          0.16343450498583165,
          1.356744370844419,
          -0.3312365717940639,
          -0.8250322594337683,
          0.07941500296377305,
          -1.162689769676185,
          0.05374250312152779,
          0.7604301001397885,
          0.43896084929677054,
          -0.8820998638015842,
          0.5499624730620242,
          0.9140106310131192,
          1.055917905098612,
          -0.7414955604032043,
          -0.5463212937101766,
          0.4955784597360281,
          -0.02354492683148001,
          -0.3727337336161601,
          -0.9852186141474171,
          -0.7678438413812869,
          -1.2236613002725114,
          0.15284364016870355,
          2.0468554192192165,
          -0.9126705058694156,
          1.4446749566113084,
          -0.7116661162542393,
          -1.1444509425362968,
          0.9164979198882102,
          1.2037589326356088,
          0.12920025623173145,
          1.6007240787584662,
          1.5529956912491711,
          -0.4575394938769466,
          -1.6977306145222575,
          -1.1204170929687185,
          0.2935858280530774,
          1.462026892082136,
          0.9286319801513351,
          0.008154553256302497,
          -1.2129074476653168,
          0.4178486727721547,
          -1.3006006388635418,
          0.5936363842794125,
          1.8163543415605183,
          -0.024725382636794385,
          -2.2280124441295257,
          1.0747791114191572,
          -1.4637658946247378,
          1.7400313929211857,
          -0.17307079517082638,
          0.42330521334767957,
          0.2374962757042385,
          -0.450632373356384,
          -0.45411844823390657,
          1.5364162778575143,
          0.42605356124318955,
          0.5527684042994255
         ]
        },
        {
         "histfunc": "count",
         "histnorm": "",
         "marker": {
          "color": "rgba(128, 0, 128, 1.0)",
          "line": {
           "color": "#4D5663",
           "width": 1.3
          }
         },
         "name": "D",
         "opacity": 0.8,
         "orientation": "v",
         "type": "histogram",
         "x": [
          -0.02626126961239427,
          -0.436014881361742,
          -0.3746321667542666,
          -0.43216934958036024,
          -1.9974703484738867,
          1.2203531692837355,
          1.1969354738635678,
          0.9056019367494507,
          2.5720971475191883,
          0.43861258089649235,
          1.3317194608358982,
          0.5804740490811431,
          0.3077945483687238,
          1.6207599520155838,
          -0.5857332939936494,
          -0.6689876810133815,
          1.1206919741925525,
          -0.3336276964064453,
          1.1609344777097421,
          -0.26900488931924105,
          1.1712042963975622,
          0.0933795353367121,
          0.41583992888089016,
          -0.6347147363346544,
          0.7633242571824619,
          -0.10102603169494762,
          -1.2986620354909197,
          1.0827016298883472,
          -0.32468579666207514,
          -0.8859287637785489,
          -1.030107173254222,
          1.4737090699923479,
          -0.17920520077362406,
          0.06458867694275676,
          -1.279871590415289,
          -0.37469460192309745,
          0.3613118925257818,
          -0.10553188426851909,
          2.156530435307609,
          -0.4025178060597154,
          -1.238293891673967,
          0.6763307466900181,
          0.09492200812990038,
          -1.6930694486223723,
          0.754338631432365,
          0.723715681107002,
          1.282071986265144,
          0.6982381931950387,
          0.9096661806440242,
          -0.5083574342153262,
          0.49113495132250656,
          -1.168635345365327,
          0.12912079274750446,
          -1.4147372785994312,
          0.3180186838907405,
          1.8974476996167633,
          -0.6349760896472313,
          1.6882633339919006,
          1.1727983010460261,
          0.34320252803706036,
          -0.08701180281681982,
          0.19676805834946226,
          1.7546858039185933,
          1.7829563655292369,
          -0.06744100113006737,
          0.0010950975845474401,
          -1.3724589104158895,
          -1.2639376633178299,
          0.0857561528368096,
          -0.1627168101147695,
          0.046807728793893964,
          -1.0676971513463354,
          0.3227992372582722,
          -0.05211477076076739,
          -0.5155955172641732,
          -0.8002845641305231,
          -0.48676442189545316,
          -1.5507128205030964,
          -0.07761419707755418,
          0.6811570782522675,
          -0.09173325205891147,
          0.36275087610712453,
          -1.5206926005171164,
          -1.1961642675468969,
          0.5941657842161046,
          -0.1930731683743713,
          -0.9557696029219265,
          -2.4737323835476728,
          1.8101360144490268,
          -2.408067857025599,
          1.2513781659366312,
          0.6872632233258075,
          1.1005577735064482,
          -0.8285815734428673,
          -0.3490644553758048,
          -0.9381096106464754,
          0.20987495748261986,
          -0.17402357693801282,
          0.9641646450245878,
          0.16431066827431753
         ]
        }
       ],
       "layout": {
        "barmode": "overlay",
        "legend": {
         "bgcolor": "#F5F6F9",
         "font": {
          "color": "#4D5663"
         }
        },
        "paper_bgcolor": "#F5F6F9",
        "plot_bgcolor": "#F5F6F9",
        "template": {
         "data": {
          "bar": [
           {
            "error_x": {
             "color": "#2a3f5f"
            },
            "error_y": {
             "color": "#2a3f5f"
            },
            "marker": {
             "line": {
              "color": "#E5ECF6",
              "width": 0.5
             }
            },
            "type": "bar"
           }
          ],
          "barpolar": [
           {
            "marker": {
             "line": {
              "color": "#E5ECF6",
              "width": 0.5
             }
            },
            "type": "barpolar"
           }
          ],
          "carpet": [
           {
            "aaxis": {
             "endlinecolor": "#2a3f5f",
             "gridcolor": "white",
             "linecolor": "white",
             "minorgridcolor": "white",
             "startlinecolor": "#2a3f5f"
            },
            "baxis": {
             "endlinecolor": "#2a3f5f",
             "gridcolor": "white",
             "linecolor": "white",
             "minorgridcolor": "white",
             "startlinecolor": "#2a3f5f"
            },
            "type": "carpet"
           }
          ],
          "choropleth": [
           {
            "colorbar": {
             "outlinewidth": 0,
             "ticks": ""
            },
            "type": "choropleth"
           }
          ],
          "contour": [
           {
            "colorbar": {
             "outlinewidth": 0,
             "ticks": ""
            },
            "colorscale": [
             [
              0,
              "#0d0887"
             ],
             [
              0.1111111111111111,
              "#46039f"
             ],
             [
              0.2222222222222222,
              "#7201a8"
             ],
             [
              0.3333333333333333,
              "#9c179e"
             ],
             [
              0.4444444444444444,
              "#bd3786"
             ],
             [
              0.5555555555555556,
              "#d8576b"
             ],
             [
              0.6666666666666666,
              "#ed7953"
             ],
             [
              0.7777777777777778,
              "#fb9f3a"
             ],
             [
              0.8888888888888888,
              "#fdca26"
             ],
             [
              1,
              "#f0f921"
             ]
            ],
            "type": "contour"
           }
          ],
          "contourcarpet": [
           {
            "colorbar": {
             "outlinewidth": 0,
             "ticks": ""
            },
            "type": "contourcarpet"
           }
          ],
          "heatmap": [
           {
            "colorbar": {
             "outlinewidth": 0,
             "ticks": ""
            },
            "colorscale": [
             [
              0,
              "#0d0887"
             ],
             [
              0.1111111111111111,
              "#46039f"
             ],
             [
              0.2222222222222222,
              "#7201a8"
             ],
             [
              0.3333333333333333,
              "#9c179e"
             ],
             [
              0.4444444444444444,
              "#bd3786"
             ],
             [
              0.5555555555555556,
              "#d8576b"
             ],
             [
              0.6666666666666666,
              "#ed7953"
             ],
             [
              0.7777777777777778,
              "#fb9f3a"
             ],
             [
              0.8888888888888888,
              "#fdca26"
             ],
             [
              1,
              "#f0f921"
             ]
            ],
            "type": "heatmap"
           }
          ],
          "heatmapgl": [
           {
            "colorbar": {
             "outlinewidth": 0,
             "ticks": ""
            },
            "colorscale": [
             [
              0,
              "#0d0887"
             ],
             [
              0.1111111111111111,
              "#46039f"
             ],
             [
              0.2222222222222222,
              "#7201a8"
             ],
             [
              0.3333333333333333,
              "#9c179e"
             ],
             [
              0.4444444444444444,
              "#bd3786"
             ],
             [
              0.5555555555555556,
              "#d8576b"
             ],
             [
              0.6666666666666666,
              "#ed7953"
             ],
             [
              0.7777777777777778,
              "#fb9f3a"
             ],
             [
              0.8888888888888888,
              "#fdca26"
             ],
             [
              1,
              "#f0f921"
             ]
            ],
            "type": "heatmapgl"
           }
          ],
          "histogram": [
           {
            "marker": {
             "colorbar": {
              "outlinewidth": 0,
              "ticks": ""
             }
            },
            "type": "histogram"
           }
          ],
          "histogram2d": [
           {
            "colorbar": {
             "outlinewidth": 0,
             "ticks": ""
            },
            "colorscale": [
             [
              0,
              "#0d0887"
             ],
             [
              0.1111111111111111,
              "#46039f"
             ],
             [
              0.2222222222222222,
              "#7201a8"
             ],
             [
              0.3333333333333333,
              "#9c179e"
             ],
             [
              0.4444444444444444,
              "#bd3786"
             ],
             [
              0.5555555555555556,
              "#d8576b"
             ],
             [
              0.6666666666666666,
              "#ed7953"
             ],
             [
              0.7777777777777778,
              "#fb9f3a"
             ],
             [
              0.8888888888888888,
              "#fdca26"
             ],
             [
              1,
              "#f0f921"
             ]
            ],
            "type": "histogram2d"
           }
          ],
          "histogram2dcontour": [
           {
            "colorbar": {
             "outlinewidth": 0,
             "ticks": ""
            },
            "colorscale": [
             [
              0,
              "#0d0887"
             ],
             [
              0.1111111111111111,
              "#46039f"
             ],
             [
              0.2222222222222222,
              "#7201a8"
             ],
             [
              0.3333333333333333,
              "#9c179e"
             ],
             [
              0.4444444444444444,
              "#bd3786"
             ],
             [
              0.5555555555555556,
              "#d8576b"
             ],
             [
              0.6666666666666666,
              "#ed7953"
             ],
             [
              0.7777777777777778,
              "#fb9f3a"
             ],
             [
              0.8888888888888888,
              "#fdca26"
             ],
             [
              1,
              "#f0f921"
             ]
            ],
            "type": "histogram2dcontour"
           }
          ],
          "mesh3d": [
           {
            "colorbar": {
             "outlinewidth": 0,
             "ticks": ""
            },
            "type": "mesh3d"
           }
          ],
          "parcoords": [
           {
            "line": {
             "colorbar": {
              "outlinewidth": 0,
              "ticks": ""
             }
            },
            "type": "parcoords"
           }
          ],
          "pie": [
           {
            "automargin": true,
            "type": "pie"
           }
          ],
          "scatter": [
           {
            "marker": {
             "colorbar": {
              "outlinewidth": 0,
              "ticks": ""
             }
            },
            "type": "scatter"
           }
          ],
          "scatter3d": [
           {
            "line": {
             "colorbar": {
              "outlinewidth": 0,
              "ticks": ""
             }
            },
            "marker": {
             "colorbar": {
              "outlinewidth": 0,
              "ticks": ""
             }
            },
            "type": "scatter3d"
           }
          ],
          "scattercarpet": [
           {
            "marker": {
             "colorbar": {
              "outlinewidth": 0,
              "ticks": ""
             }
            },
            "type": "scattercarpet"
           }
          ],
          "scattergeo": [
           {
            "marker": {
             "colorbar": {
              "outlinewidth": 0,
              "ticks": ""
             }
            },
            "type": "scattergeo"
           }
          ],
          "scattergl": [
           {
            "marker": {
             "colorbar": {
              "outlinewidth": 0,
              "ticks": ""
             }
            },
            "type": "scattergl"
           }
          ],
          "scattermapbox": [
           {
            "marker": {
             "colorbar": {
              "outlinewidth": 0,
              "ticks": ""
             }
            },
            "type": "scattermapbox"
           }
          ],
          "scatterpolar": [
           {
            "marker": {
             "colorbar": {
              "outlinewidth": 0,
              "ticks": ""
             }
            },
            "type": "scatterpolar"
           }
          ],
          "scatterpolargl": [
           {
            "marker": {
             "colorbar": {
              "outlinewidth": 0,
              "ticks": ""
             }
            },
            "type": "scatterpolargl"
           }
          ],
          "scatterternary": [
           {
            "marker": {
             "colorbar": {
              "outlinewidth": 0,
              "ticks": ""
             }
            },
            "type": "scatterternary"
           }
          ],
          "surface": [
           {
            "colorbar": {
             "outlinewidth": 0,
             "ticks": ""
            },
            "colorscale": [
             [
              0,
              "#0d0887"
             ],
             [
              0.1111111111111111,
              "#46039f"
             ],
             [
              0.2222222222222222,
              "#7201a8"
             ],
             [
              0.3333333333333333,
              "#9c179e"
             ],
             [
              0.4444444444444444,
              "#bd3786"
             ],
             [
              0.5555555555555556,
              "#d8576b"
             ],
             [
              0.6666666666666666,
              "#ed7953"
             ],
             [
              0.7777777777777778,
              "#fb9f3a"
             ],
             [
              0.8888888888888888,
              "#fdca26"
             ],
             [
              1,
              "#f0f921"
             ]
            ],
            "type": "surface"
           }
          ],
          "table": [
           {
            "cells": {
             "fill": {
              "color": "#EBF0F8"
             },
             "line": {
              "color": "white"
             }
            },
            "header": {
             "fill": {
              "color": "#C8D4E3"
             },
             "line": {
              "color": "white"
             }
            },
            "type": "table"
           }
          ]
         },
         "layout": {
          "annotationdefaults": {
           "arrowcolor": "#2a3f5f",
           "arrowhead": 0,
           "arrowwidth": 1
          },
          "coloraxis": {
           "colorbar": {
            "outlinewidth": 0,
            "ticks": ""
           }
          },
          "colorscale": {
           "diverging": [
            [
             0,
             "#8e0152"
            ],
            [
             0.1,
             "#c51b7d"
            ],
            [
             0.2,
             "#de77ae"
            ],
            [
             0.3,
             "#f1b6da"
            ],
            [
             0.4,
             "#fde0ef"
            ],
            [
             0.5,
             "#f7f7f7"
            ],
            [
             0.6,
             "#e6f5d0"
            ],
            [
             0.7,
             "#b8e186"
            ],
            [
             0.8,
             "#7fbc41"
            ],
            [
             0.9,
             "#4d9221"
            ],
            [
             1,
             "#276419"
            ]
           ],
           "sequential": [
            [
             0,
             "#0d0887"
            ],
            [
             0.1111111111111111,
             "#46039f"
            ],
            [
             0.2222222222222222,
             "#7201a8"
            ],
            [
             0.3333333333333333,
             "#9c179e"
            ],
            [
             0.4444444444444444,
             "#bd3786"
            ],
            [
             0.5555555555555556,
             "#d8576b"
            ],
            [
             0.6666666666666666,
             "#ed7953"
            ],
            [
             0.7777777777777778,
             "#fb9f3a"
            ],
            [
             0.8888888888888888,
             "#fdca26"
            ],
            [
             1,
             "#f0f921"
            ]
           ],
           "sequentialminus": [
            [
             0,
             "#0d0887"
            ],
            [
             0.1111111111111111,
             "#46039f"
            ],
            [
             0.2222222222222222,
             "#7201a8"
            ],
            [
             0.3333333333333333,
             "#9c179e"
            ],
            [
             0.4444444444444444,
             "#bd3786"
            ],
            [
             0.5555555555555556,
             "#d8576b"
            ],
            [
             0.6666666666666666,
             "#ed7953"
            ],
            [
             0.7777777777777778,
             "#fb9f3a"
            ],
            [
             0.8888888888888888,
             "#fdca26"
            ],
            [
             1,
             "#f0f921"
            ]
           ]
          },
          "colorway": [
           "#636efa",
           "#EF553B",
           "#00cc96",
           "#ab63fa",
           "#FFA15A",
           "#19d3f3",
           "#FF6692",
           "#B6E880",
           "#FF97FF",
           "#FECB52"
          ],
          "font": {
           "color": "#2a3f5f"
          },
          "geo": {
           "bgcolor": "white",
           "lakecolor": "white",
           "landcolor": "#E5ECF6",
           "showlakes": true,
           "showland": true,
           "subunitcolor": "white"
          },
          "hoverlabel": {
           "align": "left"
          },
          "hovermode": "closest",
          "mapbox": {
           "style": "light"
          },
          "paper_bgcolor": "white",
          "plot_bgcolor": "#E5ECF6",
          "polar": {
           "angularaxis": {
            "gridcolor": "white",
            "linecolor": "white",
            "ticks": ""
           },
           "bgcolor": "#E5ECF6",
           "radialaxis": {
            "gridcolor": "white",
            "linecolor": "white",
            "ticks": ""
           }
          },
          "scene": {
           "xaxis": {
            "backgroundcolor": "#E5ECF6",
            "gridcolor": "white",
            "gridwidth": 2,
            "linecolor": "white",
            "showbackground": true,
            "ticks": "",
            "zerolinecolor": "white"
           },
           "yaxis": {
            "backgroundcolor": "#E5ECF6",
            "gridcolor": "white",
            "gridwidth": 2,
            "linecolor": "white",
            "showbackground": true,
            "ticks": "",
            "zerolinecolor": "white"
           },
           "zaxis": {
            "backgroundcolor": "#E5ECF6",
            "gridcolor": "white",
            "gridwidth": 2,
            "linecolor": "white",
            "showbackground": true,
            "ticks": "",
            "zerolinecolor": "white"
           }
          },
          "shapedefaults": {
           "line": {
            "color": "#2a3f5f"
           }
          },
          "ternary": {
           "aaxis": {
            "gridcolor": "white",
            "linecolor": "white",
            "ticks": ""
           },
           "baxis": {
            "gridcolor": "white",
            "linecolor": "white",
            "ticks": ""
           },
           "bgcolor": "#E5ECF6",
           "caxis": {
            "gridcolor": "white",
            "linecolor": "white",
            "ticks": ""
           }
          },
          "title": {
           "x": 0.05
          },
          "xaxis": {
           "automargin": true,
           "gridcolor": "white",
           "linecolor": "white",
           "ticks": "",
           "title": {
            "standoff": 15
           },
           "zerolinecolor": "white",
           "zerolinewidth": 2
          },
          "yaxis": {
           "automargin": true,
           "gridcolor": "white",
           "linecolor": "white",
           "ticks": "",
           "title": {
            "standoff": 15
           },
           "zerolinecolor": "white",
           "zerolinewidth": 2
          }
         }
        },
        "title": {
         "font": {
          "color": "#4D5663"
         }
        },
        "xaxis": {
         "gridcolor": "#E1E5ED",
         "showgrid": true,
         "tickfont": {
          "color": "#4D5663"
         },
         "title": {
          "font": {
           "color": "#4D5663"
          },
          "text": ""
         },
         "zerolinecolor": "#E1E5ED"
        },
        "yaxis": {
         "gridcolor": "#E1E5ED",
         "showgrid": true,
         "tickfont": {
          "color": "#4D5663"
         },
         "title": {
          "font": {
           "color": "#4D5663"
          },
          "text": ""
         },
         "zerolinecolor": "#E1E5ED"
        }
       }
      },
      "text/html": "<div>                            <div id=\"a157ea13-6ce4-424e-be6f-a3c57021ccba\" class=\"plotly-graph-div\" style=\"height:525px; width:100%;\"></div>            <script type=\"text/javascript\">                require([\"plotly\"], function(Plotly) {                    window.PLOTLYENV=window.PLOTLYENV || {};\n                    window.PLOTLYENV.BASE_URL='https://plot.ly';                                    if (document.getElementById(\"a157ea13-6ce4-424e-be6f-a3c57021ccba\")) {                    Plotly.newPlot(                        \"a157ea13-6ce4-424e-be6f-a3c57021ccba\",                        [{\"histfunc\": \"count\", \"histnorm\": \"\", \"marker\": {\"color\": \"rgba(255, 153, 51, 1.0)\", \"line\": {\"color\": \"#4D5663\", \"width\": 1.3}}, \"name\": \"A\", \"opacity\": 0.8, \"orientation\": \"v\", \"type\": \"histogram\", \"x\": [-1.3029910260185527, -0.6345409755605936, -0.4970843398185257, -0.3992817913574426, 0.3542058101349474, 0.8543758691640285, -1.0468768028721744, 0.2789171405384338, -0.76171218492107, 0.40464930572129154, -0.6384727864741406, -1.3458595010765868, 1.5657969612355531, 1.852087700752619, -1.858209315329607, 1.0548013998797294, 0.2331479668856663, -0.8635754387722143, 4.417467107403022, 1.40622229909111, -2.015032676198931, -0.2561727767083366, 0.7382067662237576, 0.7037797661928586, -0.5543212368675678, 1.3409664893306001, -1.7303621843739518, 0.4775972268947309, -0.4620894851875813, -0.7400384250472646, -0.5446018259363711, -1.5889874108236144, -0.5426498848727573, 0.5011120325214004, -0.7517444948429257, 0.028493823762782523, 0.02854923672584782, -1.9593429113352838, 1.9845931234194278, -0.7558075542719448, 0.8298734827966223, -0.23560652672566115, 1.6578554250685131, -0.9763334820803592, 1.5226477828864031, 0.2768256161764863, 0.891783019254991, 0.40892348209705315, 0.9001034755451008, -0.3197994322786932, -0.03294865030857477, 0.296044672372106, 0.3432723261782436, 1.0901163597253134, 0.7047239300778516, 0.8813199972630109, -0.45744344192105174, 0.04157430103289277, 0.8276125056952289, -0.9480788642567572, -0.6044676168417205, 1.611867714416388, 1.2246848807776154, -0.6328198355511625, 0.9464537467313994, 0.36599133674643897, -0.8798817680838723, -1.3230735318416644, -0.6595945535162456, 0.13797127187224512, 0.15451324844661918, -0.17374227573073595, 0.8607055851340712, -1.4650580768799903, 0.656323657390342, -0.4557291434314094, 0.345607076807079, 0.19745473049773005, 1.514847404376252, -0.18607690739128482, -1.8016979248982299, -0.19761125496540985, -0.5909773454319642, 0.9755262457915866, 1.3205693996435137, -0.8337816922682474, -0.5331440794813804, 0.13810379120023636, 0.6908652576755376, 2.4042990640209925, -0.4613939277138382, 0.49764752630670156, -0.35148286196763745, -1.1701644083500602, 0.1348354270164706, -1.9629604731270334, -0.003863839593197497, -0.4354492036023001, -1.3922277145959536, -1.5090989891608224]}, {\"histfunc\": \"count\", \"histnorm\": \"\", \"marker\": {\"color\": \"rgba(55, 128, 191, 1.0)\", \"line\": {\"color\": \"#4D5663\", \"width\": 1.3}}, \"name\": \"B\", \"opacity\": 0.8, \"orientation\": \"v\", \"type\": \"histogram\", \"x\": [1.6882512260973117, 0.5158710176755467, 0.23873990299003114, -0.3145327392960178, -0.05786817255526092, 0.9910843865872273, -1.0359585321881506, -0.5698709915778961, -0.18398005469406745, 2.207853423864874, -1.5915361144745996, -0.04509144587511076, 1.4524707552409064, 0.009529666735718404, 0.38086626935385665, -1.3655534301942167, -0.6323354798386047, 0.1299661205027946, -1.0802218366789245, -0.4001497721668597, 0.4569183313465229, 0.5725027864331934, -0.786801615614401, -0.4607091302129849, 0.4387832560969114, -0.8681951918586254, -0.17024126947998658, -0.18772649499073882, 0.8301378378358303, -0.6854567252345459, -0.9692801208233021, 1.093008227937934, 0.4055615455099214, -0.4627488465376716, 0.6583239260354653, 0.4433568775285607, -0.6035229622366626, 0.24292340871916762, -1.5042957825197651, -0.3000603027015591, 0.34142667945691635, -0.32482252628960095, -0.4433082234932536, 3.9440742696935183, 0.6207740079924924, 0.38968436436994813, -0.6817579363443267, 0.5324818222762935, 1.657366941484701, -2.170981037992793, 1.9267561793656178, 0.24012012482685968, 0.7956723907522188, 1.7024993954432366, -0.7873073675113008, 2.8706607317065327, -0.6560868407201098, -1.0410526481187512, 0.5161361158856086, -0.19460530871301887, 0.6339646401989558, -0.4339578914814445, 0.5359625838619514, -0.35184245858300894, 1.267781690132369, 1.4428270469701054, -2.3783123560981556, 0.4022682155326851, -0.08789270205665065, -0.10123022381383125, -0.9780231207040389, 0.5689741256244726, 0.05688867947033349, -0.8285477988648572, -0.9503655814587794, 0.7191848562066077, -1.8851542589635966, 0.43590135574921746, -1.2959988337617907, -0.5187077191995955, -1.004562271290593, 1.1677495409372405, 0.6273603363579863, -1.3749559508117815, -1.1168796208778597, 0.7718042568586778, -0.34632674300445754, 0.6127372641882435, 0.9711121349827319, -1.078653942896353, 0.24404343023187977, -0.6824417313159293, 0.5528694965383156, 1.4310992595922643, -1.8101215673535866, -0.7755550623471177, 0.4390286964608778, 1.1952452180489437, 1.368550012271986, 2.0617211569183644]}, {\"histfunc\": \"count\", \"histnorm\": \"\", \"marker\": {\"color\": \"rgba(50, 171, 96, 1.0)\", \"line\": {\"color\": \"#4D5663\", \"width\": 1.3}}, \"name\": \"C\", \"opacity\": 0.8, \"orientation\": \"v\", \"type\": \"histogram\", \"x\": [-0.8264506896233805, -1.176350899758253, -0.3677318188530756, -1.4720044653787656, -1.1588858045628407, 0.7456953964634894, 0.9566298973293653, -1.20693808448789, 0.6174914037644343, -1.1909576331256633, 0.2701066171754702, 0.5994816206301261, 1.1814159707156198, 0.7832863821980021, 1.240112408998169, 0.34545333408179524, -0.6008125344385378, 0.9289027324451608, 0.2566003424581543, 1.006205400995946, 0.6119900986898285, -0.22549823130571103, 0.3898590248891198, 0.07599263922972696, 0.727470442932236, -0.08176203193937615, -1.3599930411133478, 0.17224613831251542, -0.4727843796394581, -0.8060233755273365, 0.5055975265481226, -1.8753494400479889, 1.2941730790456025, 1.5744102948673322, 0.7387730258347036, 0.5860045969300058, -0.723619796547478, -1.0417591768263024, -0.470771560915133, -1.4929970412565141, -0.32707911189483263, 0.7282251781063928, -1.377605043831834, 0.16343450498583165, 1.356744370844419, -0.3312365717940639, -0.8250322594337683, 0.07941500296377305, -1.162689769676185, 0.05374250312152779, 0.7604301001397885, 0.43896084929677054, -0.8820998638015842, 0.5499624730620242, 0.9140106310131192, 1.055917905098612, -0.7414955604032043, -0.5463212937101766, 0.4955784597360281, -0.02354492683148001, -0.3727337336161601, -0.9852186141474171, -0.7678438413812869, -1.2236613002725114, 0.15284364016870355, 2.0468554192192165, -0.9126705058694156, 1.4446749566113084, -0.7116661162542393, -1.1444509425362968, 0.9164979198882102, 1.2037589326356088, 0.12920025623173145, 1.6007240787584662, 1.5529956912491711, -0.4575394938769466, -1.6977306145222575, -1.1204170929687185, 0.2935858280530774, 1.462026892082136, 0.9286319801513351, 0.008154553256302497, -1.2129074476653168, 0.4178486727721547, -1.3006006388635418, 0.5936363842794125, 1.8163543415605183, -0.024725382636794385, -2.2280124441295257, 1.0747791114191572, -1.4637658946247378, 1.7400313929211857, -0.17307079517082638, 0.42330521334767957, 0.2374962757042385, -0.450632373356384, -0.45411844823390657, 1.5364162778575143, 0.42605356124318955, 0.5527684042994255]}, {\"histfunc\": \"count\", \"histnorm\": \"\", \"marker\": {\"color\": \"rgba(128, 0, 128, 1.0)\", \"line\": {\"color\": \"#4D5663\", \"width\": 1.3}}, \"name\": \"D\", \"opacity\": 0.8, \"orientation\": \"v\", \"type\": \"histogram\", \"x\": [-0.02626126961239427, -0.436014881361742, -0.3746321667542666, -0.43216934958036024, -1.9974703484738867, 1.2203531692837355, 1.1969354738635678, 0.9056019367494507, 2.5720971475191883, 0.43861258089649235, 1.3317194608358982, 0.5804740490811431, 0.3077945483687238, 1.6207599520155838, -0.5857332939936494, -0.6689876810133815, 1.1206919741925525, -0.3336276964064453, 1.1609344777097421, -0.26900488931924105, 1.1712042963975622, 0.0933795353367121, 0.41583992888089016, -0.6347147363346544, 0.7633242571824619, -0.10102603169494762, -1.2986620354909197, 1.0827016298883472, -0.32468579666207514, -0.8859287637785489, -1.030107173254222, 1.4737090699923479, -0.17920520077362406, 0.06458867694275676, -1.279871590415289, -0.37469460192309745, 0.3613118925257818, -0.10553188426851909, 2.156530435307609, -0.4025178060597154, -1.238293891673967, 0.6763307466900181, 0.09492200812990038, -1.6930694486223723, 0.754338631432365, 0.723715681107002, 1.282071986265144, 0.6982381931950387, 0.9096661806440242, -0.5083574342153262, 0.49113495132250656, -1.168635345365327, 0.12912079274750446, -1.4147372785994312, 0.3180186838907405, 1.8974476996167633, -0.6349760896472313, 1.6882633339919006, 1.1727983010460261, 0.34320252803706036, -0.08701180281681982, 0.19676805834946226, 1.7546858039185933, 1.7829563655292369, -0.06744100113006737, 0.0010950975845474401, -1.3724589104158895, -1.2639376633178299, 0.0857561528368096, -0.1627168101147695, 0.046807728793893964, -1.0676971513463354, 0.3227992372582722, -0.05211477076076739, -0.5155955172641732, -0.8002845641305231, -0.48676442189545316, -1.5507128205030964, -0.07761419707755418, 0.6811570782522675, -0.09173325205891147, 0.36275087610712453, -1.5206926005171164, -1.1961642675468969, 0.5941657842161046, -0.1930731683743713, -0.9557696029219265, -2.4737323835476728, 1.8101360144490268, -2.408067857025599, 1.2513781659366312, 0.6872632233258075, 1.1005577735064482, -0.8285815734428673, -0.3490644553758048, -0.9381096106464754, 0.20987495748261986, -0.17402357693801282, 0.9641646450245878, 0.16431066827431753]}],                        {\"barmode\": \"overlay\", \"legend\": {\"bgcolor\": \"#F5F6F9\", \"font\": {\"color\": \"#4D5663\"}}, \"paper_bgcolor\": \"#F5F6F9\", \"plot_bgcolor\": \"#F5F6F9\", \"template\": {\"data\": {\"bar\": [{\"error_x\": {\"color\": \"#2a3f5f\"}, \"error_y\": {\"color\": \"#2a3f5f\"}, \"marker\": {\"line\": {\"color\": \"#E5ECF6\", \"width\": 0.5}}, \"type\": \"bar\"}], \"barpolar\": [{\"marker\": {\"line\": {\"color\": \"#E5ECF6\", \"width\": 0.5}}, \"type\": \"barpolar\"}], \"carpet\": [{\"aaxis\": {\"endlinecolor\": \"#2a3f5f\", \"gridcolor\": \"white\", \"linecolor\": \"white\", \"minorgridcolor\": \"white\", \"startlinecolor\": \"#2a3f5f\"}, \"baxis\": {\"endlinecolor\": \"#2a3f5f\", \"gridcolor\": \"white\", \"linecolor\": \"white\", \"minorgridcolor\": \"white\", \"startlinecolor\": \"#2a3f5f\"}, \"type\": \"carpet\"}], \"choropleth\": [{\"colorbar\": {\"outlinewidth\": 0, \"ticks\": \"\"}, \"type\": \"choropleth\"}], \"contour\": [{\"colorbar\": {\"outlinewidth\": 0, \"ticks\": \"\"}, \"colorscale\": [[0.0, \"#0d0887\"], [0.1111111111111111, \"#46039f\"], [0.2222222222222222, \"#7201a8\"], [0.3333333333333333, \"#9c179e\"], [0.4444444444444444, \"#bd3786\"], [0.5555555555555556, \"#d8576b\"], [0.6666666666666666, \"#ed7953\"], [0.7777777777777778, \"#fb9f3a\"], [0.8888888888888888, \"#fdca26\"], [1.0, \"#f0f921\"]], \"type\": \"contour\"}], \"contourcarpet\": [{\"colorbar\": {\"outlinewidth\": 0, \"ticks\": \"\"}, \"type\": \"contourcarpet\"}], \"heatmap\": [{\"colorbar\": {\"outlinewidth\": 0, \"ticks\": \"\"}, \"colorscale\": [[0.0, \"#0d0887\"], [0.1111111111111111, \"#46039f\"], [0.2222222222222222, \"#7201a8\"], [0.3333333333333333, \"#9c179e\"], [0.4444444444444444, \"#bd3786\"], [0.5555555555555556, \"#d8576b\"], [0.6666666666666666, \"#ed7953\"], [0.7777777777777778, \"#fb9f3a\"], [0.8888888888888888, \"#fdca26\"], [1.0, \"#f0f921\"]], \"type\": \"heatmap\"}], \"heatmapgl\": [{\"colorbar\": {\"outlinewidth\": 0, \"ticks\": \"\"}, \"colorscale\": [[0.0, \"#0d0887\"], [0.1111111111111111, \"#46039f\"], [0.2222222222222222, \"#7201a8\"], [0.3333333333333333, \"#9c179e\"], [0.4444444444444444, \"#bd3786\"], [0.5555555555555556, \"#d8576b\"], [0.6666666666666666, \"#ed7953\"], [0.7777777777777778, \"#fb9f3a\"], [0.8888888888888888, \"#fdca26\"], [1.0, \"#f0f921\"]], \"type\": \"heatmapgl\"}], \"histogram\": [{\"marker\": {\"colorbar\": {\"outlinewidth\": 0, \"ticks\": \"\"}}, \"type\": \"histogram\"}], \"histogram2d\": [{\"colorbar\": {\"outlinewidth\": 0, \"ticks\": \"\"}, \"colorscale\": [[0.0, \"#0d0887\"], [0.1111111111111111, \"#46039f\"], [0.2222222222222222, \"#7201a8\"], [0.3333333333333333, \"#9c179e\"], [0.4444444444444444, \"#bd3786\"], [0.5555555555555556, \"#d8576b\"], [0.6666666666666666, \"#ed7953\"], [0.7777777777777778, \"#fb9f3a\"], [0.8888888888888888, \"#fdca26\"], [1.0, \"#f0f921\"]], \"type\": \"histogram2d\"}], \"histogram2dcontour\": [{\"colorbar\": {\"outlinewidth\": 0, \"ticks\": \"\"}, \"colorscale\": [[0.0, \"#0d0887\"], [0.1111111111111111, \"#46039f\"], [0.2222222222222222, \"#7201a8\"], [0.3333333333333333, \"#9c179e\"], [0.4444444444444444, \"#bd3786\"], [0.5555555555555556, \"#d8576b\"], [0.6666666666666666, \"#ed7953\"], [0.7777777777777778, \"#fb9f3a\"], [0.8888888888888888, \"#fdca26\"], [1.0, \"#f0f921\"]], \"type\": \"histogram2dcontour\"}], \"mesh3d\": [{\"colorbar\": {\"outlinewidth\": 0, \"ticks\": \"\"}, \"type\": \"mesh3d\"}], \"parcoords\": [{\"line\": {\"colorbar\": {\"outlinewidth\": 0, \"ticks\": \"\"}}, \"type\": \"parcoords\"}], \"pie\": [{\"automargin\": true, \"type\": \"pie\"}], \"scatter\": [{\"marker\": {\"colorbar\": {\"outlinewidth\": 0, \"ticks\": \"\"}}, \"type\": \"scatter\"}], \"scatter3d\": [{\"line\": {\"colorbar\": {\"outlinewidth\": 0, \"ticks\": \"\"}}, \"marker\": {\"colorbar\": {\"outlinewidth\": 0, \"ticks\": \"\"}}, \"type\": \"scatter3d\"}], \"scattercarpet\": [{\"marker\": {\"colorbar\": {\"outlinewidth\": 0, \"ticks\": \"\"}}, \"type\": \"scattercarpet\"}], \"scattergeo\": [{\"marker\": {\"colorbar\": {\"outlinewidth\": 0, \"ticks\": \"\"}}, \"type\": \"scattergeo\"}], \"scattergl\": [{\"marker\": {\"colorbar\": {\"outlinewidth\": 0, \"ticks\": \"\"}}, \"type\": \"scattergl\"}], \"scattermapbox\": [{\"marker\": {\"colorbar\": {\"outlinewidth\": 0, \"ticks\": \"\"}}, \"type\": \"scattermapbox\"}], \"scatterpolar\": [{\"marker\": {\"colorbar\": {\"outlinewidth\": 0, \"ticks\": \"\"}}, \"type\": \"scatterpolar\"}], \"scatterpolargl\": [{\"marker\": {\"colorbar\": {\"outlinewidth\": 0, \"ticks\": \"\"}}, \"type\": \"scatterpolargl\"}], \"scatterternary\": [{\"marker\": {\"colorbar\": {\"outlinewidth\": 0, \"ticks\": \"\"}}, \"type\": \"scatterternary\"}], \"surface\": [{\"colorbar\": {\"outlinewidth\": 0, \"ticks\": \"\"}, \"colorscale\": [[0.0, \"#0d0887\"], [0.1111111111111111, \"#46039f\"], [0.2222222222222222, \"#7201a8\"], [0.3333333333333333, \"#9c179e\"], [0.4444444444444444, \"#bd3786\"], [0.5555555555555556, \"#d8576b\"], [0.6666666666666666, \"#ed7953\"], [0.7777777777777778, \"#fb9f3a\"], [0.8888888888888888, \"#fdca26\"], [1.0, \"#f0f921\"]], \"type\": \"surface\"}], \"table\": [{\"cells\": {\"fill\": {\"color\": \"#EBF0F8\"}, \"line\": {\"color\": \"white\"}}, \"header\": {\"fill\": {\"color\": \"#C8D4E3\"}, \"line\": {\"color\": \"white\"}}, \"type\": \"table\"}]}, \"layout\": {\"annotationdefaults\": {\"arrowcolor\": \"#2a3f5f\", \"arrowhead\": 0, \"arrowwidth\": 1}, \"coloraxis\": {\"colorbar\": {\"outlinewidth\": 0, \"ticks\": \"\"}}, \"colorscale\": {\"diverging\": [[0, \"#8e0152\"], [0.1, \"#c51b7d\"], [0.2, \"#de77ae\"], [0.3, \"#f1b6da\"], [0.4, \"#fde0ef\"], [0.5, \"#f7f7f7\"], [0.6, \"#e6f5d0\"], [0.7, \"#b8e186\"], [0.8, \"#7fbc41\"], [0.9, \"#4d9221\"], [1, \"#276419\"]], \"sequential\": [[0.0, \"#0d0887\"], [0.1111111111111111, \"#46039f\"], [0.2222222222222222, \"#7201a8\"], [0.3333333333333333, \"#9c179e\"], [0.4444444444444444, \"#bd3786\"], [0.5555555555555556, \"#d8576b\"], [0.6666666666666666, \"#ed7953\"], [0.7777777777777778, \"#fb9f3a\"], [0.8888888888888888, \"#fdca26\"], [1.0, \"#f0f921\"]], \"sequentialminus\": [[0.0, \"#0d0887\"], [0.1111111111111111, \"#46039f\"], [0.2222222222222222, \"#7201a8\"], [0.3333333333333333, \"#9c179e\"], [0.4444444444444444, \"#bd3786\"], [0.5555555555555556, \"#d8576b\"], [0.6666666666666666, \"#ed7953\"], [0.7777777777777778, \"#fb9f3a\"], [0.8888888888888888, \"#fdca26\"], [1.0, \"#f0f921\"]]}, \"colorway\": [\"#636efa\", \"#EF553B\", \"#00cc96\", \"#ab63fa\", \"#FFA15A\", \"#19d3f3\", \"#FF6692\", \"#B6E880\", \"#FF97FF\", \"#FECB52\"], \"font\": {\"color\": \"#2a3f5f\"}, \"geo\": {\"bgcolor\": \"white\", \"lakecolor\": \"white\", \"landcolor\": \"#E5ECF6\", \"showlakes\": true, \"showland\": true, \"subunitcolor\": \"white\"}, \"hoverlabel\": {\"align\": \"left\"}, \"hovermode\": \"closest\", \"mapbox\": {\"style\": \"light\"}, \"paper_bgcolor\": \"white\", \"plot_bgcolor\": \"#E5ECF6\", \"polar\": {\"angularaxis\": {\"gridcolor\": \"white\", \"linecolor\": \"white\", \"ticks\": \"\"}, \"bgcolor\": \"#E5ECF6\", \"radialaxis\": {\"gridcolor\": \"white\", \"linecolor\": \"white\", \"ticks\": \"\"}}, \"scene\": {\"xaxis\": {\"backgroundcolor\": \"#E5ECF6\", \"gridcolor\": \"white\", \"gridwidth\": 2, \"linecolor\": \"white\", \"showbackground\": true, \"ticks\": \"\", \"zerolinecolor\": \"white\"}, \"yaxis\": {\"backgroundcolor\": \"#E5ECF6\", \"gridcolor\": \"white\", \"gridwidth\": 2, \"linecolor\": \"white\", \"showbackground\": true, \"ticks\": \"\", \"zerolinecolor\": \"white\"}, \"zaxis\": {\"backgroundcolor\": \"#E5ECF6\", \"gridcolor\": \"white\", \"gridwidth\": 2, \"linecolor\": \"white\", \"showbackground\": true, \"ticks\": \"\", \"zerolinecolor\": \"white\"}}, \"shapedefaults\": {\"line\": {\"color\": \"#2a3f5f\"}}, \"ternary\": {\"aaxis\": {\"gridcolor\": \"white\", \"linecolor\": \"white\", \"ticks\": \"\"}, \"baxis\": {\"gridcolor\": \"white\", \"linecolor\": \"white\", \"ticks\": \"\"}, \"bgcolor\": \"#E5ECF6\", \"caxis\": {\"gridcolor\": \"white\", \"linecolor\": \"white\", \"ticks\": \"\"}}, \"title\": {\"x\": 0.05}, \"xaxis\": {\"automargin\": true, \"gridcolor\": \"white\", \"linecolor\": \"white\", \"ticks\": \"\", \"title\": {\"standoff\": 15}, \"zerolinecolor\": \"white\", \"zerolinewidth\": 2}, \"yaxis\": {\"automargin\": true, \"gridcolor\": \"white\", \"linecolor\": \"white\", \"ticks\": \"\", \"title\": {\"standoff\": 15}, \"zerolinecolor\": \"white\", \"zerolinewidth\": 2}}}, \"title\": {\"font\": {\"color\": \"#4D5663\"}}, \"xaxis\": {\"gridcolor\": \"#E1E5ED\", \"showgrid\": true, \"tickfont\": {\"color\": \"#4D5663\"}, \"title\": {\"font\": {\"color\": \"#4D5663\"}, \"text\": \"\"}, \"zerolinecolor\": \"#E1E5ED\"}, \"yaxis\": {\"gridcolor\": \"#E1E5ED\", \"showgrid\": true, \"tickfont\": {\"color\": \"#4D5663\"}, \"title\": {\"font\": {\"color\": \"#4D5663\"}, \"text\": \"\"}, \"zerolinecolor\": \"#E1E5ED\"}},                        {\"showLink\": true, \"linkText\": \"Export to plot.ly\", \"plotlyServerURL\": \"https://plot.ly\", \"responsive\": true}                    ).then(function(){\n                            \nvar gd = document.getElementById('a157ea13-6ce4-424e-be6f-a3c57021ccba');\nvar x = new MutationObserver(function (mutations, observer) {{\n        var display = window.getComputedStyle(gd).display;\n        if (!display || display === 'none') {{\n            console.log([gd, 'removed!']);\n            Plotly.purge(gd);\n            observer.disconnect();\n        }}\n}});\n\n// Listen for the removal of the full notebook cells\nvar notebookContainer = gd.closest('#notebook-container');\nif (notebookContainer) {{\n    x.observe(notebookContainer, {childList: true});\n}}\n\n// Listen for the clearing of the current output cell\nvar outputEl = gd.closest('.output');\nif (outputEl) {{\n    x.observe(outputEl, {childList: true});\n}}\n\n                        })                };                });            </script>        </div>"
     },
     "metadata": {}
    }
   ],
   "source": [
    "df.iplot(kind='hist')"
   ]
  },
  {
   "source": [
    "## bubble"
   ],
   "cell_type": "markdown",
   "metadata": {}
  },
  {
   "cell_type": "code",
   "execution_count": 17,
   "metadata": {},
   "outputs": [
    {
     "output_type": "display_data",
     "data": {
      "application/vnd.plotly.v1+json": {
       "config": {
        "linkText": "Export to plot.ly",
        "plotlyServerURL": "https://plot.ly",
        "showLink": true
       },
       "data": [
        {
         "marker": {
          "color": [
           "rgb(255, 153, 51)",
           "rgb(55, 128, 191)",
           "rgb(50, 171, 96)",
           "rgb(128, 0, 128)",
           "rgb(219, 64, 82)",
           "rgb(0, 128, 128)",
           "rgb(255, 255, 51)",
           "rgb(128, 128, 0)",
           "rgb(251, 128, 114)",
           "rgb(128, 177, 211)"
          ],
          "line": {
           "width": 1.3
          },
          "size": [
           39,
           83,
           66,
           49,
           51,
           46,
           36,
           55,
           57,
           47,
           56,
           89,
           64,
           72,
           32,
           63,
           40,
           39,
           58,
           92,
           63,
           64,
           68,
           49,
           66,
           55,
           79,
           42,
           47,
           63,
           52,
           40,
           66,
           41,
           60,
           58,
           98,
           112,
           64,
           55,
           37,
           39,
           66,
           72,
           71,
           64,
           58,
           62,
           55,
           67,
           60,
           60,
           54,
           85,
           40,
           94,
           42,
           71,
           47,
           82,
           24,
           61,
           62,
           55,
           61,
           62,
           52,
           54,
           55,
           72,
           79,
           84,
           51,
           52,
           55,
           79,
           22,
           54,
           50,
           70,
           72,
           48,
           62,
           45,
           46,
           12,
           51,
           81,
           33,
           52,
           50,
           61,
           64,
           61,
           48,
           56,
           25,
           67,
           74,
           33
          ],
          "symbol": "circle"
         },
         "mode": "markers",
         "text": "",
         "type": "scatter",
         "x": [
          -3.1903388189260506,
          0.23396036411163004,
          1.1589655786036386,
          -0.48300006152562525,
          -1.5103337587243804,
          -0.5044248859027471,
          1.182281645215199,
          0.42006775240638894,
          -0.8810298974091847,
          0.5039382873693414,
          -0.731266004129346,
          0.0638361921822204,
          -1.0652754263641049,
          -0.9041076466885405,
          -0.9048795324169541,
          -0.7972587761240022,
          -0.3675670471291356,
          0.28082146701438343,
          -0.08633039339250868,
          0.040217153150704704,
          -0.6690624158655928,
          1.2627520886852726,
          0.8930334427555254,
          -0.5720828983632429,
          -0.10829789239054843,
          0.40614750365984825,
          -1.103865178801149,
          -0.8121010383177608,
          0.10072184675344648,
          -0.5769169489648015,
          -1.064607754248978,
          0.2803088090050602,
          0.27784983531770807,
          -0.41074940453263725,
          0.5858394974501357,
          -1.1873780187790168,
          -1.3497579113052596,
          1.255295743570665,
          -0.6927268600950082,
          -0.36127203424382964,
          -0.34463610823926666,
          -1.2009964413381025,
          1.3923569898979733,
          0.7787889527113488,
          1.8663933162193367,
          -0.7896518608815303,
          0.8604392983684553,
          0.5735613938299836,
          -1.2802106717549009,
          0.44164511860901834,
          -1.1744289444226033,
          -0.0000060149059195747345,
          -0.6467481917357054,
          1.2327214192099953,
          -0.28623017443738186,
          -1.7412710235687312,
          -0.9758958392945769,
          1.600310178717572,
          -0.6658748622479977,
          0.36105544712213045,
          1.2539490446516994,
          1.0583809422068344,
          -0.597617455493197,
          -0.45722923476382665,
          -1.2684784915115794,
          -0.9644190323469388,
          -0.8772580574236023,
          0.085838476310741,
          0.48674958148652886,
          0.9676561629391955,
          -2.13767913287318,
          -2.955837736363831,
          -1.7764340900302908,
          1.272615789302066,
          -0.37425080144249273,
          1.026973987239565,
          2.100477946764772,
          -0.9807225547579596,
          -0.7533250886156038,
          -0.03650463249437804,
          0.3529513644456242,
          -1.3607833800573281,
          -1.7417396477441502,
          -1.2994294895974514,
          0.32077583616185623,
          -0.4244455156618559,
          0.8905320772769698,
          -1.3186547947430771,
          0.12166001368478756,
          -1.2191124444406027,
          0.24654677954656246,
          -0.2623982371892286,
          0.2624213780227509,
          0.09375602776369371,
          -0.8396352448027719,
          -0.5553431002419489,
          -0.06731001731720351,
          -0.49821737363514945,
          2.474916165429662,
          -1.6424571327832522
         ],
         "y": [
          -0.3643496606765255,
          0.026742083793018775,
          0.3584549394564874,
          -0.15087399036258875,
          0.7692264311391451,
          -0.9607394936456178,
          1.099364393084451,
          2.0413594007607077,
          -0.9589429120315346,
          -1.0151262656536937,
          -2.7705342521888636,
          0.04519916765724038,
          -1.0324039775286689,
          0.21166535206455778,
          0.9519171224472974,
          -0.8073326446901398,
          -0.11985422234986415,
          -0.1234321641152109,
          0.9187427563080505,
          -1.5763765046502152,
          0.48951503176455424,
          -0.278969609256558,
          -0.3648383818684051,
          -0.007140551384771878,
          0.824952324575092,
          1.012484922632672,
          0.5845377044183931,
          -1.2711783578576223,
          -0.36902106237264026,
          0.012682393985313328,
          0.3374744579584474,
          1.0374153302021154,
          0.8674581281533991,
          0.49520661962696927,
          -0.2181122070140142,
          -0.4198441589123327,
          -0.22085215002039907,
          -0.14099689419147918,
          -0.9772412761380672,
          -0.9091883734093862,
          -1.5686850852517986,
          0.12633424708785124,
          0.4249983112725074,
          -0.15071571160517683,
          -0.8190528021055005,
          -0.5843142509340462,
          1.009127911825222,
          -0.2532746339494671,
          0.8382486387582775,
          0.2987780822239634,
          -0.42940441705743443,
          0.12942894672747557,
          -0.3784668801032414,
          -0.36623302074540903,
          1.9636781681839237,
          -0.694293703929343,
          0.18243687176223544,
          0.44970065303344275,
          -0.5585085694844554,
          0.5781469849286903,
          -1.478679342255676,
          -2.2017812855469296,
          -0.22766449165792724,
          -0.9850956709230758,
          0.06535721379319329,
          1.6247637881367891,
          0.9388172664094236,
          0.5604816763327075,
          0.2297458405763916,
          0.5705488391936526,
          -0.5429901589467797,
          -1.4375484759630257,
          1.149625790934575,
          -1.8706089909902677,
          0.6574935076546705,
          0.3922469509849665,
          -0.3283399439671376,
          -0.7082986794613881,
          -1.3012155638305742,
          -0.47344112138941563,
          0.025524978856013302,
          -0.6078471413136215,
          0.6221060033789865,
          -0.8425812105486945,
          -1.9731018326838081,
          -2.085182182082291,
          0.7211728722787665,
          1.5764475887837608,
          0.17856892843054062,
          0.09394500672765961,
          -0.838783815812583,
          -2.0640038711962796,
          0.07541148221711562,
          0.011988483697282544,
          1.156875251344672,
          -0.32642331073805275,
          -1.0002773938460705,
          -0.409558017985458,
          -1.6432367398217418,
          -1.458768728092791
         ]
        }
       ],
       "layout": {
        "legend": {
         "bgcolor": "#F5F6F9",
         "font": {
          "color": "#4D5663"
         }
        },
        "paper_bgcolor": "#F5F6F9",
        "plot_bgcolor": "#F5F6F9",
        "template": {
         "data": {
          "bar": [
           {
            "error_x": {
             "color": "#2a3f5f"
            },
            "error_y": {
             "color": "#2a3f5f"
            },
            "marker": {
             "line": {
              "color": "#E5ECF6",
              "width": 0.5
             }
            },
            "type": "bar"
           }
          ],
          "barpolar": [
           {
            "marker": {
             "line": {
              "color": "#E5ECF6",
              "width": 0.5
             }
            },
            "type": "barpolar"
           }
          ],
          "carpet": [
           {
            "aaxis": {
             "endlinecolor": "#2a3f5f",
             "gridcolor": "white",
             "linecolor": "white",
             "minorgridcolor": "white",
             "startlinecolor": "#2a3f5f"
            },
            "baxis": {
             "endlinecolor": "#2a3f5f",
             "gridcolor": "white",
             "linecolor": "white",
             "minorgridcolor": "white",
             "startlinecolor": "#2a3f5f"
            },
            "type": "carpet"
           }
          ],
          "choropleth": [
           {
            "colorbar": {
             "outlinewidth": 0,
             "ticks": ""
            },
            "type": "choropleth"
           }
          ],
          "contour": [
           {
            "colorbar": {
             "outlinewidth": 0,
             "ticks": ""
            },
            "colorscale": [
             [
              0,
              "#0d0887"
             ],
             [
              0.1111111111111111,
              "#46039f"
             ],
             [
              0.2222222222222222,
              "#7201a8"
             ],
             [
              0.3333333333333333,
              "#9c179e"
             ],
             [
              0.4444444444444444,
              "#bd3786"
             ],
             [
              0.5555555555555556,
              "#d8576b"
             ],
             [
              0.6666666666666666,
              "#ed7953"
             ],
             [
              0.7777777777777778,
              "#fb9f3a"
             ],
             [
              0.8888888888888888,
              "#fdca26"
             ],
             [
              1,
              "#f0f921"
             ]
            ],
            "type": "contour"
           }
          ],
          "contourcarpet": [
           {
            "colorbar": {
             "outlinewidth": 0,
             "ticks": ""
            },
            "type": "contourcarpet"
           }
          ],
          "heatmap": [
           {
            "colorbar": {
             "outlinewidth": 0,
             "ticks": ""
            },
            "colorscale": [
             [
              0,
              "#0d0887"
             ],
             [
              0.1111111111111111,
              "#46039f"
             ],
             [
              0.2222222222222222,
              "#7201a8"
             ],
             [
              0.3333333333333333,
              "#9c179e"
             ],
             [
              0.4444444444444444,
              "#bd3786"
             ],
             [
              0.5555555555555556,
              "#d8576b"
             ],
             [
              0.6666666666666666,
              "#ed7953"
             ],
             [
              0.7777777777777778,
              "#fb9f3a"
             ],
             [
              0.8888888888888888,
              "#fdca26"
             ],
             [
              1,
              "#f0f921"
             ]
            ],
            "type": "heatmap"
           }
          ],
          "heatmapgl": [
           {
            "colorbar": {
             "outlinewidth": 0,
             "ticks": ""
            },
            "colorscale": [
             [
              0,
              "#0d0887"
             ],
             [
              0.1111111111111111,
              "#46039f"
             ],
             [
              0.2222222222222222,
              "#7201a8"
             ],
             [
              0.3333333333333333,
              "#9c179e"
             ],
             [
              0.4444444444444444,
              "#bd3786"
             ],
             [
              0.5555555555555556,
              "#d8576b"
             ],
             [
              0.6666666666666666,
              "#ed7953"
             ],
             [
              0.7777777777777778,
              "#fb9f3a"
             ],
             [
              0.8888888888888888,
              "#fdca26"
             ],
             [
              1,
              "#f0f921"
             ]
            ],
            "type": "heatmapgl"
           }
          ],
          "histogram": [
           {
            "marker": {
             "colorbar": {
              "outlinewidth": 0,
              "ticks": ""
             }
            },
            "type": "histogram"
           }
          ],
          "histogram2d": [
           {
            "colorbar": {
             "outlinewidth": 0,
             "ticks": ""
            },
            "colorscale": [
             [
              0,
              "#0d0887"
             ],
             [
              0.1111111111111111,
              "#46039f"
             ],
             [
              0.2222222222222222,
              "#7201a8"
             ],
             [
              0.3333333333333333,
              "#9c179e"
             ],
             [
              0.4444444444444444,
              "#bd3786"
             ],
             [
              0.5555555555555556,
              "#d8576b"
             ],
             [
              0.6666666666666666,
              "#ed7953"
             ],
             [
              0.7777777777777778,
              "#fb9f3a"
             ],
             [
              0.8888888888888888,
              "#fdca26"
             ],
             [
              1,
              "#f0f921"
             ]
            ],
            "type": "histogram2d"
           }
          ],
          "histogram2dcontour": [
           {
            "colorbar": {
             "outlinewidth": 0,
             "ticks": ""
            },
            "colorscale": [
             [
              0,
              "#0d0887"
             ],
             [
              0.1111111111111111,
              "#46039f"
             ],
             [
              0.2222222222222222,
              "#7201a8"
             ],
             [
              0.3333333333333333,
              "#9c179e"
             ],
             [
              0.4444444444444444,
              "#bd3786"
             ],
             [
              0.5555555555555556,
              "#d8576b"
             ],
             [
              0.6666666666666666,
              "#ed7953"
             ],
             [
              0.7777777777777778,
              "#fb9f3a"
             ],
             [
              0.8888888888888888,
              "#fdca26"
             ],
             [
              1,
              "#f0f921"
             ]
            ],
            "type": "histogram2dcontour"
           }
          ],
          "mesh3d": [
           {
            "colorbar": {
             "outlinewidth": 0,
             "ticks": ""
            },
            "type": "mesh3d"
           }
          ],
          "parcoords": [
           {
            "line": {
             "colorbar": {
              "outlinewidth": 0,
              "ticks": ""
             }
            },
            "type": "parcoords"
           }
          ],
          "pie": [
           {
            "automargin": true,
            "type": "pie"
           }
          ],
          "scatter": [
           {
            "marker": {
             "colorbar": {
              "outlinewidth": 0,
              "ticks": ""
             }
            },
            "type": "scatter"
           }
          ],
          "scatter3d": [
           {
            "line": {
             "colorbar": {
              "outlinewidth": 0,
              "ticks": ""
             }
            },
            "marker": {
             "colorbar": {
              "outlinewidth": 0,
              "ticks": ""
             }
            },
            "type": "scatter3d"
           }
          ],
          "scattercarpet": [
           {
            "marker": {
             "colorbar": {
              "outlinewidth": 0,
              "ticks": ""
             }
            },
            "type": "scattercarpet"
           }
          ],
          "scattergeo": [
           {
            "marker": {
             "colorbar": {
              "outlinewidth": 0,
              "ticks": ""
             }
            },
            "type": "scattergeo"
           }
          ],
          "scattergl": [
           {
            "marker": {
             "colorbar": {
              "outlinewidth": 0,
              "ticks": ""
             }
            },
            "type": "scattergl"
           }
          ],
          "scattermapbox": [
           {
            "marker": {
             "colorbar": {
              "outlinewidth": 0,
              "ticks": ""
             }
            },
            "type": "scattermapbox"
           }
          ],
          "scatterpolar": [
           {
            "marker": {
             "colorbar": {
              "outlinewidth": 0,
              "ticks": ""
             }
            },
            "type": "scatterpolar"
           }
          ],
          "scatterpolargl": [
           {
            "marker": {
             "colorbar": {
              "outlinewidth": 0,
              "ticks": ""
             }
            },
            "type": "scatterpolargl"
           }
          ],
          "scatterternary": [
           {
            "marker": {
             "colorbar": {
              "outlinewidth": 0,
              "ticks": ""
             }
            },
            "type": "scatterternary"
           }
          ],
          "surface": [
           {
            "colorbar": {
             "outlinewidth": 0,
             "ticks": ""
            },
            "colorscale": [
             [
              0,
              "#0d0887"
             ],
             [
              0.1111111111111111,
              "#46039f"
             ],
             [
              0.2222222222222222,
              "#7201a8"
             ],
             [
              0.3333333333333333,
              "#9c179e"
             ],
             [
              0.4444444444444444,
              "#bd3786"
             ],
             [
              0.5555555555555556,
              "#d8576b"
             ],
             [
              0.6666666666666666,
              "#ed7953"
             ],
             [
              0.7777777777777778,
              "#fb9f3a"
             ],
             [
              0.8888888888888888,
              "#fdca26"
             ],
             [
              1,
              "#f0f921"
             ]
            ],
            "type": "surface"
           }
          ],
          "table": [
           {
            "cells": {
             "fill": {
              "color": "#EBF0F8"
             },
             "line": {
              "color": "white"
             }
            },
            "header": {
             "fill": {
              "color": "#C8D4E3"
             },
             "line": {
              "color": "white"
             }
            },
            "type": "table"
           }
          ]
         },
         "layout": {
          "annotationdefaults": {
           "arrowcolor": "#2a3f5f",
           "arrowhead": 0,
           "arrowwidth": 1
          },
          "coloraxis": {
           "colorbar": {
            "outlinewidth": 0,
            "ticks": ""
           }
          },
          "colorscale": {
           "diverging": [
            [
             0,
             "#8e0152"
            ],
            [
             0.1,
             "#c51b7d"
            ],
            [
             0.2,
             "#de77ae"
            ],
            [
             0.3,
             "#f1b6da"
            ],
            [
             0.4,
             "#fde0ef"
            ],
            [
             0.5,
             "#f7f7f7"
            ],
            [
             0.6,
             "#e6f5d0"
            ],
            [
             0.7,
             "#b8e186"
            ],
            [
             0.8,
             "#7fbc41"
            ],
            [
             0.9,
             "#4d9221"
            ],
            [
             1,
             "#276419"
            ]
           ],
           "sequential": [
            [
             0,
             "#0d0887"
            ],
            [
             0.1111111111111111,
             "#46039f"
            ],
            [
             0.2222222222222222,
             "#7201a8"
            ],
            [
             0.3333333333333333,
             "#9c179e"
            ],
            [
             0.4444444444444444,
             "#bd3786"
            ],
            [
             0.5555555555555556,
             "#d8576b"
            ],
            [
             0.6666666666666666,
             "#ed7953"
            ],
            [
             0.7777777777777778,
             "#fb9f3a"
            ],
            [
             0.8888888888888888,
             "#fdca26"
            ],
            [
             1,
             "#f0f921"
            ]
           ],
           "sequentialminus": [
            [
             0,
             "#0d0887"
            ],
            [
             0.1111111111111111,
             "#46039f"
            ],
            [
             0.2222222222222222,
             "#7201a8"
            ],
            [
             0.3333333333333333,
             "#9c179e"
            ],
            [
             0.4444444444444444,
             "#bd3786"
            ],
            [
             0.5555555555555556,
             "#d8576b"
            ],
            [
             0.6666666666666666,
             "#ed7953"
            ],
            [
             0.7777777777777778,
             "#fb9f3a"
            ],
            [
             0.8888888888888888,
             "#fdca26"
            ],
            [
             1,
             "#f0f921"
            ]
           ]
          },
          "colorway": [
           "#636efa",
           "#EF553B",
           "#00cc96",
           "#ab63fa",
           "#FFA15A",
           "#19d3f3",
           "#FF6692",
           "#B6E880",
           "#FF97FF",
           "#FECB52"
          ],
          "font": {
           "color": "#2a3f5f"
          },
          "geo": {
           "bgcolor": "white",
           "lakecolor": "white",
           "landcolor": "#E5ECF6",
           "showlakes": true,
           "showland": true,
           "subunitcolor": "white"
          },
          "hoverlabel": {
           "align": "left"
          },
          "hovermode": "closest",
          "mapbox": {
           "style": "light"
          },
          "paper_bgcolor": "white",
          "plot_bgcolor": "#E5ECF6",
          "polar": {
           "angularaxis": {
            "gridcolor": "white",
            "linecolor": "white",
            "ticks": ""
           },
           "bgcolor": "#E5ECF6",
           "radialaxis": {
            "gridcolor": "white",
            "linecolor": "white",
            "ticks": ""
           }
          },
          "scene": {
           "xaxis": {
            "backgroundcolor": "#E5ECF6",
            "gridcolor": "white",
            "gridwidth": 2,
            "linecolor": "white",
            "showbackground": true,
            "ticks": "",
            "zerolinecolor": "white"
           },
           "yaxis": {
            "backgroundcolor": "#E5ECF6",
            "gridcolor": "white",
            "gridwidth": 2,
            "linecolor": "white",
            "showbackground": true,
            "ticks": "",
            "zerolinecolor": "white"
           },
           "zaxis": {
            "backgroundcolor": "#E5ECF6",
            "gridcolor": "white",
            "gridwidth": 2,
            "linecolor": "white",
            "showbackground": true,
            "ticks": "",
            "zerolinecolor": "white"
           }
          },
          "shapedefaults": {
           "line": {
            "color": "#2a3f5f"
           }
          },
          "ternary": {
           "aaxis": {
            "gridcolor": "white",
            "linecolor": "white",
            "ticks": ""
           },
           "baxis": {
            "gridcolor": "white",
            "linecolor": "white",
            "ticks": ""
           },
           "bgcolor": "#E5ECF6",
           "caxis": {
            "gridcolor": "white",
            "linecolor": "white",
            "ticks": ""
           }
          },
          "title": {
           "x": 0.05
          },
          "xaxis": {
           "automargin": true,
           "gridcolor": "white",
           "linecolor": "white",
           "ticks": "",
           "title": {
            "standoff": 15
           },
           "zerolinecolor": "white",
           "zerolinewidth": 2
          },
          "yaxis": {
           "automargin": true,
           "gridcolor": "white",
           "linecolor": "white",
           "ticks": "",
           "title": {
            "standoff": 15
           },
           "zerolinecolor": "white",
           "zerolinewidth": 2
          }
         }
        },
        "title": {
         "font": {
          "color": "#4D5663"
         }
        },
        "xaxis": {
         "gridcolor": "#E1E5ED",
         "showgrid": true,
         "tickfont": {
          "color": "#4D5663"
         },
         "title": {
          "font": {
           "color": "#4D5663"
          },
          "text": ""
         },
         "zerolinecolor": "#E1E5ED"
        },
        "yaxis": {
         "gridcolor": "#E1E5ED",
         "showgrid": true,
         "tickfont": {
          "color": "#4D5663"
         },
         "title": {
          "font": {
           "color": "#4D5663"
          },
          "text": ""
         },
         "zerolinecolor": "#E1E5ED"
        }
       }
      },
      "text/html": "<div>                            <div id=\"2779c100-b34b-444a-a6e2-7f8ab2d046fa\" class=\"plotly-graph-div\" style=\"height:525px; width:100%;\"></div>            <script type=\"text/javascript\">                require([\"plotly\"], function(Plotly) {                    window.PLOTLYENV=window.PLOTLYENV || {};\n                    window.PLOTLYENV.BASE_URL='https://plot.ly';                                    if (document.getElementById(\"2779c100-b34b-444a-a6e2-7f8ab2d046fa\")) {                    Plotly.newPlot(                        \"2779c100-b34b-444a-a6e2-7f8ab2d046fa\",                        [{\"marker\": {\"color\": [\"rgb(255, 153, 51)\", \"rgb(55, 128, 191)\", \"rgb(50, 171, 96)\", \"rgb(128, 0, 128)\", \"rgb(219, 64, 82)\", \"rgb(0, 128, 128)\", \"rgb(255, 255, 51)\", \"rgb(128, 128, 0)\", \"rgb(251, 128, 114)\", \"rgb(128, 177, 211)\"], \"line\": {\"width\": 1.3}, \"size\": [39, 83, 66, 49, 51, 46, 36, 55, 57, 47, 56, 89, 64, 72, 32, 63, 40, 39, 58, 92, 63, 64, 68, 49, 66, 55, 79, 42, 47, 63, 52, 40, 66, 41, 60, 58, 98, 112, 64, 55, 37, 39, 66, 72, 71, 64, 58, 62, 55, 67, 60, 60, 54, 85, 40, 94, 42, 71, 47, 82, 24, 61, 62, 55, 61, 62, 52, 54, 55, 72, 79, 84, 51, 52, 55, 79, 22, 54, 50, 70, 72, 48, 62, 45, 46, 12, 51, 81, 33, 52, 50, 61, 64, 61, 48, 56, 25, 67, 74, 33], \"symbol\": \"circle\"}, \"mode\": \"markers\", \"text\": \"\", \"type\": \"scatter\", \"x\": [-3.1903388189260506, 0.23396036411163004, 1.1589655786036386, -0.48300006152562525, -1.5103337587243804, -0.5044248859027471, 1.182281645215199, 0.42006775240638894, -0.8810298974091847, 0.5039382873693414, -0.731266004129346, 0.0638361921822204, -1.0652754263641049, -0.9041076466885405, -0.9048795324169541, -0.7972587761240022, -0.3675670471291356, 0.28082146701438343, -0.08633039339250868, 0.040217153150704704, -0.6690624158655928, 1.2627520886852726, 0.8930334427555254, -0.5720828983632429, -0.10829789239054843, 0.40614750365984825, -1.103865178801149, -0.8121010383177608, 0.10072184675344648, -0.5769169489648015, -1.064607754248978, 0.2803088090050602, 0.27784983531770807, -0.41074940453263725, 0.5858394974501357, -1.1873780187790168, -1.3497579113052596, 1.255295743570665, -0.6927268600950082, -0.36127203424382964, -0.34463610823926666, -1.2009964413381025, 1.3923569898979733, 0.7787889527113488, 1.8663933162193367, -0.7896518608815303, 0.8604392983684553, 0.5735613938299836, -1.2802106717549009, 0.44164511860901834, -1.1744289444226033, -6.0149059195747345e-06, -0.6467481917357054, 1.2327214192099953, -0.28623017443738186, -1.7412710235687312, -0.9758958392945769, 1.600310178717572, -0.6658748622479977, 0.36105544712213045, 1.2539490446516994, 1.0583809422068344, -0.597617455493197, -0.45722923476382665, -1.2684784915115794, -0.9644190323469388, -0.8772580574236023, 0.085838476310741, 0.48674958148652886, 0.9676561629391955, -2.13767913287318, -2.955837736363831, -1.7764340900302908, 1.272615789302066, -0.37425080144249273, 1.026973987239565, 2.100477946764772, -0.9807225547579596, -0.7533250886156038, -0.03650463249437804, 0.3529513644456242, -1.3607833800573281, -1.7417396477441502, -1.2994294895974514, 0.32077583616185623, -0.4244455156618559, 0.8905320772769698, -1.3186547947430771, 0.12166001368478756, -1.2191124444406027, 0.24654677954656246, -0.2623982371892286, 0.2624213780227509, 0.09375602776369371, -0.8396352448027719, -0.5553431002419489, -0.06731001731720351, -0.49821737363514945, 2.474916165429662, -1.6424571327832522], \"y\": [-0.3643496606765255, 0.026742083793018775, 0.3584549394564874, -0.15087399036258875, 0.7692264311391451, -0.9607394936456178, 1.099364393084451, 2.0413594007607077, -0.9589429120315346, -1.0151262656536937, -2.7705342521888636, 0.04519916765724038, -1.0324039775286689, 0.21166535206455778, 0.9519171224472974, -0.8073326446901398, -0.11985422234986415, -0.1234321641152109, 0.9187427563080505, -1.5763765046502152, 0.48951503176455424, -0.278969609256558, -0.3648383818684051, -0.007140551384771878, 0.824952324575092, 1.012484922632672, 0.5845377044183931, -1.2711783578576223, -0.36902106237264026, 0.012682393985313328, 0.3374744579584474, 1.0374153302021154, 0.8674581281533991, 0.49520661962696927, -0.2181122070140142, -0.4198441589123327, -0.22085215002039907, -0.14099689419147918, -0.9772412761380672, -0.9091883734093862, -1.5686850852517986, 0.12633424708785124, 0.4249983112725074, -0.15071571160517683, -0.8190528021055005, -0.5843142509340462, 1.009127911825222, -0.2532746339494671, 0.8382486387582775, 0.2987780822239634, -0.42940441705743443, 0.12942894672747557, -0.3784668801032414, -0.36623302074540903, 1.9636781681839237, -0.694293703929343, 0.18243687176223544, 0.44970065303344275, -0.5585085694844554, 0.5781469849286903, -1.478679342255676, -2.2017812855469296, -0.22766449165792724, -0.9850956709230758, 0.06535721379319329, 1.6247637881367891, 0.9388172664094236, 0.5604816763327075, 0.2297458405763916, 0.5705488391936526, -0.5429901589467797, -1.4375484759630257, 1.149625790934575, -1.8706089909902677, 0.6574935076546705, 0.3922469509849665, -0.3283399439671376, -0.7082986794613881, -1.3012155638305742, -0.47344112138941563, 0.025524978856013302, -0.6078471413136215, 0.6221060033789865, -0.8425812105486945, -1.9731018326838081, -2.085182182082291, 0.7211728722787665, 1.5764475887837608, 0.17856892843054062, 0.09394500672765961, -0.838783815812583, -2.0640038711962796, 0.07541148221711562, 0.011988483697282544, 1.156875251344672, -0.32642331073805275, -1.0002773938460705, -0.409558017985458, -1.6432367398217418, -1.458768728092791]}],                        {\"legend\": {\"bgcolor\": \"#F5F6F9\", \"font\": {\"color\": \"#4D5663\"}}, \"paper_bgcolor\": \"#F5F6F9\", \"plot_bgcolor\": \"#F5F6F9\", \"template\": {\"data\": {\"bar\": [{\"error_x\": {\"color\": \"#2a3f5f\"}, \"error_y\": {\"color\": \"#2a3f5f\"}, \"marker\": {\"line\": {\"color\": \"#E5ECF6\", \"width\": 0.5}}, \"type\": \"bar\"}], \"barpolar\": [{\"marker\": {\"line\": {\"color\": \"#E5ECF6\", \"width\": 0.5}}, \"type\": \"barpolar\"}], \"carpet\": [{\"aaxis\": {\"endlinecolor\": \"#2a3f5f\", \"gridcolor\": \"white\", \"linecolor\": \"white\", \"minorgridcolor\": \"white\", \"startlinecolor\": \"#2a3f5f\"}, \"baxis\": {\"endlinecolor\": \"#2a3f5f\", \"gridcolor\": \"white\", \"linecolor\": \"white\", \"minorgridcolor\": \"white\", \"startlinecolor\": \"#2a3f5f\"}, \"type\": \"carpet\"}], \"choropleth\": [{\"colorbar\": {\"outlinewidth\": 0, \"ticks\": \"\"}, \"type\": \"choropleth\"}], \"contour\": [{\"colorbar\": {\"outlinewidth\": 0, \"ticks\": \"\"}, \"colorscale\": [[0.0, \"#0d0887\"], [0.1111111111111111, \"#46039f\"], [0.2222222222222222, \"#7201a8\"], [0.3333333333333333, \"#9c179e\"], [0.4444444444444444, \"#bd3786\"], [0.5555555555555556, \"#d8576b\"], [0.6666666666666666, \"#ed7953\"], [0.7777777777777778, \"#fb9f3a\"], [0.8888888888888888, \"#fdca26\"], [1.0, \"#f0f921\"]], \"type\": \"contour\"}], \"contourcarpet\": [{\"colorbar\": {\"outlinewidth\": 0, \"ticks\": \"\"}, \"type\": \"contourcarpet\"}], \"heatmap\": [{\"colorbar\": {\"outlinewidth\": 0, \"ticks\": \"\"}, \"colorscale\": [[0.0, \"#0d0887\"], [0.1111111111111111, \"#46039f\"], [0.2222222222222222, \"#7201a8\"], [0.3333333333333333, \"#9c179e\"], [0.4444444444444444, \"#bd3786\"], [0.5555555555555556, \"#d8576b\"], [0.6666666666666666, \"#ed7953\"], [0.7777777777777778, \"#fb9f3a\"], [0.8888888888888888, \"#fdca26\"], [1.0, \"#f0f921\"]], \"type\": \"heatmap\"}], \"heatmapgl\": [{\"colorbar\": {\"outlinewidth\": 0, \"ticks\": \"\"}, \"colorscale\": [[0.0, \"#0d0887\"], [0.1111111111111111, \"#46039f\"], [0.2222222222222222, \"#7201a8\"], [0.3333333333333333, \"#9c179e\"], [0.4444444444444444, \"#bd3786\"], [0.5555555555555556, \"#d8576b\"], [0.6666666666666666, \"#ed7953\"], [0.7777777777777778, \"#fb9f3a\"], [0.8888888888888888, \"#fdca26\"], [1.0, \"#f0f921\"]], \"type\": \"heatmapgl\"}], \"histogram\": [{\"marker\": {\"colorbar\": {\"outlinewidth\": 0, \"ticks\": \"\"}}, \"type\": \"histogram\"}], \"histogram2d\": [{\"colorbar\": {\"outlinewidth\": 0, \"ticks\": \"\"}, \"colorscale\": [[0.0, \"#0d0887\"], [0.1111111111111111, \"#46039f\"], [0.2222222222222222, \"#7201a8\"], [0.3333333333333333, \"#9c179e\"], [0.4444444444444444, \"#bd3786\"], [0.5555555555555556, \"#d8576b\"], [0.6666666666666666, \"#ed7953\"], [0.7777777777777778, \"#fb9f3a\"], [0.8888888888888888, \"#fdca26\"], [1.0, \"#f0f921\"]], \"type\": \"histogram2d\"}], \"histogram2dcontour\": [{\"colorbar\": {\"outlinewidth\": 0, \"ticks\": \"\"}, \"colorscale\": [[0.0, \"#0d0887\"], [0.1111111111111111, \"#46039f\"], [0.2222222222222222, \"#7201a8\"], [0.3333333333333333, \"#9c179e\"], [0.4444444444444444, \"#bd3786\"], [0.5555555555555556, \"#d8576b\"], [0.6666666666666666, \"#ed7953\"], [0.7777777777777778, \"#fb9f3a\"], [0.8888888888888888, \"#fdca26\"], [1.0, \"#f0f921\"]], \"type\": \"histogram2dcontour\"}], \"mesh3d\": [{\"colorbar\": {\"outlinewidth\": 0, \"ticks\": \"\"}, \"type\": \"mesh3d\"}], \"parcoords\": [{\"line\": {\"colorbar\": {\"outlinewidth\": 0, \"ticks\": \"\"}}, \"type\": \"parcoords\"}], \"pie\": [{\"automargin\": true, \"type\": \"pie\"}], \"scatter\": [{\"marker\": {\"colorbar\": {\"outlinewidth\": 0, \"ticks\": \"\"}}, \"type\": \"scatter\"}], \"scatter3d\": [{\"line\": {\"colorbar\": {\"outlinewidth\": 0, \"ticks\": \"\"}}, \"marker\": {\"colorbar\": {\"outlinewidth\": 0, \"ticks\": \"\"}}, \"type\": \"scatter3d\"}], \"scattercarpet\": [{\"marker\": {\"colorbar\": {\"outlinewidth\": 0, \"ticks\": \"\"}}, \"type\": \"scattercarpet\"}], \"scattergeo\": [{\"marker\": {\"colorbar\": {\"outlinewidth\": 0, \"ticks\": \"\"}}, \"type\": \"scattergeo\"}], \"scattergl\": [{\"marker\": {\"colorbar\": {\"outlinewidth\": 0, \"ticks\": \"\"}}, \"type\": \"scattergl\"}], \"scattermapbox\": [{\"marker\": {\"colorbar\": {\"outlinewidth\": 0, \"ticks\": \"\"}}, \"type\": \"scattermapbox\"}], \"scatterpolar\": [{\"marker\": {\"colorbar\": {\"outlinewidth\": 0, \"ticks\": \"\"}}, \"type\": \"scatterpolar\"}], \"scatterpolargl\": [{\"marker\": {\"colorbar\": {\"outlinewidth\": 0, \"ticks\": \"\"}}, \"type\": \"scatterpolargl\"}], \"scatterternary\": [{\"marker\": {\"colorbar\": {\"outlinewidth\": 0, \"ticks\": \"\"}}, \"type\": \"scatterternary\"}], \"surface\": [{\"colorbar\": {\"outlinewidth\": 0, \"ticks\": \"\"}, \"colorscale\": [[0.0, \"#0d0887\"], [0.1111111111111111, \"#46039f\"], [0.2222222222222222, \"#7201a8\"], [0.3333333333333333, \"#9c179e\"], [0.4444444444444444, \"#bd3786\"], [0.5555555555555556, \"#d8576b\"], [0.6666666666666666, \"#ed7953\"], [0.7777777777777778, \"#fb9f3a\"], [0.8888888888888888, \"#fdca26\"], [1.0, \"#f0f921\"]], \"type\": \"surface\"}], \"table\": [{\"cells\": {\"fill\": {\"color\": \"#EBF0F8\"}, \"line\": {\"color\": \"white\"}}, \"header\": {\"fill\": {\"color\": \"#C8D4E3\"}, \"line\": {\"color\": \"white\"}}, \"type\": \"table\"}]}, \"layout\": {\"annotationdefaults\": {\"arrowcolor\": \"#2a3f5f\", \"arrowhead\": 0, \"arrowwidth\": 1}, \"coloraxis\": {\"colorbar\": {\"outlinewidth\": 0, \"ticks\": \"\"}}, \"colorscale\": {\"diverging\": [[0, \"#8e0152\"], [0.1, \"#c51b7d\"], [0.2, \"#de77ae\"], [0.3, \"#f1b6da\"], [0.4, \"#fde0ef\"], [0.5, \"#f7f7f7\"], [0.6, \"#e6f5d0\"], [0.7, \"#b8e186\"], [0.8, \"#7fbc41\"], [0.9, \"#4d9221\"], [1, \"#276419\"]], \"sequential\": [[0.0, \"#0d0887\"], [0.1111111111111111, \"#46039f\"], [0.2222222222222222, \"#7201a8\"], [0.3333333333333333, \"#9c179e\"], [0.4444444444444444, \"#bd3786\"], [0.5555555555555556, \"#d8576b\"], [0.6666666666666666, \"#ed7953\"], [0.7777777777777778, \"#fb9f3a\"], [0.8888888888888888, \"#fdca26\"], [1.0, \"#f0f921\"]], \"sequentialminus\": [[0.0, \"#0d0887\"], [0.1111111111111111, \"#46039f\"], [0.2222222222222222, \"#7201a8\"], [0.3333333333333333, \"#9c179e\"], [0.4444444444444444, \"#bd3786\"], [0.5555555555555556, \"#d8576b\"], [0.6666666666666666, \"#ed7953\"], [0.7777777777777778, \"#fb9f3a\"], [0.8888888888888888, \"#fdca26\"], [1.0, \"#f0f921\"]]}, \"colorway\": [\"#636efa\", \"#EF553B\", \"#00cc96\", \"#ab63fa\", \"#FFA15A\", \"#19d3f3\", \"#FF6692\", \"#B6E880\", \"#FF97FF\", \"#FECB52\"], \"font\": {\"color\": \"#2a3f5f\"}, \"geo\": {\"bgcolor\": \"white\", \"lakecolor\": \"white\", \"landcolor\": \"#E5ECF6\", \"showlakes\": true, \"showland\": true, \"subunitcolor\": \"white\"}, \"hoverlabel\": {\"align\": \"left\"}, \"hovermode\": \"closest\", \"mapbox\": {\"style\": \"light\"}, \"paper_bgcolor\": \"white\", \"plot_bgcolor\": \"#E5ECF6\", \"polar\": {\"angularaxis\": {\"gridcolor\": \"white\", \"linecolor\": \"white\", \"ticks\": \"\"}, \"bgcolor\": \"#E5ECF6\", \"radialaxis\": {\"gridcolor\": \"white\", \"linecolor\": \"white\", \"ticks\": \"\"}}, \"scene\": {\"xaxis\": {\"backgroundcolor\": \"#E5ECF6\", \"gridcolor\": \"white\", \"gridwidth\": 2, \"linecolor\": \"white\", \"showbackground\": true, \"ticks\": \"\", \"zerolinecolor\": \"white\"}, \"yaxis\": {\"backgroundcolor\": \"#E5ECF6\", \"gridcolor\": \"white\", \"gridwidth\": 2, \"linecolor\": \"white\", \"showbackground\": true, \"ticks\": \"\", \"zerolinecolor\": \"white\"}, \"zaxis\": {\"backgroundcolor\": \"#E5ECF6\", \"gridcolor\": \"white\", \"gridwidth\": 2, \"linecolor\": \"white\", \"showbackground\": true, \"ticks\": \"\", \"zerolinecolor\": \"white\"}}, \"shapedefaults\": {\"line\": {\"color\": \"#2a3f5f\"}}, \"ternary\": {\"aaxis\": {\"gridcolor\": \"white\", \"linecolor\": \"white\", \"ticks\": \"\"}, \"baxis\": {\"gridcolor\": \"white\", \"linecolor\": \"white\", \"ticks\": \"\"}, \"bgcolor\": \"#E5ECF6\", \"caxis\": {\"gridcolor\": \"white\", \"linecolor\": \"white\", \"ticks\": \"\"}}, \"title\": {\"x\": 0.05}, \"xaxis\": {\"automargin\": true, \"gridcolor\": \"white\", \"linecolor\": \"white\", \"ticks\": \"\", \"title\": {\"standoff\": 15}, \"zerolinecolor\": \"white\", \"zerolinewidth\": 2}, \"yaxis\": {\"automargin\": true, \"gridcolor\": \"white\", \"linecolor\": \"white\", \"ticks\": \"\", \"title\": {\"standoff\": 15}, \"zerolinecolor\": \"white\", \"zerolinewidth\": 2}}}, \"title\": {\"font\": {\"color\": \"#4D5663\"}}, \"xaxis\": {\"gridcolor\": \"#E1E5ED\", \"showgrid\": true, \"tickfont\": {\"color\": \"#4D5663\"}, \"title\": {\"font\": {\"color\": \"#4D5663\"}, \"text\": \"\"}, \"zerolinecolor\": \"#E1E5ED\"}, \"yaxis\": {\"gridcolor\": \"#E1E5ED\", \"showgrid\": true, \"tickfont\": {\"color\": \"#4D5663\"}, \"title\": {\"font\": {\"color\": \"#4D5663\"}, \"text\": \"\"}, \"zerolinecolor\": \"#E1E5ED\"}},                        {\"showLink\": true, \"linkText\": \"Export to plot.ly\", \"plotlyServerURL\": \"https://plot.ly\", \"responsive\": true}                    ).then(function(){\n                            \nvar gd = document.getElementById('2779c100-b34b-444a-a6e2-7f8ab2d046fa');\nvar x = new MutationObserver(function (mutations, observer) {{\n        var display = window.getComputedStyle(gd).display;\n        if (!display || display === 'none') {{\n            console.log([gd, 'removed!']);\n            Plotly.purge(gd);\n            observer.disconnect();\n        }}\n}});\n\n// Listen for the removal of the full notebook cells\nvar notebookContainer = gd.closest('#notebook-container');\nif (notebookContainer) {{\n    x.observe(notebookContainer, {childList: true});\n}}\n\n// Listen for the clearing of the current output cell\nvar outputEl = gd.closest('.output');\nif (outputEl) {{\n    x.observe(outputEl, {childList: true});\n}}\n\n                        })                };                });            </script>        </div>"
     },
     "metadata": {}
    }
   ],
   "source": [
    "df.iplot(kind='bubble', x='A', y='B', size='C')"
   ]
  },
  {
   "source": [
    "## scatter_matrix()\n",
    "\n",
    "Similar to sns.pairplot()"
   ],
   "cell_type": "markdown",
   "metadata": {}
  },
  {
   "cell_type": "code",
   "execution_count": 18,
   "metadata": {},
   "outputs": [
    {
     "output_type": "display_data",
     "data": {
      "application/vnd.plotly.v1+json": {
       "config": {
        "linkText": "Export to plot.ly",
        "plotlyServerURL": "https://plot.ly",
        "showLink": true
       },
       "data": [
        {
         "histfunc": "count",
         "histnorm": "",
         "marker": {
          "color": "rgba(255, 153, 51, 1.0)",
          "line": {
           "color": "#4D5663",
           "width": 1.3
          }
         },
         "name": "A",
         "nbinsx": 10,
         "opacity": 0.8,
         "orientation": "v",
         "type": "histogram",
         "x": [
          -3.1903388189260506,
          0.23396036411163004,
          1.1589655786036386,
          -0.48300006152562525,
          -1.5103337587243804,
          -0.5044248859027471,
          1.182281645215199,
          0.42006775240638894,
          -0.8810298974091847,
          0.5039382873693414,
          -0.731266004129346,
          0.0638361921822204,
          -1.0652754263641049,
          -0.9041076466885405,
          -0.9048795324169541,
          -0.7972587761240022,
          -0.3675670471291356,
          0.28082146701438343,
          -0.08633039339250868,
          0.040217153150704704,
          -0.6690624158655928,
          1.2627520886852726,
          0.8930334427555254,
          -0.5720828983632429,
          -0.10829789239054843,
          0.40614750365984825,
          -1.103865178801149,
          -0.8121010383177608,
          0.10072184675344648,
          -0.5769169489648015,
          -1.064607754248978,
          0.2803088090050602,
          0.27784983531770807,
          -0.41074940453263725,
          0.5858394974501357,
          -1.1873780187790168,
          -1.3497579113052596,
          1.255295743570665,
          -0.6927268600950082,
          -0.36127203424382964,
          -0.34463610823926666,
          -1.2009964413381025,
          1.3923569898979733,
          0.7787889527113488,
          1.8663933162193367,
          -0.7896518608815303,
          0.8604392983684553,
          0.5735613938299836,
          -1.2802106717549009,
          0.44164511860901834,
          -1.1744289444226033,
          -0.0000060149059195747345,
          -0.6467481917357054,
          1.2327214192099953,
          -0.28623017443738186,
          -1.7412710235687312,
          -0.9758958392945769,
          1.600310178717572,
          -0.6658748622479977,
          0.36105544712213045,
          1.2539490446516994,
          1.0583809422068344,
          -0.597617455493197,
          -0.45722923476382665,
          -1.2684784915115794,
          -0.9644190323469388,
          -0.8772580574236023,
          0.085838476310741,
          0.48674958148652886,
          0.9676561629391955,
          -2.13767913287318,
          -2.955837736363831,
          -1.7764340900302908,
          1.272615789302066,
          -0.37425080144249273,
          1.026973987239565,
          2.100477946764772,
          -0.9807225547579596,
          -0.7533250886156038,
          -0.03650463249437804,
          0.3529513644456242,
          -1.3607833800573281,
          -1.7417396477441502,
          -1.2994294895974514,
          0.32077583616185623,
          -0.4244455156618559,
          0.8905320772769698,
          -1.3186547947430771,
          0.12166001368478756,
          -1.2191124444406027,
          0.24654677954656246,
          -0.2623982371892286,
          0.2624213780227509,
          0.09375602776369371,
          -0.8396352448027719,
          -0.5553431002419489,
          -0.06731001731720351,
          -0.49821737363514945,
          2.474916165429662,
          -1.6424571327832522
         ],
         "xaxis": "x",
         "yaxis": "y"
        },
        {
         "line": {
          "color": "rgba(128, 128, 128, 1.0)",
          "dash": "solid",
          "shape": "linear",
          "width": 1.3
         },
         "marker": {
          "size": 2,
          "symbol": "circle"
         },
         "mode": "markers",
         "name": "A",
         "text": "",
         "type": "scatter",
         "x": [
          -0.3643496606765255,
          0.026742083793018775,
          0.3584549394564874,
          -0.15087399036258875,
          0.7692264311391451,
          -0.9607394936456178,
          1.099364393084451,
          2.0413594007607077,
          -0.9589429120315346,
          -1.0151262656536937,
          -2.7705342521888636,
          0.04519916765724038,
          -1.0324039775286689,
          0.21166535206455778,
          0.9519171224472974,
          -0.8073326446901398,
          -0.11985422234986415,
          -0.1234321641152109,
          0.9187427563080505,
          -1.5763765046502152,
          0.48951503176455424,
          -0.278969609256558,
          -0.3648383818684051,
          -0.007140551384771878,
          0.824952324575092,
          1.012484922632672,
          0.5845377044183931,
          -1.2711783578576223,
          -0.36902106237264026,
          0.012682393985313328,
          0.3374744579584474,
          1.0374153302021154,
          0.8674581281533991,
          0.49520661962696927,
          -0.2181122070140142,
          -0.4198441589123327,
          -0.22085215002039907,
          -0.14099689419147918,
          -0.9772412761380672,
          -0.9091883734093862,
          -1.5686850852517986,
          0.12633424708785124,
          0.4249983112725074,
          -0.15071571160517683,
          -0.8190528021055005,
          -0.5843142509340462,
          1.009127911825222,
          -0.2532746339494671,
          0.8382486387582775,
          0.2987780822239634,
          -0.42940441705743443,
          0.12942894672747557,
          -0.3784668801032414,
          -0.36623302074540903,
          1.9636781681839237,
          -0.694293703929343,
          0.18243687176223544,
          0.44970065303344275,
          -0.5585085694844554,
          0.5781469849286903,
          -1.478679342255676,
          -2.2017812855469296,
          -0.22766449165792724,
          -0.9850956709230758,
          0.06535721379319329,
          1.6247637881367891,
          0.9388172664094236,
          0.5604816763327075,
          0.2297458405763916,
          0.5705488391936526,
          -0.5429901589467797,
          -1.4375484759630257,
          1.149625790934575,
          -1.8706089909902677,
          0.6574935076546705,
          0.3922469509849665,
          -0.3283399439671376,
          -0.7082986794613881,
          -1.3012155638305742,
          -0.47344112138941563,
          0.025524978856013302,
          -0.6078471413136215,
          0.6221060033789865,
          -0.8425812105486945,
          -1.9731018326838081,
          -2.085182182082291,
          0.7211728722787665,
          1.5764475887837608,
          0.17856892843054062,
          0.09394500672765961,
          -0.838783815812583,
          -2.0640038711962796,
          0.07541148221711562,
          0.011988483697282544,
          1.156875251344672,
          -0.32642331073805275,
          -1.0002773938460705,
          -0.409558017985458,
          -1.6432367398217418,
          -1.458768728092791
         ],
         "xaxis": "x2",
         "y": [
          -3.1903388189260506,
          0.23396036411163004,
          1.1589655786036386,
          -0.48300006152562525,
          -1.5103337587243804,
          -0.5044248859027471,
          1.182281645215199,
          0.42006775240638894,
          -0.8810298974091847,
          0.5039382873693414,
          -0.731266004129346,
          0.0638361921822204,
          -1.0652754263641049,
          -0.9041076466885405,
          -0.9048795324169541,
          -0.7972587761240022,
          -0.3675670471291356,
          0.28082146701438343,
          -0.08633039339250868,
          0.040217153150704704,
          -0.6690624158655928,
          1.2627520886852726,
          0.8930334427555254,
          -0.5720828983632429,
          -0.10829789239054843,
          0.40614750365984825,
          -1.103865178801149,
          -0.8121010383177608,
          0.10072184675344648,
          -0.5769169489648015,
          -1.064607754248978,
          0.2803088090050602,
          0.27784983531770807,
          -0.41074940453263725,
          0.5858394974501357,
          -1.1873780187790168,
          -1.3497579113052596,
          1.255295743570665,
          -0.6927268600950082,
          -0.36127203424382964,
          -0.34463610823926666,
          -1.2009964413381025,
          1.3923569898979733,
          0.7787889527113488,
          1.8663933162193367,
          -0.7896518608815303,
          0.8604392983684553,
          0.5735613938299836,
          -1.2802106717549009,
          0.44164511860901834,
          -1.1744289444226033,
          -0.0000060149059195747345,
          -0.6467481917357054,
          1.2327214192099953,
          -0.28623017443738186,
          -1.7412710235687312,
          -0.9758958392945769,
          1.600310178717572,
          -0.6658748622479977,
          0.36105544712213045,
          1.2539490446516994,
          1.0583809422068344,
          -0.597617455493197,
          -0.45722923476382665,
          -1.2684784915115794,
          -0.9644190323469388,
          -0.8772580574236023,
          0.085838476310741,
          0.48674958148652886,
          0.9676561629391955,
          -2.13767913287318,
          -2.955837736363831,
          -1.7764340900302908,
          1.272615789302066,
          -0.37425080144249273,
          1.026973987239565,
          2.100477946764772,
          -0.9807225547579596,
          -0.7533250886156038,
          -0.03650463249437804,
          0.3529513644456242,
          -1.3607833800573281,
          -1.7417396477441502,
          -1.2994294895974514,
          0.32077583616185623,
          -0.4244455156618559,
          0.8905320772769698,
          -1.3186547947430771,
          0.12166001368478756,
          -1.2191124444406027,
          0.24654677954656246,
          -0.2623982371892286,
          0.2624213780227509,
          0.09375602776369371,
          -0.8396352448027719,
          -0.5553431002419489,
          -0.06731001731720351,
          -0.49821737363514945,
          2.474916165429662,
          -1.6424571327832522
         ],
         "yaxis": "y2"
        },
        {
         "line": {
          "color": "rgba(128, 128, 128, 1.0)",
          "dash": "solid",
          "shape": "linear",
          "width": 1.3
         },
         "marker": {
          "size": 2,
          "symbol": "circle"
         },
         "mode": "markers",
         "name": "A",
         "text": "",
         "type": "scatter",
         "x": [
          -1.1186463499542998,
          1.2677912975381758,
          0.36076316284766746,
          -0.594562609277583,
          -0.4685633922208175,
          -0.7414270275053735,
          -1.2620028022058527,
          -0.2633575322313773,
          -0.13705740516672574,
          -0.6779505642675806,
          -0.2026716055278497,
          1.6258578058108586,
          0.24708350229743825,
          0.6924231043760657,
          -1.5136756150318582,
          0.18387379001212456,
          -1.0758932407544046,
          -1.1277833413495375,
          -0.09007994172368866,
          1.7438241639662895,
          0.17877381008658313,
          0.21997679671829612,
          0.43375237351717855,
          -0.57839905502642,
          0.34209577444414135,
          -0.26366532914873114,
          1.0700940451035175,
          -0.9512143375191747,
          -0.6850989671874386,
          0.21183117412430214,
          -0.4104742967296816,
          -1.0890895555885556,
          0.36987011373475775,
          -1.0232701308222056,
          0.044981104707034446,
          -0.0824754843912133,
          2.092860328910299,
          2.8344786758836196,
          0.260552308604172,
          -0.2458360898438423,
          -1.2257665509409992,
          -1.1316510511315512,
          0.32548178557719026,
          0.6763374540496877,
          0.6183684289996768,
          0.22458715291167278,
          -0.10773707471439793,
          0.14631716285290056,
          -0.25856157950527603,
          0.3949298005054963,
          0.014701924255192494,
          0.04254310141261005,
          -0.3038555542985175,
          1.3746376476163982,
          -1.0525689185942786,
          1.8677556254708725,
          -0.9544443715719576,
          0.6250657420707972,
          -0.6597264515616512,
          1.2000128640230874,
          -1.921474505487477,
          0.10359809264203092,
          0.14030400767650186,
          -0.24415105688321234,
          0.09908985392907203,
          0.11762629422038864,
          -0.40161956844729146,
          -0.32560451956022274,
          -0.2742954646454567,
          0.7033588244428957,
          1.044708085637379,
          1.3432802304882736,
          -0.48809055516302796,
          -0.40759577124501833,
          -0.23367711063773317,
          1.0357161154696715,
          -2.035454205328424,
          -0.3275881726844608,
          -0.5365535854449085,
          0.5715003149914503,
          0.7005392956847408,
          -0.6098133766978422,
          0.13932592576040911,
          -0.7696519088160988,
          -0.756068093698991,
          -2.6222547596454278,
          -0.47657293861878464,
          1.1639948628729075,
          -1.4642275879391387,
          -0.38596602153173,
          -0.5421683648952816,
          0.10309907483896115,
          0.2639944083236471,
          0.09410435510004495,
          -0.6567099939622915,
          -0.2203570095662532,
          -1.881779224440967,
          0.41613232309439224,
          0.7655415853330867,
          -1.4245542342590862
         ],
         "xaxis": "x3",
         "y": [
          -3.1903388189260506,
          0.23396036411163004,
          1.1589655786036386,
          -0.48300006152562525,
          -1.5103337587243804,
          -0.5044248859027471,
          1.182281645215199,
          0.42006775240638894,
          -0.8810298974091847,
          0.5039382873693414,
          -0.731266004129346,
          0.0638361921822204,
          -1.0652754263641049,
          -0.9041076466885405,
          -0.9048795324169541,
          -0.7972587761240022,
          -0.3675670471291356,
          0.28082146701438343,
          -0.08633039339250868,
          0.040217153150704704,
          -0.6690624158655928,
          1.2627520886852726,
          0.8930334427555254,
          -0.5720828983632429,
          -0.10829789239054843,
          0.40614750365984825,
          -1.103865178801149,
          -0.8121010383177608,
          0.10072184675344648,
          -0.5769169489648015,
          -1.064607754248978,
          0.2803088090050602,
          0.27784983531770807,
          -0.41074940453263725,
          0.5858394974501357,
          -1.1873780187790168,
          -1.3497579113052596,
          1.255295743570665,
          -0.6927268600950082,
          -0.36127203424382964,
          -0.34463610823926666,
          -1.2009964413381025,
          1.3923569898979733,
          0.7787889527113488,
          1.8663933162193367,
          -0.7896518608815303,
          0.8604392983684553,
          0.5735613938299836,
          -1.2802106717549009,
          0.44164511860901834,
          -1.1744289444226033,
          -0.0000060149059195747345,
          -0.6467481917357054,
          1.2327214192099953,
          -0.28623017443738186,
          -1.7412710235687312,
          -0.9758958392945769,
          1.600310178717572,
          -0.6658748622479977,
          0.36105544712213045,
          1.2539490446516994,
          1.0583809422068344,
          -0.597617455493197,
          -0.45722923476382665,
          -1.2684784915115794,
          -0.9644190323469388,
          -0.8772580574236023,
          0.085838476310741,
          0.48674958148652886,
          0.9676561629391955,
          -2.13767913287318,
          -2.955837736363831,
          -1.7764340900302908,
          1.272615789302066,
          -0.37425080144249273,
          1.026973987239565,
          2.100477946764772,
          -0.9807225547579596,
          -0.7533250886156038,
          -0.03650463249437804,
          0.3529513644456242,
          -1.3607833800573281,
          -1.7417396477441502,
          -1.2994294895974514,
          0.32077583616185623,
          -0.4244455156618559,
          0.8905320772769698,
          -1.3186547947430771,
          0.12166001368478756,
          -1.2191124444406027,
          0.24654677954656246,
          -0.2623982371892286,
          0.2624213780227509,
          0.09375602776369371,
          -0.8396352448027719,
          -0.5553431002419489,
          -0.06731001731720351,
          -0.49821737363514945,
          2.474916165429662,
          -1.6424571327832522
         ],
         "yaxis": "y3"
        },
        {
         "line": {
          "color": "rgba(128, 128, 128, 1.0)",
          "dash": "solid",
          "shape": "linear",
          "width": 1.3
         },
         "marker": {
          "size": 2,
          "symbol": "circle"
         },
         "mode": "markers",
         "name": "A",
         "text": "",
         "type": "scatter",
         "x": [
          -0.6489732176465235,
          -0.41469620685869946,
          -0.7371821797185605,
          -0.9768777099594689,
          -0.22711856500745847,
          2.54026166785655,
          0.15537859565815373,
          -0.9775530087225272,
          2.1618950609150063,
          -1.62519664198678,
          0.21236468315567575,
          1.3459918522282894,
          0.08370362006998518,
          0.7394987862241378,
          0.6539134662590035,
          -0.7086034819362234,
          1.6417074272652397,
          0.8369405076533828,
          -0.1704799982098994,
          -0.6549938398194295,
          -0.5483941513527122,
          -1.0447976323516879,
          -0.8018209373504784,
          0.9465864367131726,
          0.6825721074052299,
          0.7887445296778326,
          -0.07546641130273239,
          0.9536526696779729,
          0.4438010796827428,
          -2.2370489036955785,
          -0.6698273819555984,
          0.20635471129522778,
          2.6020926738257306,
          1.0709247935134785,
          0.32384649714279573,
          0.09885999146630725,
          -2.619846279753586,
          -0.46368625253882917,
          1.8712323092911936,
          0.05486969328773147,
          -1.1935146053370786,
          -0.16610251307721524,
          0.6384990529938278,
          1.4038901310185594,
          -0.27245345648714625,
          0.6216184998596498,
          -1.2889792680352745,
          0.3087510888991206,
          0.7360554150652998,
          -0.5165922648054353,
          1.3395981597477955,
          -0.5252602248023504,
          0.6099177946814479,
          -1.0996073656442549,
          2.8542098952108206,
          -0.8285294637490741,
          -0.11911381103015203,
          -1.2557955685428008,
          0.20494733090020398,
          1.447145307689846,
          -0.10189582644921229,
          -2.340645851858345,
          0.905048221674501,
          -3.2847949833595678,
          1.1954851366552612,
          -0.5849358200331003,
          0.30759900650876176,
          -1.4237600566252469,
          1.156013455755697,
          -1.4013371187352321,
          -1.1940724679311008,
          0.6717037121348988,
          0.29877179423852096,
          0.0735572848097489,
          -0.9995298211801902,
          -0.7382077941967837,
          -0.8081365209550897,
          0.2597666777870895,
          0.7055084707601808,
          -2.0317763614359197,
          1.0858361132082317,
          0.2245567699104668,
          0.19531027958986188,
          1.7143659929154766,
          -0.07210747828589123,
          0.6727003522455439,
          -0.10537352910610093,
          1.4134671690171892,
          0.6044508884083378,
          1.0463998481695964,
          0.04921068006225297,
          -0.5367797534585702,
          -0.4983033200797242,
          1.6722949355998922,
          0.5433310212695938,
          -0.31371004745330844,
          0.6080594834764896,
          0.05958357598335059,
          -0.9994953363575223,
          0.3057815249245013
         ],
         "xaxis": "x4",
         "y": [
          -3.1903388189260506,
          0.23396036411163004,
          1.1589655786036386,
          -0.48300006152562525,
          -1.5103337587243804,
          -0.5044248859027471,
          1.182281645215199,
          0.42006775240638894,
          -0.8810298974091847,
          0.5039382873693414,
          -0.731266004129346,
          0.0638361921822204,
          -1.0652754263641049,
          -0.9041076466885405,
          -0.9048795324169541,
          -0.7972587761240022,
          -0.3675670471291356,
          0.28082146701438343,
          -0.08633039339250868,
          0.040217153150704704,
          -0.6690624158655928,
          1.2627520886852726,
          0.8930334427555254,
          -0.5720828983632429,
          -0.10829789239054843,
          0.40614750365984825,
          -1.103865178801149,
          -0.8121010383177608,
          0.10072184675344648,
          -0.5769169489648015,
          -1.064607754248978,
          0.2803088090050602,
          0.27784983531770807,
          -0.41074940453263725,
          0.5858394974501357,
          -1.1873780187790168,
          -1.3497579113052596,
          1.255295743570665,
          -0.6927268600950082,
          -0.36127203424382964,
          -0.34463610823926666,
          -1.2009964413381025,
          1.3923569898979733,
          0.7787889527113488,
          1.8663933162193367,
          -0.7896518608815303,
          0.8604392983684553,
          0.5735613938299836,
          -1.2802106717549009,
          0.44164511860901834,
          -1.1744289444226033,
          -0.0000060149059195747345,
          -0.6467481917357054,
          1.2327214192099953,
          -0.28623017443738186,
          -1.7412710235687312,
          -0.9758958392945769,
          1.600310178717572,
          -0.6658748622479977,
          0.36105544712213045,
          1.2539490446516994,
          1.0583809422068344,
          -0.597617455493197,
          -0.45722923476382665,
          -1.2684784915115794,
          -0.9644190323469388,
          -0.8772580574236023,
          0.085838476310741,
          0.48674958148652886,
          0.9676561629391955,
          -2.13767913287318,
          -2.955837736363831,
          -1.7764340900302908,
          1.272615789302066,
          -0.37425080144249273,
          1.026973987239565,
          2.100477946764772,
          -0.9807225547579596,
          -0.7533250886156038,
          -0.03650463249437804,
          0.3529513644456242,
          -1.3607833800573281,
          -1.7417396477441502,
          -1.2994294895974514,
          0.32077583616185623,
          -0.4244455156618559,
          0.8905320772769698,
          -1.3186547947430771,
          0.12166001368478756,
          -1.2191124444406027,
          0.24654677954656246,
          -0.2623982371892286,
          0.2624213780227509,
          0.09375602776369371,
          -0.8396352448027719,
          -0.5553431002419489,
          -0.06731001731720351,
          -0.49821737363514945,
          2.474916165429662,
          -1.6424571327832522
         ],
         "yaxis": "y4"
        },
        {
         "line": {
          "color": "rgba(128, 128, 128, 1.0)",
          "dash": "solid",
          "shape": "linear",
          "width": 1.3
         },
         "marker": {
          "size": 2,
          "symbol": "circle"
         },
         "mode": "markers",
         "name": "B",
         "text": "",
         "type": "scatter",
         "x": [
          -3.1903388189260506,
          0.23396036411163004,
          1.1589655786036386,
          -0.48300006152562525,
          -1.5103337587243804,
          -0.5044248859027471,
          1.182281645215199,
          0.42006775240638894,
          -0.8810298974091847,
          0.5039382873693414,
          -0.731266004129346,
          0.0638361921822204,
          -1.0652754263641049,
          -0.9041076466885405,
          -0.9048795324169541,
          -0.7972587761240022,
          -0.3675670471291356,
          0.28082146701438343,
          -0.08633039339250868,
          0.040217153150704704,
          -0.6690624158655928,
          1.2627520886852726,
          0.8930334427555254,
          -0.5720828983632429,
          -0.10829789239054843,
          0.40614750365984825,
          -1.103865178801149,
          -0.8121010383177608,
          0.10072184675344648,
          -0.5769169489648015,
          -1.064607754248978,
          0.2803088090050602,
          0.27784983531770807,
          -0.41074940453263725,
          0.5858394974501357,
          -1.1873780187790168,
          -1.3497579113052596,
          1.255295743570665,
          -0.6927268600950082,
          -0.36127203424382964,
          -0.34463610823926666,
          -1.2009964413381025,
          1.3923569898979733,
          0.7787889527113488,
          1.8663933162193367,
          -0.7896518608815303,
          0.8604392983684553,
          0.5735613938299836,
          -1.2802106717549009,
          0.44164511860901834,
          -1.1744289444226033,
          -0.0000060149059195747345,
          -0.6467481917357054,
          1.2327214192099953,
          -0.28623017443738186,
          -1.7412710235687312,
          -0.9758958392945769,
          1.600310178717572,
          -0.6658748622479977,
          0.36105544712213045,
          1.2539490446516994,
          1.0583809422068344,
          -0.597617455493197,
          -0.45722923476382665,
          -1.2684784915115794,
          -0.9644190323469388,
          -0.8772580574236023,
          0.085838476310741,
          0.48674958148652886,
          0.9676561629391955,
          -2.13767913287318,
          -2.955837736363831,
          -1.7764340900302908,
          1.272615789302066,
          -0.37425080144249273,
          1.026973987239565,
          2.100477946764772,
          -0.9807225547579596,
          -0.7533250886156038,
          -0.03650463249437804,
          0.3529513644456242,
          -1.3607833800573281,
          -1.7417396477441502,
          -1.2994294895974514,
          0.32077583616185623,
          -0.4244455156618559,
          0.8905320772769698,
          -1.3186547947430771,
          0.12166001368478756,
          -1.2191124444406027,
          0.24654677954656246,
          -0.2623982371892286,
          0.2624213780227509,
          0.09375602776369371,
          -0.8396352448027719,
          -0.5553431002419489,
          -0.06731001731720351,
          -0.49821737363514945,
          2.474916165429662,
          -1.6424571327832522
         ],
         "xaxis": "x5",
         "y": [
          -0.3643496606765255,
          0.026742083793018775,
          0.3584549394564874,
          -0.15087399036258875,
          0.7692264311391451,
          -0.9607394936456178,
          1.099364393084451,
          2.0413594007607077,
          -0.9589429120315346,
          -1.0151262656536937,
          -2.7705342521888636,
          0.04519916765724038,
          -1.0324039775286689,
          0.21166535206455778,
          0.9519171224472974,
          -0.8073326446901398,
          -0.11985422234986415,
          -0.1234321641152109,
          0.9187427563080505,
          -1.5763765046502152,
          0.48951503176455424,
          -0.278969609256558,
          -0.3648383818684051,
          -0.007140551384771878,
          0.824952324575092,
          1.012484922632672,
          0.5845377044183931,
          -1.2711783578576223,
          -0.36902106237264026,
          0.012682393985313328,
          0.3374744579584474,
          1.0374153302021154,
          0.8674581281533991,
          0.49520661962696927,
          -0.2181122070140142,
          -0.4198441589123327,
          -0.22085215002039907,
          -0.14099689419147918,
          -0.9772412761380672,
          -0.9091883734093862,
          -1.5686850852517986,
          0.12633424708785124,
          0.4249983112725074,
          -0.15071571160517683,
          -0.8190528021055005,
          -0.5843142509340462,
          1.009127911825222,
          -0.2532746339494671,
          0.8382486387582775,
          0.2987780822239634,
          -0.42940441705743443,
          0.12942894672747557,
          -0.3784668801032414,
          -0.36623302074540903,
          1.9636781681839237,
          -0.694293703929343,
          0.18243687176223544,
          0.44970065303344275,
          -0.5585085694844554,
          0.5781469849286903,
          -1.478679342255676,
          -2.2017812855469296,
          -0.22766449165792724,
          -0.9850956709230758,
          0.06535721379319329,
          1.6247637881367891,
          0.9388172664094236,
          0.5604816763327075,
          0.2297458405763916,
          0.5705488391936526,
          -0.5429901589467797,
          -1.4375484759630257,
          1.149625790934575,
          -1.8706089909902677,
          0.6574935076546705,
          0.3922469509849665,
          -0.3283399439671376,
          -0.7082986794613881,
          -1.3012155638305742,
          -0.47344112138941563,
          0.025524978856013302,
          -0.6078471413136215,
          0.6221060033789865,
          -0.8425812105486945,
          -1.9731018326838081,
          -2.085182182082291,
          0.7211728722787665,
          1.5764475887837608,
          0.17856892843054062,
          0.09394500672765961,
          -0.838783815812583,
          -2.0640038711962796,
          0.07541148221711562,
          0.011988483697282544,
          1.156875251344672,
          -0.32642331073805275,
          -1.0002773938460705,
          -0.409558017985458,
          -1.6432367398217418,
          -1.458768728092791
         ],
         "yaxis": "y5"
        },
        {
         "histfunc": "count",
         "histnorm": "",
         "marker": {
          "color": "rgba(55, 128, 191, 1.0)",
          "line": {
           "color": "#4D5663",
           "width": 1.3
          }
         },
         "name": "B",
         "nbinsx": 10,
         "opacity": 0.8,
         "orientation": "v",
         "type": "histogram",
         "x": [
          -0.3643496606765255,
          0.026742083793018775,
          0.3584549394564874,
          -0.15087399036258875,
          0.7692264311391451,
          -0.9607394936456178,
          1.099364393084451,
          2.0413594007607077,
          -0.9589429120315346,
          -1.0151262656536937,
          -2.7705342521888636,
          0.04519916765724038,
          -1.0324039775286689,
          0.21166535206455778,
          0.9519171224472974,
          -0.8073326446901398,
          -0.11985422234986415,
          -0.1234321641152109,
          0.9187427563080505,
          -1.5763765046502152,
          0.48951503176455424,
          -0.278969609256558,
          -0.3648383818684051,
          -0.007140551384771878,
          0.824952324575092,
          1.012484922632672,
          0.5845377044183931,
          -1.2711783578576223,
          -0.36902106237264026,
          0.012682393985313328,
          0.3374744579584474,
          1.0374153302021154,
          0.8674581281533991,
          0.49520661962696927,
          -0.2181122070140142,
          -0.4198441589123327,
          -0.22085215002039907,
          -0.14099689419147918,
          -0.9772412761380672,
          -0.9091883734093862,
          -1.5686850852517986,
          0.12633424708785124,
          0.4249983112725074,
          -0.15071571160517683,
          -0.8190528021055005,
          -0.5843142509340462,
          1.009127911825222,
          -0.2532746339494671,
          0.8382486387582775,
          0.2987780822239634,
          -0.42940441705743443,
          0.12942894672747557,
          -0.3784668801032414,
          -0.36623302074540903,
          1.9636781681839237,
          -0.694293703929343,
          0.18243687176223544,
          0.44970065303344275,
          -0.5585085694844554,
          0.5781469849286903,
          -1.478679342255676,
          -2.2017812855469296,
          -0.22766449165792724,
          -0.9850956709230758,
          0.06535721379319329,
          1.6247637881367891,
          0.9388172664094236,
          0.5604816763327075,
          0.2297458405763916,
          0.5705488391936526,
          -0.5429901589467797,
          -1.4375484759630257,
          1.149625790934575,
          -1.8706089909902677,
          0.6574935076546705,
          0.3922469509849665,
          -0.3283399439671376,
          -0.7082986794613881,
          -1.3012155638305742,
          -0.47344112138941563,
          0.025524978856013302,
          -0.6078471413136215,
          0.6221060033789865,
          -0.8425812105486945,
          -1.9731018326838081,
          -2.085182182082291,
          0.7211728722787665,
          1.5764475887837608,
          0.17856892843054062,
          0.09394500672765961,
          -0.838783815812583,
          -2.0640038711962796,
          0.07541148221711562,
          0.011988483697282544,
          1.156875251344672,
          -0.32642331073805275,
          -1.0002773938460705,
          -0.409558017985458,
          -1.6432367398217418,
          -1.458768728092791
         ],
         "xaxis": "x6",
         "yaxis": "y6"
        },
        {
         "line": {
          "color": "rgba(128, 128, 128, 1.0)",
          "dash": "solid",
          "shape": "linear",
          "width": 1.3
         },
         "marker": {
          "size": 2,
          "symbol": "circle"
         },
         "mode": "markers",
         "name": "B",
         "text": "",
         "type": "scatter",
         "x": [
          -1.1186463499542998,
          1.2677912975381758,
          0.36076316284766746,
          -0.594562609277583,
          -0.4685633922208175,
          -0.7414270275053735,
          -1.2620028022058527,
          -0.2633575322313773,
          -0.13705740516672574,
          -0.6779505642675806,
          -0.2026716055278497,
          1.6258578058108586,
          0.24708350229743825,
          0.6924231043760657,
          -1.5136756150318582,
          0.18387379001212456,
          -1.0758932407544046,
          -1.1277833413495375,
          -0.09007994172368866,
          1.7438241639662895,
          0.17877381008658313,
          0.21997679671829612,
          0.43375237351717855,
          -0.57839905502642,
          0.34209577444414135,
          -0.26366532914873114,
          1.0700940451035175,
          -0.9512143375191747,
          -0.6850989671874386,
          0.21183117412430214,
          -0.4104742967296816,
          -1.0890895555885556,
          0.36987011373475775,
          -1.0232701308222056,
          0.044981104707034446,
          -0.0824754843912133,
          2.092860328910299,
          2.8344786758836196,
          0.260552308604172,
          -0.2458360898438423,
          -1.2257665509409992,
          -1.1316510511315512,
          0.32548178557719026,
          0.6763374540496877,
          0.6183684289996768,
          0.22458715291167278,
          -0.10773707471439793,
          0.14631716285290056,
          -0.25856157950527603,
          0.3949298005054963,
          0.014701924255192494,
          0.04254310141261005,
          -0.3038555542985175,
          1.3746376476163982,
          -1.0525689185942786,
          1.8677556254708725,
          -0.9544443715719576,
          0.6250657420707972,
          -0.6597264515616512,
          1.2000128640230874,
          -1.921474505487477,
          0.10359809264203092,
          0.14030400767650186,
          -0.24415105688321234,
          0.09908985392907203,
          0.11762629422038864,
          -0.40161956844729146,
          -0.32560451956022274,
          -0.2742954646454567,
          0.7033588244428957,
          1.044708085637379,
          1.3432802304882736,
          -0.48809055516302796,
          -0.40759577124501833,
          -0.23367711063773317,
          1.0357161154696715,
          -2.035454205328424,
          -0.3275881726844608,
          -0.5365535854449085,
          0.5715003149914503,
          0.7005392956847408,
          -0.6098133766978422,
          0.13932592576040911,
          -0.7696519088160988,
          -0.756068093698991,
          -2.6222547596454278,
          -0.47657293861878464,
          1.1639948628729075,
          -1.4642275879391387,
          -0.38596602153173,
          -0.5421683648952816,
          0.10309907483896115,
          0.2639944083236471,
          0.09410435510004495,
          -0.6567099939622915,
          -0.2203570095662532,
          -1.881779224440967,
          0.41613232309439224,
          0.7655415853330867,
          -1.4245542342590862
         ],
         "xaxis": "x7",
         "y": [
          -0.3643496606765255,
          0.026742083793018775,
          0.3584549394564874,
          -0.15087399036258875,
          0.7692264311391451,
          -0.9607394936456178,
          1.099364393084451,
          2.0413594007607077,
          -0.9589429120315346,
          -1.0151262656536937,
          -2.7705342521888636,
          0.04519916765724038,
          -1.0324039775286689,
          0.21166535206455778,
          0.9519171224472974,
          -0.8073326446901398,
          -0.11985422234986415,
          -0.1234321641152109,
          0.9187427563080505,
          -1.5763765046502152,
          0.48951503176455424,
          -0.278969609256558,
          -0.3648383818684051,
          -0.007140551384771878,
          0.824952324575092,
          1.012484922632672,
          0.5845377044183931,
          -1.2711783578576223,
          -0.36902106237264026,
          0.012682393985313328,
          0.3374744579584474,
          1.0374153302021154,
          0.8674581281533991,
          0.49520661962696927,
          -0.2181122070140142,
          -0.4198441589123327,
          -0.22085215002039907,
          -0.14099689419147918,
          -0.9772412761380672,
          -0.9091883734093862,
          -1.5686850852517986,
          0.12633424708785124,
          0.4249983112725074,
          -0.15071571160517683,
          -0.8190528021055005,
          -0.5843142509340462,
          1.009127911825222,
          -0.2532746339494671,
          0.8382486387582775,
          0.2987780822239634,
          -0.42940441705743443,
          0.12942894672747557,
          -0.3784668801032414,
          -0.36623302074540903,
          1.9636781681839237,
          -0.694293703929343,
          0.18243687176223544,
          0.44970065303344275,
          -0.5585085694844554,
          0.5781469849286903,
          -1.478679342255676,
          -2.2017812855469296,
          -0.22766449165792724,
          -0.9850956709230758,
          0.06535721379319329,
          1.6247637881367891,
          0.9388172664094236,
          0.5604816763327075,
          0.2297458405763916,
          0.5705488391936526,
          -0.5429901589467797,
          -1.4375484759630257,
          1.149625790934575,
          -1.8706089909902677,
          0.6574935076546705,
          0.3922469509849665,
          -0.3283399439671376,
          -0.7082986794613881,
          -1.3012155638305742,
          -0.47344112138941563,
          0.025524978856013302,
          -0.6078471413136215,
          0.6221060033789865,
          -0.8425812105486945,
          -1.9731018326838081,
          -2.085182182082291,
          0.7211728722787665,
          1.5764475887837608,
          0.17856892843054062,
          0.09394500672765961,
          -0.838783815812583,
          -2.0640038711962796,
          0.07541148221711562,
          0.011988483697282544,
          1.156875251344672,
          -0.32642331073805275,
          -1.0002773938460705,
          -0.409558017985458,
          -1.6432367398217418,
          -1.458768728092791
         ],
         "yaxis": "y7"
        },
        {
         "line": {
          "color": "rgba(128, 128, 128, 1.0)",
          "dash": "solid",
          "shape": "linear",
          "width": 1.3
         },
         "marker": {
          "size": 2,
          "symbol": "circle"
         },
         "mode": "markers",
         "name": "B",
         "text": "",
         "type": "scatter",
         "x": [
          -0.6489732176465235,
          -0.41469620685869946,
          -0.7371821797185605,
          -0.9768777099594689,
          -0.22711856500745847,
          2.54026166785655,
          0.15537859565815373,
          -0.9775530087225272,
          2.1618950609150063,
          -1.62519664198678,
          0.21236468315567575,
          1.3459918522282894,
          0.08370362006998518,
          0.7394987862241378,
          0.6539134662590035,
          -0.7086034819362234,
          1.6417074272652397,
          0.8369405076533828,
          -0.1704799982098994,
          -0.6549938398194295,
          -0.5483941513527122,
          -1.0447976323516879,
          -0.8018209373504784,
          0.9465864367131726,
          0.6825721074052299,
          0.7887445296778326,
          -0.07546641130273239,
          0.9536526696779729,
          0.4438010796827428,
          -2.2370489036955785,
          -0.6698273819555984,
          0.20635471129522778,
          2.6020926738257306,
          1.0709247935134785,
          0.32384649714279573,
          0.09885999146630725,
          -2.619846279753586,
          -0.46368625253882917,
          1.8712323092911936,
          0.05486969328773147,
          -1.1935146053370786,
          -0.16610251307721524,
          0.6384990529938278,
          1.4038901310185594,
          -0.27245345648714625,
          0.6216184998596498,
          -1.2889792680352745,
          0.3087510888991206,
          0.7360554150652998,
          -0.5165922648054353,
          1.3395981597477955,
          -0.5252602248023504,
          0.6099177946814479,
          -1.0996073656442549,
          2.8542098952108206,
          -0.8285294637490741,
          -0.11911381103015203,
          -1.2557955685428008,
          0.20494733090020398,
          1.447145307689846,
          -0.10189582644921229,
          -2.340645851858345,
          0.905048221674501,
          -3.2847949833595678,
          1.1954851366552612,
          -0.5849358200331003,
          0.30759900650876176,
          -1.4237600566252469,
          1.156013455755697,
          -1.4013371187352321,
          -1.1940724679311008,
          0.6717037121348988,
          0.29877179423852096,
          0.0735572848097489,
          -0.9995298211801902,
          -0.7382077941967837,
          -0.8081365209550897,
          0.2597666777870895,
          0.7055084707601808,
          -2.0317763614359197,
          1.0858361132082317,
          0.2245567699104668,
          0.19531027958986188,
          1.7143659929154766,
          -0.07210747828589123,
          0.6727003522455439,
          -0.10537352910610093,
          1.4134671690171892,
          0.6044508884083378,
          1.0463998481695964,
          0.04921068006225297,
          -0.5367797534585702,
          -0.4983033200797242,
          1.6722949355998922,
          0.5433310212695938,
          -0.31371004745330844,
          0.6080594834764896,
          0.05958357598335059,
          -0.9994953363575223,
          0.3057815249245013
         ],
         "xaxis": "x8",
         "y": [
          -0.3643496606765255,
          0.026742083793018775,
          0.3584549394564874,
          -0.15087399036258875,
          0.7692264311391451,
          -0.9607394936456178,
          1.099364393084451,
          2.0413594007607077,
          -0.9589429120315346,
          -1.0151262656536937,
          -2.7705342521888636,
          0.04519916765724038,
          -1.0324039775286689,
          0.21166535206455778,
          0.9519171224472974,
          -0.8073326446901398,
          -0.11985422234986415,
          -0.1234321641152109,
          0.9187427563080505,
          -1.5763765046502152,
          0.48951503176455424,
          -0.278969609256558,
          -0.3648383818684051,
          -0.007140551384771878,
          0.824952324575092,
          1.012484922632672,
          0.5845377044183931,
          -1.2711783578576223,
          -0.36902106237264026,
          0.012682393985313328,
          0.3374744579584474,
          1.0374153302021154,
          0.8674581281533991,
          0.49520661962696927,
          -0.2181122070140142,
          -0.4198441589123327,
          -0.22085215002039907,
          -0.14099689419147918,
          -0.9772412761380672,
          -0.9091883734093862,
          -1.5686850852517986,
          0.12633424708785124,
          0.4249983112725074,
          -0.15071571160517683,
          -0.8190528021055005,
          -0.5843142509340462,
          1.009127911825222,
          -0.2532746339494671,
          0.8382486387582775,
          0.2987780822239634,
          -0.42940441705743443,
          0.12942894672747557,
          -0.3784668801032414,
          -0.36623302074540903,
          1.9636781681839237,
          -0.694293703929343,
          0.18243687176223544,
          0.44970065303344275,
          -0.5585085694844554,
          0.5781469849286903,
          -1.478679342255676,
          -2.2017812855469296,
          -0.22766449165792724,
          -0.9850956709230758,
          0.06535721379319329,
          1.6247637881367891,
          0.9388172664094236,
          0.5604816763327075,
          0.2297458405763916,
          0.5705488391936526,
          -0.5429901589467797,
          -1.4375484759630257,
          1.149625790934575,
          -1.8706089909902677,
          0.6574935076546705,
          0.3922469509849665,
          -0.3283399439671376,
          -0.7082986794613881,
          -1.3012155638305742,
          -0.47344112138941563,
          0.025524978856013302,
          -0.6078471413136215,
          0.6221060033789865,
          -0.8425812105486945,
          -1.9731018326838081,
          -2.085182182082291,
          0.7211728722787665,
          1.5764475887837608,
          0.17856892843054062,
          0.09394500672765961,
          -0.838783815812583,
          -2.0640038711962796,
          0.07541148221711562,
          0.011988483697282544,
          1.156875251344672,
          -0.32642331073805275,
          -1.0002773938460705,
          -0.409558017985458,
          -1.6432367398217418,
          -1.458768728092791
         ],
         "yaxis": "y8"
        },
        {
         "line": {
          "color": "rgba(128, 128, 128, 1.0)",
          "dash": "solid",
          "shape": "linear",
          "width": 1.3
         },
         "marker": {
          "size": 2,
          "symbol": "circle"
         },
         "mode": "markers",
         "name": "C",
         "text": "",
         "type": "scatter",
         "x": [
          -3.1903388189260506,
          0.23396036411163004,
          1.1589655786036386,
          -0.48300006152562525,
          -1.5103337587243804,
          -0.5044248859027471,
          1.182281645215199,
          0.42006775240638894,
          -0.8810298974091847,
          0.5039382873693414,
          -0.731266004129346,
          0.0638361921822204,
          -1.0652754263641049,
          -0.9041076466885405,
          -0.9048795324169541,
          -0.7972587761240022,
          -0.3675670471291356,
          0.28082146701438343,
          -0.08633039339250868,
          0.040217153150704704,
          -0.6690624158655928,
          1.2627520886852726,
          0.8930334427555254,
          -0.5720828983632429,
          -0.10829789239054843,
          0.40614750365984825,
          -1.103865178801149,
          -0.8121010383177608,
          0.10072184675344648,
          -0.5769169489648015,
          -1.064607754248978,
          0.2803088090050602,
          0.27784983531770807,
          -0.41074940453263725,
          0.5858394974501357,
          -1.1873780187790168,
          -1.3497579113052596,
          1.255295743570665,
          -0.6927268600950082,
          -0.36127203424382964,
          -0.34463610823926666,
          -1.2009964413381025,
          1.3923569898979733,
          0.7787889527113488,
          1.8663933162193367,
          -0.7896518608815303,
          0.8604392983684553,
          0.5735613938299836,
          -1.2802106717549009,
          0.44164511860901834,
          -1.1744289444226033,
          -0.0000060149059195747345,
          -0.6467481917357054,
          1.2327214192099953,
          -0.28623017443738186,
          -1.7412710235687312,
          -0.9758958392945769,
          1.600310178717572,
          -0.6658748622479977,
          0.36105544712213045,
          1.2539490446516994,
          1.0583809422068344,
          -0.597617455493197,
          -0.45722923476382665,
          -1.2684784915115794,
          -0.9644190323469388,
          -0.8772580574236023,
          0.085838476310741,
          0.48674958148652886,
          0.9676561629391955,
          -2.13767913287318,
          -2.955837736363831,
          -1.7764340900302908,
          1.272615789302066,
          -0.37425080144249273,
          1.026973987239565,
          2.100477946764772,
          -0.9807225547579596,
          -0.7533250886156038,
          -0.03650463249437804,
          0.3529513644456242,
          -1.3607833800573281,
          -1.7417396477441502,
          -1.2994294895974514,
          0.32077583616185623,
          -0.4244455156618559,
          0.8905320772769698,
          -1.3186547947430771,
          0.12166001368478756,
          -1.2191124444406027,
          0.24654677954656246,
          -0.2623982371892286,
          0.2624213780227509,
          0.09375602776369371,
          -0.8396352448027719,
          -0.5553431002419489,
          -0.06731001731720351,
          -0.49821737363514945,
          2.474916165429662,
          -1.6424571327832522
         ],
         "xaxis": "x9",
         "y": [
          -1.1186463499542998,
          1.2677912975381758,
          0.36076316284766746,
          -0.594562609277583,
          -0.4685633922208175,
          -0.7414270275053735,
          -1.2620028022058527,
          -0.2633575322313773,
          -0.13705740516672574,
          -0.6779505642675806,
          -0.2026716055278497,
          1.6258578058108586,
          0.24708350229743825,
          0.6924231043760657,
          -1.5136756150318582,
          0.18387379001212456,
          -1.0758932407544046,
          -1.1277833413495375,
          -0.09007994172368866,
          1.7438241639662895,
          0.17877381008658313,
          0.21997679671829612,
          0.43375237351717855,
          -0.57839905502642,
          0.34209577444414135,
          -0.26366532914873114,
          1.0700940451035175,
          -0.9512143375191747,
          -0.6850989671874386,
          0.21183117412430214,
          -0.4104742967296816,
          -1.0890895555885556,
          0.36987011373475775,
          -1.0232701308222056,
          0.044981104707034446,
          -0.0824754843912133,
          2.092860328910299,
          2.8344786758836196,
          0.260552308604172,
          -0.2458360898438423,
          -1.2257665509409992,
          -1.1316510511315512,
          0.32548178557719026,
          0.6763374540496877,
          0.6183684289996768,
          0.22458715291167278,
          -0.10773707471439793,
          0.14631716285290056,
          -0.25856157950527603,
          0.3949298005054963,
          0.014701924255192494,
          0.04254310141261005,
          -0.3038555542985175,
          1.3746376476163982,
          -1.0525689185942786,
          1.8677556254708725,
          -0.9544443715719576,
          0.6250657420707972,
          -0.6597264515616512,
          1.2000128640230874,
          -1.921474505487477,
          0.10359809264203092,
          0.14030400767650186,
          -0.24415105688321234,
          0.09908985392907203,
          0.11762629422038864,
          -0.40161956844729146,
          -0.32560451956022274,
          -0.2742954646454567,
          0.7033588244428957,
          1.044708085637379,
          1.3432802304882736,
          -0.48809055516302796,
          -0.40759577124501833,
          -0.23367711063773317,
          1.0357161154696715,
          -2.035454205328424,
          -0.3275881726844608,
          -0.5365535854449085,
          0.5715003149914503,
          0.7005392956847408,
          -0.6098133766978422,
          0.13932592576040911,
          -0.7696519088160988,
          -0.756068093698991,
          -2.6222547596454278,
          -0.47657293861878464,
          1.1639948628729075,
          -1.4642275879391387,
          -0.38596602153173,
          -0.5421683648952816,
          0.10309907483896115,
          0.2639944083236471,
          0.09410435510004495,
          -0.6567099939622915,
          -0.2203570095662532,
          -1.881779224440967,
          0.41613232309439224,
          0.7655415853330867,
          -1.4245542342590862
         ],
         "yaxis": "y9"
        },
        {
         "line": {
          "color": "rgba(128, 128, 128, 1.0)",
          "dash": "solid",
          "shape": "linear",
          "width": 1.3
         },
         "marker": {
          "size": 2,
          "symbol": "circle"
         },
         "mode": "markers",
         "name": "C",
         "text": "",
         "type": "scatter",
         "x": [
          -0.3643496606765255,
          0.026742083793018775,
          0.3584549394564874,
          -0.15087399036258875,
          0.7692264311391451,
          -0.9607394936456178,
          1.099364393084451,
          2.0413594007607077,
          -0.9589429120315346,
          -1.0151262656536937,
          -2.7705342521888636,
          0.04519916765724038,
          -1.0324039775286689,
          0.21166535206455778,
          0.9519171224472974,
          -0.8073326446901398,
          -0.11985422234986415,
          -0.1234321641152109,
          0.9187427563080505,
          -1.5763765046502152,
          0.48951503176455424,
          -0.278969609256558,
          -0.3648383818684051,
          -0.007140551384771878,
          0.824952324575092,
          1.012484922632672,
          0.5845377044183931,
          -1.2711783578576223,
          -0.36902106237264026,
          0.012682393985313328,
          0.3374744579584474,
          1.0374153302021154,
          0.8674581281533991,
          0.49520661962696927,
          -0.2181122070140142,
          -0.4198441589123327,
          -0.22085215002039907,
          -0.14099689419147918,
          -0.9772412761380672,
          -0.9091883734093862,
          -1.5686850852517986,
          0.12633424708785124,
          0.4249983112725074,
          -0.15071571160517683,
          -0.8190528021055005,
          -0.5843142509340462,
          1.009127911825222,
          -0.2532746339494671,
          0.8382486387582775,
          0.2987780822239634,
          -0.42940441705743443,
          0.12942894672747557,
          -0.3784668801032414,
          -0.36623302074540903,
          1.9636781681839237,
          -0.694293703929343,
          0.18243687176223544,
          0.44970065303344275,
          -0.5585085694844554,
          0.5781469849286903,
          -1.478679342255676,
          -2.2017812855469296,
          -0.22766449165792724,
          -0.9850956709230758,
          0.06535721379319329,
          1.6247637881367891,
          0.9388172664094236,
          0.5604816763327075,
          0.2297458405763916,
          0.5705488391936526,
          -0.5429901589467797,
          -1.4375484759630257,
          1.149625790934575,
          -1.8706089909902677,
          0.6574935076546705,
          0.3922469509849665,
          -0.3283399439671376,
          -0.7082986794613881,
          -1.3012155638305742,
          -0.47344112138941563,
          0.025524978856013302,
          -0.6078471413136215,
          0.6221060033789865,
          -0.8425812105486945,
          -1.9731018326838081,
          -2.085182182082291,
          0.7211728722787665,
          1.5764475887837608,
          0.17856892843054062,
          0.09394500672765961,
          -0.838783815812583,
          -2.0640038711962796,
          0.07541148221711562,
          0.011988483697282544,
          1.156875251344672,
          -0.32642331073805275,
          -1.0002773938460705,
          -0.409558017985458,
          -1.6432367398217418,
          -1.458768728092791
         ],
         "xaxis": "x10",
         "y": [
          -1.1186463499542998,
          1.2677912975381758,
          0.36076316284766746,
          -0.594562609277583,
          -0.4685633922208175,
          -0.7414270275053735,
          -1.2620028022058527,
          -0.2633575322313773,
          -0.13705740516672574,
          -0.6779505642675806,
          -0.2026716055278497,
          1.6258578058108586,
          0.24708350229743825,
          0.6924231043760657,
          -1.5136756150318582,
          0.18387379001212456,
          -1.0758932407544046,
          -1.1277833413495375,
          -0.09007994172368866,
          1.7438241639662895,
          0.17877381008658313,
          0.21997679671829612,
          0.43375237351717855,
          -0.57839905502642,
          0.34209577444414135,
          -0.26366532914873114,
          1.0700940451035175,
          -0.9512143375191747,
          -0.6850989671874386,
          0.21183117412430214,
          -0.4104742967296816,
          -1.0890895555885556,
          0.36987011373475775,
          -1.0232701308222056,
          0.044981104707034446,
          -0.0824754843912133,
          2.092860328910299,
          2.8344786758836196,
          0.260552308604172,
          -0.2458360898438423,
          -1.2257665509409992,
          -1.1316510511315512,
          0.32548178557719026,
          0.6763374540496877,
          0.6183684289996768,
          0.22458715291167278,
          -0.10773707471439793,
          0.14631716285290056,
          -0.25856157950527603,
          0.3949298005054963,
          0.014701924255192494,
          0.04254310141261005,
          -0.3038555542985175,
          1.3746376476163982,
          -1.0525689185942786,
          1.8677556254708725,
          -0.9544443715719576,
          0.6250657420707972,
          -0.6597264515616512,
          1.2000128640230874,
          -1.921474505487477,
          0.10359809264203092,
          0.14030400767650186,
          -0.24415105688321234,
          0.09908985392907203,
          0.11762629422038864,
          -0.40161956844729146,
          -0.32560451956022274,
          -0.2742954646454567,
          0.7033588244428957,
          1.044708085637379,
          1.3432802304882736,
          -0.48809055516302796,
          -0.40759577124501833,
          -0.23367711063773317,
          1.0357161154696715,
          -2.035454205328424,
          -0.3275881726844608,
          -0.5365535854449085,
          0.5715003149914503,
          0.7005392956847408,
          -0.6098133766978422,
          0.13932592576040911,
          -0.7696519088160988,
          -0.756068093698991,
          -2.6222547596454278,
          -0.47657293861878464,
          1.1639948628729075,
          -1.4642275879391387,
          -0.38596602153173,
          -0.5421683648952816,
          0.10309907483896115,
          0.2639944083236471,
          0.09410435510004495,
          -0.6567099939622915,
          -0.2203570095662532,
          -1.881779224440967,
          0.41613232309439224,
          0.7655415853330867,
          -1.4245542342590862
         ],
         "yaxis": "y10"
        },
        {
         "histfunc": "count",
         "histnorm": "",
         "marker": {
          "color": "rgba(50, 171, 96, 1.0)",
          "line": {
           "color": "#4D5663",
           "width": 1.3
          }
         },
         "name": "C",
         "nbinsx": 10,
         "opacity": 0.8,
         "orientation": "v",
         "type": "histogram",
         "x": [
          -1.1186463499542998,
          1.2677912975381758,
          0.36076316284766746,
          -0.594562609277583,
          -0.4685633922208175,
          -0.7414270275053735,
          -1.2620028022058527,
          -0.2633575322313773,
          -0.13705740516672574,
          -0.6779505642675806,
          -0.2026716055278497,
          1.6258578058108586,
          0.24708350229743825,
          0.6924231043760657,
          -1.5136756150318582,
          0.18387379001212456,
          -1.0758932407544046,
          -1.1277833413495375,
          -0.09007994172368866,
          1.7438241639662895,
          0.17877381008658313,
          0.21997679671829612,
          0.43375237351717855,
          -0.57839905502642,
          0.34209577444414135,
          -0.26366532914873114,
          1.0700940451035175,
          -0.9512143375191747,
          -0.6850989671874386,
          0.21183117412430214,
          -0.4104742967296816,
          -1.0890895555885556,
          0.36987011373475775,
          -1.0232701308222056,
          0.044981104707034446,
          -0.0824754843912133,
          2.092860328910299,
          2.8344786758836196,
          0.260552308604172,
          -0.2458360898438423,
          -1.2257665509409992,
          -1.1316510511315512,
          0.32548178557719026,
          0.6763374540496877,
          0.6183684289996768,
          0.22458715291167278,
          -0.10773707471439793,
          0.14631716285290056,
          -0.25856157950527603,
          0.3949298005054963,
          0.014701924255192494,
          0.04254310141261005,
          -0.3038555542985175,
          1.3746376476163982,
          -1.0525689185942786,
          1.8677556254708725,
          -0.9544443715719576,
          0.6250657420707972,
          -0.6597264515616512,
          1.2000128640230874,
          -1.921474505487477,
          0.10359809264203092,
          0.14030400767650186,
          -0.24415105688321234,
          0.09908985392907203,
          0.11762629422038864,
          -0.40161956844729146,
          -0.32560451956022274,
          -0.2742954646454567,
          0.7033588244428957,
          1.044708085637379,
          1.3432802304882736,
          -0.48809055516302796,
          -0.40759577124501833,
          -0.23367711063773317,
          1.0357161154696715,
          -2.035454205328424,
          -0.3275881726844608,
          -0.5365535854449085,
          0.5715003149914503,
          0.7005392956847408,
          -0.6098133766978422,
          0.13932592576040911,
          -0.7696519088160988,
          -0.756068093698991,
          -2.6222547596454278,
          -0.47657293861878464,
          1.1639948628729075,
          -1.4642275879391387,
          -0.38596602153173,
          -0.5421683648952816,
          0.10309907483896115,
          0.2639944083236471,
          0.09410435510004495,
          -0.6567099939622915,
          -0.2203570095662532,
          -1.881779224440967,
          0.41613232309439224,
          0.7655415853330867,
          -1.4245542342590862
         ],
         "xaxis": "x11",
         "yaxis": "y11"
        },
        {
         "line": {
          "color": "rgba(128, 128, 128, 1.0)",
          "dash": "solid",
          "shape": "linear",
          "width": 1.3
         },
         "marker": {
          "size": 2,
          "symbol": "circle"
         },
         "mode": "markers",
         "name": "C",
         "text": "",
         "type": "scatter",
         "x": [
          -0.6489732176465235,
          -0.41469620685869946,
          -0.7371821797185605,
          -0.9768777099594689,
          -0.22711856500745847,
          2.54026166785655,
          0.15537859565815373,
          -0.9775530087225272,
          2.1618950609150063,
          -1.62519664198678,
          0.21236468315567575,
          1.3459918522282894,
          0.08370362006998518,
          0.7394987862241378,
          0.6539134662590035,
          -0.7086034819362234,
          1.6417074272652397,
          0.8369405076533828,
          -0.1704799982098994,
          -0.6549938398194295,
          -0.5483941513527122,
          -1.0447976323516879,
          -0.8018209373504784,
          0.9465864367131726,
          0.6825721074052299,
          0.7887445296778326,
          -0.07546641130273239,
          0.9536526696779729,
          0.4438010796827428,
          -2.2370489036955785,
          -0.6698273819555984,
          0.20635471129522778,
          2.6020926738257306,
          1.0709247935134785,
          0.32384649714279573,
          0.09885999146630725,
          -2.619846279753586,
          -0.46368625253882917,
          1.8712323092911936,
          0.05486969328773147,
          -1.1935146053370786,
          -0.16610251307721524,
          0.6384990529938278,
          1.4038901310185594,
          -0.27245345648714625,
          0.6216184998596498,
          -1.2889792680352745,
          0.3087510888991206,
          0.7360554150652998,
          -0.5165922648054353,
          1.3395981597477955,
          -0.5252602248023504,
          0.6099177946814479,
          -1.0996073656442549,
          2.8542098952108206,
          -0.8285294637490741,
          -0.11911381103015203,
          -1.2557955685428008,
          0.20494733090020398,
          1.447145307689846,
          -0.10189582644921229,
          -2.340645851858345,
          0.905048221674501,
          -3.2847949833595678,
          1.1954851366552612,
          -0.5849358200331003,
          0.30759900650876176,
          -1.4237600566252469,
          1.156013455755697,
          -1.4013371187352321,
          -1.1940724679311008,
          0.6717037121348988,
          0.29877179423852096,
          0.0735572848097489,
          -0.9995298211801902,
          -0.7382077941967837,
          -0.8081365209550897,
          0.2597666777870895,
          0.7055084707601808,
          -2.0317763614359197,
          1.0858361132082317,
          0.2245567699104668,
          0.19531027958986188,
          1.7143659929154766,
          -0.07210747828589123,
          0.6727003522455439,
          -0.10537352910610093,
          1.4134671690171892,
          0.6044508884083378,
          1.0463998481695964,
          0.04921068006225297,
          -0.5367797534585702,
          -0.4983033200797242,
          1.6722949355998922,
          0.5433310212695938,
          -0.31371004745330844,
          0.6080594834764896,
          0.05958357598335059,
          -0.9994953363575223,
          0.3057815249245013
         ],
         "xaxis": "x12",
         "y": [
          -1.1186463499542998,
          1.2677912975381758,
          0.36076316284766746,
          -0.594562609277583,
          -0.4685633922208175,
          -0.7414270275053735,
          -1.2620028022058527,
          -0.2633575322313773,
          -0.13705740516672574,
          -0.6779505642675806,
          -0.2026716055278497,
          1.6258578058108586,
          0.24708350229743825,
          0.6924231043760657,
          -1.5136756150318582,
          0.18387379001212456,
          -1.0758932407544046,
          -1.1277833413495375,
          -0.09007994172368866,
          1.7438241639662895,
          0.17877381008658313,
          0.21997679671829612,
          0.43375237351717855,
          -0.57839905502642,
          0.34209577444414135,
          -0.26366532914873114,
          1.0700940451035175,
          -0.9512143375191747,
          -0.6850989671874386,
          0.21183117412430214,
          -0.4104742967296816,
          -1.0890895555885556,
          0.36987011373475775,
          -1.0232701308222056,
          0.044981104707034446,
          -0.0824754843912133,
          2.092860328910299,
          2.8344786758836196,
          0.260552308604172,
          -0.2458360898438423,
          -1.2257665509409992,
          -1.1316510511315512,
          0.32548178557719026,
          0.6763374540496877,
          0.6183684289996768,
          0.22458715291167278,
          -0.10773707471439793,
          0.14631716285290056,
          -0.25856157950527603,
          0.3949298005054963,
          0.014701924255192494,
          0.04254310141261005,
          -0.3038555542985175,
          1.3746376476163982,
          -1.0525689185942786,
          1.8677556254708725,
          -0.9544443715719576,
          0.6250657420707972,
          -0.6597264515616512,
          1.2000128640230874,
          -1.921474505487477,
          0.10359809264203092,
          0.14030400767650186,
          -0.24415105688321234,
          0.09908985392907203,
          0.11762629422038864,
          -0.40161956844729146,
          -0.32560451956022274,
          -0.2742954646454567,
          0.7033588244428957,
          1.044708085637379,
          1.3432802304882736,
          -0.48809055516302796,
          -0.40759577124501833,
          -0.23367711063773317,
          1.0357161154696715,
          -2.035454205328424,
          -0.3275881726844608,
          -0.5365535854449085,
          0.5715003149914503,
          0.7005392956847408,
          -0.6098133766978422,
          0.13932592576040911,
          -0.7696519088160988,
          -0.756068093698991,
          -2.6222547596454278,
          -0.47657293861878464,
          1.1639948628729075,
          -1.4642275879391387,
          -0.38596602153173,
          -0.5421683648952816,
          0.10309907483896115,
          0.2639944083236471,
          0.09410435510004495,
          -0.6567099939622915,
          -0.2203570095662532,
          -1.881779224440967,
          0.41613232309439224,
          0.7655415853330867,
          -1.4245542342590862
         ],
         "yaxis": "y12"
        },
        {
         "line": {
          "color": "rgba(128, 128, 128, 1.0)",
          "dash": "solid",
          "shape": "linear",
          "width": 1.3
         },
         "marker": {
          "size": 2,
          "symbol": "circle"
         },
         "mode": "markers",
         "name": "D",
         "text": "",
         "type": "scatter",
         "x": [
          -3.1903388189260506,
          0.23396036411163004,
          1.1589655786036386,
          -0.48300006152562525,
          -1.5103337587243804,
          -0.5044248859027471,
          1.182281645215199,
          0.42006775240638894,
          -0.8810298974091847,
          0.5039382873693414,
          -0.731266004129346,
          0.0638361921822204,
          -1.0652754263641049,
          -0.9041076466885405,
          -0.9048795324169541,
          -0.7972587761240022,
          -0.3675670471291356,
          0.28082146701438343,
          -0.08633039339250868,
          0.040217153150704704,
          -0.6690624158655928,
          1.2627520886852726,
          0.8930334427555254,
          -0.5720828983632429,
          -0.10829789239054843,
          0.40614750365984825,
          -1.103865178801149,
          -0.8121010383177608,
          0.10072184675344648,
          -0.5769169489648015,
          -1.064607754248978,
          0.2803088090050602,
          0.27784983531770807,
          -0.41074940453263725,
          0.5858394974501357,
          -1.1873780187790168,
          -1.3497579113052596,
          1.255295743570665,
          -0.6927268600950082,
          -0.36127203424382964,
          -0.34463610823926666,
          -1.2009964413381025,
          1.3923569898979733,
          0.7787889527113488,
          1.8663933162193367,
          -0.7896518608815303,
          0.8604392983684553,
          0.5735613938299836,
          -1.2802106717549009,
          0.44164511860901834,
          -1.1744289444226033,
          -0.0000060149059195747345,
          -0.6467481917357054,
          1.2327214192099953,
          -0.28623017443738186,
          -1.7412710235687312,
          -0.9758958392945769,
          1.600310178717572,
          -0.6658748622479977,
          0.36105544712213045,
          1.2539490446516994,
          1.0583809422068344,
          -0.597617455493197,
          -0.45722923476382665,
          -1.2684784915115794,
          -0.9644190323469388,
          -0.8772580574236023,
          0.085838476310741,
          0.48674958148652886,
          0.9676561629391955,
          -2.13767913287318,
          -2.955837736363831,
          -1.7764340900302908,
          1.272615789302066,
          -0.37425080144249273,
          1.026973987239565,
          2.100477946764772,
          -0.9807225547579596,
          -0.7533250886156038,
          -0.03650463249437804,
          0.3529513644456242,
          -1.3607833800573281,
          -1.7417396477441502,
          -1.2994294895974514,
          0.32077583616185623,
          -0.4244455156618559,
          0.8905320772769698,
          -1.3186547947430771,
          0.12166001368478756,
          -1.2191124444406027,
          0.24654677954656246,
          -0.2623982371892286,
          0.2624213780227509,
          0.09375602776369371,
          -0.8396352448027719,
          -0.5553431002419489,
          -0.06731001731720351,
          -0.49821737363514945,
          2.474916165429662,
          -1.6424571327832522
         ],
         "xaxis": "x13",
         "y": [
          -0.6489732176465235,
          -0.41469620685869946,
          -0.7371821797185605,
          -0.9768777099594689,
          -0.22711856500745847,
          2.54026166785655,
          0.15537859565815373,
          -0.9775530087225272,
          2.1618950609150063,
          -1.62519664198678,
          0.21236468315567575,
          1.3459918522282894,
          0.08370362006998518,
          0.7394987862241378,
          0.6539134662590035,
          -0.7086034819362234,
          1.6417074272652397,
          0.8369405076533828,
          -0.1704799982098994,
          -0.6549938398194295,
          -0.5483941513527122,
          -1.0447976323516879,
          -0.8018209373504784,
          0.9465864367131726,
          0.6825721074052299,
          0.7887445296778326,
          -0.07546641130273239,
          0.9536526696779729,
          0.4438010796827428,
          -2.2370489036955785,
          -0.6698273819555984,
          0.20635471129522778,
          2.6020926738257306,
          1.0709247935134785,
          0.32384649714279573,
          0.09885999146630725,
          -2.619846279753586,
          -0.46368625253882917,
          1.8712323092911936,
          0.05486969328773147,
          -1.1935146053370786,
          -0.16610251307721524,
          0.6384990529938278,
          1.4038901310185594,
          -0.27245345648714625,
          0.6216184998596498,
          -1.2889792680352745,
          0.3087510888991206,
          0.7360554150652998,
          -0.5165922648054353,
          1.3395981597477955,
          -0.5252602248023504,
          0.6099177946814479,
          -1.0996073656442549,
          2.8542098952108206,
          -0.8285294637490741,
          -0.11911381103015203,
          -1.2557955685428008,
          0.20494733090020398,
          1.447145307689846,
          -0.10189582644921229,
          -2.340645851858345,
          0.905048221674501,
          -3.2847949833595678,
          1.1954851366552612,
          -0.5849358200331003,
          0.30759900650876176,
          -1.4237600566252469,
          1.156013455755697,
          -1.4013371187352321,
          -1.1940724679311008,
          0.6717037121348988,
          0.29877179423852096,
          0.0735572848097489,
          -0.9995298211801902,
          -0.7382077941967837,
          -0.8081365209550897,
          0.2597666777870895,
          0.7055084707601808,
          -2.0317763614359197,
          1.0858361132082317,
          0.2245567699104668,
          0.19531027958986188,
          1.7143659929154766,
          -0.07210747828589123,
          0.6727003522455439,
          -0.10537352910610093,
          1.4134671690171892,
          0.6044508884083378,
          1.0463998481695964,
          0.04921068006225297,
          -0.5367797534585702,
          -0.4983033200797242,
          1.6722949355998922,
          0.5433310212695938,
          -0.31371004745330844,
          0.6080594834764896,
          0.05958357598335059,
          -0.9994953363575223,
          0.3057815249245013
         ],
         "yaxis": "y13"
        },
        {
         "line": {
          "color": "rgba(128, 128, 128, 1.0)",
          "dash": "solid",
          "shape": "linear",
          "width": 1.3
         },
         "marker": {
          "size": 2,
          "symbol": "circle"
         },
         "mode": "markers",
         "name": "D",
         "text": "",
         "type": "scatter",
         "x": [
          -0.3643496606765255,
          0.026742083793018775,
          0.3584549394564874,
          -0.15087399036258875,
          0.7692264311391451,
          -0.9607394936456178,
          1.099364393084451,
          2.0413594007607077,
          -0.9589429120315346,
          -1.0151262656536937,
          -2.7705342521888636,
          0.04519916765724038,
          -1.0324039775286689,
          0.21166535206455778,
          0.9519171224472974,
          -0.8073326446901398,
          -0.11985422234986415,
          -0.1234321641152109,
          0.9187427563080505,
          -1.5763765046502152,
          0.48951503176455424,
          -0.278969609256558,
          -0.3648383818684051,
          -0.007140551384771878,
          0.824952324575092,
          1.012484922632672,
          0.5845377044183931,
          -1.2711783578576223,
          -0.36902106237264026,
          0.012682393985313328,
          0.3374744579584474,
          1.0374153302021154,
          0.8674581281533991,
          0.49520661962696927,
          -0.2181122070140142,
          -0.4198441589123327,
          -0.22085215002039907,
          -0.14099689419147918,
          -0.9772412761380672,
          -0.9091883734093862,
          -1.5686850852517986,
          0.12633424708785124,
          0.4249983112725074,
          -0.15071571160517683,
          -0.8190528021055005,
          -0.5843142509340462,
          1.009127911825222,
          -0.2532746339494671,
          0.8382486387582775,
          0.2987780822239634,
          -0.42940441705743443,
          0.12942894672747557,
          -0.3784668801032414,
          -0.36623302074540903,
          1.9636781681839237,
          -0.694293703929343,
          0.18243687176223544,
          0.44970065303344275,
          -0.5585085694844554,
          0.5781469849286903,
          -1.478679342255676,
          -2.2017812855469296,
          -0.22766449165792724,
          -0.9850956709230758,
          0.06535721379319329,
          1.6247637881367891,
          0.9388172664094236,
          0.5604816763327075,
          0.2297458405763916,
          0.5705488391936526,
          -0.5429901589467797,
          -1.4375484759630257,
          1.149625790934575,
          -1.8706089909902677,
          0.6574935076546705,
          0.3922469509849665,
          -0.3283399439671376,
          -0.7082986794613881,
          -1.3012155638305742,
          -0.47344112138941563,
          0.025524978856013302,
          -0.6078471413136215,
          0.6221060033789865,
          -0.8425812105486945,
          -1.9731018326838081,
          -2.085182182082291,
          0.7211728722787665,
          1.5764475887837608,
          0.17856892843054062,
          0.09394500672765961,
          -0.838783815812583,
          -2.0640038711962796,
          0.07541148221711562,
          0.011988483697282544,
          1.156875251344672,
          -0.32642331073805275,
          -1.0002773938460705,
          -0.409558017985458,
          -1.6432367398217418,
          -1.458768728092791
         ],
         "xaxis": "x14",
         "y": [
          -0.6489732176465235,
          -0.41469620685869946,
          -0.7371821797185605,
          -0.9768777099594689,
          -0.22711856500745847,
          2.54026166785655,
          0.15537859565815373,
          -0.9775530087225272,
          2.1618950609150063,
          -1.62519664198678,
          0.21236468315567575,
          1.3459918522282894,
          0.08370362006998518,
          0.7394987862241378,
          0.6539134662590035,
          -0.7086034819362234,
          1.6417074272652397,
          0.8369405076533828,
          -0.1704799982098994,
          -0.6549938398194295,
          -0.5483941513527122,
          -1.0447976323516879,
          -0.8018209373504784,
          0.9465864367131726,
          0.6825721074052299,
          0.7887445296778326,
          -0.07546641130273239,
          0.9536526696779729,
          0.4438010796827428,
          -2.2370489036955785,
          -0.6698273819555984,
          0.20635471129522778,
          2.6020926738257306,
          1.0709247935134785,
          0.32384649714279573,
          0.09885999146630725,
          -2.619846279753586,
          -0.46368625253882917,
          1.8712323092911936,
          0.05486969328773147,
          -1.1935146053370786,
          -0.16610251307721524,
          0.6384990529938278,
          1.4038901310185594,
          -0.27245345648714625,
          0.6216184998596498,
          -1.2889792680352745,
          0.3087510888991206,
          0.7360554150652998,
          -0.5165922648054353,
          1.3395981597477955,
          -0.5252602248023504,
          0.6099177946814479,
          -1.0996073656442549,
          2.8542098952108206,
          -0.8285294637490741,
          -0.11911381103015203,
          -1.2557955685428008,
          0.20494733090020398,
          1.447145307689846,
          -0.10189582644921229,
          -2.340645851858345,
          0.905048221674501,
          -3.2847949833595678,
          1.1954851366552612,
          -0.5849358200331003,
          0.30759900650876176,
          -1.4237600566252469,
          1.156013455755697,
          -1.4013371187352321,
          -1.1940724679311008,
          0.6717037121348988,
          0.29877179423852096,
          0.0735572848097489,
          -0.9995298211801902,
          -0.7382077941967837,
          -0.8081365209550897,
          0.2597666777870895,
          0.7055084707601808,
          -2.0317763614359197,
          1.0858361132082317,
          0.2245567699104668,
          0.19531027958986188,
          1.7143659929154766,
          -0.07210747828589123,
          0.6727003522455439,
          -0.10537352910610093,
          1.4134671690171892,
          0.6044508884083378,
          1.0463998481695964,
          0.04921068006225297,
          -0.5367797534585702,
          -0.4983033200797242,
          1.6722949355998922,
          0.5433310212695938,
          -0.31371004745330844,
          0.6080594834764896,
          0.05958357598335059,
          -0.9994953363575223,
          0.3057815249245013
         ],
         "yaxis": "y14"
        },
        {
         "line": {
          "color": "rgba(128, 128, 128, 1.0)",
          "dash": "solid",
          "shape": "linear",
          "width": 1.3
         },
         "marker": {
          "size": 2,
          "symbol": "circle"
         },
         "mode": "markers",
         "name": "D",
         "text": "",
         "type": "scatter",
         "x": [
          -1.1186463499542998,
          1.2677912975381758,
          0.36076316284766746,
          -0.594562609277583,
          -0.4685633922208175,
          -0.7414270275053735,
          -1.2620028022058527,
          -0.2633575322313773,
          -0.13705740516672574,
          -0.6779505642675806,
          -0.2026716055278497,
          1.6258578058108586,
          0.24708350229743825,
          0.6924231043760657,
          -1.5136756150318582,
          0.18387379001212456,
          -1.0758932407544046,
          -1.1277833413495375,
          -0.09007994172368866,
          1.7438241639662895,
          0.17877381008658313,
          0.21997679671829612,
          0.43375237351717855,
          -0.57839905502642,
          0.34209577444414135,
          -0.26366532914873114,
          1.0700940451035175,
          -0.9512143375191747,
          -0.6850989671874386,
          0.21183117412430214,
          -0.4104742967296816,
          -1.0890895555885556,
          0.36987011373475775,
          -1.0232701308222056,
          0.044981104707034446,
          -0.0824754843912133,
          2.092860328910299,
          2.8344786758836196,
          0.260552308604172,
          -0.2458360898438423,
          -1.2257665509409992,
          -1.1316510511315512,
          0.32548178557719026,
          0.6763374540496877,
          0.6183684289996768,
          0.22458715291167278,
          -0.10773707471439793,
          0.14631716285290056,
          -0.25856157950527603,
          0.3949298005054963,
          0.014701924255192494,
          0.04254310141261005,
          -0.3038555542985175,
          1.3746376476163982,
          -1.0525689185942786,
          1.8677556254708725,
          -0.9544443715719576,
          0.6250657420707972,
          -0.6597264515616512,
          1.2000128640230874,
          -1.921474505487477,
          0.10359809264203092,
          0.14030400767650186,
          -0.24415105688321234,
          0.09908985392907203,
          0.11762629422038864,
          -0.40161956844729146,
          -0.32560451956022274,
          -0.2742954646454567,
          0.7033588244428957,
          1.044708085637379,
          1.3432802304882736,
          -0.48809055516302796,
          -0.40759577124501833,
          -0.23367711063773317,
          1.0357161154696715,
          -2.035454205328424,
          -0.3275881726844608,
          -0.5365535854449085,
          0.5715003149914503,
          0.7005392956847408,
          -0.6098133766978422,
          0.13932592576040911,
          -0.7696519088160988,
          -0.756068093698991,
          -2.6222547596454278,
          -0.47657293861878464,
          1.1639948628729075,
          -1.4642275879391387,
          -0.38596602153173,
          -0.5421683648952816,
          0.10309907483896115,
          0.2639944083236471,
          0.09410435510004495,
          -0.6567099939622915,
          -0.2203570095662532,
          -1.881779224440967,
          0.41613232309439224,
          0.7655415853330867,
          -1.4245542342590862
         ],
         "xaxis": "x15",
         "y": [
          -0.6489732176465235,
          -0.41469620685869946,
          -0.7371821797185605,
          -0.9768777099594689,
          -0.22711856500745847,
          2.54026166785655,
          0.15537859565815373,
          -0.9775530087225272,
          2.1618950609150063,
          -1.62519664198678,
          0.21236468315567575,
          1.3459918522282894,
          0.08370362006998518,
          0.7394987862241378,
          0.6539134662590035,
          -0.7086034819362234,
          1.6417074272652397,
          0.8369405076533828,
          -0.1704799982098994,
          -0.6549938398194295,
          -0.5483941513527122,
          -1.0447976323516879,
          -0.8018209373504784,
          0.9465864367131726,
          0.6825721074052299,
          0.7887445296778326,
          -0.07546641130273239,
          0.9536526696779729,
          0.4438010796827428,
          -2.2370489036955785,
          -0.6698273819555984,
          0.20635471129522778,
          2.6020926738257306,
          1.0709247935134785,
          0.32384649714279573,
          0.09885999146630725,
          -2.619846279753586,
          -0.46368625253882917,
          1.8712323092911936,
          0.05486969328773147,
          -1.1935146053370786,
          -0.16610251307721524,
          0.6384990529938278,
          1.4038901310185594,
          -0.27245345648714625,
          0.6216184998596498,
          -1.2889792680352745,
          0.3087510888991206,
          0.7360554150652998,
          -0.5165922648054353,
          1.3395981597477955,
          -0.5252602248023504,
          0.6099177946814479,
          -1.0996073656442549,
          2.8542098952108206,
          -0.8285294637490741,
          -0.11911381103015203,
          -1.2557955685428008,
          0.20494733090020398,
          1.447145307689846,
          -0.10189582644921229,
          -2.340645851858345,
          0.905048221674501,
          -3.2847949833595678,
          1.1954851366552612,
          -0.5849358200331003,
          0.30759900650876176,
          -1.4237600566252469,
          1.156013455755697,
          -1.4013371187352321,
          -1.1940724679311008,
          0.6717037121348988,
          0.29877179423852096,
          0.0735572848097489,
          -0.9995298211801902,
          -0.7382077941967837,
          -0.8081365209550897,
          0.2597666777870895,
          0.7055084707601808,
          -2.0317763614359197,
          1.0858361132082317,
          0.2245567699104668,
          0.19531027958986188,
          1.7143659929154766,
          -0.07210747828589123,
          0.6727003522455439,
          -0.10537352910610093,
          1.4134671690171892,
          0.6044508884083378,
          1.0463998481695964,
          0.04921068006225297,
          -0.5367797534585702,
          -0.4983033200797242,
          1.6722949355998922,
          0.5433310212695938,
          -0.31371004745330844,
          0.6080594834764896,
          0.05958357598335059,
          -0.9994953363575223,
          0.3057815249245013
         ],
         "yaxis": "y15"
        },
        {
         "histfunc": "count",
         "histnorm": "",
         "marker": {
          "color": "rgba(128, 0, 128, 1.0)",
          "line": {
           "color": "#4D5663",
           "width": 1.3
          }
         },
         "name": "D",
         "nbinsx": 10,
         "opacity": 0.8,
         "orientation": "v",
         "type": "histogram",
         "x": [
          -0.6489732176465235,
          -0.41469620685869946,
          -0.7371821797185605,
          -0.9768777099594689,
          -0.22711856500745847,
          2.54026166785655,
          0.15537859565815373,
          -0.9775530087225272,
          2.1618950609150063,
          -1.62519664198678,
          0.21236468315567575,
          1.3459918522282894,
          0.08370362006998518,
          0.7394987862241378,
          0.6539134662590035,
          -0.7086034819362234,
          1.6417074272652397,
          0.8369405076533828,
          -0.1704799982098994,
          -0.6549938398194295,
          -0.5483941513527122,
          -1.0447976323516879,
          -0.8018209373504784,
          0.9465864367131726,
          0.6825721074052299,
          0.7887445296778326,
          -0.07546641130273239,
          0.9536526696779729,
          0.4438010796827428,
          -2.2370489036955785,
          -0.6698273819555984,
          0.20635471129522778,
          2.6020926738257306,
          1.0709247935134785,
          0.32384649714279573,
          0.09885999146630725,
          -2.619846279753586,
          -0.46368625253882917,
          1.8712323092911936,
          0.05486969328773147,
          -1.1935146053370786,
          -0.16610251307721524,
          0.6384990529938278,
          1.4038901310185594,
          -0.27245345648714625,
          0.6216184998596498,
          -1.2889792680352745,
          0.3087510888991206,
          0.7360554150652998,
          -0.5165922648054353,
          1.3395981597477955,
          -0.5252602248023504,
          0.6099177946814479,
          -1.0996073656442549,
          2.8542098952108206,
          -0.8285294637490741,
          -0.11911381103015203,
          -1.2557955685428008,
          0.20494733090020398,
          1.447145307689846,
          -0.10189582644921229,
          -2.340645851858345,
          0.905048221674501,
          -3.2847949833595678,
          1.1954851366552612,
          -0.5849358200331003,
          0.30759900650876176,
          -1.4237600566252469,
          1.156013455755697,
          -1.4013371187352321,
          -1.1940724679311008,
          0.6717037121348988,
          0.29877179423852096,
          0.0735572848097489,
          -0.9995298211801902,
          -0.7382077941967837,
          -0.8081365209550897,
          0.2597666777870895,
          0.7055084707601808,
          -2.0317763614359197,
          1.0858361132082317,
          0.2245567699104668,
          0.19531027958986188,
          1.7143659929154766,
          -0.07210747828589123,
          0.6727003522455439,
          -0.10537352910610093,
          1.4134671690171892,
          0.6044508884083378,
          1.0463998481695964,
          0.04921068006225297,
          -0.5367797534585702,
          -0.4983033200797242,
          1.6722949355998922,
          0.5433310212695938,
          -0.31371004745330844,
          0.6080594834764896,
          0.05958357598335059,
          -0.9994953363575223,
          0.3057815249245013
         ],
         "xaxis": "x16",
         "yaxis": "y16"
        }
       ],
       "layout": {
        "bargap": 0.02,
        "legend": {
         "bgcolor": "#F5F6F9",
         "font": {
          "color": "#4D5663"
         }
        },
        "paper_bgcolor": "#F5F6F9",
        "plot_bgcolor": "#F5F6F9",
        "showlegend": false,
        "template": {
         "data": {
          "bar": [
           {
            "error_x": {
             "color": "#2a3f5f"
            },
            "error_y": {
             "color": "#2a3f5f"
            },
            "marker": {
             "line": {
              "color": "#E5ECF6",
              "width": 0.5
             }
            },
            "type": "bar"
           }
          ],
          "barpolar": [
           {
            "marker": {
             "line": {
              "color": "#E5ECF6",
              "width": 0.5
             }
            },
            "type": "barpolar"
           }
          ],
          "carpet": [
           {
            "aaxis": {
             "endlinecolor": "#2a3f5f",
             "gridcolor": "white",
             "linecolor": "white",
             "minorgridcolor": "white",
             "startlinecolor": "#2a3f5f"
            },
            "baxis": {
             "endlinecolor": "#2a3f5f",
             "gridcolor": "white",
             "linecolor": "white",
             "minorgridcolor": "white",
             "startlinecolor": "#2a3f5f"
            },
            "type": "carpet"
           }
          ],
          "choropleth": [
           {
            "colorbar": {
             "outlinewidth": 0,
             "ticks": ""
            },
            "type": "choropleth"
           }
          ],
          "contour": [
           {
            "colorbar": {
             "outlinewidth": 0,
             "ticks": ""
            },
            "colorscale": [
             [
              0,
              "#0d0887"
             ],
             [
              0.1111111111111111,
              "#46039f"
             ],
             [
              0.2222222222222222,
              "#7201a8"
             ],
             [
              0.3333333333333333,
              "#9c179e"
             ],
             [
              0.4444444444444444,
              "#bd3786"
             ],
             [
              0.5555555555555556,
              "#d8576b"
             ],
             [
              0.6666666666666666,
              "#ed7953"
             ],
             [
              0.7777777777777778,
              "#fb9f3a"
             ],
             [
              0.8888888888888888,
              "#fdca26"
             ],
             [
              1,
              "#f0f921"
             ]
            ],
            "type": "contour"
           }
          ],
          "contourcarpet": [
           {
            "colorbar": {
             "outlinewidth": 0,
             "ticks": ""
            },
            "type": "contourcarpet"
           }
          ],
          "heatmap": [
           {
            "colorbar": {
             "outlinewidth": 0,
             "ticks": ""
            },
            "colorscale": [
             [
              0,
              "#0d0887"
             ],
             [
              0.1111111111111111,
              "#46039f"
             ],
             [
              0.2222222222222222,
              "#7201a8"
             ],
             [
              0.3333333333333333,
              "#9c179e"
             ],
             [
              0.4444444444444444,
              "#bd3786"
             ],
             [
              0.5555555555555556,
              "#d8576b"
             ],
             [
              0.6666666666666666,
              "#ed7953"
             ],
             [
              0.7777777777777778,
              "#fb9f3a"
             ],
             [
              0.8888888888888888,
              "#fdca26"
             ],
             [
              1,
              "#f0f921"
             ]
            ],
            "type": "heatmap"
           }
          ],
          "heatmapgl": [
           {
            "colorbar": {
             "outlinewidth": 0,
             "ticks": ""
            },
            "colorscale": [
             [
              0,
              "#0d0887"
             ],
             [
              0.1111111111111111,
              "#46039f"
             ],
             [
              0.2222222222222222,
              "#7201a8"
             ],
             [
              0.3333333333333333,
              "#9c179e"
             ],
             [
              0.4444444444444444,
              "#bd3786"
             ],
             [
              0.5555555555555556,
              "#d8576b"
             ],
             [
              0.6666666666666666,
              "#ed7953"
             ],
             [
              0.7777777777777778,
              "#fb9f3a"
             ],
             [
              0.8888888888888888,
              "#fdca26"
             ],
             [
              1,
              "#f0f921"
             ]
            ],
            "type": "heatmapgl"
           }
          ],
          "histogram": [
           {
            "marker": {
             "colorbar": {
              "outlinewidth": 0,
              "ticks": ""
             }
            },
            "type": "histogram"
           }
          ],
          "histogram2d": [
           {
            "colorbar": {
             "outlinewidth": 0,
             "ticks": ""
            },
            "colorscale": [
             [
              0,
              "#0d0887"
             ],
             [
              0.1111111111111111,
              "#46039f"
             ],
             [
              0.2222222222222222,
              "#7201a8"
             ],
             [
              0.3333333333333333,
              "#9c179e"
             ],
             [
              0.4444444444444444,
              "#bd3786"
             ],
             [
              0.5555555555555556,
              "#d8576b"
             ],
             [
              0.6666666666666666,
              "#ed7953"
             ],
             [
              0.7777777777777778,
              "#fb9f3a"
             ],
             [
              0.8888888888888888,
              "#fdca26"
             ],
             [
              1,
              "#f0f921"
             ]
            ],
            "type": "histogram2d"
           }
          ],
          "histogram2dcontour": [
           {
            "colorbar": {
             "outlinewidth": 0,
             "ticks": ""
            },
            "colorscale": [
             [
              0,
              "#0d0887"
             ],
             [
              0.1111111111111111,
              "#46039f"
             ],
             [
              0.2222222222222222,
              "#7201a8"
             ],
             [
              0.3333333333333333,
              "#9c179e"
             ],
             [
              0.4444444444444444,
              "#bd3786"
             ],
             [
              0.5555555555555556,
              "#d8576b"
             ],
             [
              0.6666666666666666,
              "#ed7953"
             ],
             [
              0.7777777777777778,
              "#fb9f3a"
             ],
             [
              0.8888888888888888,
              "#fdca26"
             ],
             [
              1,
              "#f0f921"
             ]
            ],
            "type": "histogram2dcontour"
           }
          ],
          "mesh3d": [
           {
            "colorbar": {
             "outlinewidth": 0,
             "ticks": ""
            },
            "type": "mesh3d"
           }
          ],
          "parcoords": [
           {
            "line": {
             "colorbar": {
              "outlinewidth": 0,
              "ticks": ""
             }
            },
            "type": "parcoords"
           }
          ],
          "pie": [
           {
            "automargin": true,
            "type": "pie"
           }
          ],
          "scatter": [
           {
            "marker": {
             "colorbar": {
              "outlinewidth": 0,
              "ticks": ""
             }
            },
            "type": "scatter"
           }
          ],
          "scatter3d": [
           {
            "line": {
             "colorbar": {
              "outlinewidth": 0,
              "ticks": ""
             }
            },
            "marker": {
             "colorbar": {
              "outlinewidth": 0,
              "ticks": ""
             }
            },
            "type": "scatter3d"
           }
          ],
          "scattercarpet": [
           {
            "marker": {
             "colorbar": {
              "outlinewidth": 0,
              "ticks": ""
             }
            },
            "type": "scattercarpet"
           }
          ],
          "scattergeo": [
           {
            "marker": {
             "colorbar": {
              "outlinewidth": 0,
              "ticks": ""
             }
            },
            "type": "scattergeo"
           }
          ],
          "scattergl": [
           {
            "marker": {
             "colorbar": {
              "outlinewidth": 0,
              "ticks": ""
             }
            },
            "type": "scattergl"
           }
          ],
          "scattermapbox": [
           {
            "marker": {
             "colorbar": {
              "outlinewidth": 0,
              "ticks": ""
             }
            },
            "type": "scattermapbox"
           }
          ],
          "scatterpolar": [
           {
            "marker": {
             "colorbar": {
              "outlinewidth": 0,
              "ticks": ""
             }
            },
            "type": "scatterpolar"
           }
          ],
          "scatterpolargl": [
           {
            "marker": {
             "colorbar": {
              "outlinewidth": 0,
              "ticks": ""
             }
            },
            "type": "scatterpolargl"
           }
          ],
          "scatterternary": [
           {
            "marker": {
             "colorbar": {
              "outlinewidth": 0,
              "ticks": ""
             }
            },
            "type": "scatterternary"
           }
          ],
          "surface": [
           {
            "colorbar": {
             "outlinewidth": 0,
             "ticks": ""
            },
            "colorscale": [
             [
              0,
              "#0d0887"
             ],
             [
              0.1111111111111111,
              "#46039f"
             ],
             [
              0.2222222222222222,
              "#7201a8"
             ],
             [
              0.3333333333333333,
              "#9c179e"
             ],
             [
              0.4444444444444444,
              "#bd3786"
             ],
             [
              0.5555555555555556,
              "#d8576b"
             ],
             [
              0.6666666666666666,
              "#ed7953"
             ],
             [
              0.7777777777777778,
              "#fb9f3a"
             ],
             [
              0.8888888888888888,
              "#fdca26"
             ],
             [
              1,
              "#f0f921"
             ]
            ],
            "type": "surface"
           }
          ],
          "table": [
           {
            "cells": {
             "fill": {
              "color": "#EBF0F8"
             },
             "line": {
              "color": "white"
             }
            },
            "header": {
             "fill": {
              "color": "#C8D4E3"
             },
             "line": {
              "color": "white"
             }
            },
            "type": "table"
           }
          ]
         },
         "layout": {
          "annotationdefaults": {
           "arrowcolor": "#2a3f5f",
           "arrowhead": 0,
           "arrowwidth": 1
          },
          "coloraxis": {
           "colorbar": {
            "outlinewidth": 0,
            "ticks": ""
           }
          },
          "colorscale": {
           "diverging": [
            [
             0,
             "#8e0152"
            ],
            [
             0.1,
             "#c51b7d"
            ],
            [
             0.2,
             "#de77ae"
            ],
            [
             0.3,
             "#f1b6da"
            ],
            [
             0.4,
             "#fde0ef"
            ],
            [
             0.5,
             "#f7f7f7"
            ],
            [
             0.6,
             "#e6f5d0"
            ],
            [
             0.7,
             "#b8e186"
            ],
            [
             0.8,
             "#7fbc41"
            ],
            [
             0.9,
             "#4d9221"
            ],
            [
             1,
             "#276419"
            ]
           ],
           "sequential": [
            [
             0,
             "#0d0887"
            ],
            [
             0.1111111111111111,
             "#46039f"
            ],
            [
             0.2222222222222222,
             "#7201a8"
            ],
            [
             0.3333333333333333,
             "#9c179e"
            ],
            [
             0.4444444444444444,
             "#bd3786"
            ],
            [
             0.5555555555555556,
             "#d8576b"
            ],
            [
             0.6666666666666666,
             "#ed7953"
            ],
            [
             0.7777777777777778,
             "#fb9f3a"
            ],
            [
             0.8888888888888888,
             "#fdca26"
            ],
            [
             1,
             "#f0f921"
            ]
           ],
           "sequentialminus": [
            [
             0,
             "#0d0887"
            ],
            [
             0.1111111111111111,
             "#46039f"
            ],
            [
             0.2222222222222222,
             "#7201a8"
            ],
            [
             0.3333333333333333,
             "#9c179e"
            ],
            [
             0.4444444444444444,
             "#bd3786"
            ],
            [
             0.5555555555555556,
             "#d8576b"
            ],
            [
             0.6666666666666666,
             "#ed7953"
            ],
            [
             0.7777777777777778,
             "#fb9f3a"
            ],
            [
             0.8888888888888888,
             "#fdca26"
            ],
            [
             1,
             "#f0f921"
            ]
           ]
          },
          "colorway": [
           "#636efa",
           "#EF553B",
           "#00cc96",
           "#ab63fa",
           "#FFA15A",
           "#19d3f3",
           "#FF6692",
           "#B6E880",
           "#FF97FF",
           "#FECB52"
          ],
          "font": {
           "color": "#2a3f5f"
          },
          "geo": {
           "bgcolor": "white",
           "lakecolor": "white",
           "landcolor": "#E5ECF6",
           "showlakes": true,
           "showland": true,
           "subunitcolor": "white"
          },
          "hoverlabel": {
           "align": "left"
          },
          "hovermode": "closest",
          "mapbox": {
           "style": "light"
          },
          "paper_bgcolor": "white",
          "plot_bgcolor": "#E5ECF6",
          "polar": {
           "angularaxis": {
            "gridcolor": "white",
            "linecolor": "white",
            "ticks": ""
           },
           "bgcolor": "#E5ECF6",
           "radialaxis": {
            "gridcolor": "white",
            "linecolor": "white",
            "ticks": ""
           }
          },
          "scene": {
           "xaxis": {
            "backgroundcolor": "#E5ECF6",
            "gridcolor": "white",
            "gridwidth": 2,
            "linecolor": "white",
            "showbackground": true,
            "ticks": "",
            "zerolinecolor": "white"
           },
           "yaxis": {
            "backgroundcolor": "#E5ECF6",
            "gridcolor": "white",
            "gridwidth": 2,
            "linecolor": "white",
            "showbackground": true,
            "ticks": "",
            "zerolinecolor": "white"
           },
           "zaxis": {
            "backgroundcolor": "#E5ECF6",
            "gridcolor": "white",
            "gridwidth": 2,
            "linecolor": "white",
            "showbackground": true,
            "ticks": "",
            "zerolinecolor": "white"
           }
          },
          "shapedefaults": {
           "line": {
            "color": "#2a3f5f"
           }
          },
          "ternary": {
           "aaxis": {
            "gridcolor": "white",
            "linecolor": "white",
            "ticks": ""
           },
           "baxis": {
            "gridcolor": "white",
            "linecolor": "white",
            "ticks": ""
           },
           "bgcolor": "#E5ECF6",
           "caxis": {
            "gridcolor": "white",
            "linecolor": "white",
            "ticks": ""
           }
          },
          "title": {
           "x": 0.05
          },
          "xaxis": {
           "automargin": true,
           "gridcolor": "white",
           "linecolor": "white",
           "ticks": "",
           "title": {
            "standoff": 15
           },
           "zerolinecolor": "white",
           "zerolinewidth": 2
          },
          "yaxis": {
           "automargin": true,
           "gridcolor": "white",
           "linecolor": "white",
           "ticks": "",
           "title": {
            "standoff": 15
           },
           "zerolinecolor": "white",
           "zerolinewidth": 2
          }
         }
        },
        "title": {
         "font": {
          "color": "#4D5663"
         }
        },
        "xaxis": {
         "anchor": "y",
         "domain": [
          0,
          0.2125
         ],
         "gridcolor": "#E1E5ED",
         "showgrid": false,
         "tickfont": {
          "color": "#4D5663"
         },
         "title": {
          "font": {
           "color": "#4D5663"
          },
          "text": ""
         },
         "zerolinecolor": "#E1E5ED"
        },
        "xaxis10": {
         "anchor": "y10",
         "domain": [
          0.2625,
          0.475
         ],
         "gridcolor": "#E1E5ED",
         "showgrid": false,
         "tickfont": {
          "color": "#4D5663"
         },
         "title": {
          "font": {
           "color": "#4D5663"
          },
          "text": ""
         },
         "zerolinecolor": "#E1E5ED"
        },
        "xaxis11": {
         "anchor": "y11",
         "domain": [
          0.525,
          0.7375
         ],
         "gridcolor": "#E1E5ED",
         "showgrid": false,
         "tickfont": {
          "color": "#4D5663"
         },
         "title": {
          "font": {
           "color": "#4D5663"
          },
          "text": ""
         },
         "zerolinecolor": "#E1E5ED"
        },
        "xaxis12": {
         "anchor": "y12",
         "domain": [
          0.7875,
          1
         ],
         "gridcolor": "#E1E5ED",
         "showgrid": false,
         "tickfont": {
          "color": "#4D5663"
         },
         "title": {
          "font": {
           "color": "#4D5663"
          },
          "text": ""
         },
         "zerolinecolor": "#E1E5ED"
        },
        "xaxis13": {
         "anchor": "y13",
         "domain": [
          0,
          0.2125
         ],
         "gridcolor": "#E1E5ED",
         "showgrid": false,
         "tickfont": {
          "color": "#4D5663"
         },
         "title": {
          "font": {
           "color": "#4D5663"
          },
          "text": ""
         },
         "zerolinecolor": "#E1E5ED"
        },
        "xaxis14": {
         "anchor": "y14",
         "domain": [
          0.2625,
          0.475
         ],
         "gridcolor": "#E1E5ED",
         "showgrid": false,
         "tickfont": {
          "color": "#4D5663"
         },
         "title": {
          "font": {
           "color": "#4D5663"
          },
          "text": ""
         },
         "zerolinecolor": "#E1E5ED"
        },
        "xaxis15": {
         "anchor": "y15",
         "domain": [
          0.525,
          0.7375
         ],
         "gridcolor": "#E1E5ED",
         "showgrid": false,
         "tickfont": {
          "color": "#4D5663"
         },
         "title": {
          "font": {
           "color": "#4D5663"
          },
          "text": ""
         },
         "zerolinecolor": "#E1E5ED"
        },
        "xaxis16": {
         "anchor": "y16",
         "domain": [
          0.7875,
          1
         ],
         "gridcolor": "#E1E5ED",
         "showgrid": false,
         "tickfont": {
          "color": "#4D5663"
         },
         "title": {
          "font": {
           "color": "#4D5663"
          },
          "text": ""
         },
         "zerolinecolor": "#E1E5ED"
        },
        "xaxis2": {
         "anchor": "y2",
         "domain": [
          0.2625,
          0.475
         ],
         "gridcolor": "#E1E5ED",
         "showgrid": false,
         "tickfont": {
          "color": "#4D5663"
         },
         "title": {
          "font": {
           "color": "#4D5663"
          },
          "text": ""
         },
         "zerolinecolor": "#E1E5ED"
        },
        "xaxis3": {
         "anchor": "y3",
         "domain": [
          0.525,
          0.7375
         ],
         "gridcolor": "#E1E5ED",
         "showgrid": false,
         "tickfont": {
          "color": "#4D5663"
         },
         "title": {
          "font": {
           "color": "#4D5663"
          },
          "text": ""
         },
         "zerolinecolor": "#E1E5ED"
        },
        "xaxis4": {
         "anchor": "y4",
         "domain": [
          0.7875,
          1
         ],
         "gridcolor": "#E1E5ED",
         "showgrid": false,
         "tickfont": {
          "color": "#4D5663"
         },
         "title": {
          "font": {
           "color": "#4D5663"
          },
          "text": ""
         },
         "zerolinecolor": "#E1E5ED"
        },
        "xaxis5": {
         "anchor": "y5",
         "domain": [
          0,
          0.2125
         ],
         "gridcolor": "#E1E5ED",
         "showgrid": false,
         "tickfont": {
          "color": "#4D5663"
         },
         "title": {
          "font": {
           "color": "#4D5663"
          },
          "text": ""
         },
         "zerolinecolor": "#E1E5ED"
        },
        "xaxis6": {
         "anchor": "y6",
         "domain": [
          0.2625,
          0.475
         ],
         "gridcolor": "#E1E5ED",
         "showgrid": false,
         "tickfont": {
          "color": "#4D5663"
         },
         "title": {
          "font": {
           "color": "#4D5663"
          },
          "text": ""
         },
         "zerolinecolor": "#E1E5ED"
        },
        "xaxis7": {
         "anchor": "y7",
         "domain": [
          0.525,
          0.7375
         ],
         "gridcolor": "#E1E5ED",
         "showgrid": false,
         "tickfont": {
          "color": "#4D5663"
         },
         "title": {
          "font": {
           "color": "#4D5663"
          },
          "text": ""
         },
         "zerolinecolor": "#E1E5ED"
        },
        "xaxis8": {
         "anchor": "y8",
         "domain": [
          0.7875,
          1
         ],
         "gridcolor": "#E1E5ED",
         "showgrid": false,
         "tickfont": {
          "color": "#4D5663"
         },
         "title": {
          "font": {
           "color": "#4D5663"
          },
          "text": ""
         },
         "zerolinecolor": "#E1E5ED"
        },
        "xaxis9": {
         "anchor": "y9",
         "domain": [
          0,
          0.2125
         ],
         "gridcolor": "#E1E5ED",
         "showgrid": false,
         "tickfont": {
          "color": "#4D5663"
         },
         "title": {
          "font": {
           "color": "#4D5663"
          },
          "text": ""
         },
         "zerolinecolor": "#E1E5ED"
        },
        "yaxis": {
         "anchor": "x",
         "domain": [
          0.8025,
          1
         ],
         "gridcolor": "#E1E5ED",
         "showgrid": false,
         "tickfont": {
          "color": "#4D5663"
         },
         "title": {
          "font": {
           "color": "#4D5663"
          },
          "text": ""
         },
         "zerolinecolor": "#E1E5ED"
        },
        "yaxis10": {
         "anchor": "x10",
         "domain": [
          0.2675,
          0.465
         ],
         "gridcolor": "#E1E5ED",
         "showgrid": false,
         "tickfont": {
          "color": "#4D5663"
         },
         "title": {
          "font": {
           "color": "#4D5663"
          },
          "text": ""
         },
         "zerolinecolor": "#E1E5ED"
        },
        "yaxis11": {
         "anchor": "x11",
         "domain": [
          0.2675,
          0.465
         ],
         "gridcolor": "#E1E5ED",
         "showgrid": false,
         "tickfont": {
          "color": "#4D5663"
         },
         "title": {
          "font": {
           "color": "#4D5663"
          },
          "text": ""
         },
         "zerolinecolor": "#E1E5ED"
        },
        "yaxis12": {
         "anchor": "x12",
         "domain": [
          0.2675,
          0.465
         ],
         "gridcolor": "#E1E5ED",
         "showgrid": false,
         "tickfont": {
          "color": "#4D5663"
         },
         "title": {
          "font": {
           "color": "#4D5663"
          },
          "text": ""
         },
         "zerolinecolor": "#E1E5ED"
        },
        "yaxis13": {
         "anchor": "x13",
         "domain": [
          0,
          0.1975
         ],
         "gridcolor": "#E1E5ED",
         "showgrid": false,
         "tickfont": {
          "color": "#4D5663"
         },
         "title": {
          "font": {
           "color": "#4D5663"
          },
          "text": ""
         },
         "zerolinecolor": "#E1E5ED"
        },
        "yaxis14": {
         "anchor": "x14",
         "domain": [
          0,
          0.1975
         ],
         "gridcolor": "#E1E5ED",
         "showgrid": false,
         "tickfont": {
          "color": "#4D5663"
         },
         "title": {
          "font": {
           "color": "#4D5663"
          },
          "text": ""
         },
         "zerolinecolor": "#E1E5ED"
        },
        "yaxis15": {
         "anchor": "x15",
         "domain": [
          0,
          0.1975
         ],
         "gridcolor": "#E1E5ED",
         "showgrid": false,
         "tickfont": {
          "color": "#4D5663"
         },
         "title": {
          "font": {
           "color": "#4D5663"
          },
          "text": ""
         },
         "zerolinecolor": "#E1E5ED"
        },
        "yaxis16": {
         "anchor": "x16",
         "domain": [
          0,
          0.1975
         ],
         "gridcolor": "#E1E5ED",
         "showgrid": false,
         "tickfont": {
          "color": "#4D5663"
         },
         "title": {
          "font": {
           "color": "#4D5663"
          },
          "text": ""
         },
         "zerolinecolor": "#E1E5ED"
        },
        "yaxis2": {
         "anchor": "x2",
         "domain": [
          0.8025,
          1
         ],
         "gridcolor": "#E1E5ED",
         "showgrid": false,
         "tickfont": {
          "color": "#4D5663"
         },
         "title": {
          "font": {
           "color": "#4D5663"
          },
          "text": ""
         },
         "zerolinecolor": "#E1E5ED"
        },
        "yaxis3": {
         "anchor": "x3",
         "domain": [
          0.8025,
          1
         ],
         "gridcolor": "#E1E5ED",
         "showgrid": false,
         "tickfont": {
          "color": "#4D5663"
         },
         "title": {
          "font": {
           "color": "#4D5663"
          },
          "text": ""
         },
         "zerolinecolor": "#E1E5ED"
        },
        "yaxis4": {
         "anchor": "x4",
         "domain": [
          0.8025,
          1
         ],
         "gridcolor": "#E1E5ED",
         "showgrid": false,
         "tickfont": {
          "color": "#4D5663"
         },
         "title": {
          "font": {
           "color": "#4D5663"
          },
          "text": ""
         },
         "zerolinecolor": "#E1E5ED"
        },
        "yaxis5": {
         "anchor": "x5",
         "domain": [
          0.535,
          0.7325
         ],
         "gridcolor": "#E1E5ED",
         "showgrid": false,
         "tickfont": {
          "color": "#4D5663"
         },
         "title": {
          "font": {
           "color": "#4D5663"
          },
          "text": ""
         },
         "zerolinecolor": "#E1E5ED"
        },
        "yaxis6": {
         "anchor": "x6",
         "domain": [
          0.535,
          0.7325
         ],
         "gridcolor": "#E1E5ED",
         "showgrid": false,
         "tickfont": {
          "color": "#4D5663"
         },
         "title": {
          "font": {
           "color": "#4D5663"
          },
          "text": ""
         },
         "zerolinecolor": "#E1E5ED"
        },
        "yaxis7": {
         "anchor": "x7",
         "domain": [
          0.535,
          0.7325
         ],
         "gridcolor": "#E1E5ED",
         "showgrid": false,
         "tickfont": {
          "color": "#4D5663"
         },
         "title": {
          "font": {
           "color": "#4D5663"
          },
          "text": ""
         },
         "zerolinecolor": "#E1E5ED"
        },
        "yaxis8": {
         "anchor": "x8",
         "domain": [
          0.535,
          0.7325
         ],
         "gridcolor": "#E1E5ED",
         "showgrid": false,
         "tickfont": {
          "color": "#4D5663"
         },
         "title": {
          "font": {
           "color": "#4D5663"
          },
          "text": ""
         },
         "zerolinecolor": "#E1E5ED"
        },
        "yaxis9": {
         "anchor": "x9",
         "domain": [
          0.2675,
          0.465
         ],
         "gridcolor": "#E1E5ED",
         "showgrid": false,
         "tickfont": {
          "color": "#4D5663"
         },
         "title": {
          "font": {
           "color": "#4D5663"
          },
          "text": ""
         },
         "zerolinecolor": "#E1E5ED"
        }
       }
      },
      "text/html": "<div>                            <div id=\"6d2288ff-517b-4653-aec9-05275264a79e\" class=\"plotly-graph-div\" style=\"height:525px; width:100%;\"></div>            <script type=\"text/javascript\">                require([\"plotly\"], function(Plotly) {                    window.PLOTLYENV=window.PLOTLYENV || {};\n                    window.PLOTLYENV.BASE_URL='https://plot.ly';                                    if (document.getElementById(\"6d2288ff-517b-4653-aec9-05275264a79e\")) {                    Plotly.newPlot(                        \"6d2288ff-517b-4653-aec9-05275264a79e\",                        [{\"histfunc\": \"count\", \"histnorm\": \"\", \"marker\": {\"color\": \"rgba(255, 153, 51, 1.0)\", \"line\": {\"color\": \"#4D5663\", \"width\": 1.3}}, \"name\": \"A\", \"nbinsx\": 10, \"opacity\": 0.8, \"orientation\": \"v\", \"type\": \"histogram\", \"x\": [-3.1903388189260506, 0.23396036411163004, 1.1589655786036386, -0.48300006152562525, -1.5103337587243804, -0.5044248859027471, 1.182281645215199, 0.42006775240638894, -0.8810298974091847, 0.5039382873693414, -0.731266004129346, 0.0638361921822204, -1.0652754263641049, -0.9041076466885405, -0.9048795324169541, -0.7972587761240022, -0.3675670471291356, 0.28082146701438343, -0.08633039339250868, 0.040217153150704704, -0.6690624158655928, 1.2627520886852726, 0.8930334427555254, -0.5720828983632429, -0.10829789239054843, 0.40614750365984825, -1.103865178801149, -0.8121010383177608, 0.10072184675344648, -0.5769169489648015, -1.064607754248978, 0.2803088090050602, 0.27784983531770807, -0.41074940453263725, 0.5858394974501357, -1.1873780187790168, -1.3497579113052596, 1.255295743570665, -0.6927268600950082, -0.36127203424382964, -0.34463610823926666, -1.2009964413381025, 1.3923569898979733, 0.7787889527113488, 1.8663933162193367, -0.7896518608815303, 0.8604392983684553, 0.5735613938299836, -1.2802106717549009, 0.44164511860901834, -1.1744289444226033, -6.0149059195747345e-06, -0.6467481917357054, 1.2327214192099953, -0.28623017443738186, -1.7412710235687312, -0.9758958392945769, 1.600310178717572, -0.6658748622479977, 0.36105544712213045, 1.2539490446516994, 1.0583809422068344, -0.597617455493197, -0.45722923476382665, -1.2684784915115794, -0.9644190323469388, -0.8772580574236023, 0.085838476310741, 0.48674958148652886, 0.9676561629391955, -2.13767913287318, -2.955837736363831, -1.7764340900302908, 1.272615789302066, -0.37425080144249273, 1.026973987239565, 2.100477946764772, -0.9807225547579596, -0.7533250886156038, -0.03650463249437804, 0.3529513644456242, -1.3607833800573281, -1.7417396477441502, -1.2994294895974514, 0.32077583616185623, -0.4244455156618559, 0.8905320772769698, -1.3186547947430771, 0.12166001368478756, -1.2191124444406027, 0.24654677954656246, -0.2623982371892286, 0.2624213780227509, 0.09375602776369371, -0.8396352448027719, -0.5553431002419489, -0.06731001731720351, -0.49821737363514945, 2.474916165429662, -1.6424571327832522], \"xaxis\": \"x\", \"yaxis\": \"y\"}, {\"line\": {\"color\": \"rgba(128, 128, 128, 1.0)\", \"dash\": \"solid\", \"shape\": \"linear\", \"width\": 1.3}, \"marker\": {\"size\": 2, \"symbol\": \"circle\"}, \"mode\": \"markers\", \"name\": \"A\", \"text\": \"\", \"type\": \"scatter\", \"x\": [-0.3643496606765255, 0.026742083793018775, 0.3584549394564874, -0.15087399036258875, 0.7692264311391451, -0.9607394936456178, 1.099364393084451, 2.0413594007607077, -0.9589429120315346, -1.0151262656536937, -2.7705342521888636, 0.04519916765724038, -1.0324039775286689, 0.21166535206455778, 0.9519171224472974, -0.8073326446901398, -0.11985422234986415, -0.1234321641152109, 0.9187427563080505, -1.5763765046502152, 0.48951503176455424, -0.278969609256558, -0.3648383818684051, -0.007140551384771878, 0.824952324575092, 1.012484922632672, 0.5845377044183931, -1.2711783578576223, -0.36902106237264026, 0.012682393985313328, 0.3374744579584474, 1.0374153302021154, 0.8674581281533991, 0.49520661962696927, -0.2181122070140142, -0.4198441589123327, -0.22085215002039907, -0.14099689419147918, -0.9772412761380672, -0.9091883734093862, -1.5686850852517986, 0.12633424708785124, 0.4249983112725074, -0.15071571160517683, -0.8190528021055005, -0.5843142509340462, 1.009127911825222, -0.2532746339494671, 0.8382486387582775, 0.2987780822239634, -0.42940441705743443, 0.12942894672747557, -0.3784668801032414, -0.36623302074540903, 1.9636781681839237, -0.694293703929343, 0.18243687176223544, 0.44970065303344275, -0.5585085694844554, 0.5781469849286903, -1.478679342255676, -2.2017812855469296, -0.22766449165792724, -0.9850956709230758, 0.06535721379319329, 1.6247637881367891, 0.9388172664094236, 0.5604816763327075, 0.2297458405763916, 0.5705488391936526, -0.5429901589467797, -1.4375484759630257, 1.149625790934575, -1.8706089909902677, 0.6574935076546705, 0.3922469509849665, -0.3283399439671376, -0.7082986794613881, -1.3012155638305742, -0.47344112138941563, 0.025524978856013302, -0.6078471413136215, 0.6221060033789865, -0.8425812105486945, -1.9731018326838081, -2.085182182082291, 0.7211728722787665, 1.5764475887837608, 0.17856892843054062, 0.09394500672765961, -0.838783815812583, -2.0640038711962796, 0.07541148221711562, 0.011988483697282544, 1.156875251344672, -0.32642331073805275, -1.0002773938460705, -0.409558017985458, -1.6432367398217418, -1.458768728092791], \"xaxis\": \"x2\", \"y\": [-3.1903388189260506, 0.23396036411163004, 1.1589655786036386, -0.48300006152562525, -1.5103337587243804, -0.5044248859027471, 1.182281645215199, 0.42006775240638894, -0.8810298974091847, 0.5039382873693414, -0.731266004129346, 0.0638361921822204, -1.0652754263641049, -0.9041076466885405, -0.9048795324169541, -0.7972587761240022, -0.3675670471291356, 0.28082146701438343, -0.08633039339250868, 0.040217153150704704, -0.6690624158655928, 1.2627520886852726, 0.8930334427555254, -0.5720828983632429, -0.10829789239054843, 0.40614750365984825, -1.103865178801149, -0.8121010383177608, 0.10072184675344648, -0.5769169489648015, -1.064607754248978, 0.2803088090050602, 0.27784983531770807, -0.41074940453263725, 0.5858394974501357, -1.1873780187790168, -1.3497579113052596, 1.255295743570665, -0.6927268600950082, -0.36127203424382964, -0.34463610823926666, -1.2009964413381025, 1.3923569898979733, 0.7787889527113488, 1.8663933162193367, -0.7896518608815303, 0.8604392983684553, 0.5735613938299836, -1.2802106717549009, 0.44164511860901834, -1.1744289444226033, -6.0149059195747345e-06, -0.6467481917357054, 1.2327214192099953, -0.28623017443738186, -1.7412710235687312, -0.9758958392945769, 1.600310178717572, -0.6658748622479977, 0.36105544712213045, 1.2539490446516994, 1.0583809422068344, -0.597617455493197, -0.45722923476382665, -1.2684784915115794, -0.9644190323469388, -0.8772580574236023, 0.085838476310741, 0.48674958148652886, 0.9676561629391955, -2.13767913287318, -2.955837736363831, -1.7764340900302908, 1.272615789302066, -0.37425080144249273, 1.026973987239565, 2.100477946764772, -0.9807225547579596, -0.7533250886156038, -0.03650463249437804, 0.3529513644456242, -1.3607833800573281, -1.7417396477441502, -1.2994294895974514, 0.32077583616185623, -0.4244455156618559, 0.8905320772769698, -1.3186547947430771, 0.12166001368478756, -1.2191124444406027, 0.24654677954656246, -0.2623982371892286, 0.2624213780227509, 0.09375602776369371, -0.8396352448027719, -0.5553431002419489, -0.06731001731720351, -0.49821737363514945, 2.474916165429662, -1.6424571327832522], \"yaxis\": \"y2\"}, {\"line\": {\"color\": \"rgba(128, 128, 128, 1.0)\", \"dash\": \"solid\", \"shape\": \"linear\", \"width\": 1.3}, \"marker\": {\"size\": 2, \"symbol\": \"circle\"}, \"mode\": \"markers\", \"name\": \"A\", \"text\": \"\", \"type\": \"scatter\", \"x\": [-1.1186463499542998, 1.2677912975381758, 0.36076316284766746, -0.594562609277583, -0.4685633922208175, -0.7414270275053735, -1.2620028022058527, -0.2633575322313773, -0.13705740516672574, -0.6779505642675806, -0.2026716055278497, 1.6258578058108586, 0.24708350229743825, 0.6924231043760657, -1.5136756150318582, 0.18387379001212456, -1.0758932407544046, -1.1277833413495375, -0.09007994172368866, 1.7438241639662895, 0.17877381008658313, 0.21997679671829612, 0.43375237351717855, -0.57839905502642, 0.34209577444414135, -0.26366532914873114, 1.0700940451035175, -0.9512143375191747, -0.6850989671874386, 0.21183117412430214, -0.4104742967296816, -1.0890895555885556, 0.36987011373475775, -1.0232701308222056, 0.044981104707034446, -0.0824754843912133, 2.092860328910299, 2.8344786758836196, 0.260552308604172, -0.2458360898438423, -1.2257665509409992, -1.1316510511315512, 0.32548178557719026, 0.6763374540496877, 0.6183684289996768, 0.22458715291167278, -0.10773707471439793, 0.14631716285290056, -0.25856157950527603, 0.3949298005054963, 0.014701924255192494, 0.04254310141261005, -0.3038555542985175, 1.3746376476163982, -1.0525689185942786, 1.8677556254708725, -0.9544443715719576, 0.6250657420707972, -0.6597264515616512, 1.2000128640230874, -1.921474505487477, 0.10359809264203092, 0.14030400767650186, -0.24415105688321234, 0.09908985392907203, 0.11762629422038864, -0.40161956844729146, -0.32560451956022274, -0.2742954646454567, 0.7033588244428957, 1.044708085637379, 1.3432802304882736, -0.48809055516302796, -0.40759577124501833, -0.23367711063773317, 1.0357161154696715, -2.035454205328424, -0.3275881726844608, -0.5365535854449085, 0.5715003149914503, 0.7005392956847408, -0.6098133766978422, 0.13932592576040911, -0.7696519088160988, -0.756068093698991, -2.6222547596454278, -0.47657293861878464, 1.1639948628729075, -1.4642275879391387, -0.38596602153173, -0.5421683648952816, 0.10309907483896115, 0.2639944083236471, 0.09410435510004495, -0.6567099939622915, -0.2203570095662532, -1.881779224440967, 0.41613232309439224, 0.7655415853330867, -1.4245542342590862], \"xaxis\": \"x3\", \"y\": [-3.1903388189260506, 0.23396036411163004, 1.1589655786036386, -0.48300006152562525, -1.5103337587243804, -0.5044248859027471, 1.182281645215199, 0.42006775240638894, -0.8810298974091847, 0.5039382873693414, -0.731266004129346, 0.0638361921822204, -1.0652754263641049, -0.9041076466885405, -0.9048795324169541, -0.7972587761240022, -0.3675670471291356, 0.28082146701438343, -0.08633039339250868, 0.040217153150704704, -0.6690624158655928, 1.2627520886852726, 0.8930334427555254, -0.5720828983632429, -0.10829789239054843, 0.40614750365984825, -1.103865178801149, -0.8121010383177608, 0.10072184675344648, -0.5769169489648015, -1.064607754248978, 0.2803088090050602, 0.27784983531770807, -0.41074940453263725, 0.5858394974501357, -1.1873780187790168, -1.3497579113052596, 1.255295743570665, -0.6927268600950082, -0.36127203424382964, -0.34463610823926666, -1.2009964413381025, 1.3923569898979733, 0.7787889527113488, 1.8663933162193367, -0.7896518608815303, 0.8604392983684553, 0.5735613938299836, -1.2802106717549009, 0.44164511860901834, -1.1744289444226033, -6.0149059195747345e-06, -0.6467481917357054, 1.2327214192099953, -0.28623017443738186, -1.7412710235687312, -0.9758958392945769, 1.600310178717572, -0.6658748622479977, 0.36105544712213045, 1.2539490446516994, 1.0583809422068344, -0.597617455493197, -0.45722923476382665, -1.2684784915115794, -0.9644190323469388, -0.8772580574236023, 0.085838476310741, 0.48674958148652886, 0.9676561629391955, -2.13767913287318, -2.955837736363831, -1.7764340900302908, 1.272615789302066, -0.37425080144249273, 1.026973987239565, 2.100477946764772, -0.9807225547579596, -0.7533250886156038, -0.03650463249437804, 0.3529513644456242, -1.3607833800573281, -1.7417396477441502, -1.2994294895974514, 0.32077583616185623, -0.4244455156618559, 0.8905320772769698, -1.3186547947430771, 0.12166001368478756, -1.2191124444406027, 0.24654677954656246, -0.2623982371892286, 0.2624213780227509, 0.09375602776369371, -0.8396352448027719, -0.5553431002419489, -0.06731001731720351, -0.49821737363514945, 2.474916165429662, -1.6424571327832522], \"yaxis\": \"y3\"}, {\"line\": {\"color\": \"rgba(128, 128, 128, 1.0)\", \"dash\": \"solid\", \"shape\": \"linear\", \"width\": 1.3}, \"marker\": {\"size\": 2, \"symbol\": \"circle\"}, \"mode\": \"markers\", \"name\": \"A\", \"text\": \"\", \"type\": \"scatter\", \"x\": [-0.6489732176465235, -0.41469620685869946, -0.7371821797185605, -0.9768777099594689, -0.22711856500745847, 2.54026166785655, 0.15537859565815373, -0.9775530087225272, 2.1618950609150063, -1.62519664198678, 0.21236468315567575, 1.3459918522282894, 0.08370362006998518, 0.7394987862241378, 0.6539134662590035, -0.7086034819362234, 1.6417074272652397, 0.8369405076533828, -0.1704799982098994, -0.6549938398194295, -0.5483941513527122, -1.0447976323516879, -0.8018209373504784, 0.9465864367131726, 0.6825721074052299, 0.7887445296778326, -0.07546641130273239, 0.9536526696779729, 0.4438010796827428, -2.2370489036955785, -0.6698273819555984, 0.20635471129522778, 2.6020926738257306, 1.0709247935134785, 0.32384649714279573, 0.09885999146630725, -2.619846279753586, -0.46368625253882917, 1.8712323092911936, 0.05486969328773147, -1.1935146053370786, -0.16610251307721524, 0.6384990529938278, 1.4038901310185594, -0.27245345648714625, 0.6216184998596498, -1.2889792680352745, 0.3087510888991206, 0.7360554150652998, -0.5165922648054353, 1.3395981597477955, -0.5252602248023504, 0.6099177946814479, -1.0996073656442549, 2.8542098952108206, -0.8285294637490741, -0.11911381103015203, -1.2557955685428008, 0.20494733090020398, 1.447145307689846, -0.10189582644921229, -2.340645851858345, 0.905048221674501, -3.2847949833595678, 1.1954851366552612, -0.5849358200331003, 0.30759900650876176, -1.4237600566252469, 1.156013455755697, -1.4013371187352321, -1.1940724679311008, 0.6717037121348988, 0.29877179423852096, 0.0735572848097489, -0.9995298211801902, -0.7382077941967837, -0.8081365209550897, 0.2597666777870895, 0.7055084707601808, -2.0317763614359197, 1.0858361132082317, 0.2245567699104668, 0.19531027958986188, 1.7143659929154766, -0.07210747828589123, 0.6727003522455439, -0.10537352910610093, 1.4134671690171892, 0.6044508884083378, 1.0463998481695964, 0.04921068006225297, -0.5367797534585702, -0.4983033200797242, 1.6722949355998922, 0.5433310212695938, -0.31371004745330844, 0.6080594834764896, 0.05958357598335059, -0.9994953363575223, 0.3057815249245013], \"xaxis\": \"x4\", \"y\": [-3.1903388189260506, 0.23396036411163004, 1.1589655786036386, -0.48300006152562525, -1.5103337587243804, -0.5044248859027471, 1.182281645215199, 0.42006775240638894, -0.8810298974091847, 0.5039382873693414, -0.731266004129346, 0.0638361921822204, -1.0652754263641049, -0.9041076466885405, -0.9048795324169541, -0.7972587761240022, -0.3675670471291356, 0.28082146701438343, -0.08633039339250868, 0.040217153150704704, -0.6690624158655928, 1.2627520886852726, 0.8930334427555254, -0.5720828983632429, -0.10829789239054843, 0.40614750365984825, -1.103865178801149, -0.8121010383177608, 0.10072184675344648, -0.5769169489648015, -1.064607754248978, 0.2803088090050602, 0.27784983531770807, -0.41074940453263725, 0.5858394974501357, -1.1873780187790168, -1.3497579113052596, 1.255295743570665, -0.6927268600950082, -0.36127203424382964, -0.34463610823926666, -1.2009964413381025, 1.3923569898979733, 0.7787889527113488, 1.8663933162193367, -0.7896518608815303, 0.8604392983684553, 0.5735613938299836, -1.2802106717549009, 0.44164511860901834, -1.1744289444226033, -6.0149059195747345e-06, -0.6467481917357054, 1.2327214192099953, -0.28623017443738186, -1.7412710235687312, -0.9758958392945769, 1.600310178717572, -0.6658748622479977, 0.36105544712213045, 1.2539490446516994, 1.0583809422068344, -0.597617455493197, -0.45722923476382665, -1.2684784915115794, -0.9644190323469388, -0.8772580574236023, 0.085838476310741, 0.48674958148652886, 0.9676561629391955, -2.13767913287318, -2.955837736363831, -1.7764340900302908, 1.272615789302066, -0.37425080144249273, 1.026973987239565, 2.100477946764772, -0.9807225547579596, -0.7533250886156038, -0.03650463249437804, 0.3529513644456242, -1.3607833800573281, -1.7417396477441502, -1.2994294895974514, 0.32077583616185623, -0.4244455156618559, 0.8905320772769698, -1.3186547947430771, 0.12166001368478756, -1.2191124444406027, 0.24654677954656246, -0.2623982371892286, 0.2624213780227509, 0.09375602776369371, -0.8396352448027719, -0.5553431002419489, -0.06731001731720351, -0.49821737363514945, 2.474916165429662, -1.6424571327832522], \"yaxis\": \"y4\"}, {\"line\": {\"color\": \"rgba(128, 128, 128, 1.0)\", \"dash\": \"solid\", \"shape\": \"linear\", \"width\": 1.3}, \"marker\": {\"size\": 2, \"symbol\": \"circle\"}, \"mode\": \"markers\", \"name\": \"B\", \"text\": \"\", \"type\": \"scatter\", \"x\": [-3.1903388189260506, 0.23396036411163004, 1.1589655786036386, -0.48300006152562525, -1.5103337587243804, -0.5044248859027471, 1.182281645215199, 0.42006775240638894, -0.8810298974091847, 0.5039382873693414, -0.731266004129346, 0.0638361921822204, -1.0652754263641049, -0.9041076466885405, -0.9048795324169541, -0.7972587761240022, -0.3675670471291356, 0.28082146701438343, -0.08633039339250868, 0.040217153150704704, -0.6690624158655928, 1.2627520886852726, 0.8930334427555254, -0.5720828983632429, -0.10829789239054843, 0.40614750365984825, -1.103865178801149, -0.8121010383177608, 0.10072184675344648, -0.5769169489648015, -1.064607754248978, 0.2803088090050602, 0.27784983531770807, -0.41074940453263725, 0.5858394974501357, -1.1873780187790168, -1.3497579113052596, 1.255295743570665, -0.6927268600950082, -0.36127203424382964, -0.34463610823926666, -1.2009964413381025, 1.3923569898979733, 0.7787889527113488, 1.8663933162193367, -0.7896518608815303, 0.8604392983684553, 0.5735613938299836, -1.2802106717549009, 0.44164511860901834, -1.1744289444226033, -6.0149059195747345e-06, -0.6467481917357054, 1.2327214192099953, -0.28623017443738186, -1.7412710235687312, -0.9758958392945769, 1.600310178717572, -0.6658748622479977, 0.36105544712213045, 1.2539490446516994, 1.0583809422068344, -0.597617455493197, -0.45722923476382665, -1.2684784915115794, -0.9644190323469388, -0.8772580574236023, 0.085838476310741, 0.48674958148652886, 0.9676561629391955, -2.13767913287318, -2.955837736363831, -1.7764340900302908, 1.272615789302066, -0.37425080144249273, 1.026973987239565, 2.100477946764772, -0.9807225547579596, -0.7533250886156038, -0.03650463249437804, 0.3529513644456242, -1.3607833800573281, -1.7417396477441502, -1.2994294895974514, 0.32077583616185623, -0.4244455156618559, 0.8905320772769698, -1.3186547947430771, 0.12166001368478756, -1.2191124444406027, 0.24654677954656246, -0.2623982371892286, 0.2624213780227509, 0.09375602776369371, -0.8396352448027719, -0.5553431002419489, -0.06731001731720351, -0.49821737363514945, 2.474916165429662, -1.6424571327832522], \"xaxis\": \"x5\", \"y\": [-0.3643496606765255, 0.026742083793018775, 0.3584549394564874, -0.15087399036258875, 0.7692264311391451, -0.9607394936456178, 1.099364393084451, 2.0413594007607077, -0.9589429120315346, -1.0151262656536937, -2.7705342521888636, 0.04519916765724038, -1.0324039775286689, 0.21166535206455778, 0.9519171224472974, -0.8073326446901398, -0.11985422234986415, -0.1234321641152109, 0.9187427563080505, -1.5763765046502152, 0.48951503176455424, -0.278969609256558, -0.3648383818684051, -0.007140551384771878, 0.824952324575092, 1.012484922632672, 0.5845377044183931, -1.2711783578576223, -0.36902106237264026, 0.012682393985313328, 0.3374744579584474, 1.0374153302021154, 0.8674581281533991, 0.49520661962696927, -0.2181122070140142, -0.4198441589123327, -0.22085215002039907, -0.14099689419147918, -0.9772412761380672, -0.9091883734093862, -1.5686850852517986, 0.12633424708785124, 0.4249983112725074, -0.15071571160517683, -0.8190528021055005, -0.5843142509340462, 1.009127911825222, -0.2532746339494671, 0.8382486387582775, 0.2987780822239634, -0.42940441705743443, 0.12942894672747557, -0.3784668801032414, -0.36623302074540903, 1.9636781681839237, -0.694293703929343, 0.18243687176223544, 0.44970065303344275, -0.5585085694844554, 0.5781469849286903, -1.478679342255676, -2.2017812855469296, -0.22766449165792724, -0.9850956709230758, 0.06535721379319329, 1.6247637881367891, 0.9388172664094236, 0.5604816763327075, 0.2297458405763916, 0.5705488391936526, -0.5429901589467797, -1.4375484759630257, 1.149625790934575, -1.8706089909902677, 0.6574935076546705, 0.3922469509849665, -0.3283399439671376, -0.7082986794613881, -1.3012155638305742, -0.47344112138941563, 0.025524978856013302, -0.6078471413136215, 0.6221060033789865, -0.8425812105486945, -1.9731018326838081, -2.085182182082291, 0.7211728722787665, 1.5764475887837608, 0.17856892843054062, 0.09394500672765961, -0.838783815812583, -2.0640038711962796, 0.07541148221711562, 0.011988483697282544, 1.156875251344672, -0.32642331073805275, -1.0002773938460705, -0.409558017985458, -1.6432367398217418, -1.458768728092791], \"yaxis\": \"y5\"}, {\"histfunc\": \"count\", \"histnorm\": \"\", \"marker\": {\"color\": \"rgba(55, 128, 191, 1.0)\", \"line\": {\"color\": \"#4D5663\", \"width\": 1.3}}, \"name\": \"B\", \"nbinsx\": 10, \"opacity\": 0.8, \"orientation\": \"v\", \"type\": \"histogram\", \"x\": [-0.3643496606765255, 0.026742083793018775, 0.3584549394564874, -0.15087399036258875, 0.7692264311391451, -0.9607394936456178, 1.099364393084451, 2.0413594007607077, -0.9589429120315346, -1.0151262656536937, -2.7705342521888636, 0.04519916765724038, -1.0324039775286689, 0.21166535206455778, 0.9519171224472974, -0.8073326446901398, -0.11985422234986415, -0.1234321641152109, 0.9187427563080505, -1.5763765046502152, 0.48951503176455424, -0.278969609256558, -0.3648383818684051, -0.007140551384771878, 0.824952324575092, 1.012484922632672, 0.5845377044183931, -1.2711783578576223, -0.36902106237264026, 0.012682393985313328, 0.3374744579584474, 1.0374153302021154, 0.8674581281533991, 0.49520661962696927, -0.2181122070140142, -0.4198441589123327, -0.22085215002039907, -0.14099689419147918, -0.9772412761380672, -0.9091883734093862, -1.5686850852517986, 0.12633424708785124, 0.4249983112725074, -0.15071571160517683, -0.8190528021055005, -0.5843142509340462, 1.009127911825222, -0.2532746339494671, 0.8382486387582775, 0.2987780822239634, -0.42940441705743443, 0.12942894672747557, -0.3784668801032414, -0.36623302074540903, 1.9636781681839237, -0.694293703929343, 0.18243687176223544, 0.44970065303344275, -0.5585085694844554, 0.5781469849286903, -1.478679342255676, -2.2017812855469296, -0.22766449165792724, -0.9850956709230758, 0.06535721379319329, 1.6247637881367891, 0.9388172664094236, 0.5604816763327075, 0.2297458405763916, 0.5705488391936526, -0.5429901589467797, -1.4375484759630257, 1.149625790934575, -1.8706089909902677, 0.6574935076546705, 0.3922469509849665, -0.3283399439671376, -0.7082986794613881, -1.3012155638305742, -0.47344112138941563, 0.025524978856013302, -0.6078471413136215, 0.6221060033789865, -0.8425812105486945, -1.9731018326838081, -2.085182182082291, 0.7211728722787665, 1.5764475887837608, 0.17856892843054062, 0.09394500672765961, -0.838783815812583, -2.0640038711962796, 0.07541148221711562, 0.011988483697282544, 1.156875251344672, -0.32642331073805275, -1.0002773938460705, -0.409558017985458, -1.6432367398217418, -1.458768728092791], \"xaxis\": \"x6\", \"yaxis\": \"y6\"}, {\"line\": {\"color\": \"rgba(128, 128, 128, 1.0)\", \"dash\": \"solid\", \"shape\": \"linear\", \"width\": 1.3}, \"marker\": {\"size\": 2, \"symbol\": \"circle\"}, \"mode\": \"markers\", \"name\": \"B\", \"text\": \"\", \"type\": \"scatter\", \"x\": [-1.1186463499542998, 1.2677912975381758, 0.36076316284766746, -0.594562609277583, -0.4685633922208175, -0.7414270275053735, -1.2620028022058527, -0.2633575322313773, -0.13705740516672574, -0.6779505642675806, -0.2026716055278497, 1.6258578058108586, 0.24708350229743825, 0.6924231043760657, -1.5136756150318582, 0.18387379001212456, -1.0758932407544046, -1.1277833413495375, -0.09007994172368866, 1.7438241639662895, 0.17877381008658313, 0.21997679671829612, 0.43375237351717855, -0.57839905502642, 0.34209577444414135, -0.26366532914873114, 1.0700940451035175, -0.9512143375191747, -0.6850989671874386, 0.21183117412430214, -0.4104742967296816, -1.0890895555885556, 0.36987011373475775, -1.0232701308222056, 0.044981104707034446, -0.0824754843912133, 2.092860328910299, 2.8344786758836196, 0.260552308604172, -0.2458360898438423, -1.2257665509409992, -1.1316510511315512, 0.32548178557719026, 0.6763374540496877, 0.6183684289996768, 0.22458715291167278, -0.10773707471439793, 0.14631716285290056, -0.25856157950527603, 0.3949298005054963, 0.014701924255192494, 0.04254310141261005, -0.3038555542985175, 1.3746376476163982, -1.0525689185942786, 1.8677556254708725, -0.9544443715719576, 0.6250657420707972, -0.6597264515616512, 1.2000128640230874, -1.921474505487477, 0.10359809264203092, 0.14030400767650186, -0.24415105688321234, 0.09908985392907203, 0.11762629422038864, -0.40161956844729146, -0.32560451956022274, -0.2742954646454567, 0.7033588244428957, 1.044708085637379, 1.3432802304882736, -0.48809055516302796, -0.40759577124501833, -0.23367711063773317, 1.0357161154696715, -2.035454205328424, -0.3275881726844608, -0.5365535854449085, 0.5715003149914503, 0.7005392956847408, -0.6098133766978422, 0.13932592576040911, -0.7696519088160988, -0.756068093698991, -2.6222547596454278, -0.47657293861878464, 1.1639948628729075, -1.4642275879391387, -0.38596602153173, -0.5421683648952816, 0.10309907483896115, 0.2639944083236471, 0.09410435510004495, -0.6567099939622915, -0.2203570095662532, -1.881779224440967, 0.41613232309439224, 0.7655415853330867, -1.4245542342590862], \"xaxis\": \"x7\", \"y\": [-0.3643496606765255, 0.026742083793018775, 0.3584549394564874, -0.15087399036258875, 0.7692264311391451, -0.9607394936456178, 1.099364393084451, 2.0413594007607077, -0.9589429120315346, -1.0151262656536937, -2.7705342521888636, 0.04519916765724038, -1.0324039775286689, 0.21166535206455778, 0.9519171224472974, -0.8073326446901398, -0.11985422234986415, -0.1234321641152109, 0.9187427563080505, -1.5763765046502152, 0.48951503176455424, -0.278969609256558, -0.3648383818684051, -0.007140551384771878, 0.824952324575092, 1.012484922632672, 0.5845377044183931, -1.2711783578576223, -0.36902106237264026, 0.012682393985313328, 0.3374744579584474, 1.0374153302021154, 0.8674581281533991, 0.49520661962696927, -0.2181122070140142, -0.4198441589123327, -0.22085215002039907, -0.14099689419147918, -0.9772412761380672, -0.9091883734093862, -1.5686850852517986, 0.12633424708785124, 0.4249983112725074, -0.15071571160517683, -0.8190528021055005, -0.5843142509340462, 1.009127911825222, -0.2532746339494671, 0.8382486387582775, 0.2987780822239634, -0.42940441705743443, 0.12942894672747557, -0.3784668801032414, -0.36623302074540903, 1.9636781681839237, -0.694293703929343, 0.18243687176223544, 0.44970065303344275, -0.5585085694844554, 0.5781469849286903, -1.478679342255676, -2.2017812855469296, -0.22766449165792724, -0.9850956709230758, 0.06535721379319329, 1.6247637881367891, 0.9388172664094236, 0.5604816763327075, 0.2297458405763916, 0.5705488391936526, -0.5429901589467797, -1.4375484759630257, 1.149625790934575, -1.8706089909902677, 0.6574935076546705, 0.3922469509849665, -0.3283399439671376, -0.7082986794613881, -1.3012155638305742, -0.47344112138941563, 0.025524978856013302, -0.6078471413136215, 0.6221060033789865, -0.8425812105486945, -1.9731018326838081, -2.085182182082291, 0.7211728722787665, 1.5764475887837608, 0.17856892843054062, 0.09394500672765961, -0.838783815812583, -2.0640038711962796, 0.07541148221711562, 0.011988483697282544, 1.156875251344672, -0.32642331073805275, -1.0002773938460705, -0.409558017985458, -1.6432367398217418, -1.458768728092791], \"yaxis\": \"y7\"}, {\"line\": {\"color\": \"rgba(128, 128, 128, 1.0)\", \"dash\": \"solid\", \"shape\": \"linear\", \"width\": 1.3}, \"marker\": {\"size\": 2, \"symbol\": \"circle\"}, \"mode\": \"markers\", \"name\": \"B\", \"text\": \"\", \"type\": \"scatter\", \"x\": [-0.6489732176465235, -0.41469620685869946, -0.7371821797185605, -0.9768777099594689, -0.22711856500745847, 2.54026166785655, 0.15537859565815373, -0.9775530087225272, 2.1618950609150063, -1.62519664198678, 0.21236468315567575, 1.3459918522282894, 0.08370362006998518, 0.7394987862241378, 0.6539134662590035, -0.7086034819362234, 1.6417074272652397, 0.8369405076533828, -0.1704799982098994, -0.6549938398194295, -0.5483941513527122, -1.0447976323516879, -0.8018209373504784, 0.9465864367131726, 0.6825721074052299, 0.7887445296778326, -0.07546641130273239, 0.9536526696779729, 0.4438010796827428, -2.2370489036955785, -0.6698273819555984, 0.20635471129522778, 2.6020926738257306, 1.0709247935134785, 0.32384649714279573, 0.09885999146630725, -2.619846279753586, -0.46368625253882917, 1.8712323092911936, 0.05486969328773147, -1.1935146053370786, -0.16610251307721524, 0.6384990529938278, 1.4038901310185594, -0.27245345648714625, 0.6216184998596498, -1.2889792680352745, 0.3087510888991206, 0.7360554150652998, -0.5165922648054353, 1.3395981597477955, -0.5252602248023504, 0.6099177946814479, -1.0996073656442549, 2.8542098952108206, -0.8285294637490741, -0.11911381103015203, -1.2557955685428008, 0.20494733090020398, 1.447145307689846, -0.10189582644921229, -2.340645851858345, 0.905048221674501, -3.2847949833595678, 1.1954851366552612, -0.5849358200331003, 0.30759900650876176, -1.4237600566252469, 1.156013455755697, -1.4013371187352321, -1.1940724679311008, 0.6717037121348988, 0.29877179423852096, 0.0735572848097489, -0.9995298211801902, -0.7382077941967837, -0.8081365209550897, 0.2597666777870895, 0.7055084707601808, -2.0317763614359197, 1.0858361132082317, 0.2245567699104668, 0.19531027958986188, 1.7143659929154766, -0.07210747828589123, 0.6727003522455439, -0.10537352910610093, 1.4134671690171892, 0.6044508884083378, 1.0463998481695964, 0.04921068006225297, -0.5367797534585702, -0.4983033200797242, 1.6722949355998922, 0.5433310212695938, -0.31371004745330844, 0.6080594834764896, 0.05958357598335059, -0.9994953363575223, 0.3057815249245013], \"xaxis\": \"x8\", \"y\": [-0.3643496606765255, 0.026742083793018775, 0.3584549394564874, -0.15087399036258875, 0.7692264311391451, -0.9607394936456178, 1.099364393084451, 2.0413594007607077, -0.9589429120315346, -1.0151262656536937, -2.7705342521888636, 0.04519916765724038, -1.0324039775286689, 0.21166535206455778, 0.9519171224472974, -0.8073326446901398, -0.11985422234986415, -0.1234321641152109, 0.9187427563080505, -1.5763765046502152, 0.48951503176455424, -0.278969609256558, -0.3648383818684051, -0.007140551384771878, 0.824952324575092, 1.012484922632672, 0.5845377044183931, -1.2711783578576223, -0.36902106237264026, 0.012682393985313328, 0.3374744579584474, 1.0374153302021154, 0.8674581281533991, 0.49520661962696927, -0.2181122070140142, -0.4198441589123327, -0.22085215002039907, -0.14099689419147918, -0.9772412761380672, -0.9091883734093862, -1.5686850852517986, 0.12633424708785124, 0.4249983112725074, -0.15071571160517683, -0.8190528021055005, -0.5843142509340462, 1.009127911825222, -0.2532746339494671, 0.8382486387582775, 0.2987780822239634, -0.42940441705743443, 0.12942894672747557, -0.3784668801032414, -0.36623302074540903, 1.9636781681839237, -0.694293703929343, 0.18243687176223544, 0.44970065303344275, -0.5585085694844554, 0.5781469849286903, -1.478679342255676, -2.2017812855469296, -0.22766449165792724, -0.9850956709230758, 0.06535721379319329, 1.6247637881367891, 0.9388172664094236, 0.5604816763327075, 0.2297458405763916, 0.5705488391936526, -0.5429901589467797, -1.4375484759630257, 1.149625790934575, -1.8706089909902677, 0.6574935076546705, 0.3922469509849665, -0.3283399439671376, -0.7082986794613881, -1.3012155638305742, -0.47344112138941563, 0.025524978856013302, -0.6078471413136215, 0.6221060033789865, -0.8425812105486945, -1.9731018326838081, -2.085182182082291, 0.7211728722787665, 1.5764475887837608, 0.17856892843054062, 0.09394500672765961, -0.838783815812583, -2.0640038711962796, 0.07541148221711562, 0.011988483697282544, 1.156875251344672, -0.32642331073805275, -1.0002773938460705, -0.409558017985458, -1.6432367398217418, -1.458768728092791], \"yaxis\": \"y8\"}, {\"line\": {\"color\": \"rgba(128, 128, 128, 1.0)\", \"dash\": \"solid\", \"shape\": \"linear\", \"width\": 1.3}, \"marker\": {\"size\": 2, \"symbol\": \"circle\"}, \"mode\": \"markers\", \"name\": \"C\", \"text\": \"\", \"type\": \"scatter\", \"x\": [-3.1903388189260506, 0.23396036411163004, 1.1589655786036386, -0.48300006152562525, -1.5103337587243804, -0.5044248859027471, 1.182281645215199, 0.42006775240638894, -0.8810298974091847, 0.5039382873693414, -0.731266004129346, 0.0638361921822204, -1.0652754263641049, -0.9041076466885405, -0.9048795324169541, -0.7972587761240022, -0.3675670471291356, 0.28082146701438343, -0.08633039339250868, 0.040217153150704704, -0.6690624158655928, 1.2627520886852726, 0.8930334427555254, -0.5720828983632429, -0.10829789239054843, 0.40614750365984825, -1.103865178801149, -0.8121010383177608, 0.10072184675344648, -0.5769169489648015, -1.064607754248978, 0.2803088090050602, 0.27784983531770807, -0.41074940453263725, 0.5858394974501357, -1.1873780187790168, -1.3497579113052596, 1.255295743570665, -0.6927268600950082, -0.36127203424382964, -0.34463610823926666, -1.2009964413381025, 1.3923569898979733, 0.7787889527113488, 1.8663933162193367, -0.7896518608815303, 0.8604392983684553, 0.5735613938299836, -1.2802106717549009, 0.44164511860901834, -1.1744289444226033, -6.0149059195747345e-06, -0.6467481917357054, 1.2327214192099953, -0.28623017443738186, -1.7412710235687312, -0.9758958392945769, 1.600310178717572, -0.6658748622479977, 0.36105544712213045, 1.2539490446516994, 1.0583809422068344, -0.597617455493197, -0.45722923476382665, -1.2684784915115794, -0.9644190323469388, -0.8772580574236023, 0.085838476310741, 0.48674958148652886, 0.9676561629391955, -2.13767913287318, -2.955837736363831, -1.7764340900302908, 1.272615789302066, -0.37425080144249273, 1.026973987239565, 2.100477946764772, -0.9807225547579596, -0.7533250886156038, -0.03650463249437804, 0.3529513644456242, -1.3607833800573281, -1.7417396477441502, -1.2994294895974514, 0.32077583616185623, -0.4244455156618559, 0.8905320772769698, -1.3186547947430771, 0.12166001368478756, -1.2191124444406027, 0.24654677954656246, -0.2623982371892286, 0.2624213780227509, 0.09375602776369371, -0.8396352448027719, -0.5553431002419489, -0.06731001731720351, -0.49821737363514945, 2.474916165429662, -1.6424571327832522], \"xaxis\": \"x9\", \"y\": [-1.1186463499542998, 1.2677912975381758, 0.36076316284766746, -0.594562609277583, -0.4685633922208175, -0.7414270275053735, -1.2620028022058527, -0.2633575322313773, -0.13705740516672574, -0.6779505642675806, -0.2026716055278497, 1.6258578058108586, 0.24708350229743825, 0.6924231043760657, -1.5136756150318582, 0.18387379001212456, -1.0758932407544046, -1.1277833413495375, -0.09007994172368866, 1.7438241639662895, 0.17877381008658313, 0.21997679671829612, 0.43375237351717855, -0.57839905502642, 0.34209577444414135, -0.26366532914873114, 1.0700940451035175, -0.9512143375191747, -0.6850989671874386, 0.21183117412430214, -0.4104742967296816, -1.0890895555885556, 0.36987011373475775, -1.0232701308222056, 0.044981104707034446, -0.0824754843912133, 2.092860328910299, 2.8344786758836196, 0.260552308604172, -0.2458360898438423, -1.2257665509409992, -1.1316510511315512, 0.32548178557719026, 0.6763374540496877, 0.6183684289996768, 0.22458715291167278, -0.10773707471439793, 0.14631716285290056, -0.25856157950527603, 0.3949298005054963, 0.014701924255192494, 0.04254310141261005, -0.3038555542985175, 1.3746376476163982, -1.0525689185942786, 1.8677556254708725, -0.9544443715719576, 0.6250657420707972, -0.6597264515616512, 1.2000128640230874, -1.921474505487477, 0.10359809264203092, 0.14030400767650186, -0.24415105688321234, 0.09908985392907203, 0.11762629422038864, -0.40161956844729146, -0.32560451956022274, -0.2742954646454567, 0.7033588244428957, 1.044708085637379, 1.3432802304882736, -0.48809055516302796, -0.40759577124501833, -0.23367711063773317, 1.0357161154696715, -2.035454205328424, -0.3275881726844608, -0.5365535854449085, 0.5715003149914503, 0.7005392956847408, -0.6098133766978422, 0.13932592576040911, -0.7696519088160988, -0.756068093698991, -2.6222547596454278, -0.47657293861878464, 1.1639948628729075, -1.4642275879391387, -0.38596602153173, -0.5421683648952816, 0.10309907483896115, 0.2639944083236471, 0.09410435510004495, -0.6567099939622915, -0.2203570095662532, -1.881779224440967, 0.41613232309439224, 0.7655415853330867, -1.4245542342590862], \"yaxis\": \"y9\"}, {\"line\": {\"color\": \"rgba(128, 128, 128, 1.0)\", \"dash\": \"solid\", \"shape\": \"linear\", \"width\": 1.3}, \"marker\": {\"size\": 2, \"symbol\": \"circle\"}, \"mode\": \"markers\", \"name\": \"C\", \"text\": \"\", \"type\": \"scatter\", \"x\": [-0.3643496606765255, 0.026742083793018775, 0.3584549394564874, -0.15087399036258875, 0.7692264311391451, -0.9607394936456178, 1.099364393084451, 2.0413594007607077, -0.9589429120315346, -1.0151262656536937, -2.7705342521888636, 0.04519916765724038, -1.0324039775286689, 0.21166535206455778, 0.9519171224472974, -0.8073326446901398, -0.11985422234986415, -0.1234321641152109, 0.9187427563080505, -1.5763765046502152, 0.48951503176455424, -0.278969609256558, -0.3648383818684051, -0.007140551384771878, 0.824952324575092, 1.012484922632672, 0.5845377044183931, -1.2711783578576223, -0.36902106237264026, 0.012682393985313328, 0.3374744579584474, 1.0374153302021154, 0.8674581281533991, 0.49520661962696927, -0.2181122070140142, -0.4198441589123327, -0.22085215002039907, -0.14099689419147918, -0.9772412761380672, -0.9091883734093862, -1.5686850852517986, 0.12633424708785124, 0.4249983112725074, -0.15071571160517683, -0.8190528021055005, -0.5843142509340462, 1.009127911825222, -0.2532746339494671, 0.8382486387582775, 0.2987780822239634, -0.42940441705743443, 0.12942894672747557, -0.3784668801032414, -0.36623302074540903, 1.9636781681839237, -0.694293703929343, 0.18243687176223544, 0.44970065303344275, -0.5585085694844554, 0.5781469849286903, -1.478679342255676, -2.2017812855469296, -0.22766449165792724, -0.9850956709230758, 0.06535721379319329, 1.6247637881367891, 0.9388172664094236, 0.5604816763327075, 0.2297458405763916, 0.5705488391936526, -0.5429901589467797, -1.4375484759630257, 1.149625790934575, -1.8706089909902677, 0.6574935076546705, 0.3922469509849665, -0.3283399439671376, -0.7082986794613881, -1.3012155638305742, -0.47344112138941563, 0.025524978856013302, -0.6078471413136215, 0.6221060033789865, -0.8425812105486945, -1.9731018326838081, -2.085182182082291, 0.7211728722787665, 1.5764475887837608, 0.17856892843054062, 0.09394500672765961, -0.838783815812583, -2.0640038711962796, 0.07541148221711562, 0.011988483697282544, 1.156875251344672, -0.32642331073805275, -1.0002773938460705, -0.409558017985458, -1.6432367398217418, -1.458768728092791], \"xaxis\": \"x10\", \"y\": [-1.1186463499542998, 1.2677912975381758, 0.36076316284766746, -0.594562609277583, -0.4685633922208175, -0.7414270275053735, -1.2620028022058527, -0.2633575322313773, -0.13705740516672574, -0.6779505642675806, -0.2026716055278497, 1.6258578058108586, 0.24708350229743825, 0.6924231043760657, -1.5136756150318582, 0.18387379001212456, -1.0758932407544046, -1.1277833413495375, -0.09007994172368866, 1.7438241639662895, 0.17877381008658313, 0.21997679671829612, 0.43375237351717855, -0.57839905502642, 0.34209577444414135, -0.26366532914873114, 1.0700940451035175, -0.9512143375191747, -0.6850989671874386, 0.21183117412430214, -0.4104742967296816, -1.0890895555885556, 0.36987011373475775, -1.0232701308222056, 0.044981104707034446, -0.0824754843912133, 2.092860328910299, 2.8344786758836196, 0.260552308604172, -0.2458360898438423, -1.2257665509409992, -1.1316510511315512, 0.32548178557719026, 0.6763374540496877, 0.6183684289996768, 0.22458715291167278, -0.10773707471439793, 0.14631716285290056, -0.25856157950527603, 0.3949298005054963, 0.014701924255192494, 0.04254310141261005, -0.3038555542985175, 1.3746376476163982, -1.0525689185942786, 1.8677556254708725, -0.9544443715719576, 0.6250657420707972, -0.6597264515616512, 1.2000128640230874, -1.921474505487477, 0.10359809264203092, 0.14030400767650186, -0.24415105688321234, 0.09908985392907203, 0.11762629422038864, -0.40161956844729146, -0.32560451956022274, -0.2742954646454567, 0.7033588244428957, 1.044708085637379, 1.3432802304882736, -0.48809055516302796, -0.40759577124501833, -0.23367711063773317, 1.0357161154696715, -2.035454205328424, -0.3275881726844608, -0.5365535854449085, 0.5715003149914503, 0.7005392956847408, -0.6098133766978422, 0.13932592576040911, -0.7696519088160988, -0.756068093698991, -2.6222547596454278, -0.47657293861878464, 1.1639948628729075, -1.4642275879391387, -0.38596602153173, -0.5421683648952816, 0.10309907483896115, 0.2639944083236471, 0.09410435510004495, -0.6567099939622915, -0.2203570095662532, -1.881779224440967, 0.41613232309439224, 0.7655415853330867, -1.4245542342590862], \"yaxis\": \"y10\"}, {\"histfunc\": \"count\", \"histnorm\": \"\", \"marker\": {\"color\": \"rgba(50, 171, 96, 1.0)\", \"line\": {\"color\": \"#4D5663\", \"width\": 1.3}}, \"name\": \"C\", \"nbinsx\": 10, \"opacity\": 0.8, \"orientation\": \"v\", \"type\": \"histogram\", \"x\": [-1.1186463499542998, 1.2677912975381758, 0.36076316284766746, -0.594562609277583, -0.4685633922208175, -0.7414270275053735, -1.2620028022058527, -0.2633575322313773, -0.13705740516672574, -0.6779505642675806, -0.2026716055278497, 1.6258578058108586, 0.24708350229743825, 0.6924231043760657, -1.5136756150318582, 0.18387379001212456, -1.0758932407544046, -1.1277833413495375, -0.09007994172368866, 1.7438241639662895, 0.17877381008658313, 0.21997679671829612, 0.43375237351717855, -0.57839905502642, 0.34209577444414135, -0.26366532914873114, 1.0700940451035175, -0.9512143375191747, -0.6850989671874386, 0.21183117412430214, -0.4104742967296816, -1.0890895555885556, 0.36987011373475775, -1.0232701308222056, 0.044981104707034446, -0.0824754843912133, 2.092860328910299, 2.8344786758836196, 0.260552308604172, -0.2458360898438423, -1.2257665509409992, -1.1316510511315512, 0.32548178557719026, 0.6763374540496877, 0.6183684289996768, 0.22458715291167278, -0.10773707471439793, 0.14631716285290056, -0.25856157950527603, 0.3949298005054963, 0.014701924255192494, 0.04254310141261005, -0.3038555542985175, 1.3746376476163982, -1.0525689185942786, 1.8677556254708725, -0.9544443715719576, 0.6250657420707972, -0.6597264515616512, 1.2000128640230874, -1.921474505487477, 0.10359809264203092, 0.14030400767650186, -0.24415105688321234, 0.09908985392907203, 0.11762629422038864, -0.40161956844729146, -0.32560451956022274, -0.2742954646454567, 0.7033588244428957, 1.044708085637379, 1.3432802304882736, -0.48809055516302796, -0.40759577124501833, -0.23367711063773317, 1.0357161154696715, -2.035454205328424, -0.3275881726844608, -0.5365535854449085, 0.5715003149914503, 0.7005392956847408, -0.6098133766978422, 0.13932592576040911, -0.7696519088160988, -0.756068093698991, -2.6222547596454278, -0.47657293861878464, 1.1639948628729075, -1.4642275879391387, -0.38596602153173, -0.5421683648952816, 0.10309907483896115, 0.2639944083236471, 0.09410435510004495, -0.6567099939622915, -0.2203570095662532, -1.881779224440967, 0.41613232309439224, 0.7655415853330867, -1.4245542342590862], \"xaxis\": \"x11\", \"yaxis\": \"y11\"}, {\"line\": {\"color\": \"rgba(128, 128, 128, 1.0)\", \"dash\": \"solid\", \"shape\": \"linear\", \"width\": 1.3}, \"marker\": {\"size\": 2, \"symbol\": \"circle\"}, \"mode\": \"markers\", \"name\": \"C\", \"text\": \"\", \"type\": \"scatter\", \"x\": [-0.6489732176465235, -0.41469620685869946, -0.7371821797185605, -0.9768777099594689, -0.22711856500745847, 2.54026166785655, 0.15537859565815373, -0.9775530087225272, 2.1618950609150063, -1.62519664198678, 0.21236468315567575, 1.3459918522282894, 0.08370362006998518, 0.7394987862241378, 0.6539134662590035, -0.7086034819362234, 1.6417074272652397, 0.8369405076533828, -0.1704799982098994, -0.6549938398194295, -0.5483941513527122, -1.0447976323516879, -0.8018209373504784, 0.9465864367131726, 0.6825721074052299, 0.7887445296778326, -0.07546641130273239, 0.9536526696779729, 0.4438010796827428, -2.2370489036955785, -0.6698273819555984, 0.20635471129522778, 2.6020926738257306, 1.0709247935134785, 0.32384649714279573, 0.09885999146630725, -2.619846279753586, -0.46368625253882917, 1.8712323092911936, 0.05486969328773147, -1.1935146053370786, -0.16610251307721524, 0.6384990529938278, 1.4038901310185594, -0.27245345648714625, 0.6216184998596498, -1.2889792680352745, 0.3087510888991206, 0.7360554150652998, -0.5165922648054353, 1.3395981597477955, -0.5252602248023504, 0.6099177946814479, -1.0996073656442549, 2.8542098952108206, -0.8285294637490741, -0.11911381103015203, -1.2557955685428008, 0.20494733090020398, 1.447145307689846, -0.10189582644921229, -2.340645851858345, 0.905048221674501, -3.2847949833595678, 1.1954851366552612, -0.5849358200331003, 0.30759900650876176, -1.4237600566252469, 1.156013455755697, -1.4013371187352321, -1.1940724679311008, 0.6717037121348988, 0.29877179423852096, 0.0735572848097489, -0.9995298211801902, -0.7382077941967837, -0.8081365209550897, 0.2597666777870895, 0.7055084707601808, -2.0317763614359197, 1.0858361132082317, 0.2245567699104668, 0.19531027958986188, 1.7143659929154766, -0.07210747828589123, 0.6727003522455439, -0.10537352910610093, 1.4134671690171892, 0.6044508884083378, 1.0463998481695964, 0.04921068006225297, -0.5367797534585702, -0.4983033200797242, 1.6722949355998922, 0.5433310212695938, -0.31371004745330844, 0.6080594834764896, 0.05958357598335059, -0.9994953363575223, 0.3057815249245013], \"xaxis\": \"x12\", \"y\": [-1.1186463499542998, 1.2677912975381758, 0.36076316284766746, -0.594562609277583, -0.4685633922208175, -0.7414270275053735, -1.2620028022058527, -0.2633575322313773, -0.13705740516672574, -0.6779505642675806, -0.2026716055278497, 1.6258578058108586, 0.24708350229743825, 0.6924231043760657, -1.5136756150318582, 0.18387379001212456, -1.0758932407544046, -1.1277833413495375, -0.09007994172368866, 1.7438241639662895, 0.17877381008658313, 0.21997679671829612, 0.43375237351717855, -0.57839905502642, 0.34209577444414135, -0.26366532914873114, 1.0700940451035175, -0.9512143375191747, -0.6850989671874386, 0.21183117412430214, -0.4104742967296816, -1.0890895555885556, 0.36987011373475775, -1.0232701308222056, 0.044981104707034446, -0.0824754843912133, 2.092860328910299, 2.8344786758836196, 0.260552308604172, -0.2458360898438423, -1.2257665509409992, -1.1316510511315512, 0.32548178557719026, 0.6763374540496877, 0.6183684289996768, 0.22458715291167278, -0.10773707471439793, 0.14631716285290056, -0.25856157950527603, 0.3949298005054963, 0.014701924255192494, 0.04254310141261005, -0.3038555542985175, 1.3746376476163982, -1.0525689185942786, 1.8677556254708725, -0.9544443715719576, 0.6250657420707972, -0.6597264515616512, 1.2000128640230874, -1.921474505487477, 0.10359809264203092, 0.14030400767650186, -0.24415105688321234, 0.09908985392907203, 0.11762629422038864, -0.40161956844729146, -0.32560451956022274, -0.2742954646454567, 0.7033588244428957, 1.044708085637379, 1.3432802304882736, -0.48809055516302796, -0.40759577124501833, -0.23367711063773317, 1.0357161154696715, -2.035454205328424, -0.3275881726844608, -0.5365535854449085, 0.5715003149914503, 0.7005392956847408, -0.6098133766978422, 0.13932592576040911, -0.7696519088160988, -0.756068093698991, -2.6222547596454278, -0.47657293861878464, 1.1639948628729075, -1.4642275879391387, -0.38596602153173, -0.5421683648952816, 0.10309907483896115, 0.2639944083236471, 0.09410435510004495, -0.6567099939622915, -0.2203570095662532, -1.881779224440967, 0.41613232309439224, 0.7655415853330867, -1.4245542342590862], \"yaxis\": \"y12\"}, {\"line\": {\"color\": \"rgba(128, 128, 128, 1.0)\", \"dash\": \"solid\", \"shape\": \"linear\", \"width\": 1.3}, \"marker\": {\"size\": 2, \"symbol\": \"circle\"}, \"mode\": \"markers\", \"name\": \"D\", \"text\": \"\", \"type\": \"scatter\", \"x\": [-3.1903388189260506, 0.23396036411163004, 1.1589655786036386, -0.48300006152562525, -1.5103337587243804, -0.5044248859027471, 1.182281645215199, 0.42006775240638894, -0.8810298974091847, 0.5039382873693414, -0.731266004129346, 0.0638361921822204, -1.0652754263641049, -0.9041076466885405, -0.9048795324169541, -0.7972587761240022, -0.3675670471291356, 0.28082146701438343, -0.08633039339250868, 0.040217153150704704, -0.6690624158655928, 1.2627520886852726, 0.8930334427555254, -0.5720828983632429, -0.10829789239054843, 0.40614750365984825, -1.103865178801149, -0.8121010383177608, 0.10072184675344648, -0.5769169489648015, -1.064607754248978, 0.2803088090050602, 0.27784983531770807, -0.41074940453263725, 0.5858394974501357, -1.1873780187790168, -1.3497579113052596, 1.255295743570665, -0.6927268600950082, -0.36127203424382964, -0.34463610823926666, -1.2009964413381025, 1.3923569898979733, 0.7787889527113488, 1.8663933162193367, -0.7896518608815303, 0.8604392983684553, 0.5735613938299836, -1.2802106717549009, 0.44164511860901834, -1.1744289444226033, -6.0149059195747345e-06, -0.6467481917357054, 1.2327214192099953, -0.28623017443738186, -1.7412710235687312, -0.9758958392945769, 1.600310178717572, -0.6658748622479977, 0.36105544712213045, 1.2539490446516994, 1.0583809422068344, -0.597617455493197, -0.45722923476382665, -1.2684784915115794, -0.9644190323469388, -0.8772580574236023, 0.085838476310741, 0.48674958148652886, 0.9676561629391955, -2.13767913287318, -2.955837736363831, -1.7764340900302908, 1.272615789302066, -0.37425080144249273, 1.026973987239565, 2.100477946764772, -0.9807225547579596, -0.7533250886156038, -0.03650463249437804, 0.3529513644456242, -1.3607833800573281, -1.7417396477441502, -1.2994294895974514, 0.32077583616185623, -0.4244455156618559, 0.8905320772769698, -1.3186547947430771, 0.12166001368478756, -1.2191124444406027, 0.24654677954656246, -0.2623982371892286, 0.2624213780227509, 0.09375602776369371, -0.8396352448027719, -0.5553431002419489, -0.06731001731720351, -0.49821737363514945, 2.474916165429662, -1.6424571327832522], \"xaxis\": \"x13\", \"y\": [-0.6489732176465235, -0.41469620685869946, -0.7371821797185605, -0.9768777099594689, -0.22711856500745847, 2.54026166785655, 0.15537859565815373, -0.9775530087225272, 2.1618950609150063, -1.62519664198678, 0.21236468315567575, 1.3459918522282894, 0.08370362006998518, 0.7394987862241378, 0.6539134662590035, -0.7086034819362234, 1.6417074272652397, 0.8369405076533828, -0.1704799982098994, -0.6549938398194295, -0.5483941513527122, -1.0447976323516879, -0.8018209373504784, 0.9465864367131726, 0.6825721074052299, 0.7887445296778326, -0.07546641130273239, 0.9536526696779729, 0.4438010796827428, -2.2370489036955785, -0.6698273819555984, 0.20635471129522778, 2.6020926738257306, 1.0709247935134785, 0.32384649714279573, 0.09885999146630725, -2.619846279753586, -0.46368625253882917, 1.8712323092911936, 0.05486969328773147, -1.1935146053370786, -0.16610251307721524, 0.6384990529938278, 1.4038901310185594, -0.27245345648714625, 0.6216184998596498, -1.2889792680352745, 0.3087510888991206, 0.7360554150652998, -0.5165922648054353, 1.3395981597477955, -0.5252602248023504, 0.6099177946814479, -1.0996073656442549, 2.8542098952108206, -0.8285294637490741, -0.11911381103015203, -1.2557955685428008, 0.20494733090020398, 1.447145307689846, -0.10189582644921229, -2.340645851858345, 0.905048221674501, -3.2847949833595678, 1.1954851366552612, -0.5849358200331003, 0.30759900650876176, -1.4237600566252469, 1.156013455755697, -1.4013371187352321, -1.1940724679311008, 0.6717037121348988, 0.29877179423852096, 0.0735572848097489, -0.9995298211801902, -0.7382077941967837, -0.8081365209550897, 0.2597666777870895, 0.7055084707601808, -2.0317763614359197, 1.0858361132082317, 0.2245567699104668, 0.19531027958986188, 1.7143659929154766, -0.07210747828589123, 0.6727003522455439, -0.10537352910610093, 1.4134671690171892, 0.6044508884083378, 1.0463998481695964, 0.04921068006225297, -0.5367797534585702, -0.4983033200797242, 1.6722949355998922, 0.5433310212695938, -0.31371004745330844, 0.6080594834764896, 0.05958357598335059, -0.9994953363575223, 0.3057815249245013], \"yaxis\": \"y13\"}, {\"line\": {\"color\": \"rgba(128, 128, 128, 1.0)\", \"dash\": \"solid\", \"shape\": \"linear\", \"width\": 1.3}, \"marker\": {\"size\": 2, \"symbol\": \"circle\"}, \"mode\": \"markers\", \"name\": \"D\", \"text\": \"\", \"type\": \"scatter\", \"x\": [-0.3643496606765255, 0.026742083793018775, 0.3584549394564874, -0.15087399036258875, 0.7692264311391451, -0.9607394936456178, 1.099364393084451, 2.0413594007607077, -0.9589429120315346, -1.0151262656536937, -2.7705342521888636, 0.04519916765724038, -1.0324039775286689, 0.21166535206455778, 0.9519171224472974, -0.8073326446901398, -0.11985422234986415, -0.1234321641152109, 0.9187427563080505, -1.5763765046502152, 0.48951503176455424, -0.278969609256558, -0.3648383818684051, -0.007140551384771878, 0.824952324575092, 1.012484922632672, 0.5845377044183931, -1.2711783578576223, -0.36902106237264026, 0.012682393985313328, 0.3374744579584474, 1.0374153302021154, 0.8674581281533991, 0.49520661962696927, -0.2181122070140142, -0.4198441589123327, -0.22085215002039907, -0.14099689419147918, -0.9772412761380672, -0.9091883734093862, -1.5686850852517986, 0.12633424708785124, 0.4249983112725074, -0.15071571160517683, -0.8190528021055005, -0.5843142509340462, 1.009127911825222, -0.2532746339494671, 0.8382486387582775, 0.2987780822239634, -0.42940441705743443, 0.12942894672747557, -0.3784668801032414, -0.36623302074540903, 1.9636781681839237, -0.694293703929343, 0.18243687176223544, 0.44970065303344275, -0.5585085694844554, 0.5781469849286903, -1.478679342255676, -2.2017812855469296, -0.22766449165792724, -0.9850956709230758, 0.06535721379319329, 1.6247637881367891, 0.9388172664094236, 0.5604816763327075, 0.2297458405763916, 0.5705488391936526, -0.5429901589467797, -1.4375484759630257, 1.149625790934575, -1.8706089909902677, 0.6574935076546705, 0.3922469509849665, -0.3283399439671376, -0.7082986794613881, -1.3012155638305742, -0.47344112138941563, 0.025524978856013302, -0.6078471413136215, 0.6221060033789865, -0.8425812105486945, -1.9731018326838081, -2.085182182082291, 0.7211728722787665, 1.5764475887837608, 0.17856892843054062, 0.09394500672765961, -0.838783815812583, -2.0640038711962796, 0.07541148221711562, 0.011988483697282544, 1.156875251344672, -0.32642331073805275, -1.0002773938460705, -0.409558017985458, -1.6432367398217418, -1.458768728092791], \"xaxis\": \"x14\", \"y\": [-0.6489732176465235, -0.41469620685869946, -0.7371821797185605, -0.9768777099594689, -0.22711856500745847, 2.54026166785655, 0.15537859565815373, -0.9775530087225272, 2.1618950609150063, -1.62519664198678, 0.21236468315567575, 1.3459918522282894, 0.08370362006998518, 0.7394987862241378, 0.6539134662590035, -0.7086034819362234, 1.6417074272652397, 0.8369405076533828, -0.1704799982098994, -0.6549938398194295, -0.5483941513527122, -1.0447976323516879, -0.8018209373504784, 0.9465864367131726, 0.6825721074052299, 0.7887445296778326, -0.07546641130273239, 0.9536526696779729, 0.4438010796827428, -2.2370489036955785, -0.6698273819555984, 0.20635471129522778, 2.6020926738257306, 1.0709247935134785, 0.32384649714279573, 0.09885999146630725, -2.619846279753586, -0.46368625253882917, 1.8712323092911936, 0.05486969328773147, -1.1935146053370786, -0.16610251307721524, 0.6384990529938278, 1.4038901310185594, -0.27245345648714625, 0.6216184998596498, -1.2889792680352745, 0.3087510888991206, 0.7360554150652998, -0.5165922648054353, 1.3395981597477955, -0.5252602248023504, 0.6099177946814479, -1.0996073656442549, 2.8542098952108206, -0.8285294637490741, -0.11911381103015203, -1.2557955685428008, 0.20494733090020398, 1.447145307689846, -0.10189582644921229, -2.340645851858345, 0.905048221674501, -3.2847949833595678, 1.1954851366552612, -0.5849358200331003, 0.30759900650876176, -1.4237600566252469, 1.156013455755697, -1.4013371187352321, -1.1940724679311008, 0.6717037121348988, 0.29877179423852096, 0.0735572848097489, -0.9995298211801902, -0.7382077941967837, -0.8081365209550897, 0.2597666777870895, 0.7055084707601808, -2.0317763614359197, 1.0858361132082317, 0.2245567699104668, 0.19531027958986188, 1.7143659929154766, -0.07210747828589123, 0.6727003522455439, -0.10537352910610093, 1.4134671690171892, 0.6044508884083378, 1.0463998481695964, 0.04921068006225297, -0.5367797534585702, -0.4983033200797242, 1.6722949355998922, 0.5433310212695938, -0.31371004745330844, 0.6080594834764896, 0.05958357598335059, -0.9994953363575223, 0.3057815249245013], \"yaxis\": \"y14\"}, {\"line\": {\"color\": \"rgba(128, 128, 128, 1.0)\", \"dash\": \"solid\", \"shape\": \"linear\", \"width\": 1.3}, \"marker\": {\"size\": 2, \"symbol\": \"circle\"}, \"mode\": \"markers\", \"name\": \"D\", \"text\": \"\", \"type\": \"scatter\", \"x\": [-1.1186463499542998, 1.2677912975381758, 0.36076316284766746, -0.594562609277583, -0.4685633922208175, -0.7414270275053735, -1.2620028022058527, -0.2633575322313773, -0.13705740516672574, -0.6779505642675806, -0.2026716055278497, 1.6258578058108586, 0.24708350229743825, 0.6924231043760657, -1.5136756150318582, 0.18387379001212456, -1.0758932407544046, -1.1277833413495375, -0.09007994172368866, 1.7438241639662895, 0.17877381008658313, 0.21997679671829612, 0.43375237351717855, -0.57839905502642, 0.34209577444414135, -0.26366532914873114, 1.0700940451035175, -0.9512143375191747, -0.6850989671874386, 0.21183117412430214, -0.4104742967296816, -1.0890895555885556, 0.36987011373475775, -1.0232701308222056, 0.044981104707034446, -0.0824754843912133, 2.092860328910299, 2.8344786758836196, 0.260552308604172, -0.2458360898438423, -1.2257665509409992, -1.1316510511315512, 0.32548178557719026, 0.6763374540496877, 0.6183684289996768, 0.22458715291167278, -0.10773707471439793, 0.14631716285290056, -0.25856157950527603, 0.3949298005054963, 0.014701924255192494, 0.04254310141261005, -0.3038555542985175, 1.3746376476163982, -1.0525689185942786, 1.8677556254708725, -0.9544443715719576, 0.6250657420707972, -0.6597264515616512, 1.2000128640230874, -1.921474505487477, 0.10359809264203092, 0.14030400767650186, -0.24415105688321234, 0.09908985392907203, 0.11762629422038864, -0.40161956844729146, -0.32560451956022274, -0.2742954646454567, 0.7033588244428957, 1.044708085637379, 1.3432802304882736, -0.48809055516302796, -0.40759577124501833, -0.23367711063773317, 1.0357161154696715, -2.035454205328424, -0.3275881726844608, -0.5365535854449085, 0.5715003149914503, 0.7005392956847408, -0.6098133766978422, 0.13932592576040911, -0.7696519088160988, -0.756068093698991, -2.6222547596454278, -0.47657293861878464, 1.1639948628729075, -1.4642275879391387, -0.38596602153173, -0.5421683648952816, 0.10309907483896115, 0.2639944083236471, 0.09410435510004495, -0.6567099939622915, -0.2203570095662532, -1.881779224440967, 0.41613232309439224, 0.7655415853330867, -1.4245542342590862], \"xaxis\": \"x15\", \"y\": [-0.6489732176465235, -0.41469620685869946, -0.7371821797185605, -0.9768777099594689, -0.22711856500745847, 2.54026166785655, 0.15537859565815373, -0.9775530087225272, 2.1618950609150063, -1.62519664198678, 0.21236468315567575, 1.3459918522282894, 0.08370362006998518, 0.7394987862241378, 0.6539134662590035, -0.7086034819362234, 1.6417074272652397, 0.8369405076533828, -0.1704799982098994, -0.6549938398194295, -0.5483941513527122, -1.0447976323516879, -0.8018209373504784, 0.9465864367131726, 0.6825721074052299, 0.7887445296778326, -0.07546641130273239, 0.9536526696779729, 0.4438010796827428, -2.2370489036955785, -0.6698273819555984, 0.20635471129522778, 2.6020926738257306, 1.0709247935134785, 0.32384649714279573, 0.09885999146630725, -2.619846279753586, -0.46368625253882917, 1.8712323092911936, 0.05486969328773147, -1.1935146053370786, -0.16610251307721524, 0.6384990529938278, 1.4038901310185594, -0.27245345648714625, 0.6216184998596498, -1.2889792680352745, 0.3087510888991206, 0.7360554150652998, -0.5165922648054353, 1.3395981597477955, -0.5252602248023504, 0.6099177946814479, -1.0996073656442549, 2.8542098952108206, -0.8285294637490741, -0.11911381103015203, -1.2557955685428008, 0.20494733090020398, 1.447145307689846, -0.10189582644921229, -2.340645851858345, 0.905048221674501, -3.2847949833595678, 1.1954851366552612, -0.5849358200331003, 0.30759900650876176, -1.4237600566252469, 1.156013455755697, -1.4013371187352321, -1.1940724679311008, 0.6717037121348988, 0.29877179423852096, 0.0735572848097489, -0.9995298211801902, -0.7382077941967837, -0.8081365209550897, 0.2597666777870895, 0.7055084707601808, -2.0317763614359197, 1.0858361132082317, 0.2245567699104668, 0.19531027958986188, 1.7143659929154766, -0.07210747828589123, 0.6727003522455439, -0.10537352910610093, 1.4134671690171892, 0.6044508884083378, 1.0463998481695964, 0.04921068006225297, -0.5367797534585702, -0.4983033200797242, 1.6722949355998922, 0.5433310212695938, -0.31371004745330844, 0.6080594834764896, 0.05958357598335059, -0.9994953363575223, 0.3057815249245013], \"yaxis\": \"y15\"}, {\"histfunc\": \"count\", \"histnorm\": \"\", \"marker\": {\"color\": \"rgba(128, 0, 128, 1.0)\", \"line\": {\"color\": \"#4D5663\", \"width\": 1.3}}, \"name\": \"D\", \"nbinsx\": 10, \"opacity\": 0.8, \"orientation\": \"v\", \"type\": \"histogram\", \"x\": [-0.6489732176465235, -0.41469620685869946, -0.7371821797185605, -0.9768777099594689, -0.22711856500745847, 2.54026166785655, 0.15537859565815373, -0.9775530087225272, 2.1618950609150063, -1.62519664198678, 0.21236468315567575, 1.3459918522282894, 0.08370362006998518, 0.7394987862241378, 0.6539134662590035, -0.7086034819362234, 1.6417074272652397, 0.8369405076533828, -0.1704799982098994, -0.6549938398194295, -0.5483941513527122, -1.0447976323516879, -0.8018209373504784, 0.9465864367131726, 0.6825721074052299, 0.7887445296778326, -0.07546641130273239, 0.9536526696779729, 0.4438010796827428, -2.2370489036955785, -0.6698273819555984, 0.20635471129522778, 2.6020926738257306, 1.0709247935134785, 0.32384649714279573, 0.09885999146630725, -2.619846279753586, -0.46368625253882917, 1.8712323092911936, 0.05486969328773147, -1.1935146053370786, -0.16610251307721524, 0.6384990529938278, 1.4038901310185594, -0.27245345648714625, 0.6216184998596498, -1.2889792680352745, 0.3087510888991206, 0.7360554150652998, -0.5165922648054353, 1.3395981597477955, -0.5252602248023504, 0.6099177946814479, -1.0996073656442549, 2.8542098952108206, -0.8285294637490741, -0.11911381103015203, -1.2557955685428008, 0.20494733090020398, 1.447145307689846, -0.10189582644921229, -2.340645851858345, 0.905048221674501, -3.2847949833595678, 1.1954851366552612, -0.5849358200331003, 0.30759900650876176, -1.4237600566252469, 1.156013455755697, -1.4013371187352321, -1.1940724679311008, 0.6717037121348988, 0.29877179423852096, 0.0735572848097489, -0.9995298211801902, -0.7382077941967837, -0.8081365209550897, 0.2597666777870895, 0.7055084707601808, -2.0317763614359197, 1.0858361132082317, 0.2245567699104668, 0.19531027958986188, 1.7143659929154766, -0.07210747828589123, 0.6727003522455439, -0.10537352910610093, 1.4134671690171892, 0.6044508884083378, 1.0463998481695964, 0.04921068006225297, -0.5367797534585702, -0.4983033200797242, 1.6722949355998922, 0.5433310212695938, -0.31371004745330844, 0.6080594834764896, 0.05958357598335059, -0.9994953363575223, 0.3057815249245013], \"xaxis\": \"x16\", \"yaxis\": \"y16\"}],                        {\"bargap\": 0.02, \"legend\": {\"bgcolor\": \"#F5F6F9\", \"font\": {\"color\": \"#4D5663\"}}, \"paper_bgcolor\": \"#F5F6F9\", \"plot_bgcolor\": \"#F5F6F9\", \"showlegend\": false, \"template\": {\"data\": {\"bar\": [{\"error_x\": {\"color\": \"#2a3f5f\"}, \"error_y\": {\"color\": \"#2a3f5f\"}, \"marker\": {\"line\": {\"color\": \"#E5ECF6\", \"width\": 0.5}}, \"type\": \"bar\"}], \"barpolar\": [{\"marker\": {\"line\": {\"color\": \"#E5ECF6\", \"width\": 0.5}}, \"type\": \"barpolar\"}], \"carpet\": [{\"aaxis\": {\"endlinecolor\": \"#2a3f5f\", \"gridcolor\": \"white\", \"linecolor\": \"white\", \"minorgridcolor\": \"white\", \"startlinecolor\": \"#2a3f5f\"}, \"baxis\": {\"endlinecolor\": \"#2a3f5f\", \"gridcolor\": \"white\", \"linecolor\": \"white\", \"minorgridcolor\": \"white\", \"startlinecolor\": \"#2a3f5f\"}, \"type\": \"carpet\"}], \"choropleth\": [{\"colorbar\": {\"outlinewidth\": 0, \"ticks\": \"\"}, \"type\": \"choropleth\"}], \"contour\": [{\"colorbar\": {\"outlinewidth\": 0, \"ticks\": \"\"}, \"colorscale\": [[0.0, \"#0d0887\"], [0.1111111111111111, \"#46039f\"], [0.2222222222222222, \"#7201a8\"], [0.3333333333333333, \"#9c179e\"], [0.4444444444444444, \"#bd3786\"], [0.5555555555555556, \"#d8576b\"], [0.6666666666666666, \"#ed7953\"], [0.7777777777777778, \"#fb9f3a\"], [0.8888888888888888, \"#fdca26\"], [1.0, \"#f0f921\"]], \"type\": \"contour\"}], \"contourcarpet\": [{\"colorbar\": {\"outlinewidth\": 0, \"ticks\": \"\"}, \"type\": \"contourcarpet\"}], \"heatmap\": [{\"colorbar\": {\"outlinewidth\": 0, \"ticks\": \"\"}, \"colorscale\": [[0.0, \"#0d0887\"], [0.1111111111111111, \"#46039f\"], [0.2222222222222222, \"#7201a8\"], [0.3333333333333333, \"#9c179e\"], [0.4444444444444444, \"#bd3786\"], [0.5555555555555556, \"#d8576b\"], [0.6666666666666666, \"#ed7953\"], [0.7777777777777778, \"#fb9f3a\"], [0.8888888888888888, \"#fdca26\"], [1.0, \"#f0f921\"]], \"type\": \"heatmap\"}], \"heatmapgl\": [{\"colorbar\": {\"outlinewidth\": 0, \"ticks\": \"\"}, \"colorscale\": [[0.0, \"#0d0887\"], [0.1111111111111111, \"#46039f\"], [0.2222222222222222, \"#7201a8\"], [0.3333333333333333, \"#9c179e\"], [0.4444444444444444, \"#bd3786\"], [0.5555555555555556, \"#d8576b\"], [0.6666666666666666, \"#ed7953\"], [0.7777777777777778, \"#fb9f3a\"], [0.8888888888888888, \"#fdca26\"], [1.0, \"#f0f921\"]], \"type\": \"heatmapgl\"}], \"histogram\": [{\"marker\": {\"colorbar\": {\"outlinewidth\": 0, \"ticks\": \"\"}}, \"type\": \"histogram\"}], \"histogram2d\": [{\"colorbar\": {\"outlinewidth\": 0, \"ticks\": \"\"}, \"colorscale\": [[0.0, \"#0d0887\"], [0.1111111111111111, \"#46039f\"], [0.2222222222222222, \"#7201a8\"], [0.3333333333333333, \"#9c179e\"], [0.4444444444444444, \"#bd3786\"], [0.5555555555555556, \"#d8576b\"], [0.6666666666666666, \"#ed7953\"], [0.7777777777777778, \"#fb9f3a\"], [0.8888888888888888, \"#fdca26\"], [1.0, \"#f0f921\"]], \"type\": \"histogram2d\"}], \"histogram2dcontour\": [{\"colorbar\": {\"outlinewidth\": 0, \"ticks\": \"\"}, \"colorscale\": [[0.0, \"#0d0887\"], [0.1111111111111111, \"#46039f\"], [0.2222222222222222, \"#7201a8\"], [0.3333333333333333, \"#9c179e\"], [0.4444444444444444, \"#bd3786\"], [0.5555555555555556, \"#d8576b\"], [0.6666666666666666, \"#ed7953\"], [0.7777777777777778, \"#fb9f3a\"], [0.8888888888888888, \"#fdca26\"], [1.0, \"#f0f921\"]], \"type\": \"histogram2dcontour\"}], \"mesh3d\": [{\"colorbar\": {\"outlinewidth\": 0, \"ticks\": \"\"}, \"type\": \"mesh3d\"}], \"parcoords\": [{\"line\": {\"colorbar\": {\"outlinewidth\": 0, \"ticks\": \"\"}}, \"type\": \"parcoords\"}], \"pie\": [{\"automargin\": true, \"type\": \"pie\"}], \"scatter\": [{\"marker\": {\"colorbar\": {\"outlinewidth\": 0, \"ticks\": \"\"}}, \"type\": \"scatter\"}], \"scatter3d\": [{\"line\": {\"colorbar\": {\"outlinewidth\": 0, \"ticks\": \"\"}}, \"marker\": {\"colorbar\": {\"outlinewidth\": 0, \"ticks\": \"\"}}, \"type\": \"scatter3d\"}], \"scattercarpet\": [{\"marker\": {\"colorbar\": {\"outlinewidth\": 0, \"ticks\": \"\"}}, \"type\": \"scattercarpet\"}], \"scattergeo\": [{\"marker\": {\"colorbar\": {\"outlinewidth\": 0, \"ticks\": \"\"}}, \"type\": \"scattergeo\"}], \"scattergl\": [{\"marker\": {\"colorbar\": {\"outlinewidth\": 0, \"ticks\": \"\"}}, \"type\": \"scattergl\"}], \"scattermapbox\": [{\"marker\": {\"colorbar\": {\"outlinewidth\": 0, \"ticks\": \"\"}}, \"type\": \"scattermapbox\"}], \"scatterpolar\": [{\"marker\": {\"colorbar\": {\"outlinewidth\": 0, \"ticks\": \"\"}}, \"type\": \"scatterpolar\"}], \"scatterpolargl\": [{\"marker\": {\"colorbar\": {\"outlinewidth\": 0, \"ticks\": \"\"}}, \"type\": \"scatterpolargl\"}], \"scatterternary\": [{\"marker\": {\"colorbar\": {\"outlinewidth\": 0, \"ticks\": \"\"}}, \"type\": \"scatterternary\"}], \"surface\": [{\"colorbar\": {\"outlinewidth\": 0, \"ticks\": \"\"}, \"colorscale\": [[0.0, \"#0d0887\"], [0.1111111111111111, \"#46039f\"], [0.2222222222222222, \"#7201a8\"], [0.3333333333333333, \"#9c179e\"], [0.4444444444444444, \"#bd3786\"], [0.5555555555555556, \"#d8576b\"], [0.6666666666666666, \"#ed7953\"], [0.7777777777777778, \"#fb9f3a\"], [0.8888888888888888, \"#fdca26\"], [1.0, \"#f0f921\"]], \"type\": \"surface\"}], \"table\": [{\"cells\": {\"fill\": {\"color\": \"#EBF0F8\"}, \"line\": {\"color\": \"white\"}}, \"header\": {\"fill\": {\"color\": \"#C8D4E3\"}, \"line\": {\"color\": \"white\"}}, \"type\": \"table\"}]}, \"layout\": {\"annotationdefaults\": {\"arrowcolor\": \"#2a3f5f\", \"arrowhead\": 0, \"arrowwidth\": 1}, \"coloraxis\": {\"colorbar\": {\"outlinewidth\": 0, \"ticks\": \"\"}}, \"colorscale\": {\"diverging\": [[0, \"#8e0152\"], [0.1, \"#c51b7d\"], [0.2, \"#de77ae\"], [0.3, \"#f1b6da\"], [0.4, \"#fde0ef\"], [0.5, \"#f7f7f7\"], [0.6, \"#e6f5d0\"], [0.7, \"#b8e186\"], [0.8, \"#7fbc41\"], [0.9, \"#4d9221\"], [1, \"#276419\"]], \"sequential\": [[0.0, \"#0d0887\"], [0.1111111111111111, \"#46039f\"], [0.2222222222222222, \"#7201a8\"], [0.3333333333333333, \"#9c179e\"], [0.4444444444444444, \"#bd3786\"], [0.5555555555555556, \"#d8576b\"], [0.6666666666666666, \"#ed7953\"], [0.7777777777777778, \"#fb9f3a\"], [0.8888888888888888, \"#fdca26\"], [1.0, \"#f0f921\"]], \"sequentialminus\": [[0.0, \"#0d0887\"], [0.1111111111111111, \"#46039f\"], [0.2222222222222222, \"#7201a8\"], [0.3333333333333333, \"#9c179e\"], [0.4444444444444444, \"#bd3786\"], [0.5555555555555556, \"#d8576b\"], [0.6666666666666666, \"#ed7953\"], [0.7777777777777778, \"#fb9f3a\"], [0.8888888888888888, \"#fdca26\"], [1.0, \"#f0f921\"]]}, \"colorway\": [\"#636efa\", \"#EF553B\", \"#00cc96\", \"#ab63fa\", \"#FFA15A\", \"#19d3f3\", \"#FF6692\", \"#B6E880\", \"#FF97FF\", \"#FECB52\"], \"font\": {\"color\": \"#2a3f5f\"}, \"geo\": {\"bgcolor\": \"white\", \"lakecolor\": \"white\", \"landcolor\": \"#E5ECF6\", \"showlakes\": true, \"showland\": true, \"subunitcolor\": \"white\"}, \"hoverlabel\": {\"align\": \"left\"}, \"hovermode\": \"closest\", \"mapbox\": {\"style\": \"light\"}, \"paper_bgcolor\": \"white\", \"plot_bgcolor\": \"#E5ECF6\", \"polar\": {\"angularaxis\": {\"gridcolor\": \"white\", \"linecolor\": \"white\", \"ticks\": \"\"}, \"bgcolor\": \"#E5ECF6\", \"radialaxis\": {\"gridcolor\": \"white\", \"linecolor\": \"white\", \"ticks\": \"\"}}, \"scene\": {\"xaxis\": {\"backgroundcolor\": \"#E5ECF6\", \"gridcolor\": \"white\", \"gridwidth\": 2, \"linecolor\": \"white\", \"showbackground\": true, \"ticks\": \"\", \"zerolinecolor\": \"white\"}, \"yaxis\": {\"backgroundcolor\": \"#E5ECF6\", \"gridcolor\": \"white\", \"gridwidth\": 2, \"linecolor\": \"white\", \"showbackground\": true, \"ticks\": \"\", \"zerolinecolor\": \"white\"}, \"zaxis\": {\"backgroundcolor\": \"#E5ECF6\", \"gridcolor\": \"white\", \"gridwidth\": 2, \"linecolor\": \"white\", \"showbackground\": true, \"ticks\": \"\", \"zerolinecolor\": \"white\"}}, \"shapedefaults\": {\"line\": {\"color\": \"#2a3f5f\"}}, \"ternary\": {\"aaxis\": {\"gridcolor\": \"white\", \"linecolor\": \"white\", \"ticks\": \"\"}, \"baxis\": {\"gridcolor\": \"white\", \"linecolor\": \"white\", \"ticks\": \"\"}, \"bgcolor\": \"#E5ECF6\", \"caxis\": {\"gridcolor\": \"white\", \"linecolor\": \"white\", \"ticks\": \"\"}}, \"title\": {\"x\": 0.05}, \"xaxis\": {\"automargin\": true, \"gridcolor\": \"white\", \"linecolor\": \"white\", \"ticks\": \"\", \"title\": {\"standoff\": 15}, \"zerolinecolor\": \"white\", \"zerolinewidth\": 2}, \"yaxis\": {\"automargin\": true, \"gridcolor\": \"white\", \"linecolor\": \"white\", \"ticks\": \"\", \"title\": {\"standoff\": 15}, \"zerolinecolor\": \"white\", \"zerolinewidth\": 2}}}, \"title\": {\"font\": {\"color\": \"#4D5663\"}}, \"xaxis\": {\"anchor\": \"y\", \"domain\": [0.0, 0.2125], \"gridcolor\": \"#E1E5ED\", \"showgrid\": false, \"tickfont\": {\"color\": \"#4D5663\"}, \"title\": {\"font\": {\"color\": \"#4D5663\"}, \"text\": \"\"}, \"zerolinecolor\": \"#E1E5ED\"}, \"xaxis10\": {\"anchor\": \"y10\", \"domain\": [0.2625, 0.475], \"gridcolor\": \"#E1E5ED\", \"showgrid\": false, \"tickfont\": {\"color\": \"#4D5663\"}, \"title\": {\"font\": {\"color\": \"#4D5663\"}, \"text\": \"\"}, \"zerolinecolor\": \"#E1E5ED\"}, \"xaxis11\": {\"anchor\": \"y11\", \"domain\": [0.525, 0.7375], \"gridcolor\": \"#E1E5ED\", \"showgrid\": false, \"tickfont\": {\"color\": \"#4D5663\"}, \"title\": {\"font\": {\"color\": \"#4D5663\"}, \"text\": \"\"}, \"zerolinecolor\": \"#E1E5ED\"}, \"xaxis12\": {\"anchor\": \"y12\", \"domain\": [0.7875, 1.0], \"gridcolor\": \"#E1E5ED\", \"showgrid\": false, \"tickfont\": {\"color\": \"#4D5663\"}, \"title\": {\"font\": {\"color\": \"#4D5663\"}, \"text\": \"\"}, \"zerolinecolor\": \"#E1E5ED\"}, \"xaxis13\": {\"anchor\": \"y13\", \"domain\": [0.0, 0.2125], \"gridcolor\": \"#E1E5ED\", \"showgrid\": false, \"tickfont\": {\"color\": \"#4D5663\"}, \"title\": {\"font\": {\"color\": \"#4D5663\"}, \"text\": \"\"}, \"zerolinecolor\": \"#E1E5ED\"}, \"xaxis14\": {\"anchor\": \"y14\", \"domain\": [0.2625, 0.475], \"gridcolor\": \"#E1E5ED\", \"showgrid\": false, \"tickfont\": {\"color\": \"#4D5663\"}, \"title\": {\"font\": {\"color\": \"#4D5663\"}, \"text\": \"\"}, \"zerolinecolor\": \"#E1E5ED\"}, \"xaxis15\": {\"anchor\": \"y15\", \"domain\": [0.525, 0.7375], \"gridcolor\": \"#E1E5ED\", \"showgrid\": false, \"tickfont\": {\"color\": \"#4D5663\"}, \"title\": {\"font\": {\"color\": \"#4D5663\"}, \"text\": \"\"}, \"zerolinecolor\": \"#E1E5ED\"}, \"xaxis16\": {\"anchor\": \"y16\", \"domain\": [0.7875, 1.0], \"gridcolor\": \"#E1E5ED\", \"showgrid\": false, \"tickfont\": {\"color\": \"#4D5663\"}, \"title\": {\"font\": {\"color\": \"#4D5663\"}, \"text\": \"\"}, \"zerolinecolor\": \"#E1E5ED\"}, \"xaxis2\": {\"anchor\": \"y2\", \"domain\": [0.2625, 0.475], \"gridcolor\": \"#E1E5ED\", \"showgrid\": false, \"tickfont\": {\"color\": \"#4D5663\"}, \"title\": {\"font\": {\"color\": \"#4D5663\"}, \"text\": \"\"}, \"zerolinecolor\": \"#E1E5ED\"}, \"xaxis3\": {\"anchor\": \"y3\", \"domain\": [0.525, 0.7375], \"gridcolor\": \"#E1E5ED\", \"showgrid\": false, \"tickfont\": {\"color\": \"#4D5663\"}, \"title\": {\"font\": {\"color\": \"#4D5663\"}, \"text\": \"\"}, \"zerolinecolor\": \"#E1E5ED\"}, \"xaxis4\": {\"anchor\": \"y4\", \"domain\": [0.7875, 1.0], \"gridcolor\": \"#E1E5ED\", \"showgrid\": false, \"tickfont\": {\"color\": \"#4D5663\"}, \"title\": {\"font\": {\"color\": \"#4D5663\"}, \"text\": \"\"}, \"zerolinecolor\": \"#E1E5ED\"}, \"xaxis5\": {\"anchor\": \"y5\", \"domain\": [0.0, 0.2125], \"gridcolor\": \"#E1E5ED\", \"showgrid\": false, \"tickfont\": {\"color\": \"#4D5663\"}, \"title\": {\"font\": {\"color\": \"#4D5663\"}, \"text\": \"\"}, \"zerolinecolor\": \"#E1E5ED\"}, \"xaxis6\": {\"anchor\": \"y6\", \"domain\": [0.2625, 0.475], \"gridcolor\": \"#E1E5ED\", \"showgrid\": false, \"tickfont\": {\"color\": \"#4D5663\"}, \"title\": {\"font\": {\"color\": \"#4D5663\"}, \"text\": \"\"}, \"zerolinecolor\": \"#E1E5ED\"}, \"xaxis7\": {\"anchor\": \"y7\", \"domain\": [0.525, 0.7375], \"gridcolor\": \"#E1E5ED\", \"showgrid\": false, \"tickfont\": {\"color\": \"#4D5663\"}, \"title\": {\"font\": {\"color\": \"#4D5663\"}, \"text\": \"\"}, \"zerolinecolor\": \"#E1E5ED\"}, \"xaxis8\": {\"anchor\": \"y8\", \"domain\": [0.7875, 1.0], \"gridcolor\": \"#E1E5ED\", \"showgrid\": false, \"tickfont\": {\"color\": \"#4D5663\"}, \"title\": {\"font\": {\"color\": \"#4D5663\"}, \"text\": \"\"}, \"zerolinecolor\": \"#E1E5ED\"}, \"xaxis9\": {\"anchor\": \"y9\", \"domain\": [0.0, 0.2125], \"gridcolor\": \"#E1E5ED\", \"showgrid\": false, \"tickfont\": {\"color\": \"#4D5663\"}, \"title\": {\"font\": {\"color\": \"#4D5663\"}, \"text\": \"\"}, \"zerolinecolor\": \"#E1E5ED\"}, \"yaxis\": {\"anchor\": \"x\", \"domain\": [0.8025, 1.0], \"gridcolor\": \"#E1E5ED\", \"showgrid\": false, \"tickfont\": {\"color\": \"#4D5663\"}, \"title\": {\"font\": {\"color\": \"#4D5663\"}, \"text\": \"\"}, \"zerolinecolor\": \"#E1E5ED\"}, \"yaxis10\": {\"anchor\": \"x10\", \"domain\": [0.2675, 0.465], \"gridcolor\": \"#E1E5ED\", \"showgrid\": false, \"tickfont\": {\"color\": \"#4D5663\"}, \"title\": {\"font\": {\"color\": \"#4D5663\"}, \"text\": \"\"}, \"zerolinecolor\": \"#E1E5ED\"}, \"yaxis11\": {\"anchor\": \"x11\", \"domain\": [0.2675, 0.465], \"gridcolor\": \"#E1E5ED\", \"showgrid\": false, \"tickfont\": {\"color\": \"#4D5663\"}, \"title\": {\"font\": {\"color\": \"#4D5663\"}, \"text\": \"\"}, \"zerolinecolor\": \"#E1E5ED\"}, \"yaxis12\": {\"anchor\": \"x12\", \"domain\": [0.2675, 0.465], \"gridcolor\": \"#E1E5ED\", \"showgrid\": false, \"tickfont\": {\"color\": \"#4D5663\"}, \"title\": {\"font\": {\"color\": \"#4D5663\"}, \"text\": \"\"}, \"zerolinecolor\": \"#E1E5ED\"}, \"yaxis13\": {\"anchor\": \"x13\", \"domain\": [0.0, 0.1975], \"gridcolor\": \"#E1E5ED\", \"showgrid\": false, \"tickfont\": {\"color\": \"#4D5663\"}, \"title\": {\"font\": {\"color\": \"#4D5663\"}, \"text\": \"\"}, \"zerolinecolor\": \"#E1E5ED\"}, \"yaxis14\": {\"anchor\": \"x14\", \"domain\": [0.0, 0.1975], \"gridcolor\": \"#E1E5ED\", \"showgrid\": false, \"tickfont\": {\"color\": \"#4D5663\"}, \"title\": {\"font\": {\"color\": \"#4D5663\"}, \"text\": \"\"}, \"zerolinecolor\": \"#E1E5ED\"}, \"yaxis15\": {\"anchor\": \"x15\", \"domain\": [0.0, 0.1975], \"gridcolor\": \"#E1E5ED\", \"showgrid\": false, \"tickfont\": {\"color\": \"#4D5663\"}, \"title\": {\"font\": {\"color\": \"#4D5663\"}, \"text\": \"\"}, \"zerolinecolor\": \"#E1E5ED\"}, \"yaxis16\": {\"anchor\": \"x16\", \"domain\": [0.0, 0.1975], \"gridcolor\": \"#E1E5ED\", \"showgrid\": false, \"tickfont\": {\"color\": \"#4D5663\"}, \"title\": {\"font\": {\"color\": \"#4D5663\"}, \"text\": \"\"}, \"zerolinecolor\": \"#E1E5ED\"}, \"yaxis2\": {\"anchor\": \"x2\", \"domain\": [0.8025, 1.0], \"gridcolor\": \"#E1E5ED\", \"showgrid\": false, \"tickfont\": {\"color\": \"#4D5663\"}, \"title\": {\"font\": {\"color\": \"#4D5663\"}, \"text\": \"\"}, \"zerolinecolor\": \"#E1E5ED\"}, \"yaxis3\": {\"anchor\": \"x3\", \"domain\": [0.8025, 1.0], \"gridcolor\": \"#E1E5ED\", \"showgrid\": false, \"tickfont\": {\"color\": \"#4D5663\"}, \"title\": {\"font\": {\"color\": \"#4D5663\"}, \"text\": \"\"}, \"zerolinecolor\": \"#E1E5ED\"}, \"yaxis4\": {\"anchor\": \"x4\", \"domain\": [0.8025, 1.0], \"gridcolor\": \"#E1E5ED\", \"showgrid\": false, \"tickfont\": {\"color\": \"#4D5663\"}, \"title\": {\"font\": {\"color\": \"#4D5663\"}, \"text\": \"\"}, \"zerolinecolor\": \"#E1E5ED\"}, \"yaxis5\": {\"anchor\": \"x5\", \"domain\": [0.535, 0.7325], \"gridcolor\": \"#E1E5ED\", \"showgrid\": false, \"tickfont\": {\"color\": \"#4D5663\"}, \"title\": {\"font\": {\"color\": \"#4D5663\"}, \"text\": \"\"}, \"zerolinecolor\": \"#E1E5ED\"}, \"yaxis6\": {\"anchor\": \"x6\", \"domain\": [0.535, 0.7325], \"gridcolor\": \"#E1E5ED\", \"showgrid\": false, \"tickfont\": {\"color\": \"#4D5663\"}, \"title\": {\"font\": {\"color\": \"#4D5663\"}, \"text\": \"\"}, \"zerolinecolor\": \"#E1E5ED\"}, \"yaxis7\": {\"anchor\": \"x7\", \"domain\": [0.535, 0.7325], \"gridcolor\": \"#E1E5ED\", \"showgrid\": false, \"tickfont\": {\"color\": \"#4D5663\"}, \"title\": {\"font\": {\"color\": \"#4D5663\"}, \"text\": \"\"}, \"zerolinecolor\": \"#E1E5ED\"}, \"yaxis8\": {\"anchor\": \"x8\", \"domain\": [0.535, 0.7325], \"gridcolor\": \"#E1E5ED\", \"showgrid\": false, \"tickfont\": {\"color\": \"#4D5663\"}, \"title\": {\"font\": {\"color\": \"#4D5663\"}, \"text\": \"\"}, \"zerolinecolor\": \"#E1E5ED\"}, \"yaxis9\": {\"anchor\": \"x9\", \"domain\": [0.2675, 0.465], \"gridcolor\": \"#E1E5ED\", \"showgrid\": false, \"tickfont\": {\"color\": \"#4D5663\"}, \"title\": {\"font\": {\"color\": \"#4D5663\"}, \"text\": \"\"}, \"zerolinecolor\": \"#E1E5ED\"}},                        {\"showLink\": true, \"linkText\": \"Export to plot.ly\", \"plotlyServerURL\": \"https://plot.ly\", \"responsive\": true}                    ).then(function(){\n                            \nvar gd = document.getElementById('6d2288ff-517b-4653-aec9-05275264a79e');\nvar x = new MutationObserver(function (mutations, observer) {{\n        var display = window.getComputedStyle(gd).display;\n        if (!display || display === 'none') {{\n            console.log([gd, 'removed!']);\n            Plotly.purge(gd);\n            observer.disconnect();\n        }}\n}});\n\n// Listen for the removal of the full notebook cells\nvar notebookContainer = gd.closest('#notebook-container');\nif (notebookContainer) {{\n    x.observe(notebookContainer, {childList: true});\n}}\n\n// Listen for the clearing of the current output cell\nvar outputEl = gd.closest('.output');\nif (outputEl) {{\n    x.observe(outputEl, {childList: true});\n}}\n\n                        })                };                });            </script>        </div>"
     },
     "metadata": {}
    }
   ],
   "source": [
    "df.scatter_matrix()"
   ]
  },
  {
   "cell_type": "code",
   "execution_count": null,
   "metadata": {},
   "outputs": [],
   "source": []
  }
 ]
}